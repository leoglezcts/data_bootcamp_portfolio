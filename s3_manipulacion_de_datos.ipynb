{
 "cells": [
  {
   "cell_type": "markdown",
   "metadata": {},
   "source": [
    "# Sprint 3. Data Wrangling"
   ]
  },
  {
   "cell_type": "markdown",
   "metadata": {
    "id": "E0vqbgi9ay0H"
   },
   "source": [
    "## Déjame escuchar la música"
   ]
  },
  {
   "cell_type": "markdown",
   "metadata": {
    "id": "fhq_eyov_Zcs"
   },
   "source": [
    "### Contenido <a id='back'></a>\n",
    "\n",
    "* [Introducción](#intro)\n",
    "* [Etapa 1. Descripción de los datos](#data_review)\n",
    "    * [Conclusiones](#data_review_conclusions)\n",
    "* [Etapa 2. Preprocesamiento de datos](#data_preprocessing)\n",
    "    * [2.1 Estilo del encabezado](#header_style)\n",
    "    * [2.2 Valores ausentes](#missing_values)\n",
    "    * [2.3 Duplicados](#duplicates)\n",
    "    * [2.4 Conclusiones](#data_preprocessing_conclusions)\n",
    "* [Etapa 3. Prueba de hipótesis](#hypothesis)\n",
    "    * [3.1 Hipótesis 1: actividad de los usuarios y las usuarias en las dos ciudades](#activity)\n",
    "* [Conclusiones](#end)"
   ]
  },
  {
   "cell_type": "markdown",
   "metadata": {
    "id": "VUC88oWjTJw2"
   },
   "source": [
    "## Introducción <a id='intro'></a>\n",
    "Como analista de datos, tu trabajo consiste en analizar datos para extraer información valiosa y tomar decisiones basadas en ellos. Esto implica diferentes etapas, como la descripción general de los datos, el preprocesamiento y la prueba de hipótesis.\n",
    "\n",
    "Siempre que investigamos, necesitamos formular hipótesis que después podamos probar. A veces aceptamos estas hipótesis; otras veces, las rechazamos. Para tomar las decisiones correctas, una empresa debe ser capaz de entender si está haciendo las suposiciones correctas.\n",
    "\n",
    "En este proyecto, compararás las preferencias musicales de las ciudades de Springfield y Shelbyville. Estudiarás datos reales de transmisión de música online para probar la hipótesis a continuación y comparar el comportamiento de los usuarios y las usuarias de estas dos ciudades.\n",
    "\n",
    "### Objetivo:\n",
    "Prueba la hipótesis:\n",
    "1. La actividad de los usuarios y las usuarias difiere según el día de la semana y dependiendo de la ciudad.\n",
    "\n",
    "\n",
    "### Etapas\n",
    "Los datos del comportamiento del usuario se almacenan en el archivo `/datasets/music_project_en.csv`. No hay ninguna información sobre la calidad de los datos, así que necesitarás examinarlos antes de probar la hipótesis.\n",
    "\n",
    "Primero, evaluarás la calidad de los datos y verás si los problemas son significativos. Entonces, durante el preprocesamiento de datos, tomarás en cuenta los problemas más críticos.\n",
    "\n",
    "Tu proyecto consistirá en tres etapas:\n",
    " 1. Descripción de los datos.\n",
    " 2. Preprocesamiento de datos.\n",
    " 3. Prueba de hipótesis.\n",
    "\n",
    "\n",
    "\n",
    "\n",
    "\n",
    "\n"
   ]
  },
  {
   "cell_type": "markdown",
   "metadata": {
    "id": "hDt6pg-Rw-1U"
   },
   "source": [
    "[Volver a Contenidos](#back)"
   ]
  },
  {
   "cell_type": "markdown",
   "metadata": {
    "id": "Ml1hmfXC_Zcs"
   },
   "source": [
    "## Etapa 1. Descripción de los datos <a id='data_review'></a>\n",
    "\n",
    "Abre los datos y examínalos."
   ]
  },
  {
   "cell_type": "markdown",
   "metadata": {
    "id": "57eAOGIz_Zcs"
   },
   "source": [
    "Necesitarás `pandas`, así que impórtalo."
   ]
  },
  {
   "cell_type": "code",
   "execution_count": 1,
   "metadata": {
    "id": "AXN7PHPN_Zcs"
   },
   "outputs": [],
   "source": [
    "# Importar pandas\n",
    "import pandas as pd\n"
   ]
  },
  {
   "cell_type": "markdown",
   "metadata": {
    "id": "SG23P8tt_Zcs"
   },
   "source": [
    "Lee el archivo `music_project_en.csv` de la carpeta `/datasets/` y guárdalo en la variable `df`:"
   ]
  },
  {
   "cell_type": "code",
   "execution_count": 2,
   "metadata": {
    "id": "fFVu7vqh_Zct"
   },
   "outputs": [],
   "source": [
    "# Leer el archivo y almacenarlo en df\n",
    "df = pd.read_csv('/datasets/music_project_en.csv')"
   ]
  },
  {
   "cell_type": "markdown",
   "metadata": {
    "id": "rDoOMd3uTqnZ"
   },
   "source": [
    "Muestra las 10 primeras filas de la tabla:"
   ]
  },
  {
   "cell_type": "code",
   "execution_count": 3,
   "metadata": {
    "id": "oWTVX3gW_Zct"
   },
   "outputs": [
    {
     "data": {
      "text/html": [
       "<div>\n",
       "<style scoped>\n",
       "    .dataframe tbody tr th:only-of-type {\n",
       "        vertical-align: middle;\n",
       "    }\n",
       "\n",
       "    .dataframe tbody tr th {\n",
       "        vertical-align: top;\n",
       "    }\n",
       "\n",
       "    .dataframe thead th {\n",
       "        text-align: right;\n",
       "    }\n",
       "</style>\n",
       "<table border=\"1\" class=\"dataframe\">\n",
       "  <thead>\n",
       "    <tr style=\"text-align: right;\">\n",
       "      <th></th>\n",
       "      <th>userID</th>\n",
       "      <th>Track</th>\n",
       "      <th>artist</th>\n",
       "      <th>genre</th>\n",
       "      <th>City</th>\n",
       "      <th>time</th>\n",
       "      <th>Day</th>\n",
       "    </tr>\n",
       "  </thead>\n",
       "  <tbody>\n",
       "    <tr>\n",
       "      <th>0</th>\n",
       "      <td>FFB692EC</td>\n",
       "      <td>Kamigata To Boots</td>\n",
       "      <td>The Mass Missile</td>\n",
       "      <td>rock</td>\n",
       "      <td>Shelbyville</td>\n",
       "      <td>20:28:33</td>\n",
       "      <td>Wednesday</td>\n",
       "    </tr>\n",
       "    <tr>\n",
       "      <th>1</th>\n",
       "      <td>55204538</td>\n",
       "      <td>Delayed Because of Accident</td>\n",
       "      <td>Andreas Rönnberg</td>\n",
       "      <td>rock</td>\n",
       "      <td>Springfield</td>\n",
       "      <td>14:07:09</td>\n",
       "      <td>Friday</td>\n",
       "    </tr>\n",
       "    <tr>\n",
       "      <th>2</th>\n",
       "      <td>20EC38</td>\n",
       "      <td>Funiculì funiculà</td>\n",
       "      <td>Mario Lanza</td>\n",
       "      <td>pop</td>\n",
       "      <td>Shelbyville</td>\n",
       "      <td>20:58:07</td>\n",
       "      <td>Wednesday</td>\n",
       "    </tr>\n",
       "    <tr>\n",
       "      <th>3</th>\n",
       "      <td>A3DD03C9</td>\n",
       "      <td>Dragons in the Sunset</td>\n",
       "      <td>Fire + Ice</td>\n",
       "      <td>folk</td>\n",
       "      <td>Shelbyville</td>\n",
       "      <td>08:37:09</td>\n",
       "      <td>Monday</td>\n",
       "    </tr>\n",
       "    <tr>\n",
       "      <th>4</th>\n",
       "      <td>E2DC1FAE</td>\n",
       "      <td>Soul People</td>\n",
       "      <td>Space Echo</td>\n",
       "      <td>dance</td>\n",
       "      <td>Springfield</td>\n",
       "      <td>08:34:34</td>\n",
       "      <td>Monday</td>\n",
       "    </tr>\n",
       "    <tr>\n",
       "      <th>5</th>\n",
       "      <td>842029A1</td>\n",
       "      <td>Chains</td>\n",
       "      <td>Obladaet</td>\n",
       "      <td>rusrap</td>\n",
       "      <td>Shelbyville</td>\n",
       "      <td>13:09:41</td>\n",
       "      <td>Friday</td>\n",
       "    </tr>\n",
       "    <tr>\n",
       "      <th>6</th>\n",
       "      <td>4CB90AA5</td>\n",
       "      <td>True</td>\n",
       "      <td>Roman Messer</td>\n",
       "      <td>dance</td>\n",
       "      <td>Springfield</td>\n",
       "      <td>13:00:07</td>\n",
       "      <td>Wednesday</td>\n",
       "    </tr>\n",
       "    <tr>\n",
       "      <th>7</th>\n",
       "      <td>F03E1C1F</td>\n",
       "      <td>Feeling This Way</td>\n",
       "      <td>Polina Griffith</td>\n",
       "      <td>dance</td>\n",
       "      <td>Springfield</td>\n",
       "      <td>20:47:49</td>\n",
       "      <td>Wednesday</td>\n",
       "    </tr>\n",
       "    <tr>\n",
       "      <th>8</th>\n",
       "      <td>8FA1D3BE</td>\n",
       "      <td>L’estate</td>\n",
       "      <td>Julia Dalia</td>\n",
       "      <td>ruspop</td>\n",
       "      <td>Springfield</td>\n",
       "      <td>09:17:40</td>\n",
       "      <td>Friday</td>\n",
       "    </tr>\n",
       "    <tr>\n",
       "      <th>9</th>\n",
       "      <td>E772D5C0</td>\n",
       "      <td>Pessimist</td>\n",
       "      <td>NaN</td>\n",
       "      <td>dance</td>\n",
       "      <td>Shelbyville</td>\n",
       "      <td>21:20:49</td>\n",
       "      <td>Wednesday</td>\n",
       "    </tr>\n",
       "  </tbody>\n",
       "</table>\n",
       "</div>"
      ],
      "text/plain": [
       "     userID                        Track            artist   genre  \\\n",
       "0  FFB692EC            Kamigata To Boots  The Mass Missile    rock   \n",
       "1  55204538  Delayed Because of Accident  Andreas Rönnberg    rock   \n",
       "2    20EC38            Funiculì funiculà       Mario Lanza     pop   \n",
       "3  A3DD03C9        Dragons in the Sunset        Fire + Ice    folk   \n",
       "4  E2DC1FAE                  Soul People        Space Echo   dance   \n",
       "5  842029A1                       Chains          Obladaet  rusrap   \n",
       "6  4CB90AA5                         True      Roman Messer   dance   \n",
       "7  F03E1C1F             Feeling This Way   Polina Griffith   dance   \n",
       "8  8FA1D3BE                     L’estate       Julia Dalia  ruspop   \n",
       "9  E772D5C0                    Pessimist               NaN   dance   \n",
       "\n",
       "        City        time        Day  \n",
       "0  Shelbyville  20:28:33  Wednesday  \n",
       "1  Springfield  14:07:09     Friday  \n",
       "2  Shelbyville  20:58:07  Wednesday  \n",
       "3  Shelbyville  08:37:09     Monday  \n",
       "4  Springfield  08:34:34     Monday  \n",
       "5  Shelbyville  13:09:41     Friday  \n",
       "6  Springfield  13:00:07  Wednesday  \n",
       "7  Springfield  20:47:49  Wednesday  \n",
       "8  Springfield  09:17:40     Friday  \n",
       "9  Shelbyville  21:20:49  Wednesday  "
      ]
     },
     "execution_count": 3,
     "metadata": {},
     "output_type": "execute_result"
    }
   ],
   "source": [
    "# Obtener las 10 primeras filas de la tabla df\n",
    "df.head(10)\n"
   ]
  },
  {
   "cell_type": "markdown",
   "metadata": {
    "id": "EO73Kwic_Zct"
   },
   "source": [
    "Obtén la información general sobre la tabla con un comando. Conoces el método que muestra la información general que necesitamos."
   ]
  },
  {
   "cell_type": "code",
   "execution_count": 32,
   "metadata": {
    "id": "DSf2kIb-_Zct",
    "scrolled": true
   },
   "outputs": [
    {
     "name": "stdout",
     "output_type": "stream",
     "text": [
      "<class 'pandas.core.frame.DataFrame'>\n",
      "Int64Index: 61253 entries, 0 to 65078\n",
      "Data columns (total 7 columns):\n",
      " #   Column   Non-Null Count  Dtype \n",
      "---  ------   --------------  ----- \n",
      " 0   user_id  61253 non-null  object\n",
      " 1   track    61253 non-null  object\n",
      " 2   artist   61253 non-null  object\n",
      " 3   genre    61253 non-null  object\n",
      " 4   city     61253 non-null  object\n",
      " 5   time     61253 non-null  object\n",
      " 6   day      61253 non-null  object\n",
      "dtypes: object(7)\n",
      "memory usage: 3.7+ MB\n"
     ]
    }
   ],
   "source": [
    "# Obtener la información general sobre nuestros datos\n",
    "df.info()"
   ]
  },
  {
   "cell_type": "markdown",
   "metadata": {
    "id": "TaQ2Iwbr_Zct"
   },
   "source": [
    "Estas son nuestras observaciones sobre la tabla. Contiene siete columnas. Almacenan los mismos tipos de datos: `object`.\n",
    "\n",
    "Según la documentación:\n",
    "- `' userID'`: identificador del usuario o la usuaria;\n",
    "- `'Track'`: título de la canción;\n",
    "- `'artist'`: nombre del artista;\n",
    "- `'genre'`: género de la pista;\n",
    "- `'City'`: ciudad del usuario o la usuaria;\n",
    "- `'time'`: la hora exacta en la que se reprodujo la canción;\n",
    "- `'Day'`: día de la semana.\n",
    "\n",
    "Podemos ver tres problemas con el estilo en los encabezados de la tabla:\n",
    "1. Algunos encabezados están en mayúsculas, otros en minúsculas.\n",
    "2. Hay espacios en algunos encabezados.\n",
    "3. `Detecta el tercer problema por tu cuenta y descríbelo aquí`: La columna userID cuenta con espacios al inicio por lo que complicara su acceso o llamada.\n",
    "\n",
    "\n"
   ]
  },
  {
   "cell_type": "code",
   "execution_count": 5,
   "metadata": {},
   "outputs": [
    {
     "data": {
      "text/plain": [
       "  userID    object\n",
       "Track       object\n",
       "artist      object\n",
       "genre       object\n",
       "  City      object\n",
       "time        object\n",
       "Day         object\n",
       "dtype: object"
      ]
     },
     "execution_count": 5,
     "metadata": {},
     "output_type": "execute_result"
    }
   ],
   "source": [
    "df.dtypes\n"
   ]
  },
  {
   "cell_type": "markdown",
   "metadata": {
    "id": "MCB6-dXG_Zct"
   },
   "source": [
    "### Escribe observaciones de tu parte. Estas son algunas de las preguntas que pueden ser útiles: <a id='data_review_conclusions'></a>\n",
    "\n",
    "`1.   ¿Qué tipo de datos tenemos a nuestra disposición en las filas? ¿Y cómo podemos entender lo que almacenan las columnas?`\n",
    "\n",
    "Todos los tipos de datos que encontramos en el DataFrame son de clase \"object\", lo que generalmente se refiere a cadenas de texto. Sin embargo, es posible que también haya columnas con datos de tipo datetime, que pandas maneja de manera especial para facilitar operaciones con fechas y horas.\n",
    "\n",
    "Las columnas en un DataFrame también se conocen como series, que es otra estructura de datos clave en pandas. Cada una de estas series almacena un conjunto de valores de un mismo tipo de dato (por ejemplo, enteros, cadenas, o fechas), alineados bajo un índice compartido. Las series permiten realizar operaciones vectorizadas y son muy eficientes para manipular grandes volúmenes de datos.\n",
    "\n",
    "\n",
    "`2.   ¿Hay suficientes datos para proporcionar respuestas a nuestra hipótesis o necesitamos más información?`\n",
    "\n",
    "No siempre se pueden probar hipótesis con una sola fuente de información, pero con estos datos basta para poder aceptar o negar parcialmente. \n",
    "\n",
    "`3.   ¿Notaste algún problema en los datos, como valores ausentes, duplicados o tipos de datos incorrectos?`\n",
    "\n",
    "*Las columnas no estaban en formato snake_case.\n",
    "\n",
    "*Existían valores duplicados y nulos.\n",
    "\n",
    "*Los valores duplicados no representan información valiosa por lo que se procedió a eliminarlos."
   ]
  },
  {
   "cell_type": "markdown",
   "metadata": {
    "id": "3eL__vcwViOi"
   },
   "source": [
    "[Volver a Contenidos](#back)"
   ]
  },
  {
   "cell_type": "markdown",
   "metadata": {
    "id": "SjYF6Ub9_Zct"
   },
   "source": [
    "## Etapa 2. Preprocesamiento de datos <a id='data_preprocessing'></a>\n",
    "\n",
    "El objetivo aquí es preparar los datos para que sean analizados.\n",
    "El primer paso es resolver cualquier problema con los encabezados. Luego podemos avanzar a los valores ausentes y duplicados. Empecemos.\n",
    "\n",
    "Corrige el formato en los encabezados de la tabla.\n"
   ]
  },
  {
   "cell_type": "markdown",
   "metadata": {
    "id": "dIaKXr29_Zct"
   },
   "source": [
    "### Estilo del encabezado <a id='header_style'></a>\n",
    "Muestra los encabezados de la tabla (los nombres de las columnas):"
   ]
  },
  {
   "cell_type": "code",
   "execution_count": 6,
   "metadata": {
    "id": "oKOTdF_Q_Zct"
   },
   "outputs": [
    {
     "data": {
      "text/plain": [
       "Index(['  userID', 'Track', 'artist', 'genre', '  City  ', 'time', 'Day'], dtype='object')"
      ]
     },
     "execution_count": 6,
     "metadata": {},
     "output_type": "execute_result"
    }
   ],
   "source": [
    "# Muestra los nombres de las columnas\n",
    "df.columns"
   ]
  },
  {
   "cell_type": "markdown",
   "metadata": {
    "id": "zj5534cv_Zct"
   },
   "source": [
    "Cambia los encabezados de la tabla de acuerdo con las reglas del buen estilo:\n",
    "* Todos los caracteres deben ser minúsculas.\n",
    "* Elimina los espacios.\n",
    "* Si el nombre tiene varias palabras, utiliza snake_case."
   ]
  },
  {
   "cell_type": "markdown",
   "metadata": {
    "id": "Xu0zkfe5zNJe"
   },
   "source": [
    "Anteriormente, aprendiste acerca de la forma automática de cambiar el nombre de las columnas. Vamos a aplicarla ahora. Utiliza el bucle for para iterar sobre los nombres de las columnas y poner todos los caracteres en minúsculas. Cuando hayas terminado, vuelve a mostrar los encabezados de la tabla:"
   ]
  },
  {
   "cell_type": "code",
   "execution_count": 7,
   "metadata": {
    "id": "6I_RwwMhzM4e"
   },
   "outputs": [
    {
     "name": "stdout",
     "output_type": "stream",
     "text": [
      "Index(['userid', 'track', 'artist', 'genre', 'city', 'time', 'day'], dtype='object')\n"
     ]
    }
   ],
   "source": [
    "# Bucle en los encabezados poniendo todo en minúsculas\n",
    "\n",
    "columns = df.columns\n",
    "columns_cleaned = []\n",
    "\n",
    "for x in columns:\n",
    "    x_cleaned =x.strip().lower()\n",
    "    columns_cleaned.append(x_cleaned)\n",
    "\n",
    "df.columns = columns_cleaned\n",
    "    \n",
    "\n",
    "print(df.columns) #comprobación que las coumnas limpias se hayan guardado en el df."
   ]
  },
  {
   "cell_type": "markdown",
   "metadata": {
    "id": "pweIRxjSzPYW"
   },
   "source": [
    "Ahora, utilizando el mismo método, elimina los espacios al principio y al final de los nombres de las columnas e imprime los nombres de las columnas nuevamente:"
   ]
  },
  {
   "cell_type": "code",
   "execution_count": 8,
   "metadata": {
    "id": "vVQXbFyJzSYl"
   },
   "outputs": [],
   "source": [
    "# Bucle en los encabezados eliminando los espacios\n",
    "for x in columns:\n",
    "    x_cleaned =x.strip().lower() #ya se realizó la eliminación de espacios desde el bucle anterior.\n",
    "    columns_cleaned.append(x_cleaned)\n",
    "\n"
   ]
  },
  {
   "cell_type": "markdown",
   "metadata": {
    "id": "yCb8MW1JzURd"
   },
   "source": [
    "Necesitamos aplicar la regla de snake_case a la columna `userid`. Debe ser `user_id`. Cambia el nombre de esta columna y muestra los nombres de todas las columnas cuando hayas terminado."
   ]
  },
  {
   "cell_type": "code",
   "execution_count": 9,
   "metadata": {
    "id": "ISlFqs5y_Zct"
   },
   "outputs": [],
   "source": [
    "# Cambiar el nombre de la columna \"userid\"\n",
    "df = df.rename(columns={'userid': 'user_id'})\n"
   ]
  },
  {
   "cell_type": "markdown",
   "metadata": {
    "id": "1dqbh00J_Zct"
   },
   "source": [
    "Comprueba el resultado. Muestra los encabezados una vez más:"
   ]
  },
  {
   "cell_type": "code",
   "execution_count": 10,
   "metadata": {
    "id": "d4NOAmTW_Zct"
   },
   "outputs": [
    {
     "data": {
      "text/plain": [
       "Index(['user_id', 'track', 'artist', 'genre', 'city', 'time', 'day'], dtype='object')"
      ]
     },
     "execution_count": 10,
     "metadata": {},
     "output_type": "execute_result"
    }
   ],
   "source": [
    "# Comprobar el resultado: la lista de encabezados\n",
    "df.columns\n"
   ]
  },
  {
   "cell_type": "markdown",
   "metadata": {
    "id": "xYJk6ksJVpOl"
   },
   "source": [
    "[Volver a Contenidos](#back)"
   ]
  },
  {
   "cell_type": "markdown",
   "metadata": {
    "id": "5ISfbcfY_Zct"
   },
   "source": [
    "### Valores ausentes <a id='missing_values'></a>\n",
    " Primero, encuentra el número de valores ausentes en la tabla. Debes utilizar dos métodos en una secuencia para obtener el número de valores ausentes."
   ]
  },
  {
   "cell_type": "code",
   "execution_count": 11,
   "metadata": {
    "id": "RskX29qr_Zct"
   },
   "outputs": [
    {
     "data": {
      "text/plain": [
       "user_id       0\n",
       "track      1343\n",
       "artist     7567\n",
       "genre      1198\n",
       "city          0\n",
       "time          0\n",
       "day           0\n",
       "dtype: int64"
      ]
     },
     "execution_count": 11,
     "metadata": {},
     "output_type": "execute_result"
    }
   ],
   "source": [
    "# Calcular el número de valores ausentes\n",
    "df.isnull().sum()"
   ]
  },
  {
   "cell_type": "markdown",
   "metadata": {
    "id": "qubhgnlO_Zct"
   },
   "source": [
    "No todos los valores ausentes afectan a la investigación. Por ejemplo, los valores ausentes en `track` y `artist` no son cruciales. Simplemente puedes reemplazarlos con valores predeterminados como el string `'unknown'` (desconocido).\n",
    "\n",
    "Pero los valores ausentes en `'genre'` pueden afectar la comparación entre las preferencias musicales de Springfield y Shelbyville. En la vida real, sería útil saber las razones por las cuales hay datos ausentes e intentar recuperarlos. Pero no tenemos esa oportunidad en este proyecto. Así que tendrás que:\n",
    "* rellenar estos valores ausentes con un valor predeterminado;\n",
    "* evaluar cuánto podrían afectar los valores ausentes a tus cómputos;"
   ]
  },
  {
   "cell_type": "markdown",
   "metadata": {
    "id": "fSv2laPA_Zct"
   },
   "source": [
    "Reemplazar los valores ausentes en las columnas `'track'`, `'artist'` y `'genre'` con el string `'unknown'`. Como mostramos anteriormente en las lecciones, la mejor forma de hacerlo es crear una lista que almacene los nombres de las columnas donde se necesita el reemplazo. Luego, utiliza esta lista e itera sobre las columnas donde se necesita el reemplazo haciendo el propio reemplazo."
   ]
  },
  {
   "cell_type": "code",
   "execution_count": 12,
   "metadata": {
    "id": "KplB5qWs_Zct"
   },
   "outputs": [],
   "source": [
    "# Bucle en los encabezados reemplazando los valores ausentes con 'unknown'\n",
    "columns_to_replace = ['track', 'artist', 'genre']\n",
    "\n",
    "for column in columns_to_replace:\n",
    "        df[column]= df[column].fillna('unknown')\n",
    "        \n"
   ]
  },
  {
   "cell_type": "markdown",
   "metadata": {
    "id": "Ilsm-MZo_Zct"
   },
   "source": [
    "Ahora comprueba el resultado para asegurarte de que después del reemplazo no haya valores ausentes en el conjunto de datos. Para hacer esto, cuenta los valores ausentes nuevamente."
   ]
  },
  {
   "cell_type": "code",
   "execution_count": 13,
   "metadata": {
    "id": "Tq4nYRX4_Zct"
   },
   "outputs": [
    {
     "data": {
      "text/plain": [
       "user_id    0\n",
       "track      0\n",
       "artist     0\n",
       "genre      0\n",
       "city       0\n",
       "time       0\n",
       "day        0\n",
       "dtype: int64"
      ]
     },
     "execution_count": 13,
     "metadata": {},
     "output_type": "execute_result"
    }
   ],
   "source": [
    "# Contar valores ausentes\n",
    "df.isnull().sum()"
   ]
  },
  {
   "cell_type": "markdown",
   "metadata": {
    "id": "74ZIBmq9VrsK"
   },
   "source": [
    "[Volver a Contenidos](#back)"
   ]
  },
  {
   "cell_type": "markdown",
   "metadata": {
    "id": "BWKRtBJ3_Zct"
   },
   "source": [
    "### Duplicados <a id='duplicates'></a>\n",
    "Encuentra el número de duplicados explícitos en la tabla. Una vez más, debes aplicar dos métodos en una secuencia para obtener la cantidad de duplicados explícitos."
   ]
  },
  {
   "cell_type": "code",
   "execution_count": 14,
   "metadata": {
    "id": "36eES_S0_Zct"
   },
   "outputs": [
    {
     "name": "stdout",
     "output_type": "stream",
     "text": [
      "Número de duplicados explícitos: 3826\n"
     ]
    }
   ],
   "source": [
    "# Contar duplicados explícitos\n",
    "# Identificar duplicados\n",
    "duplicados = df.duplicated()\n",
    "\n",
    "# Contar el número de duplicados\n",
    "numero_duplicados = duplicados.sum()\n",
    "\n",
    "print(f\"Número de duplicados explícitos: {numero_duplicados}\")"
   ]
  },
  {
   "cell_type": "markdown",
   "metadata": {
    "id": "Ot25h6XR_Zct"
   },
   "source": [
    "Ahora, elimina todos los duplicados. Para ello, llama al método que hace exactamente esto."
   ]
  },
  {
   "cell_type": "code",
   "execution_count": 15,
   "metadata": {},
   "outputs": [
    {
     "data": {
      "text/html": [
       "<div>\n",
       "<style scoped>\n",
       "    .dataframe tbody tr th:only-of-type {\n",
       "        vertical-align: middle;\n",
       "    }\n",
       "\n",
       "    .dataframe tbody tr th {\n",
       "        vertical-align: top;\n",
       "    }\n",
       "\n",
       "    .dataframe thead th {\n",
       "        text-align: right;\n",
       "    }\n",
       "</style>\n",
       "<table border=\"1\" class=\"dataframe\">\n",
       "  <thead>\n",
       "    <tr style=\"text-align: right;\">\n",
       "      <th></th>\n",
       "      <th>user_id</th>\n",
       "      <th>track</th>\n",
       "      <th>artist</th>\n",
       "      <th>genre</th>\n",
       "      <th>city</th>\n",
       "      <th>time</th>\n",
       "      <th>day</th>\n",
       "    </tr>\n",
       "  </thead>\n",
       "  <tbody>\n",
       "    <tr>\n",
       "      <th>575</th>\n",
       "      <td>E7F07B46</td>\n",
       "      <td>Crazy</td>\n",
       "      <td>The Manhattans</td>\n",
       "      <td>rnb</td>\n",
       "      <td>Springfield</td>\n",
       "      <td>13:39:46</td>\n",
       "      <td>Monday</td>\n",
       "    </tr>\n",
       "    <tr>\n",
       "      <th>832</th>\n",
       "      <td>7671A47A</td>\n",
       "      <td>Johnny Go!</td>\n",
       "      <td>NikitA</td>\n",
       "      <td>ruspop</td>\n",
       "      <td>Springfield</td>\n",
       "      <td>21:59:33</td>\n",
       "      <td>Wednesday</td>\n",
       "    </tr>\n",
       "    <tr>\n",
       "      <th>1216</th>\n",
       "      <td>69467B01</td>\n",
       "      <td>Change It All</td>\n",
       "      <td>Harrison Storm</td>\n",
       "      <td>singer</td>\n",
       "      <td>Springfield</td>\n",
       "      <td>20:53:06</td>\n",
       "      <td>Wednesday</td>\n",
       "    </tr>\n",
       "    <tr>\n",
       "      <th>1754</th>\n",
       "      <td>13B1A573</td>\n",
       "      <td>Te Adoramos Jesús</td>\n",
       "      <td>Athenas</td>\n",
       "      <td>spiritual</td>\n",
       "      <td>Springfield</td>\n",
       "      <td>13:19:37</td>\n",
       "      <td>Monday</td>\n",
       "    </tr>\n",
       "    <tr>\n",
       "      <th>1964</th>\n",
       "      <td>B24668A0</td>\n",
       "      <td>Mad over You Mashup</td>\n",
       "      <td>Nana Fofie</td>\n",
       "      <td>singer</td>\n",
       "      <td>Springfield</td>\n",
       "      <td>20:36:51</td>\n",
       "      <td>Monday</td>\n",
       "    </tr>\n",
       "    <tr>\n",
       "      <th>...</th>\n",
       "      <td>...</td>\n",
       "      <td>...</td>\n",
       "      <td>...</td>\n",
       "      <td>...</td>\n",
       "      <td>...</td>\n",
       "      <td>...</td>\n",
       "      <td>...</td>\n",
       "    </tr>\n",
       "    <tr>\n",
       "      <th>65042</th>\n",
       "      <td>83E9C8C4</td>\n",
       "      <td>Buddhist Beat</td>\n",
       "      <td>Asian Zen Spa Music Meditation</td>\n",
       "      <td>ambient</td>\n",
       "      <td>Springfield</td>\n",
       "      <td>13:25:29</td>\n",
       "      <td>Monday</td>\n",
       "    </tr>\n",
       "    <tr>\n",
       "      <th>65056</th>\n",
       "      <td>2E25BCD2</td>\n",
       "      <td>Psychobitch</td>\n",
       "      <td>Easter</td>\n",
       "      <td>pop</td>\n",
       "      <td>Springfield</td>\n",
       "      <td>14:53:07</td>\n",
       "      <td>Friday</td>\n",
       "    </tr>\n",
       "    <tr>\n",
       "      <th>65059</th>\n",
       "      <td>F231C47E</td>\n",
       "      <td>All Summer in a Day</td>\n",
       "      <td>VHS Or BETA</td>\n",
       "      <td>electronic</td>\n",
       "      <td>Springfield</td>\n",
       "      <td>20:31:23</td>\n",
       "      <td>Friday</td>\n",
       "    </tr>\n",
       "    <tr>\n",
       "      <th>65067</th>\n",
       "      <td>F1B93F29</td>\n",
       "      <td>Poison Kiss</td>\n",
       "      <td>Centerstone</td>\n",
       "      <td>rock</td>\n",
       "      <td>Shelbyville</td>\n",
       "      <td>22:00:29</td>\n",
       "      <td>Monday</td>\n",
       "    </tr>\n",
       "    <tr>\n",
       "      <th>65069</th>\n",
       "      <td>BE1AAD74</td>\n",
       "      <td>Waterwalk</td>\n",
       "      <td>Eduardo Gonzales</td>\n",
       "      <td>electronic</td>\n",
       "      <td>Springfield</td>\n",
       "      <td>20:38:59</td>\n",
       "      <td>Monday</td>\n",
       "    </tr>\n",
       "  </tbody>\n",
       "</table>\n",
       "<p>3826 rows × 7 columns</p>\n",
       "</div>"
      ],
      "text/plain": [
       "        user_id                track                          artist  \\\n",
       "575    E7F07B46                Crazy                  The Manhattans   \n",
       "832    7671A47A           Johnny Go!                          NikitA   \n",
       "1216   69467B01        Change It All                  Harrison Storm   \n",
       "1754   13B1A573    Te Adoramos Jesús                         Athenas   \n",
       "1964   B24668A0  Mad over You Mashup                      Nana Fofie   \n",
       "...         ...                  ...                             ...   \n",
       "65042  83E9C8C4        Buddhist Beat  Asian Zen Spa Music Meditation   \n",
       "65056  2E25BCD2          Psychobitch                          Easter   \n",
       "65059  F231C47E  All Summer in a Day                     VHS Or BETA   \n",
       "65067  F1B93F29          Poison Kiss                     Centerstone   \n",
       "65069  BE1AAD74            Waterwalk                Eduardo Gonzales   \n",
       "\n",
       "            genre         city      time        day  \n",
       "575           rnb  Springfield  13:39:46     Monday  \n",
       "832        ruspop  Springfield  21:59:33  Wednesday  \n",
       "1216       singer  Springfield  20:53:06  Wednesday  \n",
       "1754    spiritual  Springfield  13:19:37     Monday  \n",
       "1964       singer  Springfield  20:36:51     Monday  \n",
       "...           ...          ...       ...        ...  \n",
       "65042     ambient  Springfield  13:25:29     Monday  \n",
       "65056         pop  Springfield  14:53:07     Friday  \n",
       "65059  electronic  Springfield  20:31:23     Friday  \n",
       "65067        rock  Shelbyville  22:00:29     Monday  \n",
       "65069  electronic  Springfield  20:38:59     Monday  \n",
       "\n",
       "[3826 rows x 7 columns]"
      ]
     },
     "execution_count": 15,
     "metadata": {},
     "output_type": "execute_result"
    }
   ],
   "source": [
    "df[df.duplicated()]"
   ]
  },
  {
   "cell_type": "code",
   "execution_count": 16,
   "metadata": {
    "id": "exFHq6tt_Zct"
   },
   "outputs": [],
   "source": [
    "# Eliminar duplicados explícitos\n",
    "df = df.drop_duplicates()"
   ]
  },
  {
   "cell_type": "markdown",
   "metadata": {
    "id": "Im2YwBEG_Zct"
   },
   "source": [
    "Comprobemos ahora si eliminamos con éxito todos los duplicados. Cuenta los duplicados explícitos una vez más para asegurarte de haberlos eliminado todos:"
   ]
  },
  {
   "cell_type": "code",
   "execution_count": 17,
   "metadata": {
    "id": "-8PuNWQ0_Zct"
   },
   "outputs": [
    {
     "data": {
      "text/plain": [
       "0"
      ]
     },
     "execution_count": 17,
     "metadata": {},
     "output_type": "execute_result"
    }
   ],
   "source": [
    "# Comprobar de nuevo si hay duplicados\n",
    "\n",
    "df.duplicated().sum()"
   ]
  },
  {
   "cell_type": "markdown",
   "metadata": {
    "id": "QlFBsxAr_Zct"
   },
   "source": [
    "Ahora queremos deshacernos de los duplicados implícitos en la columna `genre`. Por ejemplo, el nombre de un género se puede escribir de varias formas. Dichos errores también pueden afectar al resultado."
   ]
  },
  {
   "cell_type": "markdown",
   "metadata": {
    "id": "eSjWwsOh_Zct"
   },
   "source": [
    "Para hacerlo, primero mostremos una lista de nombres de género únicos, ordenados en orden alfabético. Para ello:\n",
    "* Extrae la columna `genre` del DataFrame.\n",
    "* Llama al método que devolverá todos los valores únicos en la columna extraída.\n"
   ]
  },
  {
   "cell_type": "code",
   "execution_count": 18,
   "metadata": {
    "id": "JIUcqzZN_Zct"
   },
   "outputs": [
    {
     "data": {
      "text/plain": [
       "array(['rock', 'pop', 'folk', 'dance', 'rusrap', 'ruspop', 'world',\n",
       "       'electronic', 'unknown', 'alternative', 'children', 'rnb', 'hip',\n",
       "       'jazz', 'postrock', 'latin', 'classical', 'metal', 'reggae',\n",
       "       'triphop', 'blues', 'instrumental', 'rusrock', 'dnb', 'türk',\n",
       "       'post', 'country', 'psychedelic', 'conjazz', 'indie',\n",
       "       'posthardcore', 'local', 'avantgarde', 'punk', 'videogame',\n",
       "       'techno', 'house', 'christmas', 'melodic', 'caucasian',\n",
       "       'reggaeton', 'soundtrack', 'singer', 'ska', 'salsa', 'ambient',\n",
       "       'film', 'western', 'rap', 'beats', \"hard'n'heavy\", 'progmetal',\n",
       "       'minimal', 'tropical', 'contemporary', 'new', 'soul', 'holiday',\n",
       "       'german', 'jpop', 'spiritual', 'urban', 'gospel', 'nujazz',\n",
       "       'folkmetal', 'trance', 'miscellaneous', 'anime', 'hardcore',\n",
       "       'progressive', 'korean', 'numetal', 'vocal', 'estrada', 'tango',\n",
       "       'loungeelectronic', 'classicmetal', 'dubstep', 'club', 'deep',\n",
       "       'southern', 'black', 'folkrock', 'fitness', 'french', 'disco',\n",
       "       'religious', 'hiphop', 'drum', 'extrememetal', 'türkçe',\n",
       "       'experimental', 'easy', 'metalcore', 'modern', 'argentinetango',\n",
       "       'old', 'swing', 'breaks', 'eurofolk', 'stonerrock', 'industrial',\n",
       "       'funk', 'middle', 'variété', 'other', 'adult', 'christian',\n",
       "       'thrash', 'gothic', 'international', 'muslim', 'relax', 'schlager',\n",
       "       'caribbean', 'nu', 'breakbeat', 'comedy', 'chill', 'newage',\n",
       "       'specialty', 'uzbek', 'k-pop', 'balkan', 'chinese', 'meditative',\n",
       "       'dub', 'power', 'death', 'grime', 'arabesk', 'romance', 'flamenco',\n",
       "       'leftfield', 'european', 'tech', 'newwave', 'dancehall', 'mpb',\n",
       "       'piano', 'top', 'bigroom', 'opera', 'celtic', 'tradjazz',\n",
       "       'acoustic', 'epicmetal', 'hip-hop', 'historisch', 'downbeat',\n",
       "       'downtempo', 'africa', 'audiobook', 'jewish', 'sängerportrait',\n",
       "       'deutschrock', 'eastern', 'action', 'future', 'electropop',\n",
       "       'folklore', 'bollywood', 'marschmusik', 'rnr', 'karaoke', 'indian',\n",
       "       'rancheras', 'afrikaans', 'rhythm', 'sound', 'deutschspr', 'trip',\n",
       "       'lovers', 'choral', 'dancepop', 'retro', 'smooth', 'mexican',\n",
       "       'brazilian', 'ïîï', 'mood', 'surf', 'gangsta', 'inspirational',\n",
       "       'idm', 'ethnic', 'bluegrass', 'broadway', 'animated', 'americana',\n",
       "       'karadeniz', 'rockabilly', 'colombian', 'self', 'hop', 'sertanejo',\n",
       "       'japanese', 'canzone', 'lounge', 'sport', 'ragga', 'traditional',\n",
       "       'gitarre', 'frankreich', 'emo', 'laiko', 'cantopop', 'glitch',\n",
       "       'documentary', 'oceania', 'popeurodance', 'dark', 'vi', 'grunge',\n",
       "       'hardstyle', 'samba', 'garage', 'art', 'folktronica', 'entehno',\n",
       "       'mediterranean', 'chamber', 'cuban', 'taraftar', 'gypsy',\n",
       "       'hardtechno', 'shoegazing', 'bossa', 'latino', 'worldbeat',\n",
       "       'malaysian', 'baile', 'ghazal', 'arabic', 'popelectronic', 'acid',\n",
       "       'kayokyoku', 'neoklassik', 'tribal', 'tanzorchester', 'native',\n",
       "       'independent', 'cantautori', 'handsup', 'punjabi', 'synthpop',\n",
       "       'rave', 'französisch', 'quebecois', 'speech', 'soulful', 'jam',\n",
       "       'ram', 'horror', 'orchestral', 'neue', 'roots', 'slow', 'jungle',\n",
       "       'indipop', 'axé', 'fado', 'showtunes', 'arena', 'irish',\n",
       "       'mandopop', 'forró', 'dirty', 'regional'], dtype=object)"
      ]
     },
     "execution_count": 18,
     "metadata": {},
     "output_type": "execute_result"
    }
   ],
   "source": [
    "# Inspeccionar los nombres de géneros únicos\n",
    "df['genre'].unique()\n"
   ]
  },
  {
   "cell_type": "markdown",
   "metadata": {
    "id": "qej-Qmuo_Zct"
   },
   "source": [
    "Busca en la lista para encontrar duplicados implícitos del género `hiphop`. Estos pueden ser nombres escritos incorrectamente o nombres alternativos para el mismo género.\n",
    "\n",
    "Verás los siguientes duplicados implícitos:\n",
    "* `hip`\n",
    "* `hop`\n",
    "* `hip-hop`\n",
    "\n",
    "Para deshacerte de ellos, crea una función llamada `replace_wrong_genres()` con dos parámetros:\n",
    "* `wrong_genres=`: esta es una lista que contiene todos los valores que necesitas reemplazar.\n",
    "* `correct_genre=`: este es un string que vas a utilizar como reemplazo.\n",
    "\n",
    "Como resultado, la función debería corregir los nombres en la columna `'genre'` de la tabla `df`, es decir, remplazar cada valor de la lista `wrong_genres` por el valor en `correct_genre`.\n",
    "\n",
    "Dentro del cuerpo de la función, utiliza un bucle `'for'` para iterar sobre la lista de géneros incorrectos, extrae la columna `'genre'` y aplica el método `replace` para hacer correcciones."
   ]
  },
  {
   "cell_type": "code",
   "execution_count": 19,
   "metadata": {
    "id": "ErNDkmns_Zct"
   },
   "outputs": [],
   "source": [
    "# Función para reemplazar duplicados implícitos\n",
    "def replace_wrong_genres(wrong_genres,correct_genre):\n",
    "        for element in wrong_genres:\n",
    "            df['genre'].replace(element,correct_genre,inplace = True)\n",
    "            \n",
    "            \n",
    "    "
   ]
  },
  {
   "cell_type": "markdown",
   "metadata": {
    "id": "aDoBJxbA_Zct"
   },
   "source": [
    "Ahora, llama a `replace_wrong_genres()` y pásale tales argumentos para que retire los duplicados implícitos (`hip`, `hop` y `hip-hop`) y los reemplace por `hiphop`:"
   ]
  },
  {
   "cell_type": "code",
   "execution_count": 20,
   "metadata": {
    "id": "YN5i2hpmSo09"
   },
   "outputs": [],
   "source": [
    "# Eliminar duplicados implícitos\n",
    "\n",
    "lista_para_cambios = ['hip', 'hop', 'hip-hop']\n",
    "cambio = 'hiphop'\n",
    "\n",
    "\n",
    "replace_wrong_genres(lista_para_cambios,cambio)\n"
   ]
  },
  {
   "cell_type": "markdown",
   "metadata": {
    "id": "zQKF16_RG15m"
   },
   "source": [
    "Asegúrate de que los nombres duplicados han sido eliminados. Muestra la lista de valores únicos de la columna `'genre'` una vez más:"
   ]
  },
  {
   "cell_type": "code",
   "execution_count": 21,
   "metadata": {
    "id": "wvixALnFG15m"
   },
   "outputs": [
    {
     "data": {
      "text/plain": [
       "array(['acid', 'acoustic', 'action', 'adult', 'africa', 'afrikaans',\n",
       "       'alternative', 'ambient', 'americana', 'animated', 'anime',\n",
       "       'arabesk', 'arabic', 'arena', 'argentinetango', 'art', 'audiobook',\n",
       "       'avantgarde', 'axé', 'baile', 'balkan', 'beats', 'bigroom',\n",
       "       'black', 'bluegrass', 'blues', 'bollywood', 'bossa', 'brazilian',\n",
       "       'breakbeat', 'breaks', 'broadway', 'cantautori', 'cantopop',\n",
       "       'canzone', 'caribbean', 'caucasian', 'celtic', 'chamber',\n",
       "       'children', 'chill', 'chinese', 'choral', 'christian', 'christmas',\n",
       "       'classical', 'classicmetal', 'club', 'colombian', 'comedy',\n",
       "       'conjazz', 'contemporary', 'country', 'cuban', 'dance',\n",
       "       'dancehall', 'dancepop', 'dark', 'death', 'deep', 'deutschrock',\n",
       "       'deutschspr', 'dirty', 'disco', 'dnb', 'documentary', 'downbeat',\n",
       "       'downtempo', 'drum', 'dub', 'dubstep', 'eastern', 'easy',\n",
       "       'electronic', 'electropop', 'emo', 'entehno', 'epicmetal',\n",
       "       'estrada', 'ethnic', 'eurofolk', 'european', 'experimental',\n",
       "       'extrememetal', 'fado', 'film', 'fitness', 'flamenco', 'folk',\n",
       "       'folklore', 'folkmetal', 'folkrock', 'folktronica', 'forró',\n",
       "       'frankreich', 'französisch', 'french', 'funk', 'future', 'gangsta',\n",
       "       'garage', 'german', 'ghazal', 'gitarre', 'glitch', 'gospel',\n",
       "       'gothic', 'grime', 'grunge', 'gypsy', 'handsup', \"hard'n'heavy\",\n",
       "       'hardcore', 'hardstyle', 'hardtechno', 'hiphop', 'historisch',\n",
       "       'holiday', 'horror', 'house', 'idm', 'independent', 'indian',\n",
       "       'indie', 'indipop', 'industrial', 'inspirational', 'instrumental',\n",
       "       'international', 'irish', 'jam', 'japanese', 'jazz', 'jewish',\n",
       "       'jpop', 'jungle', 'k-pop', 'karadeniz', 'karaoke', 'kayokyoku',\n",
       "       'korean', 'laiko', 'latin', 'latino', 'leftfield', 'local',\n",
       "       'lounge', 'loungeelectronic', 'lovers', 'malaysian', 'mandopop',\n",
       "       'marschmusik', 'meditative', 'mediterranean', 'melodic', 'metal',\n",
       "       'metalcore', 'mexican', 'middle', 'minimal', 'miscellaneous',\n",
       "       'modern', 'mood', 'mpb', 'muslim', 'native', 'neoklassik', 'neue',\n",
       "       'new', 'newage', 'newwave', 'nu', 'nujazz', 'numetal', 'oceania',\n",
       "       'old', 'opera', 'orchestral', 'other', 'piano', 'pop',\n",
       "       'popelectronic', 'popeurodance', 'post', 'posthardcore',\n",
       "       'postrock', 'power', 'progmetal', 'progressive', 'psychedelic',\n",
       "       'punjabi', 'punk', 'quebecois', 'ragga', 'ram', 'rancheras', 'rap',\n",
       "       'rave', 'reggae', 'reggaeton', 'regional', 'relax', 'religious',\n",
       "       'retro', 'rhythm', 'rnb', 'rnr', 'rock', 'rockabilly', 'romance',\n",
       "       'roots', 'ruspop', 'rusrap', 'rusrock', 'salsa', 'samba',\n",
       "       'schlager', 'self', 'sertanejo', 'shoegazing', 'showtunes',\n",
       "       'singer', 'ska', 'slow', 'smooth', 'soul', 'soulful', 'sound',\n",
       "       'soundtrack', 'southern', 'specialty', 'speech', 'spiritual',\n",
       "       'sport', 'stonerrock', 'surf', 'swing', 'synthpop',\n",
       "       'sängerportrait', 'tango', 'tanzorchester', 'taraftar', 'tech',\n",
       "       'techno', 'thrash', 'top', 'traditional', 'tradjazz', 'trance',\n",
       "       'tribal', 'trip', 'triphop', 'tropical', 'türk', 'türkçe',\n",
       "       'unknown', 'urban', 'uzbek', 'variété', 'vi', 'videogame', 'vocal',\n",
       "       'western', 'world', 'worldbeat', 'ïîï'], dtype=object)"
      ]
     },
     "execution_count": 21,
     "metadata": {},
     "output_type": "execute_result"
    }
   ],
   "source": [
    "# Comprobación de duplicados implícitos\n",
    "df['genre'].sort_values().unique()"
   ]
  },
  {
   "cell_type": "markdown",
   "metadata": {
    "id": "ALgNbvF3VtPA"
   },
   "source": [
    "[Volver a Contenidos](#back)"
   ]
  },
  {
   "cell_type": "markdown",
   "metadata": {
    "id": "jz6a9-7HQUDd"
   },
   "source": [
    "### Tus observaciones <a id='data_preprocessing_conclusions'></a>\n",
    "\n",
    "`Describe brevemente lo que has notado al analizar duplicados, cómo abordaste sus eliminaciones y qué resultados obtuviste.`\n",
    "\n",
    "\"No se encontró ninguna anomalía en los registros del dataset que impidiera el avance de la investigación al eliminar los registros duplicados, por lo que procedí a eliminarlos\"."
   ]
  },
  {
   "cell_type": "markdown",
   "metadata": {
    "id": "eK1es74rVujj"
   },
   "source": [
    "[Volver a Contenidos](#back)"
   ]
  },
  {
   "cell_type": "markdown",
   "metadata": {
    "id": "WttZHXH0SqKk"
   },
   "source": [
    "## Etapa 3. Prueba de hipótesis <a id='hypothesis'></a>"
   ]
  },
  {
   "cell_type": "markdown",
   "metadata": {
    "id": "Im936VVi_Zcu"
   },
   "source": [
    "### Hipótesis: comparar el comportamiento del usuario o la usuaria en las dos ciudades <a id='activity'></a>"
   ]
  },
  {
   "cell_type": "markdown",
   "metadata": {
    "id": "nwt_MuaL_Zcu"
   },
   "source": [
    "La hipótesis afirma que existen diferencias en la forma en que los usuarios y las usuarias de Springfield y Shelbyville consumen música. Para comprobar esto, usa los datos de tres días de la semana: lunes, miércoles y viernes.\n",
    "\n",
    "* Agrupa a los usuarios y las usuarias por ciudad.\n",
    "* Compara el número de canciones que cada grupo reprodujo el lunes, el miércoles y el viernes.\n"
   ]
  },
  {
   "cell_type": "markdown",
   "metadata": {
    "id": "8Dw_YMmT_Zcu"
   },
   "source": [
    "Realiza cada cálculo por separado.\n",
    "\n",
    "El primer paso es evaluar la actividad del usuario en cada ciudad. Recuerda las etapas dividir-aplicar-combinar de las que hablamos anteriormente en la lección. Tu objetivo ahora es agrupar los datos por ciudad, aplicar el método apropiado para contar durante la etapa de aplicación y luego encontrar la cantidad de canciones reproducidas en cada grupo especificando la columna para obtener el recuento.\n",
    "\n",
    "A continuación se muestra un ejemplo de cómo debería verse el resultado final:\n",
    "`df.groupby(by='....')['column'].method()`Realiza cada cálculo por separado.\n",
    "\n",
    "Para evaluar la actividad de los usuarios y las usuarias en cada ciudad, agrupa los datos por ciudad y encuentra la cantidad de canciones reproducidas en cada grupo.\n",
    "\n"
   ]
  },
  {
   "cell_type": "code",
   "execution_count": 22,
   "metadata": {
    "id": "0_Qs96oh_Zcu"
   },
   "outputs": [
    {
     "data": {
      "text/plain": [
       "city\n",
       "Shelbyville    18512\n",
       "Springfield    42741\n",
       "Name: track, dtype: int64"
      ]
     },
     "execution_count": 22,
     "metadata": {},
     "output_type": "execute_result"
    }
   ],
   "source": [
    "# Contar las canciones reproducidas en cada ciudad\n",
    "df.groupby ('city')['track'].count()"
   ]
  },
  {
   "cell_type": "markdown",
   "metadata": {
    "id": "t_Qx-3NewAnK"
   },
   "source": [
    "`Comenta tus observaciones aquí`\n",
    "\n",
    "Springfield tuvo más oyentes que Shelbyville"
   ]
  },
  {
   "cell_type": "markdown",
   "metadata": {
    "id": "dzli3w8o_Zcu"
   },
   "source": [
    "Ahora agrupemos los datos por día de la semana y encontremos el número de canciones reproducidas el lunes, miércoles y viernes. Utiliza el mismo método que antes, pero ahora necesitamos una agrupación diferente.\n"
   ]
  },
  {
   "cell_type": "code",
   "execution_count": 23,
   "metadata": {
    "id": "uZMKjiJz_Zcu"
   },
   "outputs": [
    {
     "data": {
      "text/plain": [
       "day\n",
       "Friday       21840\n",
       "Monday       21354\n",
       "Wednesday    18059\n",
       "Name: track, dtype: int64"
      ]
     },
     "execution_count": 23,
     "metadata": {},
     "output_type": "execute_result"
    }
   ],
   "source": [
    "# Calcular las canciones reproducidas en cada uno de los tres días\n",
    "df.groupby ('day')['track'].count()\n"
   ]
  },
  {
   "cell_type": "markdown",
   "metadata": {
    "id": "cC2tNrlL_Zcu"
   },
   "source": [
    "`Comenta tus observaciones aquí`\n",
    "El viernes es el día en el que hay más oyentes, seguido por el día lunes y por último el miércoles es el día con menos oyentes."
   ]
  },
  {
   "cell_type": "markdown",
   "metadata": {
    "id": "POzs8bGa_Zcu"
   },
   "source": [
    "Ya sabes cómo contar entradas agrupándolas por ciudad o día. Ahora necesitas escribir una función que pueda contar entradas según ambos criterios simultáneamente.\n",
    "\n",
    "Crea la función `number_tracks()` para calcular el número de canciones reproducidas en un determinado día **y** ciudad. La función debe aceptar dos parámetros:\n",
    "\n",
    "- `day`: un día de la semana para filtrar. Por ejemplo, `'Monday'` (lunes).\n",
    "- `city`: una ciudad para filtrar. Por ejemplo, `'Springfield'`.\n",
    "\n",
    "Dentro de la función, aplicarás un filtrado consecutivo con indexación lógica.\n",
    "\n",
    "Primero filtra los datos por día y luego filtra la tabla resultante por ciudad.\n",
    "\n",
    "Después de filtrar los datos por dos criterios, cuenta el número de valores de la columna 'user_id' en la tabla resultante. Este recuento representa el número de entradas que estás buscando. Guarda el resultado en una nueva variable y devuélvelo desde la función."
   ]
  },
  {
   "cell_type": "code",
   "execution_count": 24,
   "metadata": {
    "id": "Nz3GdQB1_Zcu"
   },
   "outputs": [],
   "source": [
    "# Declara la función number_tracks() con dos parámetros: day y city\n",
    "def number_tracks(df, day, city):\n",
    "\n",
    "    # Almacena las filas del DataFrame donde el valor en la columna 'day' es igual al parámetro day\n",
    "    day_filter = df[df['day'] == day]\n",
    "    \n",
    "    # Filtra las filas donde el valor en la columna 'city' es igual al parámetro city\n",
    "    city_filter = day_filter[day_filter['city'] == city]\n",
    "\n",
    "    # Extrae la columna 'user_id' de la tabla filtrada por día y ciudad, y aplica el método count()\n",
    "    result = city_filter['user_id'].count()\n",
    "\n",
    "    # Devuelve el número de valores de la columna 'user_id'\n",
    "    return result"
   ]
  },
  {
   "cell_type": "markdown",
   "metadata": {
    "id": "ytf7xFrFJQ2r"
   },
   "source": [
    "Llama a `number_tracks()` seis veces, cambiando los valores de los parámetros para que recuperes los datos de ambas ciudades para cada uno de los tres días."
   ]
  },
  {
   "cell_type": "code",
   "execution_count": 25,
   "metadata": {},
   "outputs": [
    {
     "data": {
      "text/plain": [
       "array(['Wednesday', 'Friday', 'Monday'], dtype=object)"
      ]
     },
     "execution_count": 25,
     "metadata": {},
     "output_type": "execute_result"
    }
   ],
   "source": [
    "df['day'].unique() #Los valores de 'day' están en inglés"
   ]
  },
  {
   "cell_type": "code",
   "execution_count": 26,
   "metadata": {
    "id": "rJcRATNQ_Zcu"
   },
   "outputs": [
    {
     "data": {
      "text/plain": [
       "15740"
      ]
     },
     "execution_count": 26,
     "metadata": {},
     "output_type": "execute_result"
    }
   ],
   "source": [
    "# El número de canciones reproducidas en Springfield el lunes\n",
    "number_tracks(df,'Monday','Springfield')"
   ]
  },
  {
   "cell_type": "code",
   "execution_count": 27,
   "metadata": {
    "id": "hq_ncZ5T_Zcu"
   },
   "outputs": [
    {
     "data": {
      "text/plain": [
       "5614"
      ]
     },
     "execution_count": 27,
     "metadata": {},
     "output_type": "execute_result"
    }
   ],
   "source": [
    "# El número de canciones reproducidas en Shelbyville el lunes\n",
    "number_tracks(df,'Monday','Shelbyville')"
   ]
  },
  {
   "cell_type": "code",
   "execution_count": 28,
   "metadata": {
    "id": "_NTy2VPU_Zcu"
   },
   "outputs": [
    {
     "data": {
      "text/plain": [
       "11056"
      ]
     },
     "execution_count": 28,
     "metadata": {},
     "output_type": "execute_result"
    }
   ],
   "source": [
    "# El número de canciones reproducidas en Springfield el miércoles\n",
    "number_tracks(df,'Wednesday','Springfield')"
   ]
  },
  {
   "cell_type": "code",
   "execution_count": 29,
   "metadata": {
    "id": "j2y3TAwo_Zcu"
   },
   "outputs": [
    {
     "data": {
      "text/plain": [
       "7003"
      ]
     },
     "execution_count": 29,
     "metadata": {},
     "output_type": "execute_result"
    }
   ],
   "source": [
    "# El número de canciones reproducidas en Shelbyville el miércoles\n",
    "number_tracks(df,'Wednesday','Shelbyville')"
   ]
  },
  {
   "cell_type": "code",
   "execution_count": 30,
   "metadata": {
    "id": "vYDw5u_K_Zcu"
   },
   "outputs": [
    {
     "data": {
      "text/plain": [
       "15945"
      ]
     },
     "execution_count": 30,
     "metadata": {},
     "output_type": "execute_result"
    }
   ],
   "source": [
    "# El número de canciones reproducidas en Springfield el viernes\n",
    "number_tracks(df,'Friday','Springfield')"
   ]
  },
  {
   "cell_type": "code",
   "execution_count": 31,
   "metadata": {
    "id": "8_yzFtW3_Zcu",
    "scrolled": true
   },
   "outputs": [
    {
     "data": {
      "text/plain": [
       "5895"
      ]
     },
     "execution_count": 31,
     "metadata": {},
     "output_type": "execute_result"
    }
   ],
   "source": [
    "# El número de canciones reproducidas en Shelbyville el viernes\n",
    "number_tracks(df,'Friday','Shelbyville')"
   ]
  },
  {
   "cell_type": "markdown",
   "metadata": {
    "id": "-EgPIHYu_Zcu"
   },
   "source": [
    "**Conclusiones**\n",
    "\n",
    "`Comenta si la hipótesis es correcta o se debe rechazar. Explica tu razonamiento.`\n",
    "\n",
    "La hipotesis es parcialmente correcta, el día y la ciudad varían sobre la actividad de los usuarios."
   ]
  },
  {
   "cell_type": "markdown",
   "metadata": {
    "id": "p7nFQajCVw5B"
   },
   "source": [
    "[Volver a Contenidos](#back)"
   ]
  },
  {
   "cell_type": "markdown",
   "metadata": {},
   "source": [
    "----"
   ]
  },
  {
   "cell_type": "markdown",
   "metadata": {
    "id": "ykKQ0N65_Zcv"
   },
   "source": [
    "# Conclusiones <a id='end'></a>"
   ]
  },
  {
   "cell_type": "markdown",
   "metadata": {
    "id": "tjUwbHb3_Zcv"
   },
   "source": [
    "`Resume aquí tus conclusiones sobre la hipótesis.`\n",
    "\n",
    "Necesitamos mas información para comprobar la hipótesis, o al menos utilizar un método estadístico para tener una mayor certeza sobre lo que estamos afirmando o negando, sin embargo, con la información de este análisis podemos aceptar parcialmente la hipótesis."
   ]
  },
  {
   "cell_type": "markdown",
   "metadata": {
    "id": "Ju4AHDSgV1FE"
   },
   "source": [
    "[Volver a Contenidos](#back)"
   ]
  },
  {
   "cell_type": "markdown",
   "metadata": {},
   "source": [
    "----"
   ]
  }
 ],
 "metadata": {
  "ExecuteTimeLog": [
   {
    "duration": 286,
    "start_time": "2024-09-26T02:51:15.161Z"
   },
   {
    "duration": 4,
    "start_time": "2024-09-26T02:52:04.409Z"
   },
   {
    "duration": 4,
    "start_time": "2024-09-26T02:52:15.199Z"
   },
   {
    "duration": 2,
    "start_time": "2024-09-26T02:52:18.428Z"
   },
   {
    "duration": 132,
    "start_time": "2024-09-26T02:52:29.686Z"
   },
   {
    "duration": 177,
    "start_time": "2024-09-26T02:52:48.340Z"
   },
   {
    "duration": 94,
    "start_time": "2024-09-26T02:53:06.959Z"
   },
   {
    "duration": 8,
    "start_time": "2024-09-26T02:53:10.807Z"
   },
   {
    "duration": 7,
    "start_time": "2024-09-26T02:53:28.401Z"
   },
   {
    "duration": 13,
    "start_time": "2024-09-26T03:03:14.922Z"
   },
   {
    "duration": 20,
    "start_time": "2024-09-26T03:03:31.198Z"
   },
   {
    "duration": 14,
    "start_time": "2024-09-26T03:10:10.725Z"
   },
   {
    "duration": 4,
    "start_time": "2024-09-26T03:10:17.669Z"
   },
   {
    "duration": 14,
    "start_time": "2024-09-26T03:23:15.452Z"
   },
   {
    "duration": 4,
    "start_time": "2024-09-26T03:23:27.119Z"
   },
   {
    "duration": 8,
    "start_time": "2024-09-27T00:31:21.431Z"
   },
   {
    "duration": 151,
    "start_time": "2024-09-27T00:31:31.626Z"
   },
   {
    "duration": 14,
    "start_time": "2024-09-27T00:31:47.635Z"
   },
   {
    "duration": 14,
    "start_time": "2024-09-27T00:32:16.758Z"
   },
   {
    "duration": 12,
    "start_time": "2024-09-27T00:32:27.209Z"
   },
   {
    "duration": 13,
    "start_time": "2024-09-27T00:33:34.351Z"
   },
   {
    "duration": 11,
    "start_time": "2024-09-27T00:33:46.335Z"
   },
   {
    "duration": 12,
    "start_time": "2024-09-27T00:33:56.085Z"
   },
   {
    "duration": 291,
    "start_time": "2024-09-27T00:34:00.567Z"
   },
   {
    "duration": 121,
    "start_time": "2024-09-27T00:34:02.901Z"
   },
   {
    "duration": 11,
    "start_time": "2024-09-27T00:34:05.038Z"
   },
   {
    "duration": 7,
    "start_time": "2024-09-27T00:34:07.917Z"
   },
   {
    "duration": 18,
    "start_time": "2024-09-27T00:34:10.350Z"
   },
   {
    "duration": 3,
    "start_time": "2024-09-27T00:34:13.606Z"
   },
   {
    "duration": 3,
    "start_time": "2024-09-27T00:34:16.484Z"
   },
   {
    "duration": 3,
    "start_time": "2024-09-27T00:34:24.661Z"
   },
   {
    "duration": 3,
    "start_time": "2024-09-27T00:35:39.272Z"
   },
   {
    "duration": 6,
    "start_time": "2024-09-27T00:35:49.587Z"
   },
   {
    "duration": 7,
    "start_time": "2024-09-27T00:36:54.402Z"
   },
   {
    "duration": 7,
    "start_time": "2024-09-27T00:37:00.415Z"
   },
   {
    "duration": 4,
    "start_time": "2024-09-27T00:37:16.616Z"
   },
   {
    "duration": 4,
    "start_time": "2024-09-27T00:37:55.844Z"
   },
   {
    "duration": 6,
    "start_time": "2024-09-27T00:39:06.450Z"
   },
   {
    "duration": 8,
    "start_time": "2024-09-27T00:39:44.449Z"
   },
   {
    "duration": 4,
    "start_time": "2024-09-27T00:39:59.878Z"
   },
   {
    "duration": 4,
    "start_time": "2024-09-27T00:40:01.754Z"
   },
   {
    "duration": 36,
    "start_time": "2024-09-27T00:40:10.246Z"
   },
   {
    "duration": 6,
    "start_time": "2024-09-27T00:40:13.530Z"
   },
   {
    "duration": 16,
    "start_time": "2024-09-27T00:40:33.978Z"
   },
   {
    "duration": 5,
    "start_time": "2024-09-27T00:41:54.087Z"
   },
   {
    "duration": 8,
    "start_time": "2024-09-27T00:47:50.612Z"
   },
   {
    "duration": 8,
    "start_time": "2024-09-27T00:48:06.240Z"
   },
   {
    "duration": 4,
    "start_time": "2024-09-27T00:48:09.546Z"
   },
   {
    "duration": 19,
    "start_time": "2024-09-27T00:48:52.681Z"
   },
   {
    "duration": 14,
    "start_time": "2024-09-27T00:51:26.561Z"
   },
   {
    "duration": 13,
    "start_time": "2024-09-27T00:51:37.029Z"
   },
   {
    "duration": 13,
    "start_time": "2024-09-27T00:51:49.313Z"
   },
   {
    "duration": 13,
    "start_time": "2024-09-27T01:00:16.749Z"
   },
   {
    "duration": 14,
    "start_time": "2024-09-27T01:00:42.441Z"
   },
   {
    "duration": 26,
    "start_time": "2024-09-27T01:01:09.641Z"
   },
   {
    "duration": 30,
    "start_time": "2024-09-27T01:01:47.158Z"
   },
   {
    "duration": 11,
    "start_time": "2024-09-27T01:02:17.646Z"
   },
   {
    "duration": 19,
    "start_time": "2024-09-27T01:02:24.500Z"
   },
   {
    "duration": 6,
    "start_time": "2024-09-27T01:03:29.812Z"
   },
   {
    "duration": 485,
    "start_time": "2024-09-27T01:04:33.620Z"
   },
   {
    "duration": 48,
    "start_time": "2024-09-27T01:04:59.619Z"
   },
   {
    "duration": 62,
    "start_time": "2024-09-27T01:05:24.519Z"
   },
   {
    "duration": 43,
    "start_time": "2024-09-27T01:06:13.329Z"
   },
   {
    "duration": 13,
    "start_time": "2024-09-27T01:06:47.184Z"
   },
   {
    "duration": 51,
    "start_time": "2024-09-27T01:06:52.372Z"
   },
   {
    "duration": 50,
    "start_time": "2024-09-27T01:07:18.909Z"
   },
   {
    "duration": 61,
    "start_time": "2024-09-27T01:07:26.422Z"
   },
   {
    "duration": 232,
    "start_time": "2024-09-27T01:07:38.667Z"
   },
   {
    "duration": 53,
    "start_time": "2024-09-27T01:11:25.374Z"
   },
   {
    "duration": 51,
    "start_time": "2024-09-27T01:11:38.772Z"
   },
   {
    "duration": 42,
    "start_time": "2024-09-27T01:11:51.212Z"
   },
   {
    "duration": 52,
    "start_time": "2024-09-27T01:15:48.238Z"
   },
   {
    "duration": 43,
    "start_time": "2024-09-27T01:15:52.104Z"
   },
   {
    "duration": 86,
    "start_time": "2024-09-27T01:16:16.686Z"
   },
   {
    "duration": 5,
    "start_time": "2024-09-27T01:19:16.698Z"
   },
   {
    "duration": 6,
    "start_time": "2024-09-27T01:19:24.170Z"
   },
   {
    "duration": 5,
    "start_time": "2024-09-27T01:19:25.345Z"
   },
   {
    "duration": 7,
    "start_time": "2024-09-27T01:19:37.264Z"
   },
   {
    "duration": 80,
    "start_time": "2024-09-27T01:24:22.858Z"
   },
   {
    "duration": 46,
    "start_time": "2024-09-27T01:24:32.662Z"
   },
   {
    "duration": 43,
    "start_time": "2024-09-27T01:24:34.298Z"
   },
   {
    "duration": 42,
    "start_time": "2024-09-27T01:24:36.058Z"
   },
   {
    "duration": 4,
    "start_time": "2024-09-27T01:33:43.987Z"
   },
   {
    "duration": 3,
    "start_time": "2024-09-27T01:33:47.104Z"
   },
   {
    "duration": 14,
    "start_time": "2024-09-27T01:35:10.555Z"
   },
   {
    "duration": 2,
    "start_time": "2024-09-27T01:35:56.921Z"
   },
   {
    "duration": 3,
    "start_time": "2024-09-27T01:35:59.452Z"
   },
   {
    "duration": 4,
    "start_time": "2024-09-27T01:36:12.566Z"
   },
   {
    "duration": 3,
    "start_time": "2024-09-27T01:36:14.310Z"
   },
   {
    "duration": 3,
    "start_time": "2024-09-27T01:36:15.298Z"
   },
   {
    "duration": 7,
    "start_time": "2024-09-27T01:36:28.955Z"
   },
   {
    "duration": 4,
    "start_time": "2024-09-27T01:36:34.197Z"
   },
   {
    "duration": 3,
    "start_time": "2024-09-27T01:37:10.012Z"
   },
   {
    "duration": 7,
    "start_time": "2024-09-27T01:37:14.679Z"
   },
   {
    "duration": 5,
    "start_time": "2024-09-27T01:37:22.912Z"
   },
   {
    "duration": 5,
    "start_time": "2024-09-27T01:37:25.103Z"
   },
   {
    "duration": 7,
    "start_time": "2024-09-27T01:37:35.924Z"
   },
   {
    "duration": 10,
    "start_time": "2024-09-27T01:37:56.658Z"
   },
   {
    "duration": 7,
    "start_time": "2024-09-27T01:38:09.647Z"
   },
   {
    "duration": 14,
    "start_time": "2024-09-27T01:38:56.793Z"
   },
   {
    "duration": 3,
    "start_time": "2024-09-27T01:39:04.185Z"
   },
   {
    "duration": 15,
    "start_time": "2024-09-27T01:39:06.387Z"
   },
   {
    "duration": 5,
    "start_time": "2024-09-27T01:39:45.312Z"
   },
   {
    "duration": 3,
    "start_time": "2024-09-27T01:42:00.018Z"
   },
   {
    "duration": 3,
    "start_time": "2024-09-27T01:42:02.987Z"
   },
   {
    "duration": 5,
    "start_time": "2024-09-27T01:42:05.683Z"
   },
   {
    "duration": 2,
    "start_time": "2024-09-27T01:43:45.420Z"
   },
   {
    "duration": 3,
    "start_time": "2024-09-27T01:45:18.669Z"
   },
   {
    "duration": 5,
    "start_time": "2024-09-27T01:45:26.894Z"
   },
   {
    "duration": 31,
    "start_time": "2024-09-27T01:48:04.077Z"
   },
   {
    "duration": 3,
    "start_time": "2024-09-27T01:51:17.782Z"
   },
   {
    "duration": 3,
    "start_time": "2024-09-27T01:51:23.947Z"
   },
   {
    "duration": 43,
    "start_time": "2024-09-27T01:51:26.620Z"
   },
   {
    "duration": 3,
    "start_time": "2024-09-27T01:54:23.263Z"
   },
   {
    "duration": 3,
    "start_time": "2024-09-27T01:54:25.747Z"
   },
   {
    "duration": 37,
    "start_time": "2024-09-27T01:54:27.897Z"
   },
   {
    "duration": 3,
    "start_time": "2024-09-27T01:54:58.018Z"
   },
   {
    "duration": 3,
    "start_time": "2024-09-27T01:55:07.289Z"
   },
   {
    "duration": 34,
    "start_time": "2024-09-27T01:55:10.897Z"
   },
   {
    "duration": 11,
    "start_time": "2024-09-27T01:58:36.777Z"
   },
   {
    "duration": 12,
    "start_time": "2024-09-27T01:58:39.968Z"
   },
   {
    "duration": 5,
    "start_time": "2024-09-27T01:58:55.682Z"
   },
   {
    "duration": 3,
    "start_time": "2024-09-27T01:58:58.588Z"
   },
   {
    "duration": 4,
    "start_time": "2024-09-27T01:59:22.360Z"
   },
   {
    "duration": 5,
    "start_time": "2024-09-27T01:59:24.154Z"
   },
   {
    "duration": 35,
    "start_time": "2024-09-27T01:59:26.593Z"
   },
   {
    "duration": 2,
    "start_time": "2024-09-27T02:02:29.180Z"
   },
   {
    "duration": 40,
    "start_time": "2024-09-27T02:09:21.246Z"
   },
   {
    "duration": 3,
    "start_time": "2024-09-27T02:10:37.987Z"
   },
   {
    "duration": 36,
    "start_time": "2024-09-27T02:10:41.796Z"
   },
   {
    "duration": 5,
    "start_time": "2024-09-27T02:11:01.263Z"
   },
   {
    "duration": 31,
    "start_time": "2024-09-27T02:11:04.694Z"
   },
   {
    "duration": 5,
    "start_time": "2024-09-27T02:11:12.236Z"
   },
   {
    "duration": 3,
    "start_time": "2024-09-27T02:11:16.014Z"
   },
   {
    "duration": 2,
    "start_time": "2024-09-27T02:12:52.528Z"
   },
   {
    "duration": 3,
    "start_time": "2024-09-27T02:12:53.425Z"
   },
   {
    "duration": 3,
    "start_time": "2024-09-27T02:12:54.084Z"
   },
   {
    "duration": 2,
    "start_time": "2024-09-27T02:12:54.612Z"
   },
   {
    "duration": 3,
    "start_time": "2024-09-27T02:12:55.094Z"
   },
   {
    "duration": 3,
    "start_time": "2024-09-27T02:12:55.569Z"
   },
   {
    "duration": 3,
    "start_time": "2024-09-27T02:12:56.161Z"
   },
   {
    "duration": 14,
    "start_time": "2024-09-27T02:14:27.799Z"
   },
   {
    "duration": 16,
    "start_time": "2024-09-27T02:15:03.652Z"
   },
   {
    "duration": 18,
    "start_time": "2024-09-27T02:15:40.851Z"
   },
   {
    "duration": 12,
    "start_time": "2024-09-27T02:16:11.975Z"
   },
   {
    "duration": 17,
    "start_time": "2024-09-27T02:18:37.428Z"
   },
   {
    "duration": 3,
    "start_time": "2024-09-27T02:20:11.692Z"
   },
   {
    "duration": 7,
    "start_time": "2024-09-27T02:20:21.801Z"
   },
   {
    "duration": 44,
    "start_time": "2024-09-27T02:20:25.635Z"
   },
   {
    "duration": 172,
    "start_time": "2024-09-27T02:27:46.818Z"
   },
   {
    "duration": 41,
    "start_time": "2024-09-27T02:27:55.000Z"
   },
   {
    "duration": 268,
    "start_time": "2024-09-27T02:29:24.010Z"
   },
   {
    "duration": 95,
    "start_time": "2024-09-27T02:29:24.281Z"
   },
   {
    "duration": 13,
    "start_time": "2024-09-27T02:29:24.378Z"
   },
   {
    "duration": 8,
    "start_time": "2024-09-27T02:29:24.393Z"
   },
   {
    "duration": 3,
    "start_time": "2024-09-27T02:29:24.425Z"
   },
   {
    "duration": 4,
    "start_time": "2024-09-27T02:29:24.429Z"
   },
   {
    "duration": 2,
    "start_time": "2024-09-27T02:29:24.435Z"
   },
   {
    "duration": 6,
    "start_time": "2024-09-27T02:29:24.439Z"
   },
   {
    "duration": 3,
    "start_time": "2024-09-27T02:29:24.447Z"
   },
   {
    "duration": 17,
    "start_time": "2024-09-27T02:29:24.452Z"
   },
   {
    "duration": 12,
    "start_time": "2024-09-27T02:29:24.470Z"
   },
   {
    "duration": 50,
    "start_time": "2024-09-27T02:29:24.483Z"
   },
   {
    "duration": 41,
    "start_time": "2024-09-27T02:29:24.535Z"
   },
   {
    "duration": 64,
    "start_time": "2024-09-27T02:29:24.580Z"
   },
   {
    "duration": 44,
    "start_time": "2024-09-27T02:29:24.647Z"
   },
   {
    "duration": 47,
    "start_time": "2024-09-27T02:29:24.693Z"
   },
   {
    "duration": 6,
    "start_time": "2024-09-27T02:29:24.741Z"
   },
   {
    "duration": 2,
    "start_time": "2024-09-27T02:29:24.749Z"
   },
   {
    "duration": 7,
    "start_time": "2024-09-27T02:29:24.753Z"
   },
   {
    "duration": 32,
    "start_time": "2024-09-27T02:29:24.762Z"
   },
   {
    "duration": 2,
    "start_time": "2024-09-27T02:29:24.795Z"
   },
   {
    "duration": 2,
    "start_time": "2024-09-27T02:29:24.823Z"
   },
   {
    "duration": 2,
    "start_time": "2024-09-27T02:29:24.827Z"
   },
   {
    "duration": 2,
    "start_time": "2024-09-27T02:29:24.831Z"
   },
   {
    "duration": 2,
    "start_time": "2024-09-27T02:29:24.835Z"
   },
   {
    "duration": 2,
    "start_time": "2024-09-27T02:29:24.839Z"
   },
   {
    "duration": 2,
    "start_time": "2024-09-27T02:29:24.843Z"
   },
   {
    "duration": 2,
    "start_time": "2024-09-27T02:29:24.847Z"
   },
   {
    "duration": 2,
    "start_time": "2024-09-27T02:29:24.851Z"
   },
   {
    "duration": 40,
    "start_time": "2024-09-27T02:31:45.348Z"
   },
   {
    "duration": 40,
    "start_time": "2024-09-27T02:31:48.404Z"
   },
   {
    "duration": 174,
    "start_time": "2024-09-27T03:04:58.418Z"
   },
   {
    "duration": 12,
    "start_time": "2024-09-27T03:05:06.671Z"
   },
   {
    "duration": 12,
    "start_time": "2024-09-27T03:05:14.225Z"
   },
   {
    "duration": 12,
    "start_time": "2024-09-27T03:05:30.768Z"
   },
   {
    "duration": 11,
    "start_time": "2024-09-27T03:05:32.493Z"
   },
   {
    "duration": 164,
    "start_time": "2024-09-27T03:05:41.028Z"
   },
   {
    "duration": 295,
    "start_time": "2024-09-27T03:06:01.662Z"
   },
   {
    "duration": 294,
    "start_time": "2024-09-27T03:06:10.860Z"
   },
   {
    "duration": 128,
    "start_time": "2024-09-27T03:06:11.156Z"
   },
   {
    "duration": 12,
    "start_time": "2024-09-27T03:06:11.285Z"
   },
   {
    "duration": 15,
    "start_time": "2024-09-27T03:06:11.299Z"
   },
   {
    "duration": 4,
    "start_time": "2024-09-27T03:06:11.315Z"
   },
   {
    "duration": 4,
    "start_time": "2024-09-27T03:06:11.321Z"
   },
   {
    "duration": 3,
    "start_time": "2024-09-27T03:06:11.327Z"
   },
   {
    "duration": 7,
    "start_time": "2024-09-27T03:06:11.331Z"
   },
   {
    "duration": 4,
    "start_time": "2024-09-27T03:06:11.339Z"
   },
   {
    "duration": 18,
    "start_time": "2024-09-27T03:06:11.346Z"
   },
   {
    "duration": 52,
    "start_time": "2024-09-27T03:06:11.367Z"
   },
   {
    "duration": 17,
    "start_time": "2024-09-27T03:06:11.421Z"
   },
   {
    "duration": 44,
    "start_time": "2024-09-27T03:06:11.439Z"
   },
   {
    "duration": 67,
    "start_time": "2024-09-27T03:06:11.485Z"
   },
   {
    "duration": 56,
    "start_time": "2024-09-27T03:06:11.553Z"
   },
   {
    "duration": 38,
    "start_time": "2024-09-27T03:06:11.610Z"
   },
   {
    "duration": 7,
    "start_time": "2024-09-27T03:06:11.650Z"
   },
   {
    "duration": 2,
    "start_time": "2024-09-27T03:06:11.659Z"
   },
   {
    "duration": 6,
    "start_time": "2024-09-27T03:06:11.663Z"
   },
   {
    "duration": 56,
    "start_time": "2024-09-27T03:06:11.670Z"
   },
   {
    "duration": 10,
    "start_time": "2024-09-27T03:06:11.728Z"
   },
   {
    "duration": 3,
    "start_time": "2024-09-27T03:06:11.739Z"
   },
   {
    "duration": 3,
    "start_time": "2024-09-27T03:06:11.743Z"
   },
   {
    "duration": 3,
    "start_time": "2024-09-27T03:06:11.747Z"
   },
   {
    "duration": 3,
    "start_time": "2024-09-27T03:06:11.752Z"
   },
   {
    "duration": 3,
    "start_time": "2024-09-27T03:06:11.756Z"
   },
   {
    "duration": 2,
    "start_time": "2024-09-27T03:06:11.761Z"
   },
   {
    "duration": 42,
    "start_time": "2024-09-27T03:06:11.767Z"
   },
   {
    "duration": 3,
    "start_time": "2024-09-27T03:06:11.811Z"
   },
   {
    "duration": 13,
    "start_time": "2024-09-27T03:08:48.406Z"
   },
   {
    "duration": 11,
    "start_time": "2024-09-27T03:08:56.278Z"
   },
   {
    "duration": 10,
    "start_time": "2024-09-27T03:09:02.889Z"
   },
   {
    "duration": 11,
    "start_time": "2024-09-27T03:09:38.352Z"
   },
   {
    "duration": 7,
    "start_time": "2024-09-27T03:21:51.795Z"
   },
   {
    "duration": 4,
    "start_time": "2024-09-27T03:22:01.159Z"
   },
   {
    "duration": 3,
    "start_time": "2024-09-27T03:22:07.356Z"
   },
   {
    "duration": 8,
    "start_time": "2024-09-27T03:22:42.471Z"
   },
   {
    "duration": 7,
    "start_time": "2024-09-27T03:22:57.896Z"
   },
   {
    "duration": 177,
    "start_time": "2024-09-27T03:23:36.851Z"
   },
   {
    "duration": 3,
    "start_time": "2024-09-27T03:23:54.860Z"
   },
   {
    "duration": 8,
    "start_time": "2024-09-27T03:23:57.083Z"
   },
   {
    "duration": 3,
    "start_time": "2024-09-27T03:26:40.550Z"
   },
   {
    "duration": 8,
    "start_time": "2024-09-27T03:26:42.911Z"
   },
   {
    "duration": 3,
    "start_time": "2024-09-27T03:27:42.467Z"
   },
   {
    "duration": 8,
    "start_time": "2024-09-27T03:27:44.913Z"
   },
   {
    "duration": 17,
    "start_time": "2024-09-27T03:27:47.363Z"
   },
   {
    "duration": 8,
    "start_time": "2024-09-27T03:27:56.068Z"
   },
   {
    "duration": 5,
    "start_time": "2024-09-27T03:30:08.024Z"
   },
   {
    "duration": 15,
    "start_time": "2024-09-27T03:30:16.398Z"
   },
   {
    "duration": 5,
    "start_time": "2024-09-27T03:31:07.093Z"
   },
   {
    "duration": 6,
    "start_time": "2024-09-27T03:31:10.869Z"
   },
   {
    "duration": 15,
    "start_time": "2024-09-27T03:31:45.956Z"
   },
   {
    "duration": 8,
    "start_time": "2024-09-27T03:32:02.101Z"
   },
   {
    "duration": 9,
    "start_time": "2024-09-27T03:32:13.455Z"
   },
   {
    "duration": 13,
    "start_time": "2024-09-27T03:32:23.888Z"
   },
   {
    "duration": 12,
    "start_time": "2024-09-27T03:32:35.449Z"
   },
   {
    "duration": 15,
    "start_time": "2024-09-27T03:32:47.600Z"
   },
   {
    "duration": 13,
    "start_time": "2024-09-27T03:32:59.666Z"
   },
   {
    "duration": 9,
    "start_time": "2024-09-27T03:43:34.834Z"
   },
   {
    "duration": 9,
    "start_time": "2024-09-27T03:43:46.075Z"
   },
   {
    "duration": 7,
    "start_time": "2024-09-27T03:52:49.690Z"
   },
   {
    "duration": 14,
    "start_time": "2024-09-27T03:52:54.749Z"
   },
   {
    "duration": 14,
    "start_time": "2024-09-27T04:20:03.632Z"
   },
   {
    "duration": 5,
    "start_time": "2024-09-27T04:20:20.763Z"
   },
   {
    "duration": 4,
    "start_time": "2024-09-27T04:27:01.569Z"
   },
   {
    "duration": 3,
    "start_time": "2024-09-27T04:27:29.504Z"
   },
   {
    "duration": 4,
    "start_time": "2024-09-27T04:27:34.379Z"
   },
   {
    "duration": 297,
    "start_time": "2024-09-27T04:45:02.049Z"
   },
   {
    "duration": 110,
    "start_time": "2024-09-27T04:45:02.349Z"
   },
   {
    "duration": 12,
    "start_time": "2024-09-27T04:45:02.461Z"
   },
   {
    "duration": 8,
    "start_time": "2024-09-27T04:45:02.474Z"
   },
   {
    "duration": 4,
    "start_time": "2024-09-27T04:45:02.484Z"
   },
   {
    "duration": 3,
    "start_time": "2024-09-27T04:45:02.507Z"
   },
   {
    "duration": 5,
    "start_time": "2024-09-27T04:45:02.512Z"
   },
   {
    "duration": 3,
    "start_time": "2024-09-27T04:45:02.518Z"
   },
   {
    "duration": 6,
    "start_time": "2024-09-27T04:45:02.523Z"
   },
   {
    "duration": 4,
    "start_time": "2024-09-27T04:45:02.531Z"
   },
   {
    "duration": 18,
    "start_time": "2024-09-27T04:45:02.536Z"
   },
   {
    "duration": 52,
    "start_time": "2024-09-27T04:45:02.556Z"
   },
   {
    "duration": 20,
    "start_time": "2024-09-27T04:45:02.610Z"
   },
   {
    "duration": 42,
    "start_time": "2024-09-27T04:45:02.633Z"
   },
   {
    "duration": 66,
    "start_time": "2024-09-27T04:45:02.676Z"
   },
   {
    "duration": 44,
    "start_time": "2024-09-27T04:45:02.745Z"
   },
   {
    "duration": 55,
    "start_time": "2024-09-27T04:45:02.791Z"
   },
   {
    "duration": 6,
    "start_time": "2024-09-27T04:45:02.848Z"
   },
   {
    "duration": 2,
    "start_time": "2024-09-27T04:45:02.856Z"
   },
   {
    "duration": 7,
    "start_time": "2024-09-27T04:45:02.860Z"
   },
   {
    "duration": 53,
    "start_time": "2024-09-27T04:45:02.868Z"
   },
   {
    "duration": 9,
    "start_time": "2024-09-27T04:45:02.923Z"
   },
   {
    "duration": 9,
    "start_time": "2024-09-27T04:45:02.934Z"
   },
   {
    "duration": 2,
    "start_time": "2024-09-27T04:45:02.945Z"
   },
   {
    "duration": 5,
    "start_time": "2024-09-27T04:45:02.949Z"
   },
   {
    "duration": 12,
    "start_time": "2024-09-27T04:45:02.956Z"
   },
   {
    "duration": 47,
    "start_time": "2024-09-27T04:45:02.969Z"
   },
   {
    "duration": 12,
    "start_time": "2024-09-27T04:45:03.018Z"
   },
   {
    "duration": 10,
    "start_time": "2024-09-27T04:45:03.031Z"
   },
   {
    "duration": 11,
    "start_time": "2024-09-27T04:45:03.042Z"
   },
   {
    "duration": 10,
    "start_time": "2024-09-27T04:45:03.055Z"
   },
   {
    "duration": 19,
    "start_time": "2024-09-27T04:45:48.312Z"
   },
   {
    "duration": 5,
    "start_time": "2024-09-27T04:46:03.794Z"
   }
  ],
  "colab": {
   "collapsed_sections": [
    "E0vqbgi9ay0H",
    "VUC88oWjTJw2"
   ],
   "provenance": []
  },
  "kernelspec": {
   "display_name": "Python 3 (ipykernel)",
   "language": "python",
   "name": "python3"
  },
  "language_info": {
   "codemirror_mode": {
    "name": "ipython",
    "version": 3
   },
   "file_extension": ".py",
   "mimetype": "text/x-python",
   "name": "python",
   "nbconvert_exporter": "python",
   "pygments_lexer": "ipython3",
   "version": "3.9.19"
  },
  "toc": {
   "base_numbering": 1,
   "nav_menu": {},
   "number_sections": true,
   "sideBar": true,
   "skip_h1_title": true,
   "title_cell": "Table of Contents",
   "title_sidebar": "Contents",
   "toc_cell": false,
   "toc_position": {},
   "toc_section_display": true,
   "toc_window_display": false
  }
 },
 "nbformat": 4,
 "nbformat_minor": 1
}
