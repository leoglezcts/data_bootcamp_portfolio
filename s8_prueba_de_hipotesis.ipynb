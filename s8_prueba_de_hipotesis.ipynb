{
 "cells": [
  {
   "cell_type": "markdown",
   "metadata": {},
   "source": [
    "# Sprint 8. Prueba estadística t-test"
   ]
  },
  {
   "cell_type": "markdown",
   "metadata": {},
   "source": [
    "Este proyecto tiene como finalidad analizar y explorar datos relacionados con el comportamiento de las empresas de taxis y los patrones de movilidad en la ciudad de Chicago. A través de técnicas de análisis de datos y pruebas estadísticas."
   ]
  },
  {
   "cell_type": "markdown",
   "metadata": {},
   "source": [
    "## Exploración de datos"
   ]
  },
  {
   "cell_type": "code",
   "execution_count": 8,
   "metadata": {},
   "outputs": [],
   "source": [
    "# librerías\n",
    "import pandas as pd\n",
    "from scipy import stats as st\n",
    "import seaborn as sns\n",
    "import matplotlib.pyplot as plt\n",
    "import datetime"
   ]
  },
  {
   "cell_type": "code",
   "execution_count": 9,
   "metadata": {},
   "outputs": [],
   "source": [
    "# carga de datasets\n",
    "taxis = pd.read_csv(r\"C:\\Users\\lgonzalezc\\Downloads\\moved_project_sql_result_01.csv\")\n",
    "barrios = pd.read_csv(r\"C:\\Users\\lgonzalezc\\Downloads\\moved_project_sql_result_04.csv\")"
   ]
  },
  {
   "cell_type": "code",
   "execution_count": 10,
   "metadata": {},
   "outputs": [],
   "source": [
    "#función de exploración\n",
    "def informacion(df):\n",
    "    print('INFORMACIÓN GENERAL')\n",
    "    print(df.info())\n",
    "    print()\n",
    "    print()\n",
    "    print('SECCIÓN DE EJEMPLO')\n",
    "    print(df.head(3))\n",
    "    "
   ]
  },
  {
   "cell_type": "code",
   "execution_count": 11,
   "metadata": {},
   "outputs": [
    {
     "name": "stdout",
     "output_type": "stream",
     "text": [
      "INFORMACIÓN GENERAL\n",
      "<class 'pandas.core.frame.DataFrame'>\n",
      "RangeIndex: 64 entries, 0 to 63\n",
      "Data columns (total 2 columns):\n",
      " #   Column        Non-Null Count  Dtype \n",
      "---  ------        --------------  ----- \n",
      " 0   company_name  64 non-null     object\n",
      " 1   trips_amount  64 non-null     int64 \n",
      "dtypes: int64(1), object(1)\n",
      "memory usage: 1.1+ KB\n",
      "None\n",
      "\n",
      "\n",
      "SECCIÓN DE EJEMPLO\n",
      "                company_name  trips_amount\n",
      "0                  Flash Cab         19558\n",
      "1  Taxi Affiliation Services         11422\n",
      "2           Medallion Leasin         10367\n"
     ]
    }
   ],
   "source": [
    "informacion(taxis)"
   ]
  },
  {
   "cell_type": "code",
   "execution_count": 12,
   "metadata": {},
   "outputs": [
    {
     "name": "stdout",
     "output_type": "stream",
     "text": [
      "INFORMACIÓN GENERAL\n",
      "<class 'pandas.core.frame.DataFrame'>\n",
      "RangeIndex: 94 entries, 0 to 93\n",
      "Data columns (total 2 columns):\n",
      " #   Column                 Non-Null Count  Dtype  \n",
      "---  ------                 --------------  -----  \n",
      " 0   dropoff_location_name  94 non-null     object \n",
      " 1   average_trips          94 non-null     float64\n",
      "dtypes: float64(1), object(1)\n",
      "memory usage: 1.6+ KB\n",
      "None\n",
      "\n",
      "\n",
      "SECCIÓN DE EJEMPLO\n",
      "  dropoff_location_name  average_trips\n",
      "0                  Loop   10727.466667\n",
      "1           River North    9523.666667\n",
      "2         Streeterville    6664.666667\n"
     ]
    }
   ],
   "source": [
    "# exploración de DF\n",
    "informacion(barrios)"
   ]
  },
  {
   "cell_type": "markdown",
   "metadata": {},
   "source": [
    "## Análisis de datos"
   ]
  },
  {
   "cell_type": "markdown",
   "metadata": {},
   "source": [
    "### Identificar los 10 principales barrios en términos de finalización del recorrido"
   ]
  },
  {
   "cell_type": "code",
   "execution_count": 13,
   "metadata": {},
   "outputs": [],
   "source": [
    "# ordenar tabla\n",
    "barrios_sorted = barrios.sort_values('average_trips', ascending = False)"
   ]
  },
  {
   "cell_type": "code",
   "execution_count": 14,
   "metadata": {},
   "outputs": [],
   "source": [
    "# top 10 barrios con mas viahes \n",
    "top10_barrios = barrios_sorted.head(10)"
   ]
  },
  {
   "cell_type": "markdown",
   "metadata": {},
   "source": [
    "**Hacer gráficos: empresas de taxis y número de viajes, los 10 barrios principales por número de finalizaciones**"
   ]
  },
  {
   "cell_type": "code",
   "execution_count": 15,
   "metadata": {},
   "outputs": [],
   "source": [
    "# ordenamiento de DF taxis\n",
    "taxis_sorted = taxis.sort_values('trips_amount', ascending = False)\n",
    "# Limite de 5 primeras compañias con mas viajes\n",
    "top_5_taxis = taxis_sorted.head()"
   ]
  },
  {
   "cell_type": "code",
   "execution_count": 16,
   "metadata": {},
   "outputs": [
    {
     "data": {
      "text/html": [
       "<div>\n",
       "<style scoped>\n",
       "    .dataframe tbody tr th:only-of-type {\n",
       "        vertical-align: middle;\n",
       "    }\n",
       "\n",
       "    .dataframe tbody tr th {\n",
       "        vertical-align: top;\n",
       "    }\n",
       "\n",
       "    .dataframe thead th {\n",
       "        text-align: right;\n",
       "    }\n",
       "</style>\n",
       "<table border=\"1\" class=\"dataframe\">\n",
       "  <thead>\n",
       "    <tr style=\"text-align: right;\">\n",
       "      <th></th>\n",
       "      <th>company_name</th>\n",
       "      <th>trips_amount</th>\n",
       "    </tr>\n",
       "  </thead>\n",
       "  <tbody>\n",
       "    <tr>\n",
       "      <th>0</th>\n",
       "      <td>Flash Cab</td>\n",
       "      <td>19558</td>\n",
       "    </tr>\n",
       "    <tr>\n",
       "      <th>1</th>\n",
       "      <td>Taxi Affiliation Services</td>\n",
       "      <td>11422</td>\n",
       "    </tr>\n",
       "    <tr>\n",
       "      <th>2</th>\n",
       "      <td>Medallion Leasin</td>\n",
       "      <td>10367</td>\n",
       "    </tr>\n",
       "    <tr>\n",
       "      <th>3</th>\n",
       "      <td>Yellow Cab</td>\n",
       "      <td>9888</td>\n",
       "    </tr>\n",
       "    <tr>\n",
       "      <th>4</th>\n",
       "      <td>Taxi Affiliation Service Yellow</td>\n",
       "      <td>9299</td>\n",
       "    </tr>\n",
       "  </tbody>\n",
       "</table>\n",
       "</div>"
      ],
      "text/plain": [
       "                      company_name  trips_amount\n",
       "0                        Flash Cab         19558\n",
       "1        Taxi Affiliation Services         11422\n",
       "2                 Medallion Leasin         10367\n",
       "3                       Yellow Cab          9888\n",
       "4  Taxi Affiliation Service Yellow          9299"
      ]
     },
     "execution_count": 16,
     "metadata": {},
     "output_type": "execute_result"
    }
   ],
   "source": [
    "top_5_taxis"
   ]
  },
  {
   "cell_type": "markdown",
   "metadata": {},
   "source": [
    "### Top 5 compañias de Taxis con más viajes"
   ]
  },
  {
   "cell_type": "code",
   "execution_count": 24,
   "metadata": {},
   "outputs": [
    {
     "data": {
      "image/png": "[encoded data removed]",
      "text/plain": [
       "<Figure size 640x480 with 1 Axes>"
      ]
     },
     "metadata": {},
     "output_type": "display_data"
    }
   ],
   "source": [
    "# graficación\n",
    "sns.barplot(data = top_5_taxis, x = 'company_name', y='trips_amount', palette = 'dark', hue = 'company_name')\n",
    "plt.xticks(rotation=45)\n",
    "plt.title ('Top 5 compañias de taxis')\n",
    "plt.xlabel ('Compañias')\n",
    "plt.ylabel ('Viajes')\n",
    "plt.show()"
   ]
  },
  {
   "cell_type": "markdown",
   "metadata": {},
   "source": [
    "La empresa \"Flash Cab\" es la líder en cantidad de viajes, con una diferencia considerable sobre las demás compañías."
   ]
  },
  {
   "cell_type": "markdown",
   "metadata": {},
   "source": [
    "### Top 10 barrios con mas viajes"
   ]
  },
  {
   "cell_type": "code",
   "execution_count": 23,
   "metadata": {},
   "outputs": [
    {
     "data": {
      "image/png": "[encoded data removed]",
      "text/plain": [
       "<Figure size 640x480 with 1 Axes>"
      ]
     },
     "metadata": {},
     "output_type": "display_data"
    }
   ],
   "source": [
    "# graficación\n",
    "sns.barplot(data = top10_barrios, x = 'dropoff_location_name', y='average_trips', palette = 'dark', hue = 'dropoff_location_name')\n",
    "plt.xticks(rotation=45)\n",
    "plt.title ('Top 5 barrios')\n",
    "plt.xlabel ('Barrios')\n",
    "plt.ylabel ('Viajes promedio')\n",
    "plt.show()"
   ]
  },
  {
   "cell_type": "markdown",
   "metadata": {},
   "source": [
    "\"Loop\" es el barrio con el mayor número de viajes promedio, lo que indica que es una zona con alta demanda de taxis."
   ]
  },
  {
   "cell_type": "markdown",
   "metadata": {},
   "source": [
    "## Prueba de hipótesis (Python)"
   ]
  },
  {
   "cell_type": "markdown",
   "metadata": {},
   "source": [
    "Se carga un DF contiene datos sobre viajes desde el Loop hasta el Aeropuerto Internacional O'Hare, estos son los valores de campo de la tabla:\n",
    "\n",
    "**start_ts:** fecha y hora de la recogida\n",
    "\n",
    "**weather_conditions:** condiciones climáticas en el momento en el que comenzó el viaje\n",
    "\n",
    "**duration_seconds:** duración del viaje en segundos"
   ]
  },
  {
   "cell_type": "markdown",
   "metadata": {},
   "source": [
    "**Prueba la hipótesis:**\n",
    "\n",
    "\"La duración promedio de los viajes desde el Loop hasta el Aeropuerto Internacional O'Hare cambia los sábados lluviosos\".\n",
    "\n",
    "Decide por tu cuenta dónde establecer el nivel de significación (alfa)."
   ]
  },
  {
   "cell_type": "markdown",
   "metadata": {},
   "source": [
    "**Explica:**\n",
    "\n",
    "Cómo planteaste las hipótesis nula y alternativa\n",
    "qué criterio usaste para probar las hipótesis y por qué"
   ]
  },
  {
   "cell_type": "code",
   "execution_count": 26,
   "metadata": {},
   "outputs": [],
   "source": [
    "# carga de dataset\n",
    "viajes = pd.read_csv(r'C:\\Users\\lgonzalezc\\Downloads\\moved_project_sql_result_07.csv')"
   ]
  },
  {
   "cell_type": "code",
   "execution_count": 27,
   "metadata": {},
   "outputs": [
    {
     "name": "stdout",
     "output_type": "stream",
     "text": [
      "INFORMACIÓN GENERAL\n",
      "<class 'pandas.core.frame.DataFrame'>\n",
      "RangeIndex: 1068 entries, 0 to 1067\n",
      "Data columns (total 3 columns):\n",
      " #   Column              Non-Null Count  Dtype  \n",
      "---  ------              --------------  -----  \n",
      " 0   start_ts            1068 non-null   object \n",
      " 1   weather_conditions  1068 non-null   object \n",
      " 2   duration_seconds    1068 non-null   float64\n",
      "dtypes: float64(1), object(2)\n",
      "memory usage: 25.2+ KB\n",
      "None\n",
      "\n",
      "\n",
      "SECCIÓN DE EJEMPLO\n",
      "              start_ts weather_conditions  duration_seconds\n",
      "0  2017-11-25 16:00:00               Good            2410.0\n",
      "1  2017-11-25 14:00:00               Good            1920.0\n",
      "2  2017-11-25 12:00:00               Good            1543.0\n"
     ]
    }
   ],
   "source": [
    "# exploración DF\n",
    "informacion(viajes)"
   ]
  },
  {
   "cell_type": "markdown",
   "metadata": {},
   "source": [
    "**Planteamiento de hipótesis**"
   ]
  },
  {
   "cell_type": "markdown",
   "metadata": {},
   "source": [
    "H0 = La duración promedio de los viajes desde el Loop hasta el Aeropuerto Internacional O'Hare no cambia los sábados lluviosos.\n",
    "\n",
    "H1 = La duración promedio de los viajes desde el Loop hasta el Aeropuerto Internacional O'Hare cambia los sábados lluviosos."
   ]
  },
  {
   "cell_type": "markdown",
   "metadata": {},
   "source": [
    "Se utilizará la prueba t-test de Student para muestras independientes porque se busca comparar si existe una diferencia significativa entre las medias de la duración de los viajes desde Loop hasta el Aeropuerto Internacional O'Hare en sábados lluviosos y sábados sin lluvia, los cuales representan dos grupos distintos. Además, no se asumió igualdad de varianzas entre los grupos (equal_var=False), dado que las condiciones climáticas podrían afectar la variabilidad de los tiempos de viaje. Este análisis es apropiado para datos numéricos y continuos, como la duración del viaje, y el nivel de significancia (α=0.05) permite evaluar con un 95% de confianza si las diferencias observadas son estadísticamente significativas."
   ]
  },
  {
   "cell_type": "code",
   "execution_count": 32,
   "metadata": {},
   "outputs": [],
   "source": [
    "# conversión de columna start_ts a datetime\n",
    "viajes['start_ts'] = viajes['start_ts'].astype('datetime64[ns]')"
   ]
  },
  {
   "cell_type": "code",
   "execution_count": 35,
   "metadata": {},
   "outputs": [
    {
     "name": "stdout",
     "output_type": "stream",
     "text": [
      "['Saturday']\n"
     ]
    }
   ],
   "source": [
    "# verificación de que todos los días en la tabla sean sábados\n",
    "viajes['day'] = viajes['start_ts'].dt.day_name()\n",
    "print(viajes['day'].unique())"
   ]
  },
  {
   "cell_type": "code",
   "execution_count": 37,
   "metadata": {},
   "outputs": [
    {
     "data": {
      "text/plain": [
       "array(['Good', 'Bad'], dtype=object)"
      ]
     },
     "execution_count": 37,
     "metadata": {},
     "output_type": "execute_result"
    }
   ],
   "source": [
    "# verificación de valores únicos en el campo 'weather_conditions'\n",
    "viajes['weather_conditions'].unique()"
   ]
  },
  {
   "cell_type": "markdown",
   "metadata": {},
   "source": [
    "Una vez comprobadas los valores únicos en ambos campos, procederé a la prueba de hipótesis."
   ]
  },
  {
   "cell_type": "code",
   "execution_count": 38,
   "metadata": {},
   "outputs": [],
   "source": [
    "# varibales\n",
    "sabado_lluvioso = viajes.query(\"weather_conditions == 'Bad'\")['duration_seconds']\n",
    "sabado_soleado = viajes.query(\"weather_conditions == 'Good'\")['duration_seconds'] "
   ]
  },
  {
   "cell_type": "code",
   "execution_count": 39,
   "metadata": {},
   "outputs": [],
   "source": [
    "# t-test para muestras independientes con varianzas diferentes\n",
    "resultados_prueba_sabados = st.ttest_ind(sabado_lluvioso,sabado_soleado, equal_var = False)\n",
    "# valor alpha (sensibilidad)\n",
    "alpha = 0.05"
   ]
  },
  {
   "cell_type": "code",
   "execution_count": 40,
   "metadata": {},
   "outputs": [
    {
     "data": {
      "text/plain": [
       "np.float64(6.738994326108734e-12)"
      ]
     },
     "execution_count": 40,
     "metadata": {},
     "output_type": "execute_result"
    }
   ],
   "source": [
    "# impresión del valor p\n",
    "resultados_prueba_sabados.pvalue"
   ]
  },
  {
   "cell_type": "code",
   "execution_count": 41,
   "metadata": {},
   "outputs": [
    {
     "name": "stdout",
     "output_type": "stream",
     "text": [
      "Se rechaza hipótesis nula\n"
     ]
    }
   ],
   "source": [
    "# resultado\n",
    "if resultados_prueba_sabados.pvalue < alpha:\n",
    "    print('Se rechaza hipótesis nula')\n",
    "else: \n",
    "    print('No podemos rechazar hipótesis nula')"
   ]
  },
  {
   "cell_type": "markdown",
   "metadata": {},
   "source": [
    "**Conclusión: La duración promedio de los viajes desde el Loop hasta el Aeropuerto Internacional O'Hare cambia los sábados lluviosos.**"
   ]
  },
  {
   "cell_type": "markdown",
   "metadata": {},
   "source": [
    "## Conclusión"
   ]
  },
  {
   "cell_type": "markdown",
   "metadata": {},
   "source": [
    "Este proyecto ha permitido aplicar diversas técnicas de análisis de datos para abordar preguntas clave relacionadas con el comportamiento de las empresas de taxis y los patrones de movilidad en Chicago, así como para evaluar el impacto de las condiciones climáticas en la duración de los viajes desde el Loop hasta el Aeropuerto Internacional O'Hare.\n",
    "\n",
    "En primer lugar, a través del análisis exploratorio de los datos proporcionados en los dos archivos CSV, se identificaron patrones significativos en la cantidad de viajes realizados por las diferentes empresas de taxis y la distribución de los viajes por barrios de la ciudad. Las visualizaciones generadas, como gráficos de barras, facilitaron la comprensión de estos patrones y ayudaron a identificar los principales actores en términos de actividad de viajes tanto a nivel de empresas como de barrios.\n",
    "\n",
    "En segundo lugar, se llevó a cabo una prueba de hipótesis para analizar si las condiciones climáticas influían en la duración de los viajes. A través de una prueba estadística (prueba t de Student), se evaluó si los sábados lluviosos presentaban una duración promedio diferente a la de los sábados sin lluvia. Los resultados de esta prueba proporcionaron información útil sobre cómo el clima puede afectar la duración de los viajes en una ciudad con un alto volumen de tráfico.\n",
    "\n",
    "En conjunto, el proyecto ha demostrado cómo la manipulación y análisis de datos pueden revelar patrones valiosos que permiten tomar decisiones informadas. Además, el uso de pruebas estadísticas permitió validar o refutar hipótesis sobre el comportamiento de los viajes bajo diferentes condiciones. Este análisis no solo mejora la comprensión de los datos, sino que también proporciona una base sólida para futuras investigaciones o aplicaciones en la optimización de las operaciones de las empresas de taxis y en la toma de decisiones logísticas en entornos urbanos dinámicos."
   ]
  }
 ],
 "metadata": {
  "ExecuteTimeLog": [
   {
    "duration": 379,
    "start_time": "2025-02-05T23:02:26.482Z"
   },
   {
    "duration": 8,
    "start_time": "2025-02-05T23:03:14.166Z"
   },
   {
    "duration": 25,
    "start_time": "2025-02-05T23:03:24.054Z"
   },
   {
    "duration": 26,
    "start_time": "2025-02-05T23:03:40.139Z"
   },
   {
    "duration": 6,
    "start_time": "2025-02-05T23:03:43.413Z"
   },
   {
    "duration": 5,
    "start_time": "2025-02-05T23:04:30.013Z"
   },
   {
    "duration": 10,
    "start_time": "2025-02-05T23:04:56.095Z"
   },
   {
    "duration": 6,
    "start_time": "2025-02-05T23:05:04.801Z"
   },
   {
    "duration": 5,
    "start_time": "2025-02-05T23:07:10.772Z"
   },
   {
    "duration": 8,
    "start_time": "2025-02-05T23:07:26.271Z"
   },
   {
    "duration": 3,
    "start_time": "2025-02-05T23:07:39.794Z"
   },
   {
    "duration": 217,
    "start_time": "2025-02-05T23:08:22.409Z"
   },
   {
    "duration": 17,
    "start_time": "2025-02-05T23:08:42.059Z"
   },
   {
    "duration": 3,
    "start_time": "2025-02-05T23:08:44.599Z"
   },
   {
    "duration": 4,
    "start_time": "2025-02-05T23:09:10.283Z"
   },
   {
    "duration": 3,
    "start_time": "2025-02-05T23:11:57.893Z"
   },
   {
    "duration": 9,
    "start_time": "2025-02-05T23:15:58.449Z"
   },
   {
    "duration": 9,
    "start_time": "2025-02-05T23:16:39.607Z"
   },
   {
    "duration": 9,
    "start_time": "2025-02-05T23:16:55.707Z"
   },
   {
    "duration": 393,
    "start_time": "2025-02-05T23:22:37.699Z"
   },
   {
    "duration": 66,
    "start_time": "2025-02-05T23:23:42.935Z"
   },
   {
    "duration": 56,
    "start_time": "2025-02-05T23:23:48.903Z"
   },
   {
    "duration": 57,
    "start_time": "2025-02-05T23:24:27.372Z"
   },
   {
    "duration": 57,
    "start_time": "2025-02-05T23:24:44.720Z"
   },
   {
    "duration": 299,
    "start_time": "2025-02-05T23:50:47.381Z"
   },
   {
    "duration": 16,
    "start_time": "2025-02-05T23:50:47.682Z"
   },
   {
    "duration": 8,
    "start_time": "2025-02-05T23:50:47.700Z"
   },
   {
    "duration": 8,
    "start_time": "2025-02-05T23:50:47.712Z"
   },
   {
    "duration": 582,
    "start_time": "2025-02-05T23:50:47.722Z"
   },
   {
    "duration": 25,
    "start_time": "2025-02-05T23:56:21.727Z"
   },
   {
    "duration": 69,
    "start_time": "2025-02-05T23:56:30.220Z"
   },
   {
    "duration": 7,
    "start_time": "2025-02-05T23:57:46.545Z"
   },
   {
    "duration": 11,
    "start_time": "2025-02-05T23:57:53.016Z"
   },
   {
    "duration": 13,
    "start_time": "2025-02-05T23:57:59.418Z"
   },
   {
    "duration": 14,
    "start_time": "2025-02-05T23:58:23.900Z"
   },
   {
    "duration": 6,
    "start_time": "2025-02-05T23:59:01.751Z"
   },
   {
    "duration": 6,
    "start_time": "2025-02-06T00:00:58.648Z"
   },
   {
    "duration": 3,
    "start_time": "2025-02-06T00:01:22.617Z"
   },
   {
    "duration": 13,
    "start_time": "2025-02-06T00:05:48.304Z"
   },
   {
    "duration": 3,
    "start_time": "2025-02-06T00:05:53.068Z"
   },
   {
    "duration": 3,
    "start_time": "2025-02-06T00:05:55.062Z"
   },
   {
    "duration": 4,
    "start_time": "2025-02-06T00:06:04.226Z"
   },
   {
    "duration": 14,
    "start_time": "2025-02-06T00:06:24.126Z"
   },
   {
    "duration": 4,
    "start_time": "2025-02-06T00:06:43.502Z"
   },
   {
    "duration": 12,
    "start_time": "2025-02-06T00:06:47.618Z"
   },
   {
    "duration": 5,
    "start_time": "2025-02-06T00:06:49.693Z"
   },
   {
    "duration": 14,
    "start_time": "2025-02-06T00:06:53.958Z"
   },
   {
    "duration": 5,
    "start_time": "2025-02-06T00:07:26.970Z"
   },
   {
    "duration": 4,
    "start_time": "2025-02-06T00:07:48.122Z"
   },
   {
    "duration": 8,
    "start_time": "2025-02-06T00:07:50.134Z"
   },
   {
    "duration": 3,
    "start_time": "2025-02-06T00:08:46.449Z"
   },
   {
    "duration": 7,
    "start_time": "2025-02-06T00:08:55.066Z"
   },
   {
    "duration": 4,
    "start_time": "2025-02-06T00:09:08.438Z"
   },
   {
    "duration": 8,
    "start_time": "2025-02-06T00:09:12.573Z"
   },
   {
    "duration": 4,
    "start_time": "2025-02-06T00:12:57.908Z"
   },
   {
    "duration": 4,
    "start_time": "2025-02-06T00:14:10.667Z"
   },
   {
    "duration": 4,
    "start_time": "2025-02-06T00:14:17.938Z"
   },
   {
    "duration": 4,
    "start_time": "2025-02-06T00:14:31.732Z"
   },
   {
    "duration": 12,
    "start_time": "2025-02-06T00:14:35.756Z"
   },
   {
    "duration": 3,
    "start_time": "2025-02-06T00:14:41.864Z"
   },
   {
    "duration": 8,
    "start_time": "2025-02-06T00:14:43.663Z"
   },
   {
    "duration": 4,
    "start_time": "2025-02-06T00:14:56.874Z"
   },
   {
    "duration": 18,
    "start_time": "2025-02-06T00:15:03.263Z"
   },
   {
    "duration": 6,
    "start_time": "2025-02-06T00:15:09.897Z"
   },
   {
    "duration": 13,
    "start_time": "2025-02-06T00:15:16.671Z"
   },
   {
    "duration": 8,
    "start_time": "2025-02-06T00:15:19.947Z"
   },
   {
    "duration": 11,
    "start_time": "2025-02-06T00:15:29.360Z"
   },
   {
    "duration": 10,
    "start_time": "2025-02-06T00:15:49.982Z"
   },
   {
    "duration": 15,
    "start_time": "2025-02-06T00:16:45.766Z"
   },
   {
    "duration": 17,
    "start_time": "2025-02-06T00:16:55.235Z"
   },
   {
    "duration": 8,
    "start_time": "2025-02-06T00:17:10.145Z"
   },
   {
    "duration": 15,
    "start_time": "2025-02-06T00:17:31.358Z"
   },
   {
    "duration": 13,
    "start_time": "2025-02-06T00:17:38.487Z"
   },
   {
    "duration": 10,
    "start_time": "2025-02-06T00:17:42.738Z"
   },
   {
    "duration": 12,
    "start_time": "2025-02-06T00:17:46.113Z"
   },
   {
    "duration": 9,
    "start_time": "2025-02-06T00:17:50.446Z"
   },
   {
    "duration": 4,
    "start_time": "2025-02-06T00:17:58.932Z"
   },
   {
    "duration": 3,
    "start_time": "2025-02-06T00:18:01.073Z"
   },
   {
    "duration": 8,
    "start_time": "2025-02-06T00:18:02.591Z"
   },
   {
    "duration": 4,
    "start_time": "2025-02-06T00:18:09.113Z"
   },
   {
    "duration": 3,
    "start_time": "2025-02-06T00:18:11.920Z"
   },
   {
    "duration": 8,
    "start_time": "2025-02-06T00:18:20.494Z"
   },
   {
    "duration": 5,
    "start_time": "2025-02-06T00:18:40.867Z"
   },
   {
    "duration": 20,
    "start_time": "2025-02-06T00:18:46.517Z"
   },
   {
    "duration": 4,
    "start_time": "2025-02-06T00:20:23.048Z"
   },
   {
    "duration": 9,
    "start_time": "2025-02-06T00:20:29.130Z"
   },
   {
    "duration": 11,
    "start_time": "2025-02-06T00:21:20.724Z"
   },
   {
    "duration": 6,
    "start_time": "2025-02-06T00:21:37.627Z"
   },
   {
    "duration": 4,
    "start_time": "2025-02-06T00:22:13.521Z"
   },
   {
    "duration": 5,
    "start_time": "2025-02-06T00:22:13.634Z"
   },
   {
    "duration": 3,
    "start_time": "2025-02-06T00:22:36.217Z"
   },
   {
    "duration": 2,
    "start_time": "2025-02-06T00:22:41.289Z"
   },
   {
    "duration": 2,
    "start_time": "2025-02-06T00:22:45.127Z"
   },
   {
    "duration": 4,
    "start_time": "2025-02-06T00:22:55.080Z"
   },
   {
    "duration": 5,
    "start_time": "2025-02-06T00:23:20.242Z"
   },
   {
    "duration": 7,
    "start_time": "2025-02-06T00:23:33.610Z"
   },
   {
    "duration": 3,
    "start_time": "2025-02-06T00:24:40.451Z"
   },
   {
    "duration": 14,
    "start_time": "2025-02-06T00:25:02.964Z"
   },
   {
    "duration": 2,
    "start_time": "2025-02-06T00:25:06.709Z"
   },
   {
    "duration": 3,
    "start_time": "2025-02-06T00:25:07.871Z"
   },
   {
    "duration": 2,
    "start_time": "2025-02-06T00:26:24.918Z"
   },
   {
    "duration": 3,
    "start_time": "2025-02-06T00:26:34.522Z"
   },
   {
    "duration": 4,
    "start_time": "2025-02-06T00:26:43.874Z"
   },
   {
    "duration": 2,
    "start_time": "2025-02-06T00:27:15.261Z"
   },
   {
    "duration": 4,
    "start_time": "2025-02-06T00:27:23.549Z"
   },
   {
    "duration": 2,
    "start_time": "2025-02-06T00:27:54.998Z"
   },
   {
    "duration": 3,
    "start_time": "2025-02-06T00:28:53.493Z"
   },
   {
    "duration": 15,
    "start_time": "2025-02-06T00:29:07.196Z"
   },
   {
    "duration": 2,
    "start_time": "2025-02-06T00:29:16.044Z"
   },
   {
    "duration": 9,
    "start_time": "2025-02-06T00:29:17.373Z"
   },
   {
    "duration": 3,
    "start_time": "2025-02-06T00:30:48.186Z"
   },
   {
    "duration": 8,
    "start_time": "2025-02-06T00:30:49.943Z"
   },
   {
    "duration": 3,
    "start_time": "2025-02-06T00:30:59.726Z"
   },
   {
    "duration": 9,
    "start_time": "2025-02-06T00:31:01.469Z"
   },
   {
    "duration": 9,
    "start_time": "2025-02-06T00:31:40.302Z"
   },
   {
    "duration": 14,
    "start_time": "2025-02-06T00:32:31.367Z"
   },
   {
    "duration": 11,
    "start_time": "2025-02-06T00:32:35.400Z"
   },
   {
    "duration": 2,
    "start_time": "2025-02-06T00:32:39.535Z"
   },
   {
    "duration": 10,
    "start_time": "2025-02-06T00:32:39.542Z"
   },
   {
    "duration": 3,
    "start_time": "2025-02-06T00:32:39.554Z"
   },
   {
    "duration": 11,
    "start_time": "2025-02-06T00:32:39.558Z"
   },
   {
    "duration": 10,
    "start_time": "2025-02-06T00:32:39.571Z"
   },
   {
    "duration": 7,
    "start_time": "2025-02-06T00:32:39.584Z"
   },
   {
    "duration": 4,
    "start_time": "2025-02-06T00:32:39.592Z"
   },
   {
    "duration": 11,
    "start_time": "2025-02-06T00:32:39.598Z"
   },
   {
    "duration": 3,
    "start_time": "2025-02-06T00:32:39.610Z"
   },
   {
    "duration": 7,
    "start_time": "2025-02-06T00:32:39.615Z"
   },
   {
    "duration": 2,
    "start_time": "2025-02-06T00:32:39.625Z"
   },
   {
    "duration": 2,
    "start_time": "2025-02-06T00:32:39.629Z"
   },
   {
    "duration": 4,
    "start_time": "2025-02-06T00:32:39.633Z"
   },
   {
    "duration": 5,
    "start_time": "2025-02-06T00:32:39.639Z"
   },
   {
    "duration": 4,
    "start_time": "2025-02-06T00:32:51.798Z"
   },
   {
    "duration": 10,
    "start_time": "2025-02-06T00:32:56.049Z"
   },
   {
    "duration": 4,
    "start_time": "2025-02-06T00:34:33.090Z"
   },
   {
    "duration": 8,
    "start_time": "2025-02-06T00:34:33.096Z"
   },
   {
    "duration": 2,
    "start_time": "2025-02-06T00:34:33.106Z"
   },
   {
    "duration": 9,
    "start_time": "2025-02-06T00:34:33.110Z"
   },
   {
    "duration": 8,
    "start_time": "2025-02-06T00:34:33.121Z"
   },
   {
    "duration": 3,
    "start_time": "2025-02-06T00:34:33.131Z"
   },
   {
    "duration": 3,
    "start_time": "2025-02-06T00:34:33.136Z"
   },
   {
    "duration": 3,
    "start_time": "2025-02-06T00:34:33.140Z"
   },
   {
    "duration": 7,
    "start_time": "2025-02-06T00:34:33.145Z"
   },
   {
    "duration": 3,
    "start_time": "2025-02-06T00:34:33.153Z"
   },
   {
    "duration": 2,
    "start_time": "2025-02-06T00:34:33.158Z"
   },
   {
    "duration": 4,
    "start_time": "2025-02-06T00:34:33.161Z"
   },
   {
    "duration": 43,
    "start_time": "2025-02-06T00:34:33.167Z"
   },
   {
    "duration": 3,
    "start_time": "2025-02-06T00:36:31.995Z"
   },
   {
    "duration": 15,
    "start_time": "2025-02-06T00:36:35.989Z"
   },
   {
    "duration": 16,
    "start_time": "2025-02-06T00:37:11.697Z"
   },
   {
    "duration": 3,
    "start_time": "2025-02-06T00:37:18.202Z"
   },
   {
    "duration": 3,
    "start_time": "2025-02-06T00:37:28.418Z"
   },
   {
    "duration": 3,
    "start_time": "2025-02-06T00:38:32.262Z"
   },
   {
    "duration": 3,
    "start_time": "2025-02-06T00:38:36.589Z"
   },
   {
    "duration": 13,
    "start_time": "2025-02-06T00:38:46.680Z"
   },
   {
    "duration": 3,
    "start_time": "2025-02-06T00:38:49.977Z"
   },
   {
    "duration": 12,
    "start_time": "2025-02-06T00:38:52.354Z"
   },
   {
    "duration": 3,
    "start_time": "2025-02-06T00:39:07.902Z"
   },
   {
    "duration": 4,
    "start_time": "2025-02-06T00:39:09.323Z"
   },
   {
    "duration": 8,
    "start_time": "2025-02-06T00:49:11.560Z"
   },
   {
    "duration": 9,
    "start_time": "2025-02-06T00:49:26.663Z"
   },
   {
    "duration": 13,
    "start_time": "2025-02-06T00:50:37.098Z"
   },
   {
    "duration": 3,
    "start_time": "2025-02-06T00:50:44.045Z"
   },
   {
    "duration": 6,
    "start_time": "2025-02-06T00:50:47.371Z"
   },
   {
    "duration": 4,
    "start_time": "2025-02-06T00:53:21.233Z"
   },
   {
    "duration": 2309,
    "start_time": "2025-02-06T00:53:48.290Z"
   },
   {
    "duration": 183,
    "start_time": "2025-02-07T03:51:36.784Z"
   },
   {
    "duration": 7,
    "start_time": "2025-02-07T03:51:42.384Z"
   },
   {
    "duration": 2688,
    "start_time": "2025-02-07T03:51:47.729Z"
   },
   {
    "duration": 3658,
    "start_time": "2025-02-07T03:52:00.895Z"
   },
   {
    "duration": 292,
    "start_time": "2025-02-07T03:52:20.258Z"
   },
   {
    "duration": 29,
    "start_time": "2025-02-07T03:52:25.768Z"
   },
   {
    "duration": 15,
    "start_time": "2025-02-07T03:54:41.360Z"
   },
   {
    "duration": 14,
    "start_time": "2025-02-07T03:54:47.259Z"
   },
   {
    "duration": 12,
    "start_time": "2025-02-07T03:54:52.979Z"
   },
   {
    "duration": 3,
    "start_time": "2025-02-07T03:54:54.676Z"
   },
   {
    "duration": 7,
    "start_time": "2025-02-07T03:54:54.681Z"
   },
   {
    "duration": 3,
    "start_time": "2025-02-07T03:54:54.690Z"
   },
   {
    "duration": 10,
    "start_time": "2025-02-07T03:54:54.694Z"
   },
   {
    "duration": 8,
    "start_time": "2025-02-07T03:54:54.707Z"
   },
   {
    "duration": 3,
    "start_time": "2025-02-07T03:54:54.717Z"
   },
   {
    "duration": 8,
    "start_time": "2025-02-07T03:54:54.721Z"
   },
   {
    "duration": 22,
    "start_time": "2025-02-07T03:54:54.730Z"
   },
   {
    "duration": 0,
    "start_time": "2025-02-07T03:54:54.754Z"
   },
   {
    "duration": 0,
    "start_time": "2025-02-07T03:54:54.756Z"
   },
   {
    "duration": 0,
    "start_time": "2025-02-07T03:54:54.757Z"
   },
   {
    "duration": 0,
    "start_time": "2025-02-07T03:54:54.759Z"
   },
   {
    "duration": 0,
    "start_time": "2025-02-07T03:54:54.760Z"
   },
   {
    "duration": 0,
    "start_time": "2025-02-07T03:54:54.762Z"
   },
   {
    "duration": 22,
    "start_time": "2025-02-07T03:55:06.135Z"
   },
   {
    "duration": 22,
    "start_time": "2025-02-07T03:56:03.349Z"
   },
   {
    "duration": 108,
    "start_time": "2025-02-07T03:56:13.296Z"
   },
   {
    "duration": 41,
    "start_time": "2025-02-07T03:56:34.307Z"
   },
   {
    "duration": 95,
    "start_time": "2025-02-07T03:56:39.166Z"
   },
   {
    "duration": 40,
    "start_time": "2025-02-07T03:57:36.521Z"
   },
   {
    "duration": 996,
    "start_time": "2025-02-07T03:57:39.924Z"
   },
   {
    "duration": 611,
    "start_time": "2025-02-07T04:00:37.189Z"
   },
   {
    "duration": 164,
    "start_time": "2025-02-07T04:00:50.490Z"
   },
   {
    "duration": 1093,
    "start_time": "2025-02-07T04:02:15.613Z"
   },
   {
    "duration": 6,
    "start_time": "2025-02-07T04:04:49.438Z"
   },
   {
    "duration": 7,
    "start_time": "2025-02-07T04:05:47.047Z"
   },
   {
    "duration": 6,
    "start_time": "2025-02-07T04:05:48.705Z"
   },
   {
    "duration": 117,
    "start_time": "2025-02-07T04:06:02.912Z"
   },
   {
    "duration": 2,
    "start_time": "2025-02-07T04:07:09.890Z"
   },
   {
    "duration": 119,
    "start_time": "2025-02-07T04:07:28.967Z"
   },
   {
    "duration": 7,
    "start_time": "2025-02-07T04:09:18.541Z"
   },
   {
    "duration": 14,
    "start_time": "2025-02-07T04:10:03.420Z"
   },
   {
    "duration": 6,
    "start_time": "2025-02-07T04:10:10.448Z"
   },
   {
    "duration": 12,
    "start_time": "2025-02-07T04:10:25.640Z"
   },
   {
    "duration": 4,
    "start_time": "2025-02-07T04:10:54.719Z"
   },
   {
    "duration": 17,
    "start_time": "2025-02-07T04:12:02.452Z"
   },
   {
    "duration": 3,
    "start_time": "2025-02-07T04:12:19.521Z"
   },
   {
    "duration": 3,
    "start_time": "2025-02-07T04:12:46.523Z"
   },
   {
    "duration": 3,
    "start_time": "2025-02-07T04:13:19.933Z"
   },
   {
    "duration": 122,
    "start_time": "2025-02-07T04:13:21.488Z"
   },
   {
    "duration": 3,
    "start_time": "2025-02-07T04:14:18.824Z"
   },
   {
    "duration": 121,
    "start_time": "2025-02-07T04:14:20.530Z"
   },
   {
    "duration": 6,
    "start_time": "2025-02-07T04:14:57.082Z"
   },
   {
    "duration": 4,
    "start_time": "2025-02-07T04:15:17.542Z"
   },
   {
    "duration": 6,
    "start_time": "2025-02-07T04:15:19.886Z"
   },
   {
    "duration": 118,
    "start_time": "2025-02-07T04:15:25.276Z"
   },
   {
    "duration": 130,
    "start_time": "2025-02-07T04:15:58.205Z"
   },
   {
    "duration": 2,
    "start_time": "2025-02-07T04:16:54.691Z"
   },
   {
    "duration": 2,
    "start_time": "2025-02-07T04:17:42.790Z"
   },
   {
    "duration": 145,
    "start_time": "2025-02-07T04:18:21.343Z"
   },
   {
    "duration": 154,
    "start_time": "2025-02-07T04:18:26.591Z"
   },
   {
    "duration": 122,
    "start_time": "2025-02-07T04:18:45.644Z"
   },
   {
    "duration": 124,
    "start_time": "2025-02-07T04:19:02.634Z"
   },
   {
    "duration": 3,
    "start_time": "2025-02-07T04:20:02.130Z"
   },
   {
    "duration": 110,
    "start_time": "2025-02-07T04:21:12.625Z"
   },
   {
    "duration": 114,
    "start_time": "2025-02-07T04:22:07.665Z"
   },
   {
    "duration": 5,
    "start_time": "2025-02-07T04:22:49.096Z"
   },
   {
    "duration": 107,
    "start_time": "2025-02-07T04:22:54.238Z"
   },
   {
    "duration": 105,
    "start_time": "2025-02-07T04:23:07.098Z"
   },
   {
    "duration": 108,
    "start_time": "2025-02-07T04:23:12.519Z"
   },
   {
    "duration": 106,
    "start_time": "2025-02-07T04:23:18.737Z"
   },
   {
    "duration": 103,
    "start_time": "2025-02-07T04:23:35.862Z"
   },
   {
    "duration": 108,
    "start_time": "2025-02-07T04:23:58.787Z"
   },
   {
    "duration": 104,
    "start_time": "2025-02-07T04:24:16.859Z"
   },
   {
    "duration": 105,
    "start_time": "2025-02-07T04:24:32.228Z"
   },
   {
    "duration": 5,
    "start_time": "2025-02-07T04:24:58.560Z"
   },
   {
    "duration": 41,
    "start_time": "2025-02-07T04:25:38.297Z"
   },
   {
    "duration": 7,
    "start_time": "2025-02-07T04:25:59.141Z"
   },
   {
    "duration": 148,
    "start_time": "2025-02-07T04:26:05.703Z"
   },
   {
    "duration": 123,
    "start_time": "2025-02-07T04:29:22.472Z"
   },
   {
    "duration": 13,
    "start_time": "2025-02-07T04:32:50.357Z"
   },
   {
    "duration": 10,
    "start_time": "2025-02-07T04:32:57.349Z"
   },
   {
    "duration": 3,
    "start_time": "2025-02-07T04:35:48.661Z"
   },
   {
    "duration": 4,
    "start_time": "2025-02-07T04:37:16.954Z"
   },
   {
    "duration": 3,
    "start_time": "2025-02-07T04:38:31.414Z"
   },
   {
    "duration": 3,
    "start_time": "2025-02-07T04:38:47.199Z"
   },
   {
    "duration": 10,
    "start_time": "2025-02-07T04:57:36.364Z"
   },
   {
    "duration": 10,
    "start_time": "2025-02-07T04:59:32.130Z"
   },
   {
    "duration": 5,
    "start_time": "2025-02-07T05:00:32.839Z"
   },
   {
    "duration": 9,
    "start_time": "2025-02-07T05:04:55.252Z"
   },
   {
    "duration": 6,
    "start_time": "2025-02-07T05:05:05.127Z"
   },
   {
    "duration": 11,
    "start_time": "2025-02-07T05:05:08.709Z"
   },
   {
    "duration": 9,
    "start_time": "2025-02-07T05:05:13.241Z"
   },
   {
    "duration": 7,
    "start_time": "2025-02-07T05:16:25.127Z"
   },
   {
    "duration": 2,
    "start_time": "2025-02-07T05:16:29.465Z"
   },
   {
    "duration": 9,
    "start_time": "2025-02-07T05:16:29.471Z"
   },
   {
    "duration": 3,
    "start_time": "2025-02-07T05:16:29.482Z"
   },
   {
    "duration": 9,
    "start_time": "2025-02-07T05:16:29.487Z"
   },
   {
    "duration": 9,
    "start_time": "2025-02-07T05:16:29.497Z"
   },
   {
    "duration": 3,
    "start_time": "2025-02-07T05:16:29.508Z"
   },
   {
    "duration": 3,
    "start_time": "2025-02-07T05:16:29.513Z"
   },
   {
    "duration": 4,
    "start_time": "2025-02-07T05:16:29.517Z"
   },
   {
    "duration": 6,
    "start_time": "2025-02-07T05:16:29.522Z"
   },
   {
    "duration": 135,
    "start_time": "2025-02-07T05:16:29.530Z"
   },
   {
    "duration": 113,
    "start_time": "2025-02-07T05:16:29.666Z"
   },
   {
    "duration": 5,
    "start_time": "2025-02-07T05:17:00.320Z"
   },
   {
    "duration": 4,
    "start_time": "2025-02-07T05:19:39.115Z"
   },
   {
    "duration": 5,
    "start_time": "2025-02-07T05:19:45.424Z"
   },
   {
    "duration": 2,
    "start_time": "2025-02-07T05:20:17.236Z"
   },
   {
    "duration": 5,
    "start_time": "2025-02-07T05:20:21.554Z"
   },
   {
    "duration": 13,
    "start_time": "2025-02-07T05:20:58.523Z"
   },
   {
    "duration": 178,
    "start_time": "2025-02-07T05:21:13.691Z"
   },
   {
    "duration": 3,
    "start_time": "2025-02-07T05:21:17.093Z"
   },
   {
    "duration": 12,
    "start_time": "2025-02-07T05:21:18.895Z"
   },
   {
    "duration": 11,
    "start_time": "2025-02-07T05:21:24.152Z"
   },
   {
    "duration": 12,
    "start_time": "2025-02-07T05:22:16.789Z"
   },
   {
    "duration": 14,
    "start_time": "2025-02-07T05:23:38.493Z"
   },
   {
    "duration": 3,
    "start_time": "2025-02-07T05:24:49.961Z"
   },
   {
    "duration": 587,
    "start_time": "2025-02-07T05:24:56.646Z"
   },
   {
    "duration": 4,
    "start_time": "2025-02-07T05:25:13.850Z"
   },
   {
    "duration": 3,
    "start_time": "2025-02-07T05:25:14.510Z"
   },
   {
    "duration": 2,
    "start_time": "2025-02-07T05:25:15.096Z"
   },
   {
    "duration": 44,
    "start_time": "2025-02-07T05:25:22.320Z"
   },
   {
    "duration": 45,
    "start_time": "2025-02-07T05:26:00.019Z"
   },
   {
    "duration": 5,
    "start_time": "2025-02-07T05:26:06.582Z"
   },
   {
    "duration": 13,
    "start_time": "2025-02-07T05:26:10.921Z"
   },
   {
    "duration": 13,
    "start_time": "2025-02-07T05:26:29.478Z"
   },
   {
    "duration": 4,
    "start_time": "2025-02-07T05:26:52.573Z"
   },
   {
    "duration": 12,
    "start_time": "2025-02-07T05:26:58.458Z"
   },
   {
    "duration": 5,
    "start_time": "2025-02-07T05:28:26.503Z"
   },
   {
    "duration": 4,
    "start_time": "2025-02-07T05:28:31.961Z"
   },
   {
    "duration": 5,
    "start_time": "2025-02-07T05:29:38.906Z"
   },
   {
    "duration": 12,
    "start_time": "2025-02-07T05:32:59.217Z"
   },
   {
    "duration": 14,
    "start_time": "2025-02-07T05:34:13.814Z"
   },
   {
    "duration": 3,
    "start_time": "2025-02-07T05:34:27.429Z"
   },
   {
    "duration": 3,
    "start_time": "2025-02-07T05:34:30.946Z"
   },
   {
    "duration": 3,
    "start_time": "2025-02-07T05:35:17.574Z"
   },
   {
    "duration": 6,
    "start_time": "2025-02-07T05:35:19.536Z"
   },
   {
    "duration": 4,
    "start_time": "2025-02-07T05:35:38.972Z"
   },
   {
    "duration": 5,
    "start_time": "2025-02-07T05:36:58.527Z"
   },
   {
    "duration": 4,
    "start_time": "2025-02-07T05:37:06.446Z"
   },
   {
    "duration": 3,
    "start_time": "2025-02-07T05:37:28.691Z"
   },
   {
    "duration": 3,
    "start_time": "2025-02-07T05:37:49.060Z"
   },
   {
    "duration": 3,
    "start_time": "2025-02-07T05:38:35.278Z"
   },
   {
    "duration": 2,
    "start_time": "2025-02-07T05:42:26.022Z"
   },
   {
    "duration": 4,
    "start_time": "2025-02-07T05:43:42.317Z"
   }
  ],
  "kernelspec": {
   "display_name": "Python 3",
   "language": "python",
   "name": "python3"
  },
  "language_info": {
   "codemirror_mode": {
    "name": "ipython",
    "version": 3
   },
   "file_extension": ".py",
   "mimetype": "text/x-python",
   "name": "python",
   "nbconvert_exporter": "python",
   "pygments_lexer": "ipython3",
   "version": "3.13.0"
  },
  "toc": {
   "base_numbering": 1,
   "nav_menu": {},
   "number_sections": true,
   "sideBar": true,
   "skip_h1_title": true,
   "title_cell": "Table of Contents",
   "title_sidebar": "Contents",
   "toc_cell": false,
   "toc_position": {},
   "toc_section_display": true,
   "toc_window_display": false
  }
 },
 "nbformat": 4,
 "nbformat_minor": 2
}
