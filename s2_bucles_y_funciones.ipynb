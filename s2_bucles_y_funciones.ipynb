{
 "cells": [
  {
   "cell_type": "markdown",
   "metadata": {},
   "source": [
    "# SPRINT 2. Python básico continuación"
   ]
  },
  {
   "cell_type": "markdown",
   "metadata": {
    "id": "UCjlyTyyJm9R"
   },
   "source": [
    "\n",
    "\n",
    "Todavía desempeñándote como miembro del equipo analítico, en el primer proyecto hemos sentado las bases para la segunda fase. ¡Hemos llegado! Ahora aplicarás técnicas avanzadas para extraer datos significativos, atendiendo a las crecientes necesidades del cliente."
   ]
  },
  {
   "cell_type": "markdown",
   "metadata": {
    "id": "4ZzATQthJm9Y"
   },
   "source": [
    "Como sabes, las empresas recopilan y almacenan datos de una forma particular. Store 1 quiere almacenar toda la información de sus clientes en una tabla.\n",
    "\n",
    "\n",
    "| user_id | user_name | user_age | purchase_category | spending_per_category |\n",
    "| --- | --- | --- | --- | --- |\n",
    "| '32415' | 'mike', 'reed' | 32 | 'electronics', 'sport', 'books' | 894, 213, 173 |\n",
    "| '31980' | 'kate', 'morgan' | 24 | 'clothes', 'shoes' | 439, 390 |\n",
    "\n",
    "En términos técnicos, una tabla es simplemente una lista anidada que contiene una sublista para cada usuario o usuaria.\n",
    "\n",
    "Store 1 ha creado una tabla de este tipo para sus usuarios. Está almacenada en la variable \"users\". Cada sublista contiene el ID del usuario, nombre y apellido, edad, categorías favoritas y el importe gastado en cada categoría."
   ]
  },
  {
   "cell_type": "markdown",
   "metadata": {
    "id": "EMQlsEYlxGET"
   },
   "source": [
    "-\t**user_id:** el identificador único para cada usuario.\n",
    "-\t**user_name:** el nombre de usuario.\n",
    "-\t**user_age:** la edad del usuario.\n",
    "-\t**fav_categories:** las categorías de artículos comprados por el usuario, como 'ELECTRONICS', 'SPORT', 'BOOKS', etc.\n",
    "-\t**total_spendings:** la lista de enteros que indican la cantidad gastada en cada una de sus categorías favoritas.\n"
   ]
  },
  {
   "cell_type": "code",
   "execution_count": null,
   "metadata": {
    "id": "LfBCH4crxLOt"
   },
   "outputs": [],
   "source": [
    "users = [\n",
    "    ['32415', ' mike_reed ', 32.0, ['ELECTRONICS', 'SPORT', 'BOOKS'], [894, 213, 173]],\n",
    "    ['31980', 'kate morgan', 24.0, ['CLOTHES', 'BOOKS'], [439, 390]],\n",
    "    ['32156', ' john doe ', 37.0, ['ELECTRONICS', 'HOME', 'FOOD'], [459, 120, 99]],\n",
    "    ['32761', 'SAMANTHA SMITH', 29.0, ['CLOTHES', 'ELECTRONICS', 'BEAUTY'], [299, 679, 85]],\n",
    "    ['32984', 'David White', 41.0, ['BOOKS', 'HOME', 'SPORT'], [234, 329, 243]],\n",
    "    ['33001', 'emily brown', 26.0, ['BEAUTY', 'HOME', 'FOOD'], [213, 659, 79]],\n",
    "    ['33767', ' Maria Garcia', 33.0, ['CLOTHES', 'FOOD', 'BEAUTY'], [499, 189, 63]],\n",
    "    ['33912', 'JOSE MARTINEZ', 22.0, ['SPORT', 'ELECTRONICS', 'HOME'], [259, 549, 109]],\n",
    "    ['34009', 'lisa wilson ', 35.0, ['HOME', 'BOOKS', 'CLOTHES'], [329, 189, 329]],\n",
    "    ['34278', 'James Lee', 28.0, ['BEAUTY', 'CLOTHES', 'ELECTRONICS'], [189, 299, 579]],\n",
    "]\n"
   ]
  },
  {
   "cell_type": "markdown",
   "metadata": {
    "id": "vgnoxECvlWvr"
   },
   "source": [
    "# Paso 1\n",
    "\n",
    "En la última tarea de la primera parte de este proyecto escribiste código para:\n",
    "\n",
    "1. Eliminar todos los espacios iniciales y finales de los nombres, así como cualquier guion bajo.\n",
    "2. Convertir todas las edades en números enteros.\n",
    "3. Separar todos los nombres y apellidos en una sublista.\n",
    "\n",
    "Hagámoslo ahora una función para que podamos usarla para fijar a cualquier cliente. Nombra a tu función `clean_user`. Debe recibir una lista con toda la información del cliente (user_info), así como dos enteros. Uno de ellos señala el índice del nombre del cliente y el otro es el índice de la edad del cliente en la lista. Debe devolver la lista limpia después de aplicar todos los cambios anteriores. Pruébala llamándola, pasándole la lista `test_user[]` y luego muéstrala en pantalla.\n"
   ]
  },
  {
   "cell_type": "code",
   "execution_count": 4,
   "metadata": {
    "colab": {
     "base_uri": "https://localhost:8080/"
    },
    "id": "RN6LIlHelWvr",
    "outputId": "632ceadd-0f9a-46cf-91c1-b4bea53623d0"
   },
   "outputs": [
    {
     "name": "stdout",
     "output_type": "stream",
     "text": [
      "['32415', ['mike', 'reed'], 32, ['ELECTRONICS', 'SPORT', 'BOOKS'], [894, 213, 173]]\n"
     ]
    }
   ],
   "source": [
    "# define tu función aquí\n",
    "\n",
    "def clean_user(user_info, name_index, age_index):\n",
    "    \n",
    "\n",
    "    # Paso 1: elimina del nombre espacios iniciales y finales, así como guiones\n",
    "    user_name = user_info[name_index].strip().replace('_', ' ')\n",
    "\n",
    "    # Paso 2: convierte la edad en entero\n",
    "    user_age = int(user_info[age_index])\n",
    "\n",
    "    # Paso 3: separa el nombre y el apellido en una sublista\n",
    "    user_name = user_name.split()\n",
    "\n",
    "    # Prepara la lista con la información completa del usuario\n",
    "    # Reemplaza el nombre y la edad originales con los datos limpios\n",
    "    user_info[name_index] = user_name\n",
    "    user_info[age_index] = user_age\n",
    "\n",
    "    return user_info\n",
    "\n",
    "# Prueba la función\n",
    "test_user = ['32415', ' mike_reed ', 32.0, ['ELECTRONICS', 'SPORT', 'BOOKS'], [894, 213, 173]]\n",
    "name_index = 1\n",
    "age_index = 2\n",
    "\n",
    "print(clean_user(test_user,name_index,age_index)) # completa aquí el llamado de la función"
   ]
  },
  {
   "cell_type": "markdown",
   "metadata": {
    "id": "E8u2OO1YlWvr"
   },
   "source": [
    "********Pista********\n",
    "\n",
    "Para implementar la función `clean_user`, efectúa los siguientes pasos:\n",
    "\n",
    "1. **Recortar y reemplazar:** utiliza `strip()` para eliminar espacios iniciales y finales del nombre del usuario y `replace('_', ' ')` para eliminar guiones bajos con espacios.\n",
    "2. **Convertir la edad:** convierte la edad en entero utilizando la función `int()`.\n",
    "3. **Separar el nombre:** utiliza el método `split()` para separar el nombre y el apellido, creando una sublista.\n",
    "\n",
    "Asegúrate de modificar la lista `user_info` que aparece actualizando el nombre y la edad con los datos limpios antes de devolver la lista. Prueba tu función con un usuario de ejemplo para verificar que funciona correctamente.\n"
   ]
  },
  {
   "cell_type": "markdown",
   "metadata": {
    "id": "zF6ADQNLJm9W"
   },
   "source": [
    "# Paso 2\n",
    "\n",
    "Observa que todas las categorías favoritas están almacenadas en mayúsculas. Llena una nueva lista llamada `fav_categories_low` con las mismas categorías, pero en minúsculas, iterando sobre los valores en la lista `fav_categories`, modificándolos y luego añade los nuevos valores a la lista `fav_categories_low`. Como siempre, muestra el resultado final.\n"
   ]
  },
  {
   "cell_type": "code",
   "execution_count": 15,
   "metadata": {
    "colab": {
     "base_uri": "https://localhost:8080/"
    },
    "id": "Ltoq2LXjJm9W",
    "outputId": "5a05c845-8d3c-4890-8070-38ccb63dd5b4"
   },
   "outputs": [
    {
     "name": "stdout",
     "output_type": "stream",
     "text": [
      "['electronics', 'sport', 'books']\n"
     ]
    }
   ],
   "source": [
    "fav_categories = ['ELECTRONICS', 'SPORT', 'BOOKS']\n",
    "fav_categories_low = []\n",
    "\n",
    "# escribe tu código aquí\n",
    "for i in fav_categories:\n",
    "    fav_categories_low.append(i.lower())\n",
    "\n",
    "print(fav_categories_low)"
   ]
  },
  {
   "cell_type": "markdown",
   "metadata": {
    "id": "w0fevXJTJm9X"
   },
   "source": [
    "********Pista********\n",
    "\n",
    "Crea un bucle `for` que itere sobre la lista `fav_categories`. Utiliza el método `lower()` para transformar cada categoría a minúsculas. Luego, utiliza el método `append()` para agregar los valores actualizados a la lista `fav_categories_low`."
   ]
  },
  {
   "cell_type": "markdown",
   "metadata": {
    "id": "xhKqJwaqdrRu"
   },
   "source": [
    "# Paso 3\n",
    "\n",
    "Ahora hagamos lo mismo, pero para cada uno de los usuarios de la empresa. Llena una lista nueva llamada `users_categories_low` con los mismos usuarios, pero con sus categorías en minúsculas, iterando sobre los valores en la lista `users`, luego itera sobre los valores en `user_categories`, modificándolos, y después agrega los nuevos valores de usuarios a la lista `users_categories_low`. Como siempre, muestra el resultado final.\n"
   ]
  },
  {
   "cell_type": "code",
   "execution_count": 14,
   "metadata": {
    "colab": {
     "base_uri": "https://localhost:8080/"
    },
    "id": "uBfnDzZfdrR1",
    "outputId": "6e0b3a3b-c94e-4402-a9d1-dc88fe07256e"
   },
   "outputs": [
    {
     "name": "stdout",
     "output_type": "stream",
     "text": [
      "[['32415', ' mike_reed ', 32.0, ['electronics', 'sport', 'books'], [894, 213, 173]], ['31980', 'kate morgan', 24.0, ['clothes', 'books'], [439, 390]], ['32156', ' john doe ', 37.0, ['electronics', 'home', 'food'], [459, 120, 99]], ['32761', 'SAMANTHA SMITH', 29.0, ['clothes', 'electronics', 'beauty'], [299, 679, 85]], ['32984', 'David White', 41.0, ['books', 'home', 'sport'], [234, 329, 243]], ['33001', 'emily brown', 26.0, ['beauty', 'home', 'food'], [213, 659, 79]], ['33767', ' Maria Garcia', 33.0, ['clothes', 'food', 'beauty'], [499, 189, 63]], ['33912', 'JOSE MARTINEZ', 22.0, ['sport', 'electronics', 'home'], [259, 549, 109]], ['34009', 'lisa wilson ', 35.0, ['home', 'books', 'clothes'], [329, 189, 329]], ['34278', 'James Lee', 28.0, ['beauty', 'clothes', 'electronics'], [189, 299, 579]]]\n"
     ]
    }
   ],
   "source": [
    "users = [\n",
    "    ['32415', ' mike_reed ', 32.0, ['ELECTRONICS', 'SPORT', 'BOOKS'], [894, 213, 173]],\n",
    "    ['31980', 'kate morgan', 24.0, ['CLOTHES', 'BOOKS'], [439, 390]],\n",
    "    ['32156', ' john doe ', 37.0, ['ELECTRONICS', 'HOME', 'FOOD'], [459, 120, 99]],\n",
    "    ['32761', 'SAMANTHA SMITH', 29.0, ['CLOTHES', 'ELECTRONICS', 'BEAUTY'], [299, 679, 85]],\n",
    "    ['32984', 'David White', 41.0, ['BOOKS', 'HOME', 'SPORT'], [234, 329, 243]],\n",
    "    ['33001', 'emily brown', 26.0, ['BEAUTY', 'HOME', 'FOOD'], [213, 659, 79]],\n",
    "    ['33767', ' Maria Garcia', 33.0, ['CLOTHES', 'FOOD', 'BEAUTY'], [499, 189, 63]],\n",
    "    ['33912', 'JOSE MARTINEZ', 22.0, ['SPORT', 'ELECTRONICS', 'HOME'], [259, 549, 109]],\n",
    "    ['34009', 'lisa wilson ', 35.0, ['HOME', 'BOOKS', 'CLOTHES'], [329, 189, 329]],\n",
    "    ['34278', 'James Lee', 28.0, ['BEAUTY', 'CLOTHES', 'ELECTRONICS'], [189, 299, 579]],\n",
    "]\n",
    "\n",
    "users_categories_low = []\n",
    "\n",
    "# Itera sobre cada usuario en la lista users\n",
    "for user in users:\n",
    "    # Lista temporal para almacenar las categorías en minúsculas\n",
    "    categories_low = []\n",
    "    \n",
    "    # Itera sobre cada categoría del usuario\n",
    "    for category in user[3]:  # user[3] contiene la lista de categorías\n",
    "        # Conversión de la categoría a minúsculas y agregado a la lista temporal\n",
    "        categories_low.append(category.lower())\n",
    "    \n",
    "    # Modificación del  usuario\n",
    "    user.pop(3)  # Eliminación de la lista de categorías anterior\n",
    "    user.insert(3, categories_low)  # Inserta la nueva lista de categorías en minúsculas\n",
    "    \n",
    "    # Adición del usuario modificado a la lista users_categories_low\n",
    "    users_categories_low.append(user)\n",
    "\n",
    "# Imprime la lista con usuarios modificados\n",
    "print(users_categories_low)"
   ]
  },
  {
   "cell_type": "markdown",
   "metadata": {
    "id": "lom04QHKdrR1"
   },
   "source": [
    "********Pista********\n",
    "\n",
    "Crea un bucle `for` que itere sobre la lista `users`. Luego crea otro bucle `for` que itere sobre las categorías de usuarios para acceder al usuario y modificarlo. Utiliza el método `lower()` para transformar cada categoría a minúsculas. Luego, modifica al usuario eliminando la lista de categorías anteriores con `pop()` y con `insert()` inserta la nueva en su lugar. A continuación utiliza el método `append()` para agregar a los usuarios actualizados a la lista `users_categories_low`."
   ]
  },
  {
   "cell_type": "markdown",
   "metadata": {
    "id": "uisdgp0or8rS"
   },
   "source": [
    "# Paso 4\n",
    "\n",
    "Ahora, completemos el código de nuestra función `clean_user` para limpiar la categoría:\n",
    "1. Añade otro parámetro con el índice de categorías.\n",
    "2. Pon todos los nombres en minúsculas antes de aplicar \"strip\" y \"replace\".\n",
    "\n",
    "Después, crea un bucle y aplica tu función a toda la lista de usuarios, agregando tus resultados a la lista `users_clean`. Después muéstralo"
   ]
  },
  {
   "cell_type": "code",
   "execution_count": 5,
   "metadata": {
    "colab": {
     "base_uri": "https://localhost:8080/"
    },
    "id": "ioGD_Cs5r8ra",
    "outputId": "fddb59df-a686-4270-9a01-1803d53a0da9"
   },
   "outputs": [
    {
     "name": "stdout",
     "output_type": "stream",
     "text": [
      "[['32415', ['mike', 'reed'], 32, ['electronics', 'sport', 'books'], [894, 213, 173]], ['31980', ['kate', 'morgan'], 24, ['clothes', 'books'], [439, 390]], ['32156', ['john', 'doe'], 37, ['electronics', 'home', 'food'], [459, 120, 99]], ['32761', ['samantha', 'smith'], 29, ['clothes', 'electronics', 'beauty'], [299, 679, 85]], ['32984', ['david', 'white'], 41, ['books', 'home', 'sport'], [234, 329, 243]], ['33001', ['emily', 'brown'], 26, ['beauty', 'home', 'food'], [213, 659, 79]], ['33767', ['maria', 'garcia'], 33, ['clothes', 'food', 'beauty'], [499, 189, 63]], ['33912', ['jose', 'martinez'], 22, ['sport', 'electronics', 'home'], [259, 549, 109]], ['34009', ['lisa', 'wilson'], 35, ['home', 'books', 'clothes'], [329, 189, 329]], ['34278', ['james', 'lee'], 28, ['beauty', 'clothes', 'electronics'], [189, 299, 579]]]\n"
     ]
    }
   ],
   "source": [
    "def clean_user(user_info, name_index, age_index, cat_index):\n",
    "\n",
    "    # Paso 1: pon todo en minúsculas y elimina del nombre espacios iniciales y finales, así como guiones bajos\n",
    "    user_name_1 = user_info[name_index].lower().strip().replace('_', ' ')\n",
    "\n",
    "    # Paso 2: convierte la edad en entero\n",
    "    user_age_1 = int(user_info[age_index])\n",
    "\n",
    "    # Paso 3: separa el nombre y el apellido en una sublista\n",
    "    user_name_1 = user_name_1.split()\n",
    "\n",
    "    # Paso 4: convierte todas las categorías a minúsculas\n",
    "    categories_low = []\n",
    "    for category in user_info[cat_index]:\n",
    "        categories_low.append(category.lower())\n",
    "\n",
    "    # Prepara la lista con la información completa del usuario\n",
    "    user_info[name_index] = user_name_1\n",
    "    user_info[age_index] = user_age_1\n",
    "    user_info[cat_index] = categories_low\n",
    "\n",
    "    return user_info\n",
    "\n",
    "users = [\n",
    "    ['32415', ' mike_reed ', 32.0, ['ELECTRONICS', 'SPORT', 'BOOKS'], [894, 213, 173]],\n",
    "    ['31980', 'kate morgan', 24.0, ['CLOTHES', 'BOOKS'], [439, 390]],\n",
    "    ['32156', ' john doe ', 37.0, ['ELECTRONICS', 'HOME', 'FOOD'], [459, 120, 99]],\n",
    "    ['32761', 'SAMANTHA SMITH', 29.0, ['CLOTHES', 'ELECTRONICS', 'BEAUTY'], [299, 679, 85]],\n",
    "    ['32984', 'David White', 41.0, ['BOOKS', 'HOME', 'SPORT'], [234, 329, 243]],\n",
    "    ['33001', 'emily brown', 26.0, ['BEAUTY', 'HOME', 'FOOD'], [213, 659, 79]],\n",
    "    ['33767', ' Maria Garcia', 33.0, ['CLOTHES', 'FOOD', 'BEAUTY'], [499, 189, 63]],\n",
    "    ['33912', 'JOSE MARTINEZ', 22.0, ['SPORT', 'ELECTRONICS', 'HOME'], [259, 549, 109]],\n",
    "    ['34009', 'lisa wilson ', 35.0, ['HOME', 'BOOKS', 'CLOTHES'], [329, 189, 329]],\n",
    "    ['34278', 'James Lee', 28.0, ['BEAUTY', 'CLOTHES', 'ELECTRONICS'], [189, 299, 579]],\n",
    "]\n",
    "\n",
    "name_index = 1\n",
    "age_index = 2\n",
    "cat_index = 3\n",
    "users_cleaned = []\n",
    "\n",
    "for user in users: # escribe tu código aquí\n",
    "  user_cleaned = clean_user(user,name_index,age_index,cat_index)# escribe tu código aquí\n",
    "  users_cleaned.append(user_cleaned)# escribe tu código aquí\n",
    "\n",
    "print(users_cleaned)"
   ]
  },
  {
   "cell_type": "markdown",
   "metadata": {
    "id": "h5SOurz6r8ra"
   },
   "source": [
    "********Pista********\n",
    "\n",
    "Efectúa los siguientes pasos para implementar la función `clean_user`:\n",
    "\n",
    "1. **Copia y adapta:** copia el código de tu función anterior `clean_user`.\n",
    "\n",
    "2. **Pon el nombre en minúsculas:** antes de aplicar `split()` y `replace()`, aplica `lower()` al nombre del cliente.\n",
    "\n",
    "3. **Procesa las categorías:** agrega una sección nueva para gestionar las categorías. Pon cada categoría de la lista en minúsculas y almacénalas en una nueva lista.\n",
    "\n",
    "4. **Ejecuta tu código:** asegúrate de que la función `clean_user` actualice la lista `user_info` con el nombre, edad y categorías limpias. Haz un bucle en la lista `users` y llama a la función `clean_user`, pasando el usuario, `name_index`, `age_index` y `cat_index` para especificar los índices correctos para el nombre, la edad y las categorías, respectivamente.\n",
    "\n",
    "5. Guarda cada nuevo usuario limpio en la lista nueva `users_cleaned`.\n",
    "\n",
    "Muestra en pantalla la lista `users_cleaned` para asegurarte de que tu código realiza las respectivas transformaciones.\n"
   ]
  },
  {
   "cell_type": "markdown",
   "metadata": {
    "id": "eONfrv9nJm9Y"
   },
   "source": [
    "# Paso 5\n",
    "\n",
    "La empresa desea conocer sus ingresos totales y te pide que proporciones este valor.\n",
    "Para calcular los ingresos de la empresa, sigue estos pasos:\n",
    "\n",
    "1. Utiliza `for` para iterar sobre la lista `users`.\n",
    "2. Extrae la lista de gastos de cada usuario y suma los valores.\n",
    "3. Actualiza el valor de los ingresos con el total de cada usuario.\n",
    "\n",
    "Así obtendrás los ingresos totales de la empresa que mostrarás en la pantalla al final.\n"
   ]
  },
  {
   "cell_type": "code",
   "execution_count": 6,
   "metadata": {
    "colab": {
     "base_uri": "https://localhost:8080/"
    },
    "id": "ijzboKgoJm9Y",
    "outputId": "9aad5fe8-55ec-475b-9b40-afc590ae05e6"
   },
   "outputs": [
    {
     "name": "stdout",
     "output_type": "stream",
     "text": [
      "9189\n"
     ]
    }
   ],
   "source": [
    "users = [['32415', ['mike', 'reed'], 32, ['electronics', 'sport', 'books'], [894, 213, 173]],\n",
    "         ['31980', ['kate', 'morgan'], 24, ['clothes', 'books'], [439, 390]],\n",
    "         ['32156', ['john', 'doe'], 37, ['electronics', 'home', 'food'], [459, 120, 99]],\n",
    "         ['32761', ['samantha', 'smith'], 29, ['clothes', 'electronics', 'beauty'], [299, 679, 85]],\n",
    "         ['32984', ['david', 'white'], 41, ['books', 'home', 'sport'], [234, 329, 243]],\n",
    "         ['33001', ['emily', 'brown'], 26, ['beauty', 'home', 'food'], [213, 659, 79]],\n",
    "         ['33767', ['maria', 'garcia'], 33, ['clothes', 'food', 'beauty'], [499, 189, 63]],\n",
    "         ['33912', ['jose', 'martinez'], 22, ['sport', 'electronics', 'home'], [259, 549, 109]],\n",
    "         ['34009', ['lisa', 'wilson'], 35, ['home', 'books', 'clothes'], [329, 189, 329]],\n",
    "         ['34278', ['james', 'lee'], 28, ['beauty', 'clothes', 'electronics'], [189, 299, 579]]]\n",
    "\n",
    "revenue = 0\n",
    "\n",
    "for user in users:\n",
    "    spendings_list = user[-1]  # Extrae la lista de gastos\n",
    "    total_spendings = sum(spendings_list)  # Suma los gastos del usuario\n",
    "    revenue += total_spendings  # Actualiza el total de ingresos\n",
    "\t# escribe tu código aquí\n",
    "\n",
    "print(revenue)"
   ]
  },
  {
   "cell_type": "markdown",
   "metadata": {
    "id": "s_1nxg0nJm9Y"
   },
   "source": [
    "********Pista********\n",
    "\n",
    "Para extraer la lista de gastos realizados por un usuario, utiliza la indexación y asígnala a la variable `spendings_list`. Luego, utiliza la función integrada para calcular la suma de `spending_list`. Por último, actualiza el valor de `revenue` añadiéndole  `total_spendings` mediante la asignación aumentada."
   ]
  },
  {
   "cell_type": "markdown",
   "metadata": {
    "id": "R1wNYes8Jm9X"
   },
   "source": [
    "# Paso 6\n",
    "\n",
    "La empresa quiere ofrecer descuentos a sus clientes leales. Los clientes que realizan compras por un importe total mayor a $1500 se consideran leales y recibirán un descuento.\n",
    "\n",
    "Nuestro objetivo es crear un bucle `while` que compruebe el importe total gastado y se detenga al alcanzarlo. Para simular nuevas compras, la variable `new_purchase` genera un número entre 30 y 80 en cada iteración del bucle. Esto representa la cantidad de dinero gastada en una nueva compra y es lo que debes agregar al total.\n",
    "\n",
    "Una vez que se alcance el importe objetivo y se termine el bucle `while`, se mostrará la cantidad final.\n"
   ]
  },
  {
   "cell_type": "code",
   "execution_count": 21,
   "metadata": {
    "colab": {
     "base_uri": "https://localhost:8080/"
    },
    "id": "eVBfoyx7Jm9X",
    "outputId": "27091cb5-f5f4-4b74-f92a-c2d822354a40"
   },
   "outputs": [
    {
     "name": "stdout",
     "output_type": "stream",
     "text": [
      "Compra de: $76 - Total gastado: $1356\n",
      "Compra de: $35 - Total gastado: $1391\n",
      "Compra de: $56 - Total gastado: $1447\n",
      "Compra de: $35 - Total gastado: $1482\n",
      "Compra de: $30 - Total gastado: $1512\n",
      "1512\n"
     ]
    }
   ],
   "source": [
    "from random import randint\n",
    "\n",
    "total_amount_spent = 1280\n",
    "target_amount = 1500\n",
    "\n",
    "while total_amount_spent < target_amount:  # Mientras el total sea menor al objetivo\n",
    "    new_purchase = randint(30, 80)  # Genera un número aleatorio de 30 a 80\n",
    "    total_amount_spent += new_purchase  # Agrega la nueva compra al total\n",
    "    print(f\"Compra de: ${new_purchase} - Total gastado: ${total_amount_spent}\")\n",
    "\n",
    "print(total_amount_spent)"
   ]
  },
  {
   "cell_type": "markdown",
   "metadata": {
    "id": "u7GIkFFnJm9Y"
   },
   "source": [
    "********Pista********\n",
    "\n",
    "En el bucle `while`, debes comparar `total_amount_spent` (importe total gastado) con `target_amount` (importe objetivo). Durante cada iteración del bucle, actualiza la variable `total_amount_spent` agregándole el valor `new_purchase`."
   ]
  },
  {
   "cell_type": "markdown",
   "metadata": {
    "id": "IoyNnalCJm9Z"
   },
   "source": [
    "# Paso 7\n",
    "\n",
    "Recorre la lista de usuarios que te hemos proporcionado y muestra los nombres de los clientes menores de 30 años.\n"
   ]
  },
  {
   "cell_type": "code",
   "execution_count": 29,
   "metadata": {
    "colab": {
     "base_uri": "https://localhost:8080/"
    },
    "id": "pn5WkcpJJm9Z",
    "outputId": "e95fe449-868e-4a89-f9e6-6e3c7b62bd80"
   },
   "outputs": [
    {
     "name": "stdout",
     "output_type": "stream",
     "text": [
      "kate\n",
      "samantha\n",
      "emily\n",
      "jose\n",
      "james\n"
     ]
    }
   ],
   "source": [
    "users = [['32415', ['mike', 'reed'], 32, ['electronics', 'sport', 'books'], [894, 213, 173]],\n",
    "         ['31980', ['kate', 'morgan'], 24, ['clothes', 'books'], [439, 390]],\n",
    "         ['32156', ['john', 'doe'], 37, ['electronics', 'home', 'food'], [459, 120, 99]],\n",
    "         ['32761', ['samantha', 'smith'], 29, ['clothes', 'electronics', 'beauty'], [299, 679, 85]],\n",
    "         ['32984', ['david', 'white'], 41, ['books', 'home', 'sport'], [234, 329, 243]],\n",
    "         ['33001', ['emily', 'brown'], 26, ['beauty', 'home', 'food'], [213, 659, 79]],\n",
    "         ['33767', ['maria', 'garcia'], 33, ['clothes', 'food', 'beauty'], [499, 189, 63]],\n",
    "         ['33912', ['jose', 'martinez'], 22, ['sport', 'electronics', 'home'], [259, 549, 109]],\n",
    "         ['34009', ['lisa', 'wilson'], 35, ['home', 'books', 'clothes'], [329, 189, 329]],\n",
    "         ['34278', ['james', 'lee'], 28, ['beauty', 'clothes', 'electronics'], [189, 299, 579]]]\n",
    "\n",
    "\n",
    "# escribe tu código aquí\n",
    "for user in users:\n",
    "    if user[2] < 30:\n",
    "        first_name = user[1][0]  # Extrae solo el primer nombre\n",
    "        print(first_name)\n",
    "    "
   ]
  },
  {
   "cell_type": "markdown",
   "metadata": {
    "id": "23wCUaWZJm9Z"
   },
   "source": [
    "********Pista********\n",
    "\n",
    "Utiliza el bucle for para iterar sobre cada fila de la tabla. Utiliza `if` dentro de un bucle `for` para imprimir el nombre de usuario o usuaria. El campo `age` tiene el índice 2"
   ]
  },
  {
   "cell_type": "markdown",
   "metadata": {
    "id": "0ok38JMoJm9Z"
   },
   "source": [
    "# Paso 8\n",
    "\n",
    "Mostremos en pantalla los nombres de los usuarios menores de 30 años que acumulan un gasto total superior a 1000 dólares.\n"
   ]
  },
  {
   "cell_type": "code",
   "execution_count": 7,
   "metadata": {
    "colab": {
     "base_uri": "https://localhost:8080/"
    },
    "id": "4oAW1QDFJm9Z",
    "outputId": "c514027b-62cc-42bd-a8bb-d29975abd663"
   },
   "outputs": [
    {
     "name": "stdout",
     "output_type": "stream",
     "text": [
      "samantha\n",
      "james\n"
     ]
    }
   ],
   "source": [
    "users = [['32415', ['mike', 'reed'], 32, ['electronics', 'sport', 'books'], [894, 213, 173]],\n",
    "         ['31980', ['kate', 'morgan'], 24, ['clothes', 'books'], [439, 390]],\n",
    "         ['32156', ['john', 'doe'], 37, ['electronics', 'home', 'food'], [459, 120, 99]],\n",
    "         ['32761', ['samantha', 'smith'], 29, ['clothes', 'electronics', 'beauty'], [299, 679, 85]],\n",
    "         ['32984', ['david', 'white'], 41, ['books', 'home', 'sport'], [234, 329, 243]],\n",
    "         ['33001', ['emily', 'brown'], 26, ['beauty', 'home', 'food'], [213, 659, 79]],\n",
    "         ['33767', ['maria', 'garcia'], 33, ['clothes', 'food', 'beauty'], [499, 189, 63]],\n",
    "         ['33912', ['jose', 'martinez'], 22, ['sport', 'electronics', 'home'], [259, 549, 109]],\n",
    "         ['34009', ['lisa', 'wilson'], 35, ['home', 'books', 'clothes'], [329, 189, 329]],\n",
    "         ['34278', ['james', 'lee'], 28, ['beauty', 'clothes', 'electronics'], [189, 299, 579]]]\n",
    "\n",
    "# escribe tu código aquí\n",
    "\n",
    "for user in users:\n",
    "    spendings_list = user[-1] #declaramos cual sera la lista de gastos.\n",
    "    total_spendings = sum(spendings_list) #declaramos una nueva variable en la cual se van a sumar los valores de la lista de gastos\n",
    "    if user[2] < 30 and total_spendings > 1000: # creamos una sentencia condicional, si el usuario es mayor a 30 años y ha gastados más de 1000 dls entonces se imprimirá su nombre.\n",
    "        \n",
    "        print (user[1][0]) #se utiliza print ya que return solo es para funciones \"def\"\n",
    "        "
   ]
  },
  {
   "cell_type": "markdown",
   "metadata": {
    "id": "5atbF9e_Jm9Z"
   },
   "source": [
    "********Pista********\n",
    "\n",
    "Utiliza el bucle for para iterar sobre cada fila de la tabla. Utiliza `if` dentro de un bucle `for` para imprimir el nombre de usuario o usuaria. El campo `age` tiene el índice 2. Utiliza la función `sum` para sumar los gastos y luego comprueba si es mayor de 1000 dólares."
   ]
  },
  {
   "cell_type": "markdown",
   "metadata": {
    "id": "H2jI5ljVJm9d"
   },
   "source": [
    "# Paso 9\n",
    "\n",
    "Ahora vamos a mostrar el nombre y la edad de todos los usuarios y todas las usuarias que han comprado ropa (\"clothes\"). Imprime el nombre y la edad en la misma declaración print.\n"
   ]
  },
  {
   "cell_type": "code",
   "execution_count": 1,
   "metadata": {
    "colab": {
     "base_uri": "https://localhost:8080/"
    },
    "id": "oSLk86udJm9d",
    "outputId": "5c323307-6591-4af9-c2d2-529a329367d6"
   },
   "outputs": [
    {
     "name": "stdout",
     "output_type": "stream",
     "text": [
      "kate 24\n",
      "samantha 29\n",
      "maria 33\n",
      "lisa 35\n",
      "james 28\n"
     ]
    }
   ],
   "source": [
    "users = [['32415', ['mike', 'reed'], 32, ['electronics', 'sport', 'books'], [894, 213, 173]],\n",
    "         ['31980', ['kate', 'morgan'], 24, ['clothes', 'books'], [439, 390]],\n",
    "         ['32156', ['john', 'doe'], 37, ['electronics', 'home', 'food'], [459, 120, 99]],\n",
    "         ['32761', ['samantha', 'smith'], 29, ['clothes', 'electronics', 'beauty'], [299, 679, 85]],\n",
    "         ['32984', ['david', 'white'], 41, ['books', 'home', 'sport'], [234, 329, 243]],\n",
    "         ['33001', ['emily', 'brown'], 26, ['beauty', 'home', 'food'], [213, 659, 79]],\n",
    "         ['33767', ['maria', 'garcia'], 33, ['clothes', 'food', 'beauty'], [499, 189, 63]],\n",
    "         ['33912', ['jose', 'martinez'], 22, ['sport', 'electronics', 'home'], [259, 549, 109]],\n",
    "         ['34009', ['lisa', 'wilson'], 35, ['home', 'books', 'clothes'], [329, 189, 329]],\n",
    "         ['34278', ['james', 'lee'], 28, ['beauty', 'clothes', 'electronics'], [189, 299, 579]]]\n",
    "\n",
    "# escribe tu código aquí\n",
    "for user in users: #bucle para recorrer cada uno de los usuarios\n",
    "    if 'clothes' in user[-2]: #comprobamos si dentro del elemento [-2] se encuentra presente la categoría clothes\n",
    "     print(user[1][0], user[2]) \n",
    "        \n",
    "    "
   ]
  },
  {
   "cell_type": "markdown",
   "metadata": {
    "id": "EasWyEPqJm9d"
   },
   "source": [
    "********Pista********\n",
    "\n",
    "Utiliza el bucle for para iterar sobre cada fila de la tabla. A continuación, utiliza otro bucle para comprobar si este usuario ha comprado ropa (\"clothes\") y, en caso afirmativo, muestra el nombre y la edad dentro de la misma declaración print, separándolos por comas: `print(firstname, age)`."
   ]
  },
  {
   "cell_type": "markdown",
   "metadata": {
    "id": "88QES-0NJzCJ"
   },
   "source": [
    "# Paso 10\n",
    "\n",
    "La dirección requiere de una función que proporcione información sobre los clientes, incluyendo sus nombres, edades y gasto total, filtrada por categorías específicas. Con base en fragmentos de código anteriores, crearemos una función llamada `get_client_by_cat` con las siguientes especificaciones:\n",
    "\n",
    "1. **Parámetros:**\n",
    "   - **users:** una lista con los datos de los usuarios.\n",
    "   - **id_index:** el índice donde está almacenado el ID del cliente en la lista de usuarios.\n",
    "   - **name_index:** el índice donde está almacenado el nombre del cliente en la lista de usuarios.\n",
    "   - **age_index:** el índice donde la edad del cliente está almacenada en la lista de usuarios.\n",
    "   - **category_index:** el índice donde las categorías de compras del cliente están listadas.\n",
    "   - **amounts_index:** el índice donde las cantidades gastadas en cada categoría están almacenadas.\n",
    "   - **filter_category:** un string que representa el nombre de la categoría para filtrar clientes.\n",
    "\n",
    "2. **Salida:**\n",
    "   - La función devuelve una lista de sublistas. Cada sublista contiene:\n",
    "     - El número ID del cliente.\n",
    "     - Una sublista con el nombre y apellido del cliente.\n",
    "     - La edad del cliente.\n",
    "     - Un entero que representa la cantidad total gastada por el cliente.\n",
    "\n",
    "Por ejemplo, si llamas a la función con los siguientes parámetros:\n",
    "\n",
    "\n",
    "```python\n",
    "get_client_by_cat([\n",
    "    ['32415', ['mike', 'reed'], 32, ['electronics', 'sport', 'books'], [894, 213, 173]]\n",
    "], 0, 1, 2, 3, 4, 'books')\n",
    "```\n",
    "\n",
    "La salida será:\n",
    "\n",
    "```python\n",
    "[['32415', ['mike', 'reed'], 32, 1280]]\n",
    "```\n",
    "\n",
    "Esta salida muestra que el cliente con el ID '32415', llamado Mike Reed, de 32 años, gastó un total de 1280 en la categoría 'books' y otras compras.\n",
    "\n",
    "Después de hacer tu función, llámala pasándole nuestra lista de usuarios, los índices adecuados y la categoría 'home' y muestra en pantalla la lista que resulta.\n",
    "\n"
   ]
  },
  {
   "cell_type": "code",
   "execution_count": 12,
   "metadata": {
    "colab": {
     "base_uri": "https://localhost:8080/"
    },
    "id": "-Iqf7AcXJzCP",
    "outputId": "ab62869b-a028-4096-9553-e0a5b5a8c92e"
   },
   "outputs": [
    {
     "name": "stdout",
     "output_type": "stream",
     "text": [
      "[['32156', ['john', 'doe'], 37, 678], ['32984', ['david', 'white'], 41, 806], ['33001', ['emily', 'brown'], 26, 951], ['33912', ['jose', 'martinez'], 22, 917], ['34009', ['lisa', 'wilson'], 35, 847]]\n"
     ]
    }
   ],
   "source": [
    "def get_client_by_cat(users, id_index, name_index, age_index, category_index, amounts_index, filter_category):\n",
    "    result = []\n",
    "    \n",
    "    for user in users:\n",
    "        # Verifica si la categoría deseada está en la lista de categorías del usuario\n",
    "        if filter_category in user[category_index]:\n",
    "            \n",
    "            # Calcular el gasto total en todas las categorías\n",
    "            total_spendings = sum(user[amounts_index])\n",
    "            \n",
    "            # Crea la sublista con la información del cliente\n",
    "            client_info = [\n",
    "                user[id_index], #id\n",
    "                user[name_index], #nombre\n",
    "                user[age_index], #edad\n",
    "                total_spendings #gastos totales\n",
    "            ]\n",
    "            \n",
    "            # Añade la sublista a la lista de resultados\n",
    "            result.append(client_info)\n",
    "    \n",
    "    return result\n",
    "\n",
    "\n",
    "\n",
    "# La lista de usuarios\n",
    "users = [\n",
    "    ['32415', ['mike', 'reed'], 32, ['electronics', 'sport', 'books'], [894, 213, 173]],\n",
    "    ['31980', ['kate', 'morgan'], 24, ['clothes', 'books'], [439, 390]],\n",
    "    ['32156', ['john', 'doe'], 37, ['electronics', 'home', 'food'], [459, 120, 99]],\n",
    "    ['32761', ['samantha', 'smith'], 29, ['clothes', 'electronics', 'beauty'], [299, 679, 85]],\n",
    "    ['32984', ['david', 'white'], 41, ['books', 'home', 'sport'], [234, 329, 243]],\n",
    "    ['33001', ['emily', 'brown'], 26, ['beauty', 'home', 'food'], [213, 659, 79]],\n",
    "    ['33767', ['maria', 'garcia'], 33, ['clothes', 'food', 'beauty'], [499, 189, 63]],\n",
    "    ['33912', ['jose', 'martinez'], 22, ['sport', 'electronics', 'home'], [259, 549, 109]],\n",
    "    ['34009', ['lisa', 'wilson'], 35, ['home', 'books', 'clothes'], [329, 189, 329]],\n",
    "    ['34278', ['james', 'lee'], 28, ['beauty', 'clothes', 'electronics'], [189, 299, 579]]\n",
    "]\n",
    "\n",
    "# Llama a la función con la categoría 'home'\n",
    "result = get_client_by_cat(users, 0, 1, 2, 3, 4, 'home')# escribe tu código aquí\n",
    "\n",
    "# Muestra en pantalla la lista que resulta\n",
    "print(result)\n"
   ]
  },
  {
   "cell_type": "markdown",
   "metadata": {
    "id": "wkWQL9Z9JzCP"
   },
   "source": [
    "********Pista********\n",
    "\n",
    "Utiliza un bucle for para iterar sobre cada usuario en la lista. Para cada usuario, verifica que la categoría deseada (\"filter_category\") esté en su lista de categorías de compras. Si se encuentra la categoría, calcula la cantidad total gastada sumando las cantidades en la lista correspondiente. Después, crea una sublista con el ID, nombre (como una lista de nombres y apellidos), edad y cantidad total gastada del usuario. Añade esta sublista a la lista final que resulta."
   ]
  },
  {
   "cell_type": "markdown",
   "metadata": {},
   "source": [
    "----"
   ]
  },
  {
   "cell_type": "markdown",
   "metadata": {},
   "source": [
    "**Conclusión**"
   ]
  },
  {
   "cell_type": "markdown",
   "metadata": {},
   "source": [
    "En este proyecto, se abordaron varios conceptos y técnicas fundamentales en Python para el manejo y análisis de datos. A través de una serie de pasos, se aprendió a:\n",
    "\n",
    "**Limpieza de datos:** Se desarrolló una función clean_user para limpiar y estandarizar los datos de los usuarios, eliminando espacios innecesarios, convirtiendo edades a enteros, y separando nombres y apellidos en sublistas. Esto es crucial para asegurar que los datos estén en un formato consistente y listo para su análisis.\n",
    "\n",
    "**Transformación de datos:** Se aprendió a convertir categorías de compras de mayúsculas a minúsculas, lo que facilita la comparación y el análisis posterior. Esto se hizo tanto para una lista de categorías específicas como para todas las categorías de todos los usuarios.\n",
    "\n",
    "**Cálculo de métricas clave:** Se calculó el ingreso total de la empresa sumando los gastos de todos los usuarios. Esto es esencial para entender el rendimiento financiero de la empresa y tomar decisiones basadas en datos.\n",
    "\n",
    "**Filtrado y selección de datos:** Se implementaron bucles y condicionales para filtrar usuarios basados en criterios específicos, como la edad y el gasto total. Esto permite identificar segmentos de clientes específicos, como aquellos que son menores de 30 años y han gastado más de $1000.\n",
    "\n",
    "**Funciones personalizadas:** Se creó una función get_client_by_cat que permite filtrar usuarios basados en una categoría de compra específica y devolver información detallada sobre esos usuarios. Esto demuestra cómo se pueden crear herramientas personalizadas para análisis de datos más complejos.\n",
    "\n",
    "**Uso de bucles y condicionales:** Se utilizaron bucles for y while, junto con condicionales if, para iterar sobre listas y realizar operaciones específicas basadas en condiciones. Esto es fundamental para automatizar tareas repetitivas y realizar análisis condicionales.\n",
    "\n",
    "**Manipulación de listas y sublistas:** Se trabajó extensivamente con listas y sublistas, aprendiendo a acceder, modificar y manipular datos dentro de estructuras de datos anidadas. Esto es esencial para manejar datos tabulares en Python."
   ]
  },
  {
   "cell_type": "markdown",
   "metadata": {},
   "source": [
    "----"
   ]
  },
  {
   "cell_type": "code",
   "execution_count": null,
   "metadata": {},
   "outputs": [],
   "source": [
    "----"
   ]
  }
 ],
 "metadata": {
  "ExecuteTimeLog": [
   {
    "duration": 9,
    "start_time": "2024-09-04T02:45:26.586Z"
   },
   {
    "duration": 5,
    "start_time": "2024-09-04T02:45:35.059Z"
   },
   {
    "duration": 5,
    "start_time": "2024-09-04T02:46:14.467Z"
   },
   {
    "duration": 5,
    "start_time": "2024-09-04T02:46:28.666Z"
   },
   {
    "duration": 4,
    "start_time": "2024-09-04T02:46:37.700Z"
   },
   {
    "duration": 4,
    "start_time": "2024-09-04T02:46:47.467Z"
   },
   {
    "duration": 5,
    "start_time": "2024-09-04T02:51:07.238Z"
   },
   {
    "duration": 5,
    "start_time": "2024-09-04T02:53:40.688Z"
   },
   {
    "duration": 4,
    "start_time": "2024-09-04T03:03:46.886Z"
   },
   {
    "duration": 177,
    "start_time": "2024-09-04T03:05:23.678Z"
   },
   {
    "duration": 8,
    "start_time": "2024-09-04T03:11:05.717Z"
   },
   {
    "duration": 4,
    "start_time": "2024-09-04T03:11:08.719Z"
   },
   {
    "duration": 4,
    "start_time": "2024-09-04T03:11:24.596Z"
   },
   {
    "duration": 7,
    "start_time": "2024-09-04T03:13:05.768Z"
   },
   {
    "duration": 5,
    "start_time": "2024-09-04T03:14:10.450Z"
   },
   {
    "duration": 6,
    "start_time": "2024-09-04T03:14:53.733Z"
   },
   {
    "duration": 4,
    "start_time": "2024-09-04T03:15:07.455Z"
   },
   {
    "duration": 4,
    "start_time": "2024-09-04T03:21:43.329Z"
   },
   {
    "duration": 161,
    "start_time": "2024-09-04T03:21:50.204Z"
   },
   {
    "duration": 17,
    "start_time": "2024-09-04T03:22:13.190Z"
   },
   {
    "duration": 13,
    "start_time": "2024-09-04T03:22:37.732Z"
   },
   {
    "duration": 13,
    "start_time": "2024-09-04T03:23:50.374Z"
   },
   {
    "duration": 13,
    "start_time": "2024-09-04T03:23:56.309Z"
   },
   {
    "duration": 13,
    "start_time": "2024-09-04T03:24:10.431Z"
   },
   {
    "duration": 4,
    "start_time": "2024-09-04T03:24:46.849Z"
   },
   {
    "duration": 7,
    "start_time": "2024-09-04T03:31:13.732Z"
   },
   {
    "duration": 6,
    "start_time": "2024-09-04T03:31:28.323Z"
   },
   {
    "duration": 5,
    "start_time": "2024-09-04T03:31:47.656Z"
   },
   {
    "duration": 7,
    "start_time": "2024-09-04T04:50:59.141Z"
   },
   {
    "duration": 5,
    "start_time": "2024-09-04T04:53:14.135Z"
   },
   {
    "duration": 5,
    "start_time": "2024-09-04T05:06:37.519Z"
   },
   {
    "duration": 7,
    "start_time": "2024-09-04T05:07:05.566Z"
   },
   {
    "duration": 5,
    "start_time": "2024-09-05T00:26:20.527Z"
   },
   {
    "duration": 12,
    "start_time": "2024-09-05T00:27:03.972Z"
   },
   {
    "duration": 7,
    "start_time": "2024-09-05T00:27:14.994Z"
   },
   {
    "duration": 209,
    "start_time": "2024-09-05T00:27:28.930Z"
   },
   {
    "duration": 4,
    "start_time": "2024-09-05T00:30:20.825Z"
   },
   {
    "duration": 3,
    "start_time": "2024-09-05T00:30:35.139Z"
   },
   {
    "duration": 7,
    "start_time": "2024-09-05T00:31:52.448Z"
   },
   {
    "duration": 19,
    "start_time": "2024-09-05T00:38:49.867Z"
   },
   {
    "duration": 19,
    "start_time": "2024-09-05T00:39:06.021Z"
   },
   {
    "duration": 7,
    "start_time": "2024-09-05T00:42:36.990Z"
   },
   {
    "duration": 20,
    "start_time": "2024-09-05T00:42:47.885Z"
   },
   {
    "duration": 42,
    "start_time": "2024-09-05T00:42:57.740Z"
   },
   {
    "duration": 6,
    "start_time": "2024-09-05T00:43:26.354Z"
   },
   {
    "duration": 4,
    "start_time": "2024-09-05T01:30:26.591Z"
   },
   {
    "duration": 3,
    "start_time": "2024-09-05T01:30:33.978Z"
   },
   {
    "duration": 4,
    "start_time": "2024-09-05T01:30:48.761Z"
   },
   {
    "duration": 5,
    "start_time": "2024-09-05T01:31:04.564Z"
   },
   {
    "duration": 4,
    "start_time": "2024-09-05T01:31:26.721Z"
   },
   {
    "duration": 5,
    "start_time": "2024-09-05T01:33:33.083Z"
   },
   {
    "duration": 7,
    "start_time": "2024-09-05T01:33:39.510Z"
   },
   {
    "duration": 19,
    "start_time": "2024-09-05T01:38:05.936Z"
   },
   {
    "duration": 19,
    "start_time": "2024-09-05T01:38:36.373Z"
   },
   {
    "duration": 23,
    "start_time": "2024-09-05T01:38:53.225Z"
   },
   {
    "duration": 18,
    "start_time": "2024-09-05T01:40:07.224Z"
   },
   {
    "duration": 19,
    "start_time": "2024-09-05T01:40:20.470Z"
   },
   {
    "duration": 6,
    "start_time": "2024-09-05T01:40:41.048Z"
   },
   {
    "duration": 8,
    "start_time": "2024-09-05T01:47:27.320Z"
   },
   {
    "duration": 7,
    "start_time": "2024-09-05T01:47:38.180Z"
   },
   {
    "duration": 7,
    "start_time": "2024-09-05T01:47:44.016Z"
   },
   {
    "duration": 6,
    "start_time": "2024-09-05T01:49:38.263Z"
   },
   {
    "duration": 9,
    "start_time": "2024-09-05T01:51:39.434Z"
   },
   {
    "duration": 6,
    "start_time": "2024-09-05T01:51:46.261Z"
   },
   {
    "duration": 6,
    "start_time": "2024-09-05T01:52:50.090Z"
   },
   {
    "duration": 8,
    "start_time": "2024-09-05T01:57:28.983Z"
   },
   {
    "duration": 6,
    "start_time": "2024-09-05T01:57:35.908Z"
   },
   {
    "duration": 6,
    "start_time": "2024-09-05T02:00:51.843Z"
   },
   {
    "duration": 8,
    "start_time": "2024-09-05T02:53:40.535Z"
   },
   {
    "duration": 8,
    "start_time": "2024-09-05T02:54:06.772Z"
   },
   {
    "duration": 7,
    "start_time": "2024-09-05T02:57:36.623Z"
   },
   {
    "duration": 3,
    "start_time": "2024-09-05T02:58:10.560Z"
   },
   {
    "duration": 7,
    "start_time": "2024-09-05T03:03:19.228Z"
   },
   {
    "duration": 6,
    "start_time": "2024-09-05T03:03:51.264Z"
   },
   {
    "duration": 6,
    "start_time": "2024-09-05T03:04:24.910Z"
   },
   {
    "duration": 7,
    "start_time": "2024-09-05T03:04:57.327Z"
   },
   {
    "duration": 6,
    "start_time": "2024-09-05T03:07:49.848Z"
   },
   {
    "duration": 7,
    "start_time": "2024-09-05T03:20:27.132Z"
   },
   {
    "duration": 7,
    "start_time": "2024-09-05T03:24:34.367Z"
   },
   {
    "duration": 6,
    "start_time": "2024-09-05T03:29:38.071Z"
   },
   {
    "duration": 5,
    "start_time": "2024-09-05T03:31:52.312Z"
   },
   {
    "duration": 5,
    "start_time": "2024-09-05T03:32:17.423Z"
   }
  ],
  "colab": {
   "provenance": []
  },
  "kernelspec": {
   "display_name": "Python 3 (ipykernel)",
   "language": "python",
   "name": "python3"
  },
  "language_info": {
   "codemirror_mode": {
    "name": "ipython",
    "version": 3
   },
   "file_extension": ".py",
   "mimetype": "text/x-python",
   "name": "python",
   "nbconvert_exporter": "python",
   "pygments_lexer": "ipython3",
   "version": "3.9.19"
  },
  "toc": {
   "base_numbering": 1,
   "nav_menu": {},
   "number_sections": true,
   "sideBar": true,
   "skip_h1_title": true,
   "title_cell": "Table of Contents",
   "title_sidebar": "Contents",
   "toc_cell": false,
   "toc_position": {},
   "toc_section_display": true,
   "toc_window_display": false
  }
 },
 "nbformat": 4,
 "nbformat_minor": 1
}
