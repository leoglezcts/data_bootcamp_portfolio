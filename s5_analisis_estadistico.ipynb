{
 "cells": [
  {
   "cell_type": "markdown",
   "metadata": {},
   "source": [
    "# Sprint 5. Análisis Estadístico"
   ]
  },
  {
   "cell_type": "markdown",
   "metadata": {
    "id": "3rYiDeEH0q0f"
   },
   "source": [
    "## ¿Cuál es la mejor tarifa?\n",
    "\n",
    "Trabajas como analista para el operador de telecomunicaciones Megaline. La empresa ofrece a sus clientes dos tarifas de prepago, Surf y Ultimate. El departamento comercial quiere saber cuál de las tarifas genera más ingresos para poder ajustar el presupuesto de publicidad.\n",
    "\n",
    "Vas a realizar un análisis preliminar de las tarifas basado en una selección de clientes relativamente pequeña. Tendrás los datos de 500 clientes de Megaline: quiénes son los clientes, de dónde son, qué tarifa usan, así como la cantidad de llamadas que hicieron y los mensajes de texto que enviaron en 2018. Tu trabajo es analizar el comportamiento de los clientes y determinar qué tarifa de prepago genera más ingresos."
   ]
  },
  {
   "cell_type": "markdown",
   "metadata": {
    "id": "VNddPNRQ0q0w"
   },
   "source": [
    "[Te proporcionamos algunos comentarios para orientarte mientras completas este proyecto. Pero debes asegurarte de eliminar todos los comentarios entre corchetes antes de entregar tu proyecto.]\n",
    "\n",
    "[Antes de sumergirte en el análisis de datos, explica por tu propia cuenta el propósito del proyecto y las acciones que planeas realizar.]\n",
    "\n",
    "[Ten en cuenta que estudiar, modificar y analizar datos es un proceso iterativo. Es normal volver a los pasos anteriores y corregirlos/ampliarlos para permitir nuevos pasos.]"
   ]
  },
  {
   "cell_type": "markdown",
   "metadata": {
    "id": "MQi4IPy70q0y"
   },
   "source": [
    "### Inicialización"
   ]
  },
  {
   "cell_type": "code",
   "execution_count": 91,
   "metadata": {
    "id": "MtYIuBxu0q0z"
   },
   "outputs": [],
   "source": [
    "# Cargar todas las librerías\n",
    "import pandas as pd\n",
    "import numpy as np\n",
    "import matplotlib.pyplot as plt\n",
    "import seaborn as sns\n",
    "from scipy import stats as st \n"
   ]
  },
  {
   "cell_type": "markdown",
   "metadata": {
    "id": "4ysWWC5i0q00"
   },
   "source": [
    "### Cargar datos"
   ]
  },
  {
   "cell_type": "code",
   "execution_count": 92,
   "metadata": {
    "id": "CCqPW7rS0q01"
   },
   "outputs": [],
   "source": [
    "# Carga los archivos de datos en diferentes DataFrames\n",
    "\n",
    "llamadas = pd.read_csv('/datasets/megaline_calls.csv')\n",
    "internet = pd.read_csv('/datasets/megaline_internet.csv')\n",
    "mensajes = pd.read_csv('/datasets/megaline_messages.csv')\n",
    "planes = pd.read_csv('/datasets/megaline_plans.csv')\n",
    "usuarios = pd.read_csv('/datasets/megaline_users.csv')\n",
    "\n"
   ]
  },
  {
   "cell_type": "markdown",
   "metadata": {
    "id": "69qqoJ3r0q01"
   },
   "source": [
    "### Preparar los datos"
   ]
  },
  {
   "cell_type": "markdown",
   "metadata": {
    "id": "vUuZw80S0q01"
   },
   "source": [
    "[Los datos para este proyecto se dividen en varias tablas. Explora cada una para tener una comprensión inicial de los datos. Si es necesario, haz las correcciones requeridas en cada tabla.]"
   ]
  },
  {
   "cell_type": "code",
   "execution_count": 93,
   "metadata": {},
   "outputs": [],
   "source": [
    "#Declaración de función\n",
    "\n",
    "def tabla_info (tabla):\n",
    "    #conversión de campos con fechas a Datetime\n",
    "    for col in tabla.columns:\n",
    "        if 'date' in col.lower():\n",
    "            tabla[col] = pd.to_datetime(tabla[col])\n",
    "            \n",
    "    print('INFORMACIÓN DE TABLA')\n",
    "    print(tabla.info())\n",
    "    print()\n",
    "    \n",
    "    print('SECCIÓN DE VALORES NULOS')\n",
    "    nulos = tabla.isna().sum()\n",
    "    print(nulos)\n",
    "    print()\n",
    "    \n",
    "    print('SECCIÓN DE VALORES DUPLICADOS')\n",
    "    duplicados = tabla.duplicated().sum()\n",
    "    print(duplicados)"
   ]
  },
  {
   "cell_type": "code",
   "execution_count": 94,
   "metadata": {},
   "outputs": [
    {
     "name": "stdout",
     "output_type": "stream",
     "text": [
      "INFORMACIÓN DE TABLA\n",
      "<class 'pandas.core.frame.DataFrame'>\n",
      "RangeIndex: 137735 entries, 0 to 137734\n",
      "Data columns (total 4 columns):\n",
      " #   Column     Non-Null Count   Dtype         \n",
      "---  ------     --------------   -----         \n",
      " 0   id         137735 non-null  object        \n",
      " 1   user_id    137735 non-null  int64         \n",
      " 2   call_date  137735 non-null  datetime64[ns]\n",
      " 3   duration   137735 non-null  float64       \n",
      "dtypes: datetime64[ns](1), float64(1), int64(1), object(1)\n",
      "memory usage: 4.2+ MB\n",
      "None\n",
      "\n",
      "SECCIÓN DE VALORES NULOS\n",
      "id           0\n",
      "user_id      0\n",
      "call_date    0\n",
      "duration     0\n",
      "dtype: int64\n",
      "\n",
      "SECCIÓN DE VALORES DUPLICADOS\n",
      "0\n"
     ]
    }
   ],
   "source": [
    "#Análisis para tabla llamadas\n",
    "tabla_info(llamadas)"
   ]
  },
  {
   "cell_type": "code",
   "execution_count": 95,
   "metadata": {},
   "outputs": [
    {
     "name": "stdout",
     "output_type": "stream",
     "text": [
      "INFORMACIÓN DE TABLA\n",
      "<class 'pandas.core.frame.DataFrame'>\n",
      "RangeIndex: 104825 entries, 0 to 104824\n",
      "Data columns (total 4 columns):\n",
      " #   Column        Non-Null Count   Dtype         \n",
      "---  ------        --------------   -----         \n",
      " 0   id            104825 non-null  object        \n",
      " 1   user_id       104825 non-null  int64         \n",
      " 2   session_date  104825 non-null  datetime64[ns]\n",
      " 3   mb_used       104825 non-null  float64       \n",
      "dtypes: datetime64[ns](1), float64(1), int64(1), object(1)\n",
      "memory usage: 3.2+ MB\n",
      "None\n",
      "\n",
      "SECCIÓN DE VALORES NULOS\n",
      "id              0\n",
      "user_id         0\n",
      "session_date    0\n",
      "mb_used         0\n",
      "dtype: int64\n",
      "\n",
      "SECCIÓN DE VALORES DUPLICADOS\n",
      "0\n"
     ]
    }
   ],
   "source": [
    "#Análisis para tabla internet\n",
    "tabla_info(internet)"
   ]
  },
  {
   "cell_type": "code",
   "execution_count": 96,
   "metadata": {},
   "outputs": [
    {
     "name": "stdout",
     "output_type": "stream",
     "text": [
      "INFORMACIÓN DE TABLA\n",
      "<class 'pandas.core.frame.DataFrame'>\n",
      "RangeIndex: 76051 entries, 0 to 76050\n",
      "Data columns (total 3 columns):\n",
      " #   Column        Non-Null Count  Dtype         \n",
      "---  ------        --------------  -----         \n",
      " 0   id            76051 non-null  object        \n",
      " 1   user_id       76051 non-null  int64         \n",
      " 2   message_date  76051 non-null  datetime64[ns]\n",
      "dtypes: datetime64[ns](1), int64(1), object(1)\n",
      "memory usage: 1.7+ MB\n",
      "None\n",
      "\n",
      "SECCIÓN DE VALORES NULOS\n",
      "id              0\n",
      "user_id         0\n",
      "message_date    0\n",
      "dtype: int64\n",
      "\n",
      "SECCIÓN DE VALORES DUPLICADOS\n",
      "0\n"
     ]
    }
   ],
   "source": [
    "tabla_info(mensajes)"
   ]
  },
  {
   "cell_type": "code",
   "execution_count": 97,
   "metadata": {},
   "outputs": [
    {
     "name": "stdout",
     "output_type": "stream",
     "text": [
      "INFORMACIÓN DE TABLA\n",
      "<class 'pandas.core.frame.DataFrame'>\n",
      "RangeIndex: 2 entries, 0 to 1\n",
      "Data columns (total 8 columns):\n",
      " #   Column                 Non-Null Count  Dtype  \n",
      "---  ------                 --------------  -----  \n",
      " 0   messages_included      2 non-null      int64  \n",
      " 1   mb_per_month_included  2 non-null      int64  \n",
      " 2   minutes_included       2 non-null      int64  \n",
      " 3   usd_monthly_pay        2 non-null      int64  \n",
      " 4   usd_per_gb             2 non-null      int64  \n",
      " 5   usd_per_message        2 non-null      float64\n",
      " 6   usd_per_minute         2 non-null      float64\n",
      " 7   plan_name              2 non-null      object \n",
      "dtypes: float64(2), int64(5), object(1)\n",
      "memory usage: 256.0+ bytes\n",
      "None\n",
      "\n",
      "SECCIÓN DE VALORES NULOS\n",
      "messages_included        0\n",
      "mb_per_month_included    0\n",
      "minutes_included         0\n",
      "usd_monthly_pay          0\n",
      "usd_per_gb               0\n",
      "usd_per_message          0\n",
      "usd_per_minute           0\n",
      "plan_name                0\n",
      "dtype: int64\n",
      "\n",
      "SECCIÓN DE VALORES DUPLICADOS\n",
      "0\n"
     ]
    }
   ],
   "source": [
    "tabla_info(planes)"
   ]
  },
  {
   "cell_type": "code",
   "execution_count": 98,
   "metadata": {},
   "outputs": [
    {
     "name": "stdout",
     "output_type": "stream",
     "text": [
      "INFORMACIÓN DE TABLA\n",
      "<class 'pandas.core.frame.DataFrame'>\n",
      "RangeIndex: 500 entries, 0 to 499\n",
      "Data columns (total 8 columns):\n",
      " #   Column      Non-Null Count  Dtype         \n",
      "---  ------      --------------  -----         \n",
      " 0   user_id     500 non-null    int64         \n",
      " 1   first_name  500 non-null    object        \n",
      " 2   last_name   500 non-null    object        \n",
      " 3   age         500 non-null    int64         \n",
      " 4   city        500 non-null    object        \n",
      " 5   reg_date    500 non-null    datetime64[ns]\n",
      " 6   plan        500 non-null    object        \n",
      " 7   churn_date  34 non-null     datetime64[ns]\n",
      "dtypes: datetime64[ns](2), int64(2), object(4)\n",
      "memory usage: 31.4+ KB\n",
      "None\n",
      "\n",
      "SECCIÓN DE VALORES NULOS\n",
      "user_id         0\n",
      "first_name      0\n",
      "last_name       0\n",
      "age             0\n",
      "city            0\n",
      "reg_date        0\n",
      "plan            0\n",
      "churn_date    466\n",
      "dtype: int64\n",
      "\n",
      "SECCIÓN DE VALORES DUPLICADOS\n",
      "0\n"
     ]
    }
   ],
   "source": [
    "tabla_info(usuarios)"
   ]
  },
  {
   "cell_type": "markdown",
   "metadata": {},
   "source": [
    "**Conclusión 1.3**\n",
    "\n",
    "Se llevó a cabo una limpieza inicial, la cual incluye la detección y manejo de valores nulos y duplicados. Además, se realiza la conversión de los campos de fecha al tipo de dato datetime para facilitar su posterior análisis temporal, como la extracción del mes."
   ]
  },
  {
   "cell_type": "markdown",
   "metadata": {
    "id": "ohBhimvH0q01"
   },
   "source": [
    "### Tarifas"
   ]
  },
  {
   "cell_type": "code",
   "execution_count": 99,
   "metadata": {
    "id": "GptqP3Q40q02"
   },
   "outputs": [
    {
     "name": "stdout",
     "output_type": "stream",
     "text": [
      "<class 'pandas.core.frame.DataFrame'>\n",
      "RangeIndex: 2 entries, 0 to 1\n",
      "Data columns (total 8 columns):\n",
      " #   Column                 Non-Null Count  Dtype  \n",
      "---  ------                 --------------  -----  \n",
      " 0   messages_included      2 non-null      int64  \n",
      " 1   mb_per_month_included  2 non-null      int64  \n",
      " 2   minutes_included       2 non-null      int64  \n",
      " 3   usd_monthly_pay        2 non-null      int64  \n",
      " 4   usd_per_gb             2 non-null      int64  \n",
      " 5   usd_per_message        2 non-null      float64\n",
      " 6   usd_per_minute         2 non-null      float64\n",
      " 7   plan_name              2 non-null      object \n",
      "dtypes: float64(2), int64(5), object(1)\n",
      "memory usage: 256.0+ bytes\n"
     ]
    }
   ],
   "source": [
    "# Imprime la información general/resumida sobre el DataFrame de las tarifas\n",
    "\n",
    "planes.info()"
   ]
  },
  {
   "cell_type": "code",
   "execution_count": 100,
   "metadata": {
    "id": "64xzjwL70q02"
   },
   "outputs": [
    {
     "data": {
      "text/html": [
       "<div>\n",
       "<style scoped>\n",
       "    .dataframe tbody tr th:only-of-type {\n",
       "        vertical-align: middle;\n",
       "    }\n",
       "\n",
       "    .dataframe tbody tr th {\n",
       "        vertical-align: top;\n",
       "    }\n",
       "\n",
       "    .dataframe thead th {\n",
       "        text-align: right;\n",
       "    }\n",
       "</style>\n",
       "<table border=\"1\" class=\"dataframe\">\n",
       "  <thead>\n",
       "    <tr style=\"text-align: right;\">\n",
       "      <th></th>\n",
       "      <th>messages_included</th>\n",
       "      <th>mb_per_month_included</th>\n",
       "      <th>minutes_included</th>\n",
       "      <th>usd_monthly_pay</th>\n",
       "      <th>usd_per_gb</th>\n",
       "      <th>usd_per_message</th>\n",
       "      <th>usd_per_minute</th>\n",
       "      <th>plan_name</th>\n",
       "    </tr>\n",
       "  </thead>\n",
       "  <tbody>\n",
       "    <tr>\n",
       "      <th>0</th>\n",
       "      <td>50</td>\n",
       "      <td>15360</td>\n",
       "      <td>500</td>\n",
       "      <td>20</td>\n",
       "      <td>10</td>\n",
       "      <td>0.03</td>\n",
       "      <td>0.03</td>\n",
       "      <td>surf</td>\n",
       "    </tr>\n",
       "    <tr>\n",
       "      <th>1</th>\n",
       "      <td>1000</td>\n",
       "      <td>30720</td>\n",
       "      <td>3000</td>\n",
       "      <td>70</td>\n",
       "      <td>7</td>\n",
       "      <td>0.01</td>\n",
       "      <td>0.01</td>\n",
       "      <td>ultimate</td>\n",
       "    </tr>\n",
       "  </tbody>\n",
       "</table>\n",
       "</div>"
      ],
      "text/plain": [
       "   messages_included  mb_per_month_included  minutes_included  \\\n",
       "0                 50                  15360               500   \n",
       "1               1000                  30720              3000   \n",
       "\n",
       "   usd_monthly_pay  usd_per_gb  usd_per_message  usd_per_minute plan_name  \n",
       "0               20          10             0.03            0.03      surf  \n",
       "1               70           7             0.01            0.01  ultimate  "
      ]
     },
     "execution_count": 100,
     "metadata": {},
     "output_type": "execute_result"
    }
   ],
   "source": [
    "# Imprime una muestra de los datos para las tarifas\n",
    "\n",
    "planes.head()"
   ]
  },
  {
   "cell_type": "markdown",
   "metadata": {
    "id": "mEc_3_hs0q02"
   },
   "source": [
    "[Describe lo que ves y observas en la información general y en la muestra de datos impresa para el precio de datos anterior. ¿Hay algún problema (tipos de datos no adecuados, datos ausentes, etc.) que pudieran necesitar investigación y cambios adicionales? ¿Cómo se puede arreglar?]\n",
    "\n",
    "**Necesitamos la conversión de MB a GB para homogeneizar nuestros datos a GB.**"
   ]
  },
  {
   "cell_type": "markdown",
   "metadata": {
    "id": "R3C05i1l0q03"
   },
   "source": [
    "### Corregir datos"
   ]
  },
  {
   "cell_type": "markdown",
   "metadata": {
    "id": "bIi8StZI0q03"
   },
   "source": [
    "[Corrige los problemas obvios con los datos basándote en las observaciones iniciales.]"
   ]
  },
  {
   "cell_type": "code",
   "execution_count": 101,
   "metadata": {},
   "outputs": [],
   "source": [
    "#Podemos almacenar los valores de int64 a int32  y float64 a float32 para optimizar el uso de memoria.\n",
    "def optimize_dataframe(df):    \n",
    "    # Convertir columnas enteras (int64) a int32 si los valores son suficientemente pequeños\n",
    "    for col in df.select_dtypes(include=['int64']).columns:\n",
    "        if df[col].max() < 2**31:  # Asegurarse de que los valores caben en int32\n",
    "            df[col] = df[col].astype('int32')\n",
    "\n",
    "    # Convertir columnas de punto flotante (float64) a float32\n",
    "    for col in df.select_dtypes(include=['float64']).columns:\n",
    "        #no validamos el maximo como en int debido a que para float nos basamos en la precisión,\n",
    "        #que requiere nuestro campo, en este caso nuestros decimales no superan los  7 decimales para tener int 64.\n",
    "        df[col] = df[col].astype('float32')            "
   ]
  },
  {
   "cell_type": "code",
   "execution_count": 102,
   "metadata": {},
   "outputs": [],
   "source": [
    "optimize_dataframe(planes)"
   ]
  },
  {
   "cell_type": "code",
   "execution_count": 103,
   "metadata": {},
   "outputs": [
    {
     "name": "stdout",
     "output_type": "stream",
     "text": [
      "<class 'pandas.core.frame.DataFrame'>\n",
      "RangeIndex: 2 entries, 0 to 1\n",
      "Data columns (total 8 columns):\n",
      " #   Column                 Non-Null Count  Dtype  \n",
      "---  ------                 --------------  -----  \n",
      " 0   messages_included      2 non-null      int32  \n",
      " 1   mb_per_month_included  2 non-null      int32  \n",
      " 2   minutes_included       2 non-null      int32  \n",
      " 3   usd_monthly_pay        2 non-null      int32  \n",
      " 4   usd_per_gb             2 non-null      int32  \n",
      " 5   usd_per_message        2 non-null      float32\n",
      " 6   usd_per_minute         2 non-null      float32\n",
      " 7   plan_name              2 non-null      object \n",
      "dtypes: float32(2), int32(5), object(1)\n",
      "memory usage: 200.0+ bytes\n"
     ]
    }
   ],
   "source": [
    "planes.info()"
   ]
  },
  {
   "cell_type": "markdown",
   "metadata": {
    "id": "LJir7bml0q03"
   },
   "source": [
    "### Enriquecer los datos"
   ]
  },
  {
   "cell_type": "markdown",
   "metadata": {
    "id": "eqADpCfg0q04"
   },
   "source": [
    "[Agrega factores adicionales a los datos si crees que pudieran ser útiles.]"
   ]
  },
  {
   "cell_type": "code",
   "execution_count": 104,
   "metadata": {
    "id": "gfcIEuXV0q04"
   },
   "outputs": [],
   "source": [
    "#Creación de función para convertir MB a GB\n",
    "def mb_to_gb (mb):\n",
    "    result = mb/1024\n",
    "    return result"
   ]
  },
  {
   "cell_type": "code",
   "execution_count": 105,
   "metadata": {},
   "outputs": [],
   "source": [
    "#Creación de campo de gb incluidos en plan\n",
    "planes['gb_per_month_included'] = planes['mb_per_month_included'].apply(mb_to_gb)"
   ]
  },
  {
   "cell_type": "code",
   "execution_count": 106,
   "metadata": {},
   "outputs": [],
   "source": [
    "#ordenamiento de columnas para tener GB y MB juntos \n",
    "planes = planes[['plan_name', 'messages_included', 'mb_per_month_included', 'gb_per_month_included', 'minutes_included', \n",
    "         'usd_monthly_pay', 'usd_per_gb', 'usd_per_message', 'usd_per_minute']]"
   ]
  },
  {
   "cell_type": "code",
   "execution_count": 107,
   "metadata": {},
   "outputs": [
    {
     "data": {
      "text/html": [
       "<div>\n",
       "<style scoped>\n",
       "    .dataframe tbody tr th:only-of-type {\n",
       "        vertical-align: middle;\n",
       "    }\n",
       "\n",
       "    .dataframe tbody tr th {\n",
       "        vertical-align: top;\n",
       "    }\n",
       "\n",
       "    .dataframe thead th {\n",
       "        text-align: right;\n",
       "    }\n",
       "</style>\n",
       "<table border=\"1\" class=\"dataframe\">\n",
       "  <thead>\n",
       "    <tr style=\"text-align: right;\">\n",
       "      <th></th>\n",
       "      <th>plan_name</th>\n",
       "      <th>messages_included</th>\n",
       "      <th>mb_per_month_included</th>\n",
       "      <th>gb_per_month_included</th>\n",
       "      <th>minutes_included</th>\n",
       "      <th>usd_monthly_pay</th>\n",
       "      <th>usd_per_gb</th>\n",
       "      <th>usd_per_message</th>\n",
       "      <th>usd_per_minute</th>\n",
       "    </tr>\n",
       "  </thead>\n",
       "  <tbody>\n",
       "    <tr>\n",
       "      <th>0</th>\n",
       "      <td>surf</td>\n",
       "      <td>50</td>\n",
       "      <td>15360</td>\n",
       "      <td>15.0</td>\n",
       "      <td>500</td>\n",
       "      <td>20</td>\n",
       "      <td>10</td>\n",
       "      <td>0.03</td>\n",
       "      <td>0.03</td>\n",
       "    </tr>\n",
       "    <tr>\n",
       "      <th>1</th>\n",
       "      <td>ultimate</td>\n",
       "      <td>1000</td>\n",
       "      <td>30720</td>\n",
       "      <td>30.0</td>\n",
       "      <td>3000</td>\n",
       "      <td>70</td>\n",
       "      <td>7</td>\n",
       "      <td>0.01</td>\n",
       "      <td>0.01</td>\n",
       "    </tr>\n",
       "  </tbody>\n",
       "</table>\n",
       "</div>"
      ],
      "text/plain": [
       "  plan_name  messages_included  mb_per_month_included  gb_per_month_included  \\\n",
       "0      surf                 50                  15360                   15.0   \n",
       "1  ultimate               1000                  30720                   30.0   \n",
       "\n",
       "   minutes_included  usd_monthly_pay  usd_per_gb  usd_per_message  \\\n",
       "0               500               20          10             0.03   \n",
       "1              3000               70           7             0.01   \n",
       "\n",
       "   usd_per_minute  \n",
       "0            0.03  \n",
       "1            0.01  "
      ]
     },
     "execution_count": 107,
     "metadata": {},
     "output_type": "execute_result"
    }
   ],
   "source": [
    "planes"
   ]
  },
  {
   "cell_type": "markdown",
   "metadata": {
    "id": "1n2X6WXf0q04"
   },
   "source": [
    "### Usuarios/as"
   ]
  },
  {
   "cell_type": "code",
   "execution_count": 108,
   "metadata": {
    "id": "2NgjWFqx0q05"
   },
   "outputs": [
    {
     "name": "stdout",
     "output_type": "stream",
     "text": [
      "<class 'pandas.core.frame.DataFrame'>\n",
      "RangeIndex: 500 entries, 0 to 499\n",
      "Data columns (total 8 columns):\n",
      " #   Column      Non-Null Count  Dtype         \n",
      "---  ------      --------------  -----         \n",
      " 0   user_id     500 non-null    int64         \n",
      " 1   first_name  500 non-null    object        \n",
      " 2   last_name   500 non-null    object        \n",
      " 3   age         500 non-null    int64         \n",
      " 4   city        500 non-null    object        \n",
      " 5   reg_date    500 non-null    datetime64[ns]\n",
      " 6   plan        500 non-null    object        \n",
      " 7   churn_date  34 non-null     datetime64[ns]\n",
      "dtypes: datetime64[ns](2), int64(2), object(4)\n",
      "memory usage: 31.4+ KB\n"
     ]
    }
   ],
   "source": [
    "# Imprime la información general/resumida sobre el DataFrame de usuarios\n",
    "\n",
    "usuarios.info()"
   ]
  },
  {
   "cell_type": "code",
   "execution_count": 109,
   "metadata": {
    "id": "1IN1L9uh0q05"
   },
   "outputs": [
    {
     "data": {
      "text/html": [
       "<div>\n",
       "<style scoped>\n",
       "    .dataframe tbody tr th:only-of-type {\n",
       "        vertical-align: middle;\n",
       "    }\n",
       "\n",
       "    .dataframe tbody tr th {\n",
       "        vertical-align: top;\n",
       "    }\n",
       "\n",
       "    .dataframe thead th {\n",
       "        text-align: right;\n",
       "    }\n",
       "</style>\n",
       "<table border=\"1\" class=\"dataframe\">\n",
       "  <thead>\n",
       "    <tr style=\"text-align: right;\">\n",
       "      <th></th>\n",
       "      <th>user_id</th>\n",
       "      <th>first_name</th>\n",
       "      <th>last_name</th>\n",
       "      <th>age</th>\n",
       "      <th>city</th>\n",
       "      <th>reg_date</th>\n",
       "      <th>plan</th>\n",
       "      <th>churn_date</th>\n",
       "    </tr>\n",
       "  </thead>\n",
       "  <tbody>\n",
       "    <tr>\n",
       "      <th>0</th>\n",
       "      <td>1000</td>\n",
       "      <td>Anamaria</td>\n",
       "      <td>Bauer</td>\n",
       "      <td>45</td>\n",
       "      <td>Atlanta-Sandy Springs-Roswell, GA MSA</td>\n",
       "      <td>2018-12-24</td>\n",
       "      <td>ultimate</td>\n",
       "      <td>NaT</td>\n",
       "    </tr>\n",
       "    <tr>\n",
       "      <th>1</th>\n",
       "      <td>1001</td>\n",
       "      <td>Mickey</td>\n",
       "      <td>Wilkerson</td>\n",
       "      <td>28</td>\n",
       "      <td>Seattle-Tacoma-Bellevue, WA MSA</td>\n",
       "      <td>2018-08-13</td>\n",
       "      <td>surf</td>\n",
       "      <td>NaT</td>\n",
       "    </tr>\n",
       "    <tr>\n",
       "      <th>2</th>\n",
       "      <td>1002</td>\n",
       "      <td>Carlee</td>\n",
       "      <td>Hoffman</td>\n",
       "      <td>36</td>\n",
       "      <td>Las Vegas-Henderson-Paradise, NV MSA</td>\n",
       "      <td>2018-10-21</td>\n",
       "      <td>surf</td>\n",
       "      <td>NaT</td>\n",
       "    </tr>\n",
       "    <tr>\n",
       "      <th>3</th>\n",
       "      <td>1003</td>\n",
       "      <td>Reynaldo</td>\n",
       "      <td>Jenkins</td>\n",
       "      <td>52</td>\n",
       "      <td>Tulsa, OK MSA</td>\n",
       "      <td>2018-01-28</td>\n",
       "      <td>surf</td>\n",
       "      <td>NaT</td>\n",
       "    </tr>\n",
       "    <tr>\n",
       "      <th>4</th>\n",
       "      <td>1004</td>\n",
       "      <td>Leonila</td>\n",
       "      <td>Thompson</td>\n",
       "      <td>40</td>\n",
       "      <td>Seattle-Tacoma-Bellevue, WA MSA</td>\n",
       "      <td>2018-05-23</td>\n",
       "      <td>surf</td>\n",
       "      <td>NaT</td>\n",
       "    </tr>\n",
       "  </tbody>\n",
       "</table>\n",
       "</div>"
      ],
      "text/plain": [
       "   user_id first_name  last_name  age                                   city  \\\n",
       "0     1000   Anamaria      Bauer   45  Atlanta-Sandy Springs-Roswell, GA MSA   \n",
       "1     1001     Mickey  Wilkerson   28        Seattle-Tacoma-Bellevue, WA MSA   \n",
       "2     1002     Carlee    Hoffman   36   Las Vegas-Henderson-Paradise, NV MSA   \n",
       "3     1003   Reynaldo    Jenkins   52                          Tulsa, OK MSA   \n",
       "4     1004    Leonila   Thompson   40        Seattle-Tacoma-Bellevue, WA MSA   \n",
       "\n",
       "    reg_date      plan churn_date  \n",
       "0 2018-12-24  ultimate        NaT  \n",
       "1 2018-08-13      surf        NaT  \n",
       "2 2018-10-21      surf        NaT  \n",
       "3 2018-01-28      surf        NaT  \n",
       "4 2018-05-23      surf        NaT  "
      ]
     },
     "execution_count": 109,
     "metadata": {},
     "output_type": "execute_result"
    }
   ],
   "source": [
    "# Imprime una muestra de datos para usuarios\n",
    "\n",
    "usuarios.head()"
   ]
  },
  {
   "cell_type": "markdown",
   "metadata": {
    "id": "dCZoUq4f0q06"
   },
   "source": [
    "[Describe lo que ves y observas en la información general y en la muestra de datos impresa para el precio de datos anterior. ¿Hay algún problema (tipos de datos no adecuados, datos ausentes, etc.) que pudieran necesitar investigación y cambios adicionales? ¿Cómo se puede arreglar?]\n",
    "\n",
    "**Para valores NaT en \"churn\" podemos dejarlo como valor nulo o podemos poner una fecha hipotética.**"
   ]
  },
  {
   "cell_type": "markdown",
   "metadata": {
    "id": "BX5FQh_I0q06"
   },
   "source": [
    "### Corregir los datos"
   ]
  },
  {
   "cell_type": "markdown",
   "metadata": {
    "id": "8OdKMwJv0q06"
   },
   "source": [
    "[Corrige los problemas obvios con los datos basándote en las observaciones iniciales.]"
   ]
  },
  {
   "cell_type": "code",
   "execution_count": 110,
   "metadata": {
    "id": "yUqX-K0C0q07"
   },
   "outputs": [],
   "source": [
    "#se llenan los NaT con una fecha hipotética\n",
    "usuarios['churn_date'] = usuarios['churn_date'].fillna('3000-01-01')"
   ]
  },
  {
   "cell_type": "markdown",
   "metadata": {
    "id": "ycwuARJp0q07"
   },
   "source": [
    "### Enriquecer los datos"
   ]
  },
  {
   "cell_type": "markdown",
   "metadata": {
    "id": "96NIh4CJ0q08"
   },
   "source": [
    "[Agrega factores adicionales a los datos si crees que pudieran ser útiles.]"
   ]
  },
  {
   "cell_type": "code",
   "execution_count": 111,
   "metadata": {},
   "outputs": [],
   "source": [
    "#Creación de campo de mes\n",
    "usuarios['month'] = usuarios['reg_date'].dt.month"
   ]
  },
  {
   "cell_type": "code",
   "execution_count": 112,
   "metadata": {},
   "outputs": [
    {
     "data": {
      "text/html": [
       "<div>\n",
       "<style scoped>\n",
       "    .dataframe tbody tr th:only-of-type {\n",
       "        vertical-align: middle;\n",
       "    }\n",
       "\n",
       "    .dataframe tbody tr th {\n",
       "        vertical-align: top;\n",
       "    }\n",
       "\n",
       "    .dataframe thead th {\n",
       "        text-align: right;\n",
       "    }\n",
       "</style>\n",
       "<table border=\"1\" class=\"dataframe\">\n",
       "  <thead>\n",
       "    <tr style=\"text-align: right;\">\n",
       "      <th></th>\n",
       "      <th>user_id</th>\n",
       "      <th>first_name</th>\n",
       "      <th>last_name</th>\n",
       "      <th>age</th>\n",
       "      <th>city</th>\n",
       "      <th>reg_date</th>\n",
       "      <th>plan</th>\n",
       "      <th>churn_date</th>\n",
       "      <th>month</th>\n",
       "    </tr>\n",
       "  </thead>\n",
       "  <tbody>\n",
       "    <tr>\n",
       "      <th>0</th>\n",
       "      <td>1000</td>\n",
       "      <td>Anamaria</td>\n",
       "      <td>Bauer</td>\n",
       "      <td>45</td>\n",
       "      <td>Atlanta-Sandy Springs-Roswell, GA MSA</td>\n",
       "      <td>2018-12-24</td>\n",
       "      <td>ultimate</td>\n",
       "      <td>3000-01-01</td>\n",
       "      <td>12</td>\n",
       "    </tr>\n",
       "    <tr>\n",
       "      <th>1</th>\n",
       "      <td>1001</td>\n",
       "      <td>Mickey</td>\n",
       "      <td>Wilkerson</td>\n",
       "      <td>28</td>\n",
       "      <td>Seattle-Tacoma-Bellevue, WA MSA</td>\n",
       "      <td>2018-08-13</td>\n",
       "      <td>surf</td>\n",
       "      <td>3000-01-01</td>\n",
       "      <td>8</td>\n",
       "    </tr>\n",
       "    <tr>\n",
       "      <th>2</th>\n",
       "      <td>1002</td>\n",
       "      <td>Carlee</td>\n",
       "      <td>Hoffman</td>\n",
       "      <td>36</td>\n",
       "      <td>Las Vegas-Henderson-Paradise, NV MSA</td>\n",
       "      <td>2018-10-21</td>\n",
       "      <td>surf</td>\n",
       "      <td>3000-01-01</td>\n",
       "      <td>10</td>\n",
       "    </tr>\n",
       "    <tr>\n",
       "      <th>3</th>\n",
       "      <td>1003</td>\n",
       "      <td>Reynaldo</td>\n",
       "      <td>Jenkins</td>\n",
       "      <td>52</td>\n",
       "      <td>Tulsa, OK MSA</td>\n",
       "      <td>2018-01-28</td>\n",
       "      <td>surf</td>\n",
       "      <td>3000-01-01</td>\n",
       "      <td>1</td>\n",
       "    </tr>\n",
       "    <tr>\n",
       "      <th>4</th>\n",
       "      <td>1004</td>\n",
       "      <td>Leonila</td>\n",
       "      <td>Thompson</td>\n",
       "      <td>40</td>\n",
       "      <td>Seattle-Tacoma-Bellevue, WA MSA</td>\n",
       "      <td>2018-05-23</td>\n",
       "      <td>surf</td>\n",
       "      <td>3000-01-01</td>\n",
       "      <td>5</td>\n",
       "    </tr>\n",
       "    <tr>\n",
       "      <th>...</th>\n",
       "      <td>...</td>\n",
       "      <td>...</td>\n",
       "      <td>...</td>\n",
       "      <td>...</td>\n",
       "      <td>...</td>\n",
       "      <td>...</td>\n",
       "      <td>...</td>\n",
       "      <td>...</td>\n",
       "      <td>...</td>\n",
       "    </tr>\n",
       "    <tr>\n",
       "      <th>495</th>\n",
       "      <td>1495</td>\n",
       "      <td>Fidel</td>\n",
       "      <td>Sharpe</td>\n",
       "      <td>67</td>\n",
       "      <td>New York-Newark-Jersey City, NY-NJ-PA MSA</td>\n",
       "      <td>2018-09-04</td>\n",
       "      <td>surf</td>\n",
       "      <td>3000-01-01</td>\n",
       "      <td>9</td>\n",
       "    </tr>\n",
       "    <tr>\n",
       "      <th>496</th>\n",
       "      <td>1496</td>\n",
       "      <td>Ariel</td>\n",
       "      <td>Shepherd</td>\n",
       "      <td>49</td>\n",
       "      <td>New Orleans-Metairie, LA MSA</td>\n",
       "      <td>2018-02-20</td>\n",
       "      <td>surf</td>\n",
       "      <td>3000-01-01</td>\n",
       "      <td>2</td>\n",
       "    </tr>\n",
       "    <tr>\n",
       "      <th>497</th>\n",
       "      <td>1497</td>\n",
       "      <td>Donte</td>\n",
       "      <td>Barrera</td>\n",
       "      <td>49</td>\n",
       "      <td>Los Angeles-Long Beach-Anaheim, CA MSA</td>\n",
       "      <td>2018-12-10</td>\n",
       "      <td>ultimate</td>\n",
       "      <td>3000-01-01</td>\n",
       "      <td>12</td>\n",
       "    </tr>\n",
       "    <tr>\n",
       "      <th>498</th>\n",
       "      <td>1498</td>\n",
       "      <td>Scot</td>\n",
       "      <td>Williamson</td>\n",
       "      <td>51</td>\n",
       "      <td>New York-Newark-Jersey City, NY-NJ-PA MSA</td>\n",
       "      <td>2018-02-04</td>\n",
       "      <td>surf</td>\n",
       "      <td>3000-01-01</td>\n",
       "      <td>2</td>\n",
       "    </tr>\n",
       "    <tr>\n",
       "      <th>499</th>\n",
       "      <td>1499</td>\n",
       "      <td>Shena</td>\n",
       "      <td>Dickson</td>\n",
       "      <td>37</td>\n",
       "      <td>Orlando-Kissimmee-Sanford, FL MSA</td>\n",
       "      <td>2018-05-06</td>\n",
       "      <td>surf</td>\n",
       "      <td>3000-01-01</td>\n",
       "      <td>5</td>\n",
       "    </tr>\n",
       "  </tbody>\n",
       "</table>\n",
       "<p>500 rows × 9 columns</p>\n",
       "</div>"
      ],
      "text/plain": [
       "     user_id first_name   last_name  age  \\\n",
       "0       1000   Anamaria       Bauer   45   \n",
       "1       1001     Mickey   Wilkerson   28   \n",
       "2       1002     Carlee     Hoffman   36   \n",
       "3       1003   Reynaldo     Jenkins   52   \n",
       "4       1004    Leonila    Thompson   40   \n",
       "..       ...        ...         ...  ...   \n",
       "495     1495      Fidel      Sharpe   67   \n",
       "496     1496      Ariel    Shepherd   49   \n",
       "497     1497      Donte     Barrera   49   \n",
       "498     1498       Scot  Williamson   51   \n",
       "499     1499      Shena     Dickson   37   \n",
       "\n",
       "                                          city   reg_date      plan  \\\n",
       "0        Atlanta-Sandy Springs-Roswell, GA MSA 2018-12-24  ultimate   \n",
       "1              Seattle-Tacoma-Bellevue, WA MSA 2018-08-13      surf   \n",
       "2         Las Vegas-Henderson-Paradise, NV MSA 2018-10-21      surf   \n",
       "3                                Tulsa, OK MSA 2018-01-28      surf   \n",
       "4              Seattle-Tacoma-Bellevue, WA MSA 2018-05-23      surf   \n",
       "..                                         ...        ...       ...   \n",
       "495  New York-Newark-Jersey City, NY-NJ-PA MSA 2018-09-04      surf   \n",
       "496               New Orleans-Metairie, LA MSA 2018-02-20      surf   \n",
       "497     Los Angeles-Long Beach-Anaheim, CA MSA 2018-12-10  ultimate   \n",
       "498  New York-Newark-Jersey City, NY-NJ-PA MSA 2018-02-04      surf   \n",
       "499          Orlando-Kissimmee-Sanford, FL MSA 2018-05-06      surf   \n",
       "\n",
       "     churn_date  month  \n",
       "0    3000-01-01     12  \n",
       "1    3000-01-01      8  \n",
       "2    3000-01-01     10  \n",
       "3    3000-01-01      1  \n",
       "4    3000-01-01      5  \n",
       "..          ...    ...  \n",
       "495  3000-01-01      9  \n",
       "496  3000-01-01      2  \n",
       "497  3000-01-01     12  \n",
       "498  3000-01-01      2  \n",
       "499  3000-01-01      5  \n",
       "\n",
       "[500 rows x 9 columns]"
      ]
     },
     "execution_count": 112,
     "metadata": {},
     "output_type": "execute_result"
    }
   ],
   "source": [
    "#Verificación\n",
    "usuarios"
   ]
  },
  {
   "cell_type": "markdown",
   "metadata": {
    "id": "o7MeKCid0q08"
   },
   "source": [
    "### Llamadas"
   ]
  },
  {
   "cell_type": "code",
   "execution_count": 113,
   "metadata": {
    "id": "6dDlnoDm0q08"
   },
   "outputs": [
    {
     "name": "stdout",
     "output_type": "stream",
     "text": [
      "<class 'pandas.core.frame.DataFrame'>\n",
      "RangeIndex: 137735 entries, 0 to 137734\n",
      "Data columns (total 4 columns):\n",
      " #   Column     Non-Null Count   Dtype         \n",
      "---  ------     --------------   -----         \n",
      " 0   id         137735 non-null  object        \n",
      " 1   user_id    137735 non-null  int64         \n",
      " 2   call_date  137735 non-null  datetime64[ns]\n",
      " 3   duration   137735 non-null  float64       \n",
      "dtypes: datetime64[ns](1), float64(1), int64(1), object(1)\n",
      "memory usage: 4.2+ MB\n"
     ]
    }
   ],
   "source": [
    "# Imprime la información general/resumida sobre el DataFrame de las llamadas\n",
    "\n",
    "llamadas.info()"
   ]
  },
  {
   "cell_type": "code",
   "execution_count": 114,
   "metadata": {
    "id": "kuh1vlNB0q09"
   },
   "outputs": [
    {
     "data": {
      "text/html": [
       "<div>\n",
       "<style scoped>\n",
       "    .dataframe tbody tr th:only-of-type {\n",
       "        vertical-align: middle;\n",
       "    }\n",
       "\n",
       "    .dataframe tbody tr th {\n",
       "        vertical-align: top;\n",
       "    }\n",
       "\n",
       "    .dataframe thead th {\n",
       "        text-align: right;\n",
       "    }\n",
       "</style>\n",
       "<table border=\"1\" class=\"dataframe\">\n",
       "  <thead>\n",
       "    <tr style=\"text-align: right;\">\n",
       "      <th></th>\n",
       "      <th>id</th>\n",
       "      <th>user_id</th>\n",
       "      <th>call_date</th>\n",
       "      <th>duration</th>\n",
       "    </tr>\n",
       "  </thead>\n",
       "  <tbody>\n",
       "    <tr>\n",
       "      <th>0</th>\n",
       "      <td>1000_93</td>\n",
       "      <td>1000</td>\n",
       "      <td>2018-12-27</td>\n",
       "      <td>8.52</td>\n",
       "    </tr>\n",
       "    <tr>\n",
       "      <th>1</th>\n",
       "      <td>1000_145</td>\n",
       "      <td>1000</td>\n",
       "      <td>2018-12-27</td>\n",
       "      <td>13.66</td>\n",
       "    </tr>\n",
       "    <tr>\n",
       "      <th>2</th>\n",
       "      <td>1000_247</td>\n",
       "      <td>1000</td>\n",
       "      <td>2018-12-27</td>\n",
       "      <td>14.48</td>\n",
       "    </tr>\n",
       "    <tr>\n",
       "      <th>3</th>\n",
       "      <td>1000_309</td>\n",
       "      <td>1000</td>\n",
       "      <td>2018-12-28</td>\n",
       "      <td>5.76</td>\n",
       "    </tr>\n",
       "    <tr>\n",
       "      <th>4</th>\n",
       "      <td>1000_380</td>\n",
       "      <td>1000</td>\n",
       "      <td>2018-12-30</td>\n",
       "      <td>4.22</td>\n",
       "    </tr>\n",
       "  </tbody>\n",
       "</table>\n",
       "</div>"
      ],
      "text/plain": [
       "         id  user_id  call_date  duration\n",
       "0   1000_93     1000 2018-12-27      8.52\n",
       "1  1000_145     1000 2018-12-27     13.66\n",
       "2  1000_247     1000 2018-12-27     14.48\n",
       "3  1000_309     1000 2018-12-28      5.76\n",
       "4  1000_380     1000 2018-12-30      4.22"
      ]
     },
     "execution_count": 114,
     "metadata": {},
     "output_type": "execute_result"
    }
   ],
   "source": [
    "# Imprime una muestra de datos para las llamadas\n",
    "\n",
    "llamadas.head()"
   ]
  },
  {
   "cell_type": "markdown",
   "metadata": {
    "id": "DOAxYJSx0q09"
   },
   "source": [
    "[Describe lo que ves y observas en la información general y en la muestra de datos impresa para el precio de datos anterior. ¿Hay algún problema (tipos de datos no adecuados, datos ausentes, etc.) que pudieran necesitar investigación y cambios adicionales? ¿Cómo se puede arreglar?]\n",
    "\n",
    "**Hay que redondear los minutos de las llamadas para saber cuantos minutos completos se van a cobrar**."
   ]
  },
  {
   "cell_type": "markdown",
   "metadata": {
    "id": "S7hzxmbX0q0-"
   },
   "source": [
    "### Corregir los datos"
   ]
  },
  {
   "cell_type": "markdown",
   "metadata": {
    "id": "YxWyAjD20q0-"
   },
   "source": [
    "[Corrige los problemas obvios con los datos basándote en las observaciones iniciales.]"
   ]
  },
  {
   "cell_type": "code",
   "execution_count": 115,
   "metadata": {
    "id": "S2r8xA4f0q0-"
   },
   "outputs": [],
   "source": [
    "#creación de función para redondeo en minutos de llamadas\n",
    "def llamadas_redondeadas (min):\n",
    "    result = np.ceil(min)\n",
    "    return result"
   ]
  },
  {
   "cell_type": "markdown",
   "metadata": {
    "id": "KrMgTrlG0q0_"
   },
   "source": [
    "### Enriquecer los datos"
   ]
  },
  {
   "cell_type": "markdown",
   "metadata": {
    "id": "a9MbmEvE0q0_"
   },
   "source": [
    "[Agrega factores adicionales a los datos si crees que pudieran ser útiles.]"
   ]
  },
  {
   "cell_type": "code",
   "execution_count": 116,
   "metadata": {
    "id": "iZ1avpA_0q0_"
   },
   "outputs": [],
   "source": [
    "#Creación de nuevo campo redondeado\n",
    "llamadas['duration_ceil'] = llamadas['duration'].apply(llamadas_redondeadas)"
   ]
  },
  {
   "cell_type": "code",
   "execution_count": 117,
   "metadata": {},
   "outputs": [],
   "source": [
    "#Creación de campo de mes\n",
    "llamadas['month'] = llamadas['call_date'].dt.month"
   ]
  },
  {
   "cell_type": "code",
   "execution_count": 118,
   "metadata": {},
   "outputs": [
    {
     "data": {
      "text/html": [
       "<div>\n",
       "<style scoped>\n",
       "    .dataframe tbody tr th:only-of-type {\n",
       "        vertical-align: middle;\n",
       "    }\n",
       "\n",
       "    .dataframe tbody tr th {\n",
       "        vertical-align: top;\n",
       "    }\n",
       "\n",
       "    .dataframe thead th {\n",
       "        text-align: right;\n",
       "    }\n",
       "</style>\n",
       "<table border=\"1\" class=\"dataframe\">\n",
       "  <thead>\n",
       "    <tr style=\"text-align: right;\">\n",
       "      <th></th>\n",
       "      <th>id</th>\n",
       "      <th>user_id</th>\n",
       "      <th>call_date</th>\n",
       "      <th>duration</th>\n",
       "      <th>duration_ceil</th>\n",
       "      <th>month</th>\n",
       "    </tr>\n",
       "  </thead>\n",
       "  <tbody>\n",
       "    <tr>\n",
       "      <th>0</th>\n",
       "      <td>1000_93</td>\n",
       "      <td>1000</td>\n",
       "      <td>2018-12-27</td>\n",
       "      <td>8.52</td>\n",
       "      <td>9.0</td>\n",
       "      <td>12</td>\n",
       "    </tr>\n",
       "    <tr>\n",
       "      <th>1</th>\n",
       "      <td>1000_145</td>\n",
       "      <td>1000</td>\n",
       "      <td>2018-12-27</td>\n",
       "      <td>13.66</td>\n",
       "      <td>14.0</td>\n",
       "      <td>12</td>\n",
       "    </tr>\n",
       "    <tr>\n",
       "      <th>2</th>\n",
       "      <td>1000_247</td>\n",
       "      <td>1000</td>\n",
       "      <td>2018-12-27</td>\n",
       "      <td>14.48</td>\n",
       "      <td>15.0</td>\n",
       "      <td>12</td>\n",
       "    </tr>\n",
       "    <tr>\n",
       "      <th>3</th>\n",
       "      <td>1000_309</td>\n",
       "      <td>1000</td>\n",
       "      <td>2018-12-28</td>\n",
       "      <td>5.76</td>\n",
       "      <td>6.0</td>\n",
       "      <td>12</td>\n",
       "    </tr>\n",
       "    <tr>\n",
       "      <th>4</th>\n",
       "      <td>1000_380</td>\n",
       "      <td>1000</td>\n",
       "      <td>2018-12-30</td>\n",
       "      <td>4.22</td>\n",
       "      <td>5.0</td>\n",
       "      <td>12</td>\n",
       "    </tr>\n",
       "    <tr>\n",
       "      <th>...</th>\n",
       "      <td>...</td>\n",
       "      <td>...</td>\n",
       "      <td>...</td>\n",
       "      <td>...</td>\n",
       "      <td>...</td>\n",
       "      <td>...</td>\n",
       "    </tr>\n",
       "    <tr>\n",
       "      <th>137730</th>\n",
       "      <td>1499_199</td>\n",
       "      <td>1499</td>\n",
       "      <td>2018-11-21</td>\n",
       "      <td>8.72</td>\n",
       "      <td>9.0</td>\n",
       "      <td>11</td>\n",
       "    </tr>\n",
       "    <tr>\n",
       "      <th>137731</th>\n",
       "      <td>1499_200</td>\n",
       "      <td>1499</td>\n",
       "      <td>2018-10-20</td>\n",
       "      <td>10.89</td>\n",
       "      <td>11.0</td>\n",
       "      <td>10</td>\n",
       "    </tr>\n",
       "    <tr>\n",
       "      <th>137732</th>\n",
       "      <td>1499_201</td>\n",
       "      <td>1499</td>\n",
       "      <td>2018-09-21</td>\n",
       "      <td>8.12</td>\n",
       "      <td>9.0</td>\n",
       "      <td>9</td>\n",
       "    </tr>\n",
       "    <tr>\n",
       "      <th>137733</th>\n",
       "      <td>1499_202</td>\n",
       "      <td>1499</td>\n",
       "      <td>2018-10-10</td>\n",
       "      <td>0.37</td>\n",
       "      <td>1.0</td>\n",
       "      <td>10</td>\n",
       "    </tr>\n",
       "    <tr>\n",
       "      <th>137734</th>\n",
       "      <td>1499_203</td>\n",
       "      <td>1499</td>\n",
       "      <td>2018-12-29</td>\n",
       "      <td>13.86</td>\n",
       "      <td>14.0</td>\n",
       "      <td>12</td>\n",
       "    </tr>\n",
       "  </tbody>\n",
       "</table>\n",
       "<p>137735 rows × 6 columns</p>\n",
       "</div>"
      ],
      "text/plain": [
       "              id  user_id  call_date  duration  duration_ceil  month\n",
       "0        1000_93     1000 2018-12-27      8.52            9.0     12\n",
       "1       1000_145     1000 2018-12-27     13.66           14.0     12\n",
       "2       1000_247     1000 2018-12-27     14.48           15.0     12\n",
       "3       1000_309     1000 2018-12-28      5.76            6.0     12\n",
       "4       1000_380     1000 2018-12-30      4.22            5.0     12\n",
       "...          ...      ...        ...       ...            ...    ...\n",
       "137730  1499_199     1499 2018-11-21      8.72            9.0     11\n",
       "137731  1499_200     1499 2018-10-20     10.89           11.0     10\n",
       "137732  1499_201     1499 2018-09-21      8.12            9.0      9\n",
       "137733  1499_202     1499 2018-10-10      0.37            1.0     10\n",
       "137734  1499_203     1499 2018-12-29     13.86           14.0     12\n",
       "\n",
       "[137735 rows x 6 columns]"
      ]
     },
     "execution_count": 118,
     "metadata": {},
     "output_type": "execute_result"
    }
   ],
   "source": [
    "#verificación de nuevo campo 'duration_ceil'\n",
    "llamadas"
   ]
  },
  {
   "cell_type": "markdown",
   "metadata": {
    "id": "mOUZSi180q0_"
   },
   "source": [
    "### Mensajes"
   ]
  },
  {
   "cell_type": "code",
   "execution_count": 119,
   "metadata": {
    "id": "R-bYJpdV0q1A"
   },
   "outputs": [
    {
     "name": "stdout",
     "output_type": "stream",
     "text": [
      "<class 'pandas.core.frame.DataFrame'>\n",
      "RangeIndex: 76051 entries, 0 to 76050\n",
      "Data columns (total 3 columns):\n",
      " #   Column        Non-Null Count  Dtype         \n",
      "---  ------        --------------  -----         \n",
      " 0   id            76051 non-null  object        \n",
      " 1   user_id       76051 non-null  int64         \n",
      " 2   message_date  76051 non-null  datetime64[ns]\n",
      "dtypes: datetime64[ns](1), int64(1), object(1)\n",
      "memory usage: 1.7+ MB\n"
     ]
    }
   ],
   "source": [
    "# Imprime la información general/resumida sobre el DataFrame de los mensajes\n",
    "mensajes.info()"
   ]
  },
  {
   "cell_type": "code",
   "execution_count": 120,
   "metadata": {
    "id": "mCEl2iGE0q1A"
   },
   "outputs": [
    {
     "data": {
      "text/html": [
       "<div>\n",
       "<style scoped>\n",
       "    .dataframe tbody tr th:only-of-type {\n",
       "        vertical-align: middle;\n",
       "    }\n",
       "\n",
       "    .dataframe tbody tr th {\n",
       "        vertical-align: top;\n",
       "    }\n",
       "\n",
       "    .dataframe thead th {\n",
       "        text-align: right;\n",
       "    }\n",
       "</style>\n",
       "<table border=\"1\" class=\"dataframe\">\n",
       "  <thead>\n",
       "    <tr style=\"text-align: right;\">\n",
       "      <th></th>\n",
       "      <th>id</th>\n",
       "      <th>user_id</th>\n",
       "      <th>message_date</th>\n",
       "    </tr>\n",
       "  </thead>\n",
       "  <tbody>\n",
       "    <tr>\n",
       "      <th>0</th>\n",
       "      <td>1000_125</td>\n",
       "      <td>1000</td>\n",
       "      <td>2018-12-27</td>\n",
       "    </tr>\n",
       "    <tr>\n",
       "      <th>1</th>\n",
       "      <td>1000_160</td>\n",
       "      <td>1000</td>\n",
       "      <td>2018-12-31</td>\n",
       "    </tr>\n",
       "    <tr>\n",
       "      <th>2</th>\n",
       "      <td>1000_223</td>\n",
       "      <td>1000</td>\n",
       "      <td>2018-12-31</td>\n",
       "    </tr>\n",
       "    <tr>\n",
       "      <th>3</th>\n",
       "      <td>1000_251</td>\n",
       "      <td>1000</td>\n",
       "      <td>2018-12-27</td>\n",
       "    </tr>\n",
       "    <tr>\n",
       "      <th>4</th>\n",
       "      <td>1000_255</td>\n",
       "      <td>1000</td>\n",
       "      <td>2018-12-26</td>\n",
       "    </tr>\n",
       "  </tbody>\n",
       "</table>\n",
       "</div>"
      ],
      "text/plain": [
       "         id  user_id message_date\n",
       "0  1000_125     1000   2018-12-27\n",
       "1  1000_160     1000   2018-12-31\n",
       "2  1000_223     1000   2018-12-31\n",
       "3  1000_251     1000   2018-12-27\n",
       "4  1000_255     1000   2018-12-26"
      ]
     },
     "execution_count": 120,
     "metadata": {},
     "output_type": "execute_result"
    }
   ],
   "source": [
    "# Imprime una muestra de datos para los mensajes\n",
    "mensajes.head()"
   ]
  },
  {
   "cell_type": "markdown",
   "metadata": {
    "id": "04xDj7KH0q1A"
   },
   "source": [
    "[Describe lo que ves y observas en la información general y en la muestra de datos impresa para el precio de datos anterior. ¿Hay algún problema (tipos de datos no adecuados, datos ausentes, etc.) que pudieran necesitar investigación y cambios adicionales? ¿Cómo se puede arreglar?]\n",
    "\n",
    "**Cada registro pertenece a un mensaje que envio el cliente, por lo que podemos esperar que el user_id se vea duplicado.**"
   ]
  },
  {
   "cell_type": "markdown",
   "metadata": {
    "id": "Sprfak900q1B"
   },
   "source": [
    "### Corregir los datos"
   ]
  },
  {
   "cell_type": "markdown",
   "metadata": {
    "id": "eGw7d9j10q1B"
   },
   "source": [
    "[Corrige los problemas obvios con los datos basándote en las observaciones iniciales.]"
   ]
  },
  {
   "cell_type": "code",
   "execution_count": 121,
   "metadata": {
    "id": "vsllvkoa0q1B"
   },
   "outputs": [],
   "source": [
    "#Optimización de dtypes para no utilizar más memoria de la necesaria\n",
    "optimize_dataframe(mensajes)"
   ]
  },
  {
   "cell_type": "code",
   "execution_count": 122,
   "metadata": {},
   "outputs": [
    {
     "data": {
      "text/plain": [
       "id                      object\n",
       "user_id                  int32\n",
       "message_date    datetime64[ns]\n",
       "dtype: object"
      ]
     },
     "execution_count": 122,
     "metadata": {},
     "output_type": "execute_result"
    }
   ],
   "source": [
    "#Verificación\n",
    "mensajes.dtypes"
   ]
  },
  {
   "cell_type": "markdown",
   "metadata": {
    "id": "HvLid7iD0q1B"
   },
   "source": [
    "### Enriquecer los datos"
   ]
  },
  {
   "cell_type": "markdown",
   "metadata": {
    "id": "8nhPFKIe0q1C"
   },
   "source": [
    "[Agrega factores adicionales a los datos si crees que pudieran ser útiles.]"
   ]
  },
  {
   "cell_type": "code",
   "execution_count": 123,
   "metadata": {
    "id": "zYEXZac10q1C"
   },
   "outputs": [],
   "source": [
    "#Creación de campo mes\n",
    "mensajes['month']= mensajes['message_date'].dt.month"
   ]
  },
  {
   "cell_type": "code",
   "execution_count": 124,
   "metadata": {},
   "outputs": [
    {
     "data": {
      "text/html": [
       "<div>\n",
       "<style scoped>\n",
       "    .dataframe tbody tr th:only-of-type {\n",
       "        vertical-align: middle;\n",
       "    }\n",
       "\n",
       "    .dataframe tbody tr th {\n",
       "        vertical-align: top;\n",
       "    }\n",
       "\n",
       "    .dataframe thead th {\n",
       "        text-align: right;\n",
       "    }\n",
       "</style>\n",
       "<table border=\"1\" class=\"dataframe\">\n",
       "  <thead>\n",
       "    <tr style=\"text-align: right;\">\n",
       "      <th></th>\n",
       "      <th>id</th>\n",
       "      <th>user_id</th>\n",
       "      <th>message_date</th>\n",
       "      <th>month</th>\n",
       "    </tr>\n",
       "  </thead>\n",
       "  <tbody>\n",
       "    <tr>\n",
       "      <th>0</th>\n",
       "      <td>1000_125</td>\n",
       "      <td>1000</td>\n",
       "      <td>2018-12-27</td>\n",
       "      <td>12</td>\n",
       "    </tr>\n",
       "    <tr>\n",
       "      <th>1</th>\n",
       "      <td>1000_160</td>\n",
       "      <td>1000</td>\n",
       "      <td>2018-12-31</td>\n",
       "      <td>12</td>\n",
       "    </tr>\n",
       "    <tr>\n",
       "      <th>2</th>\n",
       "      <td>1000_223</td>\n",
       "      <td>1000</td>\n",
       "      <td>2018-12-31</td>\n",
       "      <td>12</td>\n",
       "    </tr>\n",
       "    <tr>\n",
       "      <th>3</th>\n",
       "      <td>1000_251</td>\n",
       "      <td>1000</td>\n",
       "      <td>2018-12-27</td>\n",
       "      <td>12</td>\n",
       "    </tr>\n",
       "    <tr>\n",
       "      <th>4</th>\n",
       "      <td>1000_255</td>\n",
       "      <td>1000</td>\n",
       "      <td>2018-12-26</td>\n",
       "      <td>12</td>\n",
       "    </tr>\n",
       "    <tr>\n",
       "      <th>...</th>\n",
       "      <td>...</td>\n",
       "      <td>...</td>\n",
       "      <td>...</td>\n",
       "      <td>...</td>\n",
       "    </tr>\n",
       "    <tr>\n",
       "      <th>76046</th>\n",
       "      <td>1497_526</td>\n",
       "      <td>1497</td>\n",
       "      <td>2018-12-24</td>\n",
       "      <td>12</td>\n",
       "    </tr>\n",
       "    <tr>\n",
       "      <th>76047</th>\n",
       "      <td>1497_536</td>\n",
       "      <td>1497</td>\n",
       "      <td>2018-12-24</td>\n",
       "      <td>12</td>\n",
       "    </tr>\n",
       "    <tr>\n",
       "      <th>76048</th>\n",
       "      <td>1497_547</td>\n",
       "      <td>1497</td>\n",
       "      <td>2018-12-31</td>\n",
       "      <td>12</td>\n",
       "    </tr>\n",
       "    <tr>\n",
       "      <th>76049</th>\n",
       "      <td>1497_558</td>\n",
       "      <td>1497</td>\n",
       "      <td>2018-12-24</td>\n",
       "      <td>12</td>\n",
       "    </tr>\n",
       "    <tr>\n",
       "      <th>76050</th>\n",
       "      <td>1497_613</td>\n",
       "      <td>1497</td>\n",
       "      <td>2018-12-23</td>\n",
       "      <td>12</td>\n",
       "    </tr>\n",
       "  </tbody>\n",
       "</table>\n",
       "<p>76051 rows × 4 columns</p>\n",
       "</div>"
      ],
      "text/plain": [
       "             id  user_id message_date  month\n",
       "0      1000_125     1000   2018-12-27     12\n",
       "1      1000_160     1000   2018-12-31     12\n",
       "2      1000_223     1000   2018-12-31     12\n",
       "3      1000_251     1000   2018-12-27     12\n",
       "4      1000_255     1000   2018-12-26     12\n",
       "...         ...      ...          ...    ...\n",
       "76046  1497_526     1497   2018-12-24     12\n",
       "76047  1497_536     1497   2018-12-24     12\n",
       "76048  1497_547     1497   2018-12-31     12\n",
       "76049  1497_558     1497   2018-12-24     12\n",
       "76050  1497_613     1497   2018-12-23     12\n",
       "\n",
       "[76051 rows x 4 columns]"
      ]
     },
     "execution_count": 124,
     "metadata": {},
     "output_type": "execute_result"
    }
   ],
   "source": [
    "#verificación\n",
    "mensajes"
   ]
  },
  {
   "cell_type": "markdown",
   "metadata": {
    "id": "bStkaxn40q1C"
   },
   "source": [
    "## Internet"
   ]
  },
  {
   "cell_type": "code",
   "execution_count": 125,
   "metadata": {
    "id": "e-Uz5qyn0q1C"
   },
   "outputs": [
    {
     "name": "stdout",
     "output_type": "stream",
     "text": [
      "<class 'pandas.core.frame.DataFrame'>\n",
      "RangeIndex: 104825 entries, 0 to 104824\n",
      "Data columns (total 4 columns):\n",
      " #   Column        Non-Null Count   Dtype         \n",
      "---  ------        --------------   -----         \n",
      " 0   id            104825 non-null  object        \n",
      " 1   user_id       104825 non-null  int64         \n",
      " 2   session_date  104825 non-null  datetime64[ns]\n",
      " 3   mb_used       104825 non-null  float64       \n",
      "dtypes: datetime64[ns](1), float64(1), int64(1), object(1)\n",
      "memory usage: 3.2+ MB\n"
     ]
    }
   ],
   "source": [
    "# Imprime la información general/resumida sobre el DataFrame de internet\n",
    "internet.info()"
   ]
  },
  {
   "cell_type": "code",
   "execution_count": 126,
   "metadata": {
    "id": "9r3x_XLw0q1C"
   },
   "outputs": [
    {
     "data": {
      "text/html": [
       "<div>\n",
       "<style scoped>\n",
       "    .dataframe tbody tr th:only-of-type {\n",
       "        vertical-align: middle;\n",
       "    }\n",
       "\n",
       "    .dataframe tbody tr th {\n",
       "        vertical-align: top;\n",
       "    }\n",
       "\n",
       "    .dataframe thead th {\n",
       "        text-align: right;\n",
       "    }\n",
       "</style>\n",
       "<table border=\"1\" class=\"dataframe\">\n",
       "  <thead>\n",
       "    <tr style=\"text-align: right;\">\n",
       "      <th></th>\n",
       "      <th>id</th>\n",
       "      <th>user_id</th>\n",
       "      <th>session_date</th>\n",
       "      <th>mb_used</th>\n",
       "    </tr>\n",
       "  </thead>\n",
       "  <tbody>\n",
       "    <tr>\n",
       "      <th>0</th>\n",
       "      <td>1000_13</td>\n",
       "      <td>1000</td>\n",
       "      <td>2018-12-29</td>\n",
       "      <td>89.86</td>\n",
       "    </tr>\n",
       "    <tr>\n",
       "      <th>1</th>\n",
       "      <td>1000_204</td>\n",
       "      <td>1000</td>\n",
       "      <td>2018-12-31</td>\n",
       "      <td>0.00</td>\n",
       "    </tr>\n",
       "    <tr>\n",
       "      <th>2</th>\n",
       "      <td>1000_379</td>\n",
       "      <td>1000</td>\n",
       "      <td>2018-12-28</td>\n",
       "      <td>660.40</td>\n",
       "    </tr>\n",
       "    <tr>\n",
       "      <th>3</th>\n",
       "      <td>1000_413</td>\n",
       "      <td>1000</td>\n",
       "      <td>2018-12-26</td>\n",
       "      <td>270.99</td>\n",
       "    </tr>\n",
       "    <tr>\n",
       "      <th>4</th>\n",
       "      <td>1000_442</td>\n",
       "      <td>1000</td>\n",
       "      <td>2018-12-27</td>\n",
       "      <td>880.22</td>\n",
       "    </tr>\n",
       "  </tbody>\n",
       "</table>\n",
       "</div>"
      ],
      "text/plain": [
       "         id  user_id session_date  mb_used\n",
       "0   1000_13     1000   2018-12-29    89.86\n",
       "1  1000_204     1000   2018-12-31     0.00\n",
       "2  1000_379     1000   2018-12-28   660.40\n",
       "3  1000_413     1000   2018-12-26   270.99\n",
       "4  1000_442     1000   2018-12-27   880.22"
      ]
     },
     "execution_count": 126,
     "metadata": {},
     "output_type": "execute_result"
    }
   ],
   "source": [
    "# Imprime una muestra de datos para el tráfico de internet\n",
    "internet.head()"
   ]
  },
  {
   "cell_type": "markdown",
   "metadata": {
    "id": "EzOG5ik30q1D"
   },
   "source": [
    "[Describe lo que ves y observas en la información general y en la muestra de datos impresa para el precio de datos anterior. ¿Hay algún problema (tipos de datos no adecuados, datos ausentes, etc.) que pudieran necesitar investigación y cambios adicionales? ¿Cómo se puede arreglar?]\n",
    "\n",
    "**Hay que convertir MB en GB para homogeneizar nuestra unidades.**"
   ]
  },
  {
   "cell_type": "markdown",
   "metadata": {
    "id": "yA0tkPFg0q1D"
   },
   "source": [
    "### Corregir los datos"
   ]
  },
  {
   "cell_type": "markdown",
   "metadata": {
    "id": "zlZMuIEK0q1D"
   },
   "source": [
    "[Corrige los problemas obvios con los datos basándote en las observaciones iniciales.]"
   ]
  },
  {
   "cell_type": "code",
   "execution_count": 127,
   "metadata": {
    "id": "zVeanzdd0q1E"
   },
   "outputs": [],
   "source": [
    "##Optimización de dtypes para no utilizar más memoria de la necesaria\n",
    "optimize_dataframe(internet)"
   ]
  },
  {
   "cell_type": "code",
   "execution_count": 128,
   "metadata": {},
   "outputs": [
    {
     "data": {
      "text/plain": [
       "id                      object\n",
       "user_id                  int32\n",
       "session_date    datetime64[ns]\n",
       "mb_used                float32\n",
       "dtype: object"
      ]
     },
     "execution_count": 128,
     "metadata": {},
     "output_type": "execute_result"
    }
   ],
   "source": [
    "#Verificación\n",
    "internet.dtypes"
   ]
  },
  {
   "cell_type": "markdown",
   "metadata": {
    "id": "e8_mLF4a0q1E"
   },
   "source": [
    "### Enriquecer los datos"
   ]
  },
  {
   "cell_type": "markdown",
   "metadata": {
    "id": "xhNdn2tE0q1E"
   },
   "source": [
    "[Agrega factores adicionales a los datos si crees que pudieran ser útiles.]"
   ]
  },
  {
   "cell_type": "code",
   "execution_count": 129,
   "metadata": {
    "id": "ESiYPIEK0q1E"
   },
   "outputs": [],
   "source": [
    "#Creación de nuevo campo gb_used\n",
    "internet['gb_used'] = internet['mb_used'].apply(mb_to_gb)\n",
    "#Creación de nuevo campo month\n",
    "internet['month'] = internet['session_date'].dt.month\n",
    "#Redondeo con ceil\n",
    "internet['gb_used'] = np.ceil(internet['gb_used'])\n",
    "#"
   ]
  },
  {
   "cell_type": "code",
   "execution_count": 130,
   "metadata": {},
   "outputs": [
    {
     "data": {
      "text/html": [
       "<div>\n",
       "<style scoped>\n",
       "    .dataframe tbody tr th:only-of-type {\n",
       "        vertical-align: middle;\n",
       "    }\n",
       "\n",
       "    .dataframe tbody tr th {\n",
       "        vertical-align: top;\n",
       "    }\n",
       "\n",
       "    .dataframe thead th {\n",
       "        text-align: right;\n",
       "    }\n",
       "</style>\n",
       "<table border=\"1\" class=\"dataframe\">\n",
       "  <thead>\n",
       "    <tr style=\"text-align: right;\">\n",
       "      <th></th>\n",
       "      <th>id</th>\n",
       "      <th>user_id</th>\n",
       "      <th>session_date</th>\n",
       "      <th>mb_used</th>\n",
       "      <th>gb_used</th>\n",
       "      <th>month</th>\n",
       "    </tr>\n",
       "  </thead>\n",
       "  <tbody>\n",
       "    <tr>\n",
       "      <th>0</th>\n",
       "      <td>1000_13</td>\n",
       "      <td>1000</td>\n",
       "      <td>2018-12-29</td>\n",
       "      <td>89.860001</td>\n",
       "      <td>1.0</td>\n",
       "      <td>12</td>\n",
       "    </tr>\n",
       "    <tr>\n",
       "      <th>1</th>\n",
       "      <td>1000_204</td>\n",
       "      <td>1000</td>\n",
       "      <td>2018-12-31</td>\n",
       "      <td>0.000000</td>\n",
       "      <td>0.0</td>\n",
       "      <td>12</td>\n",
       "    </tr>\n",
       "    <tr>\n",
       "      <th>2</th>\n",
       "      <td>1000_379</td>\n",
       "      <td>1000</td>\n",
       "      <td>2018-12-28</td>\n",
       "      <td>660.400024</td>\n",
       "      <td>1.0</td>\n",
       "      <td>12</td>\n",
       "    </tr>\n",
       "    <tr>\n",
       "      <th>3</th>\n",
       "      <td>1000_413</td>\n",
       "      <td>1000</td>\n",
       "      <td>2018-12-26</td>\n",
       "      <td>270.989990</td>\n",
       "      <td>1.0</td>\n",
       "      <td>12</td>\n",
       "    </tr>\n",
       "    <tr>\n",
       "      <th>4</th>\n",
       "      <td>1000_442</td>\n",
       "      <td>1000</td>\n",
       "      <td>2018-12-27</td>\n",
       "      <td>880.219971</td>\n",
       "      <td>1.0</td>\n",
       "      <td>12</td>\n",
       "    </tr>\n",
       "    <tr>\n",
       "      <th>...</th>\n",
       "      <td>...</td>\n",
       "      <td>...</td>\n",
       "      <td>...</td>\n",
       "      <td>...</td>\n",
       "      <td>...</td>\n",
       "      <td>...</td>\n",
       "    </tr>\n",
       "    <tr>\n",
       "      <th>104820</th>\n",
       "      <td>1499_215</td>\n",
       "      <td>1499</td>\n",
       "      <td>2018-10-20</td>\n",
       "      <td>218.059998</td>\n",
       "      <td>1.0</td>\n",
       "      <td>10</td>\n",
       "    </tr>\n",
       "    <tr>\n",
       "      <th>104821</th>\n",
       "      <td>1499_216</td>\n",
       "      <td>1499</td>\n",
       "      <td>2018-12-30</td>\n",
       "      <td>304.720001</td>\n",
       "      <td>1.0</td>\n",
       "      <td>12</td>\n",
       "    </tr>\n",
       "    <tr>\n",
       "      <th>104822</th>\n",
       "      <td>1499_217</td>\n",
       "      <td>1499</td>\n",
       "      <td>2018-09-22</td>\n",
       "      <td>292.750000</td>\n",
       "      <td>1.0</td>\n",
       "      <td>9</td>\n",
       "    </tr>\n",
       "    <tr>\n",
       "      <th>104823</th>\n",
       "      <td>1499_218</td>\n",
       "      <td>1499</td>\n",
       "      <td>2018-12-07</td>\n",
       "      <td>0.000000</td>\n",
       "      <td>0.0</td>\n",
       "      <td>12</td>\n",
       "    </tr>\n",
       "    <tr>\n",
       "      <th>104824</th>\n",
       "      <td>1499_219</td>\n",
       "      <td>1499</td>\n",
       "      <td>2018-12-24</td>\n",
       "      <td>758.309998</td>\n",
       "      <td>1.0</td>\n",
       "      <td>12</td>\n",
       "    </tr>\n",
       "  </tbody>\n",
       "</table>\n",
       "<p>104825 rows × 6 columns</p>\n",
       "</div>"
      ],
      "text/plain": [
       "              id  user_id session_date     mb_used  gb_used  month\n",
       "0        1000_13     1000   2018-12-29   89.860001      1.0     12\n",
       "1       1000_204     1000   2018-12-31    0.000000      0.0     12\n",
       "2       1000_379     1000   2018-12-28  660.400024      1.0     12\n",
       "3       1000_413     1000   2018-12-26  270.989990      1.0     12\n",
       "4       1000_442     1000   2018-12-27  880.219971      1.0     12\n",
       "...          ...      ...          ...         ...      ...    ...\n",
       "104820  1499_215     1499   2018-10-20  218.059998      1.0     10\n",
       "104821  1499_216     1499   2018-12-30  304.720001      1.0     12\n",
       "104822  1499_217     1499   2018-09-22  292.750000      1.0      9\n",
       "104823  1499_218     1499   2018-12-07    0.000000      0.0     12\n",
       "104824  1499_219     1499   2018-12-24  758.309998      1.0     12\n",
       "\n",
       "[104825 rows x 6 columns]"
      ]
     },
     "execution_count": 130,
     "metadata": {},
     "output_type": "execute_result"
    }
   ],
   "source": [
    "#Verificación\n",
    "internet"
   ]
  },
  {
   "cell_type": "markdown",
   "metadata": {
    "id": "3UA2cqIW0q1E"
   },
   "source": [
    "## Estudiar las condiciones de las tarifas"
   ]
  },
  {
   "cell_type": "markdown",
   "metadata": {
    "id": "T86Sqltq0q1F"
   },
   "source": [
    "[Es sumamente importante entender cómo funcionan las tarifas, cómo se les cobra a los usuarios en función de su plan de suscripción. Así que te sugerimos imprimir la información de la tarifa para ver una vez más sus condiciones.]"
   ]
  },
  {
   "cell_type": "code",
   "execution_count": 131,
   "metadata": {
    "id": "i409op8p0q1F",
    "scrolled": true
   },
   "outputs": [],
   "source": [
    "#Imprime las condiciones de la tarifa y asegúrate de que te quedan claras\n",
    "#Cambio de nombres de las columnas\n",
    "planes.rename(columns={\n",
    "                       'messages_included': 'mensajes_incluidos',\n",
    "                       'gb_per_month_included':'gb_incluidos',\n",
    "                       'mb_per_month_included': 'mb_incluidos_al_mes',\n",
    "                       'minutes_included': 'minutos_incluidos',\n",
    "                       'usd_monthly_pay': 'usd_pago_por_mes',\n",
    "                       'usd_per_gb': 'usd_por_gb',\n",
    "                       'usd_per_message': 'usd_por_mensaje',\n",
    "                       'usd_per_minute': 'usd_por_minuto',\n",
    "                       'plan_name': 'plan'\n",
    "                      }, inplace=True)\n"
   ]
  },
  {
   "cell_type": "code",
   "execution_count": 132,
   "metadata": {},
   "outputs": [
    {
     "data": {
      "text/html": [
       "<div>\n",
       "<style scoped>\n",
       "    .dataframe tbody tr th:only-of-type {\n",
       "        vertical-align: middle;\n",
       "    }\n",
       "\n",
       "    .dataframe tbody tr th {\n",
       "        vertical-align: top;\n",
       "    }\n",
       "\n",
       "    .dataframe thead th {\n",
       "        text-align: right;\n",
       "    }\n",
       "</style>\n",
       "<table border=\"1\" class=\"dataframe\">\n",
       "  <thead>\n",
       "    <tr style=\"text-align: right;\">\n",
       "      <th></th>\n",
       "      <th>plan</th>\n",
       "      <th>mensajes_incluidos</th>\n",
       "      <th>mb_incluidos_al_mes</th>\n",
       "      <th>gb_incluidos</th>\n",
       "      <th>minutos_incluidos</th>\n",
       "      <th>usd_pago_por_mes</th>\n",
       "      <th>usd_por_gb</th>\n",
       "      <th>usd_por_mensaje</th>\n",
       "      <th>usd_por_minuto</th>\n",
       "    </tr>\n",
       "  </thead>\n",
       "  <tbody>\n",
       "    <tr>\n",
       "      <th>0</th>\n",
       "      <td>surf</td>\n",
       "      <td>50</td>\n",
       "      <td>15360</td>\n",
       "      <td>15.0</td>\n",
       "      <td>500</td>\n",
       "      <td>20</td>\n",
       "      <td>10</td>\n",
       "      <td>0.03</td>\n",
       "      <td>0.03</td>\n",
       "    </tr>\n",
       "    <tr>\n",
       "      <th>1</th>\n",
       "      <td>ultimate</td>\n",
       "      <td>1000</td>\n",
       "      <td>30720</td>\n",
       "      <td>30.0</td>\n",
       "      <td>3000</td>\n",
       "      <td>70</td>\n",
       "      <td>7</td>\n",
       "      <td>0.01</td>\n",
       "      <td>0.01</td>\n",
       "    </tr>\n",
       "  </tbody>\n",
       "</table>\n",
       "</div>"
      ],
      "text/plain": [
       "       plan  mensajes_incluidos  mb_incluidos_al_mes  gb_incluidos  \\\n",
       "0      surf                  50                15360          15.0   \n",
       "1  ultimate                1000                30720          30.0   \n",
       "\n",
       "   minutos_incluidos  usd_pago_por_mes  usd_por_gb  usd_por_mensaje  \\\n",
       "0                500                20          10             0.03   \n",
       "1               3000                70           7             0.01   \n",
       "\n",
       "   usd_por_minuto  \n",
       "0            0.03  \n",
       "1            0.01  "
      ]
     },
     "execution_count": 132,
     "metadata": {},
     "output_type": "execute_result"
    }
   ],
   "source": [
    "#Verificación\n",
    "planes"
   ]
  },
  {
   "cell_type": "markdown",
   "metadata": {
    "id": "hMR1tP5d0q1F"
   },
   "source": [
    "## Agregar datos por usuario\n",
    "\n",
    "[Ahora que los datos están limpios, agrega los datos por usuario y por periodo para que solo haya un registro por usuario y por periodo. Esto facilitará mucho el análisis posterior.]"
   ]
  },
  {
   "cell_type": "code",
   "execution_count": 133,
   "metadata": {
    "id": "A332cedB0q1G"
   },
   "outputs": [
    {
     "data": {
      "text/html": [
       "<div>\n",
       "<style scoped>\n",
       "    .dataframe tbody tr th:only-of-type {\n",
       "        vertical-align: middle;\n",
       "    }\n",
       "\n",
       "    .dataframe tbody tr th {\n",
       "        vertical-align: top;\n",
       "    }\n",
       "\n",
       "    .dataframe thead th {\n",
       "        text-align: right;\n",
       "    }\n",
       "</style>\n",
       "<table border=\"1\" class=\"dataframe\">\n",
       "  <thead>\n",
       "    <tr style=\"text-align: right;\">\n",
       "      <th></th>\n",
       "      <th>id</th>\n",
       "      <th>user_id</th>\n",
       "      <th>call_date</th>\n",
       "      <th>duration</th>\n",
       "      <th>duration_ceil</th>\n",
       "      <th>month</th>\n",
       "    </tr>\n",
       "  </thead>\n",
       "  <tbody>\n",
       "    <tr>\n",
       "      <th>0</th>\n",
       "      <td>1000_93</td>\n",
       "      <td>1000</td>\n",
       "      <td>2018-12-27</td>\n",
       "      <td>8.52</td>\n",
       "      <td>9.0</td>\n",
       "      <td>12</td>\n",
       "    </tr>\n",
       "    <tr>\n",
       "      <th>1</th>\n",
       "      <td>1000_145</td>\n",
       "      <td>1000</td>\n",
       "      <td>2018-12-27</td>\n",
       "      <td>13.66</td>\n",
       "      <td>14.0</td>\n",
       "      <td>12</td>\n",
       "    </tr>\n",
       "    <tr>\n",
       "      <th>2</th>\n",
       "      <td>1000_247</td>\n",
       "      <td>1000</td>\n",
       "      <td>2018-12-27</td>\n",
       "      <td>14.48</td>\n",
       "      <td>15.0</td>\n",
       "      <td>12</td>\n",
       "    </tr>\n",
       "    <tr>\n",
       "      <th>3</th>\n",
       "      <td>1000_309</td>\n",
       "      <td>1000</td>\n",
       "      <td>2018-12-28</td>\n",
       "      <td>5.76</td>\n",
       "      <td>6.0</td>\n",
       "      <td>12</td>\n",
       "    </tr>\n",
       "    <tr>\n",
       "      <th>4</th>\n",
       "      <td>1000_380</td>\n",
       "      <td>1000</td>\n",
       "      <td>2018-12-30</td>\n",
       "      <td>4.22</td>\n",
       "      <td>5.0</td>\n",
       "      <td>12</td>\n",
       "    </tr>\n",
       "    <tr>\n",
       "      <th>...</th>\n",
       "      <td>...</td>\n",
       "      <td>...</td>\n",
       "      <td>...</td>\n",
       "      <td>...</td>\n",
       "      <td>...</td>\n",
       "      <td>...</td>\n",
       "    </tr>\n",
       "    <tr>\n",
       "      <th>137730</th>\n",
       "      <td>1499_199</td>\n",
       "      <td>1499</td>\n",
       "      <td>2018-11-21</td>\n",
       "      <td>8.72</td>\n",
       "      <td>9.0</td>\n",
       "      <td>11</td>\n",
       "    </tr>\n",
       "    <tr>\n",
       "      <th>137731</th>\n",
       "      <td>1499_200</td>\n",
       "      <td>1499</td>\n",
       "      <td>2018-10-20</td>\n",
       "      <td>10.89</td>\n",
       "      <td>11.0</td>\n",
       "      <td>10</td>\n",
       "    </tr>\n",
       "    <tr>\n",
       "      <th>137732</th>\n",
       "      <td>1499_201</td>\n",
       "      <td>1499</td>\n",
       "      <td>2018-09-21</td>\n",
       "      <td>8.12</td>\n",
       "      <td>9.0</td>\n",
       "      <td>9</td>\n",
       "    </tr>\n",
       "    <tr>\n",
       "      <th>137733</th>\n",
       "      <td>1499_202</td>\n",
       "      <td>1499</td>\n",
       "      <td>2018-10-10</td>\n",
       "      <td>0.37</td>\n",
       "      <td>1.0</td>\n",
       "      <td>10</td>\n",
       "    </tr>\n",
       "    <tr>\n",
       "      <th>137734</th>\n",
       "      <td>1499_203</td>\n",
       "      <td>1499</td>\n",
       "      <td>2018-12-29</td>\n",
       "      <td>13.86</td>\n",
       "      <td>14.0</td>\n",
       "      <td>12</td>\n",
       "    </tr>\n",
       "  </tbody>\n",
       "</table>\n",
       "<p>137735 rows × 6 columns</p>\n",
       "</div>"
      ],
      "text/plain": [
       "              id  user_id  call_date  duration  duration_ceil  month\n",
       "0        1000_93     1000 2018-12-27      8.52            9.0     12\n",
       "1       1000_145     1000 2018-12-27     13.66           14.0     12\n",
       "2       1000_247     1000 2018-12-27     14.48           15.0     12\n",
       "3       1000_309     1000 2018-12-28      5.76            6.0     12\n",
       "4       1000_380     1000 2018-12-30      4.22            5.0     12\n",
       "...          ...      ...        ...       ...            ...    ...\n",
       "137730  1499_199     1499 2018-11-21      8.72            9.0     11\n",
       "137731  1499_200     1499 2018-10-20     10.89           11.0     10\n",
       "137732  1499_201     1499 2018-09-21      8.12            9.0      9\n",
       "137733  1499_202     1499 2018-10-10      0.37            1.0     10\n",
       "137734  1499_203     1499 2018-12-29     13.86           14.0     12\n",
       "\n",
       "[137735 rows x 6 columns]"
      ]
     },
     "execution_count": 133,
     "metadata": {},
     "output_type": "execute_result"
    }
   ],
   "source": [
    "# Calcula el número de llamadas hechas por cada usuario al mes. Guarda el resultado.\n",
    "llamadas\n"
   ]
  },
  {
   "cell_type": "code",
   "execution_count": 134,
   "metadata": {},
   "outputs": [],
   "source": [
    "#Creación de tabla dinámica\n",
    "int_llamadas=llamadas.pivot_table(index = ['user_id','month'], values='id',aggfunc= 'count')"
   ]
  },
  {
   "cell_type": "code",
   "execution_count": 135,
   "metadata": {},
   "outputs": [],
   "source": [
    "#Incorporación de index como columnas \n",
    "int_llamadas = int_llamadas.reset_index()\n",
    "#cambio de nombre en id \n",
    "int_llamadas = int_llamadas.rename(columns ={'id':'calls'})"
   ]
  },
  {
   "cell_type": "code",
   "execution_count": 136,
   "metadata": {},
   "outputs": [
    {
     "data": {
      "text/html": [
       "<div>\n",
       "<style scoped>\n",
       "    .dataframe tbody tr th:only-of-type {\n",
       "        vertical-align: middle;\n",
       "    }\n",
       "\n",
       "    .dataframe tbody tr th {\n",
       "        vertical-align: top;\n",
       "    }\n",
       "\n",
       "    .dataframe thead th {\n",
       "        text-align: right;\n",
       "    }\n",
       "</style>\n",
       "<table border=\"1\" class=\"dataframe\">\n",
       "  <thead>\n",
       "    <tr style=\"text-align: right;\">\n",
       "      <th></th>\n",
       "      <th>user_id</th>\n",
       "      <th>month</th>\n",
       "      <th>calls</th>\n",
       "    </tr>\n",
       "  </thead>\n",
       "  <tbody>\n",
       "    <tr>\n",
       "      <th>0</th>\n",
       "      <td>1000</td>\n",
       "      <td>12</td>\n",
       "      <td>16</td>\n",
       "    </tr>\n",
       "    <tr>\n",
       "      <th>1</th>\n",
       "      <td>1001</td>\n",
       "      <td>8</td>\n",
       "      <td>27</td>\n",
       "    </tr>\n",
       "    <tr>\n",
       "      <th>2</th>\n",
       "      <td>1001</td>\n",
       "      <td>9</td>\n",
       "      <td>49</td>\n",
       "    </tr>\n",
       "    <tr>\n",
       "      <th>3</th>\n",
       "      <td>1001</td>\n",
       "      <td>10</td>\n",
       "      <td>65</td>\n",
       "    </tr>\n",
       "    <tr>\n",
       "      <th>4</th>\n",
       "      <td>1001</td>\n",
       "      <td>11</td>\n",
       "      <td>64</td>\n",
       "    </tr>\n",
       "    <tr>\n",
       "      <th>...</th>\n",
       "      <td>...</td>\n",
       "      <td>...</td>\n",
       "      <td>...</td>\n",
       "    </tr>\n",
       "    <tr>\n",
       "      <th>2253</th>\n",
       "      <td>1498</td>\n",
       "      <td>12</td>\n",
       "      <td>39</td>\n",
       "    </tr>\n",
       "    <tr>\n",
       "      <th>2254</th>\n",
       "      <td>1499</td>\n",
       "      <td>9</td>\n",
       "      <td>41</td>\n",
       "    </tr>\n",
       "    <tr>\n",
       "      <th>2255</th>\n",
       "      <td>1499</td>\n",
       "      <td>10</td>\n",
       "      <td>53</td>\n",
       "    </tr>\n",
       "    <tr>\n",
       "      <th>2256</th>\n",
       "      <td>1499</td>\n",
       "      <td>11</td>\n",
       "      <td>45</td>\n",
       "    </tr>\n",
       "    <tr>\n",
       "      <th>2257</th>\n",
       "      <td>1499</td>\n",
       "      <td>12</td>\n",
       "      <td>65</td>\n",
       "    </tr>\n",
       "  </tbody>\n",
       "</table>\n",
       "<p>2258 rows × 3 columns</p>\n",
       "</div>"
      ],
      "text/plain": [
       "      user_id  month  calls\n",
       "0        1000     12     16\n",
       "1        1001      8     27\n",
       "2        1001      9     49\n",
       "3        1001     10     65\n",
       "4        1001     11     64\n",
       "...       ...    ...    ...\n",
       "2253     1498     12     39\n",
       "2254     1499      9     41\n",
       "2255     1499     10     53\n",
       "2256     1499     11     45\n",
       "2257     1499     12     65\n",
       "\n",
       "[2258 rows x 3 columns]"
      ]
     },
     "execution_count": 136,
     "metadata": {},
     "output_type": "execute_result"
    }
   ],
   "source": [
    "#verificación\n",
    "int_llamadas"
   ]
  },
  {
   "cell_type": "code",
   "execution_count": 137,
   "metadata": {
    "id": "aw2cmuql0q1G"
   },
   "outputs": [
    {
     "data": {
      "text/html": [
       "<div>\n",
       "<style scoped>\n",
       "    .dataframe tbody tr th:only-of-type {\n",
       "        vertical-align: middle;\n",
       "    }\n",
       "\n",
       "    .dataframe tbody tr th {\n",
       "        vertical-align: top;\n",
       "    }\n",
       "\n",
       "    .dataframe thead th {\n",
       "        text-align: right;\n",
       "    }\n",
       "</style>\n",
       "<table border=\"1\" class=\"dataframe\">\n",
       "  <thead>\n",
       "    <tr style=\"text-align: right;\">\n",
       "      <th></th>\n",
       "      <th>user_id</th>\n",
       "      <th>month</th>\n",
       "      <th>minutes_used</th>\n",
       "    </tr>\n",
       "  </thead>\n",
       "  <tbody>\n",
       "    <tr>\n",
       "      <th>0</th>\n",
       "      <td>1000</td>\n",
       "      <td>12</td>\n",
       "      <td>116.83</td>\n",
       "    </tr>\n",
       "    <tr>\n",
       "      <th>1</th>\n",
       "      <td>1001</td>\n",
       "      <td>8</td>\n",
       "      <td>171.14</td>\n",
       "    </tr>\n",
       "    <tr>\n",
       "      <th>2</th>\n",
       "      <td>1001</td>\n",
       "      <td>9</td>\n",
       "      <td>297.69</td>\n",
       "    </tr>\n",
       "    <tr>\n",
       "      <th>3</th>\n",
       "      <td>1001</td>\n",
       "      <td>10</td>\n",
       "      <td>374.11</td>\n",
       "    </tr>\n",
       "    <tr>\n",
       "      <th>4</th>\n",
       "      <td>1001</td>\n",
       "      <td>11</td>\n",
       "      <td>404.59</td>\n",
       "    </tr>\n",
       "    <tr>\n",
       "      <th>...</th>\n",
       "      <td>...</td>\n",
       "      <td>...</td>\n",
       "      <td>...</td>\n",
       "    </tr>\n",
       "    <tr>\n",
       "      <th>2253</th>\n",
       "      <td>1498</td>\n",
       "      <td>12</td>\n",
       "      <td>324.77</td>\n",
       "    </tr>\n",
       "    <tr>\n",
       "      <th>2254</th>\n",
       "      <td>1499</td>\n",
       "      <td>9</td>\n",
       "      <td>330.37</td>\n",
       "    </tr>\n",
       "    <tr>\n",
       "      <th>2255</th>\n",
       "      <td>1499</td>\n",
       "      <td>10</td>\n",
       "      <td>363.28</td>\n",
       "    </tr>\n",
       "    <tr>\n",
       "      <th>2256</th>\n",
       "      <td>1499</td>\n",
       "      <td>11</td>\n",
       "      <td>288.56</td>\n",
       "    </tr>\n",
       "    <tr>\n",
       "      <th>2257</th>\n",
       "      <td>1499</td>\n",
       "      <td>12</td>\n",
       "      <td>468.10</td>\n",
       "    </tr>\n",
       "  </tbody>\n",
       "</table>\n",
       "<p>2258 rows × 3 columns</p>\n",
       "</div>"
      ],
      "text/plain": [
       "      user_id  month  minutes_used\n",
       "0        1000     12        116.83\n",
       "1        1001      8        171.14\n",
       "2        1001      9        297.69\n",
       "3        1001     10        374.11\n",
       "4        1001     11        404.59\n",
       "...       ...    ...           ...\n",
       "2253     1498     12        324.77\n",
       "2254     1499      9        330.37\n",
       "2255     1499     10        363.28\n",
       "2256     1499     11        288.56\n",
       "2257     1499     12        468.10\n",
       "\n",
       "[2258 rows x 3 columns]"
      ]
     },
     "execution_count": 137,
     "metadata": {},
     "output_type": "execute_result"
    }
   ],
   "source": [
    "# Calcula la cantidad de minutos usados por cada usuario al mes. Guarda el resultado.\n",
    "int_minutos=llamadas.pivot_table(index = ['user_id','month'], values='duration',aggfunc= 'sum')\n",
    "#Traer los índices como columnas\n",
    "int_minutos = int_minutos.reset_index()\n",
    "# Renombrar columna 'duration'\n",
    "int_minutos=int_minutos.rename(columns={'duration':'minutes_used'})\n",
    "#Verificación\n",
    "int_minutos"
   ]
  },
  {
   "cell_type": "code",
   "execution_count": 138,
   "metadata": {
    "id": "CcQvNHn60q1G"
   },
   "outputs": [
    {
     "data": {
      "text/html": [
       "<div>\n",
       "<style scoped>\n",
       "    .dataframe tbody tr th:only-of-type {\n",
       "        vertical-align: middle;\n",
       "    }\n",
       "\n",
       "    .dataframe tbody tr th {\n",
       "        vertical-align: top;\n",
       "    }\n",
       "\n",
       "    .dataframe thead th {\n",
       "        text-align: right;\n",
       "    }\n",
       "</style>\n",
       "<table border=\"1\" class=\"dataframe\">\n",
       "  <thead>\n",
       "    <tr style=\"text-align: right;\">\n",
       "      <th></th>\n",
       "      <th>user_id</th>\n",
       "      <th>month</th>\n",
       "      <th>messages_send</th>\n",
       "    </tr>\n",
       "  </thead>\n",
       "  <tbody>\n",
       "    <tr>\n",
       "      <th>0</th>\n",
       "      <td>1000</td>\n",
       "      <td>12</td>\n",
       "      <td>11</td>\n",
       "    </tr>\n",
       "    <tr>\n",
       "      <th>1</th>\n",
       "      <td>1001</td>\n",
       "      <td>8</td>\n",
       "      <td>30</td>\n",
       "    </tr>\n",
       "    <tr>\n",
       "      <th>2</th>\n",
       "      <td>1001</td>\n",
       "      <td>9</td>\n",
       "      <td>44</td>\n",
       "    </tr>\n",
       "    <tr>\n",
       "      <th>3</th>\n",
       "      <td>1001</td>\n",
       "      <td>10</td>\n",
       "      <td>53</td>\n",
       "    </tr>\n",
       "    <tr>\n",
       "      <th>4</th>\n",
       "      <td>1001</td>\n",
       "      <td>11</td>\n",
       "      <td>36</td>\n",
       "    </tr>\n",
       "    <tr>\n",
       "      <th>...</th>\n",
       "      <td>...</td>\n",
       "      <td>...</td>\n",
       "      <td>...</td>\n",
       "    </tr>\n",
       "    <tr>\n",
       "      <th>1801</th>\n",
       "      <td>1496</td>\n",
       "      <td>9</td>\n",
       "      <td>21</td>\n",
       "    </tr>\n",
       "    <tr>\n",
       "      <th>1802</th>\n",
       "      <td>1496</td>\n",
       "      <td>10</td>\n",
       "      <td>18</td>\n",
       "    </tr>\n",
       "    <tr>\n",
       "      <th>1803</th>\n",
       "      <td>1496</td>\n",
       "      <td>11</td>\n",
       "      <td>13</td>\n",
       "    </tr>\n",
       "    <tr>\n",
       "      <th>1804</th>\n",
       "      <td>1496</td>\n",
       "      <td>12</td>\n",
       "      <td>11</td>\n",
       "    </tr>\n",
       "    <tr>\n",
       "      <th>1805</th>\n",
       "      <td>1497</td>\n",
       "      <td>12</td>\n",
       "      <td>50</td>\n",
       "    </tr>\n",
       "  </tbody>\n",
       "</table>\n",
       "<p>1806 rows × 3 columns</p>\n",
       "</div>"
      ],
      "text/plain": [
       "      user_id  month  messages_send\n",
       "0        1000     12             11\n",
       "1        1001      8             30\n",
       "2        1001      9             44\n",
       "3        1001     10             53\n",
       "4        1001     11             36\n",
       "...       ...    ...            ...\n",
       "1801     1496      9             21\n",
       "1802     1496     10             18\n",
       "1803     1496     11             13\n",
       "1804     1496     12             11\n",
       "1805     1497     12             50\n",
       "\n",
       "[1806 rows x 3 columns]"
      ]
     },
     "execution_count": 138,
     "metadata": {},
     "output_type": "execute_result"
    }
   ],
   "source": [
    "# Calcula el número de mensajes enviados por cada usuario al mes. Guarda el resultado.\n",
    "int_mensajes = mensajes.pivot_table(index = ['user_id','month'], values='id',aggfunc= 'count')\n",
    "#Traer los índices como columnas\n",
    "int_mensajes = int_mensajes.reset_index()\n",
    "# Renombrar columna 'duration'\n",
    "int_mensajes= int_mensajes.rename(columns={'id':'messages_send'})\n",
    "#Verificación\n",
    "int_mensajes"
   ]
  },
  {
   "cell_type": "code",
   "execution_count": 139,
   "metadata": {
    "id": "H1AqN2eG0q1H"
   },
   "outputs": [
    {
     "data": {
      "text/html": [
       "<div>\n",
       "<style scoped>\n",
       "    .dataframe tbody tr th:only-of-type {\n",
       "        vertical-align: middle;\n",
       "    }\n",
       "\n",
       "    .dataframe tbody tr th {\n",
       "        vertical-align: top;\n",
       "    }\n",
       "\n",
       "    .dataframe thead th {\n",
       "        text-align: right;\n",
       "    }\n",
       "</style>\n",
       "<table border=\"1\" class=\"dataframe\">\n",
       "  <thead>\n",
       "    <tr style=\"text-align: right;\">\n",
       "      <th></th>\n",
       "      <th>user_id</th>\n",
       "      <th>month</th>\n",
       "      <th>gb_used</th>\n",
       "    </tr>\n",
       "  </thead>\n",
       "  <tbody>\n",
       "    <tr>\n",
       "      <th>0</th>\n",
       "      <td>1000</td>\n",
       "      <td>12</td>\n",
       "      <td>4.0</td>\n",
       "    </tr>\n",
       "    <tr>\n",
       "      <th>1</th>\n",
       "      <td>1001</td>\n",
       "      <td>8</td>\n",
       "      <td>21.0</td>\n",
       "    </tr>\n",
       "    <tr>\n",
       "      <th>2</th>\n",
       "      <td>1001</td>\n",
       "      <td>9</td>\n",
       "      <td>41.0</td>\n",
       "    </tr>\n",
       "    <tr>\n",
       "      <th>3</th>\n",
       "      <td>1001</td>\n",
       "      <td>10</td>\n",
       "      <td>50.0</td>\n",
       "    </tr>\n",
       "    <tr>\n",
       "      <th>4</th>\n",
       "      <td>1001</td>\n",
       "      <td>11</td>\n",
       "      <td>49.0</td>\n",
       "    </tr>\n",
       "    <tr>\n",
       "      <th>...</th>\n",
       "      <td>...</td>\n",
       "      <td>...</td>\n",
       "      <td>...</td>\n",
       "    </tr>\n",
       "    <tr>\n",
       "      <th>2272</th>\n",
       "      <td>1498</td>\n",
       "      <td>12</td>\n",
       "      <td>56.0</td>\n",
       "    </tr>\n",
       "    <tr>\n",
       "      <th>2273</th>\n",
       "      <td>1499</td>\n",
       "      <td>9</td>\n",
       "      <td>37.0</td>\n",
       "    </tr>\n",
       "    <tr>\n",
       "      <th>2274</th>\n",
       "      <td>1499</td>\n",
       "      <td>10</td>\n",
       "      <td>52.0</td>\n",
       "    </tr>\n",
       "    <tr>\n",
       "      <th>2275</th>\n",
       "      <td>1499</td>\n",
       "      <td>11</td>\n",
       "      <td>43.0</td>\n",
       "    </tr>\n",
       "    <tr>\n",
       "      <th>2276</th>\n",
       "      <td>1499</td>\n",
       "      <td>12</td>\n",
       "      <td>58.0</td>\n",
       "    </tr>\n",
       "  </tbody>\n",
       "</table>\n",
       "<p>2277 rows × 3 columns</p>\n",
       "</div>"
      ],
      "text/plain": [
       "      user_id  month  gb_used\n",
       "0        1000     12      4.0\n",
       "1        1001      8     21.0\n",
       "2        1001      9     41.0\n",
       "3        1001     10     50.0\n",
       "4        1001     11     49.0\n",
       "...       ...    ...      ...\n",
       "2272     1498     12     56.0\n",
       "2273     1499      9     37.0\n",
       "2274     1499     10     52.0\n",
       "2275     1499     11     43.0\n",
       "2276     1499     12     58.0\n",
       "\n",
       "[2277 rows x 3 columns]"
      ]
     },
     "execution_count": 139,
     "metadata": {},
     "output_type": "execute_result"
    }
   ],
   "source": [
    "# Calcula el volumen del tráfico de Internet usado por cada usuario al mes. Guarda el resultado.\n",
    "int_internet = internet.pivot_table(index = ['user_id','month'], values = 'gb_used', aggfunc = 'sum')\n",
    "#Traer los índices como columnas\n",
    "int_internet = int_internet.reset_index()\n",
    "#Verificación\n",
    "int_internet"
   ]
  },
  {
   "cell_type": "markdown",
   "metadata": {
    "id": "VDfYXnj80q1H"
   },
   "source": [
    "[Junta los datos agregados en un DataFrame para que haya un registro que represente lo que consumió un usuario único en un mes determinado.]"
   ]
  },
  {
   "cell_type": "code",
   "execution_count": 140,
   "metadata": {
    "id": "FW99ykyf0q1H"
   },
   "outputs": [],
   "source": [
    "# Fusiona los datos de llamadas, minutos, mensajes e Internet con base en user_id y month\n",
    "#Unión llamadas yminutos\n",
    "int_lla_min = int_llamadas.merge(int_minutos, on = ['user_id','month'], how = 'outer')\n",
    "#Unión llamadas-minutos + mensajes\n",
    "int_lla_min_men = int_lla_min.merge(int_mensajes, on = ['user_id','month'], how = 'outer')\n",
    "#Unión llamadas-minutos-mensajes + internet\n",
    "int_consumo_sin_plan = int_lla_min_men.merge(int_internet, on = ['user_id','month'], how = 'outer')"
   ]
  },
  {
   "cell_type": "code",
   "execution_count": 141,
   "metadata": {},
   "outputs": [
    {
     "data": {
      "text/html": [
       "<div>\n",
       "<style scoped>\n",
       "    .dataframe tbody tr th:only-of-type {\n",
       "        vertical-align: middle;\n",
       "    }\n",
       "\n",
       "    .dataframe tbody tr th {\n",
       "        vertical-align: top;\n",
       "    }\n",
       "\n",
       "    .dataframe thead th {\n",
       "        text-align: right;\n",
       "    }\n",
       "</style>\n",
       "<table border=\"1\" class=\"dataframe\">\n",
       "  <thead>\n",
       "    <tr style=\"text-align: right;\">\n",
       "      <th></th>\n",
       "      <th>user_id</th>\n",
       "      <th>month</th>\n",
       "      <th>calls</th>\n",
       "      <th>minutes_used</th>\n",
       "      <th>messages_send</th>\n",
       "      <th>gb_used</th>\n",
       "    </tr>\n",
       "  </thead>\n",
       "  <tbody>\n",
       "    <tr>\n",
       "      <th>0</th>\n",
       "      <td>1000</td>\n",
       "      <td>12</td>\n",
       "      <td>16.0</td>\n",
       "      <td>116.83</td>\n",
       "      <td>11.0</td>\n",
       "      <td>4.0</td>\n",
       "    </tr>\n",
       "    <tr>\n",
       "      <th>1</th>\n",
       "      <td>1001</td>\n",
       "      <td>8</td>\n",
       "      <td>27.0</td>\n",
       "      <td>171.14</td>\n",
       "      <td>30.0</td>\n",
       "      <td>21.0</td>\n",
       "    </tr>\n",
       "    <tr>\n",
       "      <th>2</th>\n",
       "      <td>1001</td>\n",
       "      <td>9</td>\n",
       "      <td>49.0</td>\n",
       "      <td>297.69</td>\n",
       "      <td>44.0</td>\n",
       "      <td>41.0</td>\n",
       "    </tr>\n",
       "    <tr>\n",
       "      <th>3</th>\n",
       "      <td>1001</td>\n",
       "      <td>10</td>\n",
       "      <td>65.0</td>\n",
       "      <td>374.11</td>\n",
       "      <td>53.0</td>\n",
       "      <td>50.0</td>\n",
       "    </tr>\n",
       "    <tr>\n",
       "      <th>4</th>\n",
       "      <td>1001</td>\n",
       "      <td>11</td>\n",
       "      <td>64.0</td>\n",
       "      <td>404.59</td>\n",
       "      <td>36.0</td>\n",
       "      <td>49.0</td>\n",
       "    </tr>\n",
       "    <tr>\n",
       "      <th>...</th>\n",
       "      <td>...</td>\n",
       "      <td>...</td>\n",
       "      <td>...</td>\n",
       "      <td>...</td>\n",
       "      <td>...</td>\n",
       "      <td>...</td>\n",
       "    </tr>\n",
       "    <tr>\n",
       "      <th>2288</th>\n",
       "      <td>1349</td>\n",
       "      <td>12</td>\n",
       "      <td>NaN</td>\n",
       "      <td>NaN</td>\n",
       "      <td>61.0</td>\n",
       "      <td>27.0</td>\n",
       "    </tr>\n",
       "    <tr>\n",
       "      <th>2289</th>\n",
       "      <td>1361</td>\n",
       "      <td>5</td>\n",
       "      <td>NaN</td>\n",
       "      <td>NaN</td>\n",
       "      <td>2.0</td>\n",
       "      <td>7.0</td>\n",
       "    </tr>\n",
       "    <tr>\n",
       "      <th>2290</th>\n",
       "      <td>1482</td>\n",
       "      <td>10</td>\n",
       "      <td>NaN</td>\n",
       "      <td>NaN</td>\n",
       "      <td>2.0</td>\n",
       "      <td>NaN</td>\n",
       "    </tr>\n",
       "    <tr>\n",
       "      <th>2291</th>\n",
       "      <td>1108</td>\n",
       "      <td>12</td>\n",
       "      <td>NaN</td>\n",
       "      <td>NaN</td>\n",
       "      <td>NaN</td>\n",
       "      <td>2.0</td>\n",
       "    </tr>\n",
       "    <tr>\n",
       "      <th>2292</th>\n",
       "      <td>1311</td>\n",
       "      <td>6</td>\n",
       "      <td>NaN</td>\n",
       "      <td>NaN</td>\n",
       "      <td>NaN</td>\n",
       "      <td>7.0</td>\n",
       "    </tr>\n",
       "  </tbody>\n",
       "</table>\n",
       "<p>2293 rows × 6 columns</p>\n",
       "</div>"
      ],
      "text/plain": [
       "      user_id  month  calls  minutes_used  messages_send  gb_used\n",
       "0        1000     12   16.0        116.83           11.0      4.0\n",
       "1        1001      8   27.0        171.14           30.0     21.0\n",
       "2        1001      9   49.0        297.69           44.0     41.0\n",
       "3        1001     10   65.0        374.11           53.0     50.0\n",
       "4        1001     11   64.0        404.59           36.0     49.0\n",
       "...       ...    ...    ...           ...            ...      ...\n",
       "2288     1349     12    NaN           NaN           61.0     27.0\n",
       "2289     1361      5    NaN           NaN            2.0      7.0\n",
       "2290     1482     10    NaN           NaN            2.0      NaN\n",
       "2291     1108     12    NaN           NaN            NaN      2.0\n",
       "2292     1311      6    NaN           NaN            NaN      7.0\n",
       "\n",
       "[2293 rows x 6 columns]"
      ]
     },
     "execution_count": 141,
     "metadata": {},
     "output_type": "execute_result"
    }
   ],
   "source": [
    "#verificación\n",
    "int_consumo_sin_plan"
   ]
  },
  {
   "cell_type": "code",
   "execution_count": 142,
   "metadata": {
    "id": "0dNOXHag0q1H"
   },
   "outputs": [],
   "source": [
    "# Añade la información de la tarifa\n",
    "int_consumo_con_plan = int_consumo_sin_plan.merge(usuarios[['user_id','plan','city']], on = 'user_id', how = 'outer')\n"
   ]
  },
  {
   "cell_type": "code",
   "execution_count": 143,
   "metadata": {},
   "outputs": [
    {
     "data": {
      "text/html": [
       "<div>\n",
       "<style scoped>\n",
       "    .dataframe tbody tr th:only-of-type {\n",
       "        vertical-align: middle;\n",
       "    }\n",
       "\n",
       "    .dataframe tbody tr th {\n",
       "        vertical-align: top;\n",
       "    }\n",
       "\n",
       "    .dataframe thead th {\n",
       "        text-align: right;\n",
       "    }\n",
       "</style>\n",
       "<table border=\"1\" class=\"dataframe\">\n",
       "  <thead>\n",
       "    <tr style=\"text-align: right;\">\n",
       "      <th></th>\n",
       "      <th>user_id</th>\n",
       "      <th>month</th>\n",
       "      <th>calls</th>\n",
       "      <th>minutes_used</th>\n",
       "      <th>messages_send</th>\n",
       "      <th>gb_used</th>\n",
       "      <th>plan</th>\n",
       "      <th>city</th>\n",
       "    </tr>\n",
       "  </thead>\n",
       "  <tbody>\n",
       "    <tr>\n",
       "      <th>0</th>\n",
       "      <td>1000</td>\n",
       "      <td>12.0</td>\n",
       "      <td>16.0</td>\n",
       "      <td>116.83</td>\n",
       "      <td>11.0</td>\n",
       "      <td>4.0</td>\n",
       "      <td>ultimate</td>\n",
       "      <td>Atlanta-Sandy Springs-Roswell, GA MSA</td>\n",
       "    </tr>\n",
       "    <tr>\n",
       "      <th>1</th>\n",
       "      <td>1001</td>\n",
       "      <td>8.0</td>\n",
       "      <td>27.0</td>\n",
       "      <td>171.14</td>\n",
       "      <td>30.0</td>\n",
       "      <td>21.0</td>\n",
       "      <td>surf</td>\n",
       "      <td>Seattle-Tacoma-Bellevue, WA MSA</td>\n",
       "    </tr>\n",
       "    <tr>\n",
       "      <th>2</th>\n",
       "      <td>1001</td>\n",
       "      <td>9.0</td>\n",
       "      <td>49.0</td>\n",
       "      <td>297.69</td>\n",
       "      <td>44.0</td>\n",
       "      <td>41.0</td>\n",
       "      <td>surf</td>\n",
       "      <td>Seattle-Tacoma-Bellevue, WA MSA</td>\n",
       "    </tr>\n",
       "    <tr>\n",
       "      <th>3</th>\n",
       "      <td>1001</td>\n",
       "      <td>10.0</td>\n",
       "      <td>65.0</td>\n",
       "      <td>374.11</td>\n",
       "      <td>53.0</td>\n",
       "      <td>50.0</td>\n",
       "      <td>surf</td>\n",
       "      <td>Seattle-Tacoma-Bellevue, WA MSA</td>\n",
       "    </tr>\n",
       "    <tr>\n",
       "      <th>4</th>\n",
       "      <td>1001</td>\n",
       "      <td>11.0</td>\n",
       "      <td>64.0</td>\n",
       "      <td>404.59</td>\n",
       "      <td>36.0</td>\n",
       "      <td>49.0</td>\n",
       "      <td>surf</td>\n",
       "      <td>Seattle-Tacoma-Bellevue, WA MSA</td>\n",
       "    </tr>\n",
       "    <tr>\n",
       "      <th>...</th>\n",
       "      <td>...</td>\n",
       "      <td>...</td>\n",
       "      <td>...</td>\n",
       "      <td>...</td>\n",
       "      <td>...</td>\n",
       "      <td>...</td>\n",
       "      <td>...</td>\n",
       "      <td>...</td>\n",
       "    </tr>\n",
       "    <tr>\n",
       "      <th>2298</th>\n",
       "      <td>1307</td>\n",
       "      <td>NaN</td>\n",
       "      <td>NaN</td>\n",
       "      <td>NaN</td>\n",
       "      <td>NaN</td>\n",
       "      <td>NaN</td>\n",
       "      <td>surf</td>\n",
       "      <td>Boston-Cambridge-Newton, MA-NH MSA</td>\n",
       "    </tr>\n",
       "    <tr>\n",
       "      <th>2299</th>\n",
       "      <td>1319</td>\n",
       "      <td>NaN</td>\n",
       "      <td>NaN</td>\n",
       "      <td>NaN</td>\n",
       "      <td>NaN</td>\n",
       "      <td>NaN</td>\n",
       "      <td>surf</td>\n",
       "      <td>Colorado Springs, CO MSA</td>\n",
       "    </tr>\n",
       "    <tr>\n",
       "      <th>2300</th>\n",
       "      <td>1378</td>\n",
       "      <td>NaN</td>\n",
       "      <td>NaN</td>\n",
       "      <td>NaN</td>\n",
       "      <td>NaN</td>\n",
       "      <td>NaN</td>\n",
       "      <td>surf</td>\n",
       "      <td>Denver-Aurora-Lakewood, CO MSA</td>\n",
       "    </tr>\n",
       "    <tr>\n",
       "      <th>2301</th>\n",
       "      <td>1463</td>\n",
       "      <td>NaN</td>\n",
       "      <td>NaN</td>\n",
       "      <td>NaN</td>\n",
       "      <td>NaN</td>\n",
       "      <td>NaN</td>\n",
       "      <td>ultimate</td>\n",
       "      <td>Atlanta-Sandy Springs-Roswell, GA MSA</td>\n",
       "    </tr>\n",
       "    <tr>\n",
       "      <th>2302</th>\n",
       "      <td>1473</td>\n",
       "      <td>NaN</td>\n",
       "      <td>NaN</td>\n",
       "      <td>NaN</td>\n",
       "      <td>NaN</td>\n",
       "      <td>NaN</td>\n",
       "      <td>surf</td>\n",
       "      <td>Louisville/Jefferson County, KY-IN MSA</td>\n",
       "    </tr>\n",
       "  </tbody>\n",
       "</table>\n",
       "<p>2303 rows × 8 columns</p>\n",
       "</div>"
      ],
      "text/plain": [
       "      user_id  month  calls  minutes_used  messages_send  gb_used      plan  \\\n",
       "0        1000   12.0   16.0        116.83           11.0      4.0  ultimate   \n",
       "1        1001    8.0   27.0        171.14           30.0     21.0      surf   \n",
       "2        1001    9.0   49.0        297.69           44.0     41.0      surf   \n",
       "3        1001   10.0   65.0        374.11           53.0     50.0      surf   \n",
       "4        1001   11.0   64.0        404.59           36.0     49.0      surf   \n",
       "...       ...    ...    ...           ...            ...      ...       ...   \n",
       "2298     1307    NaN    NaN           NaN            NaN      NaN      surf   \n",
       "2299     1319    NaN    NaN           NaN            NaN      NaN      surf   \n",
       "2300     1378    NaN    NaN           NaN            NaN      NaN      surf   \n",
       "2301     1463    NaN    NaN           NaN            NaN      NaN  ultimate   \n",
       "2302     1473    NaN    NaN           NaN            NaN      NaN      surf   \n",
       "\n",
       "                                        city  \n",
       "0      Atlanta-Sandy Springs-Roswell, GA MSA  \n",
       "1            Seattle-Tacoma-Bellevue, WA MSA  \n",
       "2            Seattle-Tacoma-Bellevue, WA MSA  \n",
       "3            Seattle-Tacoma-Bellevue, WA MSA  \n",
       "4            Seattle-Tacoma-Bellevue, WA MSA  \n",
       "...                                      ...  \n",
       "2298      Boston-Cambridge-Newton, MA-NH MSA  \n",
       "2299                Colorado Springs, CO MSA  \n",
       "2300          Denver-Aurora-Lakewood, CO MSA  \n",
       "2301   Atlanta-Sandy Springs-Roswell, GA MSA  \n",
       "2302  Louisville/Jefferson County, KY-IN MSA  \n",
       "\n",
       "[2303 rows x 8 columns]"
      ]
     },
     "execution_count": 143,
     "metadata": {},
     "output_type": "execute_result"
    }
   ],
   "source": [
    "#Verificación\n",
    "int_consumo_con_plan"
   ]
  },
  {
   "cell_type": "markdown",
   "metadata": {
    "id": "1IwGo4wg0q1I"
   },
   "source": [
    "[Calcula los ingresos mensuales por usuario (resta el límite del paquete gratuito del número total de llamadas, mensajes de texto y datos; multiplica el resultado por el valor del plan de llamadas; añade la tarifa mensual en función del plan de llamadas). Nota: Dadas las condiciones del plan, ¡esto podría no ser tan trivial como un par de líneas! Así que no pasa nada si dedicas algo de tiempo a ello.]"
   ]
  },
  {
   "cell_type": "code",
   "execution_count": 144,
   "metadata": {
    "id": "5FGCf_c60q1I"
   },
   "outputs": [
    {
     "data": {
      "text/html": [
       "<div>\n",
       "<style scoped>\n",
       "    .dataframe tbody tr th:only-of-type {\n",
       "        vertical-align: middle;\n",
       "    }\n",
       "\n",
       "    .dataframe tbody tr th {\n",
       "        vertical-align: top;\n",
       "    }\n",
       "\n",
       "    .dataframe thead th {\n",
       "        text-align: right;\n",
       "    }\n",
       "</style>\n",
       "<table border=\"1\" class=\"dataframe\">\n",
       "  <thead>\n",
       "    <tr style=\"text-align: right;\">\n",
       "      <th></th>\n",
       "      <th>user_id</th>\n",
       "      <th>mes</th>\n",
       "      <th>llamadas_hechas</th>\n",
       "      <th>minutos_usados</th>\n",
       "      <th>mensajes_enviados</th>\n",
       "      <th>gb_usados</th>\n",
       "      <th>plan</th>\n",
       "      <th>ciudad</th>\n",
       "      <th>mensajes_incluidos</th>\n",
       "      <th>mb_incluidos_al_mes</th>\n",
       "      <th>gb_incluidos</th>\n",
       "      <th>minutos_incluidos</th>\n",
       "      <th>usd_pago_por_mes</th>\n",
       "      <th>usd_por_gb</th>\n",
       "      <th>usd_por_mensaje</th>\n",
       "      <th>usd_por_minuto</th>\n",
       "    </tr>\n",
       "  </thead>\n",
       "  <tbody>\n",
       "    <tr>\n",
       "      <th>0</th>\n",
       "      <td>1000</td>\n",
       "      <td>12</td>\n",
       "      <td>16</td>\n",
       "      <td>116.83</td>\n",
       "      <td>11</td>\n",
       "      <td>4</td>\n",
       "      <td>ultimate</td>\n",
       "      <td>Atlanta-Sandy Springs-Roswell, GA MSA</td>\n",
       "      <td>1000</td>\n",
       "      <td>30720</td>\n",
       "      <td>30</td>\n",
       "      <td>3000</td>\n",
       "      <td>70</td>\n",
       "      <td>7</td>\n",
       "      <td>0.01</td>\n",
       "      <td>0.01</td>\n",
       "    </tr>\n",
       "    <tr>\n",
       "      <th>1</th>\n",
       "      <td>1006</td>\n",
       "      <td>11</td>\n",
       "      <td>2</td>\n",
       "      <td>9.32</td>\n",
       "      <td>15</td>\n",
       "      <td>7</td>\n",
       "      <td>ultimate</td>\n",
       "      <td>San Francisco-Oakland-Berkeley, CA MSA</td>\n",
       "      <td>1000</td>\n",
       "      <td>30720</td>\n",
       "      <td>30</td>\n",
       "      <td>3000</td>\n",
       "      <td>70</td>\n",
       "      <td>7</td>\n",
       "      <td>0.01</td>\n",
       "      <td>0.01</td>\n",
       "    </tr>\n",
       "    <tr>\n",
       "      <th>2</th>\n",
       "      <td>1006</td>\n",
       "      <td>12</td>\n",
       "      <td>9</td>\n",
       "      <td>54.79</td>\n",
       "      <td>139</td>\n",
       "      <td>62</td>\n",
       "      <td>ultimate</td>\n",
       "      <td>San Francisco-Oakland-Berkeley, CA MSA</td>\n",
       "      <td>1000</td>\n",
       "      <td>30720</td>\n",
       "      <td>30</td>\n",
       "      <td>3000</td>\n",
       "      <td>70</td>\n",
       "      <td>7</td>\n",
       "      <td>0.01</td>\n",
       "      <td>0.01</td>\n",
       "    </tr>\n",
       "    <tr>\n",
       "      <th>3</th>\n",
       "      <td>1008</td>\n",
       "      <td>10</td>\n",
       "      <td>71</td>\n",
       "      <td>450.21</td>\n",
       "      <td>21</td>\n",
       "      <td>48</td>\n",
       "      <td>ultimate</td>\n",
       "      <td>Orlando-Kissimmee-Sanford, FL MSA</td>\n",
       "      <td>1000</td>\n",
       "      <td>30720</td>\n",
       "      <td>30</td>\n",
       "      <td>3000</td>\n",
       "      <td>70</td>\n",
       "      <td>7</td>\n",
       "      <td>0.01</td>\n",
       "      <td>0.01</td>\n",
       "    </tr>\n",
       "    <tr>\n",
       "      <th>4</th>\n",
       "      <td>1008</td>\n",
       "      <td>11</td>\n",
       "      <td>63</td>\n",
       "      <td>422.81</td>\n",
       "      <td>37</td>\n",
       "      <td>56</td>\n",
       "      <td>ultimate</td>\n",
       "      <td>Orlando-Kissimmee-Sanford, FL MSA</td>\n",
       "      <td>1000</td>\n",
       "      <td>30720</td>\n",
       "      <td>30</td>\n",
       "      <td>3000</td>\n",
       "      <td>70</td>\n",
       "      <td>7</td>\n",
       "      <td>0.01</td>\n",
       "      <td>0.01</td>\n",
       "    </tr>\n",
       "    <tr>\n",
       "      <th>...</th>\n",
       "      <td>...</td>\n",
       "      <td>...</td>\n",
       "      <td>...</td>\n",
       "      <td>...</td>\n",
       "      <td>...</td>\n",
       "      <td>...</td>\n",
       "      <td>...</td>\n",
       "      <td>...</td>\n",
       "      <td>...</td>\n",
       "      <td>...</td>\n",
       "      <td>...</td>\n",
       "      <td>...</td>\n",
       "      <td>...</td>\n",
       "      <td>...</td>\n",
       "      <td>...</td>\n",
       "      <td>...</td>\n",
       "    </tr>\n",
       "    <tr>\n",
       "      <th>2298</th>\n",
       "      <td>1143</td>\n",
       "      <td>0</td>\n",
       "      <td>0</td>\n",
       "      <td>0.00</td>\n",
       "      <td>0</td>\n",
       "      <td>0</td>\n",
       "      <td>surf</td>\n",
       "      <td>Cincinnati, OH-KY-IN MSA</td>\n",
       "      <td>50</td>\n",
       "      <td>15360</td>\n",
       "      <td>15</td>\n",
       "      <td>500</td>\n",
       "      <td>20</td>\n",
       "      <td>10</td>\n",
       "      <td>0.03</td>\n",
       "      <td>0.03</td>\n",
       "    </tr>\n",
       "    <tr>\n",
       "      <th>2299</th>\n",
       "      <td>1307</td>\n",
       "      <td>0</td>\n",
       "      <td>0</td>\n",
       "      <td>0.00</td>\n",
       "      <td>0</td>\n",
       "      <td>0</td>\n",
       "      <td>surf</td>\n",
       "      <td>Boston-Cambridge-Newton, MA-NH MSA</td>\n",
       "      <td>50</td>\n",
       "      <td>15360</td>\n",
       "      <td>15</td>\n",
       "      <td>500</td>\n",
       "      <td>20</td>\n",
       "      <td>10</td>\n",
       "      <td>0.03</td>\n",
       "      <td>0.03</td>\n",
       "    </tr>\n",
       "    <tr>\n",
       "      <th>2300</th>\n",
       "      <td>1319</td>\n",
       "      <td>0</td>\n",
       "      <td>0</td>\n",
       "      <td>0.00</td>\n",
       "      <td>0</td>\n",
       "      <td>0</td>\n",
       "      <td>surf</td>\n",
       "      <td>Colorado Springs, CO MSA</td>\n",
       "      <td>50</td>\n",
       "      <td>15360</td>\n",
       "      <td>15</td>\n",
       "      <td>500</td>\n",
       "      <td>20</td>\n",
       "      <td>10</td>\n",
       "      <td>0.03</td>\n",
       "      <td>0.03</td>\n",
       "    </tr>\n",
       "    <tr>\n",
       "      <th>2301</th>\n",
       "      <td>1378</td>\n",
       "      <td>0</td>\n",
       "      <td>0</td>\n",
       "      <td>0.00</td>\n",
       "      <td>0</td>\n",
       "      <td>0</td>\n",
       "      <td>surf</td>\n",
       "      <td>Denver-Aurora-Lakewood, CO MSA</td>\n",
       "      <td>50</td>\n",
       "      <td>15360</td>\n",
       "      <td>15</td>\n",
       "      <td>500</td>\n",
       "      <td>20</td>\n",
       "      <td>10</td>\n",
       "      <td>0.03</td>\n",
       "      <td>0.03</td>\n",
       "    </tr>\n",
       "    <tr>\n",
       "      <th>2302</th>\n",
       "      <td>1473</td>\n",
       "      <td>0</td>\n",
       "      <td>0</td>\n",
       "      <td>0.00</td>\n",
       "      <td>0</td>\n",
       "      <td>0</td>\n",
       "      <td>surf</td>\n",
       "      <td>Louisville/Jefferson County, KY-IN MSA</td>\n",
       "      <td>50</td>\n",
       "      <td>15360</td>\n",
       "      <td>15</td>\n",
       "      <td>500</td>\n",
       "      <td>20</td>\n",
       "      <td>10</td>\n",
       "      <td>0.03</td>\n",
       "      <td>0.03</td>\n",
       "    </tr>\n",
       "  </tbody>\n",
       "</table>\n",
       "<p>2303 rows × 16 columns</p>\n",
       "</div>"
      ],
      "text/plain": [
       "      user_id  mes  llamadas_hechas  minutos_usados  mensajes_enviados  \\\n",
       "0        1000   12               16          116.83                 11   \n",
       "1        1006   11                2            9.32                 15   \n",
       "2        1006   12                9           54.79                139   \n",
       "3        1008   10               71          450.21                 21   \n",
       "4        1008   11               63          422.81                 37   \n",
       "...       ...  ...              ...             ...                ...   \n",
       "2298     1143    0                0            0.00                  0   \n",
       "2299     1307    0                0            0.00                  0   \n",
       "2300     1319    0                0            0.00                  0   \n",
       "2301     1378    0                0            0.00                  0   \n",
       "2302     1473    0                0            0.00                  0   \n",
       "\n",
       "      gb_usados      plan                                  ciudad  \\\n",
       "0             4  ultimate   Atlanta-Sandy Springs-Roswell, GA MSA   \n",
       "1             7  ultimate  San Francisco-Oakland-Berkeley, CA MSA   \n",
       "2            62  ultimate  San Francisco-Oakland-Berkeley, CA MSA   \n",
       "3            48  ultimate       Orlando-Kissimmee-Sanford, FL MSA   \n",
       "4            56  ultimate       Orlando-Kissimmee-Sanford, FL MSA   \n",
       "...         ...       ...                                     ...   \n",
       "2298          0      surf                Cincinnati, OH-KY-IN MSA   \n",
       "2299          0      surf      Boston-Cambridge-Newton, MA-NH MSA   \n",
       "2300          0      surf                Colorado Springs, CO MSA   \n",
       "2301          0      surf          Denver-Aurora-Lakewood, CO MSA   \n",
       "2302          0      surf  Louisville/Jefferson County, KY-IN MSA   \n",
       "\n",
       "      mensajes_incluidos  mb_incluidos_al_mes  gb_incluidos  \\\n",
       "0                   1000                30720            30   \n",
       "1                   1000                30720            30   \n",
       "2                   1000                30720            30   \n",
       "3                   1000                30720            30   \n",
       "4                   1000                30720            30   \n",
       "...                  ...                  ...           ...   \n",
       "2298                  50                15360            15   \n",
       "2299                  50                15360            15   \n",
       "2300                  50                15360            15   \n",
       "2301                  50                15360            15   \n",
       "2302                  50                15360            15   \n",
       "\n",
       "      minutos_incluidos  usd_pago_por_mes  usd_por_gb  usd_por_mensaje  \\\n",
       "0                  3000                70           7             0.01   \n",
       "1                  3000                70           7             0.01   \n",
       "2                  3000                70           7             0.01   \n",
       "3                  3000                70           7             0.01   \n",
       "4                  3000                70           7             0.01   \n",
       "...                 ...               ...         ...              ...   \n",
       "2298                500                20          10             0.03   \n",
       "2299                500                20          10             0.03   \n",
       "2300                500                20          10             0.03   \n",
       "2301                500                20          10             0.03   \n",
       "2302                500                20          10             0.03   \n",
       "\n",
       "      usd_por_minuto  \n",
       "0               0.01  \n",
       "1               0.01  \n",
       "2               0.01  \n",
       "3               0.01  \n",
       "4               0.01  \n",
       "...              ...  \n",
       "2298            0.03  \n",
       "2299            0.03  \n",
       "2300            0.03  \n",
       "2301            0.03  \n",
       "2302            0.03  \n",
       "\n",
       "[2303 rows x 16 columns]"
      ]
     },
     "execution_count": 144,
     "metadata": {},
     "output_type": "execute_result"
    }
   ],
   "source": [
    "# Calcula el ingreso mensual para cada usuario\n",
    "\n",
    "#Merge con tabla de planes para calcular ingreso\n",
    "fct_consumo =int_consumo_con_plan.merge(planes,on ='plan',how = 'inner')\n",
    "\n",
    "#llenar los valores NaN con \n",
    "fct_consumo =fct_consumo.fillna(0)\n",
    "\n",
    "#Cambio de algunos valores float enteros a int\n",
    "fct_consumo [['month','calls','messages_send','gb_used', 'gb_incluidos']] = fct_consumo [['month','calls','messages_send','gb_used', 'gb_incluidos']].astype(int)\n",
    "\n",
    "#cambio de nombres de columnas a español\n",
    "\n",
    "fct_consumo = fct_consumo.rename(columns = {'month':'mes',\n",
    "                                            'calls':'llamadas_hechas',\n",
    "                                            'minutes_used':'minutos_usados',\n",
    "                                            'messages_send':'mensajes_enviados',\n",
    "                                            'gb_used':'gb_usados',\n",
    "                                            'city':'ciudad'})\n",
    "#verificación\n",
    "fct_consumo\n"
   ]
  },
  {
   "cell_type": "markdown",
   "metadata": {},
   "source": [
    "**Creación de funciones para calcular las cantidades extra por cobrar.**"
   ]
  },
  {
   "cell_type": "code",
   "execution_count": 145,
   "metadata": {},
   "outputs": [],
   "source": [
    "#función para el extra consumido en llamadas\n",
    "def minutos_cobrables (fila):\n",
    "    min_usados = fila['minutos_usados']\n",
    "    min_incluidos = fila['minutos_incluidos']\n",
    "    extra_consumido = 0\n",
    "    \n",
    "    if min_usados > min_incluidos:\n",
    "        extra_consumido = min_usados - min_incluidos\n",
    "    return extra_consumido"
   ]
  },
  {
   "cell_type": "code",
   "execution_count": 146,
   "metadata": {},
   "outputs": [],
   "source": [
    "#función para el extra consumido en mensajes\n",
    "def mensajes_cobrables (fila):\n",
    "    men_usados = fila['mensajes_enviados']\n",
    "    men_incluidos = fila['mensajes_incluidos']\n",
    "    extra_consumido = 0\n",
    "    \n",
    "    if men_usados > men_incluidos:\n",
    "        extra_consumido = men_usados - men_incluidos\n",
    "    return extra_consumido"
   ]
  },
  {
   "cell_type": "code",
   "execution_count": 147,
   "metadata": {},
   "outputs": [],
   "source": [
    "#función para el extra consumido en internet\n",
    "def internet_cobrable (fila):\n",
    "    int_usados = fila['gb_usados']\n",
    "    int_incluidos = fila['gb_incluidos']\n",
    "    extra_consumido = 0\n",
    "    \n",
    "    if int_usados > int_incluidos:\n",
    "        extra_consumido = int_usados - int_incluidos\n",
    "    return extra_consumido"
   ]
  },
  {
   "cell_type": "code",
   "execution_count": 148,
   "metadata": {},
   "outputs": [],
   "source": [
    "#Creación de nuevo campo minutos cobrables\n",
    "fct_consumo['minutos_cobrables'] = fct_consumo.apply(minutos_cobrables, axis= 1)\n",
    "\n",
    "#Creación de nuevo campo mensajes cobrables\n",
    "fct_consumo['mensajes_cobrables'] = fct_consumo.apply(mensajes_cobrables, axis= 1)\n",
    "\n",
    "#Creación de nuevo campo mensajes cobrables\n",
    "fct_consumo['internet_cobrable'] = fct_consumo.apply(internet_cobrable, axis= 1)\n"
   ]
  },
  {
   "cell_type": "code",
   "execution_count": 149,
   "metadata": {},
   "outputs": [
    {
     "data": {
      "text/html": [
       "<div>\n",
       "<style scoped>\n",
       "    .dataframe tbody tr th:only-of-type {\n",
       "        vertical-align: middle;\n",
       "    }\n",
       "\n",
       "    .dataframe tbody tr th {\n",
       "        vertical-align: top;\n",
       "    }\n",
       "\n",
       "    .dataframe thead th {\n",
       "        text-align: right;\n",
       "    }\n",
       "</style>\n",
       "<table border=\"1\" class=\"dataframe\">\n",
       "  <thead>\n",
       "    <tr style=\"text-align: right;\">\n",
       "      <th></th>\n",
       "      <th>user_id</th>\n",
       "      <th>mes</th>\n",
       "      <th>llamadas_hechas</th>\n",
       "      <th>minutos_usados</th>\n",
       "      <th>mensajes_enviados</th>\n",
       "      <th>gb_usados</th>\n",
       "      <th>plan</th>\n",
       "      <th>ciudad</th>\n",
       "      <th>mensajes_incluidos</th>\n",
       "      <th>mb_incluidos_al_mes</th>\n",
       "      <th>gb_incluidos</th>\n",
       "      <th>minutos_incluidos</th>\n",
       "      <th>usd_pago_por_mes</th>\n",
       "      <th>usd_por_gb</th>\n",
       "      <th>usd_por_mensaje</th>\n",
       "      <th>usd_por_minuto</th>\n",
       "      <th>minutos_cobrables</th>\n",
       "      <th>mensajes_cobrables</th>\n",
       "      <th>internet_cobrable</th>\n",
       "    </tr>\n",
       "  </thead>\n",
       "  <tbody>\n",
       "    <tr>\n",
       "      <th>0</th>\n",
       "      <td>1000</td>\n",
       "      <td>12</td>\n",
       "      <td>16</td>\n",
       "      <td>116.83</td>\n",
       "      <td>11</td>\n",
       "      <td>4</td>\n",
       "      <td>ultimate</td>\n",
       "      <td>Atlanta-Sandy Springs-Roswell, GA MSA</td>\n",
       "      <td>1000</td>\n",
       "      <td>30720</td>\n",
       "      <td>30</td>\n",
       "      <td>3000</td>\n",
       "      <td>70</td>\n",
       "      <td>7</td>\n",
       "      <td>0.01</td>\n",
       "      <td>0.01</td>\n",
       "      <td>0.0</td>\n",
       "      <td>0</td>\n",
       "      <td>0</td>\n",
       "    </tr>\n",
       "    <tr>\n",
       "      <th>1</th>\n",
       "      <td>1006</td>\n",
       "      <td>11</td>\n",
       "      <td>2</td>\n",
       "      <td>9.32</td>\n",
       "      <td>15</td>\n",
       "      <td>7</td>\n",
       "      <td>ultimate</td>\n",
       "      <td>San Francisco-Oakland-Berkeley, CA MSA</td>\n",
       "      <td>1000</td>\n",
       "      <td>30720</td>\n",
       "      <td>30</td>\n",
       "      <td>3000</td>\n",
       "      <td>70</td>\n",
       "      <td>7</td>\n",
       "      <td>0.01</td>\n",
       "      <td>0.01</td>\n",
       "      <td>0.0</td>\n",
       "      <td>0</td>\n",
       "      <td>0</td>\n",
       "    </tr>\n",
       "    <tr>\n",
       "      <th>2</th>\n",
       "      <td>1006</td>\n",
       "      <td>12</td>\n",
       "      <td>9</td>\n",
       "      <td>54.79</td>\n",
       "      <td>139</td>\n",
       "      <td>62</td>\n",
       "      <td>ultimate</td>\n",
       "      <td>San Francisco-Oakland-Berkeley, CA MSA</td>\n",
       "      <td>1000</td>\n",
       "      <td>30720</td>\n",
       "      <td>30</td>\n",
       "      <td>3000</td>\n",
       "      <td>70</td>\n",
       "      <td>7</td>\n",
       "      <td>0.01</td>\n",
       "      <td>0.01</td>\n",
       "      <td>0.0</td>\n",
       "      <td>0</td>\n",
       "      <td>32</td>\n",
       "    </tr>\n",
       "    <tr>\n",
       "      <th>3</th>\n",
       "      <td>1008</td>\n",
       "      <td>10</td>\n",
       "      <td>71</td>\n",
       "      <td>450.21</td>\n",
       "      <td>21</td>\n",
       "      <td>48</td>\n",
       "      <td>ultimate</td>\n",
       "      <td>Orlando-Kissimmee-Sanford, FL MSA</td>\n",
       "      <td>1000</td>\n",
       "      <td>30720</td>\n",
       "      <td>30</td>\n",
       "      <td>3000</td>\n",
       "      <td>70</td>\n",
       "      <td>7</td>\n",
       "      <td>0.01</td>\n",
       "      <td>0.01</td>\n",
       "      <td>0.0</td>\n",
       "      <td>0</td>\n",
       "      <td>18</td>\n",
       "    </tr>\n",
       "    <tr>\n",
       "      <th>4</th>\n",
       "      <td>1008</td>\n",
       "      <td>11</td>\n",
       "      <td>63</td>\n",
       "      <td>422.81</td>\n",
       "      <td>37</td>\n",
       "      <td>56</td>\n",
       "      <td>ultimate</td>\n",
       "      <td>Orlando-Kissimmee-Sanford, FL MSA</td>\n",
       "      <td>1000</td>\n",
       "      <td>30720</td>\n",
       "      <td>30</td>\n",
       "      <td>3000</td>\n",
       "      <td>70</td>\n",
       "      <td>7</td>\n",
       "      <td>0.01</td>\n",
       "      <td>0.01</td>\n",
       "      <td>0.0</td>\n",
       "      <td>0</td>\n",
       "      <td>26</td>\n",
       "    </tr>\n",
       "    <tr>\n",
       "      <th>...</th>\n",
       "      <td>...</td>\n",
       "      <td>...</td>\n",
       "      <td>...</td>\n",
       "      <td>...</td>\n",
       "      <td>...</td>\n",
       "      <td>...</td>\n",
       "      <td>...</td>\n",
       "      <td>...</td>\n",
       "      <td>...</td>\n",
       "      <td>...</td>\n",
       "      <td>...</td>\n",
       "      <td>...</td>\n",
       "      <td>...</td>\n",
       "      <td>...</td>\n",
       "      <td>...</td>\n",
       "      <td>...</td>\n",
       "      <td>...</td>\n",
       "      <td>...</td>\n",
       "      <td>...</td>\n",
       "    </tr>\n",
       "    <tr>\n",
       "      <th>2298</th>\n",
       "      <td>1143</td>\n",
       "      <td>0</td>\n",
       "      <td>0</td>\n",
       "      <td>0.00</td>\n",
       "      <td>0</td>\n",
       "      <td>0</td>\n",
       "      <td>surf</td>\n",
       "      <td>Cincinnati, OH-KY-IN MSA</td>\n",
       "      <td>50</td>\n",
       "      <td>15360</td>\n",
       "      <td>15</td>\n",
       "      <td>500</td>\n",
       "      <td>20</td>\n",
       "      <td>10</td>\n",
       "      <td>0.03</td>\n",
       "      <td>0.03</td>\n",
       "      <td>0.0</td>\n",
       "      <td>0</td>\n",
       "      <td>0</td>\n",
       "    </tr>\n",
       "    <tr>\n",
       "      <th>2299</th>\n",
       "      <td>1307</td>\n",
       "      <td>0</td>\n",
       "      <td>0</td>\n",
       "      <td>0.00</td>\n",
       "      <td>0</td>\n",
       "      <td>0</td>\n",
       "      <td>surf</td>\n",
       "      <td>Boston-Cambridge-Newton, MA-NH MSA</td>\n",
       "      <td>50</td>\n",
       "      <td>15360</td>\n",
       "      <td>15</td>\n",
       "      <td>500</td>\n",
       "      <td>20</td>\n",
       "      <td>10</td>\n",
       "      <td>0.03</td>\n",
       "      <td>0.03</td>\n",
       "      <td>0.0</td>\n",
       "      <td>0</td>\n",
       "      <td>0</td>\n",
       "    </tr>\n",
       "    <tr>\n",
       "      <th>2300</th>\n",
       "      <td>1319</td>\n",
       "      <td>0</td>\n",
       "      <td>0</td>\n",
       "      <td>0.00</td>\n",
       "      <td>0</td>\n",
       "      <td>0</td>\n",
       "      <td>surf</td>\n",
       "      <td>Colorado Springs, CO MSA</td>\n",
       "      <td>50</td>\n",
       "      <td>15360</td>\n",
       "      <td>15</td>\n",
       "      <td>500</td>\n",
       "      <td>20</td>\n",
       "      <td>10</td>\n",
       "      <td>0.03</td>\n",
       "      <td>0.03</td>\n",
       "      <td>0.0</td>\n",
       "      <td>0</td>\n",
       "      <td>0</td>\n",
       "    </tr>\n",
       "    <tr>\n",
       "      <th>2301</th>\n",
       "      <td>1378</td>\n",
       "      <td>0</td>\n",
       "      <td>0</td>\n",
       "      <td>0.00</td>\n",
       "      <td>0</td>\n",
       "      <td>0</td>\n",
       "      <td>surf</td>\n",
       "      <td>Denver-Aurora-Lakewood, CO MSA</td>\n",
       "      <td>50</td>\n",
       "      <td>15360</td>\n",
       "      <td>15</td>\n",
       "      <td>500</td>\n",
       "      <td>20</td>\n",
       "      <td>10</td>\n",
       "      <td>0.03</td>\n",
       "      <td>0.03</td>\n",
       "      <td>0.0</td>\n",
       "      <td>0</td>\n",
       "      <td>0</td>\n",
       "    </tr>\n",
       "    <tr>\n",
       "      <th>2302</th>\n",
       "      <td>1473</td>\n",
       "      <td>0</td>\n",
       "      <td>0</td>\n",
       "      <td>0.00</td>\n",
       "      <td>0</td>\n",
       "      <td>0</td>\n",
       "      <td>surf</td>\n",
       "      <td>Louisville/Jefferson County, KY-IN MSA</td>\n",
       "      <td>50</td>\n",
       "      <td>15360</td>\n",
       "      <td>15</td>\n",
       "      <td>500</td>\n",
       "      <td>20</td>\n",
       "      <td>10</td>\n",
       "      <td>0.03</td>\n",
       "      <td>0.03</td>\n",
       "      <td>0.0</td>\n",
       "      <td>0</td>\n",
       "      <td>0</td>\n",
       "    </tr>\n",
       "  </tbody>\n",
       "</table>\n",
       "<p>2303 rows × 19 columns</p>\n",
       "</div>"
      ],
      "text/plain": [
       "      user_id  mes  llamadas_hechas  minutos_usados  mensajes_enviados  \\\n",
       "0        1000   12               16          116.83                 11   \n",
       "1        1006   11                2            9.32                 15   \n",
       "2        1006   12                9           54.79                139   \n",
       "3        1008   10               71          450.21                 21   \n",
       "4        1008   11               63          422.81                 37   \n",
       "...       ...  ...              ...             ...                ...   \n",
       "2298     1143    0                0            0.00                  0   \n",
       "2299     1307    0                0            0.00                  0   \n",
       "2300     1319    0                0            0.00                  0   \n",
       "2301     1378    0                0            0.00                  0   \n",
       "2302     1473    0                0            0.00                  0   \n",
       "\n",
       "      gb_usados      plan                                  ciudad  \\\n",
       "0             4  ultimate   Atlanta-Sandy Springs-Roswell, GA MSA   \n",
       "1             7  ultimate  San Francisco-Oakland-Berkeley, CA MSA   \n",
       "2            62  ultimate  San Francisco-Oakland-Berkeley, CA MSA   \n",
       "3            48  ultimate       Orlando-Kissimmee-Sanford, FL MSA   \n",
       "4            56  ultimate       Orlando-Kissimmee-Sanford, FL MSA   \n",
       "...         ...       ...                                     ...   \n",
       "2298          0      surf                Cincinnati, OH-KY-IN MSA   \n",
       "2299          0      surf      Boston-Cambridge-Newton, MA-NH MSA   \n",
       "2300          0      surf                Colorado Springs, CO MSA   \n",
       "2301          0      surf          Denver-Aurora-Lakewood, CO MSA   \n",
       "2302          0      surf  Louisville/Jefferson County, KY-IN MSA   \n",
       "\n",
       "      mensajes_incluidos  mb_incluidos_al_mes  gb_incluidos  \\\n",
       "0                   1000                30720            30   \n",
       "1                   1000                30720            30   \n",
       "2                   1000                30720            30   \n",
       "3                   1000                30720            30   \n",
       "4                   1000                30720            30   \n",
       "...                  ...                  ...           ...   \n",
       "2298                  50                15360            15   \n",
       "2299                  50                15360            15   \n",
       "2300                  50                15360            15   \n",
       "2301                  50                15360            15   \n",
       "2302                  50                15360            15   \n",
       "\n",
       "      minutos_incluidos  usd_pago_por_mes  usd_por_gb  usd_por_mensaje  \\\n",
       "0                  3000                70           7             0.01   \n",
       "1                  3000                70           7             0.01   \n",
       "2                  3000                70           7             0.01   \n",
       "3                  3000                70           7             0.01   \n",
       "4                  3000                70           7             0.01   \n",
       "...                 ...               ...         ...              ...   \n",
       "2298                500                20          10             0.03   \n",
       "2299                500                20          10             0.03   \n",
       "2300                500                20          10             0.03   \n",
       "2301                500                20          10             0.03   \n",
       "2302                500                20          10             0.03   \n",
       "\n",
       "      usd_por_minuto  minutos_cobrables  mensajes_cobrables  internet_cobrable  \n",
       "0               0.01                0.0                   0                  0  \n",
       "1               0.01                0.0                   0                  0  \n",
       "2               0.01                0.0                   0                 32  \n",
       "3               0.01                0.0                   0                 18  \n",
       "4               0.01                0.0                   0                 26  \n",
       "...              ...                ...                 ...                ...  \n",
       "2298            0.03                0.0                   0                  0  \n",
       "2299            0.03                0.0                   0                  0  \n",
       "2300            0.03                0.0                   0                  0  \n",
       "2301            0.03                0.0                   0                  0  \n",
       "2302            0.03                0.0                   0                  0  \n",
       "\n",
       "[2303 rows x 19 columns]"
      ]
     },
     "execution_count": 149,
     "metadata": {},
     "output_type": "execute_result"
    }
   ],
   "source": [
    "fct_consumo"
   ]
  },
  {
   "cell_type": "markdown",
   "metadata": {},
   "source": [
    "**Creación de función de rentabilidad.**"
   ]
  },
  {
   "cell_type": "code",
   "execution_count": 150,
   "metadata": {},
   "outputs": [],
   "source": [
    "def rentabilidad_calculo (fila):\n",
    "    #variables de extras\n",
    "    extra_llamada = fila['minutos_cobrables']\n",
    "    extra_mensajes = fila['mensajes_cobrables']\n",
    "    extra_internet = fila['internet_cobrable']\n",
    "    #variables de costos extra\n",
    "    costo_extra_llamada = fila ['usd_por_minuto']\n",
    "    costo_extra_mensajes = fila ['usd_por_mensaje']\n",
    "    costo_extra_internet = fila ['usd_por_gb']\n",
    "    #variable del costo del plan\n",
    "    costo_plan = fila['usd_pago_por_mes'] \n",
    "   #variable que calcula el valor total de la venta \n",
    "    rentabilidad = costo_plan +  (extra_llamada *costo_extra_llamada) + (extra_mensajes * costo_extra_mensajes) + (extra_internet * costo_extra_internet)\n",
    "    \n",
    "    return rentabilidad"
   ]
  },
  {
   "cell_type": "code",
   "execution_count": 151,
   "metadata": {},
   "outputs": [],
   "source": [
    "#Cración de campo rentabilidad\n",
    "fct_consumo['rentabilidad'] = fct_consumo.apply(rentabilidad_calculo, axis = 1)"
   ]
  },
  {
   "cell_type": "code",
   "execution_count": 152,
   "metadata": {
    "scrolled": true
   },
   "outputs": [
    {
     "data": {
      "text/html": [
       "<div>\n",
       "<style scoped>\n",
       "    .dataframe tbody tr th:only-of-type {\n",
       "        vertical-align: middle;\n",
       "    }\n",
       "\n",
       "    .dataframe tbody tr th {\n",
       "        vertical-align: top;\n",
       "    }\n",
       "\n",
       "    .dataframe thead th {\n",
       "        text-align: right;\n",
       "    }\n",
       "</style>\n",
       "<table border=\"1\" class=\"dataframe\">\n",
       "  <thead>\n",
       "    <tr style=\"text-align: right;\">\n",
       "      <th></th>\n",
       "      <th>user_id</th>\n",
       "      <th>mes</th>\n",
       "      <th>llamadas_hechas</th>\n",
       "      <th>minutos_usados</th>\n",
       "      <th>mensajes_enviados</th>\n",
       "      <th>gb_usados</th>\n",
       "      <th>plan</th>\n",
       "      <th>ciudad</th>\n",
       "      <th>mensajes_incluidos</th>\n",
       "      <th>mb_incluidos_al_mes</th>\n",
       "      <th>gb_incluidos</th>\n",
       "      <th>minutos_incluidos</th>\n",
       "      <th>usd_pago_por_mes</th>\n",
       "      <th>usd_por_gb</th>\n",
       "      <th>usd_por_mensaje</th>\n",
       "      <th>usd_por_minuto</th>\n",
       "      <th>minutos_cobrables</th>\n",
       "      <th>mensajes_cobrables</th>\n",
       "      <th>internet_cobrable</th>\n",
       "      <th>rentabilidad</th>\n",
       "    </tr>\n",
       "  </thead>\n",
       "  <tbody>\n",
       "    <tr>\n",
       "      <th>0</th>\n",
       "      <td>1000</td>\n",
       "      <td>12</td>\n",
       "      <td>16</td>\n",
       "      <td>116.83</td>\n",
       "      <td>11</td>\n",
       "      <td>4</td>\n",
       "      <td>ultimate</td>\n",
       "      <td>Atlanta-Sandy Springs-Roswell, GA MSA</td>\n",
       "      <td>1000</td>\n",
       "      <td>30720</td>\n",
       "      <td>30</td>\n",
       "      <td>3000</td>\n",
       "      <td>70</td>\n",
       "      <td>7</td>\n",
       "      <td>0.01</td>\n",
       "      <td>0.01</td>\n",
       "      <td>0.0</td>\n",
       "      <td>0</td>\n",
       "      <td>0</td>\n",
       "      <td>70.0</td>\n",
       "    </tr>\n",
       "    <tr>\n",
       "      <th>1</th>\n",
       "      <td>1006</td>\n",
       "      <td>11</td>\n",
       "      <td>2</td>\n",
       "      <td>9.32</td>\n",
       "      <td>15</td>\n",
       "      <td>7</td>\n",
       "      <td>ultimate</td>\n",
       "      <td>San Francisco-Oakland-Berkeley, CA MSA</td>\n",
       "      <td>1000</td>\n",
       "      <td>30720</td>\n",
       "      <td>30</td>\n",
       "      <td>3000</td>\n",
       "      <td>70</td>\n",
       "      <td>7</td>\n",
       "      <td>0.01</td>\n",
       "      <td>0.01</td>\n",
       "      <td>0.0</td>\n",
       "      <td>0</td>\n",
       "      <td>0</td>\n",
       "      <td>70.0</td>\n",
       "    </tr>\n",
       "    <tr>\n",
       "      <th>2</th>\n",
       "      <td>1006</td>\n",
       "      <td>12</td>\n",
       "      <td>9</td>\n",
       "      <td>54.79</td>\n",
       "      <td>139</td>\n",
       "      <td>62</td>\n",
       "      <td>ultimate</td>\n",
       "      <td>San Francisco-Oakland-Berkeley, CA MSA</td>\n",
       "      <td>1000</td>\n",
       "      <td>30720</td>\n",
       "      <td>30</td>\n",
       "      <td>3000</td>\n",
       "      <td>70</td>\n",
       "      <td>7</td>\n",
       "      <td>0.01</td>\n",
       "      <td>0.01</td>\n",
       "      <td>0.0</td>\n",
       "      <td>0</td>\n",
       "      <td>32</td>\n",
       "      <td>294.0</td>\n",
       "    </tr>\n",
       "    <tr>\n",
       "      <th>3</th>\n",
       "      <td>1008</td>\n",
       "      <td>10</td>\n",
       "      <td>71</td>\n",
       "      <td>450.21</td>\n",
       "      <td>21</td>\n",
       "      <td>48</td>\n",
       "      <td>ultimate</td>\n",
       "      <td>Orlando-Kissimmee-Sanford, FL MSA</td>\n",
       "      <td>1000</td>\n",
       "      <td>30720</td>\n",
       "      <td>30</td>\n",
       "      <td>3000</td>\n",
       "      <td>70</td>\n",
       "      <td>7</td>\n",
       "      <td>0.01</td>\n",
       "      <td>0.01</td>\n",
       "      <td>0.0</td>\n",
       "      <td>0</td>\n",
       "      <td>18</td>\n",
       "      <td>196.0</td>\n",
       "    </tr>\n",
       "    <tr>\n",
       "      <th>4</th>\n",
       "      <td>1008</td>\n",
       "      <td>11</td>\n",
       "      <td>63</td>\n",
       "      <td>422.81</td>\n",
       "      <td>37</td>\n",
       "      <td>56</td>\n",
       "      <td>ultimate</td>\n",
       "      <td>Orlando-Kissimmee-Sanford, FL MSA</td>\n",
       "      <td>1000</td>\n",
       "      <td>30720</td>\n",
       "      <td>30</td>\n",
       "      <td>3000</td>\n",
       "      <td>70</td>\n",
       "      <td>7</td>\n",
       "      <td>0.01</td>\n",
       "      <td>0.01</td>\n",
       "      <td>0.0</td>\n",
       "      <td>0</td>\n",
       "      <td>26</td>\n",
       "      <td>252.0</td>\n",
       "    </tr>\n",
       "    <tr>\n",
       "      <th>...</th>\n",
       "      <td>...</td>\n",
       "      <td>...</td>\n",
       "      <td>...</td>\n",
       "      <td>...</td>\n",
       "      <td>...</td>\n",
       "      <td>...</td>\n",
       "      <td>...</td>\n",
       "      <td>...</td>\n",
       "      <td>...</td>\n",
       "      <td>...</td>\n",
       "      <td>...</td>\n",
       "      <td>...</td>\n",
       "      <td>...</td>\n",
       "      <td>...</td>\n",
       "      <td>...</td>\n",
       "      <td>...</td>\n",
       "      <td>...</td>\n",
       "      <td>...</td>\n",
       "      <td>...</td>\n",
       "      <td>...</td>\n",
       "    </tr>\n",
       "    <tr>\n",
       "      <th>2298</th>\n",
       "      <td>1143</td>\n",
       "      <td>0</td>\n",
       "      <td>0</td>\n",
       "      <td>0.00</td>\n",
       "      <td>0</td>\n",
       "      <td>0</td>\n",
       "      <td>surf</td>\n",
       "      <td>Cincinnati, OH-KY-IN MSA</td>\n",
       "      <td>50</td>\n",
       "      <td>15360</td>\n",
       "      <td>15</td>\n",
       "      <td>500</td>\n",
       "      <td>20</td>\n",
       "      <td>10</td>\n",
       "      <td>0.03</td>\n",
       "      <td>0.03</td>\n",
       "      <td>0.0</td>\n",
       "      <td>0</td>\n",
       "      <td>0</td>\n",
       "      <td>20.0</td>\n",
       "    </tr>\n",
       "    <tr>\n",
       "      <th>2299</th>\n",
       "      <td>1307</td>\n",
       "      <td>0</td>\n",
       "      <td>0</td>\n",
       "      <td>0.00</td>\n",
       "      <td>0</td>\n",
       "      <td>0</td>\n",
       "      <td>surf</td>\n",
       "      <td>Boston-Cambridge-Newton, MA-NH MSA</td>\n",
       "      <td>50</td>\n",
       "      <td>15360</td>\n",
       "      <td>15</td>\n",
       "      <td>500</td>\n",
       "      <td>20</td>\n",
       "      <td>10</td>\n",
       "      <td>0.03</td>\n",
       "      <td>0.03</td>\n",
       "      <td>0.0</td>\n",
       "      <td>0</td>\n",
       "      <td>0</td>\n",
       "      <td>20.0</td>\n",
       "    </tr>\n",
       "    <tr>\n",
       "      <th>2300</th>\n",
       "      <td>1319</td>\n",
       "      <td>0</td>\n",
       "      <td>0</td>\n",
       "      <td>0.00</td>\n",
       "      <td>0</td>\n",
       "      <td>0</td>\n",
       "      <td>surf</td>\n",
       "      <td>Colorado Springs, CO MSA</td>\n",
       "      <td>50</td>\n",
       "      <td>15360</td>\n",
       "      <td>15</td>\n",
       "      <td>500</td>\n",
       "      <td>20</td>\n",
       "      <td>10</td>\n",
       "      <td>0.03</td>\n",
       "      <td>0.03</td>\n",
       "      <td>0.0</td>\n",
       "      <td>0</td>\n",
       "      <td>0</td>\n",
       "      <td>20.0</td>\n",
       "    </tr>\n",
       "    <tr>\n",
       "      <th>2301</th>\n",
       "      <td>1378</td>\n",
       "      <td>0</td>\n",
       "      <td>0</td>\n",
       "      <td>0.00</td>\n",
       "      <td>0</td>\n",
       "      <td>0</td>\n",
       "      <td>surf</td>\n",
       "      <td>Denver-Aurora-Lakewood, CO MSA</td>\n",
       "      <td>50</td>\n",
       "      <td>15360</td>\n",
       "      <td>15</td>\n",
       "      <td>500</td>\n",
       "      <td>20</td>\n",
       "      <td>10</td>\n",
       "      <td>0.03</td>\n",
       "      <td>0.03</td>\n",
       "      <td>0.0</td>\n",
       "      <td>0</td>\n",
       "      <td>0</td>\n",
       "      <td>20.0</td>\n",
       "    </tr>\n",
       "    <tr>\n",
       "      <th>2302</th>\n",
       "      <td>1473</td>\n",
       "      <td>0</td>\n",
       "      <td>0</td>\n",
       "      <td>0.00</td>\n",
       "      <td>0</td>\n",
       "      <td>0</td>\n",
       "      <td>surf</td>\n",
       "      <td>Louisville/Jefferson County, KY-IN MSA</td>\n",
       "      <td>50</td>\n",
       "      <td>15360</td>\n",
       "      <td>15</td>\n",
       "      <td>500</td>\n",
       "      <td>20</td>\n",
       "      <td>10</td>\n",
       "      <td>0.03</td>\n",
       "      <td>0.03</td>\n",
       "      <td>0.0</td>\n",
       "      <td>0</td>\n",
       "      <td>0</td>\n",
       "      <td>20.0</td>\n",
       "    </tr>\n",
       "  </tbody>\n",
       "</table>\n",
       "<p>2303 rows × 20 columns</p>\n",
       "</div>"
      ],
      "text/plain": [
       "      user_id  mes  llamadas_hechas  minutos_usados  mensajes_enviados  \\\n",
       "0        1000   12               16          116.83                 11   \n",
       "1        1006   11                2            9.32                 15   \n",
       "2        1006   12                9           54.79                139   \n",
       "3        1008   10               71          450.21                 21   \n",
       "4        1008   11               63          422.81                 37   \n",
       "...       ...  ...              ...             ...                ...   \n",
       "2298     1143    0                0            0.00                  0   \n",
       "2299     1307    0                0            0.00                  0   \n",
       "2300     1319    0                0            0.00                  0   \n",
       "2301     1378    0                0            0.00                  0   \n",
       "2302     1473    0                0            0.00                  0   \n",
       "\n",
       "      gb_usados      plan                                  ciudad  \\\n",
       "0             4  ultimate   Atlanta-Sandy Springs-Roswell, GA MSA   \n",
       "1             7  ultimate  San Francisco-Oakland-Berkeley, CA MSA   \n",
       "2            62  ultimate  San Francisco-Oakland-Berkeley, CA MSA   \n",
       "3            48  ultimate       Orlando-Kissimmee-Sanford, FL MSA   \n",
       "4            56  ultimate       Orlando-Kissimmee-Sanford, FL MSA   \n",
       "...         ...       ...                                     ...   \n",
       "2298          0      surf                Cincinnati, OH-KY-IN MSA   \n",
       "2299          0      surf      Boston-Cambridge-Newton, MA-NH MSA   \n",
       "2300          0      surf                Colorado Springs, CO MSA   \n",
       "2301          0      surf          Denver-Aurora-Lakewood, CO MSA   \n",
       "2302          0      surf  Louisville/Jefferson County, KY-IN MSA   \n",
       "\n",
       "      mensajes_incluidos  mb_incluidos_al_mes  gb_incluidos  \\\n",
       "0                   1000                30720            30   \n",
       "1                   1000                30720            30   \n",
       "2                   1000                30720            30   \n",
       "3                   1000                30720            30   \n",
       "4                   1000                30720            30   \n",
       "...                  ...                  ...           ...   \n",
       "2298                  50                15360            15   \n",
       "2299                  50                15360            15   \n",
       "2300                  50                15360            15   \n",
       "2301                  50                15360            15   \n",
       "2302                  50                15360            15   \n",
       "\n",
       "      minutos_incluidos  usd_pago_por_mes  usd_por_gb  usd_por_mensaje  \\\n",
       "0                  3000                70           7             0.01   \n",
       "1                  3000                70           7             0.01   \n",
       "2                  3000                70           7             0.01   \n",
       "3                  3000                70           7             0.01   \n",
       "4                  3000                70           7             0.01   \n",
       "...                 ...               ...         ...              ...   \n",
       "2298                500                20          10             0.03   \n",
       "2299                500                20          10             0.03   \n",
       "2300                500                20          10             0.03   \n",
       "2301                500                20          10             0.03   \n",
       "2302                500                20          10             0.03   \n",
       "\n",
       "      usd_por_minuto  minutos_cobrables  mensajes_cobrables  \\\n",
       "0               0.01                0.0                   0   \n",
       "1               0.01                0.0                   0   \n",
       "2               0.01                0.0                   0   \n",
       "3               0.01                0.0                   0   \n",
       "4               0.01                0.0                   0   \n",
       "...              ...                ...                 ...   \n",
       "2298            0.03                0.0                   0   \n",
       "2299            0.03                0.0                   0   \n",
       "2300            0.03                0.0                   0   \n",
       "2301            0.03                0.0                   0   \n",
       "2302            0.03                0.0                   0   \n",
       "\n",
       "      internet_cobrable  rentabilidad  \n",
       "0                     0          70.0  \n",
       "1                     0          70.0  \n",
       "2                    32         294.0  \n",
       "3                    18         196.0  \n",
       "4                    26         252.0  \n",
       "...                 ...           ...  \n",
       "2298                  0          20.0  \n",
       "2299                  0          20.0  \n",
       "2300                  0          20.0  \n",
       "2301                  0          20.0  \n",
       "2302                  0          20.0  \n",
       "\n",
       "[2303 rows x 20 columns]"
      ]
     },
     "execution_count": 152,
     "metadata": {},
     "output_type": "execute_result"
    }
   ],
   "source": [
    "#Verificación\n",
    "fct_consumo"
   ]
  },
  {
   "cell_type": "markdown",
   "metadata": {
    "id": "-jtyHzJb0q1I"
   },
   "source": [
    "## Estudia el comportamiento de usuario"
   ]
  },
  {
   "cell_type": "markdown",
   "metadata": {
    "id": "AxU3Y0N70q1J"
   },
   "source": [
    "[Calcula algunas estadísticas descriptivas para los datos agregados y fusionados que nos sean útiles y que muestren un panorama general captado por los datos. Dibuja gráficos útiles para facilitar la comprensión. Dado que la tarea principal es comparar las tarifas y decidir cuál es más rentable, las estadísticas y gráficas deben calcularse por tarifa.]\n",
    "\n",
    "[En los comentarios hallarás pistas relevantes para las llamadas, pero no las hay para los mensajes e Internet. Sin embargo, el principio del estudio estadístico que se aplica para ellos es el mismo que para las llamadas.]"
   ]
  },
  {
   "cell_type": "markdown",
   "metadata": {
    "id": "vtW4CJEe0q1J"
   },
   "source": [
    "### Llamadas"
   ]
  },
  {
   "cell_type": "code",
   "execution_count": 153,
   "metadata": {
    "id": "Jf5v5--k0q1J"
   },
   "outputs": [],
   "source": [
    "# Compara la duración promedio de llamadas por cada plan y por cada mes. Traza un gráfico de barras para visualizarla."
   ]
  },
  {
   "cell_type": "code",
   "execution_count": 179,
   "metadata": {
    "id": "QoLqW1S_0q1J"
   },
   "outputs": [],
   "source": [
    "# Paso 1: Calcular el promedio de minutos usados agrupando por plan y mes\n",
    "minutos_avg = fct_consumo.pivot_table(index=['mes','plan'], values='minutos_usados', aggfunc='mean').reset_index()\n",
    "minutos_avg['minutos_usados'] = np.ceil(minutos_avg['minutos_usados']).astype('int32')\n",
    "minutos_avg = minutos_avg.rename(columns = {'minutos_usados':'minutos_promedio'})\n",
    "#Agrupar por plan surf\n",
    "surf_llamadas = minutos_avg.query(\"plan == 'surf'\")\n",
    "\n",
    "#Agrupar por plan ultimate\n",
    "ultimate_llamadas = minutos_avg.query(\"plan == 'ultimate'\")"
   ]
  },
  {
   "cell_type": "code",
   "execution_count": 180,
   "metadata": {},
   "outputs": [
    {
     "data": {
      "text/html": [
       "<div>\n",
       "<style scoped>\n",
       "    .dataframe tbody tr th:only-of-type {\n",
       "        vertical-align: middle;\n",
       "    }\n",
       "\n",
       "    .dataframe tbody tr th {\n",
       "        vertical-align: top;\n",
       "    }\n",
       "\n",
       "    .dataframe thead th {\n",
       "        text-align: right;\n",
       "    }\n",
       "</style>\n",
       "<table border=\"1\" class=\"dataframe\">\n",
       "  <thead>\n",
       "    <tr style=\"text-align: right;\">\n",
       "      <th></th>\n",
       "      <th>mes</th>\n",
       "      <th>plan</th>\n",
       "      <th>minutos_promedio</th>\n",
       "    </tr>\n",
       "  </thead>\n",
       "  <tbody>\n",
       "    <tr>\n",
       "      <th>0</th>\n",
       "      <td>0</td>\n",
       "      <td>surf</td>\n",
       "      <td>0</td>\n",
       "    </tr>\n",
       "    <tr>\n",
       "      <th>1</th>\n",
       "      <td>0</td>\n",
       "      <td>ultimate</td>\n",
       "      <td>0</td>\n",
       "    </tr>\n",
       "    <tr>\n",
       "      <th>2</th>\n",
       "      <td>1</td>\n",
       "      <td>surf</td>\n",
       "      <td>193</td>\n",
       "    </tr>\n",
       "    <tr>\n",
       "      <th>3</th>\n",
       "      <td>1</td>\n",
       "      <td>ultimate</td>\n",
       "      <td>184</td>\n",
       "    </tr>\n",
       "    <tr>\n",
       "      <th>4</th>\n",
       "      <td>2</td>\n",
       "      <td>surf</td>\n",
       "      <td>281</td>\n",
       "    </tr>\n",
       "    <tr>\n",
       "      <th>5</th>\n",
       "      <td>2</td>\n",
       "      <td>ultimate</td>\n",
       "      <td>380</td>\n",
       "    </tr>\n",
       "    <tr>\n",
       "      <th>6</th>\n",
       "      <td>3</td>\n",
       "      <td>surf</td>\n",
       "      <td>311</td>\n",
       "    </tr>\n",
       "    <tr>\n",
       "      <th>7</th>\n",
       "      <td>3</td>\n",
       "      <td>ultimate</td>\n",
       "      <td>286</td>\n",
       "    </tr>\n",
       "    <tr>\n",
       "      <th>8</th>\n",
       "      <td>4</td>\n",
       "      <td>surf</td>\n",
       "      <td>333</td>\n",
       "    </tr>\n",
       "    <tr>\n",
       "      <th>9</th>\n",
       "      <td>4</td>\n",
       "      <td>ultimate</td>\n",
       "      <td>317</td>\n",
       "    </tr>\n",
       "    <tr>\n",
       "      <th>10</th>\n",
       "      <td>5</td>\n",
       "      <td>surf</td>\n",
       "      <td>378</td>\n",
       "    </tr>\n",
       "    <tr>\n",
       "      <th>11</th>\n",
       "      <td>5</td>\n",
       "      <td>ultimate</td>\n",
       "      <td>384</td>\n",
       "    </tr>\n",
       "    <tr>\n",
       "      <th>12</th>\n",
       "      <td>6</td>\n",
       "      <td>surf</td>\n",
       "      <td>408</td>\n",
       "    </tr>\n",
       "    <tr>\n",
       "      <th>13</th>\n",
       "      <td>6</td>\n",
       "      <td>ultimate</td>\n",
       "      <td>350</td>\n",
       "    </tr>\n",
       "    <tr>\n",
       "      <th>14</th>\n",
       "      <td>7</td>\n",
       "      <td>surf</td>\n",
       "      <td>425</td>\n",
       "    </tr>\n",
       "    <tr>\n",
       "      <th>15</th>\n",
       "      <td>7</td>\n",
       "      <td>ultimate</td>\n",
       "      <td>404</td>\n",
       "    </tr>\n",
       "    <tr>\n",
       "      <th>16</th>\n",
       "      <td>8</td>\n",
       "      <td>surf</td>\n",
       "      <td>388</td>\n",
       "    </tr>\n",
       "    <tr>\n",
       "      <th>17</th>\n",
       "      <td>8</td>\n",
       "      <td>ultimate</td>\n",
       "      <td>398</td>\n",
       "    </tr>\n",
       "    <tr>\n",
       "      <th>18</th>\n",
       "      <td>9</td>\n",
       "      <td>surf</td>\n",
       "      <td>391</td>\n",
       "    </tr>\n",
       "    <tr>\n",
       "      <th>19</th>\n",
       "      <td>9</td>\n",
       "      <td>ultimate</td>\n",
       "      <td>414</td>\n",
       "    </tr>\n",
       "    <tr>\n",
       "      <th>20</th>\n",
       "      <td>10</td>\n",
       "      <td>surf</td>\n",
       "      <td>406</td>\n",
       "    </tr>\n",
       "    <tr>\n",
       "      <th>21</th>\n",
       "      <td>10</td>\n",
       "      <td>ultimate</td>\n",
       "      <td>426</td>\n",
       "    </tr>\n",
       "    <tr>\n",
       "      <th>22</th>\n",
       "      <td>11</td>\n",
       "      <td>surf</td>\n",
       "      <td>400</td>\n",
       "    </tr>\n",
       "    <tr>\n",
       "      <th>23</th>\n",
       "      <td>11</td>\n",
       "      <td>ultimate</td>\n",
       "      <td>421</td>\n",
       "    </tr>\n",
       "    <tr>\n",
       "      <th>24</th>\n",
       "      <td>12</td>\n",
       "      <td>surf</td>\n",
       "      <td>448</td>\n",
       "    </tr>\n",
       "    <tr>\n",
       "      <th>25</th>\n",
       "      <td>12</td>\n",
       "      <td>ultimate</td>\n",
       "      <td>434</td>\n",
       "    </tr>\n",
       "  </tbody>\n",
       "</table>\n",
       "</div>"
      ],
      "text/plain": [
       "    mes      plan  minutos_promedio\n",
       "0     0      surf                 0\n",
       "1     0  ultimate                 0\n",
       "2     1      surf               193\n",
       "3     1  ultimate               184\n",
       "4     2      surf               281\n",
       "5     2  ultimate               380\n",
       "6     3      surf               311\n",
       "7     3  ultimate               286\n",
       "8     4      surf               333\n",
       "9     4  ultimate               317\n",
       "10    5      surf               378\n",
       "11    5  ultimate               384\n",
       "12    6      surf               408\n",
       "13    6  ultimate               350\n",
       "14    7      surf               425\n",
       "15    7  ultimate               404\n",
       "16    8      surf               388\n",
       "17    8  ultimate               398\n",
       "18    9      surf               391\n",
       "19    9  ultimate               414\n",
       "20   10      surf               406\n",
       "21   10  ultimate               426\n",
       "22   11      surf               400\n",
       "23   11  ultimate               421\n",
       "24   12      surf               448\n",
       "25   12  ultimate               434"
      ]
     },
     "execution_count": 180,
     "metadata": {},
     "output_type": "execute_result"
    }
   ],
   "source": [
    "minutos_avg"
   ]
  },
  {
   "cell_type": "code",
   "execution_count": 181,
   "metadata": {},
   "outputs": [
    {
     "data": {
      "image/png": "[encoded data removed]",
      "text/plain": [
       "<Figure size 1200x600 with 1 Axes>"
      ]
     },
     "metadata": {},
     "output_type": "display_data"
    }
   ],
   "source": [
    "# Crear la figura y los ejes para los histogramas\n",
    "# Configurar el estilo visual\n",
    "sns.set(style=\"whitegrid\")\n",
    "\n",
    "# Crear el gráfico de barras\n",
    "plt.figure(figsize=(12, 6))\n",
    "sns.barplot(data=minutos_avg, x='mes', y='minutos_promedio', hue='plan', palette='viridis')\n",
    "\n",
    "# Añadir títulos y etiquetas\n",
    "plt.title('Número de Minutos Usados por Mes y Plan')\n",
    "plt.xlabel('Mes')\n",
    "plt.ylabel('Minutos Usados')\n",
    "plt.legend(title='Plan')\n",
    "\n",
    "# Mostrar el gráfico\n",
    "plt.tight_layout()\n",
    "plt.show()"
   ]
  },
  {
   "cell_type": "markdown",
   "metadata": {},
   "source": [
    "<div class=\"alert alert-block alert-success\">\n",
    "<b>Comentario del revisor</b> <a class=\"tocSkip\"></a><br>\n",
    "\n",
    "<b>Éxito</b> - ¡Excelente trabajo con este gráfico! Has logrado una visualización clara y bien estructurada que facilita la comparación del uso de GB entre los planes Surf y Ultimate a lo largo de los meses. La elección de un gráfico de barras y la inclusión de una leyenda bien posicionada permiten una rápida interpretación de los datos y destacan las diferencias entre ambos planes. ¡Continúa utilizando este tipo de visualizaciones para comunicar tus resultados de forma efectiva!\n",
    "\n",
    "</div>"
   ]
  },
  {
   "cell_type": "markdown",
   "metadata": {
    "id": "bLS9T8OH0q1K"
   },
   "source": [
    "[Calcula la media y la variable de la duración de las llamadas para averiguar si los usuarios de los distintos planes se comportan de forma diferente al realizar sus llamadas.]"
   ]
  },
  {
   "cell_type": "code",
   "execution_count": 182,
   "metadata": {
    "id": "oSndbAnt0q1K"
   },
   "outputs": [
    {
     "name": "stdout",
     "output_type": "stream",
     "text": [
      "\u001b[1mPLAN SURF\u001b[0m\n",
      "La media de minutos que las personas hablan en el plan surf es: 335.53846153846155\n",
      "La varianza de los minutos que las personas hablan en el plan surf es:14928.269230769229\n",
      "\n",
      "\u001b[1mPLAN ULTIMATE\u001b[0m\n",
      "La media de minutos que las personas hablan en el plan ultimate es: 338.3076923076923\n",
      "La varianza de los minutos que las personas hablan en el plan ultimate es:15225.730769230768\n"
     ]
    }
   ],
   "source": [
    "# Calcula la media y la varianza de la duración mensual de llamadas.\n",
    "\n",
    "\n",
    "#SURF \n",
    "\n",
    "#avg de minutos para surf plan\n",
    "surf_mean = surf_llamadas['minutos_promedio'].mean()\n",
    "#var de minutos para surf plan\n",
    "surf_var = surf_llamadas['minutos_promedio'].var()\n",
    "print('\\033[1m' + 'PLAN SURF' + '\\033[0m')\n",
    "print(f'La media de minutos que las personas hablan en el plan surf es: {surf_mean}')\n",
    "print(f'La varianza de los minutos que las personas hablan en el plan surf es:{surf_var}')\n",
    "print()\n",
    "\n",
    "\n",
    "#ULTIMATE\n",
    "\n",
    "print('\\033[1m' + 'PLAN ULTIMATE' + '\\033[0m')\n",
    "#avg de minutos para ultimate plan\n",
    "ultimate_mean = ultimate_llamadas['minutos_promedio'].mean()\n",
    "#var de minutos para ultimate plan\n",
    "ultimate_var = ultimate_llamadas['minutos_promedio'].var()\n",
    "print(f'La media de minutos que las personas hablan en el plan ultimate es: {ultimate_mean}')\n",
    "print(f'La varianza de los minutos que las personas hablan en el plan ultimate es:{ultimate_var}')"
   ]
  },
  {
   "cell_type": "code",
   "execution_count": 183,
   "metadata": {},
   "outputs": [
    {
     "data": {
      "image/png": "[encoded data removed]",
      "text/plain": [
       "<Figure size 1200x600 with 2 Axes>"
      ]
     },
     "metadata": {},
     "output_type": "display_data"
    }
   ],
   "source": [
    "# Traza un diagrama de caja para visualizar la distribución de la duración mensual de llamadas\n",
    "\n",
    "fig, axes = plt.subplots(1, 2, figsize=(12, 6))\n",
    "\n",
    "surf_llamadas['minutos_promedio'].plot(\n",
    "figsize = (12,6),\n",
    "kind = 'box',\n",
    "title = 'Plan Surf',\n",
    "ax = axes[0],\n",
    "showmeans = True,\n",
    "meanline = True\n",
    ")\n",
    "\n",
    "ultimate_llamadas['minutos_promedio'].plot(\n",
    "figsize = (12,6),\n",
    "kind = 'box',\n",
    "title = 'Plan Ultimate ',\n",
    "ax = axes [1],\n",
    "showmeans = True,\n",
    "meanline = True\n",
    "\n",
    ")\n",
    "\n",
    "# Mostrar el gráfico \n",
    "plt.show()"
   ]
  },
  {
   "cell_type": "markdown",
   "metadata": {
    "id": "r627zBO50q1K"
   },
   "source": [
    "[Elabora las conclusiones sobre el comportamiento de los usuarios con respecto a las llamadas. ¿Su comportamiento varía en función del plan?]\n",
    "\n",
    "\n",
    "**Su comportamiento es muy similar en medias, sin embargo el plan ultimate tiene una muestra mas dispersa; al observar el gráfico de boxplot, podemos identificar que en ambos planes tenemos usuarios que nunca han realizado llamadas.**"
   ]
  },
  {
   "cell_type": "markdown",
   "metadata": {
    "id": "8idKy8Wh0q1L"
   },
   "source": [
    "### Mensajes"
   ]
  },
  {
   "cell_type": "code",
   "execution_count": 160,
   "metadata": {
    "id": "NXLxiTit0q1L"
   },
   "outputs": [],
   "source": [
    "# Comprara el número de mensajes que tienden a enviar cada mes los usuarios de cada plan\n",
    "mensajes_avg = fct_consumo.pivot_table(index=['mes','plan'], values='mensajes_enviados', aggfunc='sum').reset_index()\n",
    "#Agrupar por plan surf\n",
    "surf_sms = mensajes_avg.query(\"plan == 'surf'\")\n",
    "#Agrupar por plan ultimate\n",
    "ultimate_sms = mensajes_avg.query(\"plan == 'ultimate'\")"
   ]
  },
  {
   "cell_type": "code",
   "execution_count": 172,
   "metadata": {
    "id": "GRI_R7xF0q1L"
   },
   "outputs": [
    {
     "data": {
      "image/png": "[encoded data removed]",
      "text/plain": [
       "<Figure size 1200x600 with 1 Axes>"
      ]
     },
     "metadata": {},
     "output_type": "display_data"
    }
   ],
   "source": [
    "# Configurar el estilo visual\n",
    "sns.set(style=\"whitegrid\")\n",
    "\n",
    "# Crear el gráfico de barras\n",
    "plt.figure(figsize=(12, 6))\n",
    "sns.barplot(data=mensajes_avg, x='mes', y='mensajes_enviados', hue='plan', palette='viridis')\n",
    "\n",
    "# Añadir títulos y etiquetas\n",
    "plt.title('Número de Mensajes Enviados por Mes y Plan')\n",
    "plt.xlabel('Mes')\n",
    "plt.ylabel('Número de Mensajes Enviados')\n",
    "plt.legend(title='Plan')\n",
    "\n",
    "# Mostrar el gráfico\n",
    "plt.tight_layout()\n",
    "plt.show()"
   ]
  },
  {
   "cell_type": "code",
   "execution_count": 171,
   "metadata": {
    "id": "dtFwCGAp0q1M"
   },
   "outputs": [
    {
     "name": "stdout",
     "output_type": "stream",
     "text": [
      "\u001b[1mPLAN SURF\u001b[0m\n",
      "La media de los mensajes enviados en el plan surf es: 3770.3076923076924\n",
      "La varianza de los mensajes enviados en el plan surf es:16048268.397435896\n",
      "\n",
      "\u001b[1mPLAN ULTIMATE\u001b[0m\n",
      "La media de los mensajes enviados en el plan ultimate es: 2079.769230769231\n",
      "La varianza de los mensajes enviados en el plan ultimate es:4698367.025641026\n"
     ]
    }
   ],
   "source": [
    "# Calcula la media y la varianza de los mensajes enviados.\n",
    "\n",
    "#SURF \n",
    "\n",
    "#avg de mensajes para surf plan\n",
    "surf_mean_sms = surf_sms['mensajes_enviados'].mean()\n",
    "#var de mensajes para surf plan\n",
    "surf_var_sms = surf_sms['mensajes_enviados'].var()\n",
    "print('\\033[1m' + 'PLAN SURF' + '\\033[0m')\n",
    "print(f'La media de los mensajes enviados en el plan surf es: {surf_mean_sms}')\n",
    "print(f'La varianza de los mensajes enviados en el plan surf es:{surf_var_sms}')\n",
    "print()\n",
    "\n",
    "\n",
    "#ULTIMATE\n",
    "\n",
    "print('\\033[1m' + 'PLAN ULTIMATE' + '\\033[0m')\n",
    "#avg de mensajes para ultimate plan\n",
    "ultimate_mean_sms = ultimate_sms['mensajes_enviados'].mean()\n",
    "#var de mensajes para ultimate plan\n",
    "ultimate_var_sms = ultimate_sms['mensajes_enviados'].var()\n",
    "print(f'La media de los mensajes enviados en el plan ultimate es: {ultimate_mean_sms}')\n",
    "print(f'La varianza de los mensajes enviados en el plan ultimate es:{ultimate_var_sms}')"
   ]
  },
  {
   "cell_type": "code",
   "execution_count": 170,
   "metadata": {},
   "outputs": [
    {
     "data": {
      "image/png": "[encoded data removed]",
      "text/plain": [
       "<Figure size 1200x600 with 2 Axes>"
      ]
     },
     "metadata": {},
     "output_type": "display_data"
    }
   ],
   "source": [
    "# Traza un diagrama de caja para visualizar la distribución de mensajes enviados por plan\n",
    "\n",
    "fig, axes = plt.subplots(1, 2, figsize=(12, 6))\n",
    "\n",
    "surf_sms['mensajes_enviados'].plot(\n",
    "figsize = (12,6),\n",
    "kind = 'box',\n",
    "title = 'Plan Surf',\n",
    "ax = axes[0],\n",
    "showmeans = True,\n",
    "meanline = True\n",
    "\n",
    ")\n",
    "\n",
    "ultimate_sms['mensajes_enviados'].plot(\n",
    "figsize = (12,6),\n",
    "kind = 'box',\n",
    "title = 'Plan Ultimate ',\n",
    "ax = axes [1],\n",
    "showmeans = True,\n",
    "meanline = True\n",
    "\n",
    ")\n",
    "\n",
    "# Mostrar el gráfico \n",
    "plt.show()"
   ]
  },
  {
   "cell_type": "markdown",
   "metadata": {
    "id": "390SSL480q1M"
   },
   "source": [
    "[Elabora las conclusiones sobre el comportamiento de los usuarios con respecto a los mensajes. ¿Su comportamiento varía en función del plan?]\n",
    "\n",
    "**Los usuarios del plan Surf tienden a enviar una mayor cantidad de mensajes, lo que se evidencia tanto en el gráfico de barras como en la comparación de las medias. Además, este plan muestra una mayor dispersión en los datos, lo que indica que existe una variabilidad considerable en el comportamiento de los usuarios, con algunos enviando muy pocos mensajes y otros enviando una cantidad significativamente mayor, en comparación con el plan Ultimate, que presenta una distribución más concentrada.**"
   ]
  },
  {
   "cell_type": "markdown",
   "metadata": {
    "id": "42YSypXz0q1M"
   },
   "source": [
    "### Internet"
   ]
  },
  {
   "cell_type": "code",
   "execution_count": 164,
   "metadata": {
    "id": "lSuKPtjh0q1M"
   },
   "outputs": [],
   "source": [
    "# Compara la cantidad de tráfico de Internet consumido por usuarios por plan"
   ]
  },
  {
   "cell_type": "code",
   "execution_count": 165,
   "metadata": {
    "id": "wnh8jYXi0q1N"
   },
   "outputs": [],
   "source": [
    "# Comprara el número de GB usados que tienden a enviar cada mes los usuarios de cada plan\n",
    "internet_sum = fct_consumo.pivot_table(index=['mes','plan'], values='gb_usados', aggfunc='sum').reset_index()\n",
    "#Agrupar por plan surf\n",
    "surf_inter = internet_sum.query(\"plan == 'surf'\")\n",
    "#Agrupar por plan ultimate\n",
    "ultimate_inter = internet_sum.query(\"plan == 'ultimate'\")"
   ]
  },
  {
   "cell_type": "code",
   "execution_count": 167,
   "metadata": {},
   "outputs": [
    {
     "data": {
      "image/png": "[encoded data removed]",
      "text/plain": [
       "<Figure size 1200x600 with 1 Axes>"
      ]
     },
     "metadata": {},
     "output_type": "display_data"
    }
   ],
   "source": [
    "# Configurar el estilo visual\n",
    "sns.set(style=\"whitegrid\")\n",
    "\n",
    "# Crear el gráfico de barras\n",
    "plt.figure(figsize=(12, 6))\n",
    "sns.barplot(data=internet_sum, x='mes', y='gb_usados', hue='plan', palette='viridis')\n",
    "\n",
    "# Añadir títulos y etiquetas\n",
    "plt.title('Número de GB Usados por Mes y Plan')\n",
    "plt.xlabel('Mes')\n",
    "plt.ylabel('Número de GB Usados')\n",
    "plt.legend(title='Plan')\n",
    "\n",
    "# Mostrar el gráfico\n",
    "plt.tight_layout()\n",
    "plt.show()"
   ]
  },
  {
   "cell_type": "code",
   "execution_count": 169,
   "metadata": {},
   "outputs": [
    {
     "name": "stdout",
     "output_type": "stream",
     "text": [
      "\u001b[1mPLAN SURF\u001b[0m\n",
      "La media de los GB usados para el plan surf es de: 4857.0\n",
      "La varianza de los GB usados para el plan surf es de:22121180.0\n",
      "\n",
      "\u001b[1mPLAN ULTIMATE\u001b[0m\n",
      "La media de los GB usados para el plan ultimate es de: 2275.230769230769\n",
      "La varianza de los GB usados para el plan ultimate es de:4634412.025641025\n"
     ]
    }
   ],
   "source": [
    "# Calcula la media y la varianza de los GB usados.\n",
    "\n",
    "\n",
    "#SURF \n",
    "\n",
    "#avg de los GB usados para surf plan\n",
    "surf_mean_inter = surf_inter['gb_usados'].mean()\n",
    "#var delos GB usados para surf plan\n",
    "surf_var_inter = surf_inter['gb_usados'].var()\n",
    "print('\\033[1m' + 'PLAN SURF' + '\\033[0m')\n",
    "print(f'La media de los GB usados para el plan surf es de: {surf_mean_inter}')\n",
    "print(f'La varianza de los GB usados para el plan surf es de:{surf_var_inter}')\n",
    "print()\n",
    "\n",
    "\n",
    "#ULTIMATE\n",
    "\n",
    "print('\\033[1m' + 'PLAN ULTIMATE' + '\\033[0m')\n",
    "#avg de los GB usados para ultimate plan\n",
    "ultimate_mean_inter = ultimate_inter['gb_usados'].mean()\n",
    "#var de los GB usados para ultimate plan\n",
    "ultimate_var_inter = ultimate_inter['gb_usados'].var()\n",
    "print(f'La media de los GB usados para el plan ultimate es de: {ultimate_mean_inter}')\n",
    "print(f'La varianza de los GB usados para el plan ultimate es de:{ultimate_var_inter}')"
   ]
  },
  {
   "cell_type": "code",
   "execution_count": 168,
   "metadata": {},
   "outputs": [
    {
     "data": {
      "image/png": "[encoded data removed]",
      "text/plain": [
       "<Figure size 1200x600 with 2 Axes>"
      ]
     },
     "metadata": {},
     "output_type": "display_data"
    }
   ],
   "source": [
    "# Traza un diagrama de caja para visualizar la distribución de GB usados por plan\n",
    "\n",
    "fig, axes = plt.subplots(1, 2, figsize=(12, 6))\n",
    "\n",
    "surf_inter['gb_usados'].plot(\n",
    "figsize = (12,6),\n",
    "kind = 'box',\n",
    "title = 'Plan Surf',\n",
    "ax = axes[0],\n",
    "showmeans = True,\n",
    "meanline = True\n",
    ")\n",
    "\n",
    "ultimate_inter['gb_usados'].plot(\n",
    "figsize = (12,6),\n",
    "kind = 'box',\n",
    "title = 'Plan Ultimate ',\n",
    "ax = axes [1],\n",
    "showmeans = True,\n",
    "meanline = True\n",
    "\n",
    ")\n",
    "\n",
    "# Mostrar el gráfico \n",
    "plt.show()"
   ]
  },
  {
   "cell_type": "markdown",
   "metadata": {
    "id": "UN9zwuMP0q1N"
   },
   "source": [
    "[Elabora las conclusiones sobre cómo los usuarios tienden a consumir el tráfico de Internet. ¿Su comportamiento varía en función del plan?]\n",
    "\n",
    "**Los usuarios del plan Surf tienen un mayor consumo de GB a lo largo de los meses; de igual manera, su consumo promedio es mayor que el del plan Ultimate y presenta una mayor dispersión como se observa en el boxplot.**"
   ]
  },
  {
   "cell_type": "markdown",
   "metadata": {
    "id": "tCijq3260q1N"
   },
   "source": [
    "## Ingreso"
   ]
  },
  {
   "cell_type": "markdown",
   "metadata": {
    "id": "9nq5IAcy0q1O"
   },
   "source": [
    "[Del mismo modo que has estudiado el comportamiento de los usuarios, describe estadísticamente los ingresos de los planes.]"
   ]
  },
  {
   "cell_type": "code",
   "execution_count": null,
   "metadata": {
    "id": "tz-dq_V00q1O"
   },
   "outputs": [],
   "source": [
    "#rentabilidad plan surf\n",
    "rentabilidad_avg_surf=fct_consumo.query(\"plan == 'surf'\")['rentabilidad'].mean()\n",
    "#verificación\n",
    "print(f\"La rentabilidad promedio del plan surf en el 2018 fue de: ${np.round(rentabilidad_avg_surf, 2)}USD por usuario\")\n"
   ]
  },
  {
   "cell_type": "code",
   "execution_count": null,
   "metadata": {
    "id": "0Y1v8ZUz0q1P"
   },
   "outputs": [],
   "source": [
    "#rentabilidad plan ultimate\n",
    "rentabilidad_avg_ultimate=fct_consumo.query(\"plan == 'ultimate'\")['rentabilidad'].mean()\n",
    "#verificación\n",
    "print(f\"La rentabilidad promedio del plan ultimate en el 2018 fue de: ${np.round(rentabilidad_avg_ultimate, 2)}USD por usuario\")"
   ]
  },
  {
   "cell_type": "code",
   "execution_count": null,
   "metadata": {},
   "outputs": [],
   "source": [
    "#¿Cuántos usuarios hay en los distintos planes?"
   ]
  },
  {
   "cell_type": "code",
   "execution_count": null,
   "metadata": {},
   "outputs": [],
   "source": [
    "#surf\n",
    "usuarios_surf = fct_consumo[fct_consumo['plan'] == 'surf']['user_id'].count()\n",
    "print(f'Hay {usuarios_surf} usuarios en el plan surf.' )"
   ]
  },
  {
   "cell_type": "code",
   "execution_count": null,
   "metadata": {},
   "outputs": [],
   "source": [
    "#ultimate\n",
    "usuarios_ultimate = fct_consumo[fct_consumo['plan'] == 'ultimate']['user_id'].count()\n",
    "print(f'Hay {usuarios_ultimate} usuarios en el plan ultimate.' )"
   ]
  },
  {
   "cell_type": "markdown",
   "metadata": {
    "id": "KAFidcXZ0q1P"
   },
   "source": [
    "[Elabora las conclusiones sobre cómo difiere el ingreso entre los planes.]\n",
    "\n",
    "**Aunque el plan Ultimate es más caro, cuenta con un menor número de usuarios. En los gráficos de boxplot, observamos que más usuarios superan su consumo permitido, lo cual incrementa el costo de su plan debido a los cargos adicionales. Sin embargo, esto es solo una hipótesis; para darle validez, realizaremos una prueba estadística.**"
   ]
  },
  {
   "cell_type": "markdown",
   "metadata": {
    "id": "ajJ7VKeI0q1Q"
   },
   "source": [
    "## Prueba las hipótesis estadísticas"
   ]
  },
  {
   "cell_type": "markdown",
   "metadata": {
    "id": "AdXAZ-yL0q1Q"
   },
   "source": [
    "[Prueba la hipótesis de que son diferentes los ingresos promedio procedentes de los usuarios de los planes de llamada Ultimate y Surf.]"
   ]
  },
  {
   "cell_type": "markdown",
   "metadata": {
    "id": "IQwa_hsh0q1Q"
   },
   "source": [
    "[Elabora las hipótesis nula y alternativa, escoge la prueba estadística, determina el valor alfa.]"
   ]
  },
  {
   "cell_type": "markdown",
   "metadata": {
    "id": "nFoPNlPq0q1R"
   },
   "source": [
    "**Prueba las hipótesis**\n",
    "\n",
    "\n",
    "**H0 = La media de la rentabilidad de surf plan < media de la rentabilidad de ultimate plan.**\n",
    "\n",
    "**H1 =  La media de la rentabilidad de surf plan > media de la rentabilidad de ultimate plan.**\n"
   ]
  },
  {
   "cell_type": "markdown",
   "metadata": {},
   "source": [
    "**JUSTIFICACIÓN DE USO DE PRUEBA T-TEST PARA DOS MUESTRAS INDEPENDIENTES**"
   ]
  },
  {
   "cell_type": "markdown",
   "metadata": {},
   "source": [
    "\n",
    "Se utilizó la prueba t-test de Student para muestras independientes porque se busca comparar si existe una diferencia significativa entre las medias de rentabilidad de los planes \"surf\" y \"ultimate\", los cuales representan dos grupos distintos. Además, no se asumió igualdad de varianzas entre los grupos (parámetro equal_var=False), dado que sus características podrían ser diferentes. Este análisis es apropiado para datos numéricos y continuos, como la rentabilidad, y el nivel de significancia (α=0.05) permite evaluar con un 95% de confianza si las diferencias observadas son estadísticamente significativas."
   ]
  },
  {
   "cell_type": "code",
   "execution_count": null,
   "metadata": {},
   "outputs": [],
   "source": [
    "#varibales\n",
    "ventas_surf = fct_consumo.query(\"plan == 'surf'\")['rentabilidad']\n",
    "ventas_ultimate = fct_consumo.query(\"plan == 'ultimate'\")['rentabilidad']\n",
    "\n",
    "#ttest para muestras independientes con varianzas diferentes\n",
    "resultados_prueba_ventas = st.ttest_ind(ventas_surf,ventas_ultimate, equal_var = False)\n",
    "#valor alpha (sensibilidad)\n",
    "alpha = 0.05"
   ]
  },
  {
   "cell_type": "code",
   "execution_count": null,
   "metadata": {},
   "outputs": [],
   "source": [
    "resultados_prueba_ventas.pvalue"
   ]
  },
  {
   "cell_type": "code",
   "execution_count": null,
   "metadata": {},
   "outputs": [],
   "source": [
    "#Impresión de resultados\n",
    "\n",
    "if resultados_prueba_ventas.pvalue < alpha:\n",
    "    print('Podemos rechazar hipótesis nula')\n",
    "else:\n",
    "    print('No podemos rechazar hipótesis nula')"
   ]
  },
  {
   "cell_type": "markdown",
   "metadata": {},
   "source": [
    "**Aceptamos H1: Surf es mas rentable que ultimate.**"
   ]
  },
  {
   "cell_type": "markdown",
   "metadata": {
    "id": "tCcAruM60q1R"
   },
   "source": [
    "[Prueba la hipótesis de que el ingreso promedio de los usuarios del área NY-NJ es diferente al de los usuarios de otras regiones.]"
   ]
  },
  {
   "cell_type": "markdown",
   "metadata": {
    "id": "LsBgitqj0q1R"
   },
   "source": [
    "[Elabora las hipótesis nula y alternativa, escoge la prueba estadística, determina el valor alfa.]"
   ]
  },
  {
   "cell_type": "markdown",
   "metadata": {},
   "source": [
    "**Declaración de hipótesis**\n",
    "\n",
    "**H1 = La media de la rentabilidad del área de NY-NJ es diferente a las otras regiones.**\n",
    "\n",
    "**H0 = La media de la rentabilidad del área de NY-NJ es igual a las otras regiones.**\n"
   ]
  },
  {
   "cell_type": "code",
   "execution_count": null,
   "metadata": {
    "id": "Cqcj7wrZ0q1S"
   },
   "outputs": [],
   "source": [
    "# Prueba las hipótesis\n",
    "\n",
    "residentes_ny_nj = fct_consumo.query('ciudad==\"New York-Newark-Jersey City, NY-NJ-PA MSA\"')['rentabilidad']\n",
    "\n",
    "residentes_otros = fct_consumo[~(fct_consumo['ciudad'] == 'New York-Newark-Jersey City, NY-NJ-PA MSA')]['rentabilidad']\n",
    "\n",
    "#Prueba t para muestras independientes y con varianzas diferentes \n",
    "resultado_ingreso_por_zonas = st.ttest_ind(residentes_ny_nj,residentes_otros, equal_var = False)\n",
    "\n",
    "#Significancia \n",
    "alpha = 0.05 \n",
    "\n",
    "#Impresión de resultados\n",
    "if resultado_ingreso_por_zonas.pvalue < alpha:\n",
    "    print('Rechazamos la hipótesis nula')\n",
    "else:\n",
    "    print('No podemos rechazar la hipótesis nula')"
   ]
  },
  {
   "cell_type": "markdown",
   "metadata": {},
   "source": [
    "**Aceptamos H1: los usarios de NY-NJ proveen un ingreso medio diferente al de otras regiones.** "
   ]
  },
  {
   "cell_type": "markdown",
   "metadata": {},
   "source": [
    "-----"
   ]
  },
  {
   "cell_type": "markdown",
   "metadata": {
    "id": "bbTR8UQO0q1T"
   },
   "source": [
    "## Conclusión general\n",
    "\n",
    "Este proyecto consistió en la aplicación de limpieza de datos, así como la ingeniería de características para generar nuevas variables a partir de datos existentes. Se emplearon métodos estadísticos para analizar el comportamiento de los usuarios en diferentes planes, utilizando medidas de tendencia central, dispersión, visualizaciones y pruebas  para comparar dos muestras independientes con varianzas distintas.\n",
    "\n",
    "Además, es importante destacar el uso del submódulo stats de scipy para la validación de hipótesis, especialmente en la evaluación de la rentabilidad de los planes, lo cual permite fundamentar las conclusiones con rigor estadístico. Esto minimiza el sesgo y respalda una toma de decisiones objetiva y basada en evidencia científica. "
   ]
  },
  {
   "cell_type": "markdown",
   "metadata": {},
   "source": [
    "----"
   ]
  }
 ],
 "metadata": {
  "ExecuteTimeLog": [
   {
    "duration": 828,
    "start_time": "2021-11-16T09:21:11.304Z"
   },
   {
    "duration": 893,
    "start_time": "2021-11-16T09:21:17.728Z"
   },
   {
    "duration": 1150,
    "start_time": "2021-11-16T09:21:29.568Z"
   },
   {
    "duration": 3,
    "start_time": "2021-11-16T09:24:14.495Z"
   },
   {
    "duration": 120,
    "start_time": "2021-11-16T09:24:46.630Z"
   },
   {
    "duration": 3,
    "start_time": "2021-11-16T09:28:27.882Z"
   },
   {
    "duration": 4,
    "start_time": "2021-11-16T09:29:54.281Z"
   },
   {
    "duration": 3,
    "start_time": "2021-11-16T09:30:45.936Z"
   },
   {
    "duration": 4,
    "start_time": "2021-11-16T09:31:06.300Z"
   },
   {
    "duration": 113,
    "start_time": "2021-11-16T09:31:37.208Z"
   },
   {
    "duration": 143,
    "start_time": "2021-11-16T09:31:48.656Z"
   },
   {
    "duration": 98,
    "start_time": "2021-11-16T09:31:55.678Z"
   },
   {
    "duration": 3,
    "start_time": "2021-11-16T09:32:08.535Z"
   },
   {
    "duration": 111,
    "start_time": "2021-11-16T09:32:10.120Z"
   },
   {
    "duration": 3,
    "start_time": "2021-11-16T09:32:15.732Z"
   },
   {
    "duration": 4,
    "start_time": "2021-11-16T09:32:29.423Z"
   },
   {
    "duration": 3,
    "start_time": "2021-11-16T10:03:03.074Z"
   },
   {
    "duration": 3,
    "start_time": "2021-11-16T10:10:01.288Z"
   },
   {
    "duration": 3,
    "start_time": "2021-11-16T10:10:46.923Z"
   },
   {
    "duration": 121,
    "start_time": "2021-11-16T10:37:46.494Z"
   },
   {
    "duration": 125,
    "start_time": "2021-11-16T10:38:20.632Z"
   },
   {
    "duration": 112,
    "start_time": "2021-11-16T10:46:53.001Z"
   },
   {
    "duration": 110,
    "start_time": "2021-11-16T10:48:25.775Z"
   },
   {
    "duration": 3,
    "start_time": "2021-11-16T10:50:18.720Z"
   },
   {
    "duration": 4,
    "start_time": "2021-11-16T10:50:37.649Z"
   },
   {
    "duration": 2,
    "start_time": "2021-11-16T10:50:51.884Z"
   },
   {
    "duration": 3,
    "start_time": "2021-11-16T10:51:56.237Z"
   },
   {
    "duration": 101,
    "start_time": "2021-11-16T10:53:13.791Z"
   },
   {
    "duration": 3,
    "start_time": "2021-11-16T10:55:59.186Z"
   },
   {
    "duration": 3,
    "start_time": "2021-11-16T10:56:10.751Z"
   },
   {
    "duration": 3,
    "start_time": "2021-11-16T10:56:49.038Z"
   },
   {
    "duration": 3,
    "start_time": "2021-11-16T10:56:49.174Z"
   },
   {
    "duration": 4,
    "start_time": "2021-11-16T10:56:49.414Z"
   },
   {
    "duration": 3,
    "start_time": "2021-11-16T10:56:49.680Z"
   },
   {
    "duration": 3,
    "start_time": "2021-11-16T10:56:50.370Z"
   },
   {
    "duration": 114,
    "start_time": "2021-11-16T10:59:34.518Z"
   },
   {
    "duration": 3,
    "start_time": "2021-11-16T11:01:41.201Z"
   },
   {
    "duration": 116,
    "start_time": "2021-11-16T11:01:48.754Z"
   },
   {
    "duration": 3,
    "start_time": "2021-11-16T11:02:16.685Z"
   },
   {
    "duration": 3,
    "start_time": "2021-11-16T11:02:19.479Z"
   },
   {
    "duration": 3,
    "start_time": "2021-11-16T11:02:47.067Z"
   },
   {
    "duration": 3,
    "start_time": "2021-11-16T11:02:49.353Z"
   },
   {
    "duration": 3,
    "start_time": "2021-11-16T11:03:07.835Z"
   },
   {
    "duration": 3,
    "start_time": "2021-11-16T11:03:07.953Z"
   },
   {
    "duration": 112,
    "start_time": "2021-11-16T11:07:52.072Z"
   },
   {
    "duration": 187,
    "start_time": "2021-11-16T11:09:23.468Z"
   },
   {
    "duration": 4,
    "start_time": "2021-11-16T11:10:01.455Z"
   },
   {
    "duration": 3,
    "start_time": "2021-11-16T11:10:05.069Z"
   },
   {
    "duration": 4,
    "start_time": "2021-11-16T11:10:13.376Z"
   },
   {
    "duration": 3,
    "start_time": "2021-11-16T11:10:14.434Z"
   },
   {
    "duration": 3,
    "start_time": "2021-11-16T11:10:22.853Z"
   },
   {
    "duration": 4,
    "start_time": "2021-11-16T11:27:29.279Z"
   },
   {
    "duration": 4,
    "start_time": "2021-11-16T11:29:08.919Z"
   },
   {
    "duration": 118,
    "start_time": "2021-11-16T11:29:46.703Z"
   },
   {
    "duration": 437,
    "start_time": "2021-11-16T11:36:02.181Z"
   },
   {
    "duration": 157,
    "start_time": "2021-11-16T11:36:14.388Z"
   },
   {
    "duration": 207,
    "start_time": "2021-11-16T11:47:15.898Z"
   },
   {
    "duration": 3,
    "start_time": "2021-11-16T11:53:52.092Z"
   },
   {
    "duration": 3,
    "start_time": "2021-11-16T11:53:52.236Z"
   },
   {
    "duration": 3,
    "start_time": "2021-11-16T11:59:12.005Z"
   },
   {
    "duration": 112,
    "start_time": "2021-11-16T12:00:33.446Z"
   },
   {
    "duration": 3,
    "start_time": "2021-11-16T12:02:14.453Z"
   },
   {
    "duration": 3,
    "start_time": "2021-11-16T12:02:39.512Z"
   },
   {
    "duration": 106,
    "start_time": "2021-11-16T12:03:03.460Z"
   },
   {
    "duration": 3,
    "start_time": "2021-11-17T20:37:21.139Z"
   },
   {
    "duration": 3,
    "start_time": "2021-11-17T20:37:22.229Z"
   },
   {
    "duration": 3,
    "start_time": "2021-11-17T20:38:38.806Z"
   },
   {
    "duration": 3,
    "start_time": "2021-11-17T20:38:41.958Z"
   },
   {
    "duration": 3,
    "start_time": "2021-11-17T20:43:46.551Z"
   },
   {
    "duration": 4,
    "start_time": "2021-11-17T20:58:21.835Z"
   },
   {
    "duration": 3,
    "start_time": "2021-11-17T20:59:21.872Z"
   },
   {
    "duration": 4,
    "start_time": "2021-11-17T20:59:45.352Z"
   },
   {
    "duration": 4,
    "start_time": "2021-11-17T20:59:49.646Z"
   },
   {
    "duration": 159,
    "start_time": "2021-11-17T21:02:26.949Z"
   },
   {
    "duration": 3,
    "start_time": "2021-11-17T21:03:53.461Z"
   },
   {
    "duration": 3,
    "start_time": "2021-11-17T21:03:53.694Z"
   },
   {
    "duration": 3,
    "start_time": "2021-11-17T21:05:28.145Z"
   },
   {
    "duration": 116,
    "start_time": "2021-11-17T21:05:57.787Z"
   },
   {
    "duration": 3,
    "start_time": "2021-11-17T21:06:37.993Z"
   },
   {
    "duration": 3,
    "start_time": "2021-11-17T21:06:38.261Z"
   },
   {
    "duration": 3,
    "start_time": "2021-11-17T21:11:54.358Z"
   },
   {
    "duration": 3,
    "start_time": "2021-11-17T21:12:43.846Z"
   },
   {
    "duration": 4,
    "start_time": "2021-11-17T21:13:08.773Z"
   },
   {
    "duration": 3,
    "start_time": "2021-11-17T21:14:44.441Z"
   },
   {
    "duration": 3,
    "start_time": "2021-11-17T21:15:42.059Z"
   },
   {
    "duration": 4,
    "start_time": "2021-11-17T21:15:51.995Z"
   },
   {
    "duration": 3,
    "start_time": "2021-11-17T21:15:53.923Z"
   },
   {
    "duration": 3,
    "start_time": "2021-11-17T21:15:55.282Z"
   },
   {
    "duration": 3,
    "start_time": "2021-11-17T21:16:28.492Z"
   },
   {
    "duration": 3,
    "start_time": "2021-11-17T21:16:32.603Z"
   },
   {
    "duration": 3,
    "start_time": "2021-11-17T21:17:06.941Z"
   },
   {
    "duration": 98,
    "start_time": "2021-11-17T21:18:05.733Z"
   },
   {
    "duration": 4,
    "start_time": "2021-11-17T21:21:35.255Z"
   },
   {
    "duration": 3,
    "start_time": "2021-11-17T21:21:37.804Z"
   },
   {
    "duration": 4,
    "start_time": "2021-11-17T21:23:06.071Z"
   },
   {
    "duration": 3,
    "start_time": "2021-11-17T21:23:24.799Z"
   },
   {
    "duration": 3,
    "start_time": "2021-11-17T21:23:32.591Z"
   },
   {
    "duration": 98,
    "start_time": "2021-11-17T21:28:31.559Z"
   },
   {
    "duration": 3,
    "start_time": "2021-11-17T21:28:45.448Z"
   },
   {
    "duration": 3,
    "start_time": "2021-11-17T21:29:17.303Z"
   },
   {
    "duration": 3,
    "start_time": "2021-11-17T21:29:29.617Z"
   },
   {
    "duration": 3,
    "start_time": "2021-11-17T21:29:32.681Z"
   },
   {
    "duration": 3,
    "start_time": "2021-11-17T21:36:11.474Z"
   },
   {
    "duration": 3,
    "start_time": "2021-11-17T21:36:14.791Z"
   },
   {
    "duration": 3,
    "start_time": "2021-11-17T21:36:53.943Z"
   },
   {
    "duration": 3,
    "start_time": "2021-11-17T21:36:56.165Z"
   },
   {
    "duration": 4,
    "start_time": "2021-11-17T21:37:16.590Z"
   },
   {
    "duration": 3,
    "start_time": "2021-11-17T21:37:22.702Z"
   },
   {
    "duration": 4,
    "start_time": "2021-11-17T21:38:03.479Z"
   },
   {
    "duration": 3,
    "start_time": "2021-11-17T21:38:08.601Z"
   },
   {
    "duration": 3,
    "start_time": "2021-11-17T21:38:12.928Z"
   },
   {
    "duration": 3,
    "start_time": "2021-11-17T21:38:48.896Z"
   },
   {
    "duration": 2,
    "start_time": "2021-11-17T21:38:49.171Z"
   },
   {
    "duration": 4,
    "start_time": "2021-11-17T21:39:57.889Z"
   },
   {
    "duration": 3,
    "start_time": "2021-11-17T21:39:58.057Z"
   },
   {
    "duration": 3,
    "start_time": "2021-11-17T21:41:20.108Z"
   },
   {
    "duration": 3,
    "start_time": "2021-11-17T21:41:20.629Z"
   },
   {
    "duration": 3,
    "start_time": "2021-11-17T21:42:49.136Z"
   },
   {
    "duration": 3,
    "start_time": "2021-11-17T21:43:15.137Z"
   },
   {
    "duration": 4,
    "start_time": "2021-11-17T21:43:16.766Z"
   },
   {
    "duration": 4,
    "start_time": "2021-11-17T21:43:31.711Z"
   },
   {
    "duration": 3,
    "start_time": "2021-11-17T21:43:36.312Z"
   },
   {
    "duration": 4,
    "start_time": "2021-11-17T21:45:08.825Z"
   },
   {
    "duration": 4,
    "start_time": "2021-11-17T21:45:10.119Z"
   },
   {
    "duration": 4,
    "start_time": "2021-11-17T21:45:13.748Z"
   },
   {
    "duration": 3,
    "start_time": "2021-11-17T21:45:22.219Z"
   },
   {
    "duration": 3,
    "start_time": "2021-11-17T21:45:33.412Z"
   },
   {
    "duration": 2,
    "start_time": "2021-11-17T21:46:01.885Z"
   },
   {
    "duration": 3,
    "start_time": "2021-11-17T21:46:03.628Z"
   },
   {
    "duration": 107,
    "start_time": "2021-11-17T21:47:32.512Z"
   },
   {
    "duration": 103,
    "start_time": "2021-11-17T21:50:36.243Z"
   },
   {
    "duration": 3,
    "start_time": "2021-11-18T06:28:31.440Z"
   },
   {
    "duration": 3,
    "start_time": "2021-11-18T06:29:00.168Z"
   },
   {
    "duration": 3,
    "start_time": "2021-11-18T06:31:27.008Z"
   },
   {
    "duration": 2,
    "start_time": "2021-11-18T06:35:34.288Z"
   },
   {
    "duration": 2,
    "start_time": "2021-11-18T06:38:04.527Z"
   },
   {
    "duration": 301,
    "start_time": "2024-11-06T19:00:58.392Z"
   },
   {
    "duration": 5,
    "start_time": "2024-11-06T19:02:37.513Z"
   },
   {
    "duration": 175,
    "start_time": "2024-11-06T19:02:41.974Z"
   },
   {
    "duration": 4,
    "start_time": "2024-11-06T19:02:49.114Z"
   },
   {
    "duration": 84,
    "start_time": "2024-11-06T19:02:56.292Z"
   },
   {
    "duration": 65,
    "start_time": "2024-11-06T19:02:58.951Z"
   },
   {
    "duration": 217,
    "start_time": "2024-11-06T19:04:20.980Z"
   },
   {
    "duration": 153,
    "start_time": "2024-11-06T19:04:23.485Z"
   },
   {
    "duration": 3,
    "start_time": "2024-11-06T19:05:58.815Z"
   },
   {
    "duration": 3,
    "start_time": "2024-11-06T19:06:01.338Z"
   },
   {
    "duration": 3,
    "start_time": "2024-11-06T19:06:29.966Z"
   },
   {
    "duration": 37,
    "start_time": "2024-11-06T19:06:41.441Z"
   },
   {
    "duration": 2,
    "start_time": "2024-11-06T19:06:50.617Z"
   },
   {
    "duration": 36,
    "start_time": "2024-11-06T19:06:52.142Z"
   },
   {
    "duration": 3,
    "start_time": "2024-11-06T19:07:48.912Z"
   },
   {
    "duration": 36,
    "start_time": "2024-11-06T19:07:51.388Z"
   },
   {
    "duration": 4,
    "start_time": "2024-11-06T19:08:12.369Z"
   },
   {
    "duration": 3,
    "start_time": "2024-11-06T19:08:21.669Z"
   },
   {
    "duration": 44,
    "start_time": "2024-11-06T19:08:23.845Z"
   },
   {
    "duration": 148,
    "start_time": "2024-11-06T19:09:29.419Z"
   },
   {
    "duration": 4,
    "start_time": "2024-11-06T19:11:29.984Z"
   },
   {
    "duration": 8,
    "start_time": "2024-11-06T19:11:44.712Z"
   },
   {
    "duration": 4,
    "start_time": "2024-11-06T19:12:04.457Z"
   },
   {
    "duration": 4,
    "start_time": "2024-11-06T19:13:08.306Z"
   },
   {
    "duration": 4,
    "start_time": "2024-11-06T19:13:20.394Z"
   },
   {
    "duration": 20,
    "start_time": "2024-11-06T19:13:22.988Z"
   },
   {
    "duration": 17,
    "start_time": "2024-11-06T19:13:28.952Z"
   },
   {
    "duration": 17,
    "start_time": "2024-11-06T19:13:30.029Z"
   },
   {
    "duration": 3,
    "start_time": "2024-11-06T19:13:38.353Z"
   },
   {
    "duration": 36,
    "start_time": "2024-11-06T19:13:40.236Z"
   },
   {
    "duration": 4,
    "start_time": "2024-11-06T19:14:35.959Z"
   },
   {
    "duration": 37,
    "start_time": "2024-11-06T19:14:39.098Z"
   },
   {
    "duration": 3,
    "start_time": "2024-11-06T19:19:41.065Z"
   },
   {
    "duration": 45,
    "start_time": "2024-11-06T19:19:42.582Z"
   },
   {
    "duration": 4,
    "start_time": "2024-11-06T19:20:49.548Z"
   },
   {
    "duration": 38,
    "start_time": "2024-11-06T19:20:51.321Z"
   },
   {
    "duration": 3,
    "start_time": "2024-11-06T19:21:31.455Z"
   },
   {
    "duration": 38,
    "start_time": "2024-11-06T19:21:34.726Z"
   },
   {
    "duration": 39,
    "start_time": "2024-11-06T19:22:34.388Z"
   },
   {
    "duration": 38,
    "start_time": "2024-11-06T19:23:59.259Z"
   },
   {
    "duration": 3,
    "start_time": "2024-11-06T19:25:45.232Z"
   },
   {
    "duration": 48,
    "start_time": "2024-11-06T19:25:48.362Z"
   },
   {
    "duration": 3,
    "start_time": "2024-11-06T19:26:27.948Z"
   },
   {
    "duration": 39,
    "start_time": "2024-11-06T19:26:30.353Z"
   },
   {
    "duration": 3,
    "start_time": "2024-11-06T19:27:11.139Z"
   },
   {
    "duration": 46,
    "start_time": "2024-11-06T19:27:15.074Z"
   },
   {
    "duration": 3,
    "start_time": "2024-11-06T19:33:14.635Z"
   },
   {
    "duration": 50,
    "start_time": "2024-11-06T19:33:17.947Z"
   },
   {
    "duration": 47,
    "start_time": "2024-11-06T19:34:20.418Z"
   },
   {
    "duration": 28,
    "start_time": "2024-11-06T19:34:45.850Z"
   },
   {
    "duration": 16,
    "start_time": "2024-11-06T19:35:29.064Z"
   },
   {
    "duration": 12,
    "start_time": "2024-11-06T19:35:30.293Z"
   },
   {
    "duration": 13,
    "start_time": "2024-11-06T19:35:43.463Z"
   },
   {
    "duration": 8,
    "start_time": "2024-11-06T19:40:29.377Z"
   },
   {
    "duration": 10,
    "start_time": "2024-11-06T19:40:53.742Z"
   },
   {
    "duration": 3,
    "start_time": "2024-11-06T19:45:09.658Z"
   },
   {
    "duration": 154,
    "start_time": "2024-11-06T22:13:18.565Z"
   },
   {
    "duration": 299,
    "start_time": "2024-11-06T22:13:32.372Z"
   },
   {
    "duration": 213,
    "start_time": "2024-11-06T22:13:32.673Z"
   },
   {
    "duration": 4,
    "start_time": "2024-11-06T22:13:32.889Z"
   },
   {
    "duration": 57,
    "start_time": "2024-11-06T22:13:32.895Z"
   },
   {
    "duration": 59,
    "start_time": "2024-11-06T22:13:32.955Z"
   },
   {
    "duration": 28,
    "start_time": "2024-11-06T22:13:33.016Z"
   },
   {
    "duration": 11,
    "start_time": "2024-11-06T22:13:33.045Z"
   },
   {
    "duration": 12,
    "start_time": "2024-11-06T22:13:33.058Z"
   },
   {
    "duration": 7,
    "start_time": "2024-11-06T22:13:33.071Z"
   },
   {
    "duration": 11,
    "start_time": "2024-11-06T22:13:33.109Z"
   },
   {
    "duration": 2,
    "start_time": "2024-11-06T22:13:33.122Z"
   },
   {
    "duration": 4,
    "start_time": "2024-11-06T22:13:33.126Z"
   },
   {
    "duration": 3,
    "start_time": "2024-11-06T22:13:33.132Z"
   },
   {
    "duration": 1,
    "start_time": "2024-11-06T22:13:33.139Z"
   },
   {
    "duration": 4,
    "start_time": "2024-11-06T22:13:33.142Z"
   },
   {
    "duration": 4,
    "start_time": "2024-11-06T22:13:33.147Z"
   },
   {
    "duration": 4,
    "start_time": "2024-11-06T22:13:33.152Z"
   },
   {
    "duration": 3,
    "start_time": "2024-11-06T22:13:33.157Z"
   },
   {
    "duration": 5,
    "start_time": "2024-11-06T22:13:33.162Z"
   },
   {
    "duration": 43,
    "start_time": "2024-11-06T22:13:33.169Z"
   },
   {
    "duration": 3,
    "start_time": "2024-11-06T22:13:33.214Z"
   },
   {
    "duration": 3,
    "start_time": "2024-11-06T22:13:33.219Z"
   },
   {
    "duration": 4,
    "start_time": "2024-11-06T22:13:33.223Z"
   },
   {
    "duration": 2,
    "start_time": "2024-11-06T22:13:33.229Z"
   },
   {
    "duration": 3,
    "start_time": "2024-11-06T22:13:33.233Z"
   },
   {
    "duration": 2,
    "start_time": "2024-11-06T22:13:33.239Z"
   },
   {
    "duration": 3,
    "start_time": "2024-11-06T22:13:33.242Z"
   },
   {
    "duration": 3,
    "start_time": "2024-11-06T22:13:33.246Z"
   },
   {
    "duration": 3,
    "start_time": "2024-11-06T22:13:33.251Z"
   },
   {
    "duration": 3,
    "start_time": "2024-11-06T22:13:33.255Z"
   },
   {
    "duration": 3,
    "start_time": "2024-11-06T22:13:33.260Z"
   },
   {
    "duration": 4,
    "start_time": "2024-11-06T22:13:33.264Z"
   },
   {
    "duration": 40,
    "start_time": "2024-11-06T22:13:33.269Z"
   },
   {
    "duration": 3,
    "start_time": "2024-11-06T22:13:33.311Z"
   },
   {
    "duration": 3,
    "start_time": "2024-11-06T22:13:33.316Z"
   },
   {
    "duration": 4,
    "start_time": "2024-11-06T22:13:33.321Z"
   },
   {
    "duration": 3,
    "start_time": "2024-11-06T22:13:40.220Z"
   },
   {
    "duration": 4,
    "start_time": "2024-11-06T22:14:00.441Z"
   },
   {
    "duration": 13,
    "start_time": "2024-11-06T22:14:06.413Z"
   },
   {
    "duration": 4,
    "start_time": "2024-11-06T22:17:05.277Z"
   },
   {
    "duration": 8,
    "start_time": "2024-11-06T22:17:15.216Z"
   },
   {
    "duration": 502,
    "start_time": "2024-11-06T22:21:57.850Z"
   },
   {
    "duration": 3,
    "start_time": "2024-11-06T22:22:08.515Z"
   },
   {
    "duration": 4,
    "start_time": "2024-11-06T22:22:16.587Z"
   },
   {
    "duration": 8,
    "start_time": "2024-11-06T22:22:19.166Z"
   },
   {
    "duration": 10,
    "start_time": "2024-11-06T22:25:59.160Z"
   },
   {
    "duration": 6,
    "start_time": "2024-11-06T22:26:32.930Z"
   },
   {
    "duration": 5,
    "start_time": "2024-11-06T22:26:46.972Z"
   },
   {
    "duration": 3,
    "start_time": "2024-11-06T22:29:30.177Z"
   },
   {
    "duration": 5,
    "start_time": "2024-11-06T22:29:45.576Z"
   },
   {
    "duration": 9,
    "start_time": "2024-11-06T22:29:56.321Z"
   },
   {
    "duration": 3,
    "start_time": "2024-11-06T22:43:23.074Z"
   },
   {
    "duration": 4,
    "start_time": "2024-11-06T22:43:29.376Z"
   },
   {
    "duration": 9,
    "start_time": "2024-11-06T22:43:32.865Z"
   },
   {
    "duration": 3,
    "start_time": "2024-11-06T22:44:00.778Z"
   },
   {
    "duration": 4,
    "start_time": "2024-11-06T22:44:06.535Z"
   },
   {
    "duration": 8,
    "start_time": "2024-11-06T22:44:07.980Z"
   },
   {
    "duration": 3,
    "start_time": "2024-11-06T22:44:40.425Z"
   },
   {
    "duration": 4,
    "start_time": "2024-11-06T22:44:43.504Z"
   },
   {
    "duration": 9,
    "start_time": "2024-11-06T22:44:46.143Z"
   },
   {
    "duration": 8,
    "start_time": "2024-11-06T22:44:51.694Z"
   },
   {
    "duration": 3,
    "start_time": "2024-11-06T22:45:02.365Z"
   },
   {
    "duration": 167,
    "start_time": "2024-11-06T22:45:02.371Z"
   },
   {
    "duration": 4,
    "start_time": "2024-11-06T22:45:02.540Z"
   },
   {
    "duration": 53,
    "start_time": "2024-11-06T22:45:02.546Z"
   },
   {
    "duration": 50,
    "start_time": "2024-11-06T22:45:02.608Z"
   },
   {
    "duration": 27,
    "start_time": "2024-11-06T22:45:02.660Z"
   },
   {
    "duration": 30,
    "start_time": "2024-11-06T22:45:02.689Z"
   },
   {
    "duration": 12,
    "start_time": "2024-11-06T22:45:02.721Z"
   },
   {
    "duration": 7,
    "start_time": "2024-11-06T22:45:02.736Z"
   },
   {
    "duration": 8,
    "start_time": "2024-11-06T22:45:02.745Z"
   },
   {
    "duration": 4,
    "start_time": "2024-11-06T22:45:02.756Z"
   },
   {
    "duration": 4,
    "start_time": "2024-11-06T22:45:02.762Z"
   },
   {
    "duration": 40,
    "start_time": "2024-11-06T22:45:02.768Z"
   },
   {
    "duration": 6,
    "start_time": "2024-11-06T22:45:02.811Z"
   },
   {
    "duration": 3,
    "start_time": "2024-11-06T22:45:11.663Z"
   },
   {
    "duration": 159,
    "start_time": "2024-11-06T22:45:11.668Z"
   },
   {
    "duration": 3,
    "start_time": "2024-11-06T22:45:11.829Z"
   },
   {
    "duration": 46,
    "start_time": "2024-11-06T22:45:11.835Z"
   },
   {
    "duration": 54,
    "start_time": "2024-11-06T22:45:11.883Z"
   },
   {
    "duration": 31,
    "start_time": "2024-11-06T22:45:11.939Z"
   },
   {
    "duration": 13,
    "start_time": "2024-11-06T22:45:11.972Z"
   },
   {
    "duration": 33,
    "start_time": "2024-11-06T22:45:11.987Z"
   },
   {
    "duration": 8,
    "start_time": "2024-11-06T22:45:12.022Z"
   },
   {
    "duration": 7,
    "start_time": "2024-11-06T22:45:12.033Z"
   },
   {
    "duration": 5,
    "start_time": "2024-11-06T22:45:12.042Z"
   },
   {
    "duration": 5,
    "start_time": "2024-11-06T22:45:12.049Z"
   },
   {
    "duration": 4,
    "start_time": "2024-11-06T22:45:12.055Z"
   },
   {
    "duration": 7,
    "start_time": "2024-11-06T22:45:12.060Z"
   },
   {
    "duration": 47,
    "start_time": "2024-11-06T22:45:12.069Z"
   },
   {
    "duration": 4,
    "start_time": "2024-11-06T22:45:56.558Z"
   },
   {
    "duration": 3,
    "start_time": "2024-11-06T22:46:43.301Z"
   },
   {
    "duration": 156,
    "start_time": "2024-11-06T22:46:43.306Z"
   },
   {
    "duration": 4,
    "start_time": "2024-11-06T22:46:43.464Z"
   },
   {
    "duration": 54,
    "start_time": "2024-11-06T22:46:43.470Z"
   },
   {
    "duration": 49,
    "start_time": "2024-11-06T22:46:43.526Z"
   },
   {
    "duration": 44,
    "start_time": "2024-11-06T22:46:43.577Z"
   },
   {
    "duration": 11,
    "start_time": "2024-11-06T22:46:43.623Z"
   },
   {
    "duration": 12,
    "start_time": "2024-11-06T22:46:43.636Z"
   },
   {
    "duration": 7,
    "start_time": "2024-11-06T22:46:43.651Z"
   },
   {
    "duration": 8,
    "start_time": "2024-11-06T22:46:43.660Z"
   },
   {
    "duration": 5,
    "start_time": "2024-11-06T22:46:43.669Z"
   },
   {
    "duration": 38,
    "start_time": "2024-11-06T22:46:43.676Z"
   },
   {
    "duration": 4,
    "start_time": "2024-11-06T22:46:43.717Z"
   },
   {
    "duration": 6,
    "start_time": "2024-11-06T22:46:43.723Z"
   },
   {
    "duration": 8,
    "start_time": "2024-11-06T22:46:43.731Z"
   },
   {
    "duration": 7,
    "start_time": "2024-11-06T22:48:05.259Z"
   },
   {
    "duration": 14,
    "start_time": "2024-11-06T22:48:19.906Z"
   },
   {
    "duration": 3,
    "start_time": "2024-11-06T22:48:45.893Z"
   },
   {
    "duration": 5,
    "start_time": "2024-11-06T22:48:48.039Z"
   },
   {
    "duration": 8,
    "start_time": "2024-11-06T22:48:49.853Z"
   },
   {
    "duration": 3,
    "start_time": "2024-11-06T22:52:10.239Z"
   },
   {
    "duration": 4,
    "start_time": "2024-11-06T22:52:13.761Z"
   },
   {
    "duration": 5,
    "start_time": "2024-11-06T22:52:15.363Z"
   },
   {
    "duration": 9,
    "start_time": "2024-11-06T22:52:16.610Z"
   },
   {
    "duration": 8,
    "start_time": "2024-11-06T22:52:27.440Z"
   },
   {
    "duration": 8,
    "start_time": "2024-11-06T22:53:09.972Z"
   },
   {
    "duration": 5,
    "start_time": "2024-11-06T22:56:58.054Z"
   },
   {
    "duration": 4,
    "start_time": "2024-11-06T22:58:06.205Z"
   },
   {
    "duration": 14,
    "start_time": "2024-11-06T22:58:12.113Z"
   },
   {
    "duration": 501,
    "start_time": "2024-11-06T22:59:02.517Z"
   },
   {
    "duration": 14,
    "start_time": "2024-11-06T22:59:11.762Z"
   },
   {
    "duration": 4,
    "start_time": "2024-11-06T22:59:27.680Z"
   },
   {
    "duration": 12,
    "start_time": "2024-11-06T23:00:16.944Z"
   },
   {
    "duration": 3,
    "start_time": "2024-11-06T23:04:27.564Z"
   },
   {
    "duration": 8,
    "start_time": "2024-11-06T23:04:37.501Z"
   },
   {
    "duration": 2,
    "start_time": "2024-11-06T23:04:58.213Z"
   },
   {
    "duration": 12,
    "start_time": "2024-11-06T23:05:07.258Z"
   },
   {
    "duration": 10,
    "start_time": "2024-11-06T23:06:17.612Z"
   },
   {
    "duration": 2,
    "start_time": "2024-11-06T23:13:53.074Z"
   },
   {
    "duration": 213,
    "start_time": "2024-11-06T23:14:47.430Z"
   },
   {
    "duration": 106,
    "start_time": "2024-11-06T23:15:03.853Z"
   },
   {
    "duration": 12,
    "start_time": "2024-11-06T23:15:25.090Z"
   },
   {
    "duration": 11,
    "start_time": "2024-11-06T23:16:19.552Z"
   },
   {
    "duration": 11,
    "start_time": "2024-11-06T23:16:33.190Z"
   },
   {
    "duration": 6,
    "start_time": "2024-11-06T23:18:05.653Z"
   },
   {
    "duration": 13,
    "start_time": "2024-11-06T23:37:30.039Z"
   },
   {
    "duration": 13,
    "start_time": "2024-11-06T23:37:59.038Z"
   },
   {
    "duration": 12,
    "start_time": "2024-11-06T23:38:11.280Z"
   },
   {
    "duration": 12,
    "start_time": "2024-11-06T23:38:40.589Z"
   },
   {
    "duration": 14,
    "start_time": "2024-11-06T23:39:13.014Z"
   },
   {
    "duration": 13,
    "start_time": "2024-11-06T23:39:16.361Z"
   },
   {
    "duration": 6,
    "start_time": "2024-11-06T23:39:33.455Z"
   },
   {
    "duration": 10,
    "start_time": "2024-11-06T23:39:44.351Z"
   },
   {
    "duration": 9,
    "start_time": "2024-11-06T23:40:13.226Z"
   },
   {
    "duration": 13,
    "start_time": "2024-11-06T23:42:31.544Z"
   },
   {
    "duration": 20,
    "start_time": "2024-11-06T23:42:36.433Z"
   },
   {
    "duration": 2,
    "start_time": "2024-11-06T23:44:23.038Z"
   },
   {
    "duration": 12,
    "start_time": "2024-11-06T23:44:27.386Z"
   },
   {
    "duration": 21,
    "start_time": "2024-11-06T23:45:09.174Z"
   },
   {
    "duration": 12,
    "start_time": "2024-11-06T23:45:11.212Z"
   },
   {
    "duration": 11,
    "start_time": "2024-11-06T23:46:09.845Z"
   },
   {
    "duration": 22,
    "start_time": "2024-11-06T23:46:11.375Z"
   },
   {
    "duration": 7,
    "start_time": "2024-11-06T23:46:28.156Z"
   },
   {
    "duration": 12,
    "start_time": "2024-11-06T23:46:31.403Z"
   },
   {
    "duration": 12,
    "start_time": "2024-11-06T23:46:40.065Z"
   },
   {
    "duration": 4,
    "start_time": "2024-11-06T23:46:43.220Z"
   },
   {
    "duration": 13,
    "start_time": "2024-11-06T23:47:03.461Z"
   },
   {
    "duration": 5,
    "start_time": "2024-11-06T23:47:05.903Z"
   },
   {
    "duration": 5,
    "start_time": "2024-11-06T23:47:16.275Z"
   },
   {
    "duration": 4,
    "start_time": "2024-11-06T23:47:23.845Z"
   },
   {
    "duration": 8,
    "start_time": "2024-11-06T23:47:58.898Z"
   },
   {
    "duration": 3,
    "start_time": "2024-11-06T23:48:49.916Z"
   },
   {
    "duration": 8,
    "start_time": "2024-11-06T23:48:54.736Z"
   },
   {
    "duration": 10,
    "start_time": "2024-11-06T23:49:04.935Z"
   },
   {
    "duration": 8,
    "start_time": "2024-11-06T23:49:12.570Z"
   },
   {
    "duration": 3,
    "start_time": "2024-11-06T23:51:49.975Z"
   },
   {
    "duration": 7,
    "start_time": "2024-11-06T23:52:06.049Z"
   },
   {
    "duration": 8,
    "start_time": "2024-11-06T23:52:08.704Z"
   },
   {
    "duration": 8,
    "start_time": "2024-11-06T23:52:13.176Z"
   },
   {
    "duration": 6,
    "start_time": "2024-11-06T23:52:25.035Z"
   },
   {
    "duration": 8,
    "start_time": "2024-11-06T23:53:11.345Z"
   },
   {
    "duration": 8,
    "start_time": "2024-11-06T23:53:24.774Z"
   },
   {
    "duration": 8,
    "start_time": "2024-11-06T23:54:36.888Z"
   },
   {
    "duration": 3,
    "start_time": "2024-11-06T23:55:13.655Z"
   },
   {
    "duration": 8,
    "start_time": "2024-11-06T23:55:23.288Z"
   },
   {
    "duration": 8,
    "start_time": "2024-11-06T23:57:52.753Z"
   },
   {
    "duration": 10,
    "start_time": "2024-11-06T23:58:27.075Z"
   },
   {
    "duration": 9,
    "start_time": "2024-11-06T23:58:52.723Z"
   },
   {
    "duration": 8,
    "start_time": "2024-11-06T23:59:43.109Z"
   },
   {
    "duration": 3,
    "start_time": "2024-11-07T00:00:49.346Z"
   },
   {
    "duration": 4,
    "start_time": "2024-11-07T00:01:11.710Z"
   },
   {
    "duration": 5,
    "start_time": "2024-11-07T00:01:54.428Z"
   },
   {
    "duration": 3,
    "start_time": "2024-11-07T00:02:09.736Z"
   },
   {
    "duration": 3,
    "start_time": "2024-11-07T00:02:12.880Z"
   },
   {
    "duration": 2,
    "start_time": "2024-11-07T00:02:44.973Z"
   },
   {
    "duration": 3,
    "start_time": "2024-11-07T00:02:54.889Z"
   },
   {
    "duration": 5,
    "start_time": "2024-11-07T00:08:44.707Z"
   },
   {
    "duration": 3,
    "start_time": "2024-11-07T00:09:03.585Z"
   },
   {
    "duration": 4,
    "start_time": "2024-11-07T00:09:57.673Z"
   },
   {
    "duration": 12,
    "start_time": "2024-11-07T00:10:16.356Z"
   },
   {
    "duration": 3,
    "start_time": "2024-11-07T00:10:55.467Z"
   },
   {
    "duration": 188,
    "start_time": "2024-11-07T00:10:55.475Z"
   },
   {
    "duration": 4,
    "start_time": "2024-11-07T00:10:55.665Z"
   },
   {
    "duration": 62,
    "start_time": "2024-11-07T00:10:55.671Z"
   },
   {
    "duration": 52,
    "start_time": "2024-11-07T00:10:55.736Z"
   },
   {
    "duration": 46,
    "start_time": "2024-11-07T00:10:55.790Z"
   },
   {
    "duration": 11,
    "start_time": "2024-11-07T00:10:55.837Z"
   },
   {
    "duration": 13,
    "start_time": "2024-11-07T00:10:55.849Z"
   },
   {
    "duration": 10,
    "start_time": "2024-11-07T00:10:55.864Z"
   },
   {
    "duration": 38,
    "start_time": "2024-11-07T00:10:55.876Z"
   },
   {
    "duration": 5,
    "start_time": "2024-11-07T00:10:55.919Z"
   },
   {
    "duration": 10,
    "start_time": "2024-11-07T00:10:55.926Z"
   },
   {
    "duration": 10,
    "start_time": "2024-11-07T00:10:55.938Z"
   },
   {
    "duration": 3,
    "start_time": "2024-11-07T00:10:55.951Z"
   },
   {
    "duration": 4,
    "start_time": "2024-11-07T00:10:55.956Z"
   },
   {
    "duration": 6,
    "start_time": "2024-11-07T00:10:55.961Z"
   },
   {
    "duration": 41,
    "start_time": "2024-11-07T00:10:55.969Z"
   },
   {
    "duration": 9,
    "start_time": "2024-11-07T00:10:56.013Z"
   },
   {
    "duration": 9,
    "start_time": "2024-11-07T00:10:56.024Z"
   },
   {
    "duration": 4,
    "start_time": "2024-11-07T00:10:56.034Z"
   },
   {
    "duration": 2,
    "start_time": "2024-11-07T00:10:56.040Z"
   },
   {
    "duration": 13,
    "start_time": "2024-11-07T00:10:56.044Z"
   },
   {
    "duration": 8,
    "start_time": "2024-11-07T00:10:56.059Z"
   },
   {
    "duration": 3,
    "start_time": "2024-11-07T00:10:56.109Z"
   },
   {
    "duration": 115,
    "start_time": "2024-11-07T00:10:56.113Z"
   },
   {
    "duration": 11,
    "start_time": "2024-11-07T00:10:56.230Z"
   },
   {
    "duration": 9,
    "start_time": "2024-11-07T00:10:56.243Z"
   },
   {
    "duration": 6,
    "start_time": "2024-11-07T00:10:56.254Z"
   },
   {
    "duration": 5,
    "start_time": "2024-11-07T00:10:56.264Z"
   },
   {
    "duration": 5,
    "start_time": "2024-11-07T00:10:56.270Z"
   },
   {
    "duration": 43,
    "start_time": "2024-11-07T00:10:56.276Z"
   },
   {
    "duration": 7,
    "start_time": "2024-11-07T00:10:56.320Z"
   },
   {
    "duration": 6,
    "start_time": "2024-11-07T00:10:56.329Z"
   },
   {
    "duration": 3,
    "start_time": "2024-11-07T00:10:56.337Z"
   },
   {
    "duration": 21,
    "start_time": "2024-11-07T00:10:56.342Z"
   },
   {
    "duration": 42,
    "start_time": "2024-11-07T00:10:56.367Z"
   },
   {
    "duration": 3,
    "start_time": "2024-11-07T00:10:56.411Z"
   },
   {
    "duration": 4,
    "start_time": "2024-11-07T00:10:56.416Z"
   },
   {
    "duration": 8,
    "start_time": "2024-11-07T00:11:05.595Z"
   },
   {
    "duration": 3,
    "start_time": "2024-11-07T00:11:22.085Z"
   },
   {
    "duration": 3,
    "start_time": "2024-11-07T00:11:33.149Z"
   },
   {
    "duration": 7,
    "start_time": "2024-11-07T00:11:50.333Z"
   },
   {
    "duration": 4,
    "start_time": "2024-11-07T00:12:00.492Z"
   },
   {
    "duration": 4,
    "start_time": "2024-11-07T00:12:02.658Z"
   },
   {
    "duration": 3,
    "start_time": "2024-11-07T00:13:22.596Z"
   },
   {
    "duration": 4,
    "start_time": "2024-11-07T00:15:37.026Z"
   },
   {
    "duration": 4,
    "start_time": "2024-11-07T00:16:41.115Z"
   },
   {
    "duration": 7,
    "start_time": "2024-11-07T00:17:33.632Z"
   },
   {
    "duration": 3,
    "start_time": "2024-11-07T00:18:09.080Z"
   },
   {
    "duration": 186,
    "start_time": "2024-11-07T00:18:09.086Z"
   },
   {
    "duration": 4,
    "start_time": "2024-11-07T00:18:09.274Z"
   },
   {
    "duration": 78,
    "start_time": "2024-11-07T00:18:09.279Z"
   },
   {
    "duration": 69,
    "start_time": "2024-11-07T00:18:09.360Z"
   },
   {
    "duration": 40,
    "start_time": "2024-11-07T00:18:09.431Z"
   },
   {
    "duration": 13,
    "start_time": "2024-11-07T00:18:09.473Z"
   },
   {
    "duration": 32,
    "start_time": "2024-11-07T00:18:09.488Z"
   },
   {
    "duration": 8,
    "start_time": "2024-11-07T00:18:09.522Z"
   },
   {
    "duration": 9,
    "start_time": "2024-11-07T00:18:09.532Z"
   },
   {
    "duration": 4,
    "start_time": "2024-11-07T00:18:09.545Z"
   },
   {
    "duration": 9,
    "start_time": "2024-11-07T00:18:09.551Z"
   },
   {
    "duration": 10,
    "start_time": "2024-11-07T00:18:09.564Z"
   },
   {
    "duration": 37,
    "start_time": "2024-11-07T00:18:09.575Z"
   },
   {
    "duration": 3,
    "start_time": "2024-11-07T00:18:09.615Z"
   },
   {
    "duration": 4,
    "start_time": "2024-11-07T00:18:09.620Z"
   },
   {
    "duration": 10,
    "start_time": "2024-11-07T00:18:09.626Z"
   },
   {
    "duration": 9,
    "start_time": "2024-11-07T00:18:09.638Z"
   },
   {
    "duration": 9,
    "start_time": "2024-11-07T00:18:09.649Z"
   },
   {
    "duration": 6,
    "start_time": "2024-11-07T00:18:09.660Z"
   },
   {
    "duration": 5,
    "start_time": "2024-11-07T00:18:09.668Z"
   },
   {
    "duration": 50,
    "start_time": "2024-11-07T00:18:09.675Z"
   },
   {
    "duration": 9,
    "start_time": "2024-11-07T00:18:09.729Z"
   },
   {
    "duration": 2,
    "start_time": "2024-11-07T00:18:09.740Z"
   },
   {
    "duration": 139,
    "start_time": "2024-11-07T00:18:09.744Z"
   },
   {
    "duration": 12,
    "start_time": "2024-11-07T00:18:09.884Z"
   },
   {
    "duration": 18,
    "start_time": "2024-11-07T00:18:09.897Z"
   },
   {
    "duration": 6,
    "start_time": "2024-11-07T00:18:09.917Z"
   },
   {
    "duration": 4,
    "start_time": "2024-11-07T00:18:09.931Z"
   },
   {
    "duration": 4,
    "start_time": "2024-11-07T00:18:09.937Z"
   },
   {
    "duration": 11,
    "start_time": "2024-11-07T00:18:09.943Z"
   },
   {
    "duration": 7,
    "start_time": "2024-11-07T00:18:09.955Z"
   },
   {
    "duration": 6,
    "start_time": "2024-11-07T00:18:09.963Z"
   },
   {
    "duration": 40,
    "start_time": "2024-11-07T00:18:09.971Z"
   },
   {
    "duration": 22,
    "start_time": "2024-11-07T00:18:10.014Z"
   },
   {
    "duration": 10,
    "start_time": "2024-11-07T00:18:10.038Z"
   },
   {
    "duration": 3,
    "start_time": "2024-11-07T00:18:10.050Z"
   },
   {
    "duration": 8,
    "start_time": "2024-11-07T00:18:14.520Z"
   },
   {
    "duration": 2,
    "start_time": "2024-11-07T00:18:27.127Z"
   },
   {
    "duration": 195,
    "start_time": "2024-11-07T00:18:27.131Z"
   },
   {
    "duration": 4,
    "start_time": "2024-11-07T00:18:27.328Z"
   },
   {
    "duration": 56,
    "start_time": "2024-11-07T00:18:27.333Z"
   },
   {
    "duration": 63,
    "start_time": "2024-11-07T00:18:27.391Z"
   },
   {
    "duration": 28,
    "start_time": "2024-11-07T00:18:27.456Z"
   },
   {
    "duration": 26,
    "start_time": "2024-11-07T00:18:27.486Z"
   },
   {
    "duration": 15,
    "start_time": "2024-11-07T00:18:27.514Z"
   },
   {
    "duration": 9,
    "start_time": "2024-11-07T00:18:27.531Z"
   },
   {
    "duration": 7,
    "start_time": "2024-11-07T00:18:27.542Z"
   },
   {
    "duration": 4,
    "start_time": "2024-11-07T00:18:27.553Z"
   },
   {
    "duration": 9,
    "start_time": "2024-11-07T00:18:27.558Z"
   },
   {
    "duration": 40,
    "start_time": "2024-11-07T00:18:27.569Z"
   },
   {
    "duration": 6,
    "start_time": "2024-11-07T00:18:27.612Z"
   },
   {
    "duration": 4,
    "start_time": "2024-11-07T00:18:27.619Z"
   },
   {
    "duration": 4,
    "start_time": "2024-11-07T00:18:27.625Z"
   },
   {
    "duration": 8,
    "start_time": "2024-11-07T00:18:27.631Z"
   },
   {
    "duration": 9,
    "start_time": "2024-11-07T00:18:27.640Z"
   },
   {
    "duration": 9,
    "start_time": "2024-11-07T00:18:27.651Z"
   },
   {
    "duration": 5,
    "start_time": "2024-11-07T00:18:27.661Z"
   },
   {
    "duration": 3,
    "start_time": "2024-11-07T00:18:27.668Z"
   },
   {
    "duration": 14,
    "start_time": "2024-11-07T00:18:27.710Z"
   },
   {
    "duration": 8,
    "start_time": "2024-11-07T00:18:27.725Z"
   },
   {
    "duration": 4,
    "start_time": "2024-11-07T00:18:27.734Z"
   },
   {
    "duration": 132,
    "start_time": "2024-11-07T00:18:27.739Z"
   },
   {
    "duration": 11,
    "start_time": "2024-11-07T00:18:27.873Z"
   },
   {
    "duration": 25,
    "start_time": "2024-11-07T00:18:27.887Z"
   },
   {
    "duration": 7,
    "start_time": "2024-11-07T00:18:27.914Z"
   },
   {
    "duration": 4,
    "start_time": "2024-11-07T00:18:27.924Z"
   },
   {
    "duration": 4,
    "start_time": "2024-11-07T00:18:27.930Z"
   },
   {
    "duration": 11,
    "start_time": "2024-11-07T00:18:27.936Z"
   },
   {
    "duration": 7,
    "start_time": "2024-11-07T00:18:27.948Z"
   },
   {
    "duration": 6,
    "start_time": "2024-11-07T00:18:27.956Z"
   },
   {
    "duration": 4,
    "start_time": "2024-11-07T00:18:27.963Z"
   },
   {
    "duration": 21,
    "start_time": "2024-11-07T00:18:28.008Z"
   },
   {
    "duration": 10,
    "start_time": "2024-11-07T00:18:28.031Z"
   },
   {
    "duration": 4,
    "start_time": "2024-11-07T00:18:28.042Z"
   },
   {
    "duration": 7,
    "start_time": "2024-11-07T00:18:28.048Z"
   },
   {
    "duration": 4,
    "start_time": "2024-11-07T00:19:35.915Z"
   },
   {
    "duration": 3,
    "start_time": "2024-11-07T00:19:41.595Z"
   },
   {
    "duration": 8,
    "start_time": "2024-11-07T00:19:43.931Z"
   },
   {
    "duration": 8,
    "start_time": "2024-11-07T00:20:03.261Z"
   },
   {
    "duration": 11,
    "start_time": "2024-11-07T00:22:43.750Z"
   },
   {
    "duration": 3,
    "start_time": "2024-11-07T00:27:02.397Z"
   },
   {
    "duration": 5,
    "start_time": "2024-11-07T00:28:41.648Z"
   },
   {
    "duration": 3,
    "start_time": "2024-11-07T00:28:57.430Z"
   },
   {
    "duration": 3,
    "start_time": "2024-11-07T00:31:13.440Z"
   },
   {
    "duration": 3,
    "start_time": "2024-11-07T00:31:39.605Z"
   },
   {
    "duration": 2,
    "start_time": "2024-11-07T00:31:45.080Z"
   },
   {
    "duration": 225,
    "start_time": "2024-11-07T00:32:50.765Z"
   },
   {
    "duration": 23,
    "start_time": "2024-11-07T00:36:39.387Z"
   },
   {
    "duration": 3,
    "start_time": "2024-11-07T00:37:02.621Z"
   },
   {
    "duration": 27,
    "start_time": "2024-11-07T00:37:05.732Z"
   },
   {
    "duration": 26,
    "start_time": "2024-11-07T00:37:07.295Z"
   },
   {
    "duration": 3,
    "start_time": "2024-11-07T00:38:33.592Z"
   },
   {
    "duration": 27,
    "start_time": "2024-11-07T00:38:35.827Z"
   },
   {
    "duration": 26,
    "start_time": "2024-11-07T00:38:46.808Z"
   },
   {
    "duration": 4,
    "start_time": "2024-11-07T00:41:22.298Z"
   },
   {
    "duration": 15,
    "start_time": "2024-11-07T00:41:29.550Z"
   },
   {
    "duration": 5,
    "start_time": "2024-11-07T00:41:38.496Z"
   },
   {
    "duration": 15,
    "start_time": "2024-11-07T00:41:40.169Z"
   },
   {
    "duration": 3,
    "start_time": "2024-11-07T00:42:13.211Z"
   },
   {
    "duration": 13,
    "start_time": "2024-11-07T00:42:20.402Z"
   },
   {
    "duration": 2,
    "start_time": "2024-11-07T00:42:31.978Z"
   },
   {
    "duration": 156,
    "start_time": "2024-11-07T00:42:31.986Z"
   },
   {
    "duration": 4,
    "start_time": "2024-11-07T00:42:32.144Z"
   },
   {
    "duration": 60,
    "start_time": "2024-11-07T00:42:32.149Z"
   },
   {
    "duration": 49,
    "start_time": "2024-11-07T00:42:32.211Z"
   },
   {
    "duration": 29,
    "start_time": "2024-11-07T00:42:32.261Z"
   },
   {
    "duration": 23,
    "start_time": "2024-11-07T00:42:32.292Z"
   },
   {
    "duration": 12,
    "start_time": "2024-11-07T00:42:32.317Z"
   },
   {
    "duration": 8,
    "start_time": "2024-11-07T00:42:32.331Z"
   },
   {
    "duration": 9,
    "start_time": "2024-11-07T00:42:32.341Z"
   },
   {
    "duration": 3,
    "start_time": "2024-11-07T00:42:32.353Z"
   },
   {
    "duration": 7,
    "start_time": "2024-11-07T00:42:32.358Z"
   },
   {
    "duration": 46,
    "start_time": "2024-11-07T00:42:32.367Z"
   },
   {
    "duration": 3,
    "start_time": "2024-11-07T00:42:32.415Z"
   },
   {
    "duration": 4,
    "start_time": "2024-11-07T00:42:32.419Z"
   },
   {
    "duration": 4,
    "start_time": "2024-11-07T00:42:32.424Z"
   },
   {
    "duration": 9,
    "start_time": "2024-11-07T00:42:32.429Z"
   },
   {
    "duration": 9,
    "start_time": "2024-11-07T00:42:32.439Z"
   },
   {
    "duration": 8,
    "start_time": "2024-11-07T00:42:32.449Z"
   },
   {
    "duration": 4,
    "start_time": "2024-11-07T00:42:32.458Z"
   },
   {
    "duration": 4,
    "start_time": "2024-11-07T00:42:32.464Z"
   },
   {
    "duration": 15,
    "start_time": "2024-11-07T00:42:32.509Z"
   },
   {
    "duration": 15,
    "start_time": "2024-11-07T00:42:50.403Z"
   },
   {
    "duration": 158,
    "start_time": "2024-11-07T18:07:02.757Z"
   },
   {
    "duration": 300,
    "start_time": "2024-11-07T18:07:21.786Z"
   },
   {
    "duration": 219,
    "start_time": "2024-11-07T18:07:22.088Z"
   },
   {
    "duration": 4,
    "start_time": "2024-11-07T18:07:22.308Z"
   },
   {
    "duration": 58,
    "start_time": "2024-11-07T18:07:22.314Z"
   },
   {
    "duration": 69,
    "start_time": "2024-11-07T18:07:22.374Z"
   },
   {
    "duration": 28,
    "start_time": "2024-11-07T18:07:22.445Z"
   },
   {
    "duration": 11,
    "start_time": "2024-11-07T18:07:22.475Z"
   },
   {
    "duration": 30,
    "start_time": "2024-11-07T18:07:22.488Z"
   },
   {
    "duration": 8,
    "start_time": "2024-11-07T18:07:22.520Z"
   },
   {
    "duration": 10,
    "start_time": "2024-11-07T18:07:22.531Z"
   },
   {
    "duration": 4,
    "start_time": "2024-11-07T18:07:22.544Z"
   },
   {
    "duration": 7,
    "start_time": "2024-11-07T18:07:22.550Z"
   },
   {
    "duration": 10,
    "start_time": "2024-11-07T18:07:22.559Z"
   },
   {
    "duration": 38,
    "start_time": "2024-11-07T18:07:22.571Z"
   },
   {
    "duration": 4,
    "start_time": "2024-11-07T18:07:22.611Z"
   },
   {
    "duration": 4,
    "start_time": "2024-11-07T18:07:22.617Z"
   },
   {
    "duration": 9,
    "start_time": "2024-11-07T18:07:22.623Z"
   },
   {
    "duration": 8,
    "start_time": "2024-11-07T18:07:22.634Z"
   },
   {
    "duration": 9,
    "start_time": "2024-11-07T18:07:22.644Z"
   },
   {
    "duration": 3,
    "start_time": "2024-11-07T18:07:22.655Z"
   },
   {
    "duration": 4,
    "start_time": "2024-11-07T18:07:22.660Z"
   },
   {
    "duration": 16,
    "start_time": "2024-11-07T18:07:22.710Z"
   },
   {
    "duration": 12,
    "start_time": "2024-11-07T18:07:22.727Z"
   },
   {
    "duration": 7,
    "start_time": "2024-11-07T18:07:22.741Z"
   },
   {
    "duration": 3,
    "start_time": "2024-11-07T18:07:22.750Z"
   },
   {
    "duration": 142,
    "start_time": "2024-11-07T18:07:22.754Z"
   },
   {
    "duration": 9,
    "start_time": "2024-11-07T18:07:27.213Z"
   },
   {
    "duration": 12,
    "start_time": "2024-11-07T18:07:30.454Z"
   },
   {
    "duration": 6,
    "start_time": "2024-11-07T18:08:59.349Z"
   },
   {
    "duration": 10,
    "start_time": "2024-11-07T18:09:53.532Z"
   },
   {
    "duration": 11,
    "start_time": "2024-11-07T18:10:09.407Z"
   },
   {
    "duration": 5,
    "start_time": "2024-11-07T18:11:16.820Z"
   },
   {
    "duration": 11,
    "start_time": "2024-11-07T18:11:18.338Z"
   },
   {
    "duration": 26,
    "start_time": "2024-11-07T18:11:46.271Z"
   },
   {
    "duration": 11,
    "start_time": "2024-11-07T18:11:52.569Z"
   },
   {
    "duration": 2,
    "start_time": "2024-11-07T18:12:25.166Z"
   },
   {
    "duration": 157,
    "start_time": "2024-11-07T18:12:25.176Z"
   },
   {
    "duration": 4,
    "start_time": "2024-11-07T18:12:25.335Z"
   },
   {
    "duration": 78,
    "start_time": "2024-11-07T18:12:25.341Z"
   },
   {
    "duration": 54,
    "start_time": "2024-11-07T18:12:25.422Z"
   },
   {
    "duration": 51,
    "start_time": "2024-11-07T18:12:25.478Z"
   },
   {
    "duration": 13,
    "start_time": "2024-11-07T18:12:25.531Z"
   },
   {
    "duration": 15,
    "start_time": "2024-11-07T18:12:25.546Z"
   },
   {
    "duration": 13,
    "start_time": "2024-11-07T18:12:25.563Z"
   },
   {
    "duration": 31,
    "start_time": "2024-11-07T18:12:25.578Z"
   },
   {
    "duration": 4,
    "start_time": "2024-11-07T18:12:25.613Z"
   },
   {
    "duration": 8,
    "start_time": "2024-11-07T18:12:25.619Z"
   },
   {
    "duration": 8,
    "start_time": "2024-11-07T18:12:25.632Z"
   },
   {
    "duration": 3,
    "start_time": "2024-11-07T18:12:25.642Z"
   },
   {
    "duration": 4,
    "start_time": "2024-11-07T18:12:25.647Z"
   },
   {
    "duration": 4,
    "start_time": "2024-11-07T18:12:25.653Z"
   },
   {
    "duration": 9,
    "start_time": "2024-11-07T18:12:25.658Z"
   },
   {
    "duration": 42,
    "start_time": "2024-11-07T18:12:25.669Z"
   },
   {
    "duration": 9,
    "start_time": "2024-11-07T18:12:25.713Z"
   },
   {
    "duration": 4,
    "start_time": "2024-11-07T18:12:25.723Z"
   },
   {
    "duration": 3,
    "start_time": "2024-11-07T18:12:25.729Z"
   },
   {
    "duration": 19,
    "start_time": "2024-11-07T18:12:25.736Z"
   },
   {
    "duration": 15,
    "start_time": "2024-11-07T18:12:25.757Z"
   },
   {
    "duration": 10,
    "start_time": "2024-11-07T18:12:25.808Z"
   },
   {
    "duration": 2,
    "start_time": "2024-11-07T18:12:25.821Z"
   },
   {
    "duration": 122,
    "start_time": "2024-11-07T18:12:25.824Z"
   },
   {
    "duration": 8,
    "start_time": "2024-11-07T18:12:25.948Z"
   },
   {
    "duration": 17,
    "start_time": "2024-11-07T18:12:25.958Z"
   },
   {
    "duration": 29,
    "start_time": "2024-11-07T18:12:25.980Z"
   },
   {
    "duration": 7,
    "start_time": "2024-11-07T18:12:26.011Z"
   },
   {
    "duration": 5,
    "start_time": "2024-11-07T18:12:26.021Z"
   },
   {
    "duration": 5,
    "start_time": "2024-11-07T18:12:26.028Z"
   },
   {
    "duration": 6,
    "start_time": "2024-11-07T18:12:26.035Z"
   },
   {
    "duration": 9,
    "start_time": "2024-11-07T18:12:26.043Z"
   },
   {
    "duration": 12,
    "start_time": "2024-11-07T18:12:26.054Z"
   },
   {
    "duration": 43,
    "start_time": "2024-11-07T18:12:26.068Z"
   },
   {
    "duration": 5,
    "start_time": "2024-11-07T18:12:26.114Z"
   },
   {
    "duration": 5,
    "start_time": "2024-11-07T18:12:26.121Z"
   },
   {
    "duration": 27,
    "start_time": "2024-11-07T18:12:26.128Z"
   },
   {
    "duration": 14,
    "start_time": "2024-11-07T18:12:26.157Z"
   },
   {
    "duration": 3,
    "start_time": "2024-11-07T18:12:26.172Z"
   },
   {
    "duration": 8,
    "start_time": "2024-11-07T18:12:26.208Z"
   },
   {
    "duration": 11,
    "start_time": "2024-11-07T18:12:26.218Z"
   },
   {
    "duration": 34,
    "start_time": "2024-11-07T18:14:45.633Z"
   },
   {
    "duration": 5,
    "start_time": "2024-11-07T18:15:31.791Z"
   },
   {
    "duration": 34,
    "start_time": "2024-11-07T18:15:36.752Z"
   },
   {
    "duration": 19,
    "start_time": "2024-11-07T18:16:33.474Z"
   },
   {
    "duration": 9,
    "start_time": "2024-11-07T18:16:48.347Z"
   },
   {
    "duration": 14,
    "start_time": "2024-11-07T18:18:39.075Z"
   },
   {
    "duration": 13,
    "start_time": "2024-11-07T18:18:47.993Z"
   },
   {
    "duration": 14,
    "start_time": "2024-11-07T18:19:32.333Z"
   },
   {
    "duration": 6,
    "start_time": "2024-11-07T18:20:12.448Z"
   },
   {
    "duration": 10,
    "start_time": "2024-11-07T18:20:29.561Z"
   },
   {
    "duration": 5,
    "start_time": "2024-11-07T18:20:50.993Z"
   },
   {
    "duration": 8,
    "start_time": "2024-11-07T18:20:52.928Z"
   },
   {
    "duration": 14,
    "start_time": "2024-11-07T18:24:58.137Z"
   },
   {
    "duration": 17,
    "start_time": "2024-11-07T18:25:30.966Z"
   },
   {
    "duration": 20,
    "start_time": "2024-11-07T18:25:37.645Z"
   },
   {
    "duration": 20,
    "start_time": "2024-11-07T18:26:49.723Z"
   },
   {
    "duration": 20,
    "start_time": "2024-11-07T18:27:44.685Z"
   },
   {
    "duration": 9,
    "start_time": "2024-11-07T18:28:43.101Z"
   },
   {
    "duration": 13,
    "start_time": "2024-11-07T18:29:00.679Z"
   },
   {
    "duration": 18,
    "start_time": "2024-11-07T18:29:45.948Z"
   },
   {
    "duration": 18,
    "start_time": "2024-11-07T18:29:59.731Z"
   },
   {
    "duration": 2,
    "start_time": "2024-11-07T18:30:20.075Z"
   },
   {
    "duration": 173,
    "start_time": "2024-11-07T18:30:20.082Z"
   },
   {
    "duration": 4,
    "start_time": "2024-11-07T18:30:20.257Z"
   },
   {
    "duration": 49,
    "start_time": "2024-11-07T18:30:20.262Z"
   },
   {
    "duration": 48,
    "start_time": "2024-11-07T18:30:20.314Z"
   },
   {
    "duration": 28,
    "start_time": "2024-11-07T18:30:20.364Z"
   },
   {
    "duration": 10,
    "start_time": "2024-11-07T18:30:20.409Z"
   },
   {
    "duration": 11,
    "start_time": "2024-11-07T18:30:20.421Z"
   },
   {
    "duration": 7,
    "start_time": "2024-11-07T18:30:20.434Z"
   },
   {
    "duration": 7,
    "start_time": "2024-11-07T18:30:20.443Z"
   },
   {
    "duration": 4,
    "start_time": "2024-11-07T18:30:20.451Z"
   },
   {
    "duration": 8,
    "start_time": "2024-11-07T18:30:20.456Z"
   },
   {
    "duration": 43,
    "start_time": "2024-11-07T18:30:20.466Z"
   },
   {
    "duration": 2,
    "start_time": "2024-11-07T18:30:20.511Z"
   },
   {
    "duration": 3,
    "start_time": "2024-11-07T18:30:20.517Z"
   },
   {
    "duration": 4,
    "start_time": "2024-11-07T18:30:20.521Z"
   },
   {
    "duration": 8,
    "start_time": "2024-11-07T18:30:20.526Z"
   },
   {
    "duration": 8,
    "start_time": "2024-11-07T18:30:20.536Z"
   },
   {
    "duration": 8,
    "start_time": "2024-11-07T18:30:20.545Z"
   },
   {
    "duration": 4,
    "start_time": "2024-11-07T18:30:20.554Z"
   },
   {
    "duration": 3,
    "start_time": "2024-11-07T18:30:20.560Z"
   },
   {
    "duration": 13,
    "start_time": "2024-11-07T18:30:20.609Z"
   },
   {
    "duration": 12,
    "start_time": "2024-11-07T18:30:20.623Z"
   },
   {
    "duration": 6,
    "start_time": "2024-11-07T18:30:20.638Z"
   },
   {
    "duration": 3,
    "start_time": "2024-11-07T18:30:20.645Z"
   },
   {
    "duration": 127,
    "start_time": "2024-11-07T18:30:20.650Z"
   },
   {
    "duration": 7,
    "start_time": "2024-11-07T18:30:20.779Z"
   },
   {
    "duration": 22,
    "start_time": "2024-11-07T18:30:20.788Z"
   },
   {
    "duration": 10,
    "start_time": "2024-11-07T18:30:20.811Z"
   },
   {
    "duration": 6,
    "start_time": "2024-11-07T18:30:20.822Z"
   },
   {
    "duration": 5,
    "start_time": "2024-11-07T18:30:20.829Z"
   },
   {
    "duration": 4,
    "start_time": "2024-11-07T18:30:20.835Z"
   },
   {
    "duration": 6,
    "start_time": "2024-11-07T18:30:20.841Z"
   },
   {
    "duration": 9,
    "start_time": "2024-11-07T18:30:20.848Z"
   },
   {
    "duration": 52,
    "start_time": "2024-11-07T18:30:20.859Z"
   },
   {
    "duration": 6,
    "start_time": "2024-11-07T18:30:20.913Z"
   },
   {
    "duration": 5,
    "start_time": "2024-11-07T18:30:20.921Z"
   },
   {
    "duration": 5,
    "start_time": "2024-11-07T18:30:20.927Z"
   },
   {
    "duration": 26,
    "start_time": "2024-11-07T18:30:20.934Z"
   },
   {
    "duration": 11,
    "start_time": "2024-11-07T18:30:20.961Z"
   },
   {
    "duration": 35,
    "start_time": "2024-11-07T18:30:20.974Z"
   },
   {
    "duration": 8,
    "start_time": "2024-11-07T18:30:21.013Z"
   },
   {
    "duration": 11,
    "start_time": "2024-11-07T18:30:21.023Z"
   },
   {
    "duration": 23,
    "start_time": "2024-11-07T18:30:21.035Z"
   },
   {
    "duration": 5,
    "start_time": "2024-11-07T18:30:21.059Z"
   },
   {
    "duration": 7,
    "start_time": "2024-11-07T18:30:21.065Z"
   },
   {
    "duration": 54,
    "start_time": "2024-11-07T18:30:21.074Z"
   },
   {
    "duration": 19,
    "start_time": "2024-11-07T18:30:21.130Z"
   },
   {
    "duration": 19,
    "start_time": "2024-11-07T18:30:44.429Z"
   },
   {
    "duration": 19,
    "start_time": "2024-11-07T18:30:55.190Z"
   },
   {
    "duration": 293,
    "start_time": "2024-11-07T18:31:31.299Z"
   },
   {
    "duration": 154,
    "start_time": "2024-11-07T18:31:31.594Z"
   },
   {
    "duration": 3,
    "start_time": "2024-11-07T18:31:31.750Z"
   },
   {
    "duration": 60,
    "start_time": "2024-11-07T18:31:31.756Z"
   },
   {
    "duration": 50,
    "start_time": "2024-11-07T18:31:31.817Z"
   },
   {
    "duration": 44,
    "start_time": "2024-11-07T18:31:31.869Z"
   },
   {
    "duration": 10,
    "start_time": "2024-11-07T18:31:31.914Z"
   },
   {
    "duration": 12,
    "start_time": "2024-11-07T18:31:31.926Z"
   },
   {
    "duration": 7,
    "start_time": "2024-11-07T18:31:31.939Z"
   },
   {
    "duration": 10,
    "start_time": "2024-11-07T18:31:31.950Z"
   },
   {
    "duration": 3,
    "start_time": "2024-11-07T18:31:31.962Z"
   },
   {
    "duration": 42,
    "start_time": "2024-11-07T18:31:31.967Z"
   },
   {
    "duration": 9,
    "start_time": "2024-11-07T18:31:32.010Z"
   },
   {
    "duration": 4,
    "start_time": "2024-11-07T18:31:32.020Z"
   },
   {
    "duration": 3,
    "start_time": "2024-11-07T18:31:32.026Z"
   },
   {
    "duration": 4,
    "start_time": "2024-11-07T18:31:32.030Z"
   },
   {
    "duration": 7,
    "start_time": "2024-11-07T18:31:32.036Z"
   },
   {
    "duration": 7,
    "start_time": "2024-11-07T18:31:32.045Z"
   },
   {
    "duration": 7,
    "start_time": "2024-11-07T18:31:32.054Z"
   },
   {
    "duration": 3,
    "start_time": "2024-11-07T18:31:32.063Z"
   },
   {
    "duration": 3,
    "start_time": "2024-11-07T18:31:32.108Z"
   },
   {
    "duration": 13,
    "start_time": "2024-11-07T18:31:32.113Z"
   },
   {
    "duration": 11,
    "start_time": "2024-11-07T18:31:32.127Z"
   },
   {
    "duration": 6,
    "start_time": "2024-11-07T18:31:32.140Z"
   },
   {
    "duration": 3,
    "start_time": "2024-11-07T18:31:32.148Z"
   },
   {
    "duration": 134,
    "start_time": "2024-11-07T18:31:32.153Z"
   },
   {
    "duration": 8,
    "start_time": "2024-11-07T18:31:32.289Z"
   },
   {
    "duration": 12,
    "start_time": "2024-11-07T18:31:32.308Z"
   },
   {
    "duration": 10,
    "start_time": "2024-11-07T18:31:32.322Z"
   },
   {
    "duration": 6,
    "start_time": "2024-11-07T18:31:32.334Z"
   },
   {
    "duration": 5,
    "start_time": "2024-11-07T18:31:32.342Z"
   },
   {
    "duration": 4,
    "start_time": "2024-11-07T18:31:32.349Z"
   },
   {
    "duration": 6,
    "start_time": "2024-11-07T18:31:32.354Z"
   },
   {
    "duration": 47,
    "start_time": "2024-11-07T18:31:32.362Z"
   },
   {
    "duration": 11,
    "start_time": "2024-11-07T18:31:32.410Z"
   },
   {
    "duration": 7,
    "start_time": "2024-11-07T18:31:32.422Z"
   },
   {
    "duration": 6,
    "start_time": "2024-11-07T18:31:32.432Z"
   },
   {
    "duration": 4,
    "start_time": "2024-11-07T18:31:32.439Z"
   },
   {
    "duration": 27,
    "start_time": "2024-11-07T18:31:32.444Z"
   },
   {
    "duration": 39,
    "start_time": "2024-11-07T18:31:32.473Z"
   },
   {
    "duration": 3,
    "start_time": "2024-11-07T18:31:32.514Z"
   },
   {
    "duration": 8,
    "start_time": "2024-11-07T18:31:32.519Z"
   },
   {
    "duration": 11,
    "start_time": "2024-11-07T18:31:32.529Z"
   },
   {
    "duration": 24,
    "start_time": "2024-11-07T18:31:32.541Z"
   },
   {
    "duration": 4,
    "start_time": "2024-11-07T18:31:32.567Z"
   },
   {
    "duration": 40,
    "start_time": "2024-11-07T18:31:32.573Z"
   },
   {
    "duration": 23,
    "start_time": "2024-11-07T18:31:32.615Z"
   },
   {
    "duration": 18,
    "start_time": "2024-11-07T18:31:32.639Z"
   },
   {
    "duration": 8,
    "start_time": "2024-11-07T18:31:32.659Z"
   },
   {
    "duration": 2,
    "start_time": "2024-11-07T18:31:32.669Z"
   },
   {
    "duration": 3,
    "start_time": "2024-11-07T18:31:32.673Z"
   },
   {
    "duration": 32,
    "start_time": "2024-11-07T18:31:32.677Z"
   },
   {
    "duration": 2,
    "start_time": "2024-11-07T18:31:32.711Z"
   },
   {
    "duration": 3,
    "start_time": "2024-11-07T18:31:32.714Z"
   },
   {
    "duration": 2,
    "start_time": "2024-11-07T18:31:32.719Z"
   },
   {
    "duration": 2,
    "start_time": "2024-11-07T18:31:32.723Z"
   },
   {
    "duration": 3,
    "start_time": "2024-11-07T18:31:32.726Z"
   },
   {
    "duration": 2,
    "start_time": "2024-11-07T18:31:32.731Z"
   },
   {
    "duration": 2,
    "start_time": "2024-11-07T18:31:32.735Z"
   },
   {
    "duration": 3,
    "start_time": "2024-11-07T18:31:32.739Z"
   },
   {
    "duration": 3,
    "start_time": "2024-11-07T18:31:32.743Z"
   },
   {
    "duration": 20,
    "start_time": "2024-11-07T18:31:58.836Z"
   },
   {
    "duration": 10,
    "start_time": "2024-11-07T18:33:10.897Z"
   },
   {
    "duration": 12,
    "start_time": "2024-11-07T18:35:55.926Z"
   },
   {
    "duration": 19,
    "start_time": "2024-11-07T18:36:30.453Z"
   },
   {
    "duration": 19,
    "start_time": "2024-11-07T18:36:40.312Z"
   },
   {
    "duration": 19,
    "start_time": "2024-11-07T18:37:48.450Z"
   },
   {
    "duration": 8,
    "start_time": "2024-11-07T18:39:36.157Z"
   },
   {
    "duration": 9,
    "start_time": "2024-11-07T18:39:50.702Z"
   },
   {
    "duration": 5,
    "start_time": "2024-11-07T18:39:54.747Z"
   },
   {
    "duration": 6,
    "start_time": "2024-11-07T18:39:55.828Z"
   },
   {
    "duration": 11,
    "start_time": "2024-11-07T18:40:04.918Z"
   },
   {
    "duration": 9,
    "start_time": "2024-11-07T18:40:26.531Z"
   },
   {
    "duration": 4,
    "start_time": "2024-11-07T18:42:13.830Z"
   },
   {
    "duration": 8,
    "start_time": "2024-11-07T18:42:20.488Z"
   },
   {
    "duration": 10,
    "start_time": "2024-11-07T18:43:49.802Z"
   },
   {
    "duration": 12,
    "start_time": "2024-11-07T18:43:57.404Z"
   },
   {
    "duration": 9,
    "start_time": "2024-11-07T18:44:15.649Z"
   },
   {
    "duration": 179,
    "start_time": "2024-11-07T18:45:42.574Z"
   },
   {
    "duration": 13,
    "start_time": "2024-11-07T18:45:45.190Z"
   },
   {
    "duration": 15,
    "start_time": "2024-11-07T18:45:47.869Z"
   },
   {
    "duration": 394,
    "start_time": "2024-11-07T18:46:20.292Z"
   },
   {
    "duration": 14,
    "start_time": "2024-11-07T18:46:40.335Z"
   },
   {
    "duration": 15,
    "start_time": "2024-11-07T18:46:44.402Z"
   },
   {
    "duration": 13,
    "start_time": "2024-11-07T18:46:48.408Z"
   },
   {
    "duration": 11,
    "start_time": "2024-11-07T18:46:55.353Z"
   },
   {
    "duration": 11,
    "start_time": "2024-11-07T18:47:24.236Z"
   },
   {
    "duration": 13,
    "start_time": "2024-11-07T18:47:47.345Z"
   },
   {
    "duration": 11,
    "start_time": "2024-11-07T18:47:49.221Z"
   },
   {
    "duration": 13,
    "start_time": "2024-11-07T18:48:10.098Z"
   },
   {
    "duration": 12,
    "start_time": "2024-11-07T18:48:14.589Z"
   },
   {
    "duration": 15,
    "start_time": "2024-11-07T18:48:58.537Z"
   },
   {
    "duration": 22,
    "start_time": "2024-11-07T18:50:53.248Z"
   },
   {
    "duration": 19,
    "start_time": "2024-11-07T18:51:09.465Z"
   },
   {
    "duration": 12,
    "start_time": "2024-11-07T18:51:18.041Z"
   },
   {
    "duration": 4,
    "start_time": "2024-11-07T18:51:23.379Z"
   },
   {
    "duration": 18,
    "start_time": "2024-11-07T18:52:04.438Z"
   },
   {
    "duration": 200,
    "start_time": "2024-11-07T18:54:37.799Z"
   },
   {
    "duration": 7,
    "start_time": "2024-11-07T18:58:37.297Z"
   },
   {
    "duration": 18,
    "start_time": "2024-11-07T18:58:49.800Z"
   },
   {
    "duration": 39,
    "start_time": "2024-11-07T18:59:09.571Z"
   },
   {
    "duration": 8,
    "start_time": "2024-11-07T18:59:38.454Z"
   },
   {
    "duration": 13,
    "start_time": "2024-11-07T18:59:40.450Z"
   },
   {
    "duration": 14,
    "start_time": "2024-11-07T19:11:01.512Z"
   },
   {
    "duration": 8,
    "start_time": "2024-11-07T19:11:33.670Z"
   },
   {
    "duration": 8,
    "start_time": "2024-11-07T19:12:44.745Z"
   },
   {
    "duration": 19,
    "start_time": "2024-11-07T19:13:00.841Z"
   },
   {
    "duration": 20,
    "start_time": "2024-11-07T19:14:03.935Z"
   },
   {
    "duration": 20,
    "start_time": "2024-11-07T19:14:41.934Z"
   },
   {
    "duration": 599,
    "start_time": "2024-11-07T19:36:34.890Z"
   },
   {
    "duration": 9,
    "start_time": "2024-11-07T19:39:19.085Z"
   },
   {
    "duration": 8,
    "start_time": "2024-11-07T19:40:22.628Z"
   },
   {
    "duration": 16,
    "start_time": "2024-11-07T19:40:27.108Z"
   },
   {
    "duration": 173,
    "start_time": "2024-11-07T22:28:14.149Z"
   },
   {
    "duration": 13,
    "start_time": "2024-11-07T22:28:29.233Z"
   },
   {
    "duration": 323,
    "start_time": "2024-11-07T22:28:35.580Z"
   },
   {
    "duration": 207,
    "start_time": "2024-11-07T22:28:35.905Z"
   },
   {
    "duration": 4,
    "start_time": "2024-11-07T22:28:36.113Z"
   },
   {
    "duration": 55,
    "start_time": "2024-11-07T22:28:36.119Z"
   },
   {
    "duration": 59,
    "start_time": "2024-11-07T22:28:36.176Z"
   },
   {
    "duration": 28,
    "start_time": "2024-11-07T22:28:36.236Z"
   },
   {
    "duration": 10,
    "start_time": "2024-11-07T22:28:36.266Z"
   },
   {
    "duration": 12,
    "start_time": "2024-11-07T22:28:36.277Z"
   },
   {
    "duration": 35,
    "start_time": "2024-11-07T22:28:36.290Z"
   },
   {
    "duration": 10,
    "start_time": "2024-11-07T22:28:36.329Z"
   },
   {
    "duration": 4,
    "start_time": "2024-11-07T22:28:36.340Z"
   },
   {
    "duration": 7,
    "start_time": "2024-11-07T22:28:36.345Z"
   },
   {
    "duration": 9,
    "start_time": "2024-11-07T22:28:36.354Z"
   },
   {
    "duration": 3,
    "start_time": "2024-11-07T22:28:36.364Z"
   },
   {
    "duration": 4,
    "start_time": "2024-11-07T22:28:36.368Z"
   },
   {
    "duration": 4,
    "start_time": "2024-11-07T22:28:36.373Z"
   },
   {
    "duration": 49,
    "start_time": "2024-11-07T22:28:36.378Z"
   },
   {
    "duration": 8,
    "start_time": "2024-11-07T22:28:36.428Z"
   },
   {
    "duration": 9,
    "start_time": "2024-11-07T22:28:36.438Z"
   },
   {
    "duration": 4,
    "start_time": "2024-11-07T22:28:36.449Z"
   },
   {
    "duration": 4,
    "start_time": "2024-11-07T22:28:36.454Z"
   },
   {
    "duration": 13,
    "start_time": "2024-11-07T22:28:36.459Z"
   },
   {
    "duration": 11,
    "start_time": "2024-11-07T22:28:36.474Z"
   },
   {
    "duration": 41,
    "start_time": "2024-11-07T22:28:36.487Z"
   },
   {
    "duration": 2,
    "start_time": "2024-11-07T22:28:36.530Z"
   },
   {
    "duration": 127,
    "start_time": "2024-11-07T22:28:36.534Z"
   },
   {
    "duration": 8,
    "start_time": "2024-11-07T22:28:36.663Z"
   },
   {
    "duration": 15,
    "start_time": "2024-11-07T22:28:36.677Z"
   },
   {
    "duration": 11,
    "start_time": "2024-11-07T22:28:36.695Z"
   },
   {
    "duration": 21,
    "start_time": "2024-11-07T22:28:36.707Z"
   },
   {
    "duration": 5,
    "start_time": "2024-11-07T22:28:36.730Z"
   },
   {
    "duration": 4,
    "start_time": "2024-11-07T22:28:36.737Z"
   },
   {
    "duration": 6,
    "start_time": "2024-11-07T22:28:36.743Z"
   },
   {
    "duration": 9,
    "start_time": "2024-11-07T22:28:36.750Z"
   },
   {
    "duration": 10,
    "start_time": "2024-11-07T22:28:36.761Z"
   },
   {
    "duration": 6,
    "start_time": "2024-11-07T22:28:36.773Z"
   },
   {
    "duration": 6,
    "start_time": "2024-11-07T22:28:36.825Z"
   },
   {
    "duration": 5,
    "start_time": "2024-11-07T22:28:36.833Z"
   },
   {
    "duration": 28,
    "start_time": "2024-11-07T22:28:36.839Z"
   },
   {
    "duration": 11,
    "start_time": "2024-11-07T22:28:36.869Z"
   },
   {
    "duration": 3,
    "start_time": "2024-11-07T22:28:36.881Z"
   },
   {
    "duration": 38,
    "start_time": "2024-11-07T22:28:36.886Z"
   },
   {
    "duration": 13,
    "start_time": "2024-11-07T22:28:36.926Z"
   },
   {
    "duration": 24,
    "start_time": "2024-11-07T22:28:36.940Z"
   },
   {
    "duration": 4,
    "start_time": "2024-11-07T22:28:36.966Z"
   },
   {
    "duration": 8,
    "start_time": "2024-11-07T22:28:36.971Z"
   },
   {
    "duration": 50,
    "start_time": "2024-11-07T22:28:36.980Z"
   },
   {
    "duration": 18,
    "start_time": "2024-11-07T22:28:37.032Z"
   },
   {
    "duration": 18,
    "start_time": "2024-11-07T22:28:37.051Z"
   },
   {
    "duration": 11,
    "start_time": "2024-11-07T22:28:37.071Z"
   },
   {
    "duration": 10,
    "start_time": "2024-11-07T22:28:37.084Z"
   },
   {
    "duration": 33,
    "start_time": "2024-11-07T22:28:37.095Z"
   },
   {
    "duration": 12,
    "start_time": "2024-11-07T22:28:37.130Z"
   },
   {
    "duration": 196,
    "start_time": "2024-11-07T22:28:37.144Z"
   },
   {
    "duration": 0,
    "start_time": "2024-11-07T22:28:37.342Z"
   },
   {
    "duration": 0,
    "start_time": "2024-11-07T22:28:37.343Z"
   },
   {
    "duration": 0,
    "start_time": "2024-11-07T22:28:37.344Z"
   },
   {
    "duration": 0,
    "start_time": "2024-11-07T22:28:37.345Z"
   },
   {
    "duration": 0,
    "start_time": "2024-11-07T22:28:37.346Z"
   },
   {
    "duration": 0,
    "start_time": "2024-11-07T22:28:37.347Z"
   },
   {
    "duration": 0,
    "start_time": "2024-11-07T22:28:37.348Z"
   },
   {
    "duration": 0,
    "start_time": "2024-11-07T22:28:37.349Z"
   },
   {
    "duration": 0,
    "start_time": "2024-11-07T22:28:37.350Z"
   },
   {
    "duration": 9,
    "start_time": "2024-11-07T22:28:52.136Z"
   },
   {
    "duration": 15,
    "start_time": "2024-11-07T22:28:55.162Z"
   },
   {
    "duration": 9,
    "start_time": "2024-11-07T22:46:01.917Z"
   },
   {
    "duration": 15,
    "start_time": "2024-11-07T22:46:04.042Z"
   },
   {
    "duration": 21,
    "start_time": "2024-11-07T22:49:59.323Z"
   },
   {
    "duration": 3,
    "start_time": "2024-11-07T22:52:34.053Z"
   },
   {
    "duration": 13,
    "start_time": "2024-11-07T22:54:18.139Z"
   },
   {
    "duration": 3,
    "start_time": "2024-11-07T22:54:24.421Z"
   },
   {
    "duration": 501,
    "start_time": "2024-11-07T22:54:26.237Z"
   },
   {
    "duration": 13,
    "start_time": "2024-11-07T22:55:39.151Z"
   },
   {
    "duration": 13,
    "start_time": "2024-11-07T22:55:47.221Z"
   },
   {
    "duration": 20,
    "start_time": "2024-11-07T22:56:34.880Z"
   },
   {
    "duration": 19,
    "start_time": "2024-11-07T22:56:39.000Z"
   },
   {
    "duration": 32,
    "start_time": "2024-11-07T22:57:07.227Z"
   },
   {
    "duration": 83,
    "start_time": "2024-11-07T22:57:55.749Z"
   },
   {
    "duration": 34,
    "start_time": "2024-11-07T22:58:18.227Z"
   },
   {
    "duration": 29,
    "start_time": "2024-11-07T22:58:30.164Z"
   },
   {
    "duration": 26,
    "start_time": "2024-11-07T22:58:41.983Z"
   },
   {
    "duration": 34,
    "start_time": "2024-11-07T22:58:50.216Z"
   },
   {
    "duration": 3,
    "start_time": "2024-11-07T23:11:47.460Z"
   },
   {
    "duration": 3,
    "start_time": "2024-11-07T23:15:21.926Z"
   },
   {
    "duration": 322,
    "start_time": "2024-11-07T23:15:44.648Z"
   },
   {
    "duration": 163,
    "start_time": "2024-11-07T23:15:44.972Z"
   },
   {
    "duration": 4,
    "start_time": "2024-11-07T23:15:45.137Z"
   },
   {
    "duration": 58,
    "start_time": "2024-11-07T23:15:45.144Z"
   },
   {
    "duration": 68,
    "start_time": "2024-11-07T23:15:45.204Z"
   },
   {
    "duration": 30,
    "start_time": "2024-11-07T23:15:45.273Z"
   },
   {
    "duration": 27,
    "start_time": "2024-11-07T23:15:45.305Z"
   },
   {
    "duration": 13,
    "start_time": "2024-11-07T23:15:45.334Z"
   },
   {
    "duration": 8,
    "start_time": "2024-11-07T23:15:45.348Z"
   },
   {
    "duration": 10,
    "start_time": "2024-11-07T23:15:45.359Z"
   },
   {
    "duration": 3,
    "start_time": "2024-11-07T23:15:45.371Z"
   },
   {
    "duration": 7,
    "start_time": "2024-11-07T23:15:45.375Z"
   },
   {
    "duration": 45,
    "start_time": "2024-11-07T23:15:45.384Z"
   },
   {
    "duration": 3,
    "start_time": "2024-11-07T23:15:45.430Z"
   },
   {
    "duration": 4,
    "start_time": "2024-11-07T23:15:45.434Z"
   },
   {
    "duration": 4,
    "start_time": "2024-11-07T23:15:45.439Z"
   },
   {
    "duration": 8,
    "start_time": "2024-11-07T23:15:45.445Z"
   },
   {
    "duration": 8,
    "start_time": "2024-11-07T23:15:45.454Z"
   },
   {
    "duration": 8,
    "start_time": "2024-11-07T23:15:45.464Z"
   },
   {
    "duration": 4,
    "start_time": "2024-11-07T23:15:45.474Z"
   },
   {
    "duration": 46,
    "start_time": "2024-11-07T23:15:45.480Z"
   },
   {
    "duration": 14,
    "start_time": "2024-11-07T23:15:45.528Z"
   },
   {
    "duration": 11,
    "start_time": "2024-11-07T23:15:45.544Z"
   },
   {
    "duration": 7,
    "start_time": "2024-11-07T23:15:45.556Z"
   },
   {
    "duration": 3,
    "start_time": "2024-11-07T23:15:45.564Z"
   },
   {
    "duration": 156,
    "start_time": "2024-11-07T23:15:45.569Z"
   },
   {
    "duration": 8,
    "start_time": "2024-11-07T23:15:45.727Z"
   },
   {
    "duration": 13,
    "start_time": "2024-11-07T23:15:45.739Z"
   },
   {
    "duration": 11,
    "start_time": "2024-11-07T23:15:45.753Z"
   },
   {
    "duration": 7,
    "start_time": "2024-11-07T23:15:45.767Z"
   },
   {
    "duration": 5,
    "start_time": "2024-11-07T23:15:45.775Z"
   },
   {
    "duration": 4,
    "start_time": "2024-11-07T23:15:45.781Z"
   },
   {
    "duration": 5,
    "start_time": "2024-11-07T23:15:45.787Z"
   },
   {
    "duration": 33,
    "start_time": "2024-11-07T23:15:45.795Z"
   },
   {
    "duration": 11,
    "start_time": "2024-11-07T23:15:45.829Z"
   },
   {
    "duration": 7,
    "start_time": "2024-11-07T23:15:45.841Z"
   },
   {
    "duration": 5,
    "start_time": "2024-11-07T23:15:45.850Z"
   },
   {
    "duration": 5,
    "start_time": "2024-11-07T23:15:45.857Z"
   },
   {
    "duration": 64,
    "start_time": "2024-11-07T23:15:45.863Z"
   },
   {
    "duration": 10,
    "start_time": "2024-11-07T23:15:45.929Z"
   },
   {
    "duration": 4,
    "start_time": "2024-11-07T23:15:45.940Z"
   },
   {
    "duration": 7,
    "start_time": "2024-11-07T23:15:45.947Z"
   },
   {
    "duration": 11,
    "start_time": "2024-11-07T23:15:45.956Z"
   },
   {
    "duration": 22,
    "start_time": "2024-11-07T23:15:45.969Z"
   },
   {
    "duration": 33,
    "start_time": "2024-11-07T23:15:45.994Z"
   },
   {
    "duration": 7,
    "start_time": "2024-11-07T23:15:46.030Z"
   },
   {
    "duration": 20,
    "start_time": "2024-11-07T23:15:46.039Z"
   },
   {
    "duration": 18,
    "start_time": "2024-11-07T23:15:46.062Z"
   },
   {
    "duration": 46,
    "start_time": "2024-11-07T23:15:46.082Z"
   },
   {
    "duration": 12,
    "start_time": "2024-11-07T23:15:46.130Z"
   },
   {
    "duration": 10,
    "start_time": "2024-11-07T23:15:46.144Z"
   },
   {
    "duration": 7,
    "start_time": "2024-11-07T23:15:46.156Z"
   },
   {
    "duration": 16,
    "start_time": "2024-11-07T23:15:46.165Z"
   },
   {
    "duration": 491,
    "start_time": "2024-11-07T23:15:46.183Z"
   },
   {
    "duration": 0,
    "start_time": "2024-11-07T23:15:46.676Z"
   },
   {
    "duration": 0,
    "start_time": "2024-11-07T23:15:46.677Z"
   },
   {
    "duration": 0,
    "start_time": "2024-11-07T23:15:46.679Z"
   },
   {
    "duration": 1,
    "start_time": "2024-11-07T23:15:46.679Z"
   },
   {
    "duration": 0,
    "start_time": "2024-11-07T23:15:46.681Z"
   },
   {
    "duration": 0,
    "start_time": "2024-11-07T23:15:46.682Z"
   },
   {
    "duration": 0,
    "start_time": "2024-11-07T23:15:46.683Z"
   },
   {
    "duration": 0,
    "start_time": "2024-11-07T23:15:46.684Z"
   },
   {
    "duration": 0,
    "start_time": "2024-11-07T23:15:46.685Z"
   },
   {
    "duration": 0,
    "start_time": "2024-11-07T23:15:46.687Z"
   },
   {
    "duration": 0,
    "start_time": "2024-11-07T23:15:46.688Z"
   },
   {
    "duration": 0,
    "start_time": "2024-11-07T23:15:46.690Z"
   },
   {
    "duration": 3,
    "start_time": "2024-11-07T23:23:11.802Z"
   },
   {
    "duration": 3,
    "start_time": "2024-11-07T23:23:15.660Z"
   },
   {
    "duration": 3,
    "start_time": "2024-11-07T23:25:34.517Z"
   },
   {
    "duration": 13,
    "start_time": "2024-11-07T23:25:47.370Z"
   },
   {
    "duration": 3,
    "start_time": "2024-11-07T23:29:55.115Z"
   },
   {
    "duration": 420,
    "start_time": "2024-11-07T23:30:00.386Z"
   },
   {
    "duration": 35,
    "start_time": "2024-11-07T23:31:00.335Z"
   },
   {
    "duration": 22,
    "start_time": "2024-11-07T23:31:16.206Z"
   },
   {
    "duration": 3,
    "start_time": "2024-11-07T23:31:22.303Z"
   },
   {
    "duration": 3,
    "start_time": "2024-11-07T23:31:24.254Z"
   },
   {
    "duration": 3,
    "start_time": "2024-11-07T23:31:26.169Z"
   },
   {
    "duration": 51,
    "start_time": "2024-11-07T23:31:28.534Z"
   },
   {
    "duration": 19,
    "start_time": "2024-11-07T23:31:44.559Z"
   },
   {
    "duration": 5,
    "start_time": "2024-11-07T23:32:54.906Z"
   },
   {
    "duration": 18,
    "start_time": "2024-11-07T23:36:35.773Z"
   },
   {
    "duration": 5,
    "start_time": "2024-11-07T23:38:01.185Z"
   },
   {
    "duration": 5,
    "start_time": "2024-11-07T23:40:43.142Z"
   },
   {
    "duration": 3,
    "start_time": "2024-11-07T23:44:11.339Z"
   },
   {
    "duration": 3,
    "start_time": "2024-11-07T23:44:15.053Z"
   },
   {
    "duration": 66,
    "start_time": "2024-11-07T23:44:20.072Z"
   },
   {
    "duration": 39,
    "start_time": "2024-11-07T23:44:47.384Z"
   },
   {
    "duration": 3,
    "start_time": "2024-11-07T23:45:55.283Z"
   },
   {
    "duration": 4,
    "start_time": "2024-11-07T23:45:58.656Z"
   },
   {
    "duration": 4,
    "start_time": "2024-11-07T23:46:02.696Z"
   },
   {
    "duration": 3,
    "start_time": "2024-11-07T23:46:53.598Z"
   },
   {
    "duration": 41,
    "start_time": "2024-11-07T23:46:56.524Z"
   },
   {
    "duration": 18,
    "start_time": "2024-11-07T23:47:27.872Z"
   },
   {
    "duration": 18,
    "start_time": "2024-11-07T23:47:29.232Z"
   },
   {
    "duration": 12,
    "start_time": "2024-11-08T00:10:23.582Z"
   },
   {
    "duration": 1962,
    "start_time": "2024-11-08T00:13:22.190Z"
   },
   {
    "duration": 3,
    "start_time": "2024-11-08T00:13:25.362Z"
   },
   {
    "duration": 484,
    "start_time": "2024-11-08T00:13:39.834Z"
   },
   {
    "duration": 82,
    "start_time": "2024-11-08T00:14:02.501Z"
   },
   {
    "duration": 19,
    "start_time": "2024-11-08T00:14:36.507Z"
   },
   {
    "duration": 864,
    "start_time": "2024-11-08T00:14:52.307Z"
   },
   {
    "duration": 171,
    "start_time": "2024-11-08T00:14:53.174Z"
   },
   {
    "duration": 5,
    "start_time": "2024-11-08T00:14:53.348Z"
   },
   {
    "duration": 84,
    "start_time": "2024-11-08T00:14:53.356Z"
   },
   {
    "duration": 82,
    "start_time": "2024-11-08T00:14:53.442Z"
   },
   {
    "duration": 35,
    "start_time": "2024-11-08T00:14:53.526Z"
   },
   {
    "duration": 11,
    "start_time": "2024-11-08T00:14:53.563Z"
   },
   {
    "duration": 14,
    "start_time": "2024-11-08T00:14:53.575Z"
   },
   {
    "duration": 37,
    "start_time": "2024-11-08T00:14:53.590Z"
   },
   {
    "duration": 10,
    "start_time": "2024-11-08T00:14:53.631Z"
   },
   {
    "duration": 4,
    "start_time": "2024-11-08T00:14:53.643Z"
   },
   {
    "duration": 9,
    "start_time": "2024-11-08T00:14:53.649Z"
   },
   {
    "duration": 11,
    "start_time": "2024-11-08T00:14:53.659Z"
   },
   {
    "duration": 3,
    "start_time": "2024-11-08T00:14:53.671Z"
   },
   {
    "duration": 3,
    "start_time": "2024-11-08T00:14:53.676Z"
   },
   {
    "duration": 44,
    "start_time": "2024-11-08T00:14:53.680Z"
   },
   {
    "duration": 8,
    "start_time": "2024-11-08T00:14:53.727Z"
   },
   {
    "duration": 10,
    "start_time": "2024-11-08T00:14:53.738Z"
   },
   {
    "duration": 10,
    "start_time": "2024-11-08T00:14:53.750Z"
   },
   {
    "duration": 5,
    "start_time": "2024-11-08T00:14:53.762Z"
   },
   {
    "duration": 4,
    "start_time": "2024-11-08T00:14:53.769Z"
   },
   {
    "duration": 50,
    "start_time": "2024-11-08T00:14:53.775Z"
   },
   {
    "duration": 16,
    "start_time": "2024-11-08T00:14:53.827Z"
   },
   {
    "duration": 7,
    "start_time": "2024-11-08T00:14:53.844Z"
   },
   {
    "duration": 3,
    "start_time": "2024-11-08T00:14:53.852Z"
   },
   {
    "duration": 138,
    "start_time": "2024-11-08T00:14:53.857Z"
   },
   {
    "duration": 9,
    "start_time": "2024-11-08T00:14:53.997Z"
   },
   {
    "duration": 23,
    "start_time": "2024-11-08T00:14:54.012Z"
   },
   {
    "duration": 14,
    "start_time": "2024-11-08T00:14:54.037Z"
   },
   {
    "duration": 8,
    "start_time": "2024-11-08T00:14:54.052Z"
   },
   {
    "duration": 6,
    "start_time": "2024-11-08T00:14:54.062Z"
   },
   {
    "duration": 4,
    "start_time": "2024-11-08T00:14:54.070Z"
   },
   {
    "duration": 6,
    "start_time": "2024-11-08T00:14:54.076Z"
   },
   {
    "duration": 47,
    "start_time": "2024-11-08T00:14:54.083Z"
   },
   {
    "duration": 11,
    "start_time": "2024-11-08T00:14:54.131Z"
   },
   {
    "duration": 6,
    "start_time": "2024-11-08T00:14:54.144Z"
   },
   {
    "duration": 4,
    "start_time": "2024-11-08T00:14:54.153Z"
   },
   {
    "duration": 5,
    "start_time": "2024-11-08T00:14:54.159Z"
   },
   {
    "duration": 27,
    "start_time": "2024-11-08T00:14:54.165Z"
   },
   {
    "duration": 41,
    "start_time": "2024-11-08T00:14:54.194Z"
   },
   {
    "duration": 4,
    "start_time": "2024-11-08T00:14:54.237Z"
   },
   {
    "duration": 9,
    "start_time": "2024-11-08T00:14:54.243Z"
   },
   {
    "duration": 15,
    "start_time": "2024-11-08T00:14:54.254Z"
   },
   {
    "duration": 60,
    "start_time": "2024-11-08T00:14:54.271Z"
   },
   {
    "duration": 5,
    "start_time": "2024-11-08T00:14:54.332Z"
   },
   {
    "duration": 7,
    "start_time": "2024-11-08T00:14:54.339Z"
   },
   {
    "duration": 25,
    "start_time": "2024-11-08T00:14:54.348Z"
   },
   {
    "duration": 50,
    "start_time": "2024-11-08T00:14:54.375Z"
   },
   {
    "duration": 18,
    "start_time": "2024-11-08T00:14:54.427Z"
   },
   {
    "duration": 15,
    "start_time": "2024-11-08T00:14:54.447Z"
   },
   {
    "duration": 11,
    "start_time": "2024-11-08T00:14:54.464Z"
   },
   {
    "duration": 9,
    "start_time": "2024-11-08T00:14:54.477Z"
   },
   {
    "duration": 37,
    "start_time": "2024-11-08T00:14:54.488Z"
   },
   {
    "duration": 21,
    "start_time": "2024-11-08T00:14:54.528Z"
   },
   {
    "duration": 3,
    "start_time": "2024-11-08T00:14:54.552Z"
   },
   {
    "duration": 4,
    "start_time": "2024-11-08T00:14:54.557Z"
   },
   {
    "duration": 4,
    "start_time": "2024-11-08T00:14:54.562Z"
   },
   {
    "duration": 79,
    "start_time": "2024-11-08T00:14:54.568Z"
   },
   {
    "duration": 19,
    "start_time": "2024-11-08T00:14:54.651Z"
   },
   {
    "duration": 3,
    "start_time": "2024-11-08T00:14:54.673Z"
   },
   {
    "duration": 56,
    "start_time": "2024-11-08T00:14:54.678Z"
   },
   {
    "duration": 21,
    "start_time": "2024-11-08T00:14:54.736Z"
   },
   {
    "duration": 10,
    "start_time": "2024-11-08T00:14:54.760Z"
   },
   {
    "duration": 328,
    "start_time": "2024-11-08T00:14:54.772Z"
   },
   {
    "duration": 0,
    "start_time": "2024-11-08T00:14:55.102Z"
   },
   {
    "duration": 0,
    "start_time": "2024-11-08T00:14:55.103Z"
   },
   {
    "duration": 0,
    "start_time": "2024-11-08T00:14:55.105Z"
   },
   {
    "duration": 0,
    "start_time": "2024-11-08T00:14:55.105Z"
   },
   {
    "duration": 0,
    "start_time": "2024-11-08T00:14:55.107Z"
   },
   {
    "duration": 0,
    "start_time": "2024-11-08T00:14:55.108Z"
   },
   {
    "duration": 16,
    "start_time": "2024-11-08T00:18:02.280Z"
   },
   {
    "duration": 10,
    "start_time": "2024-11-08T00:18:17.867Z"
   },
   {
    "duration": 9,
    "start_time": "2024-11-08T00:18:35.416Z"
   },
   {
    "duration": 10,
    "start_time": "2024-11-08T00:18:37.798Z"
   },
   {
    "duration": 15,
    "start_time": "2024-11-08T00:18:42.267Z"
   },
   {
    "duration": 145,
    "start_time": "2024-11-08T00:19:20.540Z"
   },
   {
    "duration": 181,
    "start_time": "2024-11-08T00:20:24.276Z"
   },
   {
    "duration": 109,
    "start_time": "2024-11-08T00:23:03.136Z"
   },
   {
    "duration": 18,
    "start_time": "2024-11-08T00:23:52.460Z"
   },
   {
    "duration": 15,
    "start_time": "2024-11-08T00:25:34.902Z"
   },
   {
    "duration": 436,
    "start_time": "2024-11-08T00:26:38.798Z"
   },
   {
    "duration": 34,
    "start_time": "2024-11-08T00:27:47.976Z"
   },
   {
    "duration": 46,
    "start_time": "2024-11-08T00:29:38.564Z"
   },
   {
    "duration": 266,
    "start_time": "2024-11-08T00:30:27.370Z"
   },
   {
    "duration": 11,
    "start_time": "2024-11-08T00:31:33.994Z"
   },
   {
    "duration": 22,
    "start_time": "2024-11-08T00:31:46.346Z"
   },
   {
    "duration": 9,
    "start_time": "2024-11-08T00:31:50.537Z"
   },
   {
    "duration": 14,
    "start_time": "2024-11-08T00:31:57.853Z"
   },
   {
    "duration": 117,
    "start_time": "2024-11-08T00:34:22.556Z"
   },
   {
    "duration": 29,
    "start_time": "2024-11-08T00:34:31.279Z"
   },
   {
    "duration": 25,
    "start_time": "2024-11-08T00:34:49.538Z"
   },
   {
    "duration": 11,
    "start_time": "2024-11-08T00:36:07.073Z"
   },
   {
    "duration": 15,
    "start_time": "2024-11-08T00:36:12.267Z"
   },
   {
    "duration": 12,
    "start_time": "2024-11-08T00:36:45.623Z"
   },
   {
    "duration": 113,
    "start_time": "2024-11-08T00:37:00.414Z"
   },
   {
    "duration": 18,
    "start_time": "2024-11-08T00:37:23.866Z"
   },
   {
    "duration": 107,
    "start_time": "2024-11-08T00:37:30.494Z"
   },
   {
    "duration": 14,
    "start_time": "2024-11-08T00:37:48.698Z"
   },
   {
    "duration": 16,
    "start_time": "2024-11-08T00:38:03.345Z"
   },
   {
    "duration": 106,
    "start_time": "2024-11-08T00:38:06.138Z"
   },
   {
    "duration": 106,
    "start_time": "2024-11-08T00:38:08.779Z"
   },
   {
    "duration": 12,
    "start_time": "2024-11-08T00:38:53.208Z"
   },
   {
    "duration": 238,
    "start_time": "2024-11-08T00:39:04.674Z"
   },
   {
    "duration": 12,
    "start_time": "2024-11-08T00:39:15.319Z"
   },
   {
    "duration": 116,
    "start_time": "2024-11-08T00:39:25.562Z"
   },
   {
    "duration": 17,
    "start_time": "2024-11-08T00:41:56.248Z"
   },
   {
    "duration": 2,
    "start_time": "2024-11-08T00:42:10.945Z"
   },
   {
    "duration": 295,
    "start_time": "2024-11-08T00:42:18.757Z"
   },
   {
    "duration": 2,
    "start_time": "2024-11-08T00:45:48.049Z"
   },
   {
    "duration": 7,
    "start_time": "2024-11-08T00:46:23.197Z"
   },
   {
    "duration": 15,
    "start_time": "2024-11-08T00:46:32.156Z"
   },
   {
    "duration": 3,
    "start_time": "2024-11-08T00:46:35.537Z"
   },
   {
    "duration": 4,
    "start_time": "2024-11-08T00:46:42.733Z"
   },
   {
    "duration": 5,
    "start_time": "2024-11-08T00:47:05.479Z"
   },
   {
    "duration": 4,
    "start_time": "2024-11-08T00:47:08.313Z"
   },
   {
    "duration": 5,
    "start_time": "2024-11-08T00:47:59.086Z"
   },
   {
    "duration": 6,
    "start_time": "2024-11-08T00:48:09.046Z"
   },
   {
    "duration": 4,
    "start_time": "2024-11-08T00:48:34.096Z"
   },
   {
    "duration": 4,
    "start_time": "2024-11-08T00:49:05.780Z"
   },
   {
    "duration": 4,
    "start_time": "2024-11-08T00:49:11.433Z"
   },
   {
    "duration": 4,
    "start_time": "2024-11-08T00:49:36.524Z"
   },
   {
    "duration": 4,
    "start_time": "2024-11-08T00:49:53.519Z"
   },
   {
    "duration": 6,
    "start_time": "2024-11-08T00:51:39.779Z"
   },
   {
    "duration": 5,
    "start_time": "2024-11-08T00:51:57.105Z"
   },
   {
    "duration": 6,
    "start_time": "2024-11-08T00:52:44.986Z"
   },
   {
    "duration": 4,
    "start_time": "2024-11-08T00:54:21.732Z"
   },
   {
    "duration": 5,
    "start_time": "2024-11-08T00:55:29.538Z"
   },
   {
    "duration": 7,
    "start_time": "2024-11-08T00:55:33.400Z"
   },
   {
    "duration": 7,
    "start_time": "2024-11-08T00:55:44.153Z"
   },
   {
    "duration": 5,
    "start_time": "2024-11-08T00:56:38.327Z"
   },
   {
    "duration": 6,
    "start_time": "2024-11-08T00:57:06.214Z"
   },
   {
    "duration": 5,
    "start_time": "2024-11-08T00:58:13.182Z"
   },
   {
    "duration": 17,
    "start_time": "2024-11-08T01:10:32.372Z"
   },
   {
    "duration": 2,
    "start_time": "2024-11-08T01:10:51.665Z"
   },
   {
    "duration": 131,
    "start_time": "2024-11-08T01:10:58.553Z"
   },
   {
    "duration": 9,
    "start_time": "2024-11-08T01:14:33.924Z"
   },
   {
    "duration": 158,
    "start_time": "2024-11-08T23:13:40.347Z"
   },
   {
    "duration": 2593,
    "start_time": "2024-11-08T23:15:11.733Z"
   },
   {
    "duration": 209,
    "start_time": "2024-11-08T23:15:14.328Z"
   },
   {
    "duration": 4,
    "start_time": "2024-11-08T23:15:14.539Z"
   },
   {
    "duration": 53,
    "start_time": "2024-11-08T23:15:14.546Z"
   },
   {
    "duration": 49,
    "start_time": "2024-11-08T23:15:14.602Z"
   },
   {
    "duration": 36,
    "start_time": "2024-11-08T23:15:14.653Z"
   },
   {
    "duration": 10,
    "start_time": "2024-11-08T23:15:14.691Z"
   },
   {
    "duration": 13,
    "start_time": "2024-11-08T23:15:14.702Z"
   },
   {
    "duration": 8,
    "start_time": "2024-11-08T23:15:14.716Z"
   },
   {
    "duration": 9,
    "start_time": "2024-11-08T23:15:14.728Z"
   },
   {
    "duration": 3,
    "start_time": "2024-11-08T23:15:14.739Z"
   },
   {
    "duration": 48,
    "start_time": "2024-11-08T23:15:14.744Z"
   },
   {
    "duration": 8,
    "start_time": "2024-11-08T23:15:14.793Z"
   },
   {
    "duration": 2,
    "start_time": "2024-11-08T23:15:14.803Z"
   },
   {
    "duration": 3,
    "start_time": "2024-11-08T23:15:14.807Z"
   },
   {
    "duration": 4,
    "start_time": "2024-11-08T23:15:14.811Z"
   },
   {
    "duration": 7,
    "start_time": "2024-11-08T23:15:14.816Z"
   },
   {
    "duration": 7,
    "start_time": "2024-11-08T23:15:14.825Z"
   },
   {
    "duration": 8,
    "start_time": "2024-11-08T23:15:14.834Z"
   },
   {
    "duration": 42,
    "start_time": "2024-11-08T23:15:14.845Z"
   },
   {
    "duration": 4,
    "start_time": "2024-11-08T23:15:14.889Z"
   },
   {
    "duration": 14,
    "start_time": "2024-11-08T23:15:14.894Z"
   },
   {
    "duration": 12,
    "start_time": "2024-11-08T23:15:14.909Z"
   },
   {
    "duration": 7,
    "start_time": "2024-11-08T23:15:14.923Z"
   },
   {
    "duration": 4,
    "start_time": "2024-11-08T23:15:14.933Z"
   },
   {
    "duration": 135,
    "start_time": "2024-11-08T23:15:14.938Z"
   },
   {
    "duration": 12,
    "start_time": "2024-11-08T23:15:15.075Z"
   },
   {
    "duration": 21,
    "start_time": "2024-11-08T23:15:15.093Z"
   },
   {
    "duration": 11,
    "start_time": "2024-11-08T23:15:15.116Z"
   },
   {
    "duration": 7,
    "start_time": "2024-11-08T23:15:15.129Z"
   },
   {
    "duration": 4,
    "start_time": "2024-11-08T23:15:15.138Z"
   },
   {
    "duration": 5,
    "start_time": "2024-11-08T23:15:15.144Z"
   },
   {
    "duration": 6,
    "start_time": "2024-11-08T23:15:15.151Z"
   },
   {
    "duration": 35,
    "start_time": "2024-11-08T23:15:15.159Z"
   },
   {
    "duration": 10,
    "start_time": "2024-11-08T23:15:15.196Z"
   },
   {
    "duration": 6,
    "start_time": "2024-11-08T23:15:15.208Z"
   },
   {
    "duration": 5,
    "start_time": "2024-11-08T23:15:15.216Z"
   },
   {
    "duration": 5,
    "start_time": "2024-11-08T23:15:15.222Z"
   },
   {
    "duration": 60,
    "start_time": "2024-11-08T23:15:15.228Z"
   },
   {
    "duration": 11,
    "start_time": "2024-11-08T23:15:15.289Z"
   },
   {
    "duration": 3,
    "start_time": "2024-11-08T23:15:15.302Z"
   },
   {
    "duration": 8,
    "start_time": "2024-11-08T23:15:15.307Z"
   },
   {
    "duration": 13,
    "start_time": "2024-11-08T23:15:15.316Z"
   },
   {
    "duration": 23,
    "start_time": "2024-11-08T23:15:15.330Z"
   },
   {
    "duration": 4,
    "start_time": "2024-11-08T23:15:15.387Z"
   },
   {
    "duration": 8,
    "start_time": "2024-11-08T23:15:15.393Z"
   },
   {
    "duration": 22,
    "start_time": "2024-11-08T23:15:15.403Z"
   },
   {
    "duration": 17,
    "start_time": "2024-11-08T23:15:15.426Z"
   },
   {
    "duration": 43,
    "start_time": "2024-11-08T23:15:15.445Z"
   },
   {
    "duration": 11,
    "start_time": "2024-11-08T23:15:15.489Z"
   },
   {
    "duration": 12,
    "start_time": "2024-11-08T23:15:15.501Z"
   },
   {
    "duration": 6,
    "start_time": "2024-11-08T23:15:15.514Z"
   },
   {
    "duration": 12,
    "start_time": "2024-11-08T23:15:15.522Z"
   },
   {
    "duration": 20,
    "start_time": "2024-11-08T23:15:15.535Z"
   },
   {
    "duration": 31,
    "start_time": "2024-11-08T23:15:15.556Z"
   },
   {
    "duration": 2,
    "start_time": "2024-11-08T23:15:15.589Z"
   },
   {
    "duration": 3,
    "start_time": "2024-11-08T23:15:15.593Z"
   },
   {
    "duration": 49,
    "start_time": "2024-11-08T23:15:15.597Z"
   },
   {
    "duration": 42,
    "start_time": "2024-11-08T23:15:15.648Z"
   },
   {
    "duration": 3,
    "start_time": "2024-11-08T23:15:15.692Z"
   },
   {
    "duration": 38,
    "start_time": "2024-11-08T23:15:15.697Z"
   },
   {
    "duration": 18,
    "start_time": "2024-11-08T23:15:15.736Z"
   },
   {
    "duration": 2,
    "start_time": "2024-11-08T23:15:15.757Z"
   },
   {
    "duration": 32,
    "start_time": "2024-11-08T23:15:15.760Z"
   },
   {
    "duration": 331,
    "start_time": "2024-11-08T23:15:15.793Z"
   },
   {
    "duration": 5,
    "start_time": "2024-11-08T23:15:16.126Z"
   },
   {
    "duration": 131,
    "start_time": "2024-11-08T23:15:16.133Z"
   },
   {
    "duration": 5,
    "start_time": "2024-11-08T23:15:16.265Z"
   },
   {
    "duration": 18,
    "start_time": "2024-11-08T23:15:16.271Z"
   },
   {
    "duration": 2,
    "start_time": "2024-11-08T23:15:16.290Z"
   },
   {
    "duration": 3,
    "start_time": "2024-11-08T23:15:16.294Z"
   },
   {
    "duration": 2,
    "start_time": "2024-11-08T23:15:16.298Z"
   },
   {
    "duration": 11,
    "start_time": "2024-11-08T23:26:56.885Z"
   },
   {
    "duration": 324,
    "start_time": "2024-11-08T23:27:02.351Z"
   },
   {
    "duration": 5,
    "start_time": "2024-11-08T23:27:11.805Z"
   },
   {
    "duration": 5,
    "start_time": "2024-11-08T23:27:15.804Z"
   },
   {
    "duration": 111,
    "start_time": "2024-11-08T23:27:18.987Z"
   },
   {
    "duration": 706,
    "start_time": "2024-11-08T23:30:07.482Z"
   },
   {
    "duration": 216,
    "start_time": "2024-11-08T23:30:21.941Z"
   },
   {
    "duration": 67,
    "start_time": "2024-11-08T23:30:36.110Z"
   },
   {
    "duration": 16,
    "start_time": "2024-11-08T23:31:35.228Z"
   },
   {
    "duration": 9,
    "start_time": "2024-11-08T23:31:41.139Z"
   },
   {
    "duration": 16,
    "start_time": "2024-11-08T23:33:32.112Z"
   },
   {
    "duration": 11,
    "start_time": "2024-11-08T23:33:34.690Z"
   },
   {
    "duration": 17,
    "start_time": "2024-11-08T23:33:45.103Z"
   },
   {
    "duration": 11,
    "start_time": "2024-11-08T23:33:46.739Z"
   },
   {
    "duration": 19,
    "start_time": "2024-11-08T23:33:57.017Z"
   },
   {
    "duration": 12,
    "start_time": "2024-11-08T23:33:59.417Z"
   },
   {
    "duration": 15,
    "start_time": "2024-11-08T23:34:28.046Z"
   },
   {
    "duration": 6,
    "start_time": "2024-11-08T23:34:29.634Z"
   },
   {
    "duration": 16,
    "start_time": "2024-11-08T23:34:45.863Z"
   },
   {
    "duration": 793,
    "start_time": "2024-11-08T23:34:55.584Z"
   },
   {
    "duration": 157,
    "start_time": "2024-11-08T23:34:56.379Z"
   },
   {
    "duration": 4,
    "start_time": "2024-11-08T23:34:56.538Z"
   },
   {
    "duration": 59,
    "start_time": "2024-11-08T23:34:56.545Z"
   },
   {
    "duration": 52,
    "start_time": "2024-11-08T23:34:56.606Z"
   },
   {
    "duration": 43,
    "start_time": "2024-11-08T23:34:56.660Z"
   },
   {
    "duration": 10,
    "start_time": "2024-11-08T23:34:56.705Z"
   },
   {
    "duration": 13,
    "start_time": "2024-11-08T23:34:56.716Z"
   },
   {
    "duration": 8,
    "start_time": "2024-11-08T23:34:56.731Z"
   },
   {
    "duration": 8,
    "start_time": "2024-11-08T23:34:56.743Z"
   },
   {
    "duration": 3,
    "start_time": "2024-11-08T23:34:56.753Z"
   },
   {
    "duration": 6,
    "start_time": "2024-11-08T23:34:56.786Z"
   },
   {
    "duration": 8,
    "start_time": "2024-11-08T23:34:56.794Z"
   },
   {
    "duration": 3,
    "start_time": "2024-11-08T23:34:56.803Z"
   },
   {
    "duration": 3,
    "start_time": "2024-11-08T23:34:56.808Z"
   },
   {
    "duration": 5,
    "start_time": "2024-11-08T23:34:56.812Z"
   },
   {
    "duration": 8,
    "start_time": "2024-11-08T23:34:56.818Z"
   },
   {
    "duration": 7,
    "start_time": "2024-11-08T23:34:56.828Z"
   },
   {
    "duration": 51,
    "start_time": "2024-11-08T23:34:56.837Z"
   },
   {
    "duration": 4,
    "start_time": "2024-11-08T23:34:56.890Z"
   },
   {
    "duration": 4,
    "start_time": "2024-11-08T23:34:56.895Z"
   },
   {
    "duration": 14,
    "start_time": "2024-11-08T23:34:56.900Z"
   },
   {
    "duration": 12,
    "start_time": "2024-11-08T23:34:56.915Z"
   },
   {
    "duration": 6,
    "start_time": "2024-11-08T23:34:56.929Z"
   },
   {
    "duration": 3,
    "start_time": "2024-11-08T23:34:56.936Z"
   },
   {
    "duration": 146,
    "start_time": "2024-11-08T23:34:56.941Z"
   },
   {
    "duration": 8,
    "start_time": "2024-11-08T23:34:57.090Z"
   },
   {
    "duration": 12,
    "start_time": "2024-11-08T23:34:57.104Z"
   },
   {
    "duration": 11,
    "start_time": "2024-11-08T23:34:57.117Z"
   },
   {
    "duration": 5,
    "start_time": "2024-11-08T23:34:57.129Z"
   },
   {
    "duration": 5,
    "start_time": "2024-11-08T23:34:57.136Z"
   },
   {
    "duration": 4,
    "start_time": "2024-11-08T23:34:57.142Z"
   },
   {
    "duration": 44,
    "start_time": "2024-11-08T23:34:57.147Z"
   },
   {
    "duration": 8,
    "start_time": "2024-11-08T23:34:57.192Z"
   },
   {
    "duration": 10,
    "start_time": "2024-11-08T23:34:57.202Z"
   },
   {
    "duration": 7,
    "start_time": "2024-11-08T23:34:57.214Z"
   },
   {
    "duration": 6,
    "start_time": "2024-11-08T23:34:57.222Z"
   },
   {
    "duration": 4,
    "start_time": "2024-11-08T23:34:57.229Z"
   },
   {
    "duration": 65,
    "start_time": "2024-11-08T23:34:57.235Z"
   },
   {
    "duration": 10,
    "start_time": "2024-11-08T23:34:57.302Z"
   },
   {
    "duration": 3,
    "start_time": "2024-11-08T23:34:57.314Z"
   },
   {
    "duration": 7,
    "start_time": "2024-11-08T23:34:57.319Z"
   },
   {
    "duration": 10,
    "start_time": "2024-11-08T23:34:57.328Z"
   },
   {
    "duration": 52,
    "start_time": "2024-11-08T23:34:57.339Z"
   },
   {
    "duration": 5,
    "start_time": "2024-11-08T23:34:57.392Z"
   },
   {
    "duration": 8,
    "start_time": "2024-11-08T23:34:57.399Z"
   },
   {
    "duration": 23,
    "start_time": "2024-11-08T23:34:57.409Z"
   },
   {
    "duration": 17,
    "start_time": "2024-11-08T23:34:57.434Z"
   },
   {
    "duration": 42,
    "start_time": "2024-11-08T23:34:57.453Z"
   },
   {
    "duration": 11,
    "start_time": "2024-11-08T23:34:57.497Z"
   },
   {
    "duration": 10,
    "start_time": "2024-11-08T23:34:57.510Z"
   },
   {
    "duration": 7,
    "start_time": "2024-11-08T23:34:57.521Z"
   },
   {
    "duration": 11,
    "start_time": "2024-11-08T23:34:57.530Z"
   },
   {
    "duration": 58,
    "start_time": "2024-11-08T23:34:57.543Z"
   },
   {
    "duration": 3,
    "start_time": "2024-11-08T23:34:57.603Z"
   },
   {
    "duration": 4,
    "start_time": "2024-11-08T23:34:57.610Z"
   },
   {
    "duration": 3,
    "start_time": "2024-11-08T23:34:57.616Z"
   },
   {
    "duration": 70,
    "start_time": "2024-11-08T23:34:57.621Z"
   },
   {
    "duration": 19,
    "start_time": "2024-11-08T23:34:57.692Z"
   },
   {
    "duration": 3,
    "start_time": "2024-11-08T23:34:57.712Z"
   },
   {
    "duration": 40,
    "start_time": "2024-11-08T23:34:57.717Z"
   },
   {
    "duration": 40,
    "start_time": "2024-11-08T23:34:57.759Z"
   },
   {
    "duration": 3,
    "start_time": "2024-11-08T23:34:57.800Z"
   },
   {
    "duration": 278,
    "start_time": "2024-11-08T23:34:57.804Z"
   },
   {
    "duration": 0,
    "start_time": "2024-11-08T23:34:58.087Z"
   },
   {
    "duration": 0,
    "start_time": "2024-11-08T23:34:58.089Z"
   },
   {
    "duration": 0,
    "start_time": "2024-11-08T23:34:58.090Z"
   },
   {
    "duration": 0,
    "start_time": "2024-11-08T23:34:58.091Z"
   },
   {
    "duration": 0,
    "start_time": "2024-11-08T23:34:58.092Z"
   },
   {
    "duration": 0,
    "start_time": "2024-11-08T23:34:58.093Z"
   },
   {
    "duration": 0,
    "start_time": "2024-11-08T23:34:58.095Z"
   },
   {
    "duration": 0,
    "start_time": "2024-11-08T23:34:58.096Z"
   },
   {
    "duration": 14,
    "start_time": "2024-11-08T23:35:08.608Z"
   },
   {
    "duration": 14,
    "start_time": "2024-11-08T23:35:12.524Z"
   },
   {
    "duration": 9,
    "start_time": "2024-11-08T23:35:14.891Z"
   },
   {
    "duration": 13,
    "start_time": "2024-11-08T23:35:39.829Z"
   },
   {
    "duration": 8,
    "start_time": "2024-11-08T23:35:43.932Z"
   },
   {
    "duration": 22,
    "start_time": "2024-11-08T23:36:58.224Z"
   },
   {
    "duration": 11,
    "start_time": "2024-11-08T23:37:06.183Z"
   },
   {
    "duration": 11,
    "start_time": "2024-11-08T23:37:08.275Z"
   },
   {
    "duration": 319,
    "start_time": "2024-11-08T23:37:10.593Z"
   },
   {
    "duration": 5,
    "start_time": "2024-11-08T23:37:14.535Z"
   },
   {
    "duration": 23,
    "start_time": "2024-11-08T23:37:18.123Z"
   },
   {
    "duration": 106,
    "start_time": "2024-11-08T23:37:44.425Z"
   },
   {
    "duration": 287,
    "start_time": "2024-11-08T23:39:44.616Z"
   },
   {
    "duration": 19,
    "start_time": "2024-11-08T23:41:05.725Z"
   },
   {
    "duration": 12,
    "start_time": "2024-11-08T23:42:07.919Z"
   },
   {
    "duration": 8,
    "start_time": "2024-11-08T23:42:17.237Z"
   },
   {
    "duration": 877,
    "start_time": "2024-11-08T23:53:03.105Z"
   },
   {
    "duration": 172,
    "start_time": "2024-11-08T23:53:03.985Z"
   },
   {
    "duration": 4,
    "start_time": "2024-11-08T23:53:04.159Z"
   },
   {
    "duration": 53,
    "start_time": "2024-11-08T23:53:04.166Z"
   },
   {
    "duration": 50,
    "start_time": "2024-11-08T23:53:04.221Z"
   },
   {
    "duration": 36,
    "start_time": "2024-11-08T23:53:04.273Z"
   },
   {
    "duration": 14,
    "start_time": "2024-11-08T23:53:04.311Z"
   },
   {
    "duration": 13,
    "start_time": "2024-11-08T23:53:04.326Z"
   },
   {
    "duration": 7,
    "start_time": "2024-11-08T23:53:04.341Z"
   },
   {
    "duration": 37,
    "start_time": "2024-11-08T23:53:04.352Z"
   },
   {
    "duration": 4,
    "start_time": "2024-11-08T23:53:04.391Z"
   },
   {
    "duration": 6,
    "start_time": "2024-11-08T23:53:04.397Z"
   },
   {
    "duration": 8,
    "start_time": "2024-11-08T23:53:04.405Z"
   },
   {
    "duration": 3,
    "start_time": "2024-11-08T23:53:04.415Z"
   },
   {
    "duration": 5,
    "start_time": "2024-11-08T23:53:04.419Z"
   },
   {
    "duration": 4,
    "start_time": "2024-11-08T23:53:04.425Z"
   },
   {
    "duration": 9,
    "start_time": "2024-11-08T23:53:04.431Z"
   },
   {
    "duration": 8,
    "start_time": "2024-11-08T23:53:04.442Z"
   },
   {
    "duration": 9,
    "start_time": "2024-11-08T23:53:04.487Z"
   },
   {
    "duration": 4,
    "start_time": "2024-11-08T23:53:04.498Z"
   },
   {
    "duration": 3,
    "start_time": "2024-11-08T23:53:04.504Z"
   },
   {
    "duration": 13,
    "start_time": "2024-11-08T23:53:04.508Z"
   },
   {
    "duration": 11,
    "start_time": "2024-11-08T23:53:04.523Z"
   },
   {
    "duration": 7,
    "start_time": "2024-11-08T23:53:04.535Z"
   },
   {
    "duration": 3,
    "start_time": "2024-11-08T23:53:04.543Z"
   },
   {
    "duration": 145,
    "start_time": "2024-11-08T23:53:04.547Z"
   },
   {
    "duration": 8,
    "start_time": "2024-11-08T23:53:04.694Z"
   },
   {
    "duration": 12,
    "start_time": "2024-11-08T23:53:04.707Z"
   },
   {
    "duration": 10,
    "start_time": "2024-11-08T23:53:04.721Z"
   },
   {
    "duration": 6,
    "start_time": "2024-11-08T23:53:04.732Z"
   },
   {
    "duration": 5,
    "start_time": "2024-11-08T23:53:04.739Z"
   },
   {
    "duration": 4,
    "start_time": "2024-11-08T23:53:04.745Z"
   },
   {
    "duration": 39,
    "start_time": "2024-11-08T23:53:04.751Z"
   },
   {
    "duration": 8,
    "start_time": "2024-11-08T23:53:04.792Z"
   },
   {
    "duration": 12,
    "start_time": "2024-11-08T23:53:04.802Z"
   },
   {
    "duration": 7,
    "start_time": "2024-11-08T23:53:04.816Z"
   },
   {
    "duration": 8,
    "start_time": "2024-11-08T23:53:04.825Z"
   },
   {
    "duration": 5,
    "start_time": "2024-11-08T23:53:04.836Z"
   },
   {
    "duration": 55,
    "start_time": "2024-11-08T23:53:04.843Z"
   },
   {
    "duration": 11,
    "start_time": "2024-11-08T23:53:04.899Z"
   },
   {
    "duration": 3,
    "start_time": "2024-11-08T23:53:04.912Z"
   },
   {
    "duration": 8,
    "start_time": "2024-11-08T23:53:04.917Z"
   },
   {
    "duration": 11,
    "start_time": "2024-11-08T23:53:04.927Z"
   },
   {
    "duration": 55,
    "start_time": "2024-11-08T23:53:04.939Z"
   },
   {
    "duration": 5,
    "start_time": "2024-11-08T23:53:04.995Z"
   },
   {
    "duration": 8,
    "start_time": "2024-11-08T23:53:05.001Z"
   },
   {
    "duration": 22,
    "start_time": "2024-11-08T23:53:05.011Z"
   },
   {
    "duration": 19,
    "start_time": "2024-11-08T23:53:05.036Z"
   },
   {
    "duration": 42,
    "start_time": "2024-11-08T23:53:05.057Z"
   },
   {
    "duration": 12,
    "start_time": "2024-11-08T23:53:05.101Z"
   },
   {
    "duration": 11,
    "start_time": "2024-11-08T23:53:05.114Z"
   },
   {
    "duration": 7,
    "start_time": "2024-11-08T23:53:05.126Z"
   },
   {
    "duration": 11,
    "start_time": "2024-11-08T23:53:05.134Z"
   },
   {
    "duration": 50,
    "start_time": "2024-11-08T23:53:05.147Z"
   },
   {
    "duration": 3,
    "start_time": "2024-11-08T23:53:05.198Z"
   },
   {
    "duration": 2,
    "start_time": "2024-11-08T23:53:05.203Z"
   },
   {
    "duration": 4,
    "start_time": "2024-11-08T23:53:05.206Z"
   },
   {
    "duration": 48,
    "start_time": "2024-11-08T23:53:05.212Z"
   },
   {
    "duration": 40,
    "start_time": "2024-11-08T23:53:05.262Z"
   },
   {
    "duration": 4,
    "start_time": "2024-11-08T23:53:05.303Z"
   },
   {
    "duration": 39,
    "start_time": "2024-11-08T23:53:05.308Z"
   },
   {
    "duration": 18,
    "start_time": "2024-11-08T23:53:05.349Z"
   },
   {
    "duration": 2,
    "start_time": "2024-11-08T23:53:05.387Z"
   },
   {
    "duration": 10,
    "start_time": "2024-11-08T23:53:05.391Z"
   },
   {
    "duration": 316,
    "start_time": "2024-11-08T23:53:05.403Z"
   },
   {
    "duration": 5,
    "start_time": "2024-11-08T23:53:05.721Z"
   },
   {
    "duration": 158,
    "start_time": "2024-11-08T23:53:05.728Z"
   },
   {
    "duration": 14,
    "start_time": "2024-11-08T23:53:05.888Z"
   },
   {
    "duration": 7,
    "start_time": "2024-11-08T23:53:05.903Z"
   },
   {
    "duration": 5,
    "start_time": "2024-11-08T23:53:05.913Z"
   },
   {
    "duration": 2,
    "start_time": "2024-11-08T23:53:05.922Z"
   },
   {
    "duration": 2,
    "start_time": "2024-11-08T23:53:05.926Z"
   },
   {
    "duration": 322,
    "start_time": "2024-11-08T23:55:21.690Z"
   },
   {
    "duration": 765,
    "start_time": "2024-11-08T23:57:15.452Z"
   },
   {
    "duration": 11,
    "start_time": "2024-11-08T23:57:55.784Z"
   },
   {
    "duration": 7,
    "start_time": "2024-11-08T23:57:58.203Z"
   },
   {
    "duration": 192,
    "start_time": "2024-11-08T23:58:05.444Z"
   },
   {
    "duration": 207,
    "start_time": "2024-11-08T23:58:53.148Z"
   },
   {
    "duration": 12,
    "start_time": "2024-11-08T23:59:21.036Z"
   },
   {
    "duration": 184,
    "start_time": "2024-11-08T23:59:24.715Z"
   },
   {
    "duration": 188,
    "start_time": "2024-11-08T23:59:27.713Z"
   },
   {
    "duration": 6,
    "start_time": "2024-11-09T00:00:35.378Z"
   },
   {
    "duration": 279,
    "start_time": "2024-11-09T00:01:48.860Z"
   },
   {
    "duration": 518,
    "start_time": "2024-11-09T00:02:55.018Z"
   },
   {
    "duration": 366,
    "start_time": "2024-11-09T00:04:54.996Z"
   },
   {
    "duration": 7,
    "start_time": "2024-11-09T00:05:46.310Z"
   },
   {
    "duration": 394,
    "start_time": "2024-11-09T00:10:08.511Z"
   },
   {
    "duration": 5,
    "start_time": "2024-11-09T00:23:06.896Z"
   },
   {
    "duration": 122,
    "start_time": "2024-11-09T00:26:53.767Z"
   },
   {
    "duration": 18,
    "start_time": "2024-11-09T00:39:37.779Z"
   },
   {
    "duration": 11,
    "start_time": "2024-11-09T00:41:02.214Z"
   },
   {
    "duration": 7,
    "start_time": "2024-11-09T00:41:09.806Z"
   },
   {
    "duration": 370,
    "start_time": "2024-11-09T00:42:38.807Z"
   },
   {
    "duration": 5,
    "start_time": "2024-11-09T00:49:38.009Z"
   },
   {
    "duration": 5,
    "start_time": "2024-11-09T00:49:45.221Z"
   },
   {
    "duration": 5,
    "start_time": "2024-11-09T00:49:46.254Z"
   },
   {
    "duration": 4,
    "start_time": "2024-11-09T00:49:47.171Z"
   },
   {
    "duration": 5,
    "start_time": "2024-11-09T00:49:55.778Z"
   },
   {
    "duration": 4,
    "start_time": "2024-11-09T00:50:07.405Z"
   },
   {
    "duration": 5,
    "start_time": "2024-11-09T00:52:34.654Z"
   },
   {
    "duration": 43,
    "start_time": "2024-11-09T00:52:39.686Z"
   },
   {
    "duration": 12,
    "start_time": "2024-11-09T00:53:24.561Z"
   },
   {
    "duration": 7,
    "start_time": "2024-11-09T00:53:26.574Z"
   },
   {
    "duration": 392,
    "start_time": "2024-11-09T00:53:29.833Z"
   },
   {
    "duration": 44,
    "start_time": "2024-11-09T00:53:35.338Z"
   },
   {
    "duration": 5,
    "start_time": "2024-11-09T00:54:17.578Z"
   },
   {
    "duration": 191,
    "start_time": "2024-11-10T20:47:20.980Z"
   },
   {
    "duration": 2692,
    "start_time": "2024-11-10T20:47:32.471Z"
   },
   {
    "duration": 249,
    "start_time": "2024-11-10T20:47:35.169Z"
   },
   {
    "duration": 6,
    "start_time": "2024-11-10T20:47:35.419Z"
   },
   {
    "duration": 55,
    "start_time": "2024-11-10T20:47:35.427Z"
   },
   {
    "duration": 52,
    "start_time": "2024-11-10T20:47:35.485Z"
   },
   {
    "duration": 46,
    "start_time": "2024-11-10T20:47:35.539Z"
   },
   {
    "duration": 10,
    "start_time": "2024-11-10T20:47:35.587Z"
   },
   {
    "duration": 14,
    "start_time": "2024-11-10T20:47:35.599Z"
   },
   {
    "duration": 9,
    "start_time": "2024-11-10T20:47:35.614Z"
   },
   {
    "duration": 12,
    "start_time": "2024-11-10T20:47:35.625Z"
   },
   {
    "duration": 34,
    "start_time": "2024-11-10T20:47:35.638Z"
   },
   {
    "duration": 10,
    "start_time": "2024-11-10T20:47:35.673Z"
   },
   {
    "duration": 9,
    "start_time": "2024-11-10T20:47:35.685Z"
   },
   {
    "duration": 3,
    "start_time": "2024-11-10T20:47:35.698Z"
   },
   {
    "duration": 4,
    "start_time": "2024-11-10T20:47:35.702Z"
   },
   {
    "duration": 4,
    "start_time": "2024-11-10T20:47:35.707Z"
   },
   {
    "duration": 8,
    "start_time": "2024-11-10T20:47:35.713Z"
   },
   {
    "duration": 51,
    "start_time": "2024-11-10T20:47:35.723Z"
   },
   {
    "duration": 11,
    "start_time": "2024-11-10T20:47:35.776Z"
   },
   {
    "duration": 4,
    "start_time": "2024-11-10T20:47:35.789Z"
   },
   {
    "duration": 3,
    "start_time": "2024-11-10T20:47:35.795Z"
   },
   {
    "duration": 18,
    "start_time": "2024-11-10T20:47:35.800Z"
   },
   {
    "duration": 15,
    "start_time": "2024-11-10T20:47:35.821Z"
   },
   {
    "duration": 39,
    "start_time": "2024-11-10T20:47:35.838Z"
   },
   {
    "duration": 2,
    "start_time": "2024-11-10T20:47:35.879Z"
   },
   {
    "duration": 124,
    "start_time": "2024-11-10T20:47:35.883Z"
   },
   {
    "duration": 8,
    "start_time": "2024-11-10T20:47:36.009Z"
   },
   {
    "duration": 14,
    "start_time": "2024-11-10T20:47:36.018Z"
   },
   {
    "duration": 11,
    "start_time": "2024-11-10T20:47:36.033Z"
   },
   {
    "duration": 24,
    "start_time": "2024-11-10T20:47:36.046Z"
   },
   {
    "duration": 5,
    "start_time": "2024-11-10T20:47:36.073Z"
   },
   {
    "duration": 4,
    "start_time": "2024-11-10T20:47:36.080Z"
   },
   {
    "duration": 6,
    "start_time": "2024-11-10T20:47:36.086Z"
   },
   {
    "duration": 10,
    "start_time": "2024-11-10T20:47:36.094Z"
   },
   {
    "duration": 14,
    "start_time": "2024-11-10T20:47:36.106Z"
   },
   {
    "duration": 49,
    "start_time": "2024-11-10T20:47:36.121Z"
   },
   {
    "duration": 6,
    "start_time": "2024-11-10T20:47:36.173Z"
   },
   {
    "duration": 5,
    "start_time": "2024-11-10T20:47:36.181Z"
   },
   {
    "duration": 28,
    "start_time": "2024-11-10T20:47:36.188Z"
   },
   {
    "duration": 11,
    "start_time": "2024-11-10T20:47:36.218Z"
   },
   {
    "duration": 5,
    "start_time": "2024-11-10T20:47:36.235Z"
   },
   {
    "duration": 10,
    "start_time": "2024-11-10T20:47:36.270Z"
   },
   {
    "duration": 15,
    "start_time": "2024-11-10T20:47:36.282Z"
   },
   {
    "duration": 32,
    "start_time": "2024-11-10T20:47:36.299Z"
   },
   {
    "duration": 5,
    "start_time": "2024-11-10T20:47:36.333Z"
   },
   {
    "duration": 35,
    "start_time": "2024-11-10T20:47:36.341Z"
   },
   {
    "duration": 27,
    "start_time": "2024-11-10T20:47:36.378Z"
   },
   {
    "duration": 26,
    "start_time": "2024-11-10T20:47:36.407Z"
   },
   {
    "duration": 41,
    "start_time": "2024-11-10T20:47:36.437Z"
   },
   {
    "duration": 16,
    "start_time": "2024-11-10T20:47:36.480Z"
   },
   {
    "duration": 16,
    "start_time": "2024-11-10T20:47:36.497Z"
   },
   {
    "duration": 8,
    "start_time": "2024-11-10T20:47:36.514Z"
   },
   {
    "duration": 16,
    "start_time": "2024-11-10T20:47:36.523Z"
   },
   {
    "duration": 54,
    "start_time": "2024-11-10T20:47:36.541Z"
   },
   {
    "duration": 3,
    "start_time": "2024-11-10T20:47:36.597Z"
   },
   {
    "duration": 3,
    "start_time": "2024-11-10T20:47:36.602Z"
   },
   {
    "duration": 3,
    "start_time": "2024-11-10T20:47:36.607Z"
   },
   {
    "duration": 94,
    "start_time": "2024-11-10T20:47:36.611Z"
   },
   {
    "duration": 27,
    "start_time": "2024-11-10T20:47:36.708Z"
   },
   {
    "duration": 7,
    "start_time": "2024-11-10T20:47:36.739Z"
   },
   {
    "duration": 69,
    "start_time": "2024-11-10T20:47:36.747Z"
   },
   {
    "duration": 24,
    "start_time": "2024-11-10T20:47:36.818Z"
   },
   {
    "duration": 4,
    "start_time": "2024-11-10T20:47:36.846Z"
   },
   {
    "duration": 29,
    "start_time": "2024-11-10T20:47:36.853Z"
   },
   {
    "duration": 441,
    "start_time": "2024-11-10T20:47:36.884Z"
   },
   {
    "duration": 6,
    "start_time": "2024-11-10T20:47:37.327Z"
   },
   {
    "duration": 145,
    "start_time": "2024-11-10T20:47:37.336Z"
   },
   {
    "duration": 16,
    "start_time": "2024-11-10T20:47:37.483Z"
   },
   {
    "duration": 6,
    "start_time": "2024-11-10T20:47:37.501Z"
   },
   {
    "duration": 496,
    "start_time": "2024-11-10T20:47:37.509Z"
   },
   {
    "duration": 5,
    "start_time": "2024-11-10T20:47:38.007Z"
   },
   {
    "duration": 138,
    "start_time": "2024-11-10T20:47:40.237Z"
   },
   {
    "duration": 244,
    "start_time": "2024-11-10T20:49:14.091Z"
   },
   {
    "duration": 51,
    "start_time": "2024-11-10T20:49:30.324Z"
   },
   {
    "duration": 21,
    "start_time": "2024-11-10T20:49:45.967Z"
   },
   {
    "duration": 22,
    "start_time": "2024-11-10T20:49:58.700Z"
   },
   {
    "duration": 17,
    "start_time": "2024-11-10T20:50:11.388Z"
   },
   {
    "duration": 2,
    "start_time": "2024-11-10T20:50:11.408Z"
   },
   {
    "duration": 1,
    "start_time": "2024-11-10T20:50:11.413Z"
   },
   {
    "duration": 3,
    "start_time": "2024-11-10T20:50:22.893Z"
   },
   {
    "duration": 154,
    "start_time": "2024-11-10T20:50:22.898Z"
   },
   {
    "duration": 3,
    "start_time": "2024-11-10T20:50:23.054Z"
   },
   {
    "duration": 54,
    "start_time": "2024-11-10T20:50:23.059Z"
   },
   {
    "duration": 65,
    "start_time": "2024-11-10T20:50:23.116Z"
   },
   {
    "duration": 33,
    "start_time": "2024-11-10T20:50:23.184Z"
   },
   {
    "duration": 11,
    "start_time": "2024-11-10T20:50:23.219Z"
   },
   {
    "duration": 11,
    "start_time": "2024-11-10T20:50:23.232Z"
   },
   {
    "duration": 7,
    "start_time": "2024-11-10T20:50:23.245Z"
   },
   {
    "duration": 11,
    "start_time": "2024-11-10T20:50:23.286Z"
   },
   {
    "duration": 3,
    "start_time": "2024-11-10T20:50:23.299Z"
   },
   {
    "duration": 7,
    "start_time": "2024-11-10T20:50:23.304Z"
   },
   {
    "duration": 9,
    "start_time": "2024-11-10T20:50:23.312Z"
   },
   {
    "duration": 2,
    "start_time": "2024-11-10T20:50:23.325Z"
   },
   {
    "duration": 3,
    "start_time": "2024-11-10T20:50:23.328Z"
   },
   {
    "duration": 4,
    "start_time": "2024-11-10T20:50:23.333Z"
   },
   {
    "duration": 7,
    "start_time": "2024-11-10T20:50:23.340Z"
   },
   {
    "duration": 46,
    "start_time": "2024-11-10T20:50:23.349Z"
   },
   {
    "duration": 13,
    "start_time": "2024-11-10T20:50:23.397Z"
   },
   {
    "duration": 5,
    "start_time": "2024-11-10T20:50:23.414Z"
   },
   {
    "duration": 3,
    "start_time": "2024-11-10T20:50:23.421Z"
   },
   {
    "duration": 15,
    "start_time": "2024-11-10T20:50:23.426Z"
   },
   {
    "duration": 13,
    "start_time": "2024-11-10T20:50:23.442Z"
   },
   {
    "duration": 40,
    "start_time": "2024-11-10T20:50:23.456Z"
   },
   {
    "duration": 3,
    "start_time": "2024-11-10T20:50:23.497Z"
   },
   {
    "duration": 126,
    "start_time": "2024-11-10T20:50:23.501Z"
   },
   {
    "duration": 8,
    "start_time": "2024-11-10T20:50:23.629Z"
   },
   {
    "duration": 12,
    "start_time": "2024-11-10T20:50:23.639Z"
   },
   {
    "duration": 10,
    "start_time": "2024-11-10T20:50:23.653Z"
   },
   {
    "duration": 34,
    "start_time": "2024-11-10T20:50:23.664Z"
   },
   {
    "duration": 6,
    "start_time": "2024-11-10T20:50:23.699Z"
   },
   {
    "duration": 4,
    "start_time": "2024-11-10T20:50:23.706Z"
   },
   {
    "duration": 6,
    "start_time": "2024-11-10T20:50:23.712Z"
   },
   {
    "duration": 10,
    "start_time": "2024-11-10T20:50:23.719Z"
   },
   {
    "duration": 11,
    "start_time": "2024-11-10T20:50:23.731Z"
   },
   {
    "duration": 6,
    "start_time": "2024-11-10T20:50:23.744Z"
   },
   {
    "duration": 33,
    "start_time": "2024-11-10T20:50:23.752Z"
   },
   {
    "duration": 6,
    "start_time": "2024-11-10T20:50:23.787Z"
   },
   {
    "duration": 27,
    "start_time": "2024-11-10T20:50:23.795Z"
   },
   {
    "duration": 11,
    "start_time": "2024-11-10T20:50:23.824Z"
   },
   {
    "duration": 3,
    "start_time": "2024-11-10T20:50:23.841Z"
   },
   {
    "duration": 7,
    "start_time": "2024-11-10T20:50:23.845Z"
   },
   {
    "duration": 27,
    "start_time": "2024-11-10T20:50:23.854Z"
   },
   {
    "duration": 28,
    "start_time": "2024-11-10T20:50:23.883Z"
   },
   {
    "duration": 4,
    "start_time": "2024-11-10T20:50:23.913Z"
   },
   {
    "duration": 6,
    "start_time": "2024-11-10T20:50:23.919Z"
   },
   {
    "duration": 21,
    "start_time": "2024-11-10T20:50:23.927Z"
   },
   {
    "duration": 46,
    "start_time": "2024-11-10T20:50:23.949Z"
   },
   {
    "duration": 17,
    "start_time": "2024-11-10T20:50:23.997Z"
   },
   {
    "duration": 11,
    "start_time": "2024-11-10T20:50:24.016Z"
   },
   {
    "duration": 11,
    "start_time": "2024-11-10T20:50:24.029Z"
   },
   {
    "duration": 7,
    "start_time": "2024-11-10T20:50:24.041Z"
   },
   {
    "duration": 19,
    "start_time": "2024-11-10T20:50:24.069Z"
   },
   {
    "duration": 24,
    "start_time": "2024-11-10T20:50:24.089Z"
   },
   {
    "duration": 3,
    "start_time": "2024-11-10T20:50:24.114Z"
   },
   {
    "duration": 3,
    "start_time": "2024-11-10T20:50:24.118Z"
   },
   {
    "duration": 2,
    "start_time": "2024-11-10T20:50:24.123Z"
   },
   {
    "duration": 75,
    "start_time": "2024-11-10T20:50:24.127Z"
   },
   {
    "duration": 19,
    "start_time": "2024-11-10T20:50:24.204Z"
   },
   {
    "duration": 3,
    "start_time": "2024-11-10T20:50:24.225Z"
   },
   {
    "duration": 65,
    "start_time": "2024-11-10T20:50:24.229Z"
   },
   {
    "duration": 18,
    "start_time": "2024-11-10T20:50:24.295Z"
   },
   {
    "duration": 2,
    "start_time": "2024-11-10T20:50:24.315Z"
   },
   {
    "duration": 10,
    "start_time": "2024-11-10T20:50:24.319Z"
   },
   {
    "duration": 481,
    "start_time": "2024-11-10T20:50:24.331Z"
   },
   {
    "duration": 5,
    "start_time": "2024-11-10T20:50:24.814Z"
   },
   {
    "duration": 131,
    "start_time": "2024-11-10T20:50:24.821Z"
   },
   {
    "duration": 40,
    "start_time": "2024-11-10T20:50:24.953Z"
   },
   {
    "duration": 7,
    "start_time": "2024-11-10T20:50:24.998Z"
   },
   {
    "duration": 394,
    "start_time": "2024-11-10T20:50:25.007Z"
   },
   {
    "duration": 6,
    "start_time": "2024-11-10T20:50:25.403Z"
   },
   {
    "duration": 136,
    "start_time": "2024-11-10T20:50:25.411Z"
   },
   {
    "duration": 3,
    "start_time": "2024-11-10T20:50:25.550Z"
   },
   {
    "duration": 26,
    "start_time": "2024-11-10T20:50:25.555Z"
   },
   {
    "duration": 12,
    "start_time": "2024-11-10T20:50:25.585Z"
   },
   {
    "duration": 404,
    "start_time": "2024-11-10T20:50:25.599Z"
   },
   {
    "duration": 5,
    "start_time": "2024-11-10T20:50:26.005Z"
   },
   {
    "duration": 124,
    "start_time": "2024-11-10T20:50:26.012Z"
   },
   {
    "duration": 5,
    "start_time": "2024-11-10T21:07:43.409Z"
   },
   {
    "duration": 7,
    "start_time": "2024-11-10T21:07:53.704Z"
   },
   {
    "duration": 13,
    "start_time": "2024-11-10T21:08:11.221Z"
   },
   {
    "duration": 5,
    "start_time": "2024-11-10T21:08:14.338Z"
   },
   {
    "duration": 4,
    "start_time": "2024-11-10T21:08:16.318Z"
   },
   {
    "duration": 5,
    "start_time": "2024-11-10T21:09:18.138Z"
   },
   {
    "duration": 2,
    "start_time": "2024-11-10T21:09:24.412Z"
   },
   {
    "duration": 7,
    "start_time": "2024-11-10T21:09:46.808Z"
   },
   {
    "duration": 7,
    "start_time": "2024-11-10T21:09:49.917Z"
   },
   {
    "duration": 2915,
    "start_time": "2024-11-11T22:16:29.037Z"
   },
   {
    "duration": 358,
    "start_time": "2024-11-11T22:16:31.954Z"
   },
   {
    "duration": 15,
    "start_time": "2024-11-11T22:16:32.325Z"
   },
   {
    "duration": 99,
    "start_time": "2024-11-11T22:16:32.345Z"
   },
   {
    "duration": 91,
    "start_time": "2024-11-11T22:16:32.449Z"
   },
   {
    "duration": 37,
    "start_time": "2024-11-11T22:16:32.548Z"
   },
   {
    "duration": 14,
    "start_time": "2024-11-11T22:16:32.587Z"
   },
   {
    "duration": 30,
    "start_time": "2024-11-11T22:16:32.602Z"
   },
   {
    "duration": 12,
    "start_time": "2024-11-11T22:16:32.633Z"
   },
   {
    "duration": 8,
    "start_time": "2024-11-11T22:16:32.648Z"
   },
   {
    "duration": 3,
    "start_time": "2024-11-11T22:16:32.658Z"
   },
   {
    "duration": 8,
    "start_time": "2024-11-11T22:16:32.662Z"
   },
   {
    "duration": 8,
    "start_time": "2024-11-11T22:16:32.672Z"
   },
   {
    "duration": 2,
    "start_time": "2024-11-11T22:16:32.682Z"
   },
   {
    "duration": 4,
    "start_time": "2024-11-11T22:16:32.686Z"
   },
   {
    "duration": 3,
    "start_time": "2024-11-11T22:16:32.692Z"
   },
   {
    "duration": 19,
    "start_time": "2024-11-11T22:16:32.698Z"
   },
   {
    "duration": 22,
    "start_time": "2024-11-11T22:16:32.718Z"
   },
   {
    "duration": 15,
    "start_time": "2024-11-11T22:16:32.741Z"
   },
   {
    "duration": 6,
    "start_time": "2024-11-11T22:16:32.758Z"
   },
   {
    "duration": 4,
    "start_time": "2024-11-11T22:16:32.766Z"
   },
   {
    "duration": 15,
    "start_time": "2024-11-11T22:16:32.772Z"
   },
   {
    "duration": 13,
    "start_time": "2024-11-11T22:16:32.788Z"
   },
   {
    "duration": 7,
    "start_time": "2024-11-11T22:16:32.802Z"
   },
   {
    "duration": 7,
    "start_time": "2024-11-11T22:16:32.810Z"
   },
   {
    "duration": 140,
    "start_time": "2024-11-11T22:16:32.819Z"
   },
   {
    "duration": 8,
    "start_time": "2024-11-11T22:16:32.960Z"
   },
   {
    "duration": 16,
    "start_time": "2024-11-11T22:16:32.974Z"
   },
   {
    "duration": 37,
    "start_time": "2024-11-11T22:16:32.991Z"
   },
   {
    "duration": 9,
    "start_time": "2024-11-11T22:16:33.041Z"
   },
   {
    "duration": 5,
    "start_time": "2024-11-11T22:16:33.052Z"
   },
   {
    "duration": 5,
    "start_time": "2024-11-11T22:16:33.058Z"
   },
   {
    "duration": 6,
    "start_time": "2024-11-11T22:16:33.065Z"
   },
   {
    "duration": 9,
    "start_time": "2024-11-11T22:16:33.073Z"
   },
   {
    "duration": 14,
    "start_time": "2024-11-11T22:16:33.084Z"
   },
   {
    "duration": 28,
    "start_time": "2024-11-11T22:16:33.100Z"
   },
   {
    "duration": 11,
    "start_time": "2024-11-11T22:16:33.137Z"
   },
   {
    "duration": 5,
    "start_time": "2024-11-11T22:16:33.150Z"
   },
   {
    "duration": 32,
    "start_time": "2024-11-11T22:16:33.156Z"
   },
   {
    "duration": 12,
    "start_time": "2024-11-11T22:16:33.191Z"
   },
   {
    "duration": 4,
    "start_time": "2024-11-11T22:16:33.205Z"
   },
   {
    "duration": 9,
    "start_time": "2024-11-11T22:16:33.210Z"
   },
   {
    "duration": 12,
    "start_time": "2024-11-11T22:16:33.221Z"
   },
   {
    "duration": 35,
    "start_time": "2024-11-11T22:16:33.234Z"
   },
   {
    "duration": 5,
    "start_time": "2024-11-11T22:16:33.271Z"
   },
   {
    "duration": 10,
    "start_time": "2024-11-11T22:16:33.279Z"
   },
   {
    "duration": 56,
    "start_time": "2024-11-11T22:16:33.292Z"
   },
   {
    "duration": 21,
    "start_time": "2024-11-11T22:16:33.350Z"
   },
   {
    "duration": 23,
    "start_time": "2024-11-11T22:16:33.373Z"
   },
   {
    "duration": 22,
    "start_time": "2024-11-11T22:16:33.398Z"
   },
   {
    "duration": 10,
    "start_time": "2024-11-11T22:16:33.421Z"
   },
   {
    "duration": 6,
    "start_time": "2024-11-11T22:16:33.433Z"
   },
   {
    "duration": 16,
    "start_time": "2024-11-11T22:16:33.441Z"
   },
   {
    "duration": 21,
    "start_time": "2024-11-11T22:16:33.458Z"
   },
   {
    "duration": 4,
    "start_time": "2024-11-11T22:16:33.480Z"
   },
   {
    "duration": 3,
    "start_time": "2024-11-11T22:16:33.486Z"
   },
   {
    "duration": 21,
    "start_time": "2024-11-11T22:16:33.491Z"
   },
   {
    "duration": 86,
    "start_time": "2024-11-11T22:16:33.513Z"
   },
   {
    "duration": 28,
    "start_time": "2024-11-11T22:16:33.600Z"
   },
   {
    "duration": 4,
    "start_time": "2024-11-11T22:16:33.630Z"
   },
   {
    "duration": 46,
    "start_time": "2024-11-11T22:16:33.635Z"
   },
   {
    "duration": 22,
    "start_time": "2024-11-11T22:16:33.683Z"
   },
   {
    "duration": 9,
    "start_time": "2024-11-11T22:16:33.713Z"
   },
   {
    "duration": 22,
    "start_time": "2024-11-11T22:16:33.729Z"
   },
   {
    "duration": 429,
    "start_time": "2024-11-11T22:16:33.753Z"
   },
   {
    "duration": 6,
    "start_time": "2024-11-11T22:16:34.185Z"
   },
   {
    "duration": 180,
    "start_time": "2024-11-11T22:16:34.193Z"
   },
   {
    "duration": 16,
    "start_time": "2024-11-11T22:16:34.374Z"
   },
   {
    "duration": 10,
    "start_time": "2024-11-11T22:16:34.391Z"
   },
   {
    "duration": 423,
    "start_time": "2024-11-11T22:16:34.417Z"
   },
   {
    "duration": 10,
    "start_time": "2024-11-11T22:16:34.842Z"
   },
   {
    "duration": 166,
    "start_time": "2024-11-11T22:16:34.854Z"
   },
   {
    "duration": 15,
    "start_time": "2024-11-11T22:16:35.021Z"
   },
   {
    "duration": 20,
    "start_time": "2024-11-11T22:16:35.039Z"
   },
   {
    "duration": 8,
    "start_time": "2024-11-11T22:16:35.060Z"
   },
   {
    "duration": 404,
    "start_time": "2024-11-11T22:16:35.069Z"
   },
   {
    "duration": 6,
    "start_time": "2024-11-11T22:16:35.475Z"
   },
   {
    "duration": 141,
    "start_time": "2024-11-11T22:16:35.483Z"
   },
   {
    "duration": 19,
    "start_time": "2024-11-11T22:16:35.626Z"
   },
   {
    "duration": 6,
    "start_time": "2024-11-11T22:16:35.650Z"
   },
   {
    "duration": 2,
    "start_time": "2024-11-11T22:16:35.658Z"
   },
   {
    "duration": 4,
    "start_time": "2024-11-11T22:16:35.665Z"
   },
   {
    "duration": 564,
    "start_time": "2024-11-11T22:18:38.825Z"
   },
   {
    "duration": 71,
    "start_time": "2024-11-11T22:19:48.464Z"
   },
   {
    "duration": 13,
    "start_time": "2024-11-11T22:20:14.642Z"
   },
   {
    "duration": 971,
    "start_time": "2024-11-11T22:20:26.181Z"
   },
   {
    "duration": 226,
    "start_time": "2024-11-11T22:20:27.154Z"
   },
   {
    "duration": 4,
    "start_time": "2024-11-11T22:20:27.382Z"
   },
   {
    "duration": 83,
    "start_time": "2024-11-11T22:20:27.389Z"
   },
   {
    "duration": 88,
    "start_time": "2024-11-11T22:20:27.474Z"
   },
   {
    "duration": 40,
    "start_time": "2024-11-11T22:20:27.564Z"
   },
   {
    "duration": 21,
    "start_time": "2024-11-11T22:20:27.606Z"
   },
   {
    "duration": 22,
    "start_time": "2024-11-11T22:20:27.636Z"
   },
   {
    "duration": 11,
    "start_time": "2024-11-11T22:20:27.664Z"
   },
   {
    "duration": 12,
    "start_time": "2024-11-11T22:20:27.679Z"
   },
   {
    "duration": 6,
    "start_time": "2024-11-11T22:20:27.694Z"
   },
   {
    "duration": 19,
    "start_time": "2024-11-11T22:20:27.701Z"
   },
   {
    "duration": 8,
    "start_time": "2024-11-11T22:20:27.732Z"
   },
   {
    "duration": 8,
    "start_time": "2024-11-11T22:20:27.741Z"
   },
   {
    "duration": 3,
    "start_time": "2024-11-11T22:20:27.750Z"
   },
   {
    "duration": 5,
    "start_time": "2024-11-11T22:20:27.755Z"
   },
   {
    "duration": 13,
    "start_time": "2024-11-11T22:20:27.763Z"
   },
   {
    "duration": 9,
    "start_time": "2024-11-11T22:20:27.778Z"
   },
   {
    "duration": 8,
    "start_time": "2024-11-11T22:20:27.789Z"
   },
   {
    "duration": 4,
    "start_time": "2024-11-11T22:20:27.798Z"
   },
   {
    "duration": 14,
    "start_time": "2024-11-11T22:20:27.810Z"
   },
   {
    "duration": 19,
    "start_time": "2024-11-11T22:20:27.837Z"
   },
   {
    "duration": 16,
    "start_time": "2024-11-11T22:20:27.860Z"
   },
   {
    "duration": 7,
    "start_time": "2024-11-11T22:20:27.877Z"
   },
   {
    "duration": 3,
    "start_time": "2024-11-11T22:20:27.885Z"
   },
   {
    "duration": 151,
    "start_time": "2024-11-11T22:20:27.889Z"
   },
   {
    "duration": 11,
    "start_time": "2024-11-11T22:20:28.045Z"
   },
   {
    "duration": 13,
    "start_time": "2024-11-11T22:20:28.063Z"
   },
   {
    "duration": 11,
    "start_time": "2024-11-11T22:20:28.078Z"
   },
   {
    "duration": 7,
    "start_time": "2024-11-11T22:20:28.091Z"
   },
   {
    "duration": 16,
    "start_time": "2024-11-11T22:20:28.100Z"
   },
   {
    "duration": 15,
    "start_time": "2024-11-11T22:20:28.117Z"
   },
   {
    "duration": 19,
    "start_time": "2024-11-11T22:20:28.134Z"
   },
   {
    "duration": 9,
    "start_time": "2024-11-11T22:20:28.154Z"
   },
   {
    "duration": 11,
    "start_time": "2024-11-11T22:20:28.165Z"
   },
   {
    "duration": 7,
    "start_time": "2024-11-11T22:20:28.178Z"
   },
   {
    "duration": 6,
    "start_time": "2024-11-11T22:20:28.187Z"
   },
   {
    "duration": 5,
    "start_time": "2024-11-11T22:20:28.195Z"
   },
   {
    "duration": 46,
    "start_time": "2024-11-11T22:20:28.201Z"
   },
   {
    "duration": 12,
    "start_time": "2024-11-11T22:20:28.249Z"
   },
   {
    "duration": 4,
    "start_time": "2024-11-11T22:20:28.263Z"
   },
   {
    "duration": 9,
    "start_time": "2024-11-11T22:20:28.269Z"
   },
   {
    "duration": 12,
    "start_time": "2024-11-11T22:20:28.279Z"
   },
   {
    "duration": 35,
    "start_time": "2024-11-11T22:20:28.309Z"
   },
   {
    "duration": 7,
    "start_time": "2024-11-11T22:20:28.345Z"
   },
   {
    "duration": 9,
    "start_time": "2024-11-11T22:20:28.354Z"
   },
   {
    "duration": 23,
    "start_time": "2024-11-11T22:20:28.364Z"
   },
   {
    "duration": 31,
    "start_time": "2024-11-11T22:20:28.389Z"
   },
   {
    "duration": 30,
    "start_time": "2024-11-11T22:20:28.422Z"
   },
   {
    "duration": 11,
    "start_time": "2024-11-11T22:20:28.453Z"
   },
   {
    "duration": 15,
    "start_time": "2024-11-11T22:20:28.469Z"
   },
   {
    "duration": 6,
    "start_time": "2024-11-11T22:20:28.485Z"
   },
   {
    "duration": 21,
    "start_time": "2024-11-11T22:20:28.493Z"
   },
   {
    "duration": 31,
    "start_time": "2024-11-11T22:20:28.516Z"
   },
   {
    "duration": 3,
    "start_time": "2024-11-11T22:20:28.551Z"
   },
   {
    "duration": 4,
    "start_time": "2024-11-11T22:20:28.555Z"
   },
   {
    "duration": 3,
    "start_time": "2024-11-11T22:20:28.560Z"
   },
   {
    "duration": 79,
    "start_time": "2024-11-11T22:20:28.565Z"
   },
   {
    "duration": 21,
    "start_time": "2024-11-11T22:20:28.649Z"
   },
   {
    "duration": 3,
    "start_time": "2024-11-11T22:20:28.671Z"
   },
   {
    "duration": 46,
    "start_time": "2024-11-11T22:20:28.676Z"
   },
   {
    "duration": 18,
    "start_time": "2024-11-11T22:20:28.723Z"
   },
   {
    "duration": 3,
    "start_time": "2024-11-11T22:20:28.742Z"
   },
   {
    "duration": 14,
    "start_time": "2024-11-11T22:20:28.746Z"
   },
   {
    "duration": 393,
    "start_time": "2024-11-11T22:20:28.761Z"
   },
   {
    "duration": 7,
    "start_time": "2024-11-11T22:20:29.157Z"
   },
   {
    "duration": 202,
    "start_time": "2024-11-11T22:20:29.169Z"
   },
   {
    "duration": 13,
    "start_time": "2024-11-11T22:20:29.373Z"
   },
   {
    "duration": 8,
    "start_time": "2024-11-11T22:20:29.388Z"
   },
   {
    "duration": 461,
    "start_time": "2024-11-11T22:20:29.397Z"
   },
   {
    "duration": 9,
    "start_time": "2024-11-11T22:20:29.860Z"
   },
   {
    "duration": 169,
    "start_time": "2024-11-11T22:20:29.872Z"
   },
   {
    "duration": 5,
    "start_time": "2024-11-11T22:20:30.043Z"
   },
   {
    "duration": 22,
    "start_time": "2024-11-11T22:20:30.049Z"
   },
   {
    "duration": 9,
    "start_time": "2024-11-11T22:20:30.073Z"
   },
   {
    "duration": 372,
    "start_time": "2024-11-11T22:20:30.083Z"
   },
   {
    "duration": 6,
    "start_time": "2024-11-11T22:20:30.457Z"
   },
   {
    "duration": 138,
    "start_time": "2024-11-11T22:20:30.465Z"
   },
   {
    "duration": 254,
    "start_time": "2024-11-11T22:20:30.605Z"
   },
   {
    "duration": 0,
    "start_time": "2024-11-11T22:20:30.861Z"
   },
   {
    "duration": 0,
    "start_time": "2024-11-11T22:20:30.862Z"
   },
   {
    "duration": 0,
    "start_time": "2024-11-11T22:20:30.863Z"
   },
   {
    "duration": 0,
    "start_time": "2024-11-11T22:20:30.864Z"
   },
   {
    "duration": 108,
    "start_time": "2024-11-11T22:21:14.512Z"
   },
   {
    "duration": 148,
    "start_time": "2024-11-11T22:23:41.882Z"
   },
   {
    "duration": 106,
    "start_time": "2024-11-11T22:23:49.971Z"
   },
   {
    "duration": 121,
    "start_time": "2024-11-11T22:25:27.052Z"
   },
   {
    "duration": 112,
    "start_time": "2024-11-11T22:25:52.160Z"
   },
   {
    "duration": 7,
    "start_time": "2024-11-11T22:26:04.058Z"
   },
   {
    "duration": 88,
    "start_time": "2024-11-11T22:26:31.435Z"
   },
   {
    "duration": 19,
    "start_time": "2024-11-11T22:29:57.738Z"
   },
   {
    "duration": 6,
    "start_time": "2024-11-11T22:30:20.080Z"
   },
   {
    "duration": 17,
    "start_time": "2024-11-11T22:30:48.844Z"
   },
   {
    "duration": 7,
    "start_time": "2024-11-11T22:30:54.442Z"
   },
   {
    "duration": 5,
    "start_time": "2024-11-11T22:31:03.062Z"
   },
   {
    "duration": 7,
    "start_time": "2024-11-11T22:31:28.819Z"
   },
   {
    "duration": 5,
    "start_time": "2024-11-11T22:31:30.885Z"
   },
   {
    "duration": 145,
    "start_time": "2024-11-11T22:32:03.696Z"
   },
   {
    "duration": 112,
    "start_time": "2024-11-11T22:32:16.446Z"
   },
   {
    "duration": 189,
    "start_time": "2024-11-11T22:34:05.281Z"
   },
   {
    "duration": 18,
    "start_time": "2024-11-11T22:34:18.541Z"
   },
   {
    "duration": 89,
    "start_time": "2024-11-11T22:34:49.435Z"
   },
   {
    "duration": 149,
    "start_time": "2024-11-11T22:35:00.024Z"
   },
   {
    "duration": 89,
    "start_time": "2024-11-11T22:36:46.142Z"
   },
   {
    "duration": 102,
    "start_time": "2024-11-11T22:36:57.665Z"
   },
   {
    "duration": 57,
    "start_time": "2024-11-11T22:37:16.278Z"
   },
   {
    "duration": 15,
    "start_time": "2024-11-11T22:37:30.066Z"
   },
   {
    "duration": 100,
    "start_time": "2024-11-11T22:37:37.768Z"
   },
   {
    "duration": 266,
    "start_time": "2024-11-12T00:02:40.729Z"
   },
   {
    "duration": 4,
    "start_time": "2024-11-12T00:06:04.876Z"
   },
   {
    "duration": 192,
    "start_time": "2024-11-12T00:06:09.405Z"
   },
   {
    "duration": 93,
    "start_time": "2024-11-12T00:06:45.986Z"
   },
   {
    "duration": 102,
    "start_time": "2024-11-12T00:07:13.873Z"
   },
   {
    "duration": 125,
    "start_time": "2024-11-12T00:07:37.315Z"
   },
   {
    "duration": 116,
    "start_time": "2024-11-12T00:11:58.781Z"
   },
   {
    "duration": 102,
    "start_time": "2024-11-12T00:12:10.163Z"
   },
   {
    "duration": 5,
    "start_time": "2024-11-12T00:12:49.849Z"
   },
   {
    "duration": 47,
    "start_time": "2024-11-12T00:12:56.395Z"
   },
   {
    "duration": 35,
    "start_time": "2024-11-12T00:13:04.463Z"
   },
   {
    "duration": 107,
    "start_time": "2024-11-12T00:13:11.920Z"
   },
   {
    "duration": 103,
    "start_time": "2024-11-12T00:13:30.495Z"
   },
   {
    "duration": 117,
    "start_time": "2024-11-12T00:13:44.741Z"
   },
   {
    "duration": 208,
    "start_time": "2024-11-12T00:14:06.132Z"
   },
   {
    "duration": 118,
    "start_time": "2024-11-12T00:16:07.226Z"
   },
   {
    "duration": 112,
    "start_time": "2024-11-12T00:16:15.080Z"
   },
   {
    "duration": 94,
    "start_time": "2024-11-12T00:16:20.138Z"
   },
   {
    "duration": 98,
    "start_time": "2024-11-12T00:16:30.472Z"
   },
   {
    "duration": 107,
    "start_time": "2024-11-12T00:16:55.784Z"
   },
   {
    "duration": 113,
    "start_time": "2024-11-12T00:17:26.219Z"
   },
   {
    "duration": 5,
    "start_time": "2024-11-12T00:18:09.269Z"
   },
   {
    "duration": 138,
    "start_time": "2024-11-12T00:19:50.334Z"
   },
   {
    "duration": 98,
    "start_time": "2024-11-12T00:20:00.650Z"
   },
   {
    "duration": 91,
    "start_time": "2024-11-12T00:20:39.368Z"
   },
   {
    "duration": 5,
    "start_time": "2024-11-12T00:21:30.280Z"
   },
   {
    "duration": 119,
    "start_time": "2024-11-12T00:21:38.532Z"
   },
   {
    "duration": 96,
    "start_time": "2024-11-12T00:21:52.541Z"
   },
   {
    "duration": 4,
    "start_time": "2024-11-12T00:22:08.652Z"
   },
   {
    "duration": 118,
    "start_time": "2024-11-12T00:22:14.569Z"
   },
   {
    "duration": 112,
    "start_time": "2024-11-12T00:22:30.336Z"
   },
   {
    "duration": 111,
    "start_time": "2024-11-12T00:22:37.107Z"
   },
   {
    "duration": 114,
    "start_time": "2024-11-12T00:22:44.359Z"
   },
   {
    "duration": 93,
    "start_time": "2024-11-12T00:23:05.516Z"
   },
   {
    "duration": 124,
    "start_time": "2024-11-12T00:23:17.215Z"
   },
   {
    "duration": 4,
    "start_time": "2024-11-12T00:29:33.670Z"
   },
   {
    "duration": 359,
    "start_time": "2024-11-12T00:30:33.985Z"
   },
   {
    "duration": 537,
    "start_time": "2024-11-12T00:30:41.444Z"
   },
   {
    "duration": 6,
    "start_time": "2024-11-12T00:30:58.362Z"
   },
   {
    "duration": 130,
    "start_time": "2024-11-12T00:31:02.851Z"
   },
   {
    "duration": 117,
    "start_time": "2024-11-12T00:31:15.493Z"
   },
   {
    "duration": 6,
    "start_time": "2024-11-12T00:34:16.551Z"
   },
   {
    "duration": 6,
    "start_time": "2024-11-12T00:34:51.506Z"
   },
   {
    "duration": 100,
    "start_time": "2024-11-12T00:35:06.277Z"
   },
   {
    "duration": 6,
    "start_time": "2024-11-12T00:35:34.541Z"
   },
   {
    "duration": 92,
    "start_time": "2024-11-12T00:35:44.625Z"
   },
   {
    "duration": 97,
    "start_time": "2024-11-12T00:36:10.672Z"
   },
   {
    "duration": 374,
    "start_time": "2024-11-12T00:40:40.435Z"
   },
   {
    "duration": 295,
    "start_time": "2024-11-12T00:42:28.126Z"
   },
   {
    "duration": 208,
    "start_time": "2024-11-12T00:45:07.523Z"
   },
   {
    "duration": 209,
    "start_time": "2024-11-12T00:45:14.672Z"
   },
   {
    "duration": 51,
    "start_time": "2024-11-12T00:51:27.199Z"
   },
   {
    "duration": 114,
    "start_time": "2024-11-12T00:52:26.779Z"
   },
   {
    "duration": 160,
    "start_time": "2024-11-12T03:58:30.419Z"
   },
   {
    "duration": 2606,
    "start_time": "2024-11-12T03:58:41.530Z"
   },
   {
    "duration": 216,
    "start_time": "2024-11-12T03:58:44.138Z"
   },
   {
    "duration": 4,
    "start_time": "2024-11-12T03:58:44.355Z"
   },
   {
    "duration": 53,
    "start_time": "2024-11-12T03:58:44.361Z"
   },
   {
    "duration": 51,
    "start_time": "2024-11-12T03:58:44.415Z"
   },
   {
    "duration": 27,
    "start_time": "2024-11-12T03:58:44.468Z"
   },
   {
    "duration": 10,
    "start_time": "2024-11-12T03:58:44.511Z"
   },
   {
    "duration": 12,
    "start_time": "2024-11-12T03:58:44.523Z"
   },
   {
    "duration": 8,
    "start_time": "2024-11-12T03:58:44.537Z"
   },
   {
    "duration": 10,
    "start_time": "2024-11-12T03:58:44.548Z"
   },
   {
    "duration": 3,
    "start_time": "2024-11-12T03:58:44.559Z"
   },
   {
    "duration": 8,
    "start_time": "2024-11-12T03:58:44.564Z"
   },
   {
    "duration": 43,
    "start_time": "2024-11-12T03:58:44.573Z"
   },
   {
    "duration": 3,
    "start_time": "2024-11-12T03:58:44.618Z"
   },
   {
    "duration": 3,
    "start_time": "2024-11-12T03:58:44.623Z"
   },
   {
    "duration": 4,
    "start_time": "2024-11-12T03:58:44.627Z"
   },
   {
    "duration": 8,
    "start_time": "2024-11-12T03:58:44.633Z"
   },
   {
    "duration": 8,
    "start_time": "2024-11-12T03:58:44.643Z"
   },
   {
    "duration": 7,
    "start_time": "2024-11-12T03:58:44.653Z"
   },
   {
    "duration": 3,
    "start_time": "2024-11-12T03:58:44.662Z"
   },
   {
    "duration": 4,
    "start_time": "2024-11-12T03:58:44.666Z"
   },
   {
    "duration": 58,
    "start_time": "2024-11-12T03:58:44.671Z"
   },
   {
    "duration": 16,
    "start_time": "2024-11-12T03:58:44.730Z"
   },
   {
    "duration": 7,
    "start_time": "2024-11-12T03:58:44.747Z"
   },
   {
    "duration": 4,
    "start_time": "2024-11-12T03:58:44.756Z"
   },
   {
    "duration": 128,
    "start_time": "2024-11-12T03:58:44.762Z"
   },
   {
    "duration": 7,
    "start_time": "2024-11-12T03:58:44.892Z"
   },
   {
    "duration": 16,
    "start_time": "2024-11-12T03:58:44.913Z"
   },
   {
    "duration": 10,
    "start_time": "2024-11-12T03:58:44.930Z"
   },
   {
    "duration": 6,
    "start_time": "2024-11-12T03:58:44.941Z"
   },
   {
    "duration": 4,
    "start_time": "2024-11-12T03:58:44.949Z"
   },
   {
    "duration": 5,
    "start_time": "2024-11-12T03:58:44.955Z"
   },
   {
    "duration": 6,
    "start_time": "2024-11-12T03:58:44.962Z"
   },
   {
    "duration": 43,
    "start_time": "2024-11-12T03:58:44.969Z"
   },
   {
    "duration": 11,
    "start_time": "2024-11-12T03:58:45.016Z"
   },
   {
    "duration": 7,
    "start_time": "2024-11-12T03:58:45.028Z"
   },
   {
    "duration": 7,
    "start_time": "2024-11-12T03:58:45.036Z"
   },
   {
    "duration": 4,
    "start_time": "2024-11-12T03:58:45.046Z"
   },
   {
    "duration": 27,
    "start_time": "2024-11-12T03:58:45.051Z"
   },
   {
    "duration": 44,
    "start_time": "2024-11-12T03:58:45.080Z"
   },
   {
    "duration": 3,
    "start_time": "2024-11-12T03:58:45.126Z"
   },
   {
    "duration": 8,
    "start_time": "2024-11-12T03:58:45.131Z"
   },
   {
    "duration": 10,
    "start_time": "2024-11-12T03:58:45.142Z"
   },
   {
    "duration": 22,
    "start_time": "2024-11-12T03:58:45.154Z"
   },
   {
    "duration": 4,
    "start_time": "2024-11-12T03:58:45.177Z"
   },
   {
    "duration": 35,
    "start_time": "2024-11-12T03:58:45.183Z"
   },
   {
    "duration": 21,
    "start_time": "2024-11-12T03:58:45.220Z"
   },
   {
    "duration": 18,
    "start_time": "2024-11-12T03:58:45.243Z"
   },
   {
    "duration": 17,
    "start_time": "2024-11-12T03:58:45.262Z"
   },
   {
    "duration": 39,
    "start_time": "2024-11-12T03:58:45.281Z"
   },
   {
    "duration": 10,
    "start_time": "2024-11-12T03:58:45.322Z"
   },
   {
    "duration": 6,
    "start_time": "2024-11-12T03:58:45.334Z"
   },
   {
    "duration": 12,
    "start_time": "2024-11-12T03:58:45.342Z"
   },
   {
    "duration": 20,
    "start_time": "2024-11-12T03:58:45.355Z"
   },
   {
    "duration": 3,
    "start_time": "2024-11-12T03:58:45.377Z"
   },
   {
    "duration": 3,
    "start_time": "2024-11-12T03:58:45.412Z"
   },
   {
    "duration": 3,
    "start_time": "2024-11-12T03:58:45.417Z"
   },
   {
    "duration": 50,
    "start_time": "2024-11-12T03:58:45.422Z"
   },
   {
    "duration": 17,
    "start_time": "2024-11-12T03:58:45.474Z"
   },
   {
    "duration": 4,
    "start_time": "2024-11-12T03:58:45.512Z"
   },
   {
    "duration": 49,
    "start_time": "2024-11-12T03:58:45.519Z"
   },
   {
    "duration": 20,
    "start_time": "2024-11-12T03:58:45.569Z"
   },
   {
    "duration": 2,
    "start_time": "2024-11-12T03:58:45.590Z"
   },
   {
    "duration": 13,
    "start_time": "2024-11-12T03:58:45.612Z"
   },
   {
    "duration": 446,
    "start_time": "2024-11-12T03:58:45.626Z"
   },
   {
    "duration": 6,
    "start_time": "2024-11-12T03:58:46.074Z"
   },
   {
    "duration": 5,
    "start_time": "2024-11-12T03:58:46.082Z"
   },
   {
    "duration": 482,
    "start_time": "2024-11-12T03:58:46.089Z"
   },
   {
    "duration": 0,
    "start_time": "2024-11-12T03:58:46.575Z"
   },
   {
    "duration": 0,
    "start_time": "2024-11-12T03:58:46.577Z"
   },
   {
    "duration": 0,
    "start_time": "2024-11-12T03:58:46.578Z"
   },
   {
    "duration": 0,
    "start_time": "2024-11-12T03:58:46.580Z"
   },
   {
    "duration": 0,
    "start_time": "2024-11-12T03:58:46.582Z"
   },
   {
    "duration": 0,
    "start_time": "2024-11-12T03:58:46.583Z"
   },
   {
    "duration": 0,
    "start_time": "2024-11-12T03:58:46.584Z"
   },
   {
    "duration": 0,
    "start_time": "2024-11-12T03:58:46.586Z"
   },
   {
    "duration": 0,
    "start_time": "2024-11-12T03:58:46.587Z"
   },
   {
    "duration": 0,
    "start_time": "2024-11-12T03:58:46.589Z"
   },
   {
    "duration": 0,
    "start_time": "2024-11-12T03:58:46.612Z"
   },
   {
    "duration": 0,
    "start_time": "2024-11-12T03:58:46.614Z"
   },
   {
    "duration": 0,
    "start_time": "2024-11-12T03:58:46.615Z"
   },
   {
    "duration": 0,
    "start_time": "2024-11-12T03:58:46.616Z"
   },
   {
    "duration": 0,
    "start_time": "2024-11-12T03:58:46.616Z"
   },
   {
    "duration": 0,
    "start_time": "2024-11-12T03:58:46.617Z"
   },
   {
    "duration": 0,
    "start_time": "2024-11-12T03:58:46.619Z"
   },
   {
    "duration": 0,
    "start_time": "2024-11-12T03:58:46.620Z"
   },
   {
    "duration": 0,
    "start_time": "2024-11-12T03:58:46.622Z"
   },
   {
    "duration": 7,
    "start_time": "2024-11-12T03:59:30.753Z"
   },
   {
    "duration": 171,
    "start_time": "2024-11-12T03:59:33.017Z"
   },
   {
    "duration": 18,
    "start_time": "2024-11-12T04:00:05.860Z"
   },
   {
    "duration": 819,
    "start_time": "2024-11-12T04:00:19.187Z"
   },
   {
    "duration": 150,
    "start_time": "2024-11-12T04:00:20.008Z"
   },
   {
    "duration": 3,
    "start_time": "2024-11-12T04:00:20.160Z"
   },
   {
    "duration": 62,
    "start_time": "2024-11-12T04:00:20.166Z"
   },
   {
    "duration": 51,
    "start_time": "2024-11-12T04:00:20.230Z"
   },
   {
    "duration": 40,
    "start_time": "2024-11-12T04:00:20.282Z"
   },
   {
    "duration": 10,
    "start_time": "2024-11-12T04:00:20.323Z"
   },
   {
    "duration": 11,
    "start_time": "2024-11-12T04:00:20.335Z"
   },
   {
    "duration": 7,
    "start_time": "2024-11-12T04:00:20.348Z"
   },
   {
    "duration": 10,
    "start_time": "2024-11-12T04:00:20.358Z"
   },
   {
    "duration": 3,
    "start_time": "2024-11-12T04:00:20.370Z"
   },
   {
    "duration": 40,
    "start_time": "2024-11-12T04:00:20.374Z"
   },
   {
    "duration": 7,
    "start_time": "2024-11-12T04:00:20.416Z"
   },
   {
    "duration": 4,
    "start_time": "2024-11-12T04:00:20.424Z"
   },
   {
    "duration": 3,
    "start_time": "2024-11-12T04:00:20.429Z"
   },
   {
    "duration": 3,
    "start_time": "2024-11-12T04:00:20.435Z"
   },
   {
    "duration": 7,
    "start_time": "2024-11-12T04:00:20.440Z"
   },
   {
    "duration": 7,
    "start_time": "2024-11-12T04:00:20.449Z"
   },
   {
    "duration": 8,
    "start_time": "2024-11-12T04:00:20.458Z"
   },
   {
    "duration": 3,
    "start_time": "2024-11-12T04:00:20.468Z"
   },
   {
    "duration": 41,
    "start_time": "2024-11-12T04:00:20.473Z"
   },
   {
    "duration": 13,
    "start_time": "2024-11-12T04:00:20.516Z"
   },
   {
    "duration": 11,
    "start_time": "2024-11-12T04:00:20.531Z"
   },
   {
    "duration": 7,
    "start_time": "2024-11-12T04:00:20.543Z"
   },
   {
    "duration": 2,
    "start_time": "2024-11-12T04:00:20.552Z"
   },
   {
    "duration": 138,
    "start_time": "2024-11-12T04:00:20.556Z"
   },
   {
    "duration": 17,
    "start_time": "2024-11-12T04:00:20.696Z"
   },
   {
    "duration": 11,
    "start_time": "2024-11-12T04:00:20.718Z"
   },
   {
    "duration": 9,
    "start_time": "2024-11-12T04:00:20.731Z"
   },
   {
    "duration": 6,
    "start_time": "2024-11-12T04:00:20.742Z"
   },
   {
    "duration": 5,
    "start_time": "2024-11-12T04:00:20.749Z"
   },
   {
    "duration": 4,
    "start_time": "2024-11-12T04:00:20.755Z"
   },
   {
    "duration": 6,
    "start_time": "2024-11-12T04:00:20.761Z"
   },
   {
    "duration": 44,
    "start_time": "2024-11-12T04:00:20.768Z"
   },
   {
    "duration": 11,
    "start_time": "2024-11-12T04:00:20.814Z"
   },
   {
    "duration": 6,
    "start_time": "2024-11-12T04:00:20.827Z"
   },
   {
    "duration": 5,
    "start_time": "2024-11-12T04:00:20.835Z"
   },
   {
    "duration": 4,
    "start_time": "2024-11-12T04:00:20.841Z"
   },
   {
    "duration": 28,
    "start_time": "2024-11-12T04:00:20.846Z"
   },
   {
    "duration": 41,
    "start_time": "2024-11-12T04:00:20.875Z"
   },
   {
    "duration": 4,
    "start_time": "2024-11-12T04:00:20.917Z"
   },
   {
    "duration": 8,
    "start_time": "2024-11-12T04:00:20.922Z"
   },
   {
    "duration": 11,
    "start_time": "2024-11-12T04:00:20.931Z"
   },
   {
    "duration": 22,
    "start_time": "2024-11-12T04:00:20.944Z"
   },
   {
    "duration": 5,
    "start_time": "2024-11-12T04:00:20.968Z"
   },
   {
    "duration": 42,
    "start_time": "2024-11-12T04:00:20.974Z"
   },
   {
    "duration": 21,
    "start_time": "2024-11-12T04:00:21.018Z"
   },
   {
    "duration": 19,
    "start_time": "2024-11-12T04:00:21.041Z"
   },
   {
    "duration": 17,
    "start_time": "2024-11-12T04:00:21.062Z"
   },
   {
    "duration": 36,
    "start_time": "2024-11-12T04:00:21.080Z"
   },
   {
    "duration": 10,
    "start_time": "2024-11-12T04:00:21.118Z"
   },
   {
    "duration": 7,
    "start_time": "2024-11-12T04:00:21.130Z"
   },
   {
    "duration": 12,
    "start_time": "2024-11-12T04:00:21.138Z"
   },
   {
    "duration": 21,
    "start_time": "2024-11-12T04:00:21.153Z"
   },
   {
    "duration": 3,
    "start_time": "2024-11-12T04:00:21.175Z"
   },
   {
    "duration": 32,
    "start_time": "2024-11-12T04:00:21.180Z"
   },
   {
    "duration": 3,
    "start_time": "2024-11-12T04:00:21.215Z"
   },
   {
    "duration": 50,
    "start_time": "2024-11-12T04:00:21.220Z"
   },
   {
    "duration": 16,
    "start_time": "2024-11-12T04:00:21.272Z"
   },
   {
    "duration": 3,
    "start_time": "2024-11-12T04:00:21.289Z"
   },
   {
    "duration": 39,
    "start_time": "2024-11-12T04:00:21.312Z"
   },
   {
    "duration": 17,
    "start_time": "2024-11-12T04:00:21.353Z"
   },
   {
    "duration": 2,
    "start_time": "2024-11-12T04:00:21.372Z"
   },
   {
    "duration": 11,
    "start_time": "2024-11-12T04:00:21.375Z"
   },
   {
    "duration": 390,
    "start_time": "2024-11-12T04:00:21.387Z"
   },
   {
    "duration": 4,
    "start_time": "2024-11-12T04:00:21.780Z"
   },
   {
    "duration": 7,
    "start_time": "2024-11-12T04:00:21.787Z"
   },
   {
    "duration": 244,
    "start_time": "2024-11-12T04:00:21.796Z"
   },
   {
    "duration": 4,
    "start_time": "2024-11-12T04:00:22.042Z"
   },
   {
    "duration": 10,
    "start_time": "2024-11-12T04:00:22.048Z"
   },
   {
    "duration": 5,
    "start_time": "2024-11-12T04:00:22.060Z"
   },
   {
    "duration": 390,
    "start_time": "2024-11-12T04:00:22.068Z"
   },
   {
    "duration": 5,
    "start_time": "2024-11-12T04:00:22.460Z"
   },
   {
    "duration": 136,
    "start_time": "2024-11-12T04:00:22.467Z"
   },
   {
    "duration": 99,
    "start_time": "2024-11-12T04:00:22.612Z"
   },
   {
    "duration": 6,
    "start_time": "2024-11-12T04:00:22.713Z"
   },
   {
    "duration": 2,
    "start_time": "2024-11-12T04:00:22.721Z"
   },
   {
    "duration": 11,
    "start_time": "2024-11-12T04:00:22.725Z"
   },
   {
    "duration": 7,
    "start_time": "2024-11-12T04:00:22.738Z"
   },
   {
    "duration": 408,
    "start_time": "2024-11-12T04:00:22.746Z"
   },
   {
    "duration": 5,
    "start_time": "2024-11-12T04:00:23.156Z"
   },
   {
    "duration": 142,
    "start_time": "2024-11-12T04:00:23.167Z"
   },
   {
    "duration": 105,
    "start_time": "2024-11-12T04:00:23.311Z"
   },
   {
    "duration": 6,
    "start_time": "2024-11-12T04:00:23.418Z"
   },
   {
    "duration": 6,
    "start_time": "2024-11-12T04:00:23.426Z"
   },
   {
    "duration": 2,
    "start_time": "2024-11-12T04:00:23.433Z"
   },
   {
    "duration": 2,
    "start_time": "2024-11-12T04:00:23.437Z"
   },
   {
    "duration": 8,
    "start_time": "2024-11-12T04:01:58.495Z"
   },
   {
    "duration": 7,
    "start_time": "2024-11-12T04:02:01.833Z"
   },
   {
    "duration": 6,
    "start_time": "2024-11-12T04:03:44.394Z"
   },
   {
    "duration": 167,
    "start_time": "2024-11-12T04:04:03.582Z"
   },
   {
    "duration": 5,
    "start_time": "2024-11-12T04:05:23.075Z"
   },
   {
    "duration": 5,
    "start_time": "2024-11-12T04:17:31.439Z"
   },
   {
    "duration": 7,
    "start_time": "2024-11-12T04:18:50.417Z"
   },
   {
    "duration": 7,
    "start_time": "2024-11-12T04:19:05.234Z"
   },
   {
    "duration": 300,
    "start_time": "2024-11-12T04:20:00.113Z"
   },
   {
    "duration": 183,
    "start_time": "2024-11-12T15:21:11.687Z"
   },
   {
    "duration": 2706,
    "start_time": "2024-11-12T15:21:28.463Z"
   },
   {
    "duration": 238,
    "start_time": "2024-11-12T15:21:31.171Z"
   },
   {
    "duration": 4,
    "start_time": "2024-11-12T15:21:31.411Z"
   },
   {
    "duration": 63,
    "start_time": "2024-11-12T15:21:31.419Z"
   },
   {
    "duration": 50,
    "start_time": "2024-11-12T15:21:31.484Z"
   },
   {
    "duration": 42,
    "start_time": "2024-11-12T15:21:31.536Z"
   },
   {
    "duration": 10,
    "start_time": "2024-11-12T15:21:31.580Z"
   },
   {
    "duration": 11,
    "start_time": "2024-11-12T15:21:31.592Z"
   },
   {
    "duration": 7,
    "start_time": "2024-11-12T15:21:31.605Z"
   },
   {
    "duration": 52,
    "start_time": "2024-11-12T15:21:31.615Z"
   },
   {
    "duration": 4,
    "start_time": "2024-11-12T15:21:31.669Z"
   },
   {
    "duration": 9,
    "start_time": "2024-11-12T15:21:31.674Z"
   },
   {
    "duration": 9,
    "start_time": "2024-11-12T15:21:31.684Z"
   },
   {
    "duration": 4,
    "start_time": "2024-11-12T15:21:31.694Z"
   },
   {
    "duration": 4,
    "start_time": "2024-11-12T15:21:31.700Z"
   },
   {
    "duration": 6,
    "start_time": "2024-11-12T15:21:31.705Z"
   },
   {
    "duration": 9,
    "start_time": "2024-11-12T15:21:31.712Z"
   },
   {
    "duration": 9,
    "start_time": "2024-11-12T15:21:31.723Z"
   },
   {
    "duration": 23,
    "start_time": "2024-11-12T15:21:31.733Z"
   },
   {
    "duration": 10,
    "start_time": "2024-11-12T15:21:31.757Z"
   },
   {
    "duration": 16,
    "start_time": "2024-11-12T15:21:31.768Z"
   },
   {
    "duration": 16,
    "start_time": "2024-11-12T15:21:31.786Z"
   },
   {
    "duration": 13,
    "start_time": "2024-11-12T15:21:31.803Z"
   },
   {
    "duration": 7,
    "start_time": "2024-11-12T15:21:31.817Z"
   },
   {
    "duration": 3,
    "start_time": "2024-11-12T15:21:31.826Z"
   },
   {
    "duration": 134,
    "start_time": "2024-11-12T15:21:31.830Z"
   },
   {
    "duration": 8,
    "start_time": "2024-11-12T15:21:31.979Z"
   },
   {
    "duration": 12,
    "start_time": "2024-11-12T15:21:31.991Z"
   },
   {
    "duration": 10,
    "start_time": "2024-11-12T15:21:32.004Z"
   },
   {
    "duration": 5,
    "start_time": "2024-11-12T15:21:32.016Z"
   },
   {
    "duration": 8,
    "start_time": "2024-11-12T15:21:32.023Z"
   },
   {
    "duration": 38,
    "start_time": "2024-11-12T15:21:32.034Z"
   },
   {
    "duration": 6,
    "start_time": "2024-11-12T15:21:32.074Z"
   },
   {
    "duration": 8,
    "start_time": "2024-11-12T15:21:32.081Z"
   },
   {
    "duration": 11,
    "start_time": "2024-11-12T15:21:32.091Z"
   },
   {
    "duration": 7,
    "start_time": "2024-11-12T15:21:32.103Z"
   },
   {
    "duration": 5,
    "start_time": "2024-11-12T15:21:32.112Z"
   },
   {
    "duration": 4,
    "start_time": "2024-11-12T15:21:32.119Z"
   },
   {
    "duration": 49,
    "start_time": "2024-11-12T15:21:32.126Z"
   },
   {
    "duration": 13,
    "start_time": "2024-11-12T15:21:32.177Z"
   },
   {
    "duration": 3,
    "start_time": "2024-11-12T15:21:32.193Z"
   },
   {
    "duration": 9,
    "start_time": "2024-11-12T15:21:32.198Z"
   },
   {
    "duration": 12,
    "start_time": "2024-11-12T15:21:32.209Z"
   },
   {
    "duration": 43,
    "start_time": "2024-11-12T15:21:32.223Z"
   },
   {
    "duration": 7,
    "start_time": "2024-11-12T15:21:32.267Z"
   },
   {
    "duration": 7,
    "start_time": "2024-11-12T15:21:32.276Z"
   },
   {
    "duration": 21,
    "start_time": "2024-11-12T15:21:32.284Z"
   },
   {
    "duration": 47,
    "start_time": "2024-11-12T15:21:32.307Z"
   },
   {
    "duration": 19,
    "start_time": "2024-11-12T15:21:32.364Z"
   },
   {
    "duration": 12,
    "start_time": "2024-11-12T15:21:32.384Z"
   },
   {
    "duration": 11,
    "start_time": "2024-11-12T15:21:32.397Z"
   },
   {
    "duration": 6,
    "start_time": "2024-11-12T15:21:32.410Z"
   },
   {
    "duration": 12,
    "start_time": "2024-11-12T15:21:32.418Z"
   },
   {
    "duration": 39,
    "start_time": "2024-11-12T15:21:32.443Z"
   },
   {
    "duration": 3,
    "start_time": "2024-11-12T15:21:32.484Z"
   },
   {
    "duration": 3,
    "start_time": "2024-11-12T15:21:32.490Z"
   },
   {
    "duration": 3,
    "start_time": "2024-11-12T15:21:32.494Z"
   },
   {
    "duration": 67,
    "start_time": "2024-11-12T15:21:32.499Z"
   },
   {
    "duration": 19,
    "start_time": "2024-11-12T15:21:32.567Z"
   },
   {
    "duration": 4,
    "start_time": "2024-11-12T15:21:32.588Z"
   },
   {
    "duration": 40,
    "start_time": "2024-11-12T15:21:32.594Z"
   },
   {
    "duration": 47,
    "start_time": "2024-11-12T15:21:32.635Z"
   },
   {
    "duration": 2,
    "start_time": "2024-11-12T15:21:32.685Z"
   },
   {
    "duration": 12,
    "start_time": "2024-11-12T15:21:32.689Z"
   },
   {
    "duration": 398,
    "start_time": "2024-11-12T15:21:32.703Z"
   },
   {
    "duration": 5,
    "start_time": "2024-11-12T15:21:33.103Z"
   },
   {
    "duration": 10,
    "start_time": "2024-11-12T15:21:33.110Z"
   },
   {
    "duration": 199,
    "start_time": "2024-11-12T15:21:33.122Z"
   },
   {
    "duration": 6,
    "start_time": "2024-11-12T15:21:33.322Z"
   },
   {
    "duration": 25,
    "start_time": "2024-11-12T15:21:33.329Z"
   },
   {
    "duration": 380,
    "start_time": "2024-11-12T15:21:33.355Z"
   },
   {
    "duration": 29,
    "start_time": "2024-11-12T15:21:33.737Z"
   },
   {
    "duration": 6,
    "start_time": "2024-11-12T15:21:33.771Z"
   },
   {
    "duration": 240,
    "start_time": "2024-11-12T15:21:33.779Z"
   },
   {
    "duration": 3,
    "start_time": "2024-11-12T15:21:34.020Z"
   },
   {
    "duration": 11,
    "start_time": "2024-11-12T15:21:34.025Z"
   },
   {
    "duration": 385,
    "start_time": "2024-11-12T15:21:34.037Z"
   },
   {
    "duration": 5,
    "start_time": "2024-11-12T15:21:34.424Z"
   },
   {
    "duration": 39,
    "start_time": "2024-11-12T15:21:34.431Z"
   },
   {
    "duration": 198,
    "start_time": "2024-11-12T15:21:34.472Z"
   },
   {
    "duration": 8,
    "start_time": "2024-11-12T15:21:34.672Z"
   },
   {
    "duration": 5,
    "start_time": "2024-11-12T15:21:34.686Z"
   },
   {
    "duration": 2,
    "start_time": "2024-11-12T15:21:34.693Z"
   },
   {
    "duration": 2,
    "start_time": "2024-11-12T15:21:34.697Z"
   },
   {
    "duration": 181,
    "start_time": "2024-11-12T15:22:47.424Z"
   },
   {
    "duration": 739,
    "start_time": "2024-11-12T15:23:25.395Z"
   },
   {
    "duration": 171,
    "start_time": "2024-11-12T15:23:47.740Z"
   },
   {
    "duration": 172,
    "start_time": "2024-11-12T15:24:07.838Z"
   },
   {
    "duration": 188,
    "start_time": "2024-11-12T15:24:29.107Z"
   },
   {
    "duration": 266,
    "start_time": "2024-11-12T15:27:34.488Z"
   },
   {
    "duration": 170,
    "start_time": "2024-11-12T15:28:04.655Z"
   },
   {
    "duration": 172,
    "start_time": "2024-11-12T15:28:17.467Z"
   },
   {
    "duration": 245,
    "start_time": "2024-11-12T15:28:35.791Z"
   },
   {
    "duration": 202,
    "start_time": "2024-11-12T15:28:40.081Z"
   },
   {
    "duration": 2545,
    "start_time": "2024-11-12T17:58:04.719Z"
   },
   {
    "duration": 835,
    "start_time": "2024-11-12T17:58:19.691Z"
   },
   {
    "duration": 217,
    "start_time": "2024-11-12T17:58:20.528Z"
   },
   {
    "duration": 3,
    "start_time": "2024-11-12T17:58:20.747Z"
   },
   {
    "duration": 56,
    "start_time": "2024-11-12T17:58:20.752Z"
   },
   {
    "duration": 72,
    "start_time": "2024-11-12T17:58:20.809Z"
   },
   {
    "duration": 32,
    "start_time": "2024-11-12T17:58:20.885Z"
   },
   {
    "duration": 19,
    "start_time": "2024-11-12T17:58:20.921Z"
   },
   {
    "duration": 12,
    "start_time": "2024-11-12T17:58:20.942Z"
   },
   {
    "duration": 8,
    "start_time": "2024-11-12T17:58:20.956Z"
   },
   {
    "duration": 11,
    "start_time": "2024-11-12T17:58:20.967Z"
   },
   {
    "duration": 3,
    "start_time": "2024-11-12T17:58:20.980Z"
   },
   {
    "duration": 8,
    "start_time": "2024-11-12T17:58:20.985Z"
   },
   {
    "duration": 9,
    "start_time": "2024-11-12T17:58:21.031Z"
   },
   {
    "duration": 3,
    "start_time": "2024-11-12T17:58:21.042Z"
   },
   {
    "duration": 3,
    "start_time": "2024-11-12T17:58:21.047Z"
   },
   {
    "duration": 4,
    "start_time": "2024-11-12T17:58:21.051Z"
   },
   {
    "duration": 7,
    "start_time": "2024-11-12T17:58:21.057Z"
   },
   {
    "duration": 8,
    "start_time": "2024-11-12T17:58:21.066Z"
   },
   {
    "duration": 9,
    "start_time": "2024-11-12T17:58:21.076Z"
   },
   {
    "duration": 45,
    "start_time": "2024-11-12T17:58:21.087Z"
   },
   {
    "duration": 4,
    "start_time": "2024-11-12T17:58:21.134Z"
   },
   {
    "duration": 13,
    "start_time": "2024-11-12T17:58:21.140Z"
   },
   {
    "duration": 12,
    "start_time": "2024-11-12T17:58:21.155Z"
   },
   {
    "duration": 9,
    "start_time": "2024-11-12T17:58:21.169Z"
   },
   {
    "duration": 2,
    "start_time": "2024-11-12T17:58:21.180Z"
   },
   {
    "duration": 152,
    "start_time": "2024-11-12T17:58:21.184Z"
   },
   {
    "duration": 8,
    "start_time": "2024-11-12T17:58:21.338Z"
   },
   {
    "duration": 12,
    "start_time": "2024-11-12T17:58:21.351Z"
   },
   {
    "duration": 9,
    "start_time": "2024-11-12T17:58:21.365Z"
   },
   {
    "duration": 7,
    "start_time": "2024-11-12T17:58:21.377Z"
   },
   {
    "duration": 5,
    "start_time": "2024-11-12T17:58:21.385Z"
   },
   {
    "duration": 39,
    "start_time": "2024-11-12T17:58:21.392Z"
   },
   {
    "duration": 6,
    "start_time": "2024-11-12T17:58:21.433Z"
   },
   {
    "duration": 9,
    "start_time": "2024-11-12T17:58:21.440Z"
   },
   {
    "duration": 10,
    "start_time": "2024-11-12T17:58:21.451Z"
   },
   {
    "duration": 6,
    "start_time": "2024-11-12T17:58:21.463Z"
   },
   {
    "duration": 6,
    "start_time": "2024-11-12T17:58:21.471Z"
   },
   {
    "duration": 4,
    "start_time": "2024-11-12T17:58:21.479Z"
   },
   {
    "duration": 69,
    "start_time": "2024-11-12T17:58:21.485Z"
   },
   {
    "duration": 10,
    "start_time": "2024-11-12T17:58:21.556Z"
   },
   {
    "duration": 4,
    "start_time": "2024-11-12T17:58:21.567Z"
   },
   {
    "duration": 8,
    "start_time": "2024-11-12T17:58:21.574Z"
   },
   {
    "duration": 12,
    "start_time": "2024-11-12T17:58:21.583Z"
   },
   {
    "duration": 51,
    "start_time": "2024-11-12T17:58:21.597Z"
   },
   {
    "duration": 5,
    "start_time": "2024-11-12T17:58:21.650Z"
   },
   {
    "duration": 7,
    "start_time": "2024-11-12T17:58:21.657Z"
   },
   {
    "duration": 22,
    "start_time": "2024-11-12T17:58:21.665Z"
   },
   {
    "duration": 45,
    "start_time": "2024-11-12T17:58:21.688Z"
   },
   {
    "duration": 19,
    "start_time": "2024-11-12T17:58:21.734Z"
   },
   {
    "duration": 12,
    "start_time": "2024-11-12T17:58:21.755Z"
   },
   {
    "duration": 12,
    "start_time": "2024-11-12T17:58:21.768Z"
   },
   {
    "duration": 8,
    "start_time": "2024-11-12T17:58:21.782Z"
   },
   {
    "duration": 45,
    "start_time": "2024-11-12T17:58:21.791Z"
   },
   {
    "duration": 22,
    "start_time": "2024-11-12T17:58:21.837Z"
   },
   {
    "duration": 3,
    "start_time": "2024-11-12T17:58:21.861Z"
   },
   {
    "duration": 3,
    "start_time": "2024-11-12T17:58:21.866Z"
   },
   {
    "duration": 3,
    "start_time": "2024-11-12T17:58:21.870Z"
   },
   {
    "duration": 96,
    "start_time": "2024-11-12T17:58:21.875Z"
   },
   {
    "duration": 20,
    "start_time": "2024-11-12T17:58:21.974Z"
   },
   {
    "duration": 3,
    "start_time": "2024-11-12T17:58:21.996Z"
   },
   {
    "duration": 61,
    "start_time": "2024-11-12T17:58:22.001Z"
   },
   {
    "duration": 19,
    "start_time": "2024-11-12T17:58:22.064Z"
   },
   {
    "duration": 2,
    "start_time": "2024-11-12T17:58:22.085Z"
   },
   {
    "duration": 11,
    "start_time": "2024-11-12T17:58:22.089Z"
   },
   {
    "duration": 385,
    "start_time": "2024-11-12T17:58:22.101Z"
   },
   {
    "duration": 6,
    "start_time": "2024-11-12T17:58:22.488Z"
   },
   {
    "duration": 8,
    "start_time": "2024-11-12T17:58:22.496Z"
   },
   {
    "duration": 253,
    "start_time": "2024-11-12T17:58:22.506Z"
   },
   {
    "duration": 5,
    "start_time": "2024-11-12T17:58:22.761Z"
   },
   {
    "duration": 11,
    "start_time": "2024-11-12T17:58:22.768Z"
   },
   {
    "duration": 409,
    "start_time": "2024-11-12T17:58:22.781Z"
   },
   {
    "duration": 5,
    "start_time": "2024-11-12T17:58:23.193Z"
   },
   {
    "duration": 7,
    "start_time": "2024-11-12T17:58:23.200Z"
   },
   {
    "duration": 189,
    "start_time": "2024-11-12T17:58:23.209Z"
   },
   {
    "duration": 2,
    "start_time": "2024-11-12T17:58:23.400Z"
   },
   {
    "duration": 10,
    "start_time": "2024-11-12T17:58:23.404Z"
   },
   {
    "duration": 379,
    "start_time": "2024-11-12T17:58:23.416Z"
   },
   {
    "duration": 5,
    "start_time": "2024-11-12T17:58:23.797Z"
   },
   {
    "duration": 8,
    "start_time": "2024-11-12T17:58:23.804Z"
   },
   {
    "duration": 186,
    "start_time": "2024-11-12T17:58:23.813Z"
   },
   {
    "duration": 6,
    "start_time": "2024-11-12T17:58:24.001Z"
   },
   {
    "duration": 19,
    "start_time": "2024-11-12T17:58:24.014Z"
   },
   {
    "duration": 3,
    "start_time": "2024-11-12T17:58:24.034Z"
   },
   {
    "duration": 2,
    "start_time": "2024-11-12T17:58:24.039Z"
   },
   {
    "duration": 3,
    "start_time": "2024-11-12T17:58:30.140Z"
   },
   {
    "duration": 641,
    "start_time": "2024-11-12T18:00:20.598Z"
   },
   {
    "duration": 23,
    "start_time": "2024-11-12T18:01:08.130Z"
   },
   {
    "duration": 7,
    "start_time": "2024-11-12T18:01:48.275Z"
   },
   {
    "duration": 132,
    "start_time": "2024-11-12T18:05:57.440Z"
   },
   {
    "duration": 6,
    "start_time": "2024-11-12T18:06:17.287Z"
   },
   {
    "duration": 7,
    "start_time": "2024-11-12T18:06:30.512Z"
   },
   {
    "duration": 6,
    "start_time": "2024-11-12T18:06:50.957Z"
   },
   {
    "duration": 6,
    "start_time": "2024-11-12T18:06:52.739Z"
   },
   {
    "duration": 18,
    "start_time": "2024-11-12T18:08:59.784Z"
   },
   {
    "duration": 6,
    "start_time": "2024-11-12T18:12:09.055Z"
   },
   {
    "duration": 7,
    "start_time": "2024-11-12T18:18:15.262Z"
   },
   {
    "duration": 8,
    "start_time": "2024-11-12T18:19:18.760Z"
   },
   {
    "duration": 8,
    "start_time": "2024-11-12T18:19:33.474Z"
   },
   {
    "duration": 14,
    "start_time": "2024-11-12T18:22:52.852Z"
   },
   {
    "duration": 8,
    "start_time": "2024-11-12T18:22:59.050Z"
   },
   {
    "duration": 7,
    "start_time": "2024-11-12T18:23:02.008Z"
   },
   {
    "duration": 3,
    "start_time": "2024-11-12T18:23:06.726Z"
   },
   {
    "duration": 7,
    "start_time": "2024-11-12T18:23:29.038Z"
   },
   {
    "duration": 4,
    "start_time": "2024-11-12T18:23:30.793Z"
   },
   {
    "duration": 3,
    "start_time": "2024-11-12T18:23:35.727Z"
   },
   {
    "duration": 3,
    "start_time": "2024-11-12T18:26:04.841Z"
   },
   {
    "duration": 13,
    "start_time": "2024-11-12T18:34:46.386Z"
   },
   {
    "duration": 7,
    "start_time": "2024-11-12T18:35:22.608Z"
   },
   {
    "duration": 4,
    "start_time": "2024-11-12T18:35:46.192Z"
   },
   {
    "duration": 13,
    "start_time": "2024-11-12T18:36:09.201Z"
   },
   {
    "duration": 3,
    "start_time": "2024-11-12T18:36:16.887Z"
   },
   {
    "duration": 3,
    "start_time": "2024-11-12T18:36:21.403Z"
   },
   {
    "duration": 3,
    "start_time": "2024-11-12T18:36:25.156Z"
   },
   {
    "duration": 2,
    "start_time": "2024-11-12T18:36:32.727Z"
   },
   {
    "duration": 3,
    "start_time": "2024-11-12T18:37:21.558Z"
   },
   {
    "duration": 5,
    "start_time": "2024-11-12T18:37:34.196Z"
   },
   {
    "duration": 4,
    "start_time": "2024-11-12T18:38:29.911Z"
   },
   {
    "duration": 13,
    "start_time": "2024-11-12T18:38:45.471Z"
   },
   {
    "duration": 13,
    "start_time": "2024-11-12T18:39:45.798Z"
   },
   {
    "duration": 3,
    "start_time": "2024-11-12T18:43:32.737Z"
   },
   {
    "duration": 3,
    "start_time": "2024-11-12T18:43:39.903Z"
   },
   {
    "duration": 15,
    "start_time": "2024-11-12T18:44:19.348Z"
   },
   {
    "duration": 14,
    "start_time": "2024-11-12T18:45:08.164Z"
   },
   {
    "duration": 14,
    "start_time": "2024-11-12T18:45:48.874Z"
   },
   {
    "duration": 4,
    "start_time": "2024-11-12T18:46:00.388Z"
   },
   {
    "duration": 4,
    "start_time": "2024-11-12T18:46:03.807Z"
   },
   {
    "duration": 8,
    "start_time": "2024-11-12T18:47:59.779Z"
   },
   {
    "duration": 4,
    "start_time": "2024-11-12T18:48:20.508Z"
   },
   {
    "duration": 16,
    "start_time": "2024-11-12T18:48:31.266Z"
   },
   {
    "duration": 16,
    "start_time": "2024-11-12T18:48:41.890Z"
   },
   {
    "duration": 7,
    "start_time": "2024-11-12T18:49:30.513Z"
   },
   {
    "duration": 13,
    "start_time": "2024-11-12T18:49:40.090Z"
   },
   {
    "duration": 7,
    "start_time": "2024-11-12T18:49:45.774Z"
   },
   {
    "duration": 22,
    "start_time": "2024-11-12T18:51:24.336Z"
   },
   {
    "duration": 21,
    "start_time": "2024-11-12T18:51:43.192Z"
   },
   {
    "duration": 20,
    "start_time": "2024-11-12T18:52:26.317Z"
   },
   {
    "duration": 7,
    "start_time": "2024-11-12T18:53:56.845Z"
   },
   {
    "duration": 8,
    "start_time": "2024-11-12T18:53:58.966Z"
   },
   {
    "duration": 23,
    "start_time": "2024-11-12T18:54:48.160Z"
   },
   {
    "duration": 23,
    "start_time": "2024-11-12T18:54:51.097Z"
   },
   {
    "duration": 340,
    "start_time": "2024-11-12T18:55:36.394Z"
   },
   {
    "duration": 9,
    "start_time": "2024-11-12T18:55:49.396Z"
   },
   {
    "duration": 18,
    "start_time": "2024-11-12T18:55:55.250Z"
   },
   {
    "duration": 4,
    "start_time": "2024-11-12T22:01:29.492Z"
   },
   {
    "duration": 16,
    "start_time": "2024-11-12T22:04:52.224Z"
   },
   {
    "duration": 891,
    "start_time": "2024-11-12T22:05:35.096Z"
   },
   {
    "duration": 163,
    "start_time": "2024-11-12T22:05:35.990Z"
   },
   {
    "duration": 4,
    "start_time": "2024-11-12T22:05:36.154Z"
   },
   {
    "duration": 58,
    "start_time": "2024-11-12T22:05:36.160Z"
   },
   {
    "duration": 57,
    "start_time": "2024-11-12T22:05:36.220Z"
   },
   {
    "duration": 28,
    "start_time": "2024-11-12T22:05:36.279Z"
   },
   {
    "duration": 26,
    "start_time": "2024-11-12T22:05:36.309Z"
   },
   {
    "duration": 13,
    "start_time": "2024-11-12T22:05:36.337Z"
   },
   {
    "duration": 8,
    "start_time": "2024-11-12T22:05:36.352Z"
   },
   {
    "duration": 9,
    "start_time": "2024-11-12T22:05:36.364Z"
   },
   {
    "duration": 4,
    "start_time": "2024-11-12T22:05:36.374Z"
   },
   {
    "duration": 7,
    "start_time": "2024-11-12T22:05:36.380Z"
   },
   {
    "duration": 46,
    "start_time": "2024-11-12T22:05:36.389Z"
   },
   {
    "duration": 4,
    "start_time": "2024-11-12T22:05:36.436Z"
   },
   {
    "duration": 3,
    "start_time": "2024-11-12T22:05:36.442Z"
   },
   {
    "duration": 4,
    "start_time": "2024-11-12T22:05:36.446Z"
   },
   {
    "duration": 10,
    "start_time": "2024-11-12T22:05:36.452Z"
   },
   {
    "duration": 16,
    "start_time": "2024-11-12T22:05:36.464Z"
   },
   {
    "duration": 14,
    "start_time": "2024-11-12T22:05:36.484Z"
   },
   {
    "duration": 5,
    "start_time": "2024-11-12T22:05:36.532Z"
   },
   {
    "duration": 6,
    "start_time": "2024-11-12T22:05:36.539Z"
   },
   {
    "duration": 16,
    "start_time": "2024-11-12T22:05:36.547Z"
   },
   {
    "duration": 17,
    "start_time": "2024-11-12T22:05:36.565Z"
   },
   {
    "duration": 10,
    "start_time": "2024-11-12T22:05:36.584Z"
   },
   {
    "duration": 2,
    "start_time": "2024-11-12T22:05:36.596Z"
   },
   {
    "duration": 117,
    "start_time": "2024-11-12T22:05:36.632Z"
   },
   {
    "duration": 9,
    "start_time": "2024-11-12T22:05:36.751Z"
   },
   {
    "duration": 12,
    "start_time": "2024-11-12T22:05:36.766Z"
   },
   {
    "duration": 11,
    "start_time": "2024-11-12T22:05:36.780Z"
   },
   {
    "duration": 6,
    "start_time": "2024-11-12T22:05:36.793Z"
   },
   {
    "duration": 33,
    "start_time": "2024-11-12T22:05:36.802Z"
   },
   {
    "duration": 5,
    "start_time": "2024-11-12T22:05:36.837Z"
   },
   {
    "duration": 6,
    "start_time": "2024-11-12T22:05:36.845Z"
   },
   {
    "duration": 9,
    "start_time": "2024-11-12T22:05:36.853Z"
   },
   {
    "duration": 13,
    "start_time": "2024-11-12T22:05:36.864Z"
   },
   {
    "duration": 8,
    "start_time": "2024-11-12T22:05:36.879Z"
   },
   {
    "duration": 5,
    "start_time": "2024-11-12T22:05:36.889Z"
   },
   {
    "duration": 5,
    "start_time": "2024-11-12T22:05:36.932Z"
   },
   {
    "duration": 27,
    "start_time": "2024-11-12T22:05:36.939Z"
   },
   {
    "duration": 11,
    "start_time": "2024-11-12T22:05:36.968Z"
   },
   {
    "duration": 4,
    "start_time": "2024-11-12T22:05:36.980Z"
   },
   {
    "duration": 7,
    "start_time": "2024-11-12T22:05:36.986Z"
   },
   {
    "duration": 44,
    "start_time": "2024-11-12T22:05:36.995Z"
   },
   {
    "duration": 24,
    "start_time": "2024-11-12T22:05:37.041Z"
   },
   {
    "duration": 4,
    "start_time": "2024-11-12T22:05:37.067Z"
   },
   {
    "duration": 9,
    "start_time": "2024-11-12T22:05:37.073Z"
   },
   {
    "duration": 47,
    "start_time": "2024-11-12T22:05:37.084Z"
   },
   {
    "duration": 21,
    "start_time": "2024-11-12T22:05:37.133Z"
   },
   {
    "duration": 19,
    "start_time": "2024-11-12T22:05:37.155Z"
   },
   {
    "duration": 12,
    "start_time": "2024-11-12T22:05:37.176Z"
   },
   {
    "duration": 11,
    "start_time": "2024-11-12T22:05:37.189Z"
   },
   {
    "duration": 35,
    "start_time": "2024-11-12T22:05:37.202Z"
   },
   {
    "duration": 12,
    "start_time": "2024-11-12T22:05:37.239Z"
   },
   {
    "duration": 22,
    "start_time": "2024-11-12T22:05:37.253Z"
   },
   {
    "duration": 3,
    "start_time": "2024-11-12T22:05:37.277Z"
   },
   {
    "duration": 3,
    "start_time": "2024-11-12T22:05:37.281Z"
   },
   {
    "duration": 3,
    "start_time": "2024-11-12T22:05:37.286Z"
   },
   {
    "duration": 90,
    "start_time": "2024-11-12T22:05:37.291Z"
   },
   {
    "duration": 18,
    "start_time": "2024-11-12T22:05:37.383Z"
   },
   {
    "duration": 4,
    "start_time": "2024-11-12T22:05:37.402Z"
   },
   {
    "duration": 53,
    "start_time": "2024-11-12T22:05:37.408Z"
   },
   {
    "duration": 19,
    "start_time": "2024-11-12T22:05:37.464Z"
   },
   {
    "duration": 2,
    "start_time": "2024-11-12T22:05:37.485Z"
   },
   {
    "duration": 11,
    "start_time": "2024-11-12T22:05:37.488Z"
   },
   {
    "duration": 396,
    "start_time": "2024-11-12T22:05:37.501Z"
   },
   {
    "duration": 6,
    "start_time": "2024-11-12T22:05:37.899Z"
   },
   {
    "duration": 10,
    "start_time": "2024-11-12T22:05:37.907Z"
   },
   {
    "duration": 265,
    "start_time": "2024-11-12T22:05:37.920Z"
   },
   {
    "duration": 5,
    "start_time": "2024-11-12T22:05:38.187Z"
   },
   {
    "duration": 12,
    "start_time": "2024-11-12T22:05:38.193Z"
   },
   {
    "duration": 381,
    "start_time": "2024-11-12T22:05:38.207Z"
   },
   {
    "duration": 5,
    "start_time": "2024-11-12T22:05:38.590Z"
   },
   {
    "duration": 7,
    "start_time": "2024-11-12T22:05:38.597Z"
   },
   {
    "duration": 185,
    "start_time": "2024-11-12T22:05:38.606Z"
   },
   {
    "duration": 2,
    "start_time": "2024-11-12T22:05:38.793Z"
   },
   {
    "duration": 11,
    "start_time": "2024-11-12T22:05:38.797Z"
   },
   {
    "duration": 366,
    "start_time": "2024-11-12T22:05:38.809Z"
   },
   {
    "duration": 6,
    "start_time": "2024-11-12T22:05:39.177Z"
   },
   {
    "duration": 6,
    "start_time": "2024-11-12T22:05:39.185Z"
   },
   {
    "duration": 181,
    "start_time": "2024-11-12T22:05:39.193Z"
   },
   {
    "duration": 6,
    "start_time": "2024-11-12T22:05:39.376Z"
   },
   {
    "duration": 7,
    "start_time": "2024-11-12T22:05:39.389Z"
   },
   {
    "duration": 8,
    "start_time": "2024-11-12T22:05:39.397Z"
   },
   {
    "duration": 4,
    "start_time": "2024-11-12T22:05:39.430Z"
   },
   {
    "duration": 3,
    "start_time": "2024-11-12T22:05:39.436Z"
   },
   {
    "duration": 159,
    "start_time": "2024-11-12T22:05:39.441Z"
   },
   {
    "duration": 0,
    "start_time": "2024-11-12T22:05:39.602Z"
   },
   {
    "duration": 0,
    "start_time": "2024-11-12T22:05:39.603Z"
   },
   {
    "duration": 0,
    "start_time": "2024-11-12T22:05:39.605Z"
   },
   {
    "duration": 20,
    "start_time": "2024-11-12T22:06:02.124Z"
   },
   {
    "duration": 7,
    "start_time": "2024-11-12T22:06:31.173Z"
   },
   {
    "duration": 189,
    "start_time": "2024-11-12T22:07:02.995Z"
   },
   {
    "duration": 5,
    "start_time": "2024-11-12T22:09:11.041Z"
   },
   {
    "duration": 3,
    "start_time": "2024-11-12T22:09:18.338Z"
   },
   {
    "duration": 20,
    "start_time": "2024-11-12T22:09:24.176Z"
   },
   {
    "duration": 498,
    "start_time": "2024-11-12T22:09:32.010Z"
   },
   {
    "duration": 32,
    "start_time": "2024-11-12T22:11:06.565Z"
   },
   {
    "duration": 7,
    "start_time": "2024-11-12T22:12:10.229Z"
   },
   {
    "duration": 21,
    "start_time": "2024-11-12T22:12:12.358Z"
   },
   {
    "duration": 6,
    "start_time": "2024-11-12T22:14:13.141Z"
   },
   {
    "duration": 8,
    "start_time": "2024-11-12T22:14:17.181Z"
   },
   {
    "duration": 8,
    "start_time": "2024-11-12T22:20:41.466Z"
   },
   {
    "duration": 8,
    "start_time": "2024-11-12T22:21:22.986Z"
   },
   {
    "duration": 3,
    "start_time": "2024-11-12T22:29:27.152Z"
   },
   {
    "duration": 394,
    "start_time": "2024-11-12T22:41:02.092Z"
   },
   {
    "duration": 323,
    "start_time": "2024-11-12T22:41:09.154Z"
   },
   {
    "duration": 494,
    "start_time": "2024-11-12T22:41:24.007Z"
   },
   {
    "duration": 194,
    "start_time": "2024-11-12T22:41:41.938Z"
   },
   {
    "duration": 354,
    "start_time": "2024-11-12T22:41:46.216Z"
   },
   {
    "duration": 186,
    "start_time": "2024-11-12T22:50:32.219Z"
   },
   {
    "duration": 12,
    "start_time": "2024-11-12T22:52:25.604Z"
   },
   {
    "duration": 345,
    "start_time": "2024-11-12T22:52:27.237Z"
   },
   {
    "duration": 5,
    "start_time": "2024-11-12T22:52:50.651Z"
   },
   {
    "duration": 8,
    "start_time": "2024-11-12T22:54:12.477Z"
   },
   {
    "duration": 11,
    "start_time": "2024-11-12T22:54:33.358Z"
   },
   {
    "duration": 9,
    "start_time": "2024-11-12T22:54:37.932Z"
   },
   {
    "duration": 15,
    "start_time": "2024-11-12T22:54:53.180Z"
   },
   {
    "duration": 192,
    "start_time": "2024-11-12T22:56:15.160Z"
   },
   {
    "duration": 6,
    "start_time": "2024-11-12T22:56:42.518Z"
   },
   {
    "duration": 183,
    "start_time": "2024-11-12T22:56:50.081Z"
   },
   {
    "duration": 169,
    "start_time": "2024-11-12T22:57:27.068Z"
   },
   {
    "duration": 184,
    "start_time": "2024-11-12T22:57:50.216Z"
   },
   {
    "duration": 186,
    "start_time": "2024-11-12T22:58:03.225Z"
   },
   {
    "duration": 187,
    "start_time": "2024-11-12T22:58:48.748Z"
   },
   {
    "duration": 180,
    "start_time": "2024-11-12T22:59:44.730Z"
   },
   {
    "duration": 178,
    "start_time": "2024-11-12T23:00:15.000Z"
   },
   {
    "duration": 180,
    "start_time": "2024-11-12T23:01:32.946Z"
   },
   {
    "duration": 168,
    "start_time": "2024-11-12T23:02:02.653Z"
   },
   {
    "duration": 359,
    "start_time": "2024-11-12T23:02:35.955Z"
   },
   {
    "duration": 176,
    "start_time": "2024-11-12T23:03:08.516Z"
   },
   {
    "duration": 183,
    "start_time": "2024-11-12T23:03:56.797Z"
   },
   {
    "duration": 13,
    "start_time": "2024-11-12T23:04:22.875Z"
   },
   {
    "duration": 12,
    "start_time": "2024-11-12T23:04:25.663Z"
   },
   {
    "duration": 11,
    "start_time": "2024-11-12T23:04:25.886Z"
   },
   {
    "duration": 175,
    "start_time": "2024-11-12T23:04:34.209Z"
   },
   {
    "duration": 12,
    "start_time": "2024-11-12T23:11:44.807Z"
   },
   {
    "duration": 7,
    "start_time": "2024-11-12T23:11:47.621Z"
   },
   {
    "duration": 14,
    "start_time": "2024-11-12T23:13:27.627Z"
   },
   {
    "duration": 7,
    "start_time": "2024-11-12T23:13:32.369Z"
   },
   {
    "duration": 11,
    "start_time": "2024-11-12T23:14:31.739Z"
   },
   {
    "duration": 8,
    "start_time": "2024-11-12T23:14:34.460Z"
   },
   {
    "duration": 20,
    "start_time": "2024-11-12T23:14:45.994Z"
   },
   {
    "duration": 12,
    "start_time": "2024-11-12T23:14:52.872Z"
   },
   {
    "duration": 8,
    "start_time": "2024-11-12T23:14:56.004Z"
   },
   {
    "duration": 12,
    "start_time": "2024-11-12T23:15:07.490Z"
   },
   {
    "duration": 9,
    "start_time": "2024-11-12T23:15:09.892Z"
   },
   {
    "duration": 13,
    "start_time": "2024-11-12T23:15:13.747Z"
   },
   {
    "duration": 7,
    "start_time": "2024-11-12T23:15:15.526Z"
   },
   {
    "duration": 363,
    "start_time": "2024-11-12T23:15:25.916Z"
   },
   {
    "duration": 5,
    "start_time": "2024-11-12T23:15:43.923Z"
   },
   {
    "duration": 5,
    "start_time": "2024-11-12T23:15:51.591Z"
   },
   {
    "duration": 157,
    "start_time": "2024-11-12T23:16:02.525Z"
   },
   {
    "duration": 167,
    "start_time": "2024-11-12T23:20:53.984Z"
   },
   {
    "duration": 178,
    "start_time": "2024-11-12T23:21:36.918Z"
   },
   {
    "duration": 11,
    "start_time": "2024-11-12T23:22:58.693Z"
   },
   {
    "duration": 394,
    "start_time": "2024-11-12T23:23:01.180Z"
   },
   {
    "duration": 387,
    "start_time": "2024-11-12T23:23:19.550Z"
   },
   {
    "duration": 5,
    "start_time": "2024-11-12T23:23:51.133Z"
   },
   {
    "duration": 7,
    "start_time": "2024-11-12T23:24:01.121Z"
   },
   {
    "duration": 175,
    "start_time": "2024-11-12T23:24:08.250Z"
   },
   {
    "duration": 11,
    "start_time": "2024-11-12T23:26:23.047Z"
   },
   {
    "duration": 7,
    "start_time": "2024-11-12T23:26:25.464Z"
   },
   {
    "duration": 14,
    "start_time": "2024-11-12T23:34:10.678Z"
   },
   {
    "duration": 390,
    "start_time": "2024-11-12T23:34:15.061Z"
   },
   {
    "duration": 520,
    "start_time": "2024-11-12T23:34:20.540Z"
   },
   {
    "duration": 5,
    "start_time": "2024-11-12T23:34:28.749Z"
   },
   {
    "duration": 171,
    "start_time": "2024-11-12T23:34:34.875Z"
   },
   {
    "duration": 12,
    "start_time": "2024-11-12T23:38:28.189Z"
   },
   {
    "duration": 12,
    "start_time": "2024-11-12T23:39:03.246Z"
   },
   {
    "duration": 381,
    "start_time": "2024-11-12T23:39:17.234Z"
   },
   {
    "duration": 12,
    "start_time": "2024-11-12T23:39:22.563Z"
   },
   {
    "duration": 6,
    "start_time": "2024-11-12T23:39:27.065Z"
   },
   {
    "duration": 181,
    "start_time": "2024-11-12T23:41:51.614Z"
   },
   {
    "duration": 183,
    "start_time": "2024-11-12T23:42:20.243Z"
   },
   {
    "duration": 20,
    "start_time": "2024-11-12T23:43:30.929Z"
   },
   {
    "duration": 7,
    "start_time": "2024-11-12T23:45:32.816Z"
   },
   {
    "duration": 6,
    "start_time": "2024-11-12T23:45:47.473Z"
   },
   {
    "duration": 6,
    "start_time": "2024-11-12T23:45:53.362Z"
   },
   {
    "duration": 4,
    "start_time": "2024-11-12T23:46:06.668Z"
   },
   {
    "duration": 3,
    "start_time": "2024-11-12T23:46:24.689Z"
   },
   {
    "duration": 4,
    "start_time": "2024-11-12T23:46:29.095Z"
   },
   {
    "duration": 5,
    "start_time": "2024-11-12T23:46:51.993Z"
   },
   {
    "duration": 4,
    "start_time": "2024-11-12T23:46:59.331Z"
   },
   {
    "duration": 4,
    "start_time": "2024-11-12T23:47:09.169Z"
   },
   {
    "duration": 4,
    "start_time": "2024-11-12T23:47:31.808Z"
   },
   {
    "duration": 6,
    "start_time": "2024-11-12T23:47:53.947Z"
   },
   {
    "duration": 4,
    "start_time": "2024-11-12T23:48:09.438Z"
   },
   {
    "duration": 5,
    "start_time": "2024-11-12T23:48:19.229Z"
   },
   {
    "duration": 6,
    "start_time": "2024-11-12T23:48:30.803Z"
   },
   {
    "duration": 8,
    "start_time": "2024-11-12T23:48:43.752Z"
   },
   {
    "duration": 6,
    "start_time": "2024-11-12T23:48:50.663Z"
   },
   {
    "duration": 5,
    "start_time": "2024-11-12T23:50:41.287Z"
   },
   {
    "duration": 91,
    "start_time": "2024-11-12T23:50:46.017Z"
   },
   {
    "duration": 7,
    "start_time": "2024-11-12T23:51:57.451Z"
   },
   {
    "duration": 6,
    "start_time": "2024-11-12T23:52:11.656Z"
   },
   {
    "duration": 6,
    "start_time": "2024-11-12T23:52:33.320Z"
   },
   {
    "duration": 6,
    "start_time": "2024-11-12T23:52:53.956Z"
   },
   {
    "duration": 7,
    "start_time": "2024-11-12T23:52:58.530Z"
   },
   {
    "duration": 11,
    "start_time": "2024-11-12T23:55:45.149Z"
   },
   {
    "duration": 3,
    "start_time": "2024-11-12T23:56:12.365Z"
   },
   {
    "duration": 435,
    "start_time": "2024-11-12T23:57:04.866Z"
   },
   {
    "duration": 32,
    "start_time": "2024-11-12T23:57:48.089Z"
   },
   {
    "duration": 8,
    "start_time": "2024-11-12T23:58:03.088Z"
   },
   {
    "duration": 6,
    "start_time": "2024-11-12T23:58:16.678Z"
   },
   {
    "duration": 6,
    "start_time": "2024-11-12T23:58:45.538Z"
   },
   {
    "duration": 2,
    "start_time": "2024-11-12T23:58:53.585Z"
   },
   {
    "duration": 5,
    "start_time": "2024-11-12T23:59:45.271Z"
   },
   {
    "duration": 5,
    "start_time": "2024-11-12T23:59:48.906Z"
   },
   {
    "duration": 6,
    "start_time": "2024-11-12T23:59:53.023Z"
   },
   {
    "duration": 5,
    "start_time": "2024-11-13T00:00:08.358Z"
   },
   {
    "duration": 3,
    "start_time": "2024-11-13T00:09:45.496Z"
   },
   {
    "duration": 8,
    "start_time": "2024-11-13T00:10:24.794Z"
   },
   {
    "duration": 7,
    "start_time": "2024-11-13T00:10:26.419Z"
   },
   {
    "duration": 8,
    "start_time": "2024-11-13T00:10:45.520Z"
   },
   {
    "duration": 4,
    "start_time": "2024-11-13T00:10:47.055Z"
   },
   {
    "duration": 7,
    "start_time": "2024-11-13T00:13:05.962Z"
   },
   {
    "duration": 158,
    "start_time": "2024-11-21T00:15:51.229Z"
   },
   {
    "duration": 2549,
    "start_time": "2024-11-21T00:16:04.418Z"
   },
   {
    "duration": 209,
    "start_time": "2024-11-21T00:16:06.969Z"
   },
   {
    "duration": 4,
    "start_time": "2024-11-21T00:16:07.180Z"
   },
   {
    "duration": 54,
    "start_time": "2024-11-21T00:16:07.187Z"
   },
   {
    "duration": 50,
    "start_time": "2024-11-21T00:16:07.243Z"
   },
   {
    "duration": 36,
    "start_time": "2024-11-21T00:16:07.295Z"
   },
   {
    "duration": 10,
    "start_time": "2024-11-21T00:16:07.333Z"
   },
   {
    "duration": 12,
    "start_time": "2024-11-21T00:16:07.344Z"
   },
   {
    "duration": 8,
    "start_time": "2024-11-21T00:16:07.357Z"
   },
   {
    "duration": 36,
    "start_time": "2024-11-21T00:16:07.369Z"
   },
   {
    "duration": 3,
    "start_time": "2024-11-21T00:16:07.407Z"
   },
   {
    "duration": 9,
    "start_time": "2024-11-21T00:16:07.411Z"
   },
   {
    "duration": 7,
    "start_time": "2024-11-21T00:16:07.422Z"
   },
   {
    "duration": 2,
    "start_time": "2024-11-21T00:16:07.431Z"
   },
   {
    "duration": 3,
    "start_time": "2024-11-21T00:16:07.435Z"
   },
   {
    "duration": 5,
    "start_time": "2024-11-21T00:16:07.439Z"
   },
   {
    "duration": 7,
    "start_time": "2024-11-21T00:16:07.445Z"
   },
   {
    "duration": 8,
    "start_time": "2024-11-21T00:16:07.453Z"
   },
   {
    "duration": 9,
    "start_time": "2024-11-21T00:16:07.504Z"
   },
   {
    "duration": 4,
    "start_time": "2024-11-21T00:16:07.515Z"
   },
   {
    "duration": 3,
    "start_time": "2024-11-21T00:16:07.520Z"
   },
   {
    "duration": 13,
    "start_time": "2024-11-21T00:16:07.524Z"
   },
   {
    "duration": 11,
    "start_time": "2024-11-21T00:16:07.539Z"
   },
   {
    "duration": 6,
    "start_time": "2024-11-21T00:16:07.552Z"
   },
   {
    "duration": 3,
    "start_time": "2024-11-21T00:16:07.559Z"
   },
   {
    "duration": 146,
    "start_time": "2024-11-21T00:16:07.563Z"
   },
   {
    "duration": 8,
    "start_time": "2024-11-21T00:16:07.710Z"
   },
   {
    "duration": 13,
    "start_time": "2024-11-21T00:16:07.723Z"
   },
   {
    "duration": 12,
    "start_time": "2024-11-21T00:16:07.738Z"
   },
   {
    "duration": 7,
    "start_time": "2024-11-21T00:16:07.752Z"
   },
   {
    "duration": 5,
    "start_time": "2024-11-21T00:16:07.761Z"
   },
   {
    "duration": 38,
    "start_time": "2024-11-21T00:16:07.769Z"
   },
   {
    "duration": 6,
    "start_time": "2024-11-21T00:16:07.809Z"
   },
   {
    "duration": 10,
    "start_time": "2024-11-21T00:16:07.817Z"
   },
   {
    "duration": 11,
    "start_time": "2024-11-21T00:16:07.828Z"
   },
   {
    "duration": 6,
    "start_time": "2024-11-21T00:16:07.841Z"
   },
   {
    "duration": 6,
    "start_time": "2024-11-21T00:16:07.849Z"
   },
   {
    "duration": 4,
    "start_time": "2024-11-21T00:16:07.856Z"
   },
   {
    "duration": 67,
    "start_time": "2024-11-21T00:16:07.862Z"
   },
   {
    "duration": 12,
    "start_time": "2024-11-21T00:16:07.930Z"
   },
   {
    "duration": 3,
    "start_time": "2024-11-21T00:16:07.943Z"
   },
   {
    "duration": 9,
    "start_time": "2024-11-21T00:16:07.948Z"
   },
   {
    "duration": 12,
    "start_time": "2024-11-21T00:16:07.958Z"
   },
   {
    "duration": 55,
    "start_time": "2024-11-21T00:16:07.971Z"
   },
   {
    "duration": 4,
    "start_time": "2024-11-21T00:16:08.027Z"
   },
   {
    "duration": 7,
    "start_time": "2024-11-21T00:16:08.034Z"
   },
   {
    "duration": 21,
    "start_time": "2024-11-21T00:16:08.042Z"
   },
   {
    "duration": 41,
    "start_time": "2024-11-21T00:16:08.065Z"
   },
   {
    "duration": 18,
    "start_time": "2024-11-21T00:16:08.108Z"
   },
   {
    "duration": 11,
    "start_time": "2024-11-21T00:16:08.128Z"
   },
   {
    "duration": 11,
    "start_time": "2024-11-21T00:16:08.140Z"
   },
   {
    "duration": 8,
    "start_time": "2024-11-21T00:16:08.152Z"
   },
   {
    "duration": 12,
    "start_time": "2024-11-21T00:16:08.161Z"
   },
   {
    "duration": 22,
    "start_time": "2024-11-21T00:16:08.205Z"
   },
   {
    "duration": 2,
    "start_time": "2024-11-21T00:16:08.229Z"
   },
   {
    "duration": 3,
    "start_time": "2024-11-21T00:16:08.233Z"
   },
   {
    "duration": 3,
    "start_time": "2024-11-21T00:16:08.237Z"
   },
   {
    "duration": 70,
    "start_time": "2024-11-21T00:16:08.242Z"
   },
   {
    "duration": 18,
    "start_time": "2024-11-21T00:16:08.313Z"
   },
   {
    "duration": 5,
    "start_time": "2024-11-21T00:16:08.332Z"
   },
   {
    "duration": 39,
    "start_time": "2024-11-21T00:16:08.339Z"
   },
   {
    "duration": 34,
    "start_time": "2024-11-21T00:16:08.379Z"
   },
   {
    "duration": 3,
    "start_time": "2024-11-21T00:16:08.414Z"
   },
   {
    "duration": 13,
    "start_time": "2024-11-21T00:16:08.419Z"
   },
   {
    "duration": 6,
    "start_time": "2024-11-21T00:16:08.434Z"
   },
   {
    "duration": 422,
    "start_time": "2024-11-21T00:16:08.442Z"
   },
   {
    "duration": 5,
    "start_time": "2024-11-21T00:16:08.866Z"
   },
   {
    "duration": 175,
    "start_time": "2024-11-21T00:16:08.872Z"
   },
   {
    "duration": 5,
    "start_time": "2024-11-21T00:16:09.049Z"
   },
   {
    "duration": 14,
    "start_time": "2024-11-21T00:16:09.056Z"
   },
   {
    "duration": 381,
    "start_time": "2024-11-21T00:16:09.071Z"
   },
   {
    "duration": 5,
    "start_time": "2024-11-21T00:16:09.454Z"
   },
   {
    "duration": 181,
    "start_time": "2024-11-21T00:16:09.461Z"
   },
   {
    "duration": 4,
    "start_time": "2024-11-21T00:16:09.644Z"
   },
   {
    "duration": 11,
    "start_time": "2024-11-21T00:16:09.650Z"
   },
   {
    "duration": 296,
    "start_time": "2024-11-21T00:16:09.662Z"
   },
   {
    "duration": 0,
    "start_time": "2024-11-21T00:16:09.960Z"
   },
   {
    "duration": 0,
    "start_time": "2024-11-21T00:16:09.961Z"
   },
   {
    "duration": 0,
    "start_time": "2024-11-21T00:16:09.962Z"
   },
   {
    "duration": 0,
    "start_time": "2024-11-21T00:16:09.964Z"
   },
   {
    "duration": 0,
    "start_time": "2024-11-21T00:16:09.965Z"
   },
   {
    "duration": 0,
    "start_time": "2024-11-21T00:16:09.966Z"
   },
   {
    "duration": 0,
    "start_time": "2024-11-21T00:16:09.967Z"
   },
   {
    "duration": 0,
    "start_time": "2024-11-21T00:16:09.968Z"
   },
   {
    "duration": 0,
    "start_time": "2024-11-21T00:16:09.969Z"
   },
   {
    "duration": 0,
    "start_time": "2024-11-21T00:16:09.970Z"
   },
   {
    "duration": 0,
    "start_time": "2024-11-21T00:16:09.971Z"
   },
   {
    "duration": 168,
    "start_time": "2024-11-21T00:16:32.136Z"
   },
   {
    "duration": 180,
    "start_time": "2024-11-21T00:16:46.605Z"
   },
   {
    "duration": 7,
    "start_time": "2024-11-21T00:21:38.625Z"
   },
   {
    "duration": 3,
    "start_time": "2024-11-21T00:22:27.139Z"
   },
   {
    "duration": 155,
    "start_time": "2024-11-21T00:22:27.144Z"
   },
   {
    "duration": 3,
    "start_time": "2024-11-21T00:22:27.305Z"
   },
   {
    "duration": 49,
    "start_time": "2024-11-21T00:22:27.310Z"
   },
   {
    "duration": 64,
    "start_time": "2024-11-21T00:22:27.362Z"
   },
   {
    "duration": 28,
    "start_time": "2024-11-21T00:22:27.428Z"
   },
   {
    "duration": 11,
    "start_time": "2024-11-21T00:22:27.457Z"
   },
   {
    "duration": 40,
    "start_time": "2024-11-21T00:22:27.470Z"
   },
   {
    "duration": 8,
    "start_time": "2024-11-21T00:22:27.511Z"
   },
   {
    "duration": 6,
    "start_time": "2024-11-21T00:22:27.521Z"
   },
   {
    "duration": 4,
    "start_time": "2024-11-21T00:22:27.528Z"
   },
   {
    "duration": 7,
    "start_time": "2024-11-21T00:22:27.533Z"
   },
   {
    "duration": 8,
    "start_time": "2024-11-21T00:22:27.545Z"
   },
   {
    "duration": 3,
    "start_time": "2024-11-21T00:22:27.554Z"
   },
   {
    "duration": 47,
    "start_time": "2024-11-21T00:22:27.559Z"
   },
   {
    "duration": 4,
    "start_time": "2024-11-21T00:22:27.608Z"
   },
   {
    "duration": 10,
    "start_time": "2024-11-21T00:22:27.614Z"
   },
   {
    "duration": 8,
    "start_time": "2024-11-21T00:22:27.628Z"
   },
   {
    "duration": 7,
    "start_time": "2024-11-21T00:22:27.638Z"
   },
   {
    "duration": 4,
    "start_time": "2024-11-21T00:22:27.647Z"
   },
   {
    "duration": 4,
    "start_time": "2024-11-21T00:22:27.653Z"
   },
   {
    "duration": 48,
    "start_time": "2024-11-21T00:22:27.658Z"
   },
   {
    "duration": 13,
    "start_time": "2024-11-21T00:22:27.708Z"
   },
   {
    "duration": 6,
    "start_time": "2024-11-21T00:22:27.722Z"
   },
   {
    "duration": 3,
    "start_time": "2024-11-21T00:22:27.730Z"
   },
   {
    "duration": 130,
    "start_time": "2024-11-21T00:22:27.735Z"
   },
   {
    "duration": 8,
    "start_time": "2024-11-21T00:22:27.867Z"
   },
   {
    "duration": 11,
    "start_time": "2024-11-21T00:22:27.876Z"
   },
   {
    "duration": 22,
    "start_time": "2024-11-21T00:22:27.889Z"
   },
   {
    "duration": 6,
    "start_time": "2024-11-21T00:22:27.912Z"
   },
   {
    "duration": 5,
    "start_time": "2024-11-21T00:22:27.919Z"
   },
   {
    "duration": 4,
    "start_time": "2024-11-21T00:22:27.925Z"
   },
   {
    "duration": 5,
    "start_time": "2024-11-21T00:22:27.931Z"
   },
   {
    "duration": 9,
    "start_time": "2024-11-21T00:22:27.937Z"
   },
   {
    "duration": 10,
    "start_time": "2024-11-21T00:22:27.948Z"
   },
   {
    "duration": 47,
    "start_time": "2024-11-21T00:22:27.959Z"
   },
   {
    "duration": 7,
    "start_time": "2024-11-21T00:22:28.011Z"
   },
   {
    "duration": 5,
    "start_time": "2024-11-21T00:22:28.020Z"
   },
   {
    "duration": 25,
    "start_time": "2024-11-21T00:22:28.027Z"
   },
   {
    "duration": 10,
    "start_time": "2024-11-21T00:22:28.055Z"
   },
   {
    "duration": 3,
    "start_time": "2024-11-21T00:22:28.067Z"
   },
   {
    "duration": 39,
    "start_time": "2024-11-21T00:22:28.072Z"
   },
   {
    "duration": 12,
    "start_time": "2024-11-21T00:22:28.113Z"
   },
   {
    "duration": 22,
    "start_time": "2024-11-21T00:22:28.127Z"
   },
   {
    "duration": 5,
    "start_time": "2024-11-21T00:22:28.150Z"
   },
   {
    "duration": 7,
    "start_time": "2024-11-21T00:22:28.157Z"
   },
   {
    "duration": 49,
    "start_time": "2024-11-21T00:22:28.166Z"
   },
   {
    "duration": 19,
    "start_time": "2024-11-21T00:22:28.216Z"
   },
   {
    "duration": 16,
    "start_time": "2024-11-21T00:22:28.236Z"
   },
   {
    "duration": 11,
    "start_time": "2024-11-21T00:22:28.254Z"
   },
   {
    "duration": 11,
    "start_time": "2024-11-21T00:22:28.267Z"
   },
   {
    "duration": 30,
    "start_time": "2024-11-21T00:22:28.279Z"
   },
   {
    "duration": 13,
    "start_time": "2024-11-21T00:22:28.311Z"
   },
   {
    "duration": 22,
    "start_time": "2024-11-21T00:22:28.325Z"
   },
   {
    "duration": 3,
    "start_time": "2024-11-21T00:22:28.348Z"
   },
   {
    "duration": 3,
    "start_time": "2024-11-21T00:22:28.353Z"
   },
   {
    "duration": 3,
    "start_time": "2024-11-21T00:22:28.357Z"
   },
   {
    "duration": 83,
    "start_time": "2024-11-21T00:22:28.362Z"
   },
   {
    "duration": 18,
    "start_time": "2024-11-21T00:22:28.447Z"
   },
   {
    "duration": 3,
    "start_time": "2024-11-21T00:22:28.467Z"
   },
   {
    "duration": 60,
    "start_time": "2024-11-21T00:22:28.471Z"
   },
   {
    "duration": 18,
    "start_time": "2024-11-21T00:22:28.533Z"
   },
   {
    "duration": 2,
    "start_time": "2024-11-21T00:22:28.553Z"
   },
   {
    "duration": 11,
    "start_time": "2024-11-21T00:22:28.557Z"
   },
   {
    "duration": 6,
    "start_time": "2024-11-21T00:22:28.569Z"
   },
   {
    "duration": 466,
    "start_time": "2024-11-21T00:22:28.577Z"
   },
   {
    "duration": 5,
    "start_time": "2024-11-21T00:22:29.045Z"
   },
   {
    "duration": 172,
    "start_time": "2024-11-21T00:22:29.051Z"
   },
   {
    "duration": 6,
    "start_time": "2024-11-21T00:22:29.226Z"
   },
   {
    "duration": 10,
    "start_time": "2024-11-21T00:22:29.235Z"
   },
   {
    "duration": 398,
    "start_time": "2024-11-21T00:22:29.246Z"
   },
   {
    "duration": 7,
    "start_time": "2024-11-21T00:22:29.646Z"
   },
   {
    "duration": 216,
    "start_time": "2024-11-21T00:22:29.655Z"
   },
   {
    "duration": 2,
    "start_time": "2024-11-21T00:22:29.873Z"
   },
   {
    "duration": 26,
    "start_time": "2024-11-21T00:22:29.879Z"
   },
   {
    "duration": 21,
    "start_time": "2024-11-21T00:22:29.906Z"
   },
   {
    "duration": 0,
    "start_time": "2024-11-21T00:22:29.929Z"
   },
   {
    "duration": 0,
    "start_time": "2024-11-21T00:22:29.930Z"
   },
   {
    "duration": 0,
    "start_time": "2024-11-21T00:22:29.931Z"
   },
   {
    "duration": 0,
    "start_time": "2024-11-21T00:22:29.932Z"
   },
   {
    "duration": 0,
    "start_time": "2024-11-21T00:22:29.933Z"
   },
   {
    "duration": 0,
    "start_time": "2024-11-21T00:22:29.934Z"
   },
   {
    "duration": 0,
    "start_time": "2024-11-21T00:22:29.935Z"
   },
   {
    "duration": 0,
    "start_time": "2024-11-21T00:22:29.936Z"
   },
   {
    "duration": 0,
    "start_time": "2024-11-21T00:22:29.937Z"
   },
   {
    "duration": 0,
    "start_time": "2024-11-21T00:22:29.938Z"
   },
   {
    "duration": 0,
    "start_time": "2024-11-21T00:22:29.940Z"
   },
   {
    "duration": 390,
    "start_time": "2024-11-21T00:25:05.656Z"
   },
   {
    "duration": 187,
    "start_time": "2024-11-21T00:25:44.111Z"
   },
   {
    "duration": 5,
    "start_time": "2024-11-21T00:25:49.654Z"
   },
   {
    "duration": 173,
    "start_time": "2024-11-21T00:25:55.707Z"
   },
   {
    "duration": 5,
    "start_time": "2024-11-21T00:25:59.090Z"
   },
   {
    "duration": 359,
    "start_time": "2024-11-21T00:26:03.002Z"
   },
   {
    "duration": 6,
    "start_time": "2024-11-21T00:26:06.646Z"
   },
   {
    "duration": 599,
    "start_time": "2024-11-21T00:35:36.751Z"
   },
   {
    "duration": 380,
    "start_time": "2024-11-21T00:35:55.856Z"
   },
   {
    "duration": 508,
    "start_time": "2024-11-21T00:39:05.211Z"
   },
   {
    "duration": 475,
    "start_time": "2024-11-21T00:40:03.488Z"
   },
   {
    "duration": 13,
    "start_time": "2024-11-21T00:56:26.070Z"
   },
   {
    "duration": 13,
    "start_time": "2024-11-21T00:56:28.490Z"
   },
   {
    "duration": 6,
    "start_time": "2024-11-21T00:56:32.198Z"
   },
   {
    "duration": 375,
    "start_time": "2024-11-21T00:56:41.876Z"
   },
   {
    "duration": 5,
    "start_time": "2024-11-21T00:57:04.991Z"
   },
   {
    "duration": 156,
    "start_time": "2024-11-21T00:57:12.911Z"
   },
   {
    "duration": 5,
    "start_time": "2024-11-21T00:57:20.272Z"
   },
   {
    "duration": 418,
    "start_time": "2024-11-21T00:57:24.915Z"
   },
   {
    "duration": 44,
    "start_time": "2024-11-21T00:57:28.616Z"
   },
   {
    "duration": 5,
    "start_time": "2024-11-21T00:57:45.723Z"
   },
   {
    "duration": 5,
    "start_time": "2024-11-21T00:58:41.865Z"
   }
  ],
  "colab": {
   "provenance": []
  },
  "kernelspec": {
   "display_name": "Python 3 (ipykernel)",
   "language": "python",
   "name": "python3"
  },
  "language_info": {
   "codemirror_mode": {
    "name": "ipython",
    "version": 3
   },
   "file_extension": ".py",
   "mimetype": "text/x-python",
   "name": "python",
   "nbconvert_exporter": "python",
   "pygments_lexer": "ipython3",
   "version": "3.9.19"
  },
  "toc": {
   "base_numbering": 1,
   "nav_menu": {},
   "number_sections": true,
   "sideBar": true,
   "skip_h1_title": false,
   "title_cell": "Table of Contents",
   "title_sidebar": "Contents",
   "toc_cell": false,
   "toc_position": {
    "height": "calc(100% - 180px)",
    "left": "10px",
    "top": "150px",
    "width": "165px"
   },
   "toc_section_display": true,
   "toc_window_display": true
  }
 },
 "nbformat": 4,
 "nbformat_minor": 1
}
