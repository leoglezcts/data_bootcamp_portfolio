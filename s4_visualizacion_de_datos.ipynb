{
 "cells": [
  {
   "cell_type": "markdown",
   "id": "662e15e5",
   "metadata": {},
   "source": [
    "# Sprint 4. Data Wrangling Continuación"
   ]
  },
  {
   "cell_type": "markdown",
   "id": "3Xg_RQfnafXz",
   "metadata": {
    "id": "3Xg_RQfnafXz"
   },
   "source": [
    "## ¡Llena ese carrito!"
   ]
  },
  {
   "cell_type": "markdown",
   "id": "mhIvmmkW414q",
   "metadata": {
    "id": "mhIvmmkW414q"
   },
   "source": [
    "### Introducción\n",
    "\n",
    "Instacart es una plataforma de entregas de comestibles donde la clientela puede registrar un pedido y hacer que se lo entreguen, similar a Uber Eats y Door Dash.\n",
    "El conjunto de datos que te hemos proporcionado tiene modificaciones del original. Redujimos el tamaño del conjunto para que tus cálculos se hicieran más rápido e introdujimos valores ausentes y duplicados. Tuvimos cuidado de conservar las distribuciones de los datos originales cuando hicimos los cambios.\n",
    "\n",
    "Debes completar tres pasos. Para cada uno de ellos, escribe una breve introducción que refleje con claridad cómo pretendes resolver cada paso, y escribe párrafos explicatorios que justifiquen tus decisiones al tiempo que avanzas en tu solución.  También escribe una conclusión que resuma tus hallazgos y elecciones.\n"
   ]
  },
  {
   "cell_type": "markdown",
   "id": "3MbyzpOQZ5Or",
   "metadata": {
    "id": "3MbyzpOQZ5Or"
   },
   "source": [
    "## Diccionario de datos\n",
    "\n",
    "Hay cinco tablas en el conjunto de datos, y tendrás que usarlas todas para hacer el preprocesamiento de datos y el análisis exploratorio de datos. A continuación se muestra un diccionario de datos que enumera las columnas de cada tabla y describe los datos que contienen.\n",
    "\n",
    "- `instacart_orders.csv`: cada fila corresponde a un pedido en la aplicación Instacart.\n",
    "    - `'order_id'`: número de ID que identifica de manera única cada pedido.\n",
    "    - `'user_id'`: número de ID que identifica de manera única la cuenta de cada cliente.\n",
    "    - `'order_number'`: el número de veces que este cliente ha hecho un pedido.\n",
    "    - `'order_dow'`: día de la semana en que se hizo el pedido (0 si es domingo).\n",
    "    - `'order_hour_of_day'`: hora del día en que se hizo el pedido.\n",
    "    - `'days_since_prior_order'`: número de días transcurridos desde que este cliente hizo su pedido anterior.\n",
    "- `products.csv`: cada fila corresponde a un producto único que pueden comprar los clientes.\n",
    "    - `'product_id'`: número ID que identifica de manera única cada producto.\n",
    "    - `'product_name'`: nombre del producto.\n",
    "    - `'aisle_id'`: número ID que identifica de manera única cada categoría de pasillo de víveres.\n",
    "    - `'department_id'`: número ID que identifica de manera única cada departamento de víveres.\n",
    "- `order_products.csv`: cada fila corresponde a un artículo pedido en un pedido.\n",
    "    - `'order_id'`: número de ID que identifica de manera única cada pedido.\n",
    "    - `'product_id'`: número ID que identifica de manera única cada producto.\n",
    "    - `'add_to_cart_order'`: el orden secuencial en el que se añadió cada artículo en el carrito.\n",
    "    - `'reordered'`: 0 si el cliente nunca ha pedido este producto antes, 1 si lo ha pedido.\n",
    "- `aisles.csv`\n",
    "    - `'aisle_id'`: número ID que identifica de manera única cada categoría de pasillo de víveres.\n",
    "    - `'aisle'`: nombre del pasillo.\n",
    "- `departments.csv`\n",
    "    - `'department_id'`: número ID que identifica de manera única cada departamento de víveres.\n",
    "    - `'department'`: nombre del departamento."
   ]
  },
  {
   "cell_type": "markdown",
   "id": "n3Ha_cNSZ8lK",
   "metadata": {
    "id": "n3Ha_cNSZ8lK"
   },
   "source": [
    "# Paso 1. Descripción de los datos\n",
    "\n",
    "Lee los archivos de datos (`/datasets/instacart_orders.csv`, `/datasets/products.csv`, `/datasets/aisles.csv`, `/datasets/departments.csv` y `/datasets/order_products.csv`) con `pd.read_csv()` usando los parámetros adecuados para leer los datos correctamente. Verifica la información para cada DataFrame creado.\n"
   ]
  },
  {
   "cell_type": "markdown",
   "id": "OmlQPLlyaAfR",
   "metadata": {
    "id": "OmlQPLlyaAfR"
   },
   "source": [
    "## Plan de solución\n",
    "\n",
    "Escribe aquí tu plan de solución para el Paso 1. Descripción de los datos."
   ]
  },
  {
   "cell_type": "code",
   "execution_count": 1,
   "id": "fbf1adab",
   "metadata": {
    "id": "fbf1adab"
   },
   "outputs": [],
   "source": [
    "# importar librerías\n",
    "import pandas as pd\n",
    "from matplotlib import pyplot as plt"
   ]
  },
  {
   "cell_type": "code",
   "execution_count": 2,
   "id": "ad36396d",
   "metadata": {
    "id": "ad36396d"
   },
   "outputs": [],
   "source": [
    "# leer conjuntos de datos en los DataFrames\n",
    "orders = pd.read_csv('/datasets/instacart_orders.csv',sep=';')"
   ]
  },
  {
   "cell_type": "code",
   "execution_count": 3,
   "id": "ad6a1efa",
   "metadata": {
    "id": "ad6a1efa"
   },
   "outputs": [],
   "source": [
    "# mostrar información del DataFrame\n",
    "products =pd.read_csv('/datasets/products.csv',sep=';')"
   ]
  },
  {
   "cell_type": "code",
   "execution_count": 4,
   "id": "5130e05e",
   "metadata": {
    "id": "5130e05e"
   },
   "outputs": [],
   "source": [
    "# mostrar información del DataFrame\n",
    "aisles = pd.read_csv ('/datasets/aisles.csv',sep = ';')"
   ]
  },
  {
   "cell_type": "code",
   "execution_count": 5,
   "id": "d8370c05",
   "metadata": {
    "id": "d8370c05"
   },
   "outputs": [],
   "source": [
    "# mostrar información del DataFrame\n",
    "departments = pd.read_csv('/datasets/departments.csv', sep =';')"
   ]
  },
  {
   "cell_type": "code",
   "execution_count": 6,
   "id": "59e2090f",
   "metadata": {
    "id": "59e2090f"
   },
   "outputs": [],
   "source": [
    "# mostrar información del DataFrame\n",
    "order_products = pd.read_csv('/datasets/order_products.csv', sep =';')\n"
   ]
  },
  {
   "cell_type": "markdown",
   "id": "t75BD19oaR5f",
   "metadata": {
    "id": "t75BD19oaR5f"
   },
   "source": [
    "## Conclusiones\n",
    "\n",
    "Escribe aquí tus conclusiones intermedias sobre el Paso 1. Descripción de los datos.\n"
   ]
  },
  {
   "cell_type": "markdown",
   "id": "b3e23968",
   "metadata": {},
   "source": [
    "**Hallazgos**\n",
    "Las tablas pertenecen al sector retail, y es fundamental destacar que su análisis será recurrente en este tipo de tiendas. Por ello, es crucial comprender las relaciones que estas tablas tienen dentro de un modelo de datos o entidad-relación, ya que esto facilitará su correcta interpretación y uso en futuros análisis.\n",
    "\n",
    "\n"
   ]
  },
  {
   "cell_type": "markdown",
   "id": "8RJHqxVmaVsF",
   "metadata": {
    "id": "8RJHqxVmaVsF"
   },
   "source": [
    "# Paso 2. Preprocesamiento de los datos\n",
    "\n",
    "Preprocesa los datos de la siguiente manera:\n",
    "\n",
    "- Verifica y corrige los tipos de datos (por ejemplo, asegúrate de que las columnas de ID sean números enteros).\n",
    "- Identifica y completa los valores ausentes.\n",
    "- Identifica y elimina los valores duplicados.\n",
    "\n",
    "Asegúrate de explicar qué tipos de valores ausentes y duplicados encontraste, cómo los completaste o eliminaste y por qué usaste esos métodos. ¿Por qué crees que estos valores ausentes y duplicados pueden haber estado presentes en el conjunto de datos?"
   ]
  },
  {
   "cell_type": "markdown",
   "id": "34f47ff7",
   "metadata": {},
   "source": [
    "**3.1**\n",
    "\n",
    "**Verifica y corrige los tipos de datos (por ejemplo, asegúrate de que las columnas de ID sean números enteros).**"
   ]
  },
  {
   "cell_type": "code",
   "execution_count": 7,
   "id": "9427e928",
   "metadata": {},
   "outputs": [
    {
     "data": {
      "text/plain": [
       "order_id                    int64\n",
       "user_id                     int64\n",
       "order_number                int64\n",
       "order_dow                   int64\n",
       "order_hour_of_day           int64\n",
       "days_since_prior_order    float64\n",
       "dtype: object"
      ]
     },
     "execution_count": 7,
     "metadata": {},
     "output_type": "execute_result"
    }
   ],
   "source": [
    "orders.dtypes\n",
    "#Los columnas de ID son numeros enteros en ORDERS"
   ]
  },
  {
   "cell_type": "code",
   "execution_count": 8,
   "id": "d8c16d96",
   "metadata": {},
   "outputs": [
    {
     "data": {
      "text/plain": [
       "product_id        int64\n",
       "product_name     object\n",
       "aisle_id          int64\n",
       "department_id     int64\n",
       "dtype: object"
      ]
     },
     "execution_count": 8,
     "metadata": {},
     "output_type": "execute_result"
    }
   ],
   "source": [
    "products.dtypes\n",
    "#Los columnas de ID son numeros enteros en PRODUCTS"
   ]
  },
  {
   "cell_type": "code",
   "execution_count": 9,
   "id": "6a0a62b2",
   "metadata": {},
   "outputs": [
    {
     "data": {
      "text/plain": [
       "aisle_id     int64\n",
       "aisle       object\n",
       "dtype: object"
      ]
     },
     "execution_count": 9,
     "metadata": {},
     "output_type": "execute_result"
    }
   ],
   "source": [
    "aisles.dtypes\n",
    "#Los columnas de ID son numeros enteros en AISLES"
   ]
  },
  {
   "cell_type": "code",
   "execution_count": 10,
   "id": "7472295e",
   "metadata": {},
   "outputs": [
    {
     "data": {
      "text/plain": [
       "department_id     int64\n",
       "department       object\n",
       "dtype: object"
      ]
     },
     "execution_count": 10,
     "metadata": {},
     "output_type": "execute_result"
    }
   ],
   "source": [
    "departments.dtypes\n",
    "#Los columnas de ID son numeros enteros en DEPARTMENTS"
   ]
  },
  {
   "cell_type": "code",
   "execution_count": 11,
   "id": "775b32cf",
   "metadata": {},
   "outputs": [
    {
     "data": {
      "text/plain": [
       "order_id               int64\n",
       "product_id             int64\n",
       "add_to_cart_order    float64\n",
       "reordered              int64\n",
       "dtype: object"
      ]
     },
     "execution_count": 11,
     "metadata": {},
     "output_type": "execute_result"
    }
   ],
   "source": [
    "order_products.dtypes\n",
    "#Los columnas de ID son numeros enteros en ORDER PRODUCTS"
   ]
  },
  {
   "cell_type": "markdown",
   "id": "p6poABZQaZYb",
   "metadata": {
    "id": "p6poABZQaZYb"
   },
   "source": [
    "## Plan de solución\n",
    "\n",
    "Escribe aquí tu plan para el Paso 2. Preprocesamiento de los datos.\n",
    "\n",
    "**Una vez verificada la naturaleza numérica de las columnas, se procederá a depurar los datos, eliminando valores nulos, vacíos y duplicados para garantizar la integridad de la base de datos.**"
   ]
  },
  {
   "cell_type": "markdown",
   "id": "07357848-dc64-4156-9cc3-01ff4365226d",
   "metadata": {
    "id": "07357848-dc64-4156-9cc3-01ff4365226d"
   },
   "source": [
    "## Encuentra y elimina los valores duplicados (y describe cómo tomaste tus decisiones)."
   ]
  },
  {
   "cell_type": "markdown",
   "id": "f179f0a9",
   "metadata": {
    "id": "f179f0a9"
   },
   "source": [
    "### `instacart_orders` data frame"
   ]
  },
  {
   "cell_type": "code",
   "execution_count": 12,
   "id": "b99297a5-405a-463d-8535-9adc3da4ad74",
   "metadata": {
    "id": "b99297a5-405a-463d-8535-9adc3da4ad74"
   },
   "outputs": [
    {
     "data": {
      "text/plain": [
       "15"
      ]
     },
     "execution_count": 12,
     "metadata": {},
     "output_type": "execute_result"
    }
   ],
   "source": [
    "# Revisa si hay orders duplicados\n",
    "orders.duplicated().sum()"
   ]
  },
  {
   "cell_type": "code",
   "execution_count": 13,
   "id": "fed9de64",
   "metadata": {},
   "outputs": [
    {
     "data": {
      "text/html": [
       "<div>\n",
       "<style scoped>\n",
       "    .dataframe tbody tr th:only-of-type {\n",
       "        vertical-align: middle;\n",
       "    }\n",
       "\n",
       "    .dataframe tbody tr th {\n",
       "        vertical-align: top;\n",
       "    }\n",
       "\n",
       "    .dataframe thead th {\n",
       "        text-align: right;\n",
       "    }\n",
       "</style>\n",
       "<table border=\"1\" class=\"dataframe\">\n",
       "  <thead>\n",
       "    <tr style=\"text-align: right;\">\n",
       "      <th></th>\n",
       "      <th>order_id</th>\n",
       "      <th>user_id</th>\n",
       "      <th>order_number</th>\n",
       "      <th>order_dow</th>\n",
       "      <th>order_hour_of_day</th>\n",
       "      <th>days_since_prior_order</th>\n",
       "    </tr>\n",
       "  </thead>\n",
       "  <tbody>\n",
       "    <tr>\n",
       "      <th>145574</th>\n",
       "      <td>794638</td>\n",
       "      <td>50898</td>\n",
       "      <td>24</td>\n",
       "      <td>3</td>\n",
       "      <td>2</td>\n",
       "      <td>2.0</td>\n",
       "    </tr>\n",
       "    <tr>\n",
       "      <th>223105</th>\n",
       "      <td>2160484</td>\n",
       "      <td>107525</td>\n",
       "      <td>16</td>\n",
       "      <td>3</td>\n",
       "      <td>2</td>\n",
       "      <td>30.0</td>\n",
       "    </tr>\n",
       "    <tr>\n",
       "      <th>230807</th>\n",
       "      <td>1918001</td>\n",
       "      <td>188546</td>\n",
       "      <td>14</td>\n",
       "      <td>3</td>\n",
       "      <td>2</td>\n",
       "      <td>16.0</td>\n",
       "    </tr>\n",
       "    <tr>\n",
       "      <th>266232</th>\n",
       "      <td>1782114</td>\n",
       "      <td>106752</td>\n",
       "      <td>1</td>\n",
       "      <td>3</td>\n",
       "      <td>2</td>\n",
       "      <td>NaN</td>\n",
       "    </tr>\n",
       "    <tr>\n",
       "      <th>273805</th>\n",
       "      <td>1112182</td>\n",
       "      <td>202304</td>\n",
       "      <td>84</td>\n",
       "      <td>3</td>\n",
       "      <td>2</td>\n",
       "      <td>6.0</td>\n",
       "    </tr>\n",
       "    <tr>\n",
       "      <th>284038</th>\n",
       "      <td>2845099</td>\n",
       "      <td>31189</td>\n",
       "      <td>11</td>\n",
       "      <td>3</td>\n",
       "      <td>2</td>\n",
       "      <td>7.0</td>\n",
       "    </tr>\n",
       "    <tr>\n",
       "      <th>311713</th>\n",
       "      <td>1021560</td>\n",
       "      <td>53767</td>\n",
       "      <td>3</td>\n",
       "      <td>3</td>\n",
       "      <td>2</td>\n",
       "      <td>9.0</td>\n",
       "    </tr>\n",
       "    <tr>\n",
       "      <th>321100</th>\n",
       "      <td>408114</td>\n",
       "      <td>68324</td>\n",
       "      <td>4</td>\n",
       "      <td>3</td>\n",
       "      <td>2</td>\n",
       "      <td>18.0</td>\n",
       "    </tr>\n",
       "    <tr>\n",
       "      <th>323900</th>\n",
       "      <td>1919531</td>\n",
       "      <td>191501</td>\n",
       "      <td>32</td>\n",
       "      <td>3</td>\n",
       "      <td>2</td>\n",
       "      <td>7.0</td>\n",
       "    </tr>\n",
       "    <tr>\n",
       "      <th>345917</th>\n",
       "      <td>2232988</td>\n",
       "      <td>82565</td>\n",
       "      <td>1</td>\n",
       "      <td>3</td>\n",
       "      <td>2</td>\n",
       "      <td>NaN</td>\n",
       "    </tr>\n",
       "    <tr>\n",
       "      <th>371905</th>\n",
       "      <td>391768</td>\n",
       "      <td>57671</td>\n",
       "      <td>19</td>\n",
       "      <td>3</td>\n",
       "      <td>2</td>\n",
       "      <td>10.0</td>\n",
       "    </tr>\n",
       "    <tr>\n",
       "      <th>394347</th>\n",
       "      <td>467134</td>\n",
       "      <td>63189</td>\n",
       "      <td>21</td>\n",
       "      <td>3</td>\n",
       "      <td>2</td>\n",
       "      <td>2.0</td>\n",
       "    </tr>\n",
       "    <tr>\n",
       "      <th>411408</th>\n",
       "      <td>1286742</td>\n",
       "      <td>183220</td>\n",
       "      <td>48</td>\n",
       "      <td>3</td>\n",
       "      <td>2</td>\n",
       "      <td>4.0</td>\n",
       "    </tr>\n",
       "    <tr>\n",
       "      <th>415163</th>\n",
       "      <td>2282673</td>\n",
       "      <td>86751</td>\n",
       "      <td>49</td>\n",
       "      <td>3</td>\n",
       "      <td>2</td>\n",
       "      <td>2.0</td>\n",
       "    </tr>\n",
       "    <tr>\n",
       "      <th>441599</th>\n",
       "      <td>2125197</td>\n",
       "      <td>14050</td>\n",
       "      <td>48</td>\n",
       "      <td>3</td>\n",
       "      <td>2</td>\n",
       "      <td>3.0</td>\n",
       "    </tr>\n",
       "  </tbody>\n",
       "</table>\n",
       "</div>"
      ],
      "text/plain": [
       "        order_id  user_id  order_number  order_dow  order_hour_of_day  \\\n",
       "145574    794638    50898            24          3                  2   \n",
       "223105   2160484   107525            16          3                  2   \n",
       "230807   1918001   188546            14          3                  2   \n",
       "266232   1782114   106752             1          3                  2   \n",
       "273805   1112182   202304            84          3                  2   \n",
       "284038   2845099    31189            11          3                  2   \n",
       "311713   1021560    53767             3          3                  2   \n",
       "321100    408114    68324             4          3                  2   \n",
       "323900   1919531   191501            32          3                  2   \n",
       "345917   2232988    82565             1          3                  2   \n",
       "371905    391768    57671            19          3                  2   \n",
       "394347    467134    63189            21          3                  2   \n",
       "411408   1286742   183220            48          3                  2   \n",
       "415163   2282673    86751            49          3                  2   \n",
       "441599   2125197    14050            48          3                  2   \n",
       "\n",
       "        days_since_prior_order  \n",
       "145574                     2.0  \n",
       "223105                    30.0  \n",
       "230807                    16.0  \n",
       "266232                     NaN  \n",
       "273805                     6.0  \n",
       "284038                     7.0  \n",
       "311713                     9.0  \n",
       "321100                    18.0  \n",
       "323900                     7.0  \n",
       "345917                     NaN  \n",
       "371905                    10.0  \n",
       "394347                     2.0  \n",
       "411408                     4.0  \n",
       "415163                     2.0  \n",
       "441599                     3.0  "
      ]
     },
     "execution_count": 13,
     "metadata": {},
     "output_type": "execute_result"
    }
   ],
   "source": [
    "#¿Qué es lo que tienen en común esas 15 filas?\n",
    "orders[orders.duplicated()]"
   ]
  },
  {
   "cell_type": "markdown",
   "id": "PEkwUX_gvt5A",
   "metadata": {
    "id": "PEkwUX_gvt5A"
   },
   "source": [
    "¿Tienes líneas duplicadas? Si sí, ¿qué tienen en común?"
   ]
  },
  {
   "cell_type": "code",
   "execution_count": 14,
   "id": "0d44de5d",
   "metadata": {
    "id": "0d44de5d"
   },
   "outputs": [
    {
     "data": {
      "text/html": [
       "<div>\n",
       "<style scoped>\n",
       "    .dataframe tbody tr th:only-of-type {\n",
       "        vertical-align: middle;\n",
       "    }\n",
       "\n",
       "    .dataframe tbody tr th {\n",
       "        vertical-align: top;\n",
       "    }\n",
       "\n",
       "    .dataframe thead th {\n",
       "        text-align: right;\n",
       "    }\n",
       "</style>\n",
       "<table border=\"1\" class=\"dataframe\">\n",
       "  <thead>\n",
       "    <tr style=\"text-align: right;\">\n",
       "      <th></th>\n",
       "      <th>order_id</th>\n",
       "      <th>user_id</th>\n",
       "      <th>order_number</th>\n",
       "      <th>order_dow</th>\n",
       "      <th>order_hour_of_day</th>\n",
       "      <th>days_since_prior_order</th>\n",
       "    </tr>\n",
       "  </thead>\n",
       "  <tbody>\n",
       "    <tr>\n",
       "      <th>4838</th>\n",
       "      <td>2766110</td>\n",
       "      <td>162084</td>\n",
       "      <td>41</td>\n",
       "      <td>3</td>\n",
       "      <td>2</td>\n",
       "      <td>16.0</td>\n",
       "    </tr>\n",
       "    <tr>\n",
       "      <th>5156</th>\n",
       "      <td>2190225</td>\n",
       "      <td>138285</td>\n",
       "      <td>18</td>\n",
       "      <td>3</td>\n",
       "      <td>2</td>\n",
       "      <td>11.0</td>\n",
       "    </tr>\n",
       "    <tr>\n",
       "      <th>15506</th>\n",
       "      <td>553049</td>\n",
       "      <td>58599</td>\n",
       "      <td>13</td>\n",
       "      <td>3</td>\n",
       "      <td>2</td>\n",
       "      <td>7.0</td>\n",
       "    </tr>\n",
       "    <tr>\n",
       "      <th>18420</th>\n",
       "      <td>382357</td>\n",
       "      <td>120200</td>\n",
       "      <td>19</td>\n",
       "      <td>3</td>\n",
       "      <td>2</td>\n",
       "      <td>11.0</td>\n",
       "    </tr>\n",
       "    <tr>\n",
       "      <th>24691</th>\n",
       "      <td>690242</td>\n",
       "      <td>77357</td>\n",
       "      <td>2</td>\n",
       "      <td>3</td>\n",
       "      <td>2</td>\n",
       "      <td>9.0</td>\n",
       "    </tr>\n",
       "    <tr>\n",
       "      <th>...</th>\n",
       "      <td>...</td>\n",
       "      <td>...</td>\n",
       "      <td>...</td>\n",
       "      <td>...</td>\n",
       "      <td>...</td>\n",
       "      <td>...</td>\n",
       "    </tr>\n",
       "    <tr>\n",
       "      <th>457013</th>\n",
       "      <td>3384021</td>\n",
       "      <td>14881</td>\n",
       "      <td>6</td>\n",
       "      <td>3</td>\n",
       "      <td>2</td>\n",
       "      <td>30.0</td>\n",
       "    </tr>\n",
       "    <tr>\n",
       "      <th>458816</th>\n",
       "      <td>910166</td>\n",
       "      <td>164782</td>\n",
       "      <td>18</td>\n",
       "      <td>3</td>\n",
       "      <td>2</td>\n",
       "      <td>4.0</td>\n",
       "    </tr>\n",
       "    <tr>\n",
       "      <th>459635</th>\n",
       "      <td>1680532</td>\n",
       "      <td>106435</td>\n",
       "      <td>6</td>\n",
       "      <td>3</td>\n",
       "      <td>2</td>\n",
       "      <td>21.0</td>\n",
       "    </tr>\n",
       "    <tr>\n",
       "      <th>468324</th>\n",
       "      <td>222962</td>\n",
       "      <td>54979</td>\n",
       "      <td>59</td>\n",
       "      <td>3</td>\n",
       "      <td>2</td>\n",
       "      <td>3.0</td>\n",
       "    </tr>\n",
       "    <tr>\n",
       "      <th>477526</th>\n",
       "      <td>2592344</td>\n",
       "      <td>46860</td>\n",
       "      <td>38</td>\n",
       "      <td>3</td>\n",
       "      <td>2</td>\n",
       "      <td>3.0</td>\n",
       "    </tr>\n",
       "  </tbody>\n",
       "</table>\n",
       "<p>121 rows × 6 columns</p>\n",
       "</div>"
      ],
      "text/plain": [
       "        order_id  user_id  order_number  order_dow  order_hour_of_day  \\\n",
       "4838     2766110   162084            41          3                  2   \n",
       "5156     2190225   138285            18          3                  2   \n",
       "15506     553049    58599            13          3                  2   \n",
       "18420     382357   120200            19          3                  2   \n",
       "24691     690242    77357             2          3                  2   \n",
       "...          ...      ...           ...        ...                ...   \n",
       "457013   3384021    14881             6          3                  2   \n",
       "458816    910166   164782            18          3                  2   \n",
       "459635   1680532   106435             6          3                  2   \n",
       "468324    222962    54979            59          3                  2   \n",
       "477526   2592344    46860            38          3                  2   \n",
       "\n",
       "        days_since_prior_order  \n",
       "4838                      16.0  \n",
       "5156                      11.0  \n",
       "15506                      7.0  \n",
       "18420                     11.0  \n",
       "24691                      9.0  \n",
       "...                        ...  \n",
       "457013                    30.0  \n",
       "458816                     4.0  \n",
       "459635                    21.0  \n",
       "468324                     3.0  \n",
       "477526                     3.0  \n",
       "\n",
       "[121 rows x 6 columns]"
      ]
     },
     "execution_count": 14,
     "metadata": {},
     "output_type": "execute_result"
    }
   ],
   "source": [
    "# Basándote en tus hallazgos,\n",
    "# Verifica todos los orders que se hicieron el miércoles a las 2:00 a.m.\n",
    "orders[(orders['order_dow']== 3) & (orders['order_hour_of_day'] == 2)]\n"
   ]
  },
  {
   "cell_type": "markdown",
   "id": "vu2OWyoqwOx5",
   "metadata": {
    "id": "vu2OWyoqwOx5"
   },
   "source": [
    "¿Qué sugiere este resultado?\n",
    "\n",
    "**El día miércoles a las 2 AM de todas las ordenes de compra solo el 12% (15/121) fueron duplicados.**\n"
   ]
  },
  {
   "cell_type": "code",
   "execution_count": 15,
   "id": "480563c7",
   "metadata": {
    "id": "480563c7"
   },
   "outputs": [],
   "source": [
    "# Elimina los orders duplicados\n",
    "orders = orders.drop_duplicates().reset_index(drop = True)\n"
   ]
  },
  {
   "cell_type": "code",
   "execution_count": 16,
   "id": "0b2396a2",
   "metadata": {
    "id": "0b2396a2"
   },
   "outputs": [
    {
     "data": {
      "text/plain": [
       "0"
      ]
     },
     "execution_count": 16,
     "metadata": {},
     "output_type": "execute_result"
    }
   ],
   "source": [
    "# Vuelve a verificar si hay filas duplicadas\n",
    "orders.duplicated().sum()\n"
   ]
  },
  {
   "cell_type": "code",
   "execution_count": 17,
   "id": "f6113ef1",
   "metadata": {
    "id": "f6113ef1"
   },
   "outputs": [
    {
     "data": {
      "text/plain": [
       "0"
      ]
     },
     "execution_count": 17,
     "metadata": {},
     "output_type": "execute_result"
    }
   ],
   "source": [
    "# Vuelve a verificar si hay IDs duplicados de orders\n",
    "orders.duplicated(subset = 'order_id').sum()"
   ]
  },
  {
   "cell_type": "markdown",
   "id": "5e8905ae",
   "metadata": {
    "id": "5e8905ae"
   },
   "source": [
    "Describe brevemente tus hallazgos y lo que hiciste con ellos:\n",
    "\n",
    "**Eliminé los registros duplicados que ocurrieron el día miércoles a las 2 a.m., lo cual es probable que haya sido un error del sistema, ya que no todos los registros de esa hora estaban duplicados. Por último, verifiqué la columna de ID de los pedidos, ya que es la única que no debería contener valores repetidos dentro de la tabla \"orders\".**"
   ]
  },
  {
   "cell_type": "markdown",
   "id": "45e6bc46",
   "metadata": {
    "id": "45e6bc46"
   },
   "source": [
    "#`products` data frame"
   ]
  },
  {
   "cell_type": "code",
   "execution_count": 18,
   "id": "5f526b5b-8175-46fa-a0fd-441767d50e64",
   "metadata": {
    "id": "5f526b5b-8175-46fa-a0fd-441767d50e64"
   },
   "outputs": [
    {
     "data": {
      "text/plain": [
       "0"
      ]
     },
     "execution_count": 18,
     "metadata": {},
     "output_type": "execute_result"
    }
   ],
   "source": [
    "# Verifica si hay filas totalmente duplicadas\n",
    "products.duplicated().sum()"
   ]
  },
  {
   "cell_type": "code",
   "execution_count": 19,
   "id": "88daa4f4",
   "metadata": {
    "id": "88daa4f4"
   },
   "outputs": [
    {
     "data": {
      "text/plain": [
       "0"
      ]
     },
     "execution_count": 19,
     "metadata": {},
     "output_type": "execute_result"
    }
   ],
   "source": [
    "# Verifica si hay IDs duplicadas de productos\n",
    "products.duplicated(subset = 'product_id').sum()"
   ]
  },
  {
   "cell_type": "code",
   "execution_count": 20,
   "id": "c773f0bf",
   "metadata": {
    "id": "c773f0bf"
   },
   "outputs": [],
   "source": [
    "# Revisa si hay nombres duplicados de productos (convierte los nombres a letras mayúsculas para compararlos mejor)\n",
    "product_name_upper = products['product_name'].str.upper()"
   ]
  },
  {
   "cell_type": "code",
   "execution_count": 21,
   "id": "759ea638",
   "metadata": {},
   "outputs": [
    {
     "data": {
      "text/plain": [
       "1257"
      ]
     },
     "execution_count": 21,
     "metadata": {},
     "output_type": "execute_result"
    }
   ],
   "source": [
    "#contabilizar los duplicados después de hacer product name a mayúsculas\n",
    "products.duplicated(subset = 'product_name').sum()"
   ]
  },
  {
   "cell_type": "code",
   "execution_count": 22,
   "id": "01efd02e",
   "metadata": {
    "id": "01efd02e"
   },
   "outputs": [
    {
     "data": {
      "text/html": [
       "<div>\n",
       "<style scoped>\n",
       "    .dataframe tbody tr th:only-of-type {\n",
       "        vertical-align: middle;\n",
       "    }\n",
       "\n",
       "    .dataframe tbody tr th {\n",
       "        vertical-align: top;\n",
       "    }\n",
       "\n",
       "    .dataframe thead th {\n",
       "        text-align: right;\n",
       "    }\n",
       "</style>\n",
       "<table border=\"1\" class=\"dataframe\">\n",
       "  <thead>\n",
       "    <tr style=\"text-align: right;\">\n",
       "      <th></th>\n",
       "      <th>product_id</th>\n",
       "      <th>product_name</th>\n",
       "      <th>aisle_id</th>\n",
       "      <th>department_id</th>\n",
       "    </tr>\n",
       "  </thead>\n",
       "  <tbody>\n",
       "  </tbody>\n",
       "</table>\n",
       "</div>"
      ],
      "text/plain": [
       "Empty DataFrame\n",
       "Columns: [product_id, product_name, aisle_id, department_id]\n",
       "Index: []"
      ]
     },
     "execution_count": 22,
     "metadata": {},
     "output_type": "execute_result"
    }
   ],
   "source": [
    "# Revisa si hay nombres duplicados de productos no faltantes\n",
    "products[(products.duplicated(subset = 'product_name')) & (~products['product_name'].isna())]"
   ]
  },
  {
   "cell_type": "markdown",
   "id": "9da8d293",
   "metadata": {
    "id": "9da8d293"
   },
   "source": [
    "Describe brevemente tus hallazgos y lo que hiciste con ellos."
   ]
  },
  {
   "cell_type": "markdown",
   "id": "5664fc67",
   "metadata": {},
   "source": [
    "**Todos lo valores faltantes en \"product_name\" son de valores ausentes. Aunque existan valores con el mismo nombre estos pueden ser diferentes productos siempre y cuando el product_id sea distinto.**"
   ]
  },
  {
   "cell_type": "markdown",
   "id": "60f30db1",
   "metadata": {
    "id": "60f30db1"
   },
   "source": [
    "### `departments` data frame"
   ]
  },
  {
   "cell_type": "code",
   "execution_count": 23,
   "id": "fb410ad4-0fbf-4b80-bb09-23fdea79afe3",
   "metadata": {
    "id": "fb410ad4-0fbf-4b80-bb09-23fdea79afe3"
   },
   "outputs": [
    {
     "data": {
      "text/plain": [
       "0"
      ]
     },
     "execution_count": 23,
     "metadata": {},
     "output_type": "execute_result"
    }
   ],
   "source": [
    "# Revisa si hay filas totalmente duplicadas\n",
    "departments.duplicated().sum()"
   ]
  },
  {
   "cell_type": "code",
   "execution_count": 24,
   "id": "332b12bb",
   "metadata": {
    "id": "332b12bb"
   },
   "outputs": [
    {
     "data": {
      "text/plain": [
       "0"
      ]
     },
     "execution_count": 24,
     "metadata": {},
     "output_type": "execute_result"
    }
   ],
   "source": [
    "# Revisa si hay IDs duplicadas de productos\n",
    "departments.duplicated(subset = 'department_id').sum()"
   ]
  },
  {
   "cell_type": "markdown",
   "id": "bd30d78e",
   "metadata": {
    "id": "bd30d78e"
   },
   "source": [
    "Describe brevemente tus hallazgos y lo que hiciste con ellos.\n",
    "\n",
    "**No hubo datos ausentes en departments, únicamente son dos campos, el valor junto con su definición.**"
   ]
  },
  {
   "cell_type": "markdown",
   "id": "889349c1",
   "metadata": {
    "id": "889349c1"
   },
   "source": [
    "### `aisles` data frame"
   ]
  },
  {
   "cell_type": "code",
   "execution_count": 25,
   "id": "9da89fb9-4679-40f5-ad0d-c34df753a3f8",
   "metadata": {
    "id": "9da89fb9-4679-40f5-ad0d-c34df753a3f8"
   },
   "outputs": [
    {
     "data": {
      "text/plain": [
       "0"
      ]
     },
     "execution_count": 25,
     "metadata": {},
     "output_type": "execute_result"
    }
   ],
   "source": [
    "# Revisa si hay filas totalmente duplicadas\n",
    "aisles.duplicated().sum()\n"
   ]
  },
  {
   "cell_type": "code",
   "execution_count": 26,
   "id": "da7c2822",
   "metadata": {
    "id": "da7c2822"
   },
   "outputs": [
    {
     "data": {
      "text/plain": [
       "0"
      ]
     },
     "execution_count": 26,
     "metadata": {},
     "output_type": "execute_result"
    }
   ],
   "source": [
    "# Revisa si hay IDs duplicadas de productos\n",
    "aisles.duplicated(subset = 'aisle_id').sum()"
   ]
  },
  {
   "cell_type": "markdown",
   "id": "ac63826f",
   "metadata": {
    "id": "ac63826f"
   },
   "source": [
    "Describe brevemente tus hallazgos y lo que hiciste con ellos.\n",
    "\n",
    "**No hay datos dupicados en aisles, únicamente son dos campos, el valor junto con su definición.**"
   ]
  },
  {
   "cell_type": "markdown",
   "id": "274cd06a",
   "metadata": {
    "id": "274cd06a"
   },
   "source": [
    "### `order_products` data frame"
   ]
  },
  {
   "cell_type": "code",
   "execution_count": 27,
   "id": "52326689-84a8-4b8f-a881-7c68780f62c9",
   "metadata": {
    "id": "52326689-84a8-4b8f-a881-7c68780f62c9"
   },
   "outputs": [
    {
     "data": {
      "text/plain": [
       "0"
      ]
     },
     "execution_count": 27,
     "metadata": {},
     "output_type": "execute_result"
    }
   ],
   "source": [
    "# Revisa si hay filas totalmente duplicadas\n",
    "order_products.duplicated().sum()\n",
    "\n"
   ]
  },
  {
   "cell_type": "code",
   "execution_count": 28,
   "id": "7b861391",
   "metadata": {
    "id": "7b861391"
   },
   "outputs": [
    {
     "data": {
      "text/plain": [
       "4094961"
      ]
     },
     "execution_count": 28,
     "metadata": {},
     "output_type": "execute_result"
    }
   ],
   "source": [
    "# Vuelve a verificar si hay cualquier otro duplicado engañoso\n",
    "order_products.duplicated(subset = 'order_id').sum()\n",
    "\n"
   ]
  },
  {
   "cell_type": "code",
   "execution_count": 29,
   "id": "0f864179",
   "metadata": {},
   "outputs": [
    {
     "data": {
      "text/html": [
       "<div>\n",
       "<style scoped>\n",
       "    .dataframe tbody tr th:only-of-type {\n",
       "        vertical-align: middle;\n",
       "    }\n",
       "\n",
       "    .dataframe tbody tr th {\n",
       "        vertical-align: top;\n",
       "    }\n",
       "\n",
       "    .dataframe thead th {\n",
       "        text-align: right;\n",
       "    }\n",
       "</style>\n",
       "<table border=\"1\" class=\"dataframe\">\n",
       "  <thead>\n",
       "    <tr style=\"text-align: right;\">\n",
       "      <th></th>\n",
       "      <th>order_id</th>\n",
       "      <th>product_id</th>\n",
       "      <th>add_to_cart_order</th>\n",
       "      <th>reordered</th>\n",
       "    </tr>\n",
       "  </thead>\n",
       "  <tbody>\n",
       "    <tr>\n",
       "      <th>367</th>\n",
       "      <td>2867619</td>\n",
       "      <td>48094</td>\n",
       "      <td>9.0</td>\n",
       "      <td>0</td>\n",
       "    </tr>\n",
       "    <tr>\n",
       "      <th>824</th>\n",
       "      <td>844425</td>\n",
       "      <td>39408</td>\n",
       "      <td>10.0</td>\n",
       "      <td>1</td>\n",
       "    </tr>\n",
       "    <tr>\n",
       "      <th>1124</th>\n",
       "      <td>3319857</td>\n",
       "      <td>37067</td>\n",
       "      <td>19.0</td>\n",
       "      <td>0</td>\n",
       "    </tr>\n",
       "    <tr>\n",
       "      <th>1258</th>\n",
       "      <td>1038788</td>\n",
       "      <td>12471</td>\n",
       "      <td>14.0</td>\n",
       "      <td>0</td>\n",
       "    </tr>\n",
       "    <tr>\n",
       "      <th>1303</th>\n",
       "      <td>2825714</td>\n",
       "      <td>44632</td>\n",
       "      <td>16.0</td>\n",
       "      <td>1</td>\n",
       "    </tr>\n",
       "    <tr>\n",
       "      <th>...</th>\n",
       "      <td>...</td>\n",
       "      <td>...</td>\n",
       "      <td>...</td>\n",
       "      <td>...</td>\n",
       "    </tr>\n",
       "    <tr>\n",
       "      <th>4545002</th>\n",
       "      <td>577211</td>\n",
       "      <td>15290</td>\n",
       "      <td>12.0</td>\n",
       "      <td>1</td>\n",
       "    </tr>\n",
       "    <tr>\n",
       "      <th>4545003</th>\n",
       "      <td>1219554</td>\n",
       "      <td>21914</td>\n",
       "      <td>9.0</td>\n",
       "      <td>0</td>\n",
       "    </tr>\n",
       "    <tr>\n",
       "      <th>4545004</th>\n",
       "      <td>692640</td>\n",
       "      <td>47766</td>\n",
       "      <td>4.0</td>\n",
       "      <td>1</td>\n",
       "    </tr>\n",
       "    <tr>\n",
       "      <th>4545005</th>\n",
       "      <td>319435</td>\n",
       "      <td>691</td>\n",
       "      <td>8.0</td>\n",
       "      <td>1</td>\n",
       "    </tr>\n",
       "    <tr>\n",
       "      <th>4545006</th>\n",
       "      <td>1398151</td>\n",
       "      <td>28733</td>\n",
       "      <td>9.0</td>\n",
       "      <td>0</td>\n",
       "    </tr>\n",
       "  </tbody>\n",
       "</table>\n",
       "<p>4094961 rows × 4 columns</p>\n",
       "</div>"
      ],
      "text/plain": [
       "         order_id  product_id  add_to_cart_order  reordered\n",
       "367       2867619       48094                9.0          0\n",
       "824        844425       39408               10.0          1\n",
       "1124      3319857       37067               19.0          0\n",
       "1258      1038788       12471               14.0          0\n",
       "1303      2825714       44632               16.0          1\n",
       "...           ...         ...                ...        ...\n",
       "4545002    577211       15290               12.0          1\n",
       "4545003   1219554       21914                9.0          0\n",
       "4545004    692640       47766                4.0          1\n",
       "4545005    319435         691                8.0          1\n",
       "4545006   1398151       28733                9.0          0\n",
       "\n",
       "[4094961 rows x 4 columns]"
      ]
     },
     "execution_count": 29,
     "metadata": {},
     "output_type": "execute_result"
    }
   ],
   "source": [
    "order_products[(order_products['order_id'].duplicated())]"
   ]
  },
  {
   "cell_type": "markdown",
   "id": "0b890492",
   "metadata": {
    "id": "0b890492"
   },
   "source": [
    "Describe brevemente tus hallazgos y lo que hiciste con ellos.\n",
    "\n",
    "**Un mismo order_id puede aparecer varias veces si una orden contiene más de un producto. En este caso, cada fila representa un producto diferente dentro de la misma orden. Esto es común en datasets de transacciones, donde cada fila corresponde a un ítem en el pedido.**"
   ]
  },
  {
   "cell_type": "markdown",
   "id": "1e46de76",
   "metadata": {
    "id": "1e46de76"
   },
   "source": [
    "## Encuentra y elimina los valores ausentes\n",
    "\n",
    "Al trabajar con valores duplicados, pudimos observar que también nos falta investigar valores ausentes:\n",
    "\n",
    "* La columna `'product_name'` de la tabla products.\n",
    "* La columna `'days_since_prior_order'` de la tabla orders.\n",
    "* La columna `'add_to_cart_order'` de la tabla order_productos."
   ]
  },
  {
   "cell_type": "markdown",
   "id": "c0aebd78",
   "metadata": {
    "id": "c0aebd78"
   },
   "source": [
    "### `products` data frame"
   ]
  },
  {
   "cell_type": "code",
   "execution_count": 30,
   "id": "fe4a8b0f",
   "metadata": {
    "id": "fe4a8b0f"
   },
   "outputs": [
    {
     "data": {
      "text/html": [
       "<div>\n",
       "<style scoped>\n",
       "    .dataframe tbody tr th:only-of-type {\n",
       "        vertical-align: middle;\n",
       "    }\n",
       "\n",
       "    .dataframe tbody tr th {\n",
       "        vertical-align: top;\n",
       "    }\n",
       "\n",
       "    .dataframe thead th {\n",
       "        text-align: right;\n",
       "    }\n",
       "</style>\n",
       "<table border=\"1\" class=\"dataframe\">\n",
       "  <thead>\n",
       "    <tr style=\"text-align: right;\">\n",
       "      <th></th>\n",
       "      <th>product_id</th>\n",
       "      <th>product_name</th>\n",
       "      <th>aisle_id</th>\n",
       "      <th>department_id</th>\n",
       "    </tr>\n",
       "  </thead>\n",
       "  <tbody>\n",
       "    <tr>\n",
       "      <th>0</th>\n",
       "      <td>1</td>\n",
       "      <td>Chocolate Sandwich Cookies</td>\n",
       "      <td>61</td>\n",
       "      <td>19</td>\n",
       "    </tr>\n",
       "    <tr>\n",
       "      <th>1</th>\n",
       "      <td>2</td>\n",
       "      <td>All-Seasons Salt</td>\n",
       "      <td>104</td>\n",
       "      <td>13</td>\n",
       "    </tr>\n",
       "    <tr>\n",
       "      <th>2</th>\n",
       "      <td>3</td>\n",
       "      <td>Robust Golden Unsweetened Oolong Tea</td>\n",
       "      <td>94</td>\n",
       "      <td>7</td>\n",
       "    </tr>\n",
       "    <tr>\n",
       "      <th>3</th>\n",
       "      <td>4</td>\n",
       "      <td>Smart Ones Classic Favorites Mini Rigatoni Wit...</td>\n",
       "      <td>38</td>\n",
       "      <td>1</td>\n",
       "    </tr>\n",
       "    <tr>\n",
       "      <th>4</th>\n",
       "      <td>5</td>\n",
       "      <td>Green Chile Anytime Sauce</td>\n",
       "      <td>5</td>\n",
       "      <td>13</td>\n",
       "    </tr>\n",
       "    <tr>\n",
       "      <th>...</th>\n",
       "      <td>...</td>\n",
       "      <td>...</td>\n",
       "      <td>...</td>\n",
       "      <td>...</td>\n",
       "    </tr>\n",
       "    <tr>\n",
       "      <th>49689</th>\n",
       "      <td>49690</td>\n",
       "      <td>HIGH PERFORMANCE ENERGY DRINK</td>\n",
       "      <td>64</td>\n",
       "      <td>7</td>\n",
       "    </tr>\n",
       "    <tr>\n",
       "      <th>49690</th>\n",
       "      <td>49691</td>\n",
       "      <td>ORIGINAL PANCAKE &amp; WAFFLE MIX</td>\n",
       "      <td>130</td>\n",
       "      <td>14</td>\n",
       "    </tr>\n",
       "    <tr>\n",
       "      <th>49691</th>\n",
       "      <td>49692</td>\n",
       "      <td>ORGANIC INSTANT OATMEAL LIGHT MAPLE BROWN SUGAR</td>\n",
       "      <td>130</td>\n",
       "      <td>14</td>\n",
       "    </tr>\n",
       "    <tr>\n",
       "      <th>49692</th>\n",
       "      <td>49693</td>\n",
       "      <td>SPRING WATER BODY WASH</td>\n",
       "      <td>127</td>\n",
       "      <td>11</td>\n",
       "    </tr>\n",
       "    <tr>\n",
       "      <th>49693</th>\n",
       "      <td>49694</td>\n",
       "      <td>BURRITO- STEAK &amp; CHEESE</td>\n",
       "      <td>38</td>\n",
       "      <td>1</td>\n",
       "    </tr>\n",
       "  </tbody>\n",
       "</table>\n",
       "<p>49694 rows × 4 columns</p>\n",
       "</div>"
      ],
      "text/plain": [
       "       product_id                                       product_name  \\\n",
       "0               1                         Chocolate Sandwich Cookies   \n",
       "1               2                                   All-Seasons Salt   \n",
       "2               3               Robust Golden Unsweetened Oolong Tea   \n",
       "3               4  Smart Ones Classic Favorites Mini Rigatoni Wit...   \n",
       "4               5                          Green Chile Anytime Sauce   \n",
       "...           ...                                                ...   \n",
       "49689       49690                      HIGH PERFORMANCE ENERGY DRINK   \n",
       "49690       49691                      ORIGINAL PANCAKE & WAFFLE MIX   \n",
       "49691       49692    ORGANIC INSTANT OATMEAL LIGHT MAPLE BROWN SUGAR   \n",
       "49692       49693                             SPRING WATER BODY WASH   \n",
       "49693       49694                            BURRITO- STEAK & CHEESE   \n",
       "\n",
       "       aisle_id  department_id  \n",
       "0            61             19  \n",
       "1           104             13  \n",
       "2            94              7  \n",
       "3            38              1  \n",
       "4             5             13  \n",
       "...         ...            ...  \n",
       "49689        64              7  \n",
       "49690       130             14  \n",
       "49691       130             14  \n",
       "49692       127             11  \n",
       "49693        38              1  \n",
       "\n",
       "[49694 rows x 4 columns]"
      ]
     },
     "execution_count": 30,
     "metadata": {},
     "output_type": "execute_result"
    }
   ],
   "source": [
    "# Encuentra los valores ausentes en la columna 'product_name'\n",
    "products.isna().sum()\n",
    "products"
   ]
  },
  {
   "cell_type": "markdown",
   "id": "-A6x1AbJhjkp",
   "metadata": {
    "id": "-A6x1AbJhjkp"
   },
   "source": [
    "Describe brevemente cuáles son tus hallazgos.\n",
    "\n",
    "**Existen 1258 nombres de producto que se desconocen, sin embargo, si conocemos su ID**."
   ]
  },
  {
   "cell_type": "code",
   "execution_count": 31,
   "id": "e96167bc",
   "metadata": {
    "id": "e96167bc"
   },
   "outputs": [
    {
     "data": {
      "text/html": [
       "<div>\n",
       "<style scoped>\n",
       "    .dataframe tbody tr th:only-of-type {\n",
       "        vertical-align: middle;\n",
       "    }\n",
       "\n",
       "    .dataframe tbody tr th {\n",
       "        vertical-align: top;\n",
       "    }\n",
       "\n",
       "    .dataframe thead th {\n",
       "        text-align: right;\n",
       "    }\n",
       "</style>\n",
       "<table border=\"1\" class=\"dataframe\">\n",
       "  <thead>\n",
       "    <tr style=\"text-align: right;\">\n",
       "      <th></th>\n",
       "      <th>product_id</th>\n",
       "      <th>product_name</th>\n",
       "      <th>aisle_id</th>\n",
       "      <th>department_id</th>\n",
       "    </tr>\n",
       "  </thead>\n",
       "  <tbody>\n",
       "  </tbody>\n",
       "</table>\n",
       "</div>"
      ],
      "text/plain": [
       "Empty DataFrame\n",
       "Columns: [product_id, product_name, aisle_id, department_id]\n",
       "Index: []"
      ]
     },
     "execution_count": 31,
     "metadata": {},
     "output_type": "execute_result"
    }
   ],
   "source": [
    "#  ¿Todos los nombres de productos ausentes están relacionados con el pasillo con ID 100?\n",
    "products[(products['product_name'].isna())& (~products['aisle_id']==100)]"
   ]
  },
  {
   "cell_type": "markdown",
   "id": "WRpIfXRphpSL",
   "metadata": {
    "id": "WRpIfXRphpSL"
   },
   "source": [
    "Describe brevemente cuáles son tus hallazgos.\n",
    "\n",
    "**Con la sentencia anterior podemos comprobar que todos los valores ausentes pertenecen al pasillo 100.** "
   ]
  },
  {
   "cell_type": "code",
   "execution_count": 32,
   "id": "8fd0a541",
   "metadata": {
    "id": "8fd0a541"
   },
   "outputs": [
    {
     "data": {
      "text/html": [
       "<div>\n",
       "<style scoped>\n",
       "    .dataframe tbody tr th:only-of-type {\n",
       "        vertical-align: middle;\n",
       "    }\n",
       "\n",
       "    .dataframe tbody tr th {\n",
       "        vertical-align: top;\n",
       "    }\n",
       "\n",
       "    .dataframe thead th {\n",
       "        text-align: right;\n",
       "    }\n",
       "</style>\n",
       "<table border=\"1\" class=\"dataframe\">\n",
       "  <thead>\n",
       "    <tr style=\"text-align: right;\">\n",
       "      <th></th>\n",
       "      <th>product_id</th>\n",
       "      <th>product_name</th>\n",
       "      <th>aisle_id</th>\n",
       "      <th>department_id</th>\n",
       "    </tr>\n",
       "  </thead>\n",
       "  <tbody>\n",
       "  </tbody>\n",
       "</table>\n",
       "</div>"
      ],
      "text/plain": [
       "Empty DataFrame\n",
       "Columns: [product_id, product_name, aisle_id, department_id]\n",
       "Index: []"
      ]
     },
     "execution_count": 32,
     "metadata": {},
     "output_type": "execute_result"
    }
   ],
   "source": [
    "# ¿Todos los nombres de productos ausentes están relacionados con el departamento con ID 21?\n",
    "products[(products['product_name'].isna())& (~products['department_id']==21)]"
   ]
  },
  {
   "cell_type": "markdown",
   "id": "qDpdYn1Fht_I",
   "metadata": {
    "id": "qDpdYn1Fht_I"
   },
   "source": [
    "Describe brevemente cuáles son tus hallazgos.\n",
    "\n",
    "**Todos los valores ausentes en el nombre del producto vienen del departamento 21 así como del pasillo 100.**"
   ]
  },
  {
   "cell_type": "code",
   "execution_count": 33,
   "id": "325c3464",
   "metadata": {
    "id": "325c3464"
   },
   "outputs": [
    {
     "name": "stdout",
     "output_type": "stream",
     "text": [
      "    aisle_id    aisle\n",
      "99       100  missing\n",
      "\n",
      "    department_id department\n",
      "20             21    missing\n"
     ]
    }
   ],
   "source": [
    "# Usa las tablas department y aisle para revisar los datos del pasillo con ID 100 y el departamento con ID 21.\n",
    "aisle_missing= aisles[(aisles['aisle_id']==100)]\n",
    "department_missing =departments[(departments['department_id']==21)]\n",
    "\n",
    "print(aisle_missing)\n",
    "print()\n",
    "print(department_missing)"
   ]
  },
  {
   "cell_type": "markdown",
   "id": "nqhSTUPhhvEJ",
   "metadata": {
    "id": "nqhSTUPhhvEJ"
   },
   "source": [
    "Describe brevemente cuáles son tus hallazgos.\n",
    "\n",
    "**Con esto podemos confirmar que el error esta en el departamento 21, pasillo 100.** "
   ]
  },
  {
   "cell_type": "code",
   "execution_count": 34,
   "id": "6b295120",
   "metadata": {
    "id": "6b295120"
   },
   "outputs": [],
   "source": [
    "# Completa los nombres de productos ausentes con 'Unknown'\n",
    "\n",
    "products['product_name'] = products['product_name'].fillna('Unknown').reset_index (drop = True)"
   ]
  },
  {
   "cell_type": "code",
   "execution_count": 35,
   "id": "de5d56e1",
   "metadata": {},
   "outputs": [
    {
     "data": {
      "text/plain": [
       "0"
      ]
     },
     "execution_count": 35,
     "metadata": {},
     "output_type": "execute_result"
    }
   ],
   "source": [
    "#Verificar valores ausentes en 'product_name'\n",
    "products['product_name'].isna().sum()"
   ]
  },
  {
   "cell_type": "markdown",
   "id": "fc70e5ad",
   "metadata": {
    "id": "fc70e5ad"
   },
   "source": [
    "Describe brevemente tus hallazgos y lo que hiciste con ellos.\n",
    "\n",
    "**Llenamos los valores NaN con 'Unknown', es impotante destacar que no se pueden eliminar estos registros debido a que si tienen un 'product_id'.**"
   ]
  },
  {
   "cell_type": "markdown",
   "id": "7eb45c86",
   "metadata": {
    "id": "7eb45c86"
   },
   "source": [
    "### `orders` data frame"
   ]
  },
  {
   "cell_type": "code",
   "execution_count": 36,
   "id": "93e41d96",
   "metadata": {
    "id": "93e41d96"
   },
   "outputs": [
    {
     "data": {
      "text/plain": [
       "order_id                      0\n",
       "user_id                       0\n",
       "order_number                  0\n",
       "order_dow                     0\n",
       "order_hour_of_day             0\n",
       "days_since_prior_order    28817\n",
       "dtype: int64"
      ]
     },
     "execution_count": 36,
     "metadata": {},
     "output_type": "execute_result"
    }
   ],
   "source": [
    "# Encuentra los valores ausentes\n",
    "orders.isna().sum()"
   ]
  },
  {
   "cell_type": "code",
   "execution_count": 37,
   "id": "166e5a86",
   "metadata": {
    "id": "166e5a86"
   },
   "outputs": [
    {
     "data": {
      "text/plain": [
       "array([1])"
      ]
     },
     "execution_count": 37,
     "metadata": {},
     "output_type": "execute_result"
    }
   ],
   "source": [
    "# ¿Hay algún valor ausente que no sea el primer pedido del cliente?\n",
    "\n",
    "orders[orders['days_since_prior_order'].isna()]['order_number'].unique()\n",
    "\n",
    "#No, únicamente la compra número 1 representa NaN en 'days_since_prior_order'"
   ]
  },
  {
   "cell_type": "code",
   "execution_count": 38,
   "id": "e4bcb0ad",
   "metadata": {},
   "outputs": [],
   "source": [
    "#llenar los valores nulos en 'days_since_prior_order'\n",
    "orders['days_since_prior_order'] = orders['days_since_prior_order'].fillna(0)"
   ]
  },
  {
   "cell_type": "markdown",
   "id": "4e23d089",
   "metadata": {
    "id": "4e23d089"
   },
   "source": [
    "Describe brevemente tus hallazgos y lo que hiciste con ellos.\n",
    "\n",
    "**Se llenaron con \"0\" los valores nulos ya que representan ningún pedido anterior.**"
   ]
  },
  {
   "cell_type": "markdown",
   "id": "69dc9ca4",
   "metadata": {
    "id": "69dc9ca4"
   },
   "source": [
    "### `order_products` data frame"
   ]
  },
  {
   "cell_type": "code",
   "execution_count": 39,
   "id": "b8240253",
   "metadata": {
    "id": "b8240253"
   },
   "outputs": [
    {
     "data": {
      "text/plain": [
       "order_id               0\n",
       "product_id             0\n",
       "add_to_cart_order    836\n",
       "reordered              0\n",
       "dtype: int64"
      ]
     },
     "execution_count": 39,
     "metadata": {},
     "output_type": "execute_result"
    }
   ],
   "source": [
    "# Encuentra los valores ausentes\n",
    "order_products.isna().sum()"
   ]
  },
  {
   "cell_type": "code",
   "execution_count": 40,
   "id": "9a78e5ee",
   "metadata": {
    "id": "9a78e5ee"
   },
   "outputs": [
    {
     "name": "stdout",
     "output_type": "stream",
     "text": [
      "1.0\n",
      "64.0\n"
     ]
    }
   ],
   "source": [
    "# ¿Cuáles son los valores mínimos y máximos en esta columna?\n",
    "\n",
    "print(order_products['add_to_cart_order'].min())\n",
    "print(order_products['add_to_cart_order'].max())"
   ]
  },
  {
   "cell_type": "markdown",
   "id": "-Z2Ja215jW78",
   "metadata": {
    "id": "-Z2Ja215jW78"
   },
   "source": [
    "Describe brevemente cuáles son tus hallazgos.\n",
    "\n",
    "**El campo \"add_to_cart_order\" deja de después del pedido número 65.**"
   ]
  },
  {
   "cell_type": "code",
   "execution_count": 41,
   "id": "ab9d0c2b",
   "metadata": {
    "id": "ab9d0c2b"
   },
   "outputs": [
    {
     "data": {
      "text/html": [
       "<div>\n",
       "<style scoped>\n",
       "    .dataframe tbody tr th:only-of-type {\n",
       "        vertical-align: middle;\n",
       "    }\n",
       "\n",
       "    .dataframe tbody tr th {\n",
       "        vertical-align: top;\n",
       "    }\n",
       "\n",
       "    .dataframe thead th {\n",
       "        text-align: right;\n",
       "    }\n",
       "</style>\n",
       "<table border=\"1\" class=\"dataframe\">\n",
       "  <thead>\n",
       "    <tr style=\"text-align: right;\">\n",
       "      <th></th>\n",
       "      <th>order_id</th>\n",
       "      <th>product_id</th>\n",
       "      <th>add_to_cart_order</th>\n",
       "      <th>reordered</th>\n",
       "    </tr>\n",
       "  </thead>\n",
       "  <tbody>\n",
       "    <tr>\n",
       "      <th>737</th>\n",
       "      <td>2449164</td>\n",
       "      <td>5068</td>\n",
       "      <td>NaN</td>\n",
       "      <td>0</td>\n",
       "    </tr>\n",
       "    <tr>\n",
       "      <th>9926</th>\n",
       "      <td>1968313</td>\n",
       "      <td>43867</td>\n",
       "      <td>NaN</td>\n",
       "      <td>0</td>\n",
       "    </tr>\n",
       "    <tr>\n",
       "      <th>14394</th>\n",
       "      <td>2926893</td>\n",
       "      <td>11688</td>\n",
       "      <td>NaN</td>\n",
       "      <td>0</td>\n",
       "    </tr>\n",
       "    <tr>\n",
       "      <th>16418</th>\n",
       "      <td>1717990</td>\n",
       "      <td>4142</td>\n",
       "      <td>NaN</td>\n",
       "      <td>0</td>\n",
       "    </tr>\n",
       "    <tr>\n",
       "      <th>30114</th>\n",
       "      <td>1959075</td>\n",
       "      <td>42828</td>\n",
       "      <td>NaN</td>\n",
       "      <td>1</td>\n",
       "    </tr>\n",
       "    <tr>\n",
       "      <th>...</th>\n",
       "      <td>...</td>\n",
       "      <td>...</td>\n",
       "      <td>...</td>\n",
       "      <td>...</td>\n",
       "    </tr>\n",
       "    <tr>\n",
       "      <th>4505662</th>\n",
       "      <td>1800005</td>\n",
       "      <td>7411</td>\n",
       "      <td>NaN</td>\n",
       "      <td>0</td>\n",
       "    </tr>\n",
       "    <tr>\n",
       "      <th>4511400</th>\n",
       "      <td>1633337</td>\n",
       "      <td>260</td>\n",
       "      <td>NaN</td>\n",
       "      <td>0</td>\n",
       "    </tr>\n",
       "    <tr>\n",
       "      <th>4517562</th>\n",
       "      <td>404157</td>\n",
       "      <td>9517</td>\n",
       "      <td>NaN</td>\n",
       "      <td>0</td>\n",
       "    </tr>\n",
       "    <tr>\n",
       "      <th>4534112</th>\n",
       "      <td>1673227</td>\n",
       "      <td>17835</td>\n",
       "      <td>NaN</td>\n",
       "      <td>0</td>\n",
       "    </tr>\n",
       "    <tr>\n",
       "      <th>4535739</th>\n",
       "      <td>1832957</td>\n",
       "      <td>17949</td>\n",
       "      <td>NaN</td>\n",
       "      <td>1</td>\n",
       "    </tr>\n",
       "  </tbody>\n",
       "</table>\n",
       "<p>836 rows × 4 columns</p>\n",
       "</div>"
      ],
      "text/plain": [
       "         order_id  product_id  add_to_cart_order  reordered\n",
       "737       2449164        5068                NaN          0\n",
       "9926      1968313       43867                NaN          0\n",
       "14394     2926893       11688                NaN          0\n",
       "16418     1717990        4142                NaN          0\n",
       "30114     1959075       42828                NaN          1\n",
       "...           ...         ...                ...        ...\n",
       "4505662   1800005        7411                NaN          0\n",
       "4511400   1633337         260                NaN          0\n",
       "4517562    404157        9517                NaN          0\n",
       "4534112   1673227       17835                NaN          0\n",
       "4535739   1832957       17949                NaN          1\n",
       "\n",
       "[836 rows x 4 columns]"
      ]
     },
     "execution_count": 41,
     "metadata": {},
     "output_type": "execute_result"
    }
   ],
   "source": [
    "# Guarda todas las IDs de orders que tengan un valor ausente en 'add_to_cart_order'\n",
    "missing = order_products[order_products['add_to_cart_order'].isna()]\n",
    "missing"
   ]
  },
  {
   "cell_type": "code",
   "execution_count": 42,
   "id": "54c31695",
   "metadata": {
    "id": "54c31695"
   },
   "outputs": [],
   "source": [
    "# ¿Todos los orders con valores ausentes tienen más de 64 productos? \n",
    "\n",
    "#Si"
   ]
  },
  {
   "cell_type": "code",
   "execution_count": 43,
   "id": "1929b0f4",
   "metadata": {},
   "outputs": [
    {
     "data": {
      "text/html": [
       "<div>\n",
       "<style scoped>\n",
       "    .dataframe tbody tr th:only-of-type {\n",
       "        vertical-align: middle;\n",
       "    }\n",
       "\n",
       "    .dataframe tbody tr th {\n",
       "        vertical-align: top;\n",
       "    }\n",
       "\n",
       "    .dataframe thead th {\n",
       "        text-align: right;\n",
       "    }\n",
       "</style>\n",
       "<table border=\"1\" class=\"dataframe\">\n",
       "  <thead>\n",
       "    <tr style=\"text-align: right;\">\n",
       "      <th></th>\n",
       "      <th>order_id</th>\n",
       "      <th>product_id</th>\n",
       "      <th>add_to_cart_order</th>\n",
       "      <th>reordered</th>\n",
       "    </tr>\n",
       "  </thead>\n",
       "  <tbody>\n",
       "    <tr>\n",
       "      <th>2437093</th>\n",
       "      <td>9310</td>\n",
       "      <td>25753</td>\n",
       "      <td>NaN</td>\n",
       "      <td>0</td>\n",
       "    </tr>\n",
       "    <tr>\n",
       "      <th>3195573</th>\n",
       "      <td>61355</td>\n",
       "      <td>39972</td>\n",
       "      <td>NaN</td>\n",
       "      <td>0</td>\n",
       "    </tr>\n",
       "    <tr>\n",
       "      <th>3941595</th>\n",
       "      <td>61355</td>\n",
       "      <td>17807</td>\n",
       "      <td>NaN</td>\n",
       "      <td>0</td>\n",
       "    </tr>\n",
       "    <tr>\n",
       "      <th>2968806</th>\n",
       "      <td>61355</td>\n",
       "      <td>29660</td>\n",
       "      <td>NaN</td>\n",
       "      <td>0</td>\n",
       "    </tr>\n",
       "    <tr>\n",
       "      <th>3965219</th>\n",
       "      <td>61355</td>\n",
       "      <td>49325</td>\n",
       "      <td>NaN</td>\n",
       "      <td>0</td>\n",
       "    </tr>\n",
       "    <tr>\n",
       "      <th>...</th>\n",
       "      <td>...</td>\n",
       "      <td>...</td>\n",
       "      <td>...</td>\n",
       "      <td>...</td>\n",
       "    </tr>\n",
       "    <tr>\n",
       "      <th>3760909</th>\n",
       "      <td>3383594</td>\n",
       "      <td>63</td>\n",
       "      <td>NaN</td>\n",
       "      <td>0</td>\n",
       "    </tr>\n",
       "    <tr>\n",
       "      <th>3784932</th>\n",
       "      <td>3383594</td>\n",
       "      <td>49144</td>\n",
       "      <td>NaN</td>\n",
       "      <td>1</td>\n",
       "    </tr>\n",
       "    <tr>\n",
       "      <th>2772397</th>\n",
       "      <td>3383594</td>\n",
       "      <td>46710</td>\n",
       "      <td>NaN</td>\n",
       "      <td>0</td>\n",
       "    </tr>\n",
       "    <tr>\n",
       "      <th>1537276</th>\n",
       "      <td>3383594</td>\n",
       "      <td>15076</td>\n",
       "      <td>NaN</td>\n",
       "      <td>0</td>\n",
       "    </tr>\n",
       "    <tr>\n",
       "      <th>1038616</th>\n",
       "      <td>3383594</td>\n",
       "      <td>15424</td>\n",
       "      <td>NaN</td>\n",
       "      <td>1</td>\n",
       "    </tr>\n",
       "  </tbody>\n",
       "</table>\n",
       "<p>836 rows × 4 columns</p>\n",
       "</div>"
      ],
      "text/plain": [
       "         order_id  product_id  add_to_cart_order  reordered\n",
       "2437093      9310       25753                NaN          0\n",
       "3195573     61355       39972                NaN          0\n",
       "3941595     61355       17807                NaN          0\n",
       "2968806     61355       29660                NaN          0\n",
       "3965219     61355       49325                NaN          0\n",
       "...           ...         ...                ...        ...\n",
       "3760909   3383594          63                NaN          0\n",
       "3784932   3383594       49144                NaN          1\n",
       "2772397   3383594       46710                NaN          0\n",
       "1537276   3383594       15076                NaN          0\n",
       "1038616   3383594       15424                NaN          1\n",
       "\n",
       "[836 rows x 4 columns]"
      ]
     },
     "execution_count": 43,
     "metadata": {},
     "output_type": "execute_result"
    }
   ],
   "source": [
    "# Agrupa todos los orders con datos ausentes por su ID de pedido.\n",
    "missing_sort = missing.sort_values('order_id')\n",
    "missing_sort"
   ]
  },
  {
   "cell_type": "code",
   "execution_count": 44,
   "id": "47de9a9a",
   "metadata": {},
   "outputs": [],
   "source": [
    "# Cuenta el número de 'product_id' en cada pedido y revisa el valor mínimo del conteo.\n",
    "ordenes_con_ausentes = order_products[order_products['add_to_cart_order'].isna()]['order_id'].unique()"
   ]
  },
  {
   "cell_type": "code",
   "execution_count": 45,
   "id": "9ff88ac2",
   "metadata": {},
   "outputs": [
    {
     "data": {
      "text/plain": [
       "order_id\n",
       "9310        65\n",
       "747668      65\n",
       "1598369     65\n",
       "1677118     65\n",
       "2170451     65\n",
       "          ... \n",
       "1959075     98\n",
       "171934     104\n",
       "2136777    108\n",
       "3308010    115\n",
       "61355      127\n",
       "Name: product_id, Length: 70, dtype: int64"
      ]
     },
     "execution_count": 45,
     "metadata": {},
     "output_type": "execute_result"
    }
   ],
   "source": [
    "order_products[order_products ['order_id'].isin(ordenes_con_ausentes)].groupby('order_id')['product_id'].count().sort_values()"
   ]
  },
  {
   "cell_type": "code",
   "execution_count": 46,
   "id": "de254411",
   "metadata": {},
   "outputs": [
    {
     "data": {
      "text/html": [
       "<div>\n",
       "<style scoped>\n",
       "    .dataframe tbody tr th:only-of-type {\n",
       "        vertical-align: middle;\n",
       "    }\n",
       "\n",
       "    .dataframe tbody tr th {\n",
       "        vertical-align: top;\n",
       "    }\n",
       "\n",
       "    .dataframe thead th {\n",
       "        text-align: right;\n",
       "    }\n",
       "</style>\n",
       "<table border=\"1\" class=\"dataframe\">\n",
       "  <thead>\n",
       "    <tr style=\"text-align: right;\">\n",
       "      <th></th>\n",
       "      <th>order_id</th>\n",
       "      <th>product_id</th>\n",
       "      <th>add_to_cart_order</th>\n",
       "      <th>reordered</th>\n",
       "    </tr>\n",
       "  </thead>\n",
       "  <tbody>\n",
       "    <tr>\n",
       "      <th>1897958</th>\n",
       "      <td>9310</td>\n",
       "      <td>30059</td>\n",
       "      <td>56.0</td>\n",
       "      <td>0</td>\n",
       "    </tr>\n",
       "    <tr>\n",
       "      <th>3139404</th>\n",
       "      <td>9310</td>\n",
       "      <td>23282</td>\n",
       "      <td>57.0</td>\n",
       "      <td>0</td>\n",
       "    </tr>\n",
       "    <tr>\n",
       "      <th>2581604</th>\n",
       "      <td>9310</td>\n",
       "      <td>24456</td>\n",
       "      <td>58.0</td>\n",
       "      <td>0</td>\n",
       "    </tr>\n",
       "    <tr>\n",
       "      <th>3845409</th>\n",
       "      <td>9310</td>\n",
       "      <td>204</td>\n",
       "      <td>59.0</td>\n",
       "      <td>1</td>\n",
       "    </tr>\n",
       "    <tr>\n",
       "      <th>3857577</th>\n",
       "      <td>9310</td>\n",
       "      <td>21847</td>\n",
       "      <td>60.0</td>\n",
       "      <td>0</td>\n",
       "    </tr>\n",
       "    <tr>\n",
       "      <th>854075</th>\n",
       "      <td>9310</td>\n",
       "      <td>33290</td>\n",
       "      <td>61.0</td>\n",
       "      <td>0</td>\n",
       "    </tr>\n",
       "    <tr>\n",
       "      <th>3468473</th>\n",
       "      <td>9310</td>\n",
       "      <td>15455</td>\n",
       "      <td>62.0</td>\n",
       "      <td>0</td>\n",
       "    </tr>\n",
       "    <tr>\n",
       "      <th>1992474</th>\n",
       "      <td>9310</td>\n",
       "      <td>45002</td>\n",
       "      <td>63.0</td>\n",
       "      <td>0</td>\n",
       "    </tr>\n",
       "    <tr>\n",
       "      <th>4432234</th>\n",
       "      <td>9310</td>\n",
       "      <td>21332</td>\n",
       "      <td>64.0</td>\n",
       "      <td>0</td>\n",
       "    </tr>\n",
       "    <tr>\n",
       "      <th>2437093</th>\n",
       "      <td>9310</td>\n",
       "      <td>25753</td>\n",
       "      <td>NaN</td>\n",
       "      <td>0</td>\n",
       "    </tr>\n",
       "  </tbody>\n",
       "</table>\n",
       "</div>"
      ],
      "text/plain": [
       "         order_id  product_id  add_to_cart_order  reordered\n",
       "1897958      9310       30059               56.0          0\n",
       "3139404      9310       23282               57.0          0\n",
       "2581604      9310       24456               58.0          0\n",
       "3845409      9310         204               59.0          1\n",
       "3857577      9310       21847               60.0          0\n",
       "854075       9310       33290               61.0          0\n",
       "3468473      9310       15455               62.0          0\n",
       "1992474      9310       45002               63.0          0\n",
       "4432234      9310       21332               64.0          0\n",
       "2437093      9310       25753                NaN          0"
      ]
     },
     "execution_count": 46,
     "metadata": {},
     "output_type": "execute_result"
    }
   ],
   "source": [
    "order_products[order_products['order_id']==9310].sort_values('add_to_cart_order').iloc[55:,]"
   ]
  },
  {
   "cell_type": "markdown",
   "id": "p9V6pddtjglj",
   "metadata": {
    "id": "p9V6pddtjglj"
   },
   "source": [
    "Describe brevemente cuáles son tus hallazgos.\n",
    "\n",
    "**Como podemos observar todos los id de orders al llegar después del número 64 se marcan como 'NaN ya que la plataforma pierde el registro.**"
   ]
  },
  {
   "cell_type": "code",
   "execution_count": 47,
   "id": "7a987d08",
   "metadata": {
    "id": "7a987d08"
   },
   "outputs": [],
   "source": [
    "# Remplaza los valores ausentes en la columna 'add_to_cart? con 999 y convierte la columna al tipo entero.\n",
    "\n",
    "order_products['add_to_cart_order'] = order_products['add_to_cart_order'].fillna(999)\n"
   ]
  },
  {
   "cell_type": "markdown",
   "id": "fea4bcc7",
   "metadata": {
    "id": "fea4bcc7"
   },
   "source": [
    "Describe brevemente tus hallazgos y lo que hiciste con ellos.\n",
    "\n",
    "**Se asignó el valor 999 a aquellos registros que superan 64, dado que esta información no pudo ser recuperada y, en el contexto de un estudio de consumo, no es relevante analizar posiciones superiores a 64.**"
   ]
  },
  {
   "cell_type": "markdown",
   "id": "RnplPFY1gSrb",
   "metadata": {
    "id": "RnplPFY1gSrb"
   },
   "source": [
    "## Conclusiones\n",
    "\n",
    "Escribe aquí tus conclusiones intermedias sobre el Paso 2. Preprocesamiento de los datos\n",
    "\n",
    "**En el proceso de limpieza de datos, se eliminaron los valores duplicados y nulos, lo que permitió obtener dataframes depurados y listos para su análisis.**\n"
   ]
  },
  {
   "cell_type": "markdown",
   "id": "UjrOIwTcz3ri",
   "metadata": {
    "id": "UjrOIwTcz3ri"
   },
   "source": [
    "# Paso 3. Análisis de los datos\n",
    "\n",
    "Una vez los datos estén procesados y listos, haz el siguiente análisis:"
   ]
  },
  {
   "cell_type": "markdown",
   "id": "turkish-kidney",
   "metadata": {
    "id": "turkish-kidney"
   },
   "source": [
    "# [A] Fácil (deben completarse todos para aprobar)\n",
    "\n",
    "1. Verifica que los valores en las columnas `'order_hour_of_day'` y `'order_dow'` en la tabla orders sean razonables (es decir, `'order_hour_of_day'` oscile entre 0 y 23 y `'order_dow'` oscile entre 0 y 6).\n",
    "2. Crea un gráfico que muestre el número de personas que hacen pedidos dependiendo de la hora del día.\n",
    "3. Crea un gráfico que muestre qué día de la semana la gente hace sus compras.\n",
    "4. Crea un gráfico que muestre el tiempo que la gente espera hasta hacer su siguiente pedido, y comenta sobre los valores mínimos y máximos."
   ]
  },
  {
   "cell_type": "markdown",
   "id": "short-capability",
   "metadata": {
    "id": "short-capability"
   },
   "source": [
    "### [A1] Verifica que los valores sean sensibles"
   ]
  },
  {
   "cell_type": "code",
   "execution_count": 48,
   "id": "growing-fruit",
   "metadata": {
    "id": "growing-fruit"
   },
   "outputs": [],
   "source": [
    "#Verificación de valores en order_hour_of_day (0-23)\n",
    "valores_unicos_hora = orders['order_hour_of_day'].unique()\n",
    "valores_unicos_hora = sorted(valores_unicos_hora)"
   ]
  },
  {
   "cell_type": "code",
   "execution_count": 49,
   "id": "accessory-malaysia",
   "metadata": {
    "id": "accessory-malaysia"
   },
   "outputs": [
    {
     "data": {
      "text/plain": [
       "[0,\n",
       " 1,\n",
       " 2,\n",
       " 3,\n",
       " 4,\n",
       " 5,\n",
       " 6,\n",
       " 7,\n",
       " 8,\n",
       " 9,\n",
       " 10,\n",
       " 11,\n",
       " 12,\n",
       " 13,\n",
       " 14,\n",
       " 15,\n",
       " 16,\n",
       " 17,\n",
       " 18,\n",
       " 19,\n",
       " 20,\n",
       " 21,\n",
       " 22,\n",
       " 23]"
      ]
     },
     "execution_count": 49,
     "metadata": {},
     "output_type": "execute_result"
    }
   ],
   "source": [
    "#impresión de los valores únicos \n",
    "valores_unicos_hora"
   ]
  },
  {
   "cell_type": "code",
   "execution_count": 50,
   "id": "ae7c039e",
   "metadata": {},
   "outputs": [],
   "source": [
    "#Verificación de valores en order_dow (0-6)\n",
    "valores_unicos_dia = orders['order_dow'].unique()\n",
    "valores_unicos_dia_ordenados = sorted(valores_unicos_dia)"
   ]
  },
  {
   "cell_type": "code",
   "execution_count": 51,
   "id": "10694e74",
   "metadata": {},
   "outputs": [
    {
     "data": {
      "text/plain": [
       "[0, 1, 2, 3, 4, 5, 6]"
      ]
     },
     "execution_count": 51,
     "metadata": {},
     "output_type": "execute_result"
    }
   ],
   "source": [
    "#impresión de los valores únicos \n",
    "valores_unicos_dia_ordenados"
   ]
  },
  {
   "cell_type": "markdown",
   "id": "hmR2GNQ6lCsX",
   "metadata": {
    "id": "hmR2GNQ6lCsX"
   },
   "source": [
    "Escribe aquí tus conclusiones\n",
    "\n",
    "**Pudimos comprobar que las horas en nuestra tabla de ordenes se encuentra en un formato de 24 hrs, así como los días de la semana comienzan por el 0 siendo igual al lunes.**"
   ]
  },
  {
   "cell_type": "markdown",
   "id": "1f52508d",
   "metadata": {},
   "source": [
    "<div class=\"alert alert-block alert-success\">\n",
    "<b>Comentario del revisor (1ra Iteración)</b> <a class=“tocSkip”></a>\n",
    "    \n",
    "Excelente, has hecho una válidación de los datos, esto es muy importante para evitar posibles erroes que se puedan presentar más adelante.\n",
    "\n",
    "</div>"
   ]
  },
  {
   "cell_type": "markdown",
   "id": "a6743a70",
   "metadata": {
    "id": "a6743a70"
   },
   "source": [
    "### [A2] Para cada hora del día, ¿cuántas personas hacen órdenes?"
   ]
  },
  {
   "cell_type": "code",
   "execution_count": 52,
   "id": "1de48cd1",
   "metadata": {},
   "outputs": [
    {
     "data": {
      "image/png": "[encoded data removed]",
      "text/plain": [
       "<Figure size 800x400 with 1 Axes>"
      ]
     },
     "metadata": {},
     "output_type": "display_data"
    }
   ],
   "source": [
    "horas_del_dia = orders['order_hour_of_day'].value_counts().sort_index()\n",
    "\n",
    "horas_del_dia.plot(\n",
    "    \n",
    "    kind='bar',  # Cambiar a 'bar' para contar ocurrencias discretas\n",
    "    color='skyblue',\n",
    "    figsize=(8, 4),\n",
    "    title = 'Pedidos de acuerdo a horas',\n",
    "    xlabel = 'Horas',\n",
    "    ylabel = 'Pedidos',\n",
    "    grid = False\n",
    ")\n",
    "\n",
    "plt.show()"
   ]
  },
  {
   "cell_type": "markdown",
   "id": "11270eed",
   "metadata": {
    "id": "11270eed"
   },
   "source": [
    "Escribe aquí tus conclusiones\n",
    "\n",
    "**Las horas donde se reciben más pedidos es entre las 9am hasta las 5pm.**"
   ]
  },
  {
   "cell_type": "markdown",
   "id": "documented-command",
   "metadata": {
    "id": "documented-command"
   },
   "source": [
    "### [A3] ¿Qué día de la semana compran víveres las personas?"
   ]
  },
  {
   "cell_type": "code",
   "execution_count": 53,
   "id": "chief-digit",
   "metadata": {
    "id": "chief-digit"
   },
   "outputs": [
    {
     "data": {
      "image/png": "[encoded data removed]",
      "text/plain": [
       "<Figure size 640x480 with 1 Axes>"
      ]
     },
     "metadata": {},
     "output_type": "display_data"
    }
   ],
   "source": [
    "dias_de_la_semana = orders['order_dow'].value_counts().sort_index()\n",
    "\n",
    "dias_de_la_semana.plot(\n",
    "    kind = 'bar',\n",
    "    title = '¿Qué día de la semana tiene más ventas?',\n",
    "    xlabel = 'Días',\n",
    "    ylabel = 'Ocurrencia'\n",
    ")\n",
    "plt.show()"
   ]
  },
  {
   "cell_type": "markdown",
   "id": "dominant-lightning",
   "metadata": {
    "id": "dominant-lightning"
   },
   "source": [
    "Escribe aquí tus conclusiones\n",
    "\n",
    "**Los días donde hay más ventas son los domingos y los lunes**."
   ]
  },
  {
   "cell_type": "markdown",
   "id": "cutting-concert",
   "metadata": {
    "id": "cutting-concert"
   },
   "source": [
    "### [A4] ¿Cuánto tiempo esperan las personas hasta hacer otro pedido? Comenta sobre los valores mínimos y máximos."
   ]
  },
  {
   "cell_type": "code",
   "execution_count": 54,
   "id": "c231f523",
   "metadata": {
    "id": "c231f523"
   },
   "outputs": [
    {
     "data": {
      "image/png": "[encoded data removed]",
      "text/plain": [
       "<Figure size 640x480 with 1 Axes>"
      ]
     },
     "metadata": {},
     "output_type": "display_data"
    }
   ],
   "source": [
    "dias_para_ordenar = orders['days_since_prior_order'].value_counts().sort_index()\n",
    "\n",
    "dias_para_ordenar.plot(\n",
    "    kind = 'bar',\n",
    "    title = 'Cuánto tiempo la gente espera para volver a comprar?',\n",
    "    xlabel = 'Días en el mes',\n",
    "    ylabel = 'Ocurrencias'\n",
    ")\n",
    "\n",
    "plt.show()"
   ]
  },
  {
   "cell_type": "markdown",
   "id": "discrete-vertex",
   "metadata": {
    "id": "discrete-vertex"
   },
   "source": [
    "Escribe aquí tus conclusiones\n",
    "\n",
    "**Podemos destacar que contamos con 3 diferentes públicos:**\n",
    "\n",
    "**1. Aquellos que compran mensualmente.**\n",
    "\n",
    "**2. Aquellos que compran semanalmente.**\n",
    "\n",
    "**3. Aquellos que nunca han comprado antes.**"
   ]
  },
  {
   "cell_type": "markdown",
   "id": "tight-staff",
   "metadata": {
    "id": "tight-staff"
   },
   "source": [
    "# [B] Intermedio (deben completarse todos para aprobar)\n",
    "\n",
    "1. ¿Existe alguna diferencia entre las distribuciones `'order_hour_of_day'` de los miércoles y los sábados? Traza gráficos de barra de `'order_hour_of_day'` para ambos días en la misma figura y describe las diferencias que observes.\n",
    "2. Grafica la distribución para el número de órdenes que hacen los clientes (es decir, cuántos clientes hicieron solo 1 pedido, cuántos hicieron 2, cuántos 3, y así sucesivamente...).\n",
    "3. ¿Cuáles son los 20 principales productos que se piden con más frecuencia (muestra su identificación y nombre)?"
   ]
  },
  {
   "cell_type": "markdown",
   "id": "packed-classic",
   "metadata": {
    "id": "packed-classic"
   },
   "source": [
    "### [B1] Diferencia entre miércoles y sábados para  `'order_hour_of_day'`. Traza gráficos de barra para los dos días y describe las diferencias que veas."
   ]
  },
  {
   "cell_type": "code",
   "execution_count": 55,
   "id": "d89b8403",
   "metadata": {
    "id": "d89b8403"
   },
   "outputs": [],
   "source": [
    "miercoles = orders[orders['order_dow'] == 2]\n",
    "sabado = orders[orders['order_dow'] == 5]"
   ]
  },
  {
   "cell_type": "code",
   "execution_count": 56,
   "id": "94e54e8a",
   "metadata": {
    "id": "94e54e8a"
   },
   "outputs": [],
   "source": [
    "# Contar pedidos por hora del día\n",
    "conteo_miercoles = miercoles['order_hour_of_day'].value_counts().sort_index()\n",
    "conteo_sabado = sabado['order_hour_of_day'].value_counts().sort_index()"
   ]
  },
  {
   "cell_type": "code",
   "execution_count": 57,
   "id": "797c90a8",
   "metadata": {
    "id": "797c90a8"
   },
   "outputs": [],
   "source": [
    "# Crear un DataFrame para facilitar la comparación\n",
    "df_comparacion = pd.DataFrame({\n",
    "    'Miércoles': conteo_miercoles,\n",
    "    'Sábado': conteo_sabado\n",
    "}).fillna(0)  # Rellenar NaN con 0 para horas sin pedidos"
   ]
  },
  {
   "cell_type": "code",
   "execution_count": 58,
   "id": "35bcea30",
   "metadata": {
    "id": "35bcea30"
   },
   "outputs": [
    {
     "data": {
      "image/png": "[encoded data removed]",
      "text/plain": [
       "<Figure size 1200x600 with 1 Axes>"
      ]
     },
     "metadata": {},
     "output_type": "display_data"
    }
   ],
   "source": [
    "# Crear el gráfico de barras usando .plot()\n",
    "df_comparacion.plot(\n",
    "    kind='bar',\n",
    "    figsize=(12, 6),\n",
    "    color=['blue', 'orange'],\n",
    "    alpha=(0.7),\n",
    "    title = 'Pedidos de acuerdo a horas',\n",
    "    xlabel = 'horas',\n",
    "    ylabel = 'pedidos'\n",
    ")\n",
    "\n",
    "plt.show()"
   ]
  },
  {
   "cell_type": "markdown",
   "id": "charitable-congo",
   "metadata": {
    "id": "charitable-congo"
   },
   "source": [
    "Escribe aquí tus conclusiones\n",
    "\n",
    "**En su mayoría el miércoles tuvo mayores ventas en las horas pico (9am - 5pm).**"
   ]
  },
  {
   "cell_type": "markdown",
   "id": "e3891143",
   "metadata": {
    "id": "e3891143"
   },
   "source": [
    "### [B2] ¿Cuál es la distribución para el número de pedidos por cliente?"
   ]
  },
  {
   "cell_type": "code",
   "execution_count": 59,
   "id": "d8c26c23",
   "metadata": {
    "id": "d8c26c23"
   },
   "outputs": [],
   "source": [
    "conteo_pedidos = orders.groupby('user_id')['order_id'].count()"
   ]
  },
  {
   "cell_type": "code",
   "execution_count": 60,
   "id": "00e69a66",
   "metadata": {
    "id": "00e69a66"
   },
   "outputs": [],
   "source": [
    "# Contar cuántos clientes hicieron 1, 2, 3, ... pedidos\n",
    "conteo_clientes = conteo_pedidos.value_counts().sort_index()"
   ]
  },
  {
   "cell_type": "code",
   "execution_count": 77,
   "id": "2b4da758",
   "metadata": {},
   "outputs": [
    {
     "data": {
      "image/png": "[encoded data removed]",
      "text/plain": [
       "<Figure size 640x480 with 1 Axes>"
      ]
     },
     "metadata": {},
     "output_type": "display_data"
    }
   ],
   "source": [
    "# Crear el gráfico\n",
    "conteo_pedidos.plot(\n",
    "    \n",
    "    kind='hist',\n",
    "    edgecolor='black',\n",
    "    title = 'Distribución de pedidos por clientes',\n",
    "    xlabel = 'Pedidos',\n",
    "    ylabel = 'Frecuencia',\n",
    "    \n",
    "\n",
    ")\n",
    "\n",
    "plt.show()"
   ]
  },
  {
   "cell_type": "markdown",
   "id": "d2eff7d5",
   "metadata": {
    "id": "d2eff7d5"
   },
   "source": [
    "Escribe aquí tus conclusiones\n",
    "\n",
    "**La mayoría de las personas ordenan de 1 a 19 productos.**"
   ]
  },
  {
   "cell_type": "markdown",
   "id": "54a0319c",
   "metadata": {
    "id": "54a0319c"
   },
   "source": [
    "### [B3] ¿Cuáles son los 20 productos más populares (muestra su ID y nombre)?"
   ]
  },
  {
   "cell_type": "code",
   "execution_count": 62,
   "id": "exterior-arizona",
   "metadata": {
    "id": "exterior-arizona",
    "scrolled": true
   },
   "outputs": [],
   "source": [
    "fct_ordenes_productos = order_products.merge(products, on = 'product_id')"
   ]
  },
  {
   "cell_type": "code",
   "execution_count": 63,
   "id": "universal-facial",
   "metadata": {
    "id": "universal-facial"
   },
   "outputs": [],
   "source": [
    "best_products = fct_ordenes_productos.groupby(['product_id','product_name'])['order_id'].count().sort_values(ascending = False)"
   ]
  },
  {
   "cell_type": "code",
   "execution_count": 64,
   "id": "bbcdd20b",
   "metadata": {
    "id": "bbcdd20b"
   },
   "outputs": [],
   "source": [
    "best_products_20 = best_products.head(20)"
   ]
  },
  {
   "cell_type": "code",
   "execution_count": 65,
   "id": "a25384c8",
   "metadata": {},
   "outputs": [
    {
     "data": {
      "image/png": "[encoded data removed]",
      "text/plain": [
       "<Figure size 640x480 with 1 Axes>"
      ]
     },
     "metadata": {},
     "output_type": "display_data"
    }
   ],
   "source": [
    "best_products_20.plot(\n",
    "    kind = 'bar',\n",
    "    title = 'Top 20 productos más vendidos',\n",
    "    xlabel = 'producto',\n",
    "    ylabel = 'ventas'\n",
    ")\n",
    "\n",
    "plt.show()"
   ]
  },
  {
   "cell_type": "markdown",
   "id": "7df00f47",
   "metadata": {
    "id": "7df00f47"
   },
   "source": [
    "Escribe aquí tus conclusiones\n",
    "\n",
    "**Los 20 productos más vendidos en su mayoría son frutas y productos orgánicos.**"
   ]
  },
  {
   "cell_type": "markdown",
   "id": "gross-theme",
   "metadata": {
    "id": "gross-theme"
   },
   "source": [
    "# [C] Difícil (deben completarse todos para aprobar)\n",
    "\n",
    "1. ¿Cuántos artículos suelen comprar las personas en un pedido? ¿Cómo es la distribución?\n",
    "2. ¿Cuáles son los 20 principales artículos que vuelven a pedirse con mayor frecuencia (muestra sus nombres e IDs de los productos)?\n",
    "3. Para cada producto, ¿cuál es la tasa de repetición del pedido (número de repeticiones de pedido/total de pedidos?\n",
    "4. Para cada cliente, ¿qué proporción de los productos que pidió ya los había pedido? Calcula la tasa de repetición de pedido para cada usuario en lugar de para cada producto.\n",
    "5. ¿Cuáles son los 20 principales artículos que la gente pone primero en sus carritos (muestra las IDs de los productos, sus nombres, y el número de veces en que fueron el primer artículo en añadirse al carrito)?"
   ]
  },
  {
   "cell_type": "markdown",
   "id": "romantic-deposit",
   "metadata": {
    "id": "romantic-deposit"
   },
   "source": [
    "### [C1] ¿Cuántos artículos compran normalmente las personas en un pedido? ¿Cómo es la distribución?"
   ]
  },
  {
   "cell_type": "code",
   "execution_count": 66,
   "id": "virtual-punch",
   "metadata": {
    "id": "virtual-punch"
   },
   "outputs": [],
   "source": [
    "order_segment = order_products.groupby('order_id')['product_id'].count()"
   ]
  },
  {
   "cell_type": "code",
   "execution_count": 79,
   "id": "2138d4c0",
   "metadata": {},
   "outputs": [
    {
     "data": {
      "image/png": "[encoded data removed]",
      "text/plain": [
       "<Figure size 640x480 with 1 Axes>"
      ]
     },
     "metadata": {},
     "output_type": "display_data"
    }
   ],
   "source": [
    "order_segment.plot(\n",
    "    kind = 'hist',\n",
    "    title = 'Artículos comprados por pedido',\n",
    "    xlabel = 'Pedidos',\n",
    "    ylabel = 'Ocurrencias',\n",
    "    \n",
    ")\n",
    "\n",
    "plt.show()"
   ]
  },
  {
   "cell_type": "markdown",
   "id": "designed-mortality",
   "metadata": {
    "id": "designed-mortality"
   },
   "source": [
    "Escribe aquí tus conclusiones\n",
    "\n",
    "**La mayoría de nuestros pedidos se encuentran entre 1 y 25.** "
   ]
  },
  {
   "cell_type": "markdown",
   "id": "5e6b5537",
   "metadata": {
    "id": "5e6b5537"
   },
   "source": [
    "### [C2] ¿Cuáles son los 20 principales artículos que vuelven a pedirse con mayor frecuencia (muestra sus nombres e IDs de los productos)?"
   ]
  },
  {
   "cell_type": "code",
   "execution_count": 68,
   "id": "9374e55a",
   "metadata": {
    "id": "9374e55a"
   },
   "outputs": [],
   "source": [
    "Mejores_productos_reordenados =fct_ordenes_productos[fct_ordenes_productos['reordered']==1].groupby(['product_id','product_name'])['order_id'].count().sort_values(ascending = False)"
   ]
  },
  {
   "cell_type": "code",
   "execution_count": 69,
   "id": "f110efdf",
   "metadata": {},
   "outputs": [],
   "source": [
    "Mejores_20_productos_reordenados = Mejores_productos_reordenados.head(20)\n"
   ]
  },
  {
   "cell_type": "code",
   "execution_count": 70,
   "id": "possible-change",
   "metadata": {
    "id": "possible-change",
    "scrolled": false
   },
   "outputs": [
    {
     "data": {
      "image/png": "[encoded data removed]",
      "text/plain": [
       "<Figure size 640x480 with 1 Axes>"
      ]
     },
     "metadata": {},
     "output_type": "display_data"
    }
   ],
   "source": [
    "Mejores_20_productos_reordenados.plot(\n",
    "    kind='bar',\n",
    "    title = 'Mejores 20 productos reordenados',\n",
    "    ylabel = 'Ocurrencias',\n",
    "    xlabel = 'Productos')\n",
    "\n",
    "plt.show()"
   ]
  },
  {
   "cell_type": "markdown",
   "id": "80e70c74",
   "metadata": {
    "id": "80e70c74"
   },
   "source": [
    "Escribe aquí tus conclusiones\n",
    "\n",
    "**Los productos con mayor número de reordenamientos son en gran medida similares a los más vendidos. No obstante, observamos el primer cambio en el caso de la leche, que reemplaza al limón. Este último, aunque sigue siendo un producto de alta demanda, ha sido superado en reordenamientos por la leche**."
   ]
  },
  {
   "cell_type": "markdown",
   "id": "9d312b14",
   "metadata": {
    "id": "9d312b14"
   },
   "source": [
    "### [C3] Para cada producto, ¿cuál es la proporción de las veces que se pide y que se vuelve a pedir?"
   ]
  },
  {
   "cell_type": "code",
   "execution_count": 71,
   "id": "8ae9f4b1",
   "metadata": {
    "id": "8ae9f4b1"
   },
   "outputs": [
    {
     "data": {
      "text/plain": [
       "product_id  product_name                                                     \n",
       "1           Chocolate Sandwich Cookies                                           0.564286\n",
       "2           All-Seasons Salt                                                     0.000000\n",
       "3           Robust Golden Unsweetened Oolong Tea                                 0.738095\n",
       "4           Smart Ones Classic Favorites Mini Rigatoni With Vodka Cream Sauce    0.510204\n",
       "7           Pure Coconut Water With Orange                                       0.500000\n",
       "                                                                                   ...   \n",
       "49690       HIGH PERFORMANCE ENERGY DRINK                                        0.800000\n",
       "49691       ORIGINAL PANCAKE & WAFFLE MIX                                        0.430556\n",
       "49692       ORGANIC INSTANT OATMEAL LIGHT MAPLE BROWN SUGAR                      0.416667\n",
       "49693       SPRING WATER BODY WASH                                               0.440000\n",
       "49694       BURRITO- STEAK & CHEESE                                              0.333333\n",
       "Name: reordered, Length: 45573, dtype: float64"
      ]
     },
     "execution_count": 71,
     "metadata": {},
     "output_type": "execute_result"
    }
   ],
   "source": [
    "fct_ordenes_productos.groupby(['product_id','product_name'])['reordered'].mean()"
   ]
  },
  {
   "cell_type": "markdown",
   "id": "I10dEIAyldcO",
   "metadata": {
    "id": "I10dEIAyldcO"
   },
   "source": [
    "Escribe aquí tus conclusiones\n",
    "\n",
    "**Con estos datos, podemos identificar productos con alta demanda entre nuevos consumidores, así como aquellos que generan ingresos principalmente a través de reórdenes. Esta información es fundamental para diseñar estrategias de marketing focalizadas y efectivas.**"
   ]
  },
  {
   "cell_type": "markdown",
   "id": "subject-boxing",
   "metadata": {
    "id": "subject-boxing"
   },
   "source": [
    "### [C4] Para cada cliente, ¿qué proporción de sus productos ya los había pedido?"
   ]
  },
  {
   "cell_type": "code",
   "execution_count": 72,
   "id": "medical-couple",
   "metadata": {
    "id": "medical-couple",
    "scrolled": true
   },
   "outputs": [],
   "source": [
    "fct_ordenes_productos_user =fct_ordenes_productos.merge(orders, on = 'order_id')"
   ]
  },
  {
   "cell_type": "code",
   "execution_count": 73,
   "id": "8892e4b4",
   "metadata": {
    "id": "8892e4b4"
   },
   "outputs": [
    {
     "data": {
      "text/plain": [
       "user_id\n",
       "2         0.038462\n",
       "4         0.000000\n",
       "5         0.666667\n",
       "6         0.000000\n",
       "7         0.928571\n",
       "            ...   \n",
       "206203    0.222222\n",
       "206206    0.714286\n",
       "206207    0.891304\n",
       "206208    0.696000\n",
       "206209    0.320000\n",
       "Name: reordered, Length: 149626, dtype: float64"
      ]
     },
     "execution_count": 73,
     "metadata": {},
     "output_type": "execute_result"
    }
   ],
   "source": [
    "fct_ordenes_productos_user.groupby('user_id')['reordered'].mean()"
   ]
  },
  {
   "cell_type": "markdown",
   "id": "BgJSvXDsleXz",
   "metadata": {
    "id": "BgJSvXDsleXz"
   },
   "source": [
    "Escribe aquí tus conclusiones\n",
    "\n",
    "**El análisis de la tasa de reordenamiento nos permite cuantificar la fidelidad de nuestros clientes y personalizar nuestras estrategias. Al identificar los productos más recurrentes en sus compras, podemos ofrecer promociones y recomendaciones altamente relevantes.**"
   ]
  },
  {
   "cell_type": "markdown",
   "id": "92d35137",
   "metadata": {
    "id": "92d35137"
   },
   "source": [
    "### [C5] ¿Cuáles son los 20 principales artículos que las personas ponen primero en sus carritos?"
   ]
  },
  {
   "cell_type": "code",
   "execution_count": 74,
   "id": "08e41ec2",
   "metadata": {
    "id": "08e41ec2"
   },
   "outputs": [
    {
     "name": "stdout",
     "output_type": "stream",
     "text": [
      "product_id  product_name               \n",
      "24852       Banana                         15562\n",
      "13176       Bag of Organic Bananas         11026\n",
      "27845       Organic Whole Milk              4363\n",
      "21137       Organic Strawberries            3946\n",
      "47209       Organic Hass Avocado            3390\n",
      "21903       Organic Baby Spinach            3336\n",
      "47766       Organic Avocado                 3044\n",
      "19660       Spring Water                    2336\n",
      "16797       Strawberries                    2308\n",
      "27966       Organic Raspberries             2024\n",
      "44632       Sparkling Water Grapefruit      1914\n",
      "49235       Organic Half & Half             1797\n",
      "47626       Large Lemon                     1737\n",
      "196         Soda                            1733\n",
      "38689       Organic Reduced Fat Milk        1397\n",
      "26209       Limes                           1370\n",
      "12341       Hass Avocados                   1340\n",
      "5785        Organic Reduced Fat 2% Milk     1310\n",
      "27086       Half & Half                     1309\n",
      "43352       Raspberries                     1246\n",
      "Name: order_id, dtype: int64\n"
     ]
    }
   ],
   "source": [
    "# Filtrar para obtener solo el primer producto agregado al carrito por cada usuario\n",
    "primer_producto_por_usuario = fct_ordenes_productos[fct_ordenes_productos['add_to_cart_order'] == 1]\n",
    "\n",
    "# Contar cuántas veces fue agregado cada producto primero\n",
    "conteo_productos = primer_producto_por_usuario.groupby(['product_id', 'product_name'])['order_id'].count()\n",
    "\n",
    "# Ordenar por la frecuencia en orden descendente y mostrar los 20 principales productos\n",
    "top_20_productos = conteo_productos.sort_values(ascending=False).head(20)\n",
    "\n",
    "# Mostrar los resultados\n",
    "print(top_20_productos)\n"
   ]
  },
  {
   "cell_type": "markdown",
   "id": "28ce9872",
   "metadata": {
    "id": "28ce9872"
   },
   "source": [
    "Escribe aquí tus conclusiones\n",
    "\n",
    "**Podemos observar que los productos agregados en primer lugar al carrito, como el plátano, la leche, las fresas y el aguacate, también se encuentran entre los más vendidos. Esta información puede ser útil para que el retail optimice su inventario y ajuste el surtido de productos, asegurando que los artículos más demandados estén siempre disponibles.**"
   ]
  },
  {
   "cell_type": "markdown",
   "id": "568bbf68",
   "metadata": {},
   "source": [
    "----"
   ]
  },
  {
   "cell_type": "markdown",
   "id": "uITbFCEoDosC",
   "metadata": {
    "id": "uITbFCEoDosC"
   },
   "source": [
    "### Conclusion general del proyecto:"
   ]
  },
  {
   "cell_type": "markdown",
   "id": "10768f56",
   "metadata": {
    "id": "Nk-4GS7mDwqY"
   },
   "source": [
    "**En este proyecto, analizamos las ventas de un retail, realizando cruces de información para obtener una mayor granularidad en los datos. A lo largo del análisis, identificamos que los productos más vendidos incluyen el plátano, las espinacas, el aguacate, la leche y el limón. Además, resaltamos la importancia de evaluar los pedidos según el horario en que se realizan, la cantidad de productos por orden y la proporción de reordenamientos. Estos insights son clave para desarrollar estrategias efectivas de marketing y logística, optimizando la cadena de suministro y asegurando que los productos preferidos por los clientes estén siempre disponibles, con promociones personalizadas que no encontrarían en otra tienda, aprovechando el conocimiento de sus preferencias.**"
   ]
  },
  {
   "cell_type": "markdown",
   "id": "732de931",
   "metadata": {},
   "source": [
    "------"
   ]
  }
 ],
 "metadata": {
  "ExecuteTimeLog": [
   {
    "duration": 2,
    "start_time": "2024-10-14T16:04:57.188Z"
   },
   {
    "duration": 59,
    "start_time": "2024-10-14T16:05:17.582Z"
   },
   {
    "duration": 59,
    "start_time": "2024-10-14T16:06:03.851Z"
   },
   {
    "duration": 59,
    "start_time": "2024-10-14T16:08:13.795Z"
   },
   {
    "duration": 5,
    "start_time": "2024-10-14T17:05:04.953Z"
   },
   {
    "duration": 205,
    "start_time": "2024-10-14T17:05:23.281Z"
   },
   {
    "duration": 136,
    "start_time": "2024-10-14T17:05:27.059Z"
   },
   {
    "duration": 182,
    "start_time": "2024-10-14T17:05:44.698Z"
   },
   {
    "duration": 156,
    "start_time": "2024-10-16T00:47:06.801Z"
   },
   {
    "duration": 288,
    "start_time": "2024-10-16T00:47:17.241Z"
   },
   {
    "duration": 53,
    "start_time": "2024-10-16T00:47:21.192Z"
   },
   {
    "duration": 8,
    "start_time": "2024-10-16T00:48:02.219Z"
   },
   {
    "duration": 145,
    "start_time": "2024-10-16T00:48:18.208Z"
   },
   {
    "duration": 126,
    "start_time": "2024-10-16T00:48:34.611Z"
   },
   {
    "duration": 121,
    "start_time": "2024-10-16T00:48:41.661Z"
   },
   {
    "duration": 33,
    "start_time": "2024-10-16T00:48:44.788Z"
   },
   {
    "duration": 38,
    "start_time": "2024-10-16T00:49:09.407Z"
   },
   {
    "duration": 7,
    "start_time": "2024-10-16T00:49:16.669Z"
   },
   {
    "duration": 12,
    "start_time": "2024-10-16T00:49:32.494Z"
   },
   {
    "duration": 11,
    "start_time": "2024-10-16T00:53:26.765Z"
   },
   {
    "duration": 5,
    "start_time": "2024-10-16T00:53:45.551Z"
   },
   {
    "duration": 9,
    "start_time": "2024-10-16T00:53:55.587Z"
   },
   {
    "duration": 11,
    "start_time": "2024-10-16T00:54:22.630Z"
   },
   {
    "duration": 3,
    "start_time": "2024-10-16T00:55:50.397Z"
   },
   {
    "duration": 3,
    "start_time": "2024-10-16T00:56:07.926Z"
   },
   {
    "duration": 802,
    "start_time": "2024-10-16T00:56:39.360Z"
   },
   {
    "duration": 160,
    "start_time": "2024-10-17T23:47:08.028Z"
   },
   {
    "duration": 11,
    "start_time": "2024-10-17T23:47:13.538Z"
   },
   {
    "duration": 14,
    "start_time": "2024-10-17T23:47:23.719Z"
   },
   {
    "duration": 310,
    "start_time": "2024-10-17T23:47:42.939Z"
   },
   {
    "duration": 155,
    "start_time": "2024-10-17T23:47:43.252Z"
   },
   {
    "duration": 60,
    "start_time": "2024-10-17T23:47:43.409Z"
   },
   {
    "duration": 11,
    "start_time": "2024-10-17T23:47:43.471Z"
   },
   {
    "duration": 10,
    "start_time": "2024-10-17T23:47:43.485Z"
   },
   {
    "duration": 829,
    "start_time": "2024-10-17T23:47:43.496Z"
   },
   {
    "duration": 2,
    "start_time": "2024-10-17T23:47:44.327Z"
   },
   {
    "duration": 183,
    "start_time": "2024-10-17T23:47:44.343Z"
   },
   {
    "duration": 0,
    "start_time": "2024-10-17T23:47:44.529Z"
   },
   {
    "duration": 0,
    "start_time": "2024-10-17T23:47:44.530Z"
   },
   {
    "duration": 0,
    "start_time": "2024-10-17T23:47:44.531Z"
   },
   {
    "duration": 0,
    "start_time": "2024-10-17T23:47:44.543Z"
   },
   {
    "duration": 0,
    "start_time": "2024-10-17T23:47:44.545Z"
   },
   {
    "duration": 0,
    "start_time": "2024-10-17T23:47:44.547Z"
   },
   {
    "duration": 0,
    "start_time": "2024-10-17T23:47:44.548Z"
   },
   {
    "duration": 0,
    "start_time": "2024-10-17T23:47:44.550Z"
   },
   {
    "duration": 0,
    "start_time": "2024-10-17T23:47:44.551Z"
   },
   {
    "duration": 0,
    "start_time": "2024-10-17T23:47:44.553Z"
   },
   {
    "duration": 0,
    "start_time": "2024-10-17T23:47:44.554Z"
   },
   {
    "duration": 0,
    "start_time": "2024-10-17T23:47:44.556Z"
   },
   {
    "duration": 0,
    "start_time": "2024-10-17T23:47:44.557Z"
   },
   {
    "duration": 0,
    "start_time": "2024-10-17T23:47:44.559Z"
   },
   {
    "duration": 0,
    "start_time": "2024-10-17T23:47:44.560Z"
   },
   {
    "duration": 0,
    "start_time": "2024-10-17T23:47:44.562Z"
   },
   {
    "duration": 0,
    "start_time": "2024-10-17T23:47:44.563Z"
   },
   {
    "duration": 0,
    "start_time": "2024-10-17T23:47:44.564Z"
   },
   {
    "duration": 0,
    "start_time": "2024-10-17T23:47:44.565Z"
   },
   {
    "duration": 0,
    "start_time": "2024-10-17T23:47:44.566Z"
   },
   {
    "duration": 0,
    "start_time": "2024-10-17T23:47:44.568Z"
   },
   {
    "duration": 0,
    "start_time": "2024-10-17T23:47:44.569Z"
   },
   {
    "duration": 0,
    "start_time": "2024-10-17T23:47:44.573Z"
   },
   {
    "duration": 0,
    "start_time": "2024-10-17T23:47:44.574Z"
   },
   {
    "duration": 0,
    "start_time": "2024-10-17T23:47:44.576Z"
   },
   {
    "duration": 0,
    "start_time": "2024-10-17T23:47:44.578Z"
   },
   {
    "duration": 0,
    "start_time": "2024-10-17T23:47:44.579Z"
   },
   {
    "duration": 0,
    "start_time": "2024-10-17T23:47:44.581Z"
   },
   {
    "duration": 0,
    "start_time": "2024-10-17T23:47:44.583Z"
   },
   {
    "duration": 2,
    "start_time": "2024-10-17T23:47:58.120Z"
   },
   {
    "duration": 335,
    "start_time": "2024-10-17T23:48:12.762Z"
   },
   {
    "duration": 135,
    "start_time": "2024-10-17T23:48:13.100Z"
   },
   {
    "duration": 47,
    "start_time": "2024-10-17T23:48:13.237Z"
   },
   {
    "duration": 9,
    "start_time": "2024-10-17T23:48:13.286Z"
   },
   {
    "duration": 9,
    "start_time": "2024-10-17T23:48:13.298Z"
   },
   {
    "duration": 735,
    "start_time": "2024-10-17T23:48:13.308Z"
   },
   {
    "duration": 2,
    "start_time": "2024-10-17T23:48:14.045Z"
   },
   {
    "duration": 189,
    "start_time": "2024-10-17T23:48:14.049Z"
   },
   {
    "duration": 0,
    "start_time": "2024-10-17T23:48:14.241Z"
   },
   {
    "duration": 0,
    "start_time": "2024-10-17T23:48:14.243Z"
   },
   {
    "duration": 0,
    "start_time": "2024-10-17T23:48:14.244Z"
   },
   {
    "duration": 0,
    "start_time": "2024-10-17T23:48:14.245Z"
   },
   {
    "duration": 0,
    "start_time": "2024-10-17T23:48:14.246Z"
   },
   {
    "duration": 0,
    "start_time": "2024-10-17T23:48:14.248Z"
   },
   {
    "duration": 0,
    "start_time": "2024-10-17T23:48:14.249Z"
   },
   {
    "duration": 0,
    "start_time": "2024-10-17T23:48:14.250Z"
   },
   {
    "duration": 0,
    "start_time": "2024-10-17T23:48:14.251Z"
   },
   {
    "duration": 0,
    "start_time": "2024-10-17T23:48:14.252Z"
   },
   {
    "duration": 0,
    "start_time": "2024-10-17T23:48:14.253Z"
   },
   {
    "duration": 0,
    "start_time": "2024-10-17T23:48:14.254Z"
   },
   {
    "duration": 0,
    "start_time": "2024-10-17T23:48:14.256Z"
   },
   {
    "duration": 0,
    "start_time": "2024-10-17T23:48:14.256Z"
   },
   {
    "duration": 0,
    "start_time": "2024-10-17T23:48:14.258Z"
   },
   {
    "duration": 0,
    "start_time": "2024-10-17T23:48:14.259Z"
   },
   {
    "duration": 0,
    "start_time": "2024-10-17T23:48:14.260Z"
   },
   {
    "duration": 0,
    "start_time": "2024-10-17T23:48:14.262Z"
   },
   {
    "duration": 0,
    "start_time": "2024-10-17T23:48:14.264Z"
   },
   {
    "duration": 0,
    "start_time": "2024-10-17T23:48:14.265Z"
   },
   {
    "duration": 0,
    "start_time": "2024-10-17T23:48:14.265Z"
   },
   {
    "duration": 0,
    "start_time": "2024-10-17T23:48:14.267Z"
   },
   {
    "duration": 0,
    "start_time": "2024-10-17T23:48:14.268Z"
   },
   {
    "duration": 0,
    "start_time": "2024-10-17T23:48:14.270Z"
   },
   {
    "duration": 0,
    "start_time": "2024-10-17T23:48:14.271Z"
   },
   {
    "duration": 0,
    "start_time": "2024-10-17T23:48:14.272Z"
   },
   {
    "duration": 0,
    "start_time": "2024-10-17T23:48:14.273Z"
   },
   {
    "duration": 0,
    "start_time": "2024-10-17T23:48:14.274Z"
   },
   {
    "duration": 0,
    "start_time": "2024-10-17T23:48:14.275Z"
   },
   {
    "duration": 7,
    "start_time": "2024-10-17T23:48:25.793Z"
   },
   {
    "duration": 10,
    "start_time": "2024-10-17T23:48:29.118Z"
   },
   {
    "duration": 5,
    "start_time": "2024-10-17T23:50:00.664Z"
   },
   {
    "duration": 6,
    "start_time": "2024-10-17T23:50:18.849Z"
   },
   {
    "duration": 5,
    "start_time": "2024-10-17T23:52:38.478Z"
   },
   {
    "duration": 5,
    "start_time": "2024-10-17T23:52:42.707Z"
   },
   {
    "duration": 4,
    "start_time": "2024-10-17T23:52:54.543Z"
   },
   {
    "duration": 4,
    "start_time": "2024-10-17T23:53:11.716Z"
   },
   {
    "duration": 5,
    "start_time": "2024-10-17T23:53:30.204Z"
   },
   {
    "duration": 6,
    "start_time": "2024-10-17T23:56:10.222Z"
   },
   {
    "duration": 5,
    "start_time": "2024-10-17T23:56:17.088Z"
   },
   {
    "duration": 5,
    "start_time": "2024-10-17T23:56:24.199Z"
   },
   {
    "duration": 5,
    "start_time": "2024-10-17T23:56:37.861Z"
   },
   {
    "duration": 5,
    "start_time": "2024-10-17T23:57:55.167Z"
   },
   {
    "duration": 123,
    "start_time": "2024-10-18T00:02:36.231Z"
   },
   {
    "duration": 40,
    "start_time": "2024-10-18T00:02:43.424Z"
   },
   {
    "duration": 10,
    "start_time": "2024-10-18T00:02:48.234Z"
   },
   {
    "duration": 9,
    "start_time": "2024-10-18T00:02:58.580Z"
   },
   {
    "duration": 719,
    "start_time": "2024-10-18T00:03:06.643Z"
   },
   {
    "duration": 13,
    "start_time": "2024-10-18T00:55:16.059Z"
   },
   {
    "duration": 10,
    "start_time": "2024-10-18T00:55:39.493Z"
   },
   {
    "duration": 7,
    "start_time": "2024-10-18T00:55:42.719Z"
   },
   {
    "duration": 13,
    "start_time": "2024-10-18T00:55:46.413Z"
   },
   {
    "duration": 2,
    "start_time": "2024-10-18T00:56:14.207Z"
   },
   {
    "duration": 239,
    "start_time": "2024-10-18T00:56:23.965Z"
   },
   {
    "duration": 7,
    "start_time": "2024-10-18T00:56:59.125Z"
   },
   {
    "duration": 7,
    "start_time": "2024-10-18T00:58:31.835Z"
   },
   {
    "duration": 7,
    "start_time": "2024-10-18T01:00:44.114Z"
   },
   {
    "duration": 212,
    "start_time": "2024-10-18T01:03:32.522Z"
   },
   {
    "duration": 6,
    "start_time": "2024-10-18T01:03:46.280Z"
   },
   {
    "duration": 14,
    "start_time": "2024-10-18T01:03:57.747Z"
   },
   {
    "duration": 9,
    "start_time": "2024-10-18T01:04:02.657Z"
   },
   {
    "duration": 5,
    "start_time": "2024-10-18T01:07:39.818Z"
   },
   {
    "duration": 5,
    "start_time": "2024-10-18T01:09:29.955Z"
   },
   {
    "duration": 18,
    "start_time": "2024-10-18T01:10:41.581Z"
   },
   {
    "duration": 13,
    "start_time": "2024-10-18T02:01:57.246Z"
   },
   {
    "duration": 6,
    "start_time": "2024-10-18T02:02:19.339Z"
   },
   {
    "duration": 4,
    "start_time": "2024-10-18T02:02:25.005Z"
   },
   {
    "duration": 4,
    "start_time": "2024-10-18T02:02:39.291Z"
   },
   {
    "duration": 962,
    "start_time": "2024-10-18T02:02:49.526Z"
   },
   {
    "duration": 7,
    "start_time": "2024-10-18T02:03:21.105Z"
   },
   {
    "duration": 8,
    "start_time": "2024-10-18T02:03:25.245Z"
   },
   {
    "duration": 10,
    "start_time": "2024-10-18T02:03:28.035Z"
   },
   {
    "duration": 4,
    "start_time": "2024-10-18T02:03:44.042Z"
   },
   {
    "duration": 5,
    "start_time": "2024-10-18T02:03:47.920Z"
   },
   {
    "duration": 4,
    "start_time": "2024-10-18T02:03:57.081Z"
   },
   {
    "duration": 6,
    "start_time": "2024-10-18T02:06:38.774Z"
   },
   {
    "duration": 9,
    "start_time": "2024-10-18T02:06:40.510Z"
   },
   {
    "duration": 6,
    "start_time": "2024-10-18T02:07:09.838Z"
   },
   {
    "duration": 5,
    "start_time": "2024-10-18T02:07:12.450Z"
   },
   {
    "duration": 6,
    "start_time": "2024-10-18T02:07:21.857Z"
   },
   {
    "duration": 4,
    "start_time": "2024-10-18T02:07:23.973Z"
   },
   {
    "duration": 3,
    "start_time": "2024-10-18T02:08:19.550Z"
   },
   {
    "duration": 5,
    "start_time": "2024-10-18T02:09:28.494Z"
   },
   {
    "duration": 4,
    "start_time": "2024-10-18T02:09:43.495Z"
   },
   {
    "duration": 63,
    "start_time": "2024-10-18T02:09:55.858Z"
   },
   {
    "duration": 22,
    "start_time": "2024-10-18T02:12:51.194Z"
   },
   {
    "duration": 17,
    "start_time": "2024-10-18T02:13:04.218Z"
   },
   {
    "duration": 15,
    "start_time": "2024-10-18T02:13:42.225Z"
   },
   {
    "duration": 9,
    "start_time": "2024-10-18T02:13:59.517Z"
   },
   {
    "duration": 8,
    "start_time": "2024-10-18T02:14:05.811Z"
   },
   {
    "duration": 9,
    "start_time": "2024-10-18T02:14:12.741Z"
   },
   {
    "duration": 11,
    "start_time": "2024-10-18T02:14:22.932Z"
   },
   {
    "duration": 10,
    "start_time": "2024-10-18T02:17:58.325Z"
   },
   {
    "duration": 10,
    "start_time": "2024-10-18T02:18:07.620Z"
   },
   {
    "duration": 11,
    "start_time": "2024-10-18T02:19:26.118Z"
   },
   {
    "duration": 64,
    "start_time": "2024-10-18T02:20:24.347Z"
   },
   {
    "duration": 63,
    "start_time": "2024-10-18T02:20:33.768Z"
   },
   {
    "duration": 64,
    "start_time": "2024-10-18T02:20:58.497Z"
   },
   {
    "duration": 65,
    "start_time": "2024-10-18T02:22:39.800Z"
   },
   {
    "duration": 64,
    "start_time": "2024-10-18T02:22:53.117Z"
   },
   {
    "duration": 42,
    "start_time": "2024-10-18T02:31:25.592Z"
   },
   {
    "duration": 715,
    "start_time": "2024-10-18T02:32:00.943Z"
   },
   {
    "duration": 112,
    "start_time": "2024-10-18T02:32:33.173Z"
   },
   {
    "duration": 27,
    "start_time": "2024-10-18T02:33:16.691Z"
   },
   {
    "duration": 25,
    "start_time": "2024-10-18T02:33:38.412Z"
   },
   {
    "duration": 234,
    "start_time": "2024-10-18T03:47:46.109Z"
   },
   {
    "duration": 308,
    "start_time": "2024-10-18T03:48:04.882Z"
   },
   {
    "duration": 199,
    "start_time": "2024-10-18T03:48:05.192Z"
   },
   {
    "duration": 73,
    "start_time": "2024-10-18T03:48:05.393Z"
   },
   {
    "duration": 13,
    "start_time": "2024-10-18T03:48:05.469Z"
   },
   {
    "duration": 13,
    "start_time": "2024-10-18T03:48:05.486Z"
   },
   {
    "duration": 921,
    "start_time": "2024-10-18T03:48:05.503Z"
   },
   {
    "duration": 5,
    "start_time": "2024-10-18T03:48:06.426Z"
   },
   {
    "duration": 5,
    "start_time": "2024-10-18T03:48:06.433Z"
   },
   {
    "duration": 4,
    "start_time": "2024-10-18T03:48:06.439Z"
   },
   {
    "duration": 4,
    "start_time": "2024-10-18T03:48:06.448Z"
   },
   {
    "duration": 4,
    "start_time": "2024-10-18T03:48:06.454Z"
   },
   {
    "duration": 7,
    "start_time": "2024-10-18T03:48:06.460Z"
   },
   {
    "duration": 7,
    "start_time": "2024-10-18T03:48:06.469Z"
   },
   {
    "duration": 9,
    "start_time": "2024-10-18T03:48:06.477Z"
   },
   {
    "duration": 47,
    "start_time": "2024-10-18T03:48:06.492Z"
   },
   {
    "duration": 7,
    "start_time": "2024-10-18T03:48:06.541Z"
   },
   {
    "duration": 26,
    "start_time": "2024-10-18T03:48:06.549Z"
   },
   {
    "duration": 6,
    "start_time": "2024-10-18T03:48:06.577Z"
   },
   {
    "duration": 13,
    "start_time": "2024-10-18T03:48:06.585Z"
   },
   {
    "duration": 84,
    "start_time": "2024-10-18T03:48:06.599Z"
   },
   {
    "duration": 13,
    "start_time": "2024-10-18T03:48:06.685Z"
   },
   {
    "duration": 76,
    "start_time": "2024-10-18T03:48:06.701Z"
   },
   {
    "duration": 35,
    "start_time": "2024-10-18T03:48:06.779Z"
   },
   {
    "duration": 217,
    "start_time": "2024-10-18T03:48:06.817Z"
   },
   {
    "duration": 0,
    "start_time": "2024-10-18T03:48:07.037Z"
   },
   {
    "duration": 0,
    "start_time": "2024-10-18T03:48:07.038Z"
   },
   {
    "duration": 0,
    "start_time": "2024-10-18T03:48:07.039Z"
   },
   {
    "duration": 0,
    "start_time": "2024-10-18T03:48:07.041Z"
   },
   {
    "duration": 0,
    "start_time": "2024-10-18T03:48:07.042Z"
   },
   {
    "duration": 0,
    "start_time": "2024-10-18T03:48:07.043Z"
   },
   {
    "duration": 0,
    "start_time": "2024-10-18T03:48:07.044Z"
   },
   {
    "duration": 0,
    "start_time": "2024-10-18T03:48:07.045Z"
   },
   {
    "duration": 0,
    "start_time": "2024-10-18T03:48:07.047Z"
   },
   {
    "duration": 0,
    "start_time": "2024-10-18T03:48:07.047Z"
   },
   {
    "duration": 0,
    "start_time": "2024-10-18T03:48:07.048Z"
   },
   {
    "duration": 0,
    "start_time": "2024-10-18T03:48:07.050Z"
   },
   {
    "duration": 0,
    "start_time": "2024-10-18T03:48:07.051Z"
   },
   {
    "duration": 0,
    "start_time": "2024-10-18T03:48:07.052Z"
   },
   {
    "duration": 0,
    "start_time": "2024-10-18T03:48:07.054Z"
   },
   {
    "duration": 0,
    "start_time": "2024-10-18T03:48:07.055Z"
   },
   {
    "duration": 0,
    "start_time": "2024-10-18T03:48:07.056Z"
   },
   {
    "duration": 0,
    "start_time": "2024-10-18T03:48:07.056Z"
   },
   {
    "duration": 0,
    "start_time": "2024-10-18T03:48:07.057Z"
   },
   {
    "duration": 0,
    "start_time": "2024-10-18T03:48:07.059Z"
   },
   {
    "duration": 0,
    "start_time": "2024-10-18T03:48:07.060Z"
   },
   {
    "duration": 0,
    "start_time": "2024-10-18T03:48:07.061Z"
   },
   {
    "duration": 0,
    "start_time": "2024-10-18T03:48:07.062Z"
   },
   {
    "duration": 0,
    "start_time": "2024-10-18T03:48:07.063Z"
   },
   {
    "duration": 0,
    "start_time": "2024-10-18T03:48:07.065Z"
   },
   {
    "duration": 0,
    "start_time": "2024-10-18T03:48:07.067Z"
   },
   {
    "duration": 16,
    "start_time": "2024-10-18T03:48:16.550Z"
   },
   {
    "duration": 13,
    "start_time": "2024-10-18T03:48:23.694Z"
   },
   {
    "duration": 122,
    "start_time": "2024-10-18T03:48:35.437Z"
   },
   {
    "duration": 86,
    "start_time": "2024-10-18T03:48:45.897Z"
   },
   {
    "duration": 104,
    "start_time": "2024-10-18T03:49:29.499Z"
   },
   {
    "duration": 109,
    "start_time": "2024-10-18T03:49:53.908Z"
   },
   {
    "duration": 85,
    "start_time": "2024-10-18T03:50:41.829Z"
   },
   {
    "duration": 168,
    "start_time": "2024-10-18T03:51:10.668Z"
   },
   {
    "duration": 6,
    "start_time": "2024-10-18T03:53:47.203Z"
   },
   {
    "duration": 12,
    "start_time": "2024-10-18T03:53:57.748Z"
   },
   {
    "duration": 112,
    "start_time": "2024-10-18T03:56:20.434Z"
   },
   {
    "duration": 128,
    "start_time": "2024-10-18T03:58:27.498Z"
   },
   {
    "duration": 104,
    "start_time": "2024-10-18T04:11:36.442Z"
   },
   {
    "duration": 14,
    "start_time": "2024-10-18T04:11:56.098Z"
   },
   {
    "duration": 13,
    "start_time": "2024-10-18T04:16:46.463Z"
   },
   {
    "duration": 12,
    "start_time": "2024-10-18T04:17:15.332Z"
   },
   {
    "duration": 13,
    "start_time": "2024-10-18T04:18:05.024Z"
   },
   {
    "duration": 11,
    "start_time": "2024-10-18T04:18:44.810Z"
   },
   {
    "duration": 14,
    "start_time": "2024-10-18T04:18:48.005Z"
   },
   {
    "duration": 12,
    "start_time": "2024-10-18T04:19:05.188Z"
   },
   {
    "duration": 4,
    "start_time": "2024-10-18T04:19:52.332Z"
   },
   {
    "duration": 3,
    "start_time": "2024-10-18T04:19:55.998Z"
   },
   {
    "duration": 120,
    "start_time": "2024-10-18T04:20:08.736Z"
   },
   {
    "duration": 81,
    "start_time": "2024-10-18T04:20:21.849Z"
   },
   {
    "duration": 91,
    "start_time": "2024-10-18T04:20:45.454Z"
   },
   {
    "duration": 73,
    "start_time": "2024-10-18T04:20:58.533Z"
   },
   {
    "duration": 123,
    "start_time": "2024-10-18T04:30:18.892Z"
   },
   {
    "duration": 119,
    "start_time": "2024-10-18T04:30:36.645Z"
   },
   {
    "duration": 4,
    "start_time": "2024-10-18T04:30:49.018Z"
   },
   {
    "duration": 5,
    "start_time": "2024-10-18T04:31:00.092Z"
   },
   {
    "duration": 7,
    "start_time": "2024-10-18T04:31:10.856Z"
   },
   {
    "duration": 77,
    "start_time": "2024-10-18T04:31:21.038Z"
   },
   {
    "duration": 76,
    "start_time": "2024-10-18T04:31:33.533Z"
   },
   {
    "duration": 10,
    "start_time": "2024-10-18T04:31:44.598Z"
   },
   {
    "duration": 14,
    "start_time": "2024-10-18T04:32:48.671Z"
   },
   {
    "duration": 8,
    "start_time": "2024-10-18T04:33:23.753Z"
   },
   {
    "duration": 10,
    "start_time": "2024-10-18T04:33:34.614Z"
   },
   {
    "duration": 106,
    "start_time": "2024-10-18T04:33:39.289Z"
   },
   {
    "duration": 11,
    "start_time": "2024-10-18T04:33:48.971Z"
   },
   {
    "duration": 9,
    "start_time": "2024-10-18T04:34:53.796Z"
   },
   {
    "duration": 40,
    "start_time": "2024-10-18T04:36:21.107Z"
   },
   {
    "duration": 38,
    "start_time": "2024-10-18T04:36:27.208Z"
   },
   {
    "duration": 38,
    "start_time": "2024-10-18T04:36:33.731Z"
   },
   {
    "duration": 87,
    "start_time": "2024-10-18T04:37:16.492Z"
   },
   {
    "duration": 75,
    "start_time": "2024-10-18T04:37:18.434Z"
   },
   {
    "duration": 36,
    "start_time": "2024-10-18T04:37:20.299Z"
   },
   {
    "duration": 13,
    "start_time": "2024-10-18T04:39:53.002Z"
   },
   {
    "duration": 10,
    "start_time": "2024-10-18T04:40:10.199Z"
   },
   {
    "duration": 5,
    "start_time": "2024-10-18T04:40:47.179Z"
   },
   {
    "duration": 9,
    "start_time": "2024-10-18T04:41:39.272Z"
   },
   {
    "duration": 12,
    "start_time": "2024-10-18T04:49:27.335Z"
   },
   {
    "duration": 14,
    "start_time": "2024-10-18T04:49:39.932Z"
   },
   {
    "duration": 15,
    "start_time": "2024-10-18T04:49:44.331Z"
   },
   {
    "duration": 11,
    "start_time": "2024-10-18T04:51:24.681Z"
   },
   {
    "duration": 163,
    "start_time": "2024-10-18T04:53:21.510Z"
   },
   {
    "duration": 341,
    "start_time": "2024-10-18T04:53:31.839Z"
   },
   {
    "duration": 149,
    "start_time": "2024-10-18T04:53:32.182Z"
   },
   {
    "duration": 61,
    "start_time": "2024-10-18T04:53:32.333Z"
   },
   {
    "duration": 12,
    "start_time": "2024-10-18T04:53:32.396Z"
   },
   {
    "duration": 10,
    "start_time": "2024-10-18T04:53:32.412Z"
   },
   {
    "duration": 833,
    "start_time": "2024-10-18T04:53:32.424Z"
   },
   {
    "duration": 5,
    "start_time": "2024-10-18T04:53:33.258Z"
   },
   {
    "duration": 5,
    "start_time": "2024-10-18T04:53:33.264Z"
   },
   {
    "duration": 5,
    "start_time": "2024-10-18T04:53:33.271Z"
   },
   {
    "duration": 4,
    "start_time": "2024-10-18T04:53:33.278Z"
   },
   {
    "duration": 4,
    "start_time": "2024-10-18T04:53:33.283Z"
   },
   {
    "duration": 6,
    "start_time": "2024-10-18T04:53:33.289Z"
   },
   {
    "duration": 8,
    "start_time": "2024-10-18T04:53:33.331Z"
   },
   {
    "duration": 9,
    "start_time": "2024-10-18T04:53:33.342Z"
   },
   {
    "duration": 4,
    "start_time": "2024-10-18T04:53:33.353Z"
   },
   {
    "duration": 4,
    "start_time": "2024-10-18T04:53:33.359Z"
   },
   {
    "duration": 17,
    "start_time": "2024-10-18T04:53:33.365Z"
   },
   {
    "duration": 2,
    "start_time": "2024-10-18T04:53:33.385Z"
   },
   {
    "duration": 49,
    "start_time": "2024-10-18T04:53:33.388Z"
   },
   {
    "duration": 63,
    "start_time": "2024-10-18T04:53:33.439Z"
   },
   {
    "duration": 11,
    "start_time": "2024-10-18T04:53:33.504Z"
   },
   {
    "duration": 63,
    "start_time": "2024-10-18T04:53:33.531Z"
   },
   {
    "duration": 42,
    "start_time": "2024-10-18T04:53:33.596Z"
   },
   {
    "duration": 91,
    "start_time": "2024-10-18T04:53:33.640Z"
   },
   {
    "duration": 85,
    "start_time": "2024-10-18T04:53:33.733Z"
   },
   {
    "duration": 10,
    "start_time": "2024-10-18T04:53:33.832Z"
   },
   {
    "duration": 105,
    "start_time": "2024-10-18T04:53:33.843Z"
   },
   {
    "duration": 87,
    "start_time": "2024-10-18T04:53:33.950Z"
   },
   {
    "duration": 44,
    "start_time": "2024-10-18T04:53:34.039Z"
   },
   {
    "duration": 14,
    "start_time": "2024-10-18T04:53:34.084Z"
   },
   {
    "duration": 9,
    "start_time": "2024-10-18T04:53:34.100Z"
   },
   {
    "duration": 6,
    "start_time": "2024-10-18T04:53:34.132Z"
   },
   {
    "duration": 14,
    "start_time": "2024-10-18T04:53:34.140Z"
   },
   {
    "duration": 11,
    "start_time": "2024-10-18T04:53:34.155Z"
   },
   {
    "duration": 302,
    "start_time": "2024-10-18T04:53:44.432Z"
   },
   {
    "duration": 157,
    "start_time": "2024-10-18T04:53:47.475Z"
   },
   {
    "duration": 117,
    "start_time": "2024-10-18T04:53:50.887Z"
   },
   {
    "duration": 57,
    "start_time": "2024-10-18T04:53:57.515Z"
   },
   {
    "duration": 6,
    "start_time": "2024-10-18T04:54:00.720Z"
   },
   {
    "duration": 6,
    "start_time": "2024-10-18T04:54:07.285Z"
   },
   {
    "duration": 814,
    "start_time": "2024-10-18T04:54:11.559Z"
   },
   {
    "duration": 8,
    "start_time": "2024-10-18T04:54:40.277Z"
   },
   {
    "duration": 7,
    "start_time": "2024-10-18T04:55:40.529Z"
   },
   {
    "duration": 7,
    "start_time": "2024-10-18T04:55:46.291Z"
   },
   {
    "duration": 9,
    "start_time": "2024-10-18T04:55:48.898Z"
   },
   {
    "duration": 159,
    "start_time": "2024-10-18T04:58:59.893Z"
   },
   {
    "duration": 13,
    "start_time": "2024-10-18T04:59:19.167Z"
   },
   {
    "duration": 318,
    "start_time": "2024-10-18T04:59:28.672Z"
   },
   {
    "duration": 173,
    "start_time": "2024-10-18T04:59:28.992Z"
   },
   {
    "duration": 61,
    "start_time": "2024-10-18T04:59:29.167Z"
   },
   {
    "duration": 6,
    "start_time": "2024-10-18T04:59:29.230Z"
   },
   {
    "duration": 5,
    "start_time": "2024-10-18T04:59:29.238Z"
   },
   {
    "duration": 830,
    "start_time": "2024-10-18T04:59:29.245Z"
   },
   {
    "duration": 7,
    "start_time": "2024-10-18T04:59:30.077Z"
   },
   {
    "duration": 4,
    "start_time": "2024-10-18T04:59:30.086Z"
   },
   {
    "duration": 5,
    "start_time": "2024-10-18T04:59:30.092Z"
   },
   {
    "duration": 4,
    "start_time": "2024-10-18T04:59:30.101Z"
   },
   {
    "duration": 5,
    "start_time": "2024-10-18T04:59:30.132Z"
   },
   {
    "duration": 7,
    "start_time": "2024-10-18T04:59:30.140Z"
   },
   {
    "duration": 7,
    "start_time": "2024-10-18T04:59:30.148Z"
   },
   {
    "duration": 8,
    "start_time": "2024-10-18T04:59:30.157Z"
   },
   {
    "duration": 5,
    "start_time": "2024-10-18T04:59:30.167Z"
   },
   {
    "duration": 5,
    "start_time": "2024-10-18T04:59:30.174Z"
   },
   {
    "duration": 57,
    "start_time": "2024-10-18T04:59:30.181Z"
   },
   {
    "duration": 2,
    "start_time": "2024-10-18T04:59:30.240Z"
   },
   {
    "duration": 15,
    "start_time": "2024-10-18T04:59:30.244Z"
   },
   {
    "duration": 87,
    "start_time": "2024-10-18T04:59:30.261Z"
   },
   {
    "duration": 15,
    "start_time": "2024-10-18T04:59:30.350Z"
   },
   {
    "duration": 87,
    "start_time": "2024-10-18T04:59:30.367Z"
   },
   {
    "duration": 37,
    "start_time": "2024-10-18T04:59:30.456Z"
   },
   {
    "duration": 129,
    "start_time": "2024-10-18T04:59:30.495Z"
   },
   {
    "duration": 123,
    "start_time": "2024-10-18T04:59:30.626Z"
   },
   {
    "duration": 10,
    "start_time": "2024-10-18T04:59:30.751Z"
   },
   {
    "duration": 130,
    "start_time": "2024-10-18T04:59:30.763Z"
   },
   {
    "duration": 90,
    "start_time": "2024-10-18T04:59:30.898Z"
   },
   {
    "duration": 54,
    "start_time": "2024-10-18T04:59:30.990Z"
   },
   {
    "duration": 13,
    "start_time": "2024-10-18T04:59:31.046Z"
   },
   {
    "duration": 13,
    "start_time": "2024-10-18T04:59:31.060Z"
   },
   {
    "duration": 8,
    "start_time": "2024-10-18T04:59:31.076Z"
   },
   {
    "duration": 14,
    "start_time": "2024-10-18T04:59:31.087Z"
   },
   {
    "duration": 30,
    "start_time": "2024-10-18T04:59:31.102Z"
   },
   {
    "duration": 589,
    "start_time": "2024-10-18T04:59:31.134Z"
   },
   {
    "duration": 0,
    "start_time": "2024-10-18T04:59:31.724Z"
   },
   {
    "duration": 0,
    "start_time": "2024-10-18T04:59:31.725Z"
   },
   {
    "duration": 0,
    "start_time": "2024-10-18T04:59:31.726Z"
   },
   {
    "duration": 0,
    "start_time": "2024-10-18T04:59:31.731Z"
   },
   {
    "duration": 0,
    "start_time": "2024-10-18T04:59:31.732Z"
   },
   {
    "duration": 0,
    "start_time": "2024-10-18T04:59:31.734Z"
   },
   {
    "duration": 0,
    "start_time": "2024-10-18T04:59:31.735Z"
   },
   {
    "duration": 0,
    "start_time": "2024-10-18T04:59:31.736Z"
   },
   {
    "duration": 0,
    "start_time": "2024-10-18T04:59:31.738Z"
   },
   {
    "duration": 0,
    "start_time": "2024-10-18T04:59:31.739Z"
   },
   {
    "duration": 0,
    "start_time": "2024-10-18T04:59:31.741Z"
   },
   {
    "duration": 0,
    "start_time": "2024-10-18T04:59:31.742Z"
   },
   {
    "duration": 0,
    "start_time": "2024-10-18T04:59:31.743Z"
   },
   {
    "duration": 0,
    "start_time": "2024-10-18T04:59:31.745Z"
   },
   {
    "duration": 0,
    "start_time": "2024-10-18T04:59:31.746Z"
   },
   {
    "duration": 0,
    "start_time": "2024-10-18T04:59:31.747Z"
   },
   {
    "duration": 0,
    "start_time": "2024-10-18T04:59:31.749Z"
   },
   {
    "duration": 0,
    "start_time": "2024-10-18T04:59:31.750Z"
   },
   {
    "duration": 44,
    "start_time": "2024-10-18T04:59:49.397Z"
   },
   {
    "duration": 18,
    "start_time": "2024-10-18T04:59:52.947Z"
   },
   {
    "duration": 19,
    "start_time": "2024-10-18T05:00:33.262Z"
   },
   {
    "duration": 19,
    "start_time": "2024-10-18T05:01:47.700Z"
   },
   {
    "duration": 17,
    "start_time": "2024-10-18T05:01:48.444Z"
   },
   {
    "duration": 11,
    "start_time": "2024-10-18T05:01:51.039Z"
   },
   {
    "duration": 14,
    "start_time": "2024-10-18T05:01:52.789Z"
   },
   {
    "duration": 17,
    "start_time": "2024-10-18T05:02:14.507Z"
   },
   {
    "duration": 18,
    "start_time": "2024-10-18T05:03:57.265Z"
   },
   {
    "duration": 20,
    "start_time": "2024-10-18T05:04:01.447Z"
   },
   {
    "duration": 22,
    "start_time": "2024-10-18T05:04:09.680Z"
   },
   {
    "duration": 20,
    "start_time": "2024-10-18T05:04:15.431Z"
   },
   {
    "duration": 17,
    "start_time": "2024-10-18T05:04:25.144Z"
   },
   {
    "duration": 12,
    "start_time": "2024-10-18T05:06:39.622Z"
   },
   {
    "duration": 5,
    "start_time": "2024-10-18T05:06:47.426Z"
   },
   {
    "duration": 4,
    "start_time": "2024-10-18T05:06:51.517Z"
   },
   {
    "duration": 7,
    "start_time": "2024-10-18T05:07:21.594Z"
   },
   {
    "duration": 4,
    "start_time": "2024-10-18T05:07:31.718Z"
   },
   {
    "duration": 4,
    "start_time": "2024-10-18T05:07:35.460Z"
   },
   {
    "duration": 9,
    "start_time": "2024-10-18T05:08:41.940Z"
   },
   {
    "duration": 4,
    "start_time": "2024-10-18T05:09:04.038Z"
   },
   {
    "duration": 6,
    "start_time": "2024-10-18T05:09:10.126Z"
   },
   {
    "duration": 4,
    "start_time": "2024-10-18T05:09:13.885Z"
   },
   {
    "duration": 4,
    "start_time": "2024-10-18T05:09:32.469Z"
   },
   {
    "duration": 5,
    "start_time": "2024-10-18T05:09:34.907Z"
   },
   {
    "duration": 9,
    "start_time": "2024-10-18T05:10:00.706Z"
   },
   {
    "duration": 4,
    "start_time": "2024-10-18T05:10:17.595Z"
   },
   {
    "duration": 7,
    "start_time": "2024-10-18T05:11:11.227Z"
   },
   {
    "duration": 6,
    "start_time": "2024-10-18T05:11:15.408Z"
   },
   {
    "duration": 765,
    "start_time": "2024-10-18T05:12:47.273Z"
   },
   {
    "duration": 759,
    "start_time": "2024-10-18T05:13:09.766Z"
   },
   {
    "duration": 5,
    "start_time": "2024-10-18T05:16:35.917Z"
   },
   {
    "duration": 219,
    "start_time": "2024-10-18T05:16:50.406Z"
   },
   {
    "duration": 214,
    "start_time": "2024-10-18T05:16:54.526Z"
   },
   {
    "duration": 157,
    "start_time": "2024-10-18T18:58:02.809Z"
   },
   {
    "duration": 310,
    "start_time": "2024-10-18T18:58:16.228Z"
   },
   {
    "duration": 147,
    "start_time": "2024-10-18T18:58:16.540Z"
   },
   {
    "duration": 58,
    "start_time": "2024-10-18T18:58:16.689Z"
   },
   {
    "duration": 8,
    "start_time": "2024-10-18T18:58:16.748Z"
   },
   {
    "duration": 6,
    "start_time": "2024-10-18T18:58:16.759Z"
   },
   {
    "duration": 793,
    "start_time": "2024-10-18T18:58:16.767Z"
   },
   {
    "duration": 7,
    "start_time": "2024-10-18T18:58:17.562Z"
   },
   {
    "duration": 5,
    "start_time": "2024-10-18T18:58:17.570Z"
   },
   {
    "duration": 4,
    "start_time": "2024-10-18T18:58:17.587Z"
   },
   {
    "duration": 4,
    "start_time": "2024-10-18T18:58:17.593Z"
   },
   {
    "duration": 5,
    "start_time": "2024-10-18T18:58:17.598Z"
   },
   {
    "duration": 8,
    "start_time": "2024-10-18T18:58:17.605Z"
   },
   {
    "duration": 6,
    "start_time": "2024-10-18T18:58:17.615Z"
   },
   {
    "duration": 8,
    "start_time": "2024-10-18T18:58:17.625Z"
   },
   {
    "duration": 4,
    "start_time": "2024-10-18T18:58:17.635Z"
   },
   {
    "duration": 4,
    "start_time": "2024-10-18T18:58:17.686Z"
   },
   {
    "duration": 17,
    "start_time": "2024-10-18T18:58:17.692Z"
   },
   {
    "duration": 2,
    "start_time": "2024-10-18T18:58:17.710Z"
   },
   {
    "duration": 11,
    "start_time": "2024-10-18T18:58:17.714Z"
   },
   {
    "duration": 87,
    "start_time": "2024-10-18T18:58:17.727Z"
   },
   {
    "duration": 12,
    "start_time": "2024-10-18T18:58:17.816Z"
   },
   {
    "duration": 77,
    "start_time": "2024-10-18T18:58:17.830Z"
   },
   {
    "duration": 31,
    "start_time": "2024-10-18T18:58:17.909Z"
   },
   {
    "duration": 101,
    "start_time": "2024-10-18T18:58:17.942Z"
   },
   {
    "duration": 98,
    "start_time": "2024-10-18T18:58:18.045Z"
   },
   {
    "duration": 9,
    "start_time": "2024-10-18T18:58:18.145Z"
   },
   {
    "duration": 105,
    "start_time": "2024-10-18T18:58:18.156Z"
   },
   {
    "duration": 85,
    "start_time": "2024-10-18T18:58:18.263Z"
   },
   {
    "duration": 51,
    "start_time": "2024-10-18T18:58:18.349Z"
   },
   {
    "duration": 13,
    "start_time": "2024-10-18T18:58:18.403Z"
   },
   {
    "duration": 10,
    "start_time": "2024-10-18T18:58:18.417Z"
   },
   {
    "duration": 5,
    "start_time": "2024-10-18T18:58:18.429Z"
   },
   {
    "duration": 14,
    "start_time": "2024-10-18T18:58:18.436Z"
   },
   {
    "duration": 39,
    "start_time": "2024-10-18T18:58:18.452Z"
   },
   {
    "duration": 16,
    "start_time": "2024-10-18T18:58:18.492Z"
   },
   {
    "duration": 3,
    "start_time": "2024-10-18T18:58:18.510Z"
   },
   {
    "duration": 4,
    "start_time": "2024-10-18T18:58:18.515Z"
   },
   {
    "duration": 4,
    "start_time": "2024-10-18T18:58:18.521Z"
   },
   {
    "duration": 4,
    "start_time": "2024-10-18T18:58:18.527Z"
   },
   {
    "duration": 766,
    "start_time": "2024-10-18T18:58:18.533Z"
   },
   {
    "duration": 210,
    "start_time": "2024-10-18T18:58:19.304Z"
   },
   {
    "duration": 7,
    "start_time": "2024-10-18T18:58:19.516Z"
   },
   {
    "duration": 2,
    "start_time": "2024-10-18T18:58:19.525Z"
   },
   {
    "duration": 3,
    "start_time": "2024-10-18T18:58:19.528Z"
   },
   {
    "duration": 2,
    "start_time": "2024-10-18T18:58:19.533Z"
   },
   {
    "duration": 3,
    "start_time": "2024-10-18T18:58:19.536Z"
   },
   {
    "duration": 2,
    "start_time": "2024-10-18T18:58:19.540Z"
   },
   {
    "duration": 2,
    "start_time": "2024-10-18T18:58:19.544Z"
   },
   {
    "duration": 2,
    "start_time": "2024-10-18T18:58:19.548Z"
   },
   {
    "duration": 2,
    "start_time": "2024-10-18T18:58:19.587Z"
   },
   {
    "duration": 3,
    "start_time": "2024-10-18T18:58:19.590Z"
   },
   {
    "duration": 2,
    "start_time": "2024-10-18T18:58:19.594Z"
   },
   {
    "duration": 2,
    "start_time": "2024-10-18T18:58:19.599Z"
   },
   {
    "duration": 280,
    "start_time": "2024-10-18T19:00:14.749Z"
   },
   {
    "duration": 150,
    "start_time": "2024-10-18T19:00:15.032Z"
   },
   {
    "duration": 35,
    "start_time": "2024-10-18T19:00:15.184Z"
   },
   {
    "duration": 4,
    "start_time": "2024-10-18T19:00:15.220Z"
   },
   {
    "duration": 4,
    "start_time": "2024-10-18T19:00:15.227Z"
   },
   {
    "duration": 706,
    "start_time": "2024-10-18T19:00:15.234Z"
   },
   {
    "duration": 7,
    "start_time": "2024-10-18T19:00:15.942Z"
   },
   {
    "duration": 4,
    "start_time": "2024-10-18T19:00:15.951Z"
   },
   {
    "duration": 4,
    "start_time": "2024-10-18T19:00:15.957Z"
   },
   {
    "duration": 24,
    "start_time": "2024-10-18T19:00:15.963Z"
   },
   {
    "duration": 5,
    "start_time": "2024-10-18T19:00:15.989Z"
   },
   {
    "duration": 7,
    "start_time": "2024-10-18T19:00:15.997Z"
   },
   {
    "duration": 8,
    "start_time": "2024-10-18T19:00:16.005Z"
   },
   {
    "duration": 1,
    "start_time": "2024-10-18T19:00:16.016Z"
   },
   {
    "duration": 4,
    "start_time": "2024-10-18T19:00:16.019Z"
   },
   {
    "duration": 4,
    "start_time": "2024-10-18T19:00:16.025Z"
   },
   {
    "duration": 17,
    "start_time": "2024-10-18T19:00:16.031Z"
   },
   {
    "duration": 2,
    "start_time": "2024-10-18T19:00:16.087Z"
   },
   {
    "duration": 11,
    "start_time": "2024-10-18T19:00:16.092Z"
   },
   {
    "duration": 66,
    "start_time": "2024-10-18T19:00:16.105Z"
   },
   {
    "duration": 15,
    "start_time": "2024-10-18T19:00:16.186Z"
   },
   {
    "duration": 62,
    "start_time": "2024-10-18T19:00:16.203Z"
   },
   {
    "duration": 45,
    "start_time": "2024-10-18T19:00:16.267Z"
   },
   {
    "duration": 91,
    "start_time": "2024-10-18T19:00:16.314Z"
   },
   {
    "duration": 93,
    "start_time": "2024-10-18T19:00:16.407Z"
   },
   {
    "duration": 9,
    "start_time": "2024-10-18T19:00:16.502Z"
   },
   {
    "duration": 101,
    "start_time": "2024-10-18T19:00:16.513Z"
   },
   {
    "duration": 84,
    "start_time": "2024-10-18T19:00:16.615Z"
   },
   {
    "duration": 44,
    "start_time": "2024-10-18T19:00:16.701Z"
   },
   {
    "duration": 12,
    "start_time": "2024-10-18T19:00:16.747Z"
   },
   {
    "duration": 28,
    "start_time": "2024-10-18T19:00:16.760Z"
   },
   {
    "duration": 5,
    "start_time": "2024-10-18T19:00:16.789Z"
   },
   {
    "duration": 13,
    "start_time": "2024-10-18T19:00:16.795Z"
   },
   {
    "duration": 8,
    "start_time": "2024-10-18T19:00:16.810Z"
   },
   {
    "duration": 11,
    "start_time": "2024-10-18T19:00:16.820Z"
   },
   {
    "duration": 4,
    "start_time": "2024-10-18T19:00:16.833Z"
   },
   {
    "duration": 4,
    "start_time": "2024-10-18T19:00:16.838Z"
   },
   {
    "duration": 44,
    "start_time": "2024-10-18T19:00:16.844Z"
   },
   {
    "duration": 4,
    "start_time": "2024-10-18T19:00:16.889Z"
   },
   {
    "duration": 740,
    "start_time": "2024-10-18T19:00:16.895Z"
   },
   {
    "duration": 207,
    "start_time": "2024-10-18T19:00:17.639Z"
   },
   {
    "duration": 8,
    "start_time": "2024-10-18T19:00:17.847Z"
   },
   {
    "duration": 2,
    "start_time": "2024-10-18T19:00:17.857Z"
   },
   {
    "duration": 2,
    "start_time": "2024-10-18T19:00:17.862Z"
   },
   {
    "duration": 2,
    "start_time": "2024-10-18T19:00:17.866Z"
   },
   {
    "duration": 2,
    "start_time": "2024-10-18T19:00:17.887Z"
   },
   {
    "duration": 2,
    "start_time": "2024-10-18T19:00:17.891Z"
   },
   {
    "duration": 3,
    "start_time": "2024-10-18T19:00:17.895Z"
   },
   {
    "duration": 3,
    "start_time": "2024-10-18T19:00:17.899Z"
   },
   {
    "duration": 3,
    "start_time": "2024-10-18T19:00:17.903Z"
   },
   {
    "duration": 3,
    "start_time": "2024-10-18T19:00:17.907Z"
   },
   {
    "duration": 3,
    "start_time": "2024-10-18T19:00:17.912Z"
   },
   {
    "duration": 2,
    "start_time": "2024-10-18T19:00:17.916Z"
   },
   {
    "duration": 15,
    "start_time": "2024-10-18T19:02:28.479Z"
   },
   {
    "duration": 205,
    "start_time": "2024-10-18T19:04:21.600Z"
   },
   {
    "duration": 710,
    "start_time": "2024-10-18T19:04:47.410Z"
   },
   {
    "duration": 200,
    "start_time": "2024-10-18T19:06:31.465Z"
   },
   {
    "duration": 120,
    "start_time": "2024-10-18T19:06:42.714Z"
   },
   {
    "duration": 9,
    "start_time": "2024-10-18T19:06:51.797Z"
   },
   {
    "duration": 752,
    "start_time": "2024-10-18T19:06:57.122Z"
   },
   {
    "duration": 105,
    "start_time": "2024-10-18T19:07:28.265Z"
   },
   {
    "duration": 12,
    "start_time": "2024-10-18T19:07:34.458Z"
   },
   {
    "duration": 3,
    "start_time": "2024-10-18T19:07:38.660Z"
   },
   {
    "duration": 89,
    "start_time": "2024-10-18T19:07:43.150Z"
   },
   {
    "duration": 159,
    "start_time": "2024-10-18T19:08:04.875Z"
   },
   {
    "duration": 255,
    "start_time": "2024-10-18T19:11:28.283Z"
   },
   {
    "duration": 218,
    "start_time": "2024-10-18T19:11:38.703Z"
   },
   {
    "duration": 7,
    "start_time": "2024-10-18T19:17:09.903Z"
   },
   {
    "duration": 11,
    "start_time": "2024-10-18T19:20:11.995Z"
   },
   {
    "duration": 12,
    "start_time": "2024-10-18T19:21:47.366Z"
   },
   {
    "duration": 9,
    "start_time": "2024-10-18T19:21:59.205Z"
   },
   {
    "duration": 8,
    "start_time": "2024-10-18T19:23:16.889Z"
   },
   {
    "duration": 12,
    "start_time": "2024-10-18T19:33:56.557Z"
   },
   {
    "duration": 19,
    "start_time": "2024-10-18T19:34:19.037Z"
   },
   {
    "duration": 3,
    "start_time": "2024-10-18T19:34:29.728Z"
   },
   {
    "duration": 5,
    "start_time": "2024-10-18T19:34:48.550Z"
   },
   {
    "duration": 7,
    "start_time": "2024-10-18T19:34:55.501Z"
   },
   {
    "duration": 7,
    "start_time": "2024-10-18T19:36:23.927Z"
   },
   {
    "duration": 6,
    "start_time": "2024-10-18T19:36:57.189Z"
   },
   {
    "duration": 7,
    "start_time": "2024-10-18T19:37:06.606Z"
   },
   {
    "duration": 4,
    "start_time": "2024-10-18T19:37:34.048Z"
   },
   {
    "duration": 7,
    "start_time": "2024-10-18T19:37:49.880Z"
   },
   {
    "duration": 6,
    "start_time": "2024-10-18T19:37:54.401Z"
   },
   {
    "duration": 7,
    "start_time": "2024-10-18T19:38:07.329Z"
   },
   {
    "duration": 394,
    "start_time": "2024-10-18T19:40:10.777Z"
   },
   {
    "duration": 6,
    "start_time": "2024-10-18T19:40:22.717Z"
   },
   {
    "duration": 7,
    "start_time": "2024-10-18T19:41:12.041Z"
   },
   {
    "duration": 12,
    "start_time": "2024-10-18T19:44:49.465Z"
   },
   {
    "duration": 13,
    "start_time": "2024-10-18T19:44:53.033Z"
   },
   {
    "duration": 15,
    "start_time": "2024-10-18T19:45:15.907Z"
   },
   {
    "duration": 14,
    "start_time": "2024-10-18T19:59:37.271Z"
   },
   {
    "duration": 4,
    "start_time": "2024-10-18T19:59:49.480Z"
   },
   {
    "duration": 15,
    "start_time": "2024-10-18T20:03:58.654Z"
   },
   {
    "duration": 9,
    "start_time": "2024-10-18T20:04:08.177Z"
   },
   {
    "duration": 7,
    "start_time": "2024-10-18T20:04:25.261Z"
   },
   {
    "duration": 124,
    "start_time": "2024-10-18T20:05:53.654Z"
   },
   {
    "duration": 6,
    "start_time": "2024-10-18T20:06:17.195Z"
   },
   {
    "duration": 4,
    "start_time": "2024-10-18T20:06:25.342Z"
   },
   {
    "duration": 84,
    "start_time": "2024-10-18T20:06:41.805Z"
   },
   {
    "duration": 10,
    "start_time": "2024-10-18T20:07:00.037Z"
   },
   {
    "duration": 9,
    "start_time": "2024-10-18T20:08:24.167Z"
   },
   {
    "duration": 16,
    "start_time": "2024-10-18T20:08:34.121Z"
   },
   {
    "duration": 7,
    "start_time": "2024-10-18T20:08:42.392Z"
   },
   {
    "duration": 14,
    "start_time": "2024-10-18T20:10:42.165Z"
   },
   {
    "duration": 469,
    "start_time": "2024-10-18T20:10:51.225Z"
   },
   {
    "duration": 7,
    "start_time": "2024-10-18T20:13:07.191Z"
   },
   {
    "duration": 12,
    "start_time": "2024-10-18T20:13:16.778Z"
   },
   {
    "duration": 27,
    "start_time": "2024-10-18T20:13:28.709Z"
   },
   {
    "duration": 7,
    "start_time": "2024-10-18T20:14:26.134Z"
   },
   {
    "duration": 6,
    "start_time": "2024-10-18T20:15:18.419Z"
   },
   {
    "duration": 241,
    "start_time": "2024-10-18T20:15:37.659Z"
   },
   {
    "duration": 29,
    "start_time": "2024-10-18T20:16:02.151Z"
   },
   {
    "duration": 7,
    "start_time": "2024-10-18T20:16:37.061Z"
   },
   {
    "duration": 8,
    "start_time": "2024-10-18T20:17:15.956Z"
   },
   {
    "duration": 5,
    "start_time": "2024-10-18T20:18:39.013Z"
   },
   {
    "duration": 4,
    "start_time": "2024-10-18T20:39:11.315Z"
   },
   {
    "duration": 3,
    "start_time": "2024-10-18T23:33:40.293Z"
   },
   {
    "duration": 156,
    "start_time": "2024-10-18T23:33:44.411Z"
   },
   {
    "duration": 11,
    "start_time": "2024-10-18T23:33:55.282Z"
   },
   {
    "duration": 12,
    "start_time": "2024-10-18T23:33:57.026Z"
   },
   {
    "duration": 301,
    "start_time": "2024-10-18T23:34:04.606Z"
   },
   {
    "duration": 148,
    "start_time": "2024-10-18T23:34:04.910Z"
   },
   {
    "duration": 56,
    "start_time": "2024-10-18T23:34:05.060Z"
   },
   {
    "duration": 7,
    "start_time": "2024-10-18T23:34:05.119Z"
   },
   {
    "duration": 6,
    "start_time": "2024-10-18T23:34:05.129Z"
   },
   {
    "duration": 814,
    "start_time": "2024-10-18T23:34:05.137Z"
   },
   {
    "duration": 7,
    "start_time": "2024-10-18T23:34:05.952Z"
   },
   {
    "duration": 5,
    "start_time": "2024-10-18T23:34:05.960Z"
   },
   {
    "duration": 4,
    "start_time": "2024-10-18T23:34:05.967Z"
   },
   {
    "duration": 4,
    "start_time": "2024-10-18T23:34:05.973Z"
   },
   {
    "duration": 34,
    "start_time": "2024-10-18T23:34:05.978Z"
   },
   {
    "duration": 105,
    "start_time": "2024-10-18T23:34:06.013Z"
   },
   {
    "duration": 104,
    "start_time": "2024-10-18T23:34:06.119Z"
   },
   {
    "duration": 11,
    "start_time": "2024-10-18T23:34:06.228Z"
   },
   {
    "duration": 120,
    "start_time": "2024-10-18T23:34:06.240Z"
   },
   {
    "duration": 95,
    "start_time": "2024-10-18T23:34:06.361Z"
   },
   {
    "duration": 55,
    "start_time": "2024-10-18T23:34:06.458Z"
   },
   {
    "duration": 12,
    "start_time": "2024-10-18T23:34:06.515Z"
   },
   {
    "duration": 5,
    "start_time": "2024-10-18T23:34:06.528Z"
   },
   {
    "duration": 13,
    "start_time": "2024-10-18T23:34:06.535Z"
   },
   {
    "duration": 9,
    "start_time": "2024-10-18T23:34:06.550Z"
   },
   {
    "duration": 12,
    "start_time": "2024-10-18T23:34:06.561Z"
   },
   {
    "duration": 38,
    "start_time": "2024-10-18T23:34:06.575Z"
   },
   {
    "duration": 5,
    "start_time": "2024-10-18T23:34:06.614Z"
   },
   {
    "duration": 5,
    "start_time": "2024-10-18T23:34:06.621Z"
   },
   {
    "duration": 4,
    "start_time": "2024-10-18T23:34:06.627Z"
   },
   {
    "duration": 826,
    "start_time": "2024-10-18T23:34:06.632Z"
   },
   {
    "duration": 257,
    "start_time": "2024-10-18T23:34:07.459Z"
   },
   {
    "duration": 177,
    "start_time": "2024-10-18T23:34:07.718Z"
   },
   {
    "duration": 20,
    "start_time": "2024-10-18T23:34:07.897Z"
   },
   {
    "duration": 8,
    "start_time": "2024-10-18T23:34:07.919Z"
   },
   {
    "duration": 8,
    "start_time": "2024-10-18T23:34:07.929Z"
   },
   {
    "duration": 6,
    "start_time": "2024-10-18T23:34:07.938Z"
   },
   {
    "duration": 7,
    "start_time": "2024-10-18T23:34:07.946Z"
   },
   {
    "duration": 6,
    "start_time": "2024-10-18T23:34:07.955Z"
   },
   {
    "duration": 7,
    "start_time": "2024-10-18T23:34:07.962Z"
   },
   {
    "duration": 49,
    "start_time": "2024-10-18T23:34:07.970Z"
   },
   {
    "duration": 6,
    "start_time": "2024-10-18T23:34:08.023Z"
   },
   {
    "duration": 12,
    "start_time": "2024-10-18T23:34:08.031Z"
   },
   {
    "duration": 3,
    "start_time": "2024-10-18T23:34:08.045Z"
   },
   {
    "duration": 2,
    "start_time": "2024-10-18T23:34:08.052Z"
   },
   {
    "duration": 3,
    "start_time": "2024-10-18T23:34:08.055Z"
   },
   {
    "duration": 3,
    "start_time": "2024-10-18T23:34:08.060Z"
   },
   {
    "duration": 17,
    "start_time": "2024-10-18T23:34:20.457Z"
   },
   {
    "duration": 19,
    "start_time": "2024-10-18T23:36:13.786Z"
   },
   {
    "duration": 32,
    "start_time": "2024-10-18T23:36:23.296Z"
   },
   {
    "duration": 32,
    "start_time": "2024-10-18T23:36:48.080Z"
   },
   {
    "duration": 14,
    "start_time": "2024-10-18T23:39:05.010Z"
   },
   {
    "duration": 6,
    "start_time": "2024-10-18T23:39:22.166Z"
   },
   {
    "duration": 12,
    "start_time": "2024-10-18T23:39:26.588Z"
   },
   {
    "duration": 19,
    "start_time": "2024-10-18T23:40:20.659Z"
   },
   {
    "duration": 16,
    "start_time": "2024-10-18T23:40:40.192Z"
   },
   {
    "duration": 87,
    "start_time": "2024-10-18T23:41:36.731Z"
   },
   {
    "duration": 10,
    "start_time": "2024-10-18T23:41:49.490Z"
   },
   {
    "duration": 4,
    "start_time": "2024-10-18T23:42:22.864Z"
   },
   {
    "duration": 10,
    "start_time": "2024-10-18T23:42:26.644Z"
   },
   {
    "duration": 3,
    "start_time": "2024-10-18T23:42:52.729Z"
   },
   {
    "duration": 2,
    "start_time": "2024-10-18T23:43:04.640Z"
   },
   {
    "duration": 10,
    "start_time": "2024-10-18T23:43:16.290Z"
   },
   {
    "duration": 114,
    "start_time": "2024-10-18T23:45:40.724Z"
   },
   {
    "duration": 3,
    "start_time": "2024-10-18T23:45:51.405Z"
   },
   {
    "duration": 3,
    "start_time": "2024-10-18T23:45:53.533Z"
   },
   {
    "duration": 12,
    "start_time": "2024-10-18T23:45:55.036Z"
   },
   {
    "duration": 6,
    "start_time": "2024-10-18T23:46:06.779Z"
   },
   {
    "duration": 5,
    "start_time": "2024-10-18T23:46:25.823Z"
   },
   {
    "duration": 5,
    "start_time": "2024-10-18T23:48:15.880Z"
   },
   {
    "duration": 5,
    "start_time": "2024-10-18T23:48:19.721Z"
   },
   {
    "duration": 5,
    "start_time": "2024-10-18T23:48:22.025Z"
   },
   {
    "duration": 14,
    "start_time": "2024-10-18T23:49:14.692Z"
   },
   {
    "duration": 268,
    "start_time": "2024-10-18T23:49:23.995Z"
   },
   {
    "duration": 245,
    "start_time": "2024-10-18T23:49:40.264Z"
   },
   {
    "duration": 261,
    "start_time": "2024-10-18T23:51:26.073Z"
   },
   {
    "duration": 295,
    "start_time": "2024-10-18T23:51:30.565Z"
   },
   {
    "duration": 329,
    "start_time": "2024-10-18T23:51:35.412Z"
   },
   {
    "duration": 3,
    "start_time": "2024-10-18T23:56:00.505Z"
   },
   {
    "duration": 5,
    "start_time": "2024-10-18T23:56:10.579Z"
   },
   {
    "duration": 4,
    "start_time": "2024-10-18T23:56:15.070Z"
   },
   {
    "duration": 3,
    "start_time": "2024-10-18T23:56:49.976Z"
   },
   {
    "duration": 2,
    "start_time": "2024-10-18T23:57:07.165Z"
   },
   {
    "duration": 4,
    "start_time": "2024-10-18T23:58:19.302Z"
   },
   {
    "duration": 7,
    "start_time": "2024-10-18T23:58:45.536Z"
   },
   {
    "duration": 8,
    "start_time": "2024-10-18T23:58:56.899Z"
   },
   {
    "duration": 6,
    "start_time": "2024-10-19T00:00:17.187Z"
   },
   {
    "duration": 192,
    "start_time": "2024-10-19T00:01:32.734Z"
   },
   {
    "duration": 8,
    "start_time": "2024-10-19T00:19:15.304Z"
   },
   {
    "duration": 8,
    "start_time": "2024-10-19T00:19:19.211Z"
   },
   {
    "duration": 7,
    "start_time": "2024-10-19T00:19:39.904Z"
   },
   {
    "duration": 63,
    "start_time": "2024-10-19T00:20:02.947Z"
   },
   {
    "duration": 13,
    "start_time": "2024-10-19T00:23:15.034Z"
   },
   {
    "duration": 16,
    "start_time": "2024-10-19T00:23:37.835Z"
   },
   {
    "duration": 3,
    "start_time": "2024-10-19T00:23:45.948Z"
   },
   {
    "duration": 16,
    "start_time": "2024-10-19T00:24:45.334Z"
   },
   {
    "duration": 15,
    "start_time": "2024-10-19T00:24:46.818Z"
   },
   {
    "duration": 12,
    "start_time": "2024-10-19T00:25:27.305Z"
   },
   {
    "duration": 4,
    "start_time": "2024-10-19T00:25:33.589Z"
   },
   {
    "duration": 18,
    "start_time": "2024-10-19T00:25:36.714Z"
   },
   {
    "duration": 16,
    "start_time": "2024-10-19T00:25:39.967Z"
   },
   {
    "duration": 12,
    "start_time": "2024-10-19T00:26:17.726Z"
   },
   {
    "duration": 11,
    "start_time": "2024-10-19T00:26:31.012Z"
   },
   {
    "duration": 5,
    "start_time": "2024-10-19T00:28:55.935Z"
   },
   {
    "duration": 408,
    "start_time": "2024-10-19T00:29:00.956Z"
   },
   {
    "duration": 1016,
    "start_time": "2024-10-19T00:29:17.240Z"
   },
   {
    "duration": 929,
    "start_time": "2024-10-19T00:29:28.348Z"
   },
   {
    "duration": 14,
    "start_time": "2024-10-19T00:29:37.732Z"
   },
   {
    "duration": 20,
    "start_time": "2024-10-19T00:29:48.828Z"
   },
   {
    "duration": 162,
    "start_time": "2024-10-19T20:06:16.322Z"
   },
   {
    "duration": 11,
    "start_time": "2024-10-19T20:06:21.869Z"
   },
   {
    "duration": 11,
    "start_time": "2024-10-19T20:06:26.077Z"
   },
   {
    "duration": 11,
    "start_time": "2024-10-19T20:06:30.030Z"
   },
   {
    "duration": 11,
    "start_time": "2024-10-19T20:06:33.954Z"
   },
   {
    "duration": 2127,
    "start_time": "2024-10-19T20:07:01.118Z"
   },
   {
    "duration": 43,
    "start_time": "2024-10-19T20:07:36.725Z"
   },
   {
    "duration": 408,
    "start_time": "2024-10-19T20:07:45.079Z"
   },
   {
    "duration": 175,
    "start_time": "2024-10-19T20:07:45.489Z"
   },
   {
    "duration": 54,
    "start_time": "2024-10-19T20:07:45.665Z"
   },
   {
    "duration": 6,
    "start_time": "2024-10-19T20:07:45.721Z"
   },
   {
    "duration": 6,
    "start_time": "2024-10-19T20:07:45.731Z"
   },
   {
    "duration": 793,
    "start_time": "2024-10-19T20:07:45.738Z"
   },
   {
    "duration": 6,
    "start_time": "2024-10-19T20:07:46.532Z"
   },
   {
    "duration": 4,
    "start_time": "2024-10-19T20:07:46.542Z"
   },
   {
    "duration": 4,
    "start_time": "2024-10-19T20:07:46.547Z"
   },
   {
    "duration": 4,
    "start_time": "2024-10-19T20:07:46.553Z"
   },
   {
    "duration": 4,
    "start_time": "2024-10-19T20:07:46.559Z"
   },
   {
    "duration": 130,
    "start_time": "2024-10-19T20:07:46.565Z"
   },
   {
    "duration": 103,
    "start_time": "2024-10-19T20:07:46.697Z"
   },
   {
    "duration": 12,
    "start_time": "2024-10-19T20:07:46.804Z"
   },
   {
    "duration": 109,
    "start_time": "2024-10-19T20:07:46.824Z"
   },
   {
    "duration": 82,
    "start_time": "2024-10-19T20:07:46.934Z"
   },
   {
    "duration": 43,
    "start_time": "2024-10-19T20:07:47.025Z"
   },
   {
    "duration": 13,
    "start_time": "2024-10-19T20:07:47.070Z"
   },
   {
    "duration": 5,
    "start_time": "2024-10-19T20:07:47.084Z"
   },
   {
    "duration": 38,
    "start_time": "2024-10-19T20:07:47.091Z"
   },
   {
    "duration": 10,
    "start_time": "2024-10-19T20:07:47.131Z"
   },
   {
    "duration": 11,
    "start_time": "2024-10-19T20:07:47.142Z"
   },
   {
    "duration": 4,
    "start_time": "2024-10-19T20:07:47.156Z"
   },
   {
    "duration": 5,
    "start_time": "2024-10-19T20:07:47.162Z"
   },
   {
    "duration": 4,
    "start_time": "2024-10-19T20:07:47.169Z"
   },
   {
    "duration": 4,
    "start_time": "2024-10-19T20:07:47.175Z"
   },
   {
    "duration": 810,
    "start_time": "2024-10-19T20:07:47.181Z"
   },
   {
    "duration": 234,
    "start_time": "2024-10-19T20:07:47.993Z"
   },
   {
    "duration": 171,
    "start_time": "2024-10-19T20:07:48.229Z"
   },
   {
    "duration": 11,
    "start_time": "2024-10-19T20:07:48.402Z"
   },
   {
    "duration": 8,
    "start_time": "2024-10-19T20:07:48.423Z"
   },
   {
    "duration": 7,
    "start_time": "2024-10-19T20:07:48.433Z"
   },
   {
    "duration": 6,
    "start_time": "2024-10-19T20:07:48.442Z"
   },
   {
    "duration": 6,
    "start_time": "2024-10-19T20:07:48.450Z"
   },
   {
    "duration": 5,
    "start_time": "2024-10-19T20:07:48.458Z"
   },
   {
    "duration": 6,
    "start_time": "2024-10-19T20:07:48.465Z"
   },
   {
    "duration": 8,
    "start_time": "2024-10-19T20:07:48.473Z"
   },
   {
    "duration": 41,
    "start_time": "2024-10-19T20:07:48.483Z"
   },
   {
    "duration": 17,
    "start_time": "2024-10-19T20:07:48.526Z"
   },
   {
    "duration": 31,
    "start_time": "2024-10-19T20:07:48.545Z"
   },
   {
    "duration": 11,
    "start_time": "2024-10-19T20:07:48.581Z"
   },
   {
    "duration": 32,
    "start_time": "2024-10-19T20:07:48.593Z"
   },
   {
    "duration": 9,
    "start_time": "2024-10-19T20:07:48.626Z"
   },
   {
    "duration": 5,
    "start_time": "2024-10-19T20:07:48.637Z"
   },
   {
    "duration": 84,
    "start_time": "2024-10-19T20:07:48.643Z"
   },
   {
    "duration": 11,
    "start_time": "2024-10-19T20:07:48.728Z"
   },
   {
    "duration": 19,
    "start_time": "2024-10-19T20:07:48.741Z"
   },
   {
    "duration": 9,
    "start_time": "2024-10-19T20:07:48.762Z"
   },
   {
    "duration": 6,
    "start_time": "2024-10-19T20:08:29.050Z"
   },
   {
    "duration": 183,
    "start_time": "2024-10-19T20:08:39.940Z"
   },
   {
    "duration": 5,
    "start_time": "2024-10-19T20:09:11.191Z"
   },
   {
    "duration": 14,
    "start_time": "2024-10-19T20:09:21.435Z"
   },
   {
    "duration": 4,
    "start_time": "2024-10-19T20:09:29.469Z"
   },
   {
    "duration": 4,
    "start_time": "2024-10-19T20:09:38.404Z"
   },
   {
    "duration": 13,
    "start_time": "2024-10-19T20:09:44.261Z"
   },
   {
    "duration": 14,
    "start_time": "2024-10-19T20:10:03.317Z"
   },
   {
    "duration": 14,
    "start_time": "2024-10-19T20:12:20.108Z"
   },
   {
    "duration": 5,
    "start_time": "2024-10-19T20:13:22.063Z"
   },
   {
    "duration": 5,
    "start_time": "2024-10-19T20:13:38.370Z"
   },
   {
    "duration": 5,
    "start_time": "2024-10-19T20:14:40.276Z"
   },
   {
    "duration": 5,
    "start_time": "2024-10-19T20:18:07.931Z"
   },
   {
    "duration": 13,
    "start_time": "2024-10-19T20:18:30.679Z"
   },
   {
    "duration": 4,
    "start_time": "2024-10-19T20:18:32.683Z"
   },
   {
    "duration": 13,
    "start_time": "2024-10-19T20:18:50.567Z"
   },
   {
    "duration": 4,
    "start_time": "2024-10-19T20:19:03.245Z"
   },
   {
    "duration": 3,
    "start_time": "2024-10-19T20:19:06.280Z"
   },
   {
    "duration": 3,
    "start_time": "2024-10-19T20:19:41.330Z"
   },
   {
    "duration": 193,
    "start_time": "2024-10-19T20:21:34.906Z"
   },
   {
    "duration": 187,
    "start_time": "2024-10-19T20:22:02.774Z"
   },
   {
    "duration": 204,
    "start_time": "2024-10-19T20:22:16.023Z"
   },
   {
    "duration": 948,
    "start_time": "2024-10-19T20:32:12.284Z"
   },
   {
    "duration": 6,
    "start_time": "2024-10-19T20:34:12.349Z"
   },
   {
    "duration": 3,
    "start_time": "2024-10-19T20:35:20.680Z"
   },
   {
    "duration": 352,
    "start_time": "2024-10-19T20:35:25.322Z"
   },
   {
    "duration": 13,
    "start_time": "2024-10-19T20:36:27.097Z"
   },
   {
    "duration": 14,
    "start_time": "2024-10-19T20:36:33.898Z"
   },
   {
    "duration": 11,
    "start_time": "2024-10-19T20:36:55.214Z"
   },
   {
    "duration": 366,
    "start_time": "2024-10-19T20:37:10.619Z"
   },
   {
    "duration": 4,
    "start_time": "2024-10-19T20:37:26.515Z"
   },
   {
    "duration": 3,
    "start_time": "2024-10-19T20:37:31.393Z"
   },
   {
    "duration": 4,
    "start_time": "2024-10-19T20:38:08.431Z"
   },
   {
    "duration": 157,
    "start_time": "2024-10-19T20:41:34.029Z"
   },
   {
    "duration": 458,
    "start_time": "2024-10-19T20:41:45.659Z"
   },
   {
    "duration": 180,
    "start_time": "2024-10-19T20:41:46.119Z"
   },
   {
    "duration": 52,
    "start_time": "2024-10-19T20:41:46.301Z"
   },
   {
    "duration": 6,
    "start_time": "2024-10-19T20:41:46.354Z"
   },
   {
    "duration": 5,
    "start_time": "2024-10-19T20:41:46.362Z"
   },
   {
    "duration": 824,
    "start_time": "2024-10-19T20:41:46.369Z"
   },
   {
    "duration": 6,
    "start_time": "2024-10-19T20:41:47.195Z"
   },
   {
    "duration": 4,
    "start_time": "2024-10-19T20:41:47.203Z"
   },
   {
    "duration": 5,
    "start_time": "2024-10-19T20:41:47.225Z"
   },
   {
    "duration": 4,
    "start_time": "2024-10-19T20:41:47.232Z"
   },
   {
    "duration": 6,
    "start_time": "2024-10-19T20:41:47.238Z"
   },
   {
    "duration": 125,
    "start_time": "2024-10-19T20:41:47.246Z"
   },
   {
    "duration": 111,
    "start_time": "2024-10-19T20:41:47.373Z"
   },
   {
    "duration": 10,
    "start_time": "2024-10-19T20:41:47.488Z"
   },
   {
    "duration": 125,
    "start_time": "2024-10-19T20:41:47.500Z"
   },
   {
    "duration": 88,
    "start_time": "2024-10-19T20:41:47.626Z"
   },
   {
    "duration": 47,
    "start_time": "2024-10-19T20:41:47.724Z"
   },
   {
    "duration": 12,
    "start_time": "2024-10-19T20:41:47.773Z"
   },
   {
    "duration": 5,
    "start_time": "2024-10-19T20:41:47.787Z"
   },
   {
    "duration": 36,
    "start_time": "2024-10-19T20:41:47.793Z"
   },
   {
    "duration": 10,
    "start_time": "2024-10-19T20:41:47.831Z"
   },
   {
    "duration": 12,
    "start_time": "2024-10-19T20:41:47.842Z"
   },
   {
    "duration": 4,
    "start_time": "2024-10-19T20:41:47.856Z"
   },
   {
    "duration": 5,
    "start_time": "2024-10-19T20:41:47.861Z"
   },
   {
    "duration": 4,
    "start_time": "2024-10-19T20:41:47.867Z"
   },
   {
    "duration": 4,
    "start_time": "2024-10-19T20:41:47.873Z"
   },
   {
    "duration": 826,
    "start_time": "2024-10-19T20:41:47.879Z"
   },
   {
    "duration": 220,
    "start_time": "2024-10-19T20:41:48.707Z"
   },
   {
    "duration": 164,
    "start_time": "2024-10-19T20:41:48.928Z"
   },
   {
    "duration": 11,
    "start_time": "2024-10-19T20:41:49.094Z"
   },
   {
    "duration": 20,
    "start_time": "2024-10-19T20:41:49.107Z"
   },
   {
    "duration": 7,
    "start_time": "2024-10-19T20:41:49.129Z"
   },
   {
    "duration": 6,
    "start_time": "2024-10-19T20:41:49.138Z"
   },
   {
    "duration": 6,
    "start_time": "2024-10-19T20:41:49.147Z"
   },
   {
    "duration": 5,
    "start_time": "2024-10-19T20:41:49.155Z"
   },
   {
    "duration": 6,
    "start_time": "2024-10-19T20:41:49.162Z"
   },
   {
    "duration": 7,
    "start_time": "2024-10-19T20:41:49.170Z"
   },
   {
    "duration": 6,
    "start_time": "2024-10-19T20:41:49.179Z"
   },
   {
    "duration": 18,
    "start_time": "2024-10-19T20:41:49.223Z"
   },
   {
    "duration": 31,
    "start_time": "2024-10-19T20:41:49.243Z"
   },
   {
    "duration": 12,
    "start_time": "2024-10-19T20:41:49.278Z"
   },
   {
    "duration": 2,
    "start_time": "2024-10-19T20:41:49.291Z"
   },
   {
    "duration": 33,
    "start_time": "2024-10-19T20:41:49.295Z"
   },
   {
    "duration": 6,
    "start_time": "2024-10-19T20:41:49.330Z"
   },
   {
    "duration": 62,
    "start_time": "2024-10-19T20:41:49.337Z"
   },
   {
    "duration": 30,
    "start_time": "2024-10-19T20:41:49.401Z"
   },
   {
    "duration": 20,
    "start_time": "2024-10-19T20:41:49.432Z"
   },
   {
    "duration": 4,
    "start_time": "2024-10-19T20:41:49.454Z"
   },
   {
    "duration": 3,
    "start_time": "2024-10-19T20:41:49.460Z"
   },
   {
    "duration": 4,
    "start_time": "2024-10-19T20:41:49.465Z"
   },
   {
    "duration": 4,
    "start_time": "2024-10-19T20:41:49.471Z"
   },
   {
    "duration": 213,
    "start_time": "2024-10-19T20:41:49.476Z"
   },
   {
    "duration": 197,
    "start_time": "2024-10-19T20:41:49.691Z"
   },
   {
    "duration": 6,
    "start_time": "2024-10-19T20:42:36.598Z"
   },
   {
    "duration": 7,
    "start_time": "2024-10-19T20:42:58.287Z"
   },
   {
    "duration": 144,
    "start_time": "2024-10-19T20:43:14.740Z"
   },
   {
    "duration": 152,
    "start_time": "2024-10-19T20:43:47.530Z"
   },
   {
    "duration": 4,
    "start_time": "2024-10-19T20:44:03.369Z"
   },
   {
    "duration": 153,
    "start_time": "2024-10-19T20:44:07.026Z"
   },
   {
    "duration": 5,
    "start_time": "2024-10-19T20:44:23.804Z"
   },
   {
    "duration": 150,
    "start_time": "2024-10-19T20:44:27.157Z"
   },
   {
    "duration": 188,
    "start_time": "2024-10-19T20:44:40.019Z"
   },
   {
    "duration": 192,
    "start_time": "2024-10-19T20:45:46.070Z"
   },
   {
    "duration": 193,
    "start_time": "2024-10-19T20:46:44.992Z"
   },
   {
    "duration": 191,
    "start_time": "2024-10-19T20:47:07.776Z"
   },
   {
    "duration": 245,
    "start_time": "2024-10-19T20:47:11.979Z"
   },
   {
    "duration": 161,
    "start_time": "2024-10-20T03:30:04.795Z"
   },
   {
    "duration": 2185,
    "start_time": "2024-10-20T03:30:15.224Z"
   },
   {
    "duration": 151,
    "start_time": "2024-10-20T03:30:17.412Z"
   },
   {
    "duration": 55,
    "start_time": "2024-10-20T03:30:17.565Z"
   },
   {
    "duration": 7,
    "start_time": "2024-10-20T03:30:17.622Z"
   },
   {
    "duration": 7,
    "start_time": "2024-10-20T03:30:17.631Z"
   },
   {
    "duration": 795,
    "start_time": "2024-10-20T03:30:17.639Z"
   },
   {
    "duration": 5,
    "start_time": "2024-10-20T03:30:18.436Z"
   },
   {
    "duration": 4,
    "start_time": "2024-10-20T03:30:18.443Z"
   },
   {
    "duration": 5,
    "start_time": "2024-10-20T03:30:18.449Z"
   },
   {
    "duration": 4,
    "start_time": "2024-10-20T03:30:18.456Z"
   },
   {
    "duration": 5,
    "start_time": "2024-10-20T03:30:18.462Z"
   },
   {
    "duration": 126,
    "start_time": "2024-10-20T03:30:18.468Z"
   },
   {
    "duration": 100,
    "start_time": "2024-10-20T03:30:18.596Z"
   },
   {
    "duration": 17,
    "start_time": "2024-10-20T03:30:18.700Z"
   },
   {
    "duration": 110,
    "start_time": "2024-10-20T03:30:18.719Z"
   },
   {
    "duration": 86,
    "start_time": "2024-10-20T03:30:18.831Z"
   },
   {
    "duration": 44,
    "start_time": "2024-10-20T03:30:18.919Z"
   },
   {
    "duration": 13,
    "start_time": "2024-10-20T03:30:18.965Z"
   },
   {
    "duration": 6,
    "start_time": "2024-10-20T03:30:18.980Z"
   },
   {
    "duration": 16,
    "start_time": "2024-10-20T03:30:19.008Z"
   },
   {
    "duration": 10,
    "start_time": "2024-10-20T03:30:19.025Z"
   },
   {
    "duration": 13,
    "start_time": "2024-10-20T03:30:19.037Z"
   },
   {
    "duration": 4,
    "start_time": "2024-10-20T03:30:19.052Z"
   },
   {
    "duration": 5,
    "start_time": "2024-10-20T03:30:19.057Z"
   },
   {
    "duration": 5,
    "start_time": "2024-10-20T03:30:19.063Z"
   },
   {
    "duration": 42,
    "start_time": "2024-10-20T03:30:19.069Z"
   },
   {
    "duration": 765,
    "start_time": "2024-10-20T03:30:19.113Z"
   },
   {
    "duration": 216,
    "start_time": "2024-10-20T03:30:19.879Z"
   },
   {
    "duration": 156,
    "start_time": "2024-10-20T03:30:20.097Z"
   },
   {
    "duration": 11,
    "start_time": "2024-10-20T03:30:20.255Z"
   },
   {
    "duration": 9,
    "start_time": "2024-10-20T03:30:20.267Z"
   },
   {
    "duration": 32,
    "start_time": "2024-10-20T03:30:20.278Z"
   },
   {
    "duration": 6,
    "start_time": "2024-10-20T03:30:20.312Z"
   },
   {
    "duration": 7,
    "start_time": "2024-10-20T03:30:20.320Z"
   },
   {
    "duration": 6,
    "start_time": "2024-10-20T03:30:20.329Z"
   },
   {
    "duration": 7,
    "start_time": "2024-10-20T03:30:20.336Z"
   },
   {
    "duration": 7,
    "start_time": "2024-10-20T03:30:20.345Z"
   },
   {
    "duration": 6,
    "start_time": "2024-10-20T03:30:20.353Z"
   },
   {
    "duration": 54,
    "start_time": "2024-10-20T03:30:20.361Z"
   },
   {
    "duration": 31,
    "start_time": "2024-10-20T03:30:20.417Z"
   },
   {
    "duration": 12,
    "start_time": "2024-10-20T03:30:20.452Z"
   },
   {
    "duration": 2,
    "start_time": "2024-10-20T03:30:20.467Z"
   },
   {
    "duration": 10,
    "start_time": "2024-10-20T03:30:20.470Z"
   },
   {
    "duration": 6,
    "start_time": "2024-10-20T03:30:20.508Z"
   },
   {
    "duration": 63,
    "start_time": "2024-10-20T03:30:20.516Z"
   },
   {
    "duration": 10,
    "start_time": "2024-10-20T03:30:20.580Z"
   },
   {
    "duration": 30,
    "start_time": "2024-10-20T03:30:20.592Z"
   },
   {
    "duration": 4,
    "start_time": "2024-10-20T03:30:20.624Z"
   },
   {
    "duration": 4,
    "start_time": "2024-10-20T03:30:20.629Z"
   },
   {
    "duration": 5,
    "start_time": "2024-10-20T03:30:20.634Z"
   },
   {
    "duration": 4,
    "start_time": "2024-10-20T03:30:20.640Z"
   },
   {
    "duration": 221,
    "start_time": "2024-10-20T03:30:20.646Z"
   },
   {
    "duration": 248,
    "start_time": "2024-10-20T03:30:20.869Z"
   },
   {
    "duration": 176,
    "start_time": "2024-10-20T03:30:21.543Z"
   },
   {
    "duration": 9,
    "start_time": "2024-10-20T03:31:21.097Z"
   },
   {
    "duration": 6,
    "start_time": "2024-10-20T03:31:34.081Z"
   },
   {
    "duration": 100,
    "start_time": "2024-10-20T03:32:26.634Z"
   },
   {
    "duration": 104,
    "start_time": "2024-10-20T03:32:47.547Z"
   },
   {
    "duration": 7,
    "start_time": "2024-10-20T03:33:03.484Z"
   },
   {
    "duration": 108,
    "start_time": "2024-10-20T03:33:08.758Z"
   },
   {
    "duration": 113,
    "start_time": "2024-10-20T03:33:40.734Z"
   },
   {
    "duration": 4,
    "start_time": "2024-10-20T03:34:00.871Z"
   },
   {
    "duration": 120,
    "start_time": "2024-10-20T03:34:04.505Z"
   },
   {
    "duration": 5,
    "start_time": "2024-10-20T03:36:12.439Z"
   },
   {
    "duration": 129,
    "start_time": "2024-10-20T03:36:38.832Z"
   },
   {
    "duration": 2221,
    "start_time": "2024-10-20T16:02:50.297Z"
   },
   {
    "duration": 154,
    "start_time": "2024-10-20T16:02:52.520Z"
   },
   {
    "duration": 53,
    "start_time": "2024-10-20T16:02:52.676Z"
   },
   {
    "duration": 7,
    "start_time": "2024-10-20T16:02:52.730Z"
   },
   {
    "duration": 7,
    "start_time": "2024-10-20T16:02:52.739Z"
   },
   {
    "duration": 787,
    "start_time": "2024-10-20T16:02:52.747Z"
   },
   {
    "duration": 7,
    "start_time": "2024-10-20T16:02:53.535Z"
   },
   {
    "duration": 6,
    "start_time": "2024-10-20T16:02:53.544Z"
   },
   {
    "duration": 6,
    "start_time": "2024-10-20T16:02:53.552Z"
   },
   {
    "duration": 4,
    "start_time": "2024-10-20T16:02:53.560Z"
   },
   {
    "duration": 4,
    "start_time": "2024-10-20T16:02:53.566Z"
   },
   {
    "duration": 138,
    "start_time": "2024-10-20T16:02:53.572Z"
   },
   {
    "duration": 114,
    "start_time": "2024-10-20T16:02:53.712Z"
   },
   {
    "duration": 15,
    "start_time": "2024-10-20T16:02:53.831Z"
   },
   {
    "duration": 122,
    "start_time": "2024-10-20T16:02:53.848Z"
   },
   {
    "duration": 94,
    "start_time": "2024-10-20T16:02:53.974Z"
   },
   {
    "duration": 47,
    "start_time": "2024-10-20T16:02:54.070Z"
   },
   {
    "duration": 31,
    "start_time": "2024-10-20T16:02:54.119Z"
   },
   {
    "duration": 6,
    "start_time": "2024-10-20T16:02:54.151Z"
   },
   {
    "duration": 14,
    "start_time": "2024-10-20T16:02:54.160Z"
   },
   {
    "duration": 11,
    "start_time": "2024-10-20T16:02:54.176Z"
   },
   {
    "duration": 14,
    "start_time": "2024-10-20T16:02:54.188Z"
   },
   {
    "duration": 4,
    "start_time": "2024-10-20T16:02:54.204Z"
   },
   {
    "duration": 33,
    "start_time": "2024-10-20T16:02:54.210Z"
   },
   {
    "duration": 5,
    "start_time": "2024-10-20T16:02:54.245Z"
   },
   {
    "duration": 4,
    "start_time": "2024-10-20T16:02:54.251Z"
   },
   {
    "duration": 817,
    "start_time": "2024-10-20T16:02:54.257Z"
   },
   {
    "duration": 244,
    "start_time": "2024-10-20T16:02:55.076Z"
   },
   {
    "duration": 185,
    "start_time": "2024-10-20T16:02:55.322Z"
   },
   {
    "duration": 10,
    "start_time": "2024-10-20T16:02:55.509Z"
   },
   {
    "duration": 23,
    "start_time": "2024-10-20T16:02:55.522Z"
   },
   {
    "duration": 8,
    "start_time": "2024-10-20T16:02:55.547Z"
   },
   {
    "duration": 6,
    "start_time": "2024-10-20T16:02:55.556Z"
   },
   {
    "duration": 7,
    "start_time": "2024-10-20T16:02:55.564Z"
   },
   {
    "duration": 5,
    "start_time": "2024-10-20T16:02:55.573Z"
   },
   {
    "duration": 6,
    "start_time": "2024-10-20T16:02:55.580Z"
   },
   {
    "duration": 7,
    "start_time": "2024-10-20T16:02:55.588Z"
   },
   {
    "duration": 46,
    "start_time": "2024-10-20T16:02:55.596Z"
   },
   {
    "duration": 17,
    "start_time": "2024-10-20T16:02:55.645Z"
   },
   {
    "duration": 31,
    "start_time": "2024-10-20T16:02:55.664Z"
   },
   {
    "duration": 11,
    "start_time": "2024-10-20T16:02:55.700Z"
   },
   {
    "duration": 2,
    "start_time": "2024-10-20T16:02:55.713Z"
   },
   {
    "duration": 11,
    "start_time": "2024-10-20T16:02:55.743Z"
   },
   {
    "duration": 6,
    "start_time": "2024-10-20T16:02:55.756Z"
   },
   {
    "duration": 80,
    "start_time": "2024-10-20T16:02:55.763Z"
   },
   {
    "duration": 10,
    "start_time": "2024-10-20T16:02:55.846Z"
   },
   {
    "duration": 20,
    "start_time": "2024-10-20T16:02:55.858Z"
   },
   {
    "duration": 5,
    "start_time": "2024-10-20T16:02:55.881Z"
   },
   {
    "duration": 5,
    "start_time": "2024-10-20T16:02:55.887Z"
   },
   {
    "duration": 5,
    "start_time": "2024-10-20T16:02:55.893Z"
   },
   {
    "duration": 3,
    "start_time": "2024-10-20T16:02:55.900Z"
   },
   {
    "duration": 230,
    "start_time": "2024-10-20T16:02:55.905Z"
   },
   {
    "duration": 130,
    "start_time": "2024-10-20T16:02:56.137Z"
   },
   {
    "duration": 9,
    "start_time": "2024-10-20T16:02:56.269Z"
   },
   {
    "duration": 7,
    "start_time": "2024-10-20T16:04:57.698Z"
   },
   {
    "duration": 97,
    "start_time": "2024-10-20T16:05:13.806Z"
   },
   {
    "duration": 258,
    "start_time": "2024-10-20T16:05:38.100Z"
   },
   {
    "duration": 81,
    "start_time": "2024-10-20T16:05:58.867Z"
   },
   {
    "duration": 190,
    "start_time": "2024-10-20T16:11:45.175Z"
   },
   {
    "duration": 111,
    "start_time": "2024-10-20T16:14:41.670Z"
   },
   {
    "duration": 189,
    "start_time": "2024-10-20T16:15:49.624Z"
   },
   {
    "duration": 188,
    "start_time": "2024-10-20T16:16:05.111Z"
   },
   {
    "duration": 240,
    "start_time": "2024-10-20T16:17:26.321Z"
   },
   {
    "duration": 250,
    "start_time": "2024-10-20T16:17:38.884Z"
   },
   {
    "duration": 24,
    "start_time": "2024-10-20T16:32:11.070Z"
   },
   {
    "duration": 20,
    "start_time": "2024-10-20T16:32:31.250Z"
   },
   {
    "duration": 11,
    "start_time": "2024-10-20T16:32:41.619Z"
   },
   {
    "duration": 13,
    "start_time": "2024-10-20T16:32:54.995Z"
   },
   {
    "duration": 9,
    "start_time": "2024-10-20T16:32:56.917Z"
   },
   {
    "duration": 10,
    "start_time": "2024-10-20T16:33:09.455Z"
   },
   {
    "duration": 9,
    "start_time": "2024-10-20T16:33:51.643Z"
   },
   {
    "duration": 8,
    "start_time": "2024-10-20T16:33:56.878Z"
   },
   {
    "duration": 14,
    "start_time": "2024-10-20T16:34:10.650Z"
   },
   {
    "duration": 678,
    "start_time": "2024-10-20T16:34:25.795Z"
   },
   {
    "duration": 664,
    "start_time": "2024-10-20T16:35:00.751Z"
   },
   {
    "duration": 12,
    "start_time": "2024-10-20T16:35:05.686Z"
   },
   {
    "duration": 12,
    "start_time": "2024-10-20T16:35:38.930Z"
   },
   {
    "duration": 239,
    "start_time": "2024-10-20T16:37:13.687Z"
   },
   {
    "duration": 460,
    "start_time": "2024-10-20T16:37:19.883Z"
   },
   {
    "duration": 505,
    "start_time": "2024-10-20T16:37:30.572Z"
   },
   {
    "duration": 461,
    "start_time": "2024-10-20T16:37:34.125Z"
   },
   {
    "duration": 6,
    "start_time": "2024-10-20T16:37:58.266Z"
   },
   {
    "duration": 114,
    "start_time": "2024-10-20T16:38:12.685Z"
   },
   {
    "duration": 109,
    "start_time": "2024-10-20T16:38:19.191Z"
   },
   {
    "duration": 440,
    "start_time": "2024-10-20T16:39:12.974Z"
   },
   {
    "duration": 157,
    "start_time": "2024-10-20T16:39:13.416Z"
   },
   {
    "duration": 38,
    "start_time": "2024-10-20T16:39:13.576Z"
   },
   {
    "duration": 6,
    "start_time": "2024-10-20T16:39:13.616Z"
   },
   {
    "duration": 18,
    "start_time": "2024-10-20T16:39:13.625Z"
   },
   {
    "duration": 712,
    "start_time": "2024-10-20T16:39:13.644Z"
   },
   {
    "duration": 6,
    "start_time": "2024-10-20T16:39:14.358Z"
   },
   {
    "duration": 6,
    "start_time": "2024-10-20T16:39:14.366Z"
   },
   {
    "duration": 4,
    "start_time": "2024-10-20T16:39:14.374Z"
   },
   {
    "duration": 6,
    "start_time": "2024-10-20T16:39:14.380Z"
   },
   {
    "duration": 4,
    "start_time": "2024-10-20T16:39:14.387Z"
   },
   {
    "duration": 131,
    "start_time": "2024-10-20T16:39:14.393Z"
   },
   {
    "duration": 113,
    "start_time": "2024-10-20T16:39:14.525Z"
   },
   {
    "duration": 10,
    "start_time": "2024-10-20T16:39:14.642Z"
   },
   {
    "duration": 119,
    "start_time": "2024-10-20T16:39:14.654Z"
   },
   {
    "duration": 95,
    "start_time": "2024-10-20T16:39:14.775Z"
   },
   {
    "duration": 43,
    "start_time": "2024-10-20T16:39:14.872Z"
   },
   {
    "duration": 28,
    "start_time": "2024-10-20T16:39:14.916Z"
   },
   {
    "duration": 5,
    "start_time": "2024-10-20T16:39:14.946Z"
   },
   {
    "duration": 14,
    "start_time": "2024-10-20T16:39:14.953Z"
   },
   {
    "duration": 10,
    "start_time": "2024-10-20T16:39:14.970Z"
   },
   {
    "duration": 14,
    "start_time": "2024-10-20T16:39:14.981Z"
   },
   {
    "duration": 6,
    "start_time": "2024-10-20T16:39:14.996Z"
   },
   {
    "duration": 4,
    "start_time": "2024-10-20T16:39:15.003Z"
   },
   {
    "duration": 36,
    "start_time": "2024-10-20T16:39:15.009Z"
   },
   {
    "duration": 5,
    "start_time": "2024-10-20T16:39:15.046Z"
   },
   {
    "duration": 813,
    "start_time": "2024-10-20T16:39:15.053Z"
   },
   {
    "duration": 222,
    "start_time": "2024-10-20T16:39:15.867Z"
   },
   {
    "duration": 177,
    "start_time": "2024-10-20T16:39:16.091Z"
   },
   {
    "duration": 11,
    "start_time": "2024-10-20T16:39:16.270Z"
   },
   {
    "duration": 10,
    "start_time": "2024-10-20T16:39:16.283Z"
   },
   {
    "duration": 9,
    "start_time": "2024-10-20T16:39:16.295Z"
   },
   {
    "duration": 36,
    "start_time": "2024-10-20T16:39:16.306Z"
   },
   {
    "duration": 8,
    "start_time": "2024-10-20T16:39:16.344Z"
   },
   {
    "duration": 5,
    "start_time": "2024-10-20T16:39:16.353Z"
   },
   {
    "duration": 6,
    "start_time": "2024-10-20T16:39:16.360Z"
   },
   {
    "duration": 7,
    "start_time": "2024-10-20T16:39:16.368Z"
   },
   {
    "duration": 5,
    "start_time": "2024-10-20T16:39:16.376Z"
   },
   {
    "duration": 16,
    "start_time": "2024-10-20T16:39:16.384Z"
   },
   {
    "duration": 64,
    "start_time": "2024-10-20T16:39:16.402Z"
   },
   {
    "duration": 11,
    "start_time": "2024-10-20T16:39:16.471Z"
   },
   {
    "duration": 2,
    "start_time": "2024-10-20T16:39:16.484Z"
   },
   {
    "duration": 9,
    "start_time": "2024-10-20T16:39:16.487Z"
   },
   {
    "duration": 5,
    "start_time": "2024-10-20T16:39:16.498Z"
   },
   {
    "duration": 92,
    "start_time": "2024-10-20T16:39:16.505Z"
   },
   {
    "duration": 10,
    "start_time": "2024-10-20T16:39:16.598Z"
   },
   {
    "duration": 33,
    "start_time": "2024-10-20T16:39:16.610Z"
   },
   {
    "duration": 4,
    "start_time": "2024-10-20T16:39:16.645Z"
   },
   {
    "duration": 4,
    "start_time": "2024-10-20T16:39:16.650Z"
   },
   {
    "duration": 5,
    "start_time": "2024-10-20T16:39:16.656Z"
   },
   {
    "duration": 4,
    "start_time": "2024-10-20T16:39:16.663Z"
   },
   {
    "duration": 207,
    "start_time": "2024-10-20T16:39:16.669Z"
   },
   {
    "duration": 123,
    "start_time": "2024-10-20T16:39:16.878Z"
   },
   {
    "duration": 203,
    "start_time": "2024-10-20T16:39:17.003Z"
   },
   {
    "duration": 675,
    "start_time": "2024-10-20T16:39:17.208Z"
   },
   {
    "duration": 12,
    "start_time": "2024-10-20T16:39:17.884Z"
   },
   {
    "duration": 465,
    "start_time": "2024-10-20T16:39:17.897Z"
   },
   {
    "duration": 440,
    "start_time": "2024-10-20T16:43:55.478Z"
   },
   {
    "duration": 173,
    "start_time": "2024-10-20T16:43:55.920Z"
   },
   {
    "duration": 36,
    "start_time": "2024-10-20T16:43:56.095Z"
   },
   {
    "duration": 13,
    "start_time": "2024-10-20T16:43:56.133Z"
   },
   {
    "duration": 5,
    "start_time": "2024-10-20T16:43:56.149Z"
   },
   {
    "duration": 733,
    "start_time": "2024-10-20T16:43:56.157Z"
   },
   {
    "duration": 7,
    "start_time": "2024-10-20T16:43:56.892Z"
   },
   {
    "duration": 4,
    "start_time": "2024-10-20T16:43:56.900Z"
   },
   {
    "duration": 4,
    "start_time": "2024-10-20T16:43:56.907Z"
   },
   {
    "duration": 29,
    "start_time": "2024-10-20T16:43:56.914Z"
   },
   {
    "duration": 4,
    "start_time": "2024-10-20T16:43:56.945Z"
   },
   {
    "duration": 110,
    "start_time": "2024-10-20T16:43:56.950Z"
   },
   {
    "duration": 110,
    "start_time": "2024-10-20T16:43:57.062Z"
   },
   {
    "duration": 16,
    "start_time": "2024-10-20T16:43:57.175Z"
   },
   {
    "duration": 122,
    "start_time": "2024-10-20T16:43:57.193Z"
   },
   {
    "duration": 95,
    "start_time": "2024-10-20T16:43:57.317Z"
   },
   {
    "duration": 54,
    "start_time": "2024-10-20T16:43:57.413Z"
   },
   {
    "duration": 14,
    "start_time": "2024-10-20T16:43:57.468Z"
   },
   {
    "duration": 5,
    "start_time": "2024-10-20T16:43:57.484Z"
   },
   {
    "duration": 14,
    "start_time": "2024-10-20T16:43:57.490Z"
   },
   {
    "duration": 9,
    "start_time": "2024-10-20T16:43:57.506Z"
   },
   {
    "duration": 37,
    "start_time": "2024-10-20T16:43:57.517Z"
   },
   {
    "duration": 4,
    "start_time": "2024-10-20T16:43:57.556Z"
   },
   {
    "duration": 4,
    "start_time": "2024-10-20T16:43:57.563Z"
   },
   {
    "duration": 4,
    "start_time": "2024-10-20T16:43:57.569Z"
   },
   {
    "duration": 4,
    "start_time": "2024-10-20T16:43:57.575Z"
   },
   {
    "duration": 797,
    "start_time": "2024-10-20T16:43:57.580Z"
   },
   {
    "duration": 224,
    "start_time": "2024-10-20T16:43:58.379Z"
   },
   {
    "duration": 173,
    "start_time": "2024-10-20T16:43:58.604Z"
   },
   {
    "duration": 11,
    "start_time": "2024-10-20T16:43:58.778Z"
   },
   {
    "duration": 7,
    "start_time": "2024-10-20T16:43:58.791Z"
   },
   {
    "duration": 8,
    "start_time": "2024-10-20T16:43:58.800Z"
   },
   {
    "duration": 7,
    "start_time": "2024-10-20T16:43:58.809Z"
   },
   {
    "duration": 7,
    "start_time": "2024-10-20T16:43:58.844Z"
   },
   {
    "duration": 5,
    "start_time": "2024-10-20T16:43:58.852Z"
   },
   {
    "duration": 7,
    "start_time": "2024-10-20T16:43:58.859Z"
   },
   {
    "duration": 7,
    "start_time": "2024-10-20T16:43:58.867Z"
   },
   {
    "duration": 5,
    "start_time": "2024-10-20T16:43:58.876Z"
   },
   {
    "duration": 17,
    "start_time": "2024-10-20T16:43:58.884Z"
   },
   {
    "duration": 67,
    "start_time": "2024-10-20T16:43:58.902Z"
   },
   {
    "duration": 12,
    "start_time": "2024-10-20T16:43:58.974Z"
   },
   {
    "duration": 3,
    "start_time": "2024-10-20T16:43:58.987Z"
   },
   {
    "duration": 10,
    "start_time": "2024-10-20T16:43:58.991Z"
   },
   {
    "duration": 6,
    "start_time": "2024-10-20T16:43:59.003Z"
   },
   {
    "duration": 95,
    "start_time": "2024-10-20T16:43:59.011Z"
   },
   {
    "duration": 13,
    "start_time": "2024-10-20T16:43:59.108Z"
   },
   {
    "duration": 36,
    "start_time": "2024-10-20T16:43:59.123Z"
   },
   {
    "duration": 4,
    "start_time": "2024-10-20T16:43:59.161Z"
   },
   {
    "duration": 4,
    "start_time": "2024-10-20T16:43:59.166Z"
   },
   {
    "duration": 4,
    "start_time": "2024-10-20T16:43:59.172Z"
   },
   {
    "duration": 3,
    "start_time": "2024-10-20T16:43:59.178Z"
   },
   {
    "duration": 233,
    "start_time": "2024-10-20T16:43:59.183Z"
   },
   {
    "duration": 125,
    "start_time": "2024-10-20T16:43:59.418Z"
   },
   {
    "duration": 205,
    "start_time": "2024-10-20T16:43:59.545Z"
   },
   {
    "duration": 668,
    "start_time": "2024-10-20T16:43:59.752Z"
   },
   {
    "duration": 21,
    "start_time": "2024-10-20T16:44:00.422Z"
   },
   {
    "duration": 474,
    "start_time": "2024-10-20T16:44:00.445Z"
   },
   {
    "duration": 199,
    "start_time": "2024-10-20T16:44:00.921Z"
   },
   {
    "duration": 0,
    "start_time": "2024-10-20T16:44:01.122Z"
   },
   {
    "duration": 14,
    "start_time": "2024-10-20T16:44:55.448Z"
   },
   {
    "duration": 517,
    "start_time": "2024-10-20T16:45:28.855Z"
   },
   {
    "duration": 4,
    "start_time": "2024-10-20T16:45:31.136Z"
   },
   {
    "duration": 101,
    "start_time": "2024-10-20T16:45:32.596Z"
   },
   {
    "duration": 211,
    "start_time": "2024-10-20T16:45:51.992Z"
   },
   {
    "duration": 264,
    "start_time": "2024-10-20T16:46:52.329Z"
   },
   {
    "duration": 11,
    "start_time": "2024-10-20T16:53:00.313Z"
   },
   {
    "duration": 6,
    "start_time": "2024-10-20T16:53:16.392Z"
   },
   {
    "duration": 109,
    "start_time": "2024-10-20T16:53:41.635Z"
   },
   {
    "duration": 122,
    "start_time": "2024-10-20T16:54:55.004Z"
   },
   {
    "duration": 6,
    "start_time": "2024-10-20T16:58:51.720Z"
   },
   {
    "duration": 4,
    "start_time": "2024-10-20T16:59:23.877Z"
   },
   {
    "duration": 217,
    "start_time": "2024-10-20T16:59:36.450Z"
   },
   {
    "duration": 6,
    "start_time": "2024-10-20T17:01:00.509Z"
   },
   {
    "duration": 4,
    "start_time": "2024-10-20T17:01:25.807Z"
   },
   {
    "duration": 4,
    "start_time": "2024-10-20T17:01:36.851Z"
   },
   {
    "duration": 238,
    "start_time": "2024-10-20T17:01:49.606Z"
   },
   {
    "duration": 237,
    "start_time": "2024-10-20T17:02:40.256Z"
   },
   {
    "duration": 246,
    "start_time": "2024-10-20T17:02:48.033Z"
   },
   {
    "duration": 301,
    "start_time": "2024-10-20T17:03:24.925Z"
   },
   {
    "duration": 2164,
    "start_time": "2024-10-20T20:16:20.947Z"
   },
   {
    "duration": 145,
    "start_time": "2024-10-20T20:16:23.113Z"
   },
   {
    "duration": 53,
    "start_time": "2024-10-20T20:16:23.260Z"
   },
   {
    "duration": 7,
    "start_time": "2024-10-20T20:16:23.314Z"
   },
   {
    "duration": 7,
    "start_time": "2024-10-20T20:16:23.323Z"
   },
   {
    "duration": 828,
    "start_time": "2024-10-20T20:16:23.332Z"
   },
   {
    "duration": 6,
    "start_time": "2024-10-20T20:16:24.161Z"
   },
   {
    "duration": 4,
    "start_time": "2024-10-20T20:16:24.170Z"
   },
   {
    "duration": 4,
    "start_time": "2024-10-20T20:16:24.176Z"
   },
   {
    "duration": 27,
    "start_time": "2024-10-20T20:16:24.182Z"
   },
   {
    "duration": 4,
    "start_time": "2024-10-20T20:16:24.211Z"
   },
   {
    "duration": 127,
    "start_time": "2024-10-20T20:16:24.217Z"
   },
   {
    "duration": 111,
    "start_time": "2024-10-20T20:16:24.346Z"
   },
   {
    "duration": 11,
    "start_time": "2024-10-20T20:16:24.461Z"
   },
   {
    "duration": 126,
    "start_time": "2024-10-20T20:16:24.473Z"
   },
   {
    "duration": 91,
    "start_time": "2024-10-20T20:16:24.601Z"
   },
   {
    "duration": 54,
    "start_time": "2024-10-20T20:16:24.694Z"
   },
   {
    "duration": 14,
    "start_time": "2024-10-20T20:16:24.750Z"
   },
   {
    "duration": 7,
    "start_time": "2024-10-20T20:16:24.765Z"
   },
   {
    "duration": 35,
    "start_time": "2024-10-20T20:16:24.774Z"
   },
   {
    "duration": 13,
    "start_time": "2024-10-20T20:16:24.811Z"
   },
   {
    "duration": 12,
    "start_time": "2024-10-20T20:16:24.826Z"
   },
   {
    "duration": 4,
    "start_time": "2024-10-20T20:16:24.840Z"
   },
   {
    "duration": 5,
    "start_time": "2024-10-20T20:16:24.845Z"
   },
   {
    "duration": 4,
    "start_time": "2024-10-20T20:16:24.852Z"
   },
   {
    "duration": 4,
    "start_time": "2024-10-20T20:16:24.858Z"
   },
   {
    "duration": 821,
    "start_time": "2024-10-20T20:16:24.864Z"
   },
   {
    "duration": 249,
    "start_time": "2024-10-20T20:16:25.686Z"
   },
   {
    "duration": 185,
    "start_time": "2024-10-20T20:16:25.937Z"
   },
   {
    "duration": 11,
    "start_time": "2024-10-20T20:16:26.124Z"
   },
   {
    "duration": 8,
    "start_time": "2024-10-20T20:16:26.137Z"
   },
   {
    "duration": 8,
    "start_time": "2024-10-20T20:16:26.146Z"
   },
   {
    "duration": 5,
    "start_time": "2024-10-20T20:16:26.156Z"
   },
   {
    "duration": 7,
    "start_time": "2024-10-20T20:16:26.163Z"
   },
   {
    "duration": 6,
    "start_time": "2024-10-20T20:16:26.208Z"
   },
   {
    "duration": 11,
    "start_time": "2024-10-20T20:16:26.216Z"
   },
   {
    "duration": 8,
    "start_time": "2024-10-20T20:16:26.229Z"
   },
   {
    "duration": 8,
    "start_time": "2024-10-20T20:16:26.238Z"
   },
   {
    "duration": 17,
    "start_time": "2024-10-20T20:16:26.248Z"
   },
   {
    "duration": 60,
    "start_time": "2024-10-20T20:16:26.267Z"
   },
   {
    "duration": 12,
    "start_time": "2024-10-20T20:16:26.332Z"
   },
   {
    "duration": 2,
    "start_time": "2024-10-20T20:16:26.346Z"
   },
   {
    "duration": 9,
    "start_time": "2024-10-20T20:16:26.350Z"
   },
   {
    "duration": 6,
    "start_time": "2024-10-20T20:16:26.361Z"
   },
   {
    "duration": 91,
    "start_time": "2024-10-20T20:16:26.369Z"
   },
   {
    "duration": 10,
    "start_time": "2024-10-20T20:16:26.462Z"
   },
   {
    "duration": 18,
    "start_time": "2024-10-20T20:16:26.474Z"
   },
   {
    "duration": 5,
    "start_time": "2024-10-20T20:16:26.509Z"
   },
   {
    "duration": 4,
    "start_time": "2024-10-20T20:16:26.515Z"
   },
   {
    "duration": 5,
    "start_time": "2024-10-20T20:16:26.521Z"
   },
   {
    "duration": 4,
    "start_time": "2024-10-20T20:16:26.527Z"
   },
   {
    "duration": 211,
    "start_time": "2024-10-20T20:16:26.533Z"
   },
   {
    "duration": 166,
    "start_time": "2024-10-20T20:16:26.746Z"
   },
   {
    "duration": 207,
    "start_time": "2024-10-20T20:16:26.914Z"
   },
   {
    "duration": 9,
    "start_time": "2024-10-20T20:16:27.123Z"
   },
   {
    "duration": 5,
    "start_time": "2024-10-20T20:16:27.133Z"
   },
   {
    "duration": 3,
    "start_time": "2024-10-20T20:16:27.139Z"
   },
   {
    "duration": 269,
    "start_time": "2024-10-20T20:16:27.144Z"
   },
   {
    "duration": 662,
    "start_time": "2024-10-20T20:16:27.415Z"
   },
   {
    "duration": 460,
    "start_time": "2024-10-20T20:16:28.079Z"
   },
   {
    "duration": 3,
    "start_time": "2024-10-20T20:16:28.541Z"
   },
   {
    "duration": 243,
    "start_time": "2024-10-20T20:16:28.546Z"
   },
   {
    "duration": 9,
    "start_time": "2024-10-20T20:20:48.481Z"
   },
   {
    "duration": 14,
    "start_time": "2024-10-20T20:24:01.118Z"
   },
   {
    "duration": 4,
    "start_time": "2024-10-20T20:24:19.027Z"
   },
   {
    "duration": 202,
    "start_time": "2024-10-20T20:24:31.309Z"
   },
   {
    "duration": 166,
    "start_time": "2024-10-20T20:25:52.409Z"
   },
   {
    "duration": 182,
    "start_time": "2024-10-20T20:25:59.157Z"
   },
   {
    "duration": 168,
    "start_time": "2024-10-20T20:26:21.515Z"
   },
   {
    "duration": 161,
    "start_time": "2024-10-20T20:26:47.854Z"
   },
   {
    "duration": 214,
    "start_time": "2024-10-20T20:26:53.789Z"
   },
   {
    "duration": 182,
    "start_time": "2024-10-20T20:27:02.759Z"
   },
   {
    "duration": 171,
    "start_time": "2024-10-20T20:27:15.010Z"
   },
   {
    "duration": 6,
    "start_time": "2024-10-20T20:28:12.737Z"
   },
   {
    "duration": 3,
    "start_time": "2024-10-20T20:28:17.661Z"
   },
   {
    "duration": 115,
    "start_time": "2024-10-20T20:28:22.520Z"
   },
   {
    "duration": 4,
    "start_time": "2024-10-20T20:28:28.508Z"
   },
   {
    "duration": 113,
    "start_time": "2024-10-20T20:28:39.353Z"
   },
   {
    "duration": 165,
    "start_time": "2024-10-20T20:28:47.854Z"
   },
   {
    "duration": 4,
    "start_time": "2024-10-20T20:29:19.626Z"
   },
   {
    "duration": 173,
    "start_time": "2024-10-20T20:29:23.620Z"
   },
   {
    "duration": 201,
    "start_time": "2024-10-20T20:30:24.220Z"
   },
   {
    "duration": 171,
    "start_time": "2024-10-20T20:30:59.163Z"
   },
   {
    "duration": 5,
    "start_time": "2024-10-20T20:32:40.150Z"
   },
   {
    "duration": 868,
    "start_time": "2024-10-20T20:32:43.482Z"
   },
   {
    "duration": 172,
    "start_time": "2024-10-20T20:33:11.627Z"
   },
   {
    "duration": 171,
    "start_time": "2024-10-20T20:33:26.169Z"
   },
   {
    "duration": 177,
    "start_time": "2024-10-20T20:34:23.695Z"
   },
   {
    "duration": 171,
    "start_time": "2024-10-20T20:34:33.143Z"
   },
   {
    "duration": 173,
    "start_time": "2024-10-20T20:35:11.566Z"
   },
   {
    "duration": 173,
    "start_time": "2024-10-20T20:36:45.852Z"
   },
   {
    "duration": 174,
    "start_time": "2024-10-20T20:36:49.305Z"
   },
   {
    "duration": 171,
    "start_time": "2024-10-20T20:36:54.153Z"
   },
   {
    "duration": 272,
    "start_time": "2024-10-20T20:37:07.317Z"
   },
   {
    "duration": 289,
    "start_time": "2024-10-20T20:39:21.754Z"
   },
   {
    "duration": 189,
    "start_time": "2024-10-20T20:39:33.534Z"
   },
   {
    "duration": 174,
    "start_time": "2024-10-20T20:40:08.292Z"
   },
   {
    "duration": 4,
    "start_time": "2024-10-20T20:40:21.426Z"
   },
   {
    "duration": 180,
    "start_time": "2024-10-20T20:40:26.415Z"
   },
   {
    "duration": 173,
    "start_time": "2024-10-20T20:41:08.201Z"
   },
   {
    "duration": 2298,
    "start_time": "2024-10-20T21:09:48.860Z"
   },
   {
    "duration": 151,
    "start_time": "2024-10-20T21:09:51.161Z"
   },
   {
    "duration": 54,
    "start_time": "2024-10-20T21:09:51.313Z"
   },
   {
    "duration": 6,
    "start_time": "2024-10-20T21:09:51.369Z"
   },
   {
    "duration": 7,
    "start_time": "2024-10-20T21:09:51.378Z"
   },
   {
    "duration": 792,
    "start_time": "2024-10-20T21:09:51.387Z"
   },
   {
    "duration": 6,
    "start_time": "2024-10-20T21:09:52.181Z"
   },
   {
    "duration": 4,
    "start_time": "2024-10-20T21:09:52.189Z"
   },
   {
    "duration": 4,
    "start_time": "2024-10-20T21:09:52.195Z"
   },
   {
    "duration": 5,
    "start_time": "2024-10-20T21:09:52.201Z"
   },
   {
    "duration": 34,
    "start_time": "2024-10-20T21:09:52.208Z"
   },
   {
    "duration": 101,
    "start_time": "2024-10-20T21:09:52.243Z"
   },
   {
    "duration": 108,
    "start_time": "2024-10-20T21:09:52.346Z"
   },
   {
    "duration": 13,
    "start_time": "2024-10-20T21:09:52.458Z"
   },
   {
    "duration": 123,
    "start_time": "2024-10-20T21:09:52.472Z"
   },
   {
    "duration": 95,
    "start_time": "2024-10-20T21:09:52.597Z"
   },
   {
    "duration": 61,
    "start_time": "2024-10-20T21:09:52.694Z"
   },
   {
    "duration": 15,
    "start_time": "2024-10-20T21:09:52.758Z"
   },
   {
    "duration": 7,
    "start_time": "2024-10-20T21:09:52.775Z"
   },
   {
    "duration": 15,
    "start_time": "2024-10-20T21:09:52.784Z"
   },
   {
    "duration": 43,
    "start_time": "2024-10-20T21:09:52.801Z"
   },
   {
    "duration": 16,
    "start_time": "2024-10-20T21:09:52.846Z"
   },
   {
    "duration": 5,
    "start_time": "2024-10-20T21:09:52.864Z"
   },
   {
    "duration": 5,
    "start_time": "2024-10-20T21:09:52.871Z"
   },
   {
    "duration": 5,
    "start_time": "2024-10-20T21:09:52.878Z"
   },
   {
    "duration": 4,
    "start_time": "2024-10-20T21:09:52.885Z"
   },
   {
    "duration": 923,
    "start_time": "2024-10-20T21:09:52.891Z"
   },
   {
    "duration": 277,
    "start_time": "2024-10-20T21:09:53.816Z"
   },
   {
    "duration": 171,
    "start_time": "2024-10-20T21:09:54.095Z"
   },
   {
    "duration": 10,
    "start_time": "2024-10-20T21:09:54.268Z"
   },
   {
    "duration": 7,
    "start_time": "2024-10-20T21:09:54.281Z"
   },
   {
    "duration": 7,
    "start_time": "2024-10-20T21:09:54.290Z"
   },
   {
    "duration": 6,
    "start_time": "2024-10-20T21:09:54.299Z"
   },
   {
    "duration": 39,
    "start_time": "2024-10-20T21:09:54.307Z"
   },
   {
    "duration": 6,
    "start_time": "2024-10-20T21:09:54.348Z"
   },
   {
    "duration": 7,
    "start_time": "2024-10-20T21:09:54.355Z"
   },
   {
    "duration": 7,
    "start_time": "2024-10-20T21:09:54.364Z"
   },
   {
    "duration": 6,
    "start_time": "2024-10-20T21:09:54.375Z"
   },
   {
    "duration": 17,
    "start_time": "2024-10-20T21:09:54.383Z"
   },
   {
    "duration": 69,
    "start_time": "2024-10-20T21:09:54.402Z"
   },
   {
    "duration": 12,
    "start_time": "2024-10-20T21:09:54.477Z"
   },
   {
    "duration": 2,
    "start_time": "2024-10-20T21:09:54.491Z"
   },
   {
    "duration": 10,
    "start_time": "2024-10-20T21:09:54.494Z"
   },
   {
    "duration": 6,
    "start_time": "2024-10-20T21:09:54.505Z"
   },
   {
    "duration": 92,
    "start_time": "2024-10-20T21:09:54.513Z"
   },
   {
    "duration": 11,
    "start_time": "2024-10-20T21:09:54.607Z"
   },
   {
    "duration": 32,
    "start_time": "2024-10-20T21:09:54.619Z"
   },
   {
    "duration": 4,
    "start_time": "2024-10-20T21:09:54.653Z"
   },
   {
    "duration": 5,
    "start_time": "2024-10-20T21:09:54.658Z"
   },
   {
    "duration": 4,
    "start_time": "2024-10-20T21:09:54.666Z"
   },
   {
    "duration": 3,
    "start_time": "2024-10-20T21:09:54.672Z"
   },
   {
    "duration": 216,
    "start_time": "2024-10-20T21:09:54.677Z"
   },
   {
    "duration": 125,
    "start_time": "2024-10-20T21:09:54.895Z"
   },
   {
    "duration": 222,
    "start_time": "2024-10-20T21:09:55.022Z"
   },
   {
    "duration": 9,
    "start_time": "2024-10-20T21:09:55.246Z"
   },
   {
    "duration": 5,
    "start_time": "2024-10-20T21:09:55.257Z"
   },
   {
    "duration": 3,
    "start_time": "2024-10-20T21:09:55.264Z"
   },
   {
    "duration": 291,
    "start_time": "2024-10-20T21:09:55.269Z"
   },
   {
    "duration": 16,
    "start_time": "2024-10-20T21:09:55.562Z"
   },
   {
    "duration": 4,
    "start_time": "2024-10-20T21:09:55.580Z"
   },
   {
    "duration": 198,
    "start_time": "2024-10-20T21:09:55.586Z"
   },
   {
    "duration": 707,
    "start_time": "2024-10-20T21:09:55.786Z"
   },
   {
    "duration": 464,
    "start_time": "2024-10-20T21:09:56.495Z"
   },
   {
    "duration": 3,
    "start_time": "2024-10-20T21:09:56.960Z"
   },
   {
    "duration": 235,
    "start_time": "2024-10-20T21:09:56.964Z"
   },
   {
    "duration": 133,
    "start_time": "2024-10-20T21:10:57.137Z"
   },
   {
    "duration": 175,
    "start_time": "2024-10-20T21:11:06.071Z"
   },
   {
    "duration": 154,
    "start_time": "2024-10-21T05:00:04.139Z"
   },
   {
    "duration": 2101,
    "start_time": "2024-10-21T05:00:12.277Z"
   },
   {
    "duration": 152,
    "start_time": "2024-10-21T05:00:14.380Z"
   },
   {
    "duration": 52,
    "start_time": "2024-10-21T05:00:14.533Z"
   },
   {
    "duration": 8,
    "start_time": "2024-10-21T05:00:14.588Z"
   },
   {
    "duration": 8,
    "start_time": "2024-10-21T05:00:14.597Z"
   },
   {
    "duration": 824,
    "start_time": "2024-10-21T05:00:14.607Z"
   },
   {
    "duration": 7,
    "start_time": "2024-10-21T05:00:15.433Z"
   },
   {
    "duration": 4,
    "start_time": "2024-10-21T05:00:15.443Z"
   },
   {
    "duration": 5,
    "start_time": "2024-10-21T05:00:15.449Z"
   },
   {
    "duration": 4,
    "start_time": "2024-10-21T05:00:15.457Z"
   },
   {
    "duration": 4,
    "start_time": "2024-10-21T05:00:15.463Z"
   },
   {
    "duration": 130,
    "start_time": "2024-10-21T05:00:15.469Z"
   },
   {
    "duration": 104,
    "start_time": "2024-10-21T05:00:15.601Z"
   },
   {
    "duration": 15,
    "start_time": "2024-10-21T05:00:15.706Z"
   },
   {
    "duration": 118,
    "start_time": "2024-10-21T05:00:15.723Z"
   },
   {
    "duration": 90,
    "start_time": "2024-10-21T05:00:15.843Z"
   },
   {
    "duration": 45,
    "start_time": "2024-10-21T05:00:15.935Z"
   },
   {
    "duration": 12,
    "start_time": "2024-10-21T05:00:15.981Z"
   },
   {
    "duration": 6,
    "start_time": "2024-10-21T05:00:16.011Z"
   },
   {
    "duration": 15,
    "start_time": "2024-10-21T05:00:16.018Z"
   },
   {
    "duration": 9,
    "start_time": "2024-10-21T05:00:16.034Z"
   },
   {
    "duration": 13,
    "start_time": "2024-10-21T05:00:16.044Z"
   },
   {
    "duration": 9,
    "start_time": "2024-10-21T05:00:16.059Z"
   },
   {
    "duration": 5,
    "start_time": "2024-10-21T05:00:16.069Z"
   },
   {
    "duration": 36,
    "start_time": "2024-10-21T05:00:16.075Z"
   },
   {
    "duration": 4,
    "start_time": "2024-10-21T05:00:16.113Z"
   },
   {
    "duration": 743,
    "start_time": "2024-10-21T05:00:16.119Z"
   },
   {
    "duration": 214,
    "start_time": "2024-10-21T05:00:16.868Z"
   },
   {
    "duration": 161,
    "start_time": "2024-10-21T05:00:17.083Z"
   },
   {
    "duration": 11,
    "start_time": "2024-10-21T05:00:17.245Z"
   },
   {
    "duration": 6,
    "start_time": "2024-10-21T05:00:17.258Z"
   },
   {
    "duration": 7,
    "start_time": "2024-10-21T05:00:17.266Z"
   },
   {
    "duration": 6,
    "start_time": "2024-10-21T05:00:17.274Z"
   },
   {
    "duration": 32,
    "start_time": "2024-10-21T05:00:17.282Z"
   },
   {
    "duration": 5,
    "start_time": "2024-10-21T05:00:17.315Z"
   },
   {
    "duration": 7,
    "start_time": "2024-10-21T05:00:17.321Z"
   },
   {
    "duration": 7,
    "start_time": "2024-10-21T05:00:17.329Z"
   },
   {
    "duration": 6,
    "start_time": "2024-10-21T05:00:17.338Z"
   },
   {
    "duration": 17,
    "start_time": "2024-10-21T05:00:17.346Z"
   },
   {
    "duration": 63,
    "start_time": "2024-10-21T05:00:17.364Z"
   },
   {
    "duration": 11,
    "start_time": "2024-10-21T05:00:17.429Z"
   },
   {
    "duration": 2,
    "start_time": "2024-10-21T05:00:17.442Z"
   },
   {
    "duration": 8,
    "start_time": "2024-10-21T05:00:17.445Z"
   },
   {
    "duration": 6,
    "start_time": "2024-10-21T05:00:17.455Z"
   },
   {
    "duration": 91,
    "start_time": "2024-10-21T05:00:17.462Z"
   },
   {
    "duration": 10,
    "start_time": "2024-10-21T05:00:17.554Z"
   },
   {
    "duration": 18,
    "start_time": "2024-10-21T05:00:17.566Z"
   },
   {
    "duration": 5,
    "start_time": "2024-10-21T05:00:17.586Z"
   },
   {
    "duration": 21,
    "start_time": "2024-10-21T05:00:17.592Z"
   },
   {
    "duration": 4,
    "start_time": "2024-10-21T05:00:17.614Z"
   },
   {
    "duration": 3,
    "start_time": "2024-10-21T05:00:17.620Z"
   },
   {
    "duration": 236,
    "start_time": "2024-10-21T05:00:17.625Z"
   },
   {
    "duration": 120,
    "start_time": "2024-10-21T05:00:17.863Z"
   },
   {
    "duration": 205,
    "start_time": "2024-10-21T05:00:17.986Z"
   },
   {
    "duration": 18,
    "start_time": "2024-10-21T05:00:18.193Z"
   },
   {
    "duration": 5,
    "start_time": "2024-10-21T05:00:18.213Z"
   },
   {
    "duration": 3,
    "start_time": "2024-10-21T05:00:18.220Z"
   },
   {
    "duration": 237,
    "start_time": "2024-10-21T05:00:18.225Z"
   },
   {
    "duration": 47,
    "start_time": "2024-10-21T05:00:18.464Z"
   },
   {
    "duration": 13,
    "start_time": "2024-10-21T05:00:18.513Z"
   },
   {
    "duration": 4,
    "start_time": "2024-10-21T05:00:18.527Z"
   },
   {
    "duration": 120,
    "start_time": "2024-10-21T05:00:18.533Z"
   },
   {
    "duration": 666,
    "start_time": "2024-10-21T05:00:18.655Z"
   },
   {
    "duration": 454,
    "start_time": "2024-10-21T05:00:19.323Z"
   },
   {
    "duration": 3,
    "start_time": "2024-10-21T05:00:19.778Z"
   },
   {
    "duration": 250,
    "start_time": "2024-10-21T05:00:19.782Z"
   },
   {
    "duration": 41,
    "start_time": "2024-10-21T05:02:25.866Z"
   },
   {
    "duration": 43,
    "start_time": "2024-10-21T05:02:37.321Z"
   },
   {
    "duration": 36,
    "start_time": "2024-10-21T05:03:21.817Z"
   },
   {
    "duration": 4,
    "start_time": "2024-10-21T05:03:33.663Z"
   },
   {
    "duration": 90,
    "start_time": "2024-10-21T05:03:52.860Z"
   },
   {
    "duration": 158,
    "start_time": "2024-10-21T05:04:03.591Z"
   },
   {
    "duration": 168,
    "start_time": "2024-10-21T05:04:13.776Z"
   },
   {
    "duration": 169,
    "start_time": "2024-10-21T05:05:06.239Z"
   },
   {
    "duration": 9,
    "start_time": "2024-10-21T05:07:24.414Z"
   },
   {
    "duration": 9,
    "start_time": "2024-10-21T05:15:04.419Z"
   },
   {
    "duration": 9,
    "start_time": "2024-10-21T05:15:14.412Z"
   },
   {
    "duration": 254,
    "start_time": "2024-10-21T05:17:18.867Z"
   },
   {
    "duration": 368,
    "start_time": "2024-10-21T05:18:20.456Z"
   },
   {
    "duration": 364,
    "start_time": "2024-10-21T05:18:30.377Z"
   },
   {
    "duration": 372,
    "start_time": "2024-10-21T05:18:47.401Z"
   },
   {
    "duration": 379,
    "start_time": "2024-10-21T05:20:10.441Z"
   },
   {
    "duration": 243,
    "start_time": "2024-10-21T05:20:50.461Z"
   },
   {
    "duration": 141,
    "start_time": "2024-10-21T05:20:53.243Z"
   },
   {
    "duration": 131,
    "start_time": "2024-10-21T05:20:59.415Z"
   },
   {
    "duration": 129,
    "start_time": "2024-10-21T05:21:08.563Z"
   },
   {
    "duration": 131,
    "start_time": "2024-10-21T05:21:18.204Z"
   },
   {
    "duration": 241,
    "start_time": "2024-10-21T05:21:27.928Z"
   },
   {
    "duration": 133,
    "start_time": "2024-10-21T05:21:30.450Z"
   },
   {
    "duration": 8,
    "start_time": "2024-10-21T23:21:59.112Z"
   },
   {
    "duration": 231,
    "start_time": "2024-10-21T23:22:10.351Z"
   },
   {
    "duration": 2331,
    "start_time": "2024-10-21T23:22:23.033Z"
   },
   {
    "duration": 153,
    "start_time": "2024-10-21T23:22:25.367Z"
   },
   {
    "duration": 53,
    "start_time": "2024-10-21T23:22:25.522Z"
   },
   {
    "duration": 7,
    "start_time": "2024-10-21T23:22:25.578Z"
   },
   {
    "duration": 6,
    "start_time": "2024-10-21T23:22:25.587Z"
   },
   {
    "duration": 873,
    "start_time": "2024-10-21T23:22:25.596Z"
   },
   {
    "duration": 6,
    "start_time": "2024-10-21T23:22:26.470Z"
   },
   {
    "duration": 5,
    "start_time": "2024-10-21T23:22:26.477Z"
   },
   {
    "duration": 3,
    "start_time": "2024-10-21T23:22:26.484Z"
   },
   {
    "duration": 3,
    "start_time": "2024-10-21T23:22:26.491Z"
   },
   {
    "duration": 4,
    "start_time": "2024-10-21T23:22:26.496Z"
   },
   {
    "duration": 120,
    "start_time": "2024-10-21T23:22:26.530Z"
   },
   {
    "duration": 135,
    "start_time": "2024-10-21T23:22:26.652Z"
   },
   {
    "duration": 11,
    "start_time": "2024-10-21T23:22:26.790Z"
   },
   {
    "duration": 122,
    "start_time": "2024-10-21T23:22:26.803Z"
   },
   {
    "duration": 120,
    "start_time": "2024-10-21T23:22:26.930Z"
   },
   {
    "duration": 46,
    "start_time": "2024-10-21T23:22:27.052Z"
   },
   {
    "duration": 15,
    "start_time": "2024-10-21T23:22:27.100Z"
   },
   {
    "duration": 6,
    "start_time": "2024-10-21T23:22:27.131Z"
   },
   {
    "duration": 16,
    "start_time": "2024-10-21T23:22:27.140Z"
   },
   {
    "duration": 9,
    "start_time": "2024-10-21T23:22:27.158Z"
   },
   {
    "duration": 16,
    "start_time": "2024-10-21T23:22:27.169Z"
   },
   {
    "duration": 4,
    "start_time": "2024-10-21T23:22:27.187Z"
   },
   {
    "duration": 5,
    "start_time": "2024-10-21T23:22:27.193Z"
   },
   {
    "duration": 37,
    "start_time": "2024-10-21T23:22:27.199Z"
   },
   {
    "duration": 4,
    "start_time": "2024-10-21T23:22:27.238Z"
   },
   {
    "duration": 918,
    "start_time": "2024-10-21T23:22:27.244Z"
   },
   {
    "duration": 276,
    "start_time": "2024-10-21T23:22:28.168Z"
   },
   {
    "duration": 201,
    "start_time": "2024-10-21T23:22:28.446Z"
   },
   {
    "duration": 13,
    "start_time": "2024-10-21T23:22:28.649Z"
   },
   {
    "duration": 11,
    "start_time": "2024-10-21T23:22:28.664Z"
   },
   {
    "duration": 9,
    "start_time": "2024-10-21T23:22:28.677Z"
   },
   {
    "duration": 8,
    "start_time": "2024-10-21T23:22:28.688Z"
   },
   {
    "duration": 38,
    "start_time": "2024-10-21T23:22:28.697Z"
   },
   {
    "duration": 7,
    "start_time": "2024-10-21T23:22:28.737Z"
   },
   {
    "duration": 8,
    "start_time": "2024-10-21T23:22:28.745Z"
   },
   {
    "duration": 8,
    "start_time": "2024-10-21T23:22:28.754Z"
   },
   {
    "duration": 7,
    "start_time": "2024-10-21T23:22:28.764Z"
   },
   {
    "duration": 18,
    "start_time": "2024-10-21T23:22:28.773Z"
   },
   {
    "duration": 65,
    "start_time": "2024-10-21T23:22:28.794Z"
   },
   {
    "duration": 14,
    "start_time": "2024-10-21T23:22:28.861Z"
   },
   {
    "duration": 2,
    "start_time": "2024-10-21T23:22:28.877Z"
   },
   {
    "duration": 9,
    "start_time": "2024-10-21T23:22:28.881Z"
   },
   {
    "duration": 7,
    "start_time": "2024-10-21T23:22:28.892Z"
   },
   {
    "duration": 93,
    "start_time": "2024-10-21T23:22:28.900Z"
   },
   {
    "duration": 12,
    "start_time": "2024-10-21T23:22:28.995Z"
   },
   {
    "duration": 42,
    "start_time": "2024-10-21T23:22:29.008Z"
   },
   {
    "duration": 5,
    "start_time": "2024-10-21T23:22:29.055Z"
   },
   {
    "duration": 4,
    "start_time": "2024-10-21T23:22:29.062Z"
   },
   {
    "duration": 6,
    "start_time": "2024-10-21T23:22:29.068Z"
   },
   {
    "duration": 5,
    "start_time": "2024-10-21T23:22:29.075Z"
   },
   {
    "duration": 243,
    "start_time": "2024-10-21T23:22:29.082Z"
   },
   {
    "duration": 130,
    "start_time": "2024-10-21T23:22:29.330Z"
   },
   {
    "duration": 220,
    "start_time": "2024-10-21T23:22:29.462Z"
   },
   {
    "duration": 11,
    "start_time": "2024-10-21T23:22:29.684Z"
   },
   {
    "duration": 5,
    "start_time": "2024-10-21T23:22:29.697Z"
   },
   {
    "duration": 5,
    "start_time": "2024-10-21T23:22:29.704Z"
   },
   {
    "duration": 328,
    "start_time": "2024-10-21T23:22:29.710Z"
   },
   {
    "duration": 18,
    "start_time": "2024-10-21T23:22:30.040Z"
   },
   {
    "duration": 5,
    "start_time": "2024-10-21T23:22:30.060Z"
   },
   {
    "duration": 206,
    "start_time": "2024-10-21T23:22:30.067Z"
   },
   {
    "duration": 705,
    "start_time": "2024-10-21T23:22:30.276Z"
   },
   {
    "duration": 477,
    "start_time": "2024-10-21T23:22:30.983Z"
   },
   {
    "duration": 3,
    "start_time": "2024-10-21T23:22:31.462Z"
   },
   {
    "duration": 238,
    "start_time": "2024-10-21T23:22:31.466Z"
   },
   {
    "duration": 292,
    "start_time": "2024-10-21T23:22:31.706Z"
   },
   {
    "duration": 140,
    "start_time": "2024-10-21T23:22:32.000Z"
   },
   {
    "duration": 0,
    "start_time": "2024-10-21T23:22:32.765Z"
   },
   {
    "duration": 58,
    "start_time": "2024-10-21T23:22:37.980Z"
   },
   {
    "duration": 17,
    "start_time": "2024-10-21T23:22:55.094Z"
   },
   {
    "duration": 142,
    "start_time": "2024-10-21T23:23:12.686Z"
   },
   {
    "duration": 5,
    "start_time": "2024-10-21T23:23:20.416Z"
   },
   {
    "duration": 4,
    "start_time": "2024-10-21T23:23:25.266Z"
   },
   {
    "duration": 137,
    "start_time": "2024-10-21T23:23:28.292Z"
   },
   {
    "duration": 3,
    "start_time": "2024-10-21T23:24:17.515Z"
   },
   {
    "duration": 373,
    "start_time": "2024-10-21T23:24:46.740Z"
   },
   {
    "duration": 474,
    "start_time": "2024-10-21T23:24:54.894Z"
   },
   {
    "duration": 425,
    "start_time": "2024-10-21T23:25:27.213Z"
   },
   {
    "duration": 559,
    "start_time": "2024-10-21T23:25:57.343Z"
   },
   {
    "duration": 35,
    "start_time": "2024-10-21T23:27:47.136Z"
   },
   {
    "duration": 24,
    "start_time": "2024-10-21T23:27:59.746Z"
   },
   {
    "duration": 426,
    "start_time": "2024-10-21T23:28:03.578Z"
   },
   {
    "duration": 2,
    "start_time": "2024-10-21T23:28:06.923Z"
   },
   {
    "duration": 9,
    "start_time": "2024-10-21T23:28:11.257Z"
   },
   {
    "duration": 1228,
    "start_time": "2024-10-21T23:28:24.850Z"
   },
   {
    "duration": 208,
    "start_time": "2024-10-21T23:28:51.090Z"
   },
   {
    "duration": 223,
    "start_time": "2024-10-21T23:32:38.506Z"
   },
   {
    "duration": 5,
    "start_time": "2024-10-21T23:32:52.198Z"
   },
   {
    "duration": 17,
    "start_time": "2024-10-21T23:34:34.164Z"
   },
   {
    "duration": 4,
    "start_time": "2024-10-21T23:34:41.926Z"
   },
   {
    "duration": 305,
    "start_time": "2024-10-21T23:34:43.222Z"
   },
   {
    "duration": 350,
    "start_time": "2024-10-21T23:46:01.129Z"
   },
   {
    "duration": 12,
    "start_time": "2024-10-22T00:22:44.367Z"
   },
   {
    "duration": 1832,
    "start_time": "2024-10-22T00:23:29.313Z"
   },
   {
    "duration": 479,
    "start_time": "2024-10-22T00:25:00.120Z"
   },
   {
    "duration": 472,
    "start_time": "2024-10-22T00:25:34.387Z"
   },
   {
    "duration": 477,
    "start_time": "2024-10-22T00:25:45.227Z"
   },
   {
    "duration": 457,
    "start_time": "2024-10-22T00:25:58.618Z"
   },
   {
    "duration": 11,
    "start_time": "2024-10-22T00:29:59.961Z"
   },
   {
    "duration": 11,
    "start_time": "2024-10-22T00:30:18.306Z"
   },
   {
    "duration": 18,
    "start_time": "2024-10-22T00:31:01.372Z"
   },
   {
    "duration": 9,
    "start_time": "2024-10-22T00:31:07.114Z"
   },
   {
    "duration": 1593,
    "start_time": "2024-10-22T00:32:02.320Z"
   },
   {
    "duration": 1565,
    "start_time": "2024-10-22T00:32:45.048Z"
   },
   {
    "duration": 40,
    "start_time": "2024-10-22T00:33:03.947Z"
   },
   {
    "duration": 14,
    "start_time": "2024-10-22T00:33:20.480Z"
   },
   {
    "duration": 41,
    "start_time": "2024-10-22T00:33:41.990Z"
   },
   {
    "duration": 41,
    "start_time": "2024-10-22T00:34:37.306Z"
   },
   {
    "duration": 13,
    "start_time": "2024-10-22T00:34:46.410Z"
   },
   {
    "duration": 12,
    "start_time": "2024-10-22T00:35:26.504Z"
   },
   {
    "duration": 41,
    "start_time": "2024-10-22T00:35:52.749Z"
   },
   {
    "duration": 1658,
    "start_time": "2024-10-22T00:36:24.088Z"
   },
   {
    "duration": 13,
    "start_time": "2024-10-22T00:38:53.331Z"
   },
   {
    "duration": 1651,
    "start_time": "2024-10-22T00:38:58.385Z"
   },
   {
    "duration": 846,
    "start_time": "2024-10-22T00:39:00.038Z"
   },
   {
    "duration": 9,
    "start_time": "2024-10-22T00:44:21.899Z"
   },
   {
    "duration": 9,
    "start_time": "2024-10-22T00:44:40.185Z"
   },
   {
    "duration": 4,
    "start_time": "2024-10-22T00:46:03.371Z"
   },
   {
    "duration": 453,
    "start_time": "2024-10-22T00:46:19.479Z"
   },
   {
    "duration": 9,
    "start_time": "2024-10-22T00:46:59.622Z"
   },
   {
    "duration": 15,
    "start_time": "2024-10-22T00:47:32.299Z"
   },
   {
    "duration": 8,
    "start_time": "2024-10-22T00:47:52.736Z"
   },
   {
    "duration": 5,
    "start_time": "2024-10-22T00:48:53.284Z"
   },
   {
    "duration": 460,
    "start_time": "2024-10-22T00:49:30.981Z"
   },
   {
    "duration": 189,
    "start_time": "2024-10-22T00:49:31.443Z"
   },
   {
    "duration": 51,
    "start_time": "2024-10-22T00:49:31.633Z"
   },
   {
    "duration": 5,
    "start_time": "2024-10-22T00:49:31.686Z"
   },
   {
    "duration": 5,
    "start_time": "2024-10-22T00:49:31.692Z"
   },
   {
    "duration": 812,
    "start_time": "2024-10-22T00:49:31.699Z"
   },
   {
    "duration": 7,
    "start_time": "2024-10-22T00:49:32.513Z"
   },
   {
    "duration": 6,
    "start_time": "2024-10-22T00:49:32.530Z"
   },
   {
    "duration": 4,
    "start_time": "2024-10-22T00:49:32.539Z"
   },
   {
    "duration": 5,
    "start_time": "2024-10-22T00:49:32.546Z"
   },
   {
    "duration": 5,
    "start_time": "2024-10-22T00:49:32.552Z"
   },
   {
    "duration": 128,
    "start_time": "2024-10-22T00:49:32.558Z"
   },
   {
    "duration": 105,
    "start_time": "2024-10-22T00:49:32.687Z"
   },
   {
    "duration": 10,
    "start_time": "2024-10-22T00:49:32.794Z"
   },
   {
    "duration": 125,
    "start_time": "2024-10-22T00:49:32.806Z"
   },
   {
    "duration": 90,
    "start_time": "2024-10-22T00:49:32.933Z"
   },
   {
    "duration": 49,
    "start_time": "2024-10-22T00:49:33.032Z"
   },
   {
    "duration": 14,
    "start_time": "2024-10-22T00:49:33.082Z"
   },
   {
    "duration": 6,
    "start_time": "2024-10-22T00:49:33.097Z"
   },
   {
    "duration": 31,
    "start_time": "2024-10-22T00:49:33.105Z"
   },
   {
    "duration": 10,
    "start_time": "2024-10-22T00:49:33.138Z"
   },
   {
    "duration": 13,
    "start_time": "2024-10-22T00:49:33.150Z"
   },
   {
    "duration": 5,
    "start_time": "2024-10-22T00:49:33.165Z"
   },
   {
    "duration": 5,
    "start_time": "2024-10-22T00:49:33.172Z"
   },
   {
    "duration": 4,
    "start_time": "2024-10-22T00:49:33.179Z"
   },
   {
    "duration": 4,
    "start_time": "2024-10-22T00:49:33.184Z"
   },
   {
    "duration": 836,
    "start_time": "2024-10-22T00:49:33.231Z"
   },
   {
    "duration": 245,
    "start_time": "2024-10-22T00:49:34.073Z"
   },
   {
    "duration": 178,
    "start_time": "2024-10-22T00:49:34.320Z"
   },
   {
    "duration": 11,
    "start_time": "2024-10-22T00:49:34.500Z"
   },
   {
    "duration": 19,
    "start_time": "2024-10-22T00:49:34.513Z"
   },
   {
    "duration": 9,
    "start_time": "2024-10-22T00:49:34.534Z"
   },
   {
    "duration": 6,
    "start_time": "2024-10-22T00:49:34.546Z"
   },
   {
    "duration": 6,
    "start_time": "2024-10-22T00:49:34.554Z"
   },
   {
    "duration": 6,
    "start_time": "2024-10-22T00:49:34.562Z"
   },
   {
    "duration": 7,
    "start_time": "2024-10-22T00:49:34.570Z"
   },
   {
    "duration": 8,
    "start_time": "2024-10-22T00:49:34.579Z"
   },
   {
    "duration": 47,
    "start_time": "2024-10-22T00:49:34.589Z"
   },
   {
    "duration": 18,
    "start_time": "2024-10-22T00:49:34.639Z"
   },
   {
    "duration": 33,
    "start_time": "2024-10-22T00:49:34.658Z"
   },
   {
    "duration": 12,
    "start_time": "2024-10-22T00:49:34.693Z"
   },
   {
    "duration": 25,
    "start_time": "2024-10-22T00:49:34.706Z"
   },
   {
    "duration": 9,
    "start_time": "2024-10-22T00:49:34.733Z"
   },
   {
    "duration": 6,
    "start_time": "2024-10-22T00:49:34.743Z"
   },
   {
    "duration": 81,
    "start_time": "2024-10-22T00:49:34.751Z"
   },
   {
    "duration": 11,
    "start_time": "2024-10-22T00:49:34.834Z"
   },
   {
    "duration": 19,
    "start_time": "2024-10-22T00:49:34.847Z"
   },
   {
    "duration": 4,
    "start_time": "2024-10-22T00:49:34.868Z"
   },
   {
    "duration": 3,
    "start_time": "2024-10-22T00:49:34.874Z"
   },
   {
    "duration": 4,
    "start_time": "2024-10-22T00:49:34.879Z"
   },
   {
    "duration": 3,
    "start_time": "2024-10-22T00:49:34.885Z"
   },
   {
    "duration": 233,
    "start_time": "2024-10-22T00:49:34.889Z"
   },
   {
    "duration": 117,
    "start_time": "2024-10-22T00:49:35.123Z"
   },
   {
    "duration": 206,
    "start_time": "2024-10-22T00:49:35.242Z"
   },
   {
    "duration": 10,
    "start_time": "2024-10-22T00:49:35.450Z"
   },
   {
    "duration": 5,
    "start_time": "2024-10-22T00:49:35.461Z"
   },
   {
    "duration": 4,
    "start_time": "2024-10-22T00:49:35.467Z"
   },
   {
    "duration": 250,
    "start_time": "2024-10-22T00:49:35.472Z"
   },
   {
    "duration": 21,
    "start_time": "2024-10-22T00:49:35.724Z"
   },
   {
    "duration": 4,
    "start_time": "2024-10-22T00:49:35.746Z"
   },
   {
    "duration": 200,
    "start_time": "2024-10-22T00:49:35.751Z"
   },
   {
    "duration": 661,
    "start_time": "2024-10-22T00:49:35.953Z"
   },
   {
    "duration": 484,
    "start_time": "2024-10-22T00:49:36.616Z"
   },
   {
    "duration": 3,
    "start_time": "2024-10-22T00:49:37.102Z"
   },
   {
    "duration": 233,
    "start_time": "2024-10-22T00:49:37.107Z"
   },
   {
    "duration": 266,
    "start_time": "2024-10-22T00:49:37.342Z"
   },
   {
    "duration": 149,
    "start_time": "2024-10-22T00:49:37.610Z"
   },
   {
    "duration": 454,
    "start_time": "2024-10-22T00:49:37.761Z"
   },
   {
    "duration": 3,
    "start_time": "2024-10-22T00:49:38.217Z"
   },
   {
    "duration": 266,
    "start_time": "2024-10-22T00:49:38.222Z"
   },
   {
    "duration": 477,
    "start_time": "2024-10-22T00:49:38.490Z"
   },
   {
    "duration": 1575,
    "start_time": "2024-10-22T00:49:38.969Z"
   },
   {
    "duration": 16,
    "start_time": "2024-10-22T00:49:40.545Z"
   },
   {
    "duration": 89,
    "start_time": "2024-10-22T00:49:40.563Z"
   },
   {
    "duration": 0,
    "start_time": "2024-10-22T00:49:40.654Z"
   },
   {
    "duration": 0,
    "start_time": "2024-10-22T00:49:40.655Z"
   },
   {
    "duration": 0,
    "start_time": "2024-10-22T00:49:40.656Z"
   },
   {
    "duration": 1687,
    "start_time": "2024-10-22T00:49:54.494Z"
   },
   {
    "duration": 194,
    "start_time": "2024-10-22T00:50:05.470Z"
   },
   {
    "duration": 157,
    "start_time": "2024-10-22T00:50:12.775Z"
   },
   {
    "duration": 473,
    "start_time": "2024-10-22T00:51:54.235Z"
   },
   {
    "duration": 186,
    "start_time": "2024-10-22T00:51:54.710Z"
   },
   {
    "duration": 53,
    "start_time": "2024-10-22T00:51:54.898Z"
   },
   {
    "duration": 6,
    "start_time": "2024-10-22T00:51:54.953Z"
   },
   {
    "duration": 5,
    "start_time": "2024-10-22T00:51:54.960Z"
   },
   {
    "duration": 837,
    "start_time": "2024-10-22T00:51:54.967Z"
   },
   {
    "duration": 5,
    "start_time": "2024-10-22T00:51:55.806Z"
   },
   {
    "duration": 4,
    "start_time": "2024-10-22T00:51:55.813Z"
   },
   {
    "duration": 4,
    "start_time": "2024-10-22T00:51:55.831Z"
   },
   {
    "duration": 4,
    "start_time": "2024-10-22T00:51:55.839Z"
   },
   {
    "duration": 4,
    "start_time": "2024-10-22T00:51:55.845Z"
   },
   {
    "duration": 125,
    "start_time": "2024-10-22T00:51:55.851Z"
   },
   {
    "duration": 114,
    "start_time": "2024-10-22T00:51:55.977Z"
   },
   {
    "duration": 10,
    "start_time": "2024-10-22T00:51:56.093Z"
   },
   {
    "duration": 126,
    "start_time": "2024-10-22T00:51:56.105Z"
   },
   {
    "duration": 98,
    "start_time": "2024-10-22T00:51:56.233Z"
   },
   {
    "duration": 45,
    "start_time": "2024-10-22T00:51:56.333Z"
   },
   {
    "duration": 13,
    "start_time": "2024-10-22T00:51:56.380Z"
   },
   {
    "duration": 6,
    "start_time": "2024-10-22T00:51:56.394Z"
   },
   {
    "duration": 37,
    "start_time": "2024-10-22T00:51:56.402Z"
   },
   {
    "duration": 9,
    "start_time": "2024-10-22T00:51:56.441Z"
   },
   {
    "duration": 26,
    "start_time": "2024-10-22T00:51:56.452Z"
   },
   {
    "duration": 4,
    "start_time": "2024-10-22T00:51:56.480Z"
   },
   {
    "duration": 4,
    "start_time": "2024-10-22T00:51:56.486Z"
   },
   {
    "duration": 4,
    "start_time": "2024-10-22T00:51:56.493Z"
   },
   {
    "duration": 4,
    "start_time": "2024-10-22T00:51:56.499Z"
   },
   {
    "duration": 766,
    "start_time": "2024-10-22T00:51:56.532Z"
   },
   {
    "duration": 209,
    "start_time": "2024-10-22T00:51:57.302Z"
   },
   {
    "duration": 219,
    "start_time": "2024-10-22T00:51:57.513Z"
   },
   {
    "duration": 13,
    "start_time": "2024-10-22T00:51:57.735Z"
   },
   {
    "duration": 8,
    "start_time": "2024-10-22T00:51:57.750Z"
   },
   {
    "duration": 8,
    "start_time": "2024-10-22T00:51:57.759Z"
   },
   {
    "duration": 5,
    "start_time": "2024-10-22T00:51:57.769Z"
   },
   {
    "duration": 6,
    "start_time": "2024-10-22T00:51:57.776Z"
   },
   {
    "duration": 4,
    "start_time": "2024-10-22T00:51:57.784Z"
   },
   {
    "duration": 44,
    "start_time": "2024-10-22T00:51:57.790Z"
   },
   {
    "duration": 8,
    "start_time": "2024-10-22T00:51:57.836Z"
   },
   {
    "duration": 7,
    "start_time": "2024-10-22T00:51:57.845Z"
   },
   {
    "duration": 17,
    "start_time": "2024-10-22T00:51:57.853Z"
   },
   {
    "duration": 32,
    "start_time": "2024-10-22T00:51:57.871Z"
   },
   {
    "duration": 15,
    "start_time": "2024-10-22T00:51:57.932Z"
   },
   {
    "duration": 3,
    "start_time": "2024-10-22T00:51:57.948Z"
   },
   {
    "duration": 16,
    "start_time": "2024-10-22T00:51:57.952Z"
   },
   {
    "duration": 6,
    "start_time": "2024-10-22T00:51:57.970Z"
   },
   {
    "duration": 80,
    "start_time": "2024-10-22T00:51:57.978Z"
   },
   {
    "duration": 10,
    "start_time": "2024-10-22T00:51:58.060Z"
   },
   {
    "duration": 20,
    "start_time": "2024-10-22T00:51:58.071Z"
   },
   {
    "duration": 4,
    "start_time": "2024-10-22T00:51:58.093Z"
   },
   {
    "duration": 3,
    "start_time": "2024-10-22T00:51:58.099Z"
   },
   {
    "duration": 28,
    "start_time": "2024-10-22T00:51:58.104Z"
   },
   {
    "duration": 5,
    "start_time": "2024-10-22T00:51:58.133Z"
   },
   {
    "duration": 195,
    "start_time": "2024-10-22T00:51:58.139Z"
   },
   {
    "duration": 122,
    "start_time": "2024-10-22T00:51:58.336Z"
   },
   {
    "duration": 207,
    "start_time": "2024-10-22T00:51:58.460Z"
   },
   {
    "duration": 8,
    "start_time": "2024-10-22T00:51:58.669Z"
   },
   {
    "duration": 5,
    "start_time": "2024-10-22T00:51:58.679Z"
   },
   {
    "duration": 3,
    "start_time": "2024-10-22T00:51:58.685Z"
   },
   {
    "duration": 248,
    "start_time": "2024-10-22T00:51:58.690Z"
   },
   {
    "duration": 15,
    "start_time": "2024-10-22T00:51:58.940Z"
   },
   {
    "duration": 3,
    "start_time": "2024-10-22T00:51:58.957Z"
   },
   {
    "duration": 189,
    "start_time": "2024-10-22T00:51:58.962Z"
   },
   {
    "duration": 685,
    "start_time": "2024-10-22T00:51:59.152Z"
   },
   {
    "duration": 466,
    "start_time": "2024-10-22T00:51:59.839Z"
   },
   {
    "duration": 3,
    "start_time": "2024-10-22T00:52:00.307Z"
   },
   {
    "duration": 240,
    "start_time": "2024-10-22T00:52:00.312Z"
   },
   {
    "duration": 308,
    "start_time": "2024-10-22T00:52:00.553Z"
   },
   {
    "duration": 142,
    "start_time": "2024-10-22T00:52:00.862Z"
   },
   {
    "duration": 437,
    "start_time": "2024-10-22T00:52:01.005Z"
   },
   {
    "duration": 3,
    "start_time": "2024-10-22T00:52:01.444Z"
   },
   {
    "duration": 256,
    "start_time": "2024-10-22T00:52:01.449Z"
   },
   {
    "duration": 484,
    "start_time": "2024-10-22T00:52:01.707Z"
   },
   {
    "duration": 1539,
    "start_time": "2024-10-22T00:52:02.192Z"
   },
   {
    "duration": 14,
    "start_time": "2024-10-22T00:52:03.733Z"
   },
   {
    "duration": 1751,
    "start_time": "2024-10-22T00:52:03.748Z"
   },
   {
    "duration": 0,
    "start_time": "2024-10-22T00:52:05.508Z"
   },
   {
    "duration": 9,
    "start_time": "2024-10-22T00:52:09.830Z"
   },
   {
    "duration": 9,
    "start_time": "2024-10-22T00:52:28.195Z"
   },
   {
    "duration": 9,
    "start_time": "2024-10-22T00:52:53.205Z"
   },
   {
    "duration": 127,
    "start_time": "2024-10-22T00:53:43.121Z"
   },
   {
    "duration": 18,
    "start_time": "2024-10-22T00:55:24.138Z"
   },
   {
    "duration": 12,
    "start_time": "2024-10-22T00:55:35.720Z"
   },
   {
    "duration": 11,
    "start_time": "2024-10-22T00:55:48.775Z"
   },
   {
    "duration": 414,
    "start_time": "2024-10-22T00:57:01.875Z"
   },
   {
    "duration": 179,
    "start_time": "2024-10-22T19:31:53.761Z"
   },
   {
    "duration": 2416,
    "start_time": "2024-10-22T19:32:08.446Z"
   },
   {
    "duration": 194,
    "start_time": "2024-10-22T19:32:10.864Z"
   },
   {
    "duration": 69,
    "start_time": "2024-10-22T19:32:11.060Z"
   },
   {
    "duration": 10,
    "start_time": "2024-10-22T19:32:11.131Z"
   },
   {
    "duration": 6,
    "start_time": "2024-10-22T19:32:11.142Z"
   },
   {
    "duration": 878,
    "start_time": "2024-10-22T19:32:11.149Z"
   },
   {
    "duration": 7,
    "start_time": "2024-10-22T19:32:12.029Z"
   },
   {
    "duration": 5,
    "start_time": "2024-10-22T19:32:12.041Z"
   },
   {
    "duration": 4,
    "start_time": "2024-10-22T19:32:12.047Z"
   },
   {
    "duration": 4,
    "start_time": "2024-10-22T19:32:12.054Z"
   },
   {
    "duration": 3,
    "start_time": "2024-10-22T19:32:12.060Z"
   },
   {
    "duration": 134,
    "start_time": "2024-10-22T19:32:12.065Z"
   },
   {
    "duration": 135,
    "start_time": "2024-10-22T19:32:12.201Z"
   },
   {
    "duration": 14,
    "start_time": "2024-10-22T19:32:12.337Z"
   },
   {
    "duration": 120,
    "start_time": "2024-10-22T19:32:12.353Z"
   },
   {
    "duration": 98,
    "start_time": "2024-10-22T19:32:12.475Z"
   },
   {
    "duration": 57,
    "start_time": "2024-10-22T19:32:12.575Z"
   },
   {
    "duration": 14,
    "start_time": "2024-10-22T19:32:12.633Z"
   },
   {
    "duration": 5,
    "start_time": "2024-10-22T19:32:12.648Z"
   },
   {
    "duration": 15,
    "start_time": "2024-10-22T19:32:12.655Z"
   },
   {
    "duration": 10,
    "start_time": "2024-10-22T19:32:12.672Z"
   },
   {
    "duration": 53,
    "start_time": "2024-10-22T19:32:12.684Z"
   },
   {
    "duration": 5,
    "start_time": "2024-10-22T19:32:12.738Z"
   },
   {
    "duration": 4,
    "start_time": "2024-10-22T19:32:12.745Z"
   },
   {
    "duration": 5,
    "start_time": "2024-10-22T19:32:12.750Z"
   },
   {
    "duration": 5,
    "start_time": "2024-10-22T19:32:12.756Z"
   },
   {
    "duration": 916,
    "start_time": "2024-10-22T19:32:12.762Z"
   },
   {
    "duration": 287,
    "start_time": "2024-10-22T19:32:13.683Z"
   },
   {
    "duration": 220,
    "start_time": "2024-10-22T19:32:13.973Z"
   },
   {
    "duration": 17,
    "start_time": "2024-10-22T19:32:14.195Z"
   },
   {
    "duration": 14,
    "start_time": "2024-10-22T19:32:14.214Z"
   },
   {
    "duration": 9,
    "start_time": "2024-10-22T19:32:14.229Z"
   },
   {
    "duration": 6,
    "start_time": "2024-10-22T19:32:14.240Z"
   },
   {
    "duration": 7,
    "start_time": "2024-10-22T19:32:14.248Z"
   },
   {
    "duration": 5,
    "start_time": "2024-10-22T19:32:14.257Z"
   },
   {
    "duration": 6,
    "start_time": "2024-10-22T19:32:14.264Z"
   },
   {
    "duration": 8,
    "start_time": "2024-10-22T19:32:14.272Z"
   },
   {
    "duration": 11,
    "start_time": "2024-10-22T19:32:14.309Z"
   },
   {
    "duration": 23,
    "start_time": "2024-10-22T19:32:14.321Z"
   },
   {
    "duration": 32,
    "start_time": "2024-10-22T19:32:14.346Z"
   },
   {
    "duration": 56,
    "start_time": "2024-10-22T19:32:14.380Z"
   },
   {
    "duration": 2,
    "start_time": "2024-10-22T19:32:14.438Z"
   },
   {
    "duration": 12,
    "start_time": "2024-10-22T19:32:14.442Z"
   },
   {
    "duration": 5,
    "start_time": "2024-10-22T19:32:14.456Z"
   },
   {
    "duration": 83,
    "start_time": "2024-10-22T19:32:14.463Z"
   },
   {
    "duration": 12,
    "start_time": "2024-10-22T19:32:14.548Z"
   },
   {
    "duration": 27,
    "start_time": "2024-10-22T19:32:14.562Z"
   },
   {
    "duration": 6,
    "start_time": "2024-10-22T19:32:14.591Z"
   },
   {
    "duration": 4,
    "start_time": "2024-10-22T19:32:14.599Z"
   },
   {
    "duration": 23,
    "start_time": "2024-10-22T19:32:14.605Z"
   },
   {
    "duration": 8,
    "start_time": "2024-10-22T19:32:14.641Z"
   },
   {
    "duration": 297,
    "start_time": "2024-10-22T19:32:14.651Z"
   },
   {
    "duration": 138,
    "start_time": "2024-10-22T19:32:14.950Z"
   },
   {
    "duration": 221,
    "start_time": "2024-10-22T19:32:15.090Z"
   },
   {
    "duration": 24,
    "start_time": "2024-10-22T19:32:15.313Z"
   },
   {
    "duration": 5,
    "start_time": "2024-10-22T19:32:15.338Z"
   },
   {
    "duration": 3,
    "start_time": "2024-10-22T19:32:15.344Z"
   },
   {
    "duration": 246,
    "start_time": "2024-10-22T19:32:15.349Z"
   },
   {
    "duration": 0,
    "start_time": "2024-10-22T19:32:15.846Z"
   },
   {
    "duration": 0,
    "start_time": "2024-10-22T19:32:15.848Z"
   },
   {
    "duration": 0,
    "start_time": "2024-10-22T19:32:15.849Z"
   },
   {
    "duration": 0,
    "start_time": "2024-10-22T19:32:15.850Z"
   },
   {
    "duration": 0,
    "start_time": "2024-10-22T19:32:15.851Z"
   },
   {
    "duration": 0,
    "start_time": "2024-10-22T19:32:15.853Z"
   },
   {
    "duration": 0,
    "start_time": "2024-10-22T19:32:15.855Z"
   },
   {
    "duration": 0,
    "start_time": "2024-10-22T19:32:15.856Z"
   },
   {
    "duration": 0,
    "start_time": "2024-10-22T19:32:15.858Z"
   },
   {
    "duration": 0,
    "start_time": "2024-10-22T19:32:15.859Z"
   },
   {
    "duration": 0,
    "start_time": "2024-10-22T19:32:15.860Z"
   },
   {
    "duration": 0,
    "start_time": "2024-10-22T19:32:15.861Z"
   },
   {
    "duration": 0,
    "start_time": "2024-10-22T19:32:15.862Z"
   },
   {
    "duration": 0,
    "start_time": "2024-10-22T19:32:15.863Z"
   },
   {
    "duration": 0,
    "start_time": "2024-10-22T19:32:15.865Z"
   },
   {
    "duration": 0,
    "start_time": "2024-10-22T19:32:15.866Z"
   },
   {
    "duration": 0,
    "start_time": "2024-10-22T19:32:15.867Z"
   },
   {
    "duration": 16,
    "start_time": "2024-10-22T19:32:17.201Z"
   },
   {
    "duration": 12,
    "start_time": "2024-10-22T19:32:23.641Z"
   },
   {
    "duration": 17,
    "start_time": "2024-10-22T19:33:18.320Z"
   },
   {
    "duration": 15,
    "start_time": "2024-10-22T19:33:19.727Z"
   },
   {
    "duration": 12,
    "start_time": "2024-10-22T19:33:20.171Z"
   },
   {
    "duration": 29,
    "start_time": "2024-10-22T19:33:20.703Z"
   },
   {
    "duration": 2137,
    "start_time": "2024-10-22T20:42:59.020Z"
   },
   {
    "duration": 152,
    "start_time": "2024-10-22T20:43:01.160Z"
   },
   {
    "duration": 51,
    "start_time": "2024-10-22T20:43:01.314Z"
   },
   {
    "duration": 9,
    "start_time": "2024-10-22T20:43:01.367Z"
   },
   {
    "duration": 8,
    "start_time": "2024-10-22T20:43:01.380Z"
   },
   {
    "duration": 807,
    "start_time": "2024-10-22T20:43:01.389Z"
   },
   {
    "duration": 5,
    "start_time": "2024-10-22T20:43:02.198Z"
   },
   {
    "duration": 4,
    "start_time": "2024-10-22T20:43:02.204Z"
   },
   {
    "duration": 4,
    "start_time": "2024-10-22T20:43:02.210Z"
   },
   {
    "duration": 4,
    "start_time": "2024-10-22T20:43:02.233Z"
   },
   {
    "duration": 4,
    "start_time": "2024-10-22T20:43:02.239Z"
   },
   {
    "duration": 110,
    "start_time": "2024-10-22T20:43:02.244Z"
   },
   {
    "duration": 104,
    "start_time": "2024-10-22T20:43:02.355Z"
   },
   {
    "duration": 10,
    "start_time": "2024-10-22T20:43:02.461Z"
   },
   {
    "duration": 117,
    "start_time": "2024-10-22T20:43:02.473Z"
   },
   {
    "duration": 86,
    "start_time": "2024-10-22T20:43:02.591Z"
   },
   {
    "duration": 53,
    "start_time": "2024-10-22T20:43:02.679Z"
   },
   {
    "duration": 11,
    "start_time": "2024-10-22T20:43:02.734Z"
   },
   {
    "duration": 6,
    "start_time": "2024-10-22T20:43:02.747Z"
   },
   {
    "duration": 15,
    "start_time": "2024-10-22T20:43:02.754Z"
   },
   {
    "duration": 10,
    "start_time": "2024-10-22T20:43:02.771Z"
   },
   {
    "duration": 12,
    "start_time": "2024-10-22T20:43:02.782Z"
   },
   {
    "duration": 4,
    "start_time": "2024-10-22T20:43:02.797Z"
   },
   {
    "duration": 4,
    "start_time": "2024-10-22T20:43:02.830Z"
   },
   {
    "duration": 5,
    "start_time": "2024-10-22T20:43:02.836Z"
   },
   {
    "duration": 4,
    "start_time": "2024-10-22T20:43:02.842Z"
   },
   {
    "duration": 776,
    "start_time": "2024-10-22T20:43:02.847Z"
   },
   {
    "duration": 193,
    "start_time": "2024-10-22T20:43:03.630Z"
   },
   {
    "duration": 166,
    "start_time": "2024-10-22T20:43:03.824Z"
   },
   {
    "duration": 11,
    "start_time": "2024-10-22T20:43:03.993Z"
   },
   {
    "duration": 7,
    "start_time": "2024-10-22T20:43:04.006Z"
   },
   {
    "duration": 21,
    "start_time": "2024-10-22T20:43:04.014Z"
   },
   {
    "duration": 7,
    "start_time": "2024-10-22T20:43:04.036Z"
   },
   {
    "duration": 7,
    "start_time": "2024-10-22T20:43:04.044Z"
   },
   {
    "duration": 6,
    "start_time": "2024-10-22T20:43:04.052Z"
   },
   {
    "duration": 7,
    "start_time": "2024-10-22T20:43:04.059Z"
   },
   {
    "duration": 6,
    "start_time": "2024-10-22T20:43:04.068Z"
   },
   {
    "duration": 6,
    "start_time": "2024-10-22T20:43:04.077Z"
   },
   {
    "duration": 53,
    "start_time": "2024-10-22T20:43:04.085Z"
   },
   {
    "duration": 33,
    "start_time": "2024-10-22T20:43:04.140Z"
   },
   {
    "duration": 14,
    "start_time": "2024-10-22T20:43:04.175Z"
   },
   {
    "duration": 2,
    "start_time": "2024-10-22T20:43:04.191Z"
   },
   {
    "duration": 8,
    "start_time": "2024-10-22T20:43:04.195Z"
   },
   {
    "duration": 6,
    "start_time": "2024-10-22T20:43:04.232Z"
   },
   {
    "duration": 62,
    "start_time": "2024-10-22T20:43:04.239Z"
   },
   {
    "duration": 10,
    "start_time": "2024-10-22T20:43:04.303Z"
   },
   {
    "duration": 20,
    "start_time": "2024-10-22T20:43:04.332Z"
   },
   {
    "duration": 4,
    "start_time": "2024-10-22T20:43:04.353Z"
   },
   {
    "duration": 3,
    "start_time": "2024-10-22T20:43:04.359Z"
   },
   {
    "duration": 5,
    "start_time": "2024-10-22T20:43:04.364Z"
   },
   {
    "duration": 3,
    "start_time": "2024-10-22T20:43:04.371Z"
   },
   {
    "duration": 219,
    "start_time": "2024-10-22T20:43:04.376Z"
   },
   {
    "duration": 168,
    "start_time": "2024-10-22T20:43:04.597Z"
   },
   {
    "duration": 204,
    "start_time": "2024-10-22T20:43:04.767Z"
   },
   {
    "duration": 10,
    "start_time": "2024-10-22T20:43:04.973Z"
   },
   {
    "duration": 5,
    "start_time": "2024-10-22T20:43:04.984Z"
   },
   {
    "duration": 3,
    "start_time": "2024-10-22T20:43:04.990Z"
   },
   {
    "duration": 256,
    "start_time": "2024-10-22T20:43:04.994Z"
   },
   {
    "duration": 196,
    "start_time": "2024-10-22T20:43:05.252Z"
   },
   {
    "duration": 0,
    "start_time": "2024-10-22T20:43:05.450Z"
   },
   {
    "duration": 0,
    "start_time": "2024-10-22T20:43:05.451Z"
   },
   {
    "duration": 0,
    "start_time": "2024-10-22T20:43:05.452Z"
   },
   {
    "duration": 0,
    "start_time": "2024-10-22T20:43:05.453Z"
   },
   {
    "duration": 0,
    "start_time": "2024-10-22T20:43:05.454Z"
   },
   {
    "duration": 0,
    "start_time": "2024-10-22T20:43:05.455Z"
   },
   {
    "duration": 0,
    "start_time": "2024-10-22T20:43:05.456Z"
   },
   {
    "duration": 0,
    "start_time": "2024-10-22T20:43:05.458Z"
   },
   {
    "duration": 0,
    "start_time": "2024-10-22T20:43:05.459Z"
   },
   {
    "duration": 0,
    "start_time": "2024-10-22T20:43:05.460Z"
   },
   {
    "duration": 0,
    "start_time": "2024-10-22T20:43:05.461Z"
   },
   {
    "duration": 0,
    "start_time": "2024-10-22T20:43:05.462Z"
   },
   {
    "duration": 0,
    "start_time": "2024-10-22T20:43:05.463Z"
   },
   {
    "duration": 0,
    "start_time": "2024-10-22T20:43:05.465Z"
   },
   {
    "duration": 0,
    "start_time": "2024-10-22T20:43:05.466Z"
   },
   {
    "duration": 0,
    "start_time": "2024-10-22T20:43:05.467Z"
   },
   {
    "duration": 41,
    "start_time": "2024-10-22T20:44:52.317Z"
   },
   {
    "duration": 4,
    "start_time": "2024-10-22T20:44:54.965Z"
   },
   {
    "duration": 178,
    "start_time": "2024-10-22T20:44:57.475Z"
   },
   {
    "duration": 35,
    "start_time": "2024-10-22T20:45:05.924Z"
   },
   {
    "duration": 35,
    "start_time": "2024-10-22T20:45:07.429Z"
   },
   {
    "duration": 4,
    "start_time": "2024-10-22T20:45:08.910Z"
   },
   {
    "duration": 201,
    "start_time": "2024-10-22T20:45:10.277Z"
   },
   {
    "duration": 3,
    "start_time": "2024-10-22T20:45:26.725Z"
   },
   {
    "duration": 434,
    "start_time": "2024-10-22T20:46:40.085Z"
   },
   {
    "duration": 162,
    "start_time": "2024-10-22T20:46:40.521Z"
   },
   {
    "duration": 36,
    "start_time": "2024-10-22T20:46:40.684Z"
   },
   {
    "duration": 9,
    "start_time": "2024-10-22T20:46:40.722Z"
   },
   {
    "duration": 5,
    "start_time": "2024-10-22T20:46:40.734Z"
   },
   {
    "duration": 705,
    "start_time": "2024-10-22T20:46:40.740Z"
   },
   {
    "duration": 5,
    "start_time": "2024-10-22T20:46:41.447Z"
   },
   {
    "duration": 4,
    "start_time": "2024-10-22T20:46:41.453Z"
   },
   {
    "duration": 5,
    "start_time": "2024-10-22T20:46:41.459Z"
   },
   {
    "duration": 5,
    "start_time": "2024-10-22T20:46:41.465Z"
   },
   {
    "duration": 5,
    "start_time": "2024-10-22T20:46:41.471Z"
   },
   {
    "duration": 126,
    "start_time": "2024-10-22T20:46:41.477Z"
   },
   {
    "duration": 104,
    "start_time": "2024-10-22T20:46:41.605Z"
   },
   {
    "duration": 19,
    "start_time": "2024-10-22T20:46:41.713Z"
   },
   {
    "duration": 107,
    "start_time": "2024-10-22T20:46:41.733Z"
   },
   {
    "duration": 90,
    "start_time": "2024-10-22T20:46:41.841Z"
   },
   {
    "duration": 48,
    "start_time": "2024-10-22T20:46:41.933Z"
   },
   {
    "duration": 12,
    "start_time": "2024-10-22T20:46:41.983Z"
   },
   {
    "duration": 5,
    "start_time": "2024-10-22T20:46:41.997Z"
   },
   {
    "duration": 35,
    "start_time": "2024-10-22T20:46:42.005Z"
   },
   {
    "duration": 8,
    "start_time": "2024-10-22T20:46:42.042Z"
   },
   {
    "duration": 11,
    "start_time": "2024-10-22T20:46:42.052Z"
   },
   {
    "duration": 4,
    "start_time": "2024-10-22T20:46:42.065Z"
   },
   {
    "duration": 4,
    "start_time": "2024-10-22T20:46:42.070Z"
   },
   {
    "duration": 4,
    "start_time": "2024-10-22T20:46:42.076Z"
   },
   {
    "duration": 4,
    "start_time": "2024-10-22T20:46:42.082Z"
   },
   {
    "duration": 761,
    "start_time": "2024-10-22T20:46:42.087Z"
   },
   {
    "duration": 202,
    "start_time": "2024-10-22T20:46:42.850Z"
   },
   {
    "duration": 159,
    "start_time": "2024-10-22T20:46:43.054Z"
   },
   {
    "duration": 25,
    "start_time": "2024-10-22T20:46:43.214Z"
   },
   {
    "duration": 8,
    "start_time": "2024-10-22T20:46:43.241Z"
   },
   {
    "duration": 9,
    "start_time": "2024-10-22T20:46:43.251Z"
   },
   {
    "duration": 6,
    "start_time": "2024-10-22T20:46:43.261Z"
   },
   {
    "duration": 6,
    "start_time": "2024-10-22T20:46:43.269Z"
   },
   {
    "duration": 6,
    "start_time": "2024-10-22T20:46:43.277Z"
   },
   {
    "duration": 7,
    "start_time": "2024-10-22T20:46:43.285Z"
   },
   {
    "duration": 40,
    "start_time": "2024-10-22T20:46:43.294Z"
   },
   {
    "duration": 6,
    "start_time": "2024-10-22T20:46:43.335Z"
   },
   {
    "duration": 16,
    "start_time": "2024-10-22T20:46:43.342Z"
   },
   {
    "duration": 31,
    "start_time": "2024-10-22T20:46:43.360Z"
   },
   {
    "duration": 37,
    "start_time": "2024-10-22T20:46:43.397Z"
   },
   {
    "duration": 2,
    "start_time": "2024-10-22T20:46:43.435Z"
   },
   {
    "duration": 9,
    "start_time": "2024-10-22T20:46:43.439Z"
   },
   {
    "duration": 6,
    "start_time": "2024-10-22T20:46:43.449Z"
   },
   {
    "duration": 84,
    "start_time": "2024-10-22T20:46:43.456Z"
   },
   {
    "duration": 10,
    "start_time": "2024-10-22T20:46:43.542Z"
   },
   {
    "duration": 20,
    "start_time": "2024-10-22T20:46:43.553Z"
   },
   {
    "duration": 5,
    "start_time": "2024-10-22T20:46:43.575Z"
   },
   {
    "duration": 4,
    "start_time": "2024-10-22T20:46:43.581Z"
   },
   {
    "duration": 4,
    "start_time": "2024-10-22T20:46:43.587Z"
   },
   {
    "duration": 4,
    "start_time": "2024-10-22T20:46:43.592Z"
   },
   {
    "duration": 225,
    "start_time": "2024-10-22T20:46:43.597Z"
   },
   {
    "duration": 112,
    "start_time": "2024-10-22T20:46:43.825Z"
   },
   {
    "duration": 208,
    "start_time": "2024-10-22T20:46:43.939Z"
   },
   {
    "duration": 10,
    "start_time": "2024-10-22T20:46:44.149Z"
   },
   {
    "duration": 5,
    "start_time": "2024-10-22T20:46:44.160Z"
   },
   {
    "duration": 4,
    "start_time": "2024-10-22T20:46:44.166Z"
   },
   {
    "duration": 278,
    "start_time": "2024-10-22T20:46:44.171Z"
   },
   {
    "duration": 38,
    "start_time": "2024-10-22T20:46:44.450Z"
   },
   {
    "duration": 4,
    "start_time": "2024-10-22T20:46:44.490Z"
   },
   {
    "duration": 199,
    "start_time": "2024-10-22T20:46:44.496Z"
   },
   {
    "duration": 668,
    "start_time": "2024-10-22T20:46:44.697Z"
   },
   {
    "duration": 476,
    "start_time": "2024-10-22T20:46:45.366Z"
   },
   {
    "duration": 3,
    "start_time": "2024-10-22T20:46:45.844Z"
   },
   {
    "duration": 224,
    "start_time": "2024-10-22T20:46:45.848Z"
   },
   {
    "duration": 250,
    "start_time": "2024-10-22T20:46:46.073Z"
   },
   {
    "duration": 141,
    "start_time": "2024-10-22T20:46:46.325Z"
   },
   {
    "duration": 429,
    "start_time": "2024-10-22T20:46:46.468Z"
   },
   {
    "duration": 2,
    "start_time": "2024-10-22T20:46:46.899Z"
   },
   {
    "duration": 245,
    "start_time": "2024-10-22T20:46:46.903Z"
   },
   {
    "duration": 467,
    "start_time": "2024-10-22T20:46:47.149Z"
   },
   {
    "duration": 1547,
    "start_time": "2024-10-22T20:46:47.618Z"
   },
   {
    "duration": 18,
    "start_time": "2024-10-22T20:46:49.167Z"
   },
   {
    "duration": 1705,
    "start_time": "2024-10-22T20:46:49.187Z"
   },
   {
    "duration": 411,
    "start_time": "2024-10-22T20:46:50.894Z"
   },
   {
    "duration": 7,
    "start_time": "2024-10-22T20:54:21.245Z"
   },
   {
    "duration": 7,
    "start_time": "2024-10-22T20:55:20.902Z"
   },
   {
    "duration": 6,
    "start_time": "2024-10-22T20:56:45.600Z"
   },
   {
    "duration": 159,
    "start_time": "2024-10-22T20:57:22.315Z"
   },
   {
    "duration": 423,
    "start_time": "2024-10-22T20:57:36.508Z"
   },
   {
    "duration": 181,
    "start_time": "2024-10-22T20:57:36.933Z"
   },
   {
    "duration": 39,
    "start_time": "2024-10-22T20:57:37.116Z"
   },
   {
    "duration": 7,
    "start_time": "2024-10-22T20:57:37.156Z"
   },
   {
    "duration": 7,
    "start_time": "2024-10-22T20:57:37.166Z"
   },
   {
    "duration": 731,
    "start_time": "2024-10-22T20:57:37.174Z"
   },
   {
    "duration": 7,
    "start_time": "2024-10-22T20:57:37.907Z"
   },
   {
    "duration": 19,
    "start_time": "2024-10-22T20:57:37.916Z"
   },
   {
    "duration": 6,
    "start_time": "2024-10-22T20:57:37.938Z"
   },
   {
    "duration": 5,
    "start_time": "2024-10-22T20:57:37.946Z"
   },
   {
    "duration": 4,
    "start_time": "2024-10-22T20:57:37.954Z"
   },
   {
    "duration": 144,
    "start_time": "2024-10-22T20:57:37.961Z"
   },
   {
    "duration": 113,
    "start_time": "2024-10-22T20:57:38.106Z"
   },
   {
    "duration": 13,
    "start_time": "2024-10-22T20:57:38.231Z"
   },
   {
    "duration": 116,
    "start_time": "2024-10-22T20:57:38.246Z"
   },
   {
    "duration": 100,
    "start_time": "2024-10-22T20:57:38.363Z"
   },
   {
    "duration": 45,
    "start_time": "2024-10-22T20:57:38.464Z"
   },
   {
    "duration": 26,
    "start_time": "2024-10-22T20:57:38.510Z"
   },
   {
    "duration": 7,
    "start_time": "2024-10-22T20:57:38.537Z"
   },
   {
    "duration": 13,
    "start_time": "2024-10-22T20:57:38.548Z"
   },
   {
    "duration": 14,
    "start_time": "2024-10-22T20:57:38.565Z"
   },
   {
    "duration": 16,
    "start_time": "2024-10-22T20:57:38.583Z"
   },
   {
    "duration": 5,
    "start_time": "2024-10-22T20:57:38.600Z"
   },
   {
    "duration": 4,
    "start_time": "2024-10-22T20:57:38.632Z"
   },
   {
    "duration": 4,
    "start_time": "2024-10-22T20:57:38.638Z"
   },
   {
    "duration": 4,
    "start_time": "2024-10-22T20:57:38.645Z"
   },
   {
    "duration": 785,
    "start_time": "2024-10-22T20:57:38.651Z"
   },
   {
    "duration": 232,
    "start_time": "2024-10-22T20:57:39.438Z"
   },
   {
    "duration": 169,
    "start_time": "2024-10-22T20:57:39.672Z"
   },
   {
    "duration": 11,
    "start_time": "2024-10-22T20:57:39.845Z"
   },
   {
    "duration": 7,
    "start_time": "2024-10-22T20:57:39.858Z"
   },
   {
    "duration": 6,
    "start_time": "2024-10-22T20:57:39.867Z"
   },
   {
    "duration": 7,
    "start_time": "2024-10-22T20:57:39.876Z"
   },
   {
    "duration": 6,
    "start_time": "2024-10-22T20:57:39.885Z"
   },
   {
    "duration": 43,
    "start_time": "2024-10-22T20:57:39.893Z"
   },
   {
    "duration": 6,
    "start_time": "2024-10-22T20:57:39.938Z"
   },
   {
    "duration": 7,
    "start_time": "2024-10-22T20:57:39.945Z"
   },
   {
    "duration": 5,
    "start_time": "2024-10-22T20:57:39.953Z"
   },
   {
    "duration": 26,
    "start_time": "2024-10-22T20:57:39.960Z"
   },
   {
    "duration": 73,
    "start_time": "2024-10-22T20:57:39.988Z"
   },
   {
    "duration": 12,
    "start_time": "2024-10-22T20:57:40.066Z"
   },
   {
    "duration": 2,
    "start_time": "2024-10-22T20:57:40.080Z"
   },
   {
    "duration": 11,
    "start_time": "2024-10-22T20:57:40.083Z"
   },
   {
    "duration": 6,
    "start_time": "2024-10-22T20:57:40.095Z"
   },
   {
    "duration": 92,
    "start_time": "2024-10-22T20:57:40.103Z"
   },
   {
    "duration": 10,
    "start_time": "2024-10-22T20:57:40.198Z"
   },
   {
    "duration": 37,
    "start_time": "2024-10-22T20:57:40.210Z"
   },
   {
    "duration": 7,
    "start_time": "2024-10-22T20:57:40.249Z"
   },
   {
    "duration": 6,
    "start_time": "2024-10-22T20:57:40.258Z"
   },
   {
    "duration": 5,
    "start_time": "2024-10-22T20:57:40.266Z"
   },
   {
    "duration": 3,
    "start_time": "2024-10-22T20:57:40.272Z"
   },
   {
    "duration": 118,
    "start_time": "2024-10-22T20:57:40.277Z"
   },
   {
    "duration": 0,
    "start_time": "2024-10-22T20:57:40.397Z"
   },
   {
    "duration": 0,
    "start_time": "2024-10-22T20:57:40.399Z"
   },
   {
    "duration": 0,
    "start_time": "2024-10-22T20:57:40.406Z"
   },
   {
    "duration": 0,
    "start_time": "2024-10-22T20:57:40.407Z"
   },
   {
    "duration": 0,
    "start_time": "2024-10-22T20:57:40.415Z"
   },
   {
    "duration": 0,
    "start_time": "2024-10-22T20:57:40.415Z"
   },
   {
    "duration": 0,
    "start_time": "2024-10-22T20:57:40.416Z"
   },
   {
    "duration": 0,
    "start_time": "2024-10-22T20:57:40.418Z"
   },
   {
    "duration": 0,
    "start_time": "2024-10-22T20:57:40.431Z"
   },
   {
    "duration": 0,
    "start_time": "2024-10-22T20:57:40.432Z"
   },
   {
    "duration": 0,
    "start_time": "2024-10-22T20:57:40.434Z"
   },
   {
    "duration": 0,
    "start_time": "2024-10-22T20:57:40.435Z"
   },
   {
    "duration": 0,
    "start_time": "2024-10-22T20:57:40.437Z"
   },
   {
    "duration": 0,
    "start_time": "2024-10-22T20:57:40.438Z"
   },
   {
    "duration": 0,
    "start_time": "2024-10-22T20:57:40.440Z"
   },
   {
    "duration": 0,
    "start_time": "2024-10-22T20:57:40.442Z"
   },
   {
    "duration": 0,
    "start_time": "2024-10-22T20:57:40.443Z"
   },
   {
    "duration": 0,
    "start_time": "2024-10-22T20:57:40.445Z"
   },
   {
    "duration": 0,
    "start_time": "2024-10-22T20:57:40.447Z"
   },
   {
    "duration": 0,
    "start_time": "2024-10-22T20:57:40.449Z"
   },
   {
    "duration": 0,
    "start_time": "2024-10-22T20:57:40.450Z"
   },
   {
    "duration": 0,
    "start_time": "2024-10-22T20:57:40.452Z"
   },
   {
    "duration": 0,
    "start_time": "2024-10-22T20:57:40.454Z"
   },
   {
    "duration": 191,
    "start_time": "2024-10-22T20:57:56.960Z"
   },
   {
    "duration": 195,
    "start_time": "2024-10-22T20:58:14.190Z"
   },
   {
    "duration": 102,
    "start_time": "2024-10-22T20:59:25.965Z"
   },
   {
    "duration": 10,
    "start_time": "2024-10-22T20:59:28.385Z"
   },
   {
    "duration": 5,
    "start_time": "2024-10-22T20:59:29.804Z"
   },
   {
    "duration": 3,
    "start_time": "2024-10-22T20:59:35.651Z"
   },
   {
    "duration": 9,
    "start_time": "2024-10-22T21:00:06.897Z"
   },
   {
    "duration": 232,
    "start_time": "2024-10-22T21:00:20.131Z"
   },
   {
    "duration": 13,
    "start_time": "2024-10-22T21:00:35.563Z"
   },
   {
    "duration": 39,
    "start_time": "2024-10-22T21:00:38.760Z"
   },
   {
    "duration": 4,
    "start_time": "2024-10-22T21:00:39.995Z"
   },
   {
    "duration": 173,
    "start_time": "2024-10-22T21:00:41.567Z"
   },
   {
    "duration": 232,
    "start_time": "2024-10-22T21:03:24.787Z"
   },
   {
    "duration": 183,
    "start_time": "2024-10-22T21:03:29.934Z"
   },
   {
    "duration": 13,
    "start_time": "2024-10-22T21:04:09.582Z"
   },
   {
    "duration": 418,
    "start_time": "2024-10-22T21:04:18.206Z"
   },
   {
    "duration": 174,
    "start_time": "2024-10-22T21:04:18.626Z"
   },
   {
    "duration": 43,
    "start_time": "2024-10-22T21:04:18.802Z"
   },
   {
    "duration": 4,
    "start_time": "2024-10-22T21:04:18.847Z"
   },
   {
    "duration": 4,
    "start_time": "2024-10-22T21:04:18.855Z"
   },
   {
    "duration": 717,
    "start_time": "2024-10-22T21:04:18.862Z"
   },
   {
    "duration": 6,
    "start_time": "2024-10-22T21:04:19.582Z"
   },
   {
    "duration": 4,
    "start_time": "2024-10-22T21:04:19.590Z"
   },
   {
    "duration": 4,
    "start_time": "2024-10-22T21:04:19.596Z"
   },
   {
    "duration": 30,
    "start_time": "2024-10-22T21:04:19.601Z"
   },
   {
    "duration": 4,
    "start_time": "2024-10-22T21:04:19.633Z"
   },
   {
    "duration": 105,
    "start_time": "2024-10-22T21:04:19.639Z"
   },
   {
    "duration": 121,
    "start_time": "2024-10-22T21:04:19.746Z"
   },
   {
    "duration": 10,
    "start_time": "2024-10-22T21:04:19.871Z"
   },
   {
    "duration": 119,
    "start_time": "2024-10-22T21:04:19.883Z"
   },
   {
    "duration": 99,
    "start_time": "2024-10-22T21:04:20.004Z"
   },
   {
    "duration": 55,
    "start_time": "2024-10-22T21:04:20.105Z"
   },
   {
    "duration": 13,
    "start_time": "2024-10-22T21:04:20.163Z"
   },
   {
    "duration": 6,
    "start_time": "2024-10-22T21:04:20.177Z"
   },
   {
    "duration": 14,
    "start_time": "2024-10-22T21:04:20.185Z"
   },
   {
    "duration": 33,
    "start_time": "2024-10-22T21:04:20.201Z"
   },
   {
    "duration": 15,
    "start_time": "2024-10-22T21:04:20.236Z"
   },
   {
    "duration": 5,
    "start_time": "2024-10-22T21:04:20.252Z"
   },
   {
    "duration": 5,
    "start_time": "2024-10-22T21:04:20.258Z"
   },
   {
    "duration": 4,
    "start_time": "2024-10-22T21:04:20.265Z"
   },
   {
    "duration": 4,
    "start_time": "2024-10-22T21:04:20.271Z"
   },
   {
    "duration": 789,
    "start_time": "2024-10-22T21:04:20.277Z"
   },
   {
    "duration": 235,
    "start_time": "2024-10-22T21:04:21.068Z"
   },
   {
    "duration": 163,
    "start_time": "2024-10-22T21:04:21.305Z"
   },
   {
    "duration": 11,
    "start_time": "2024-10-22T21:04:21.470Z"
   },
   {
    "duration": 7,
    "start_time": "2024-10-22T21:04:21.482Z"
   },
   {
    "duration": 7,
    "start_time": "2024-10-22T21:04:21.491Z"
   },
   {
    "duration": 6,
    "start_time": "2024-10-22T21:04:21.500Z"
   },
   {
    "duration": 7,
    "start_time": "2024-10-22T21:04:21.532Z"
   },
   {
    "duration": 5,
    "start_time": "2024-10-22T21:04:21.541Z"
   },
   {
    "duration": 6,
    "start_time": "2024-10-22T21:04:21.548Z"
   },
   {
    "duration": 7,
    "start_time": "2024-10-22T21:04:21.556Z"
   },
   {
    "duration": 7,
    "start_time": "2024-10-22T21:04:21.565Z"
   },
   {
    "duration": 16,
    "start_time": "2024-10-22T21:04:21.573Z"
   },
   {
    "duration": 67,
    "start_time": "2024-10-22T21:04:21.591Z"
   },
   {
    "duration": 12,
    "start_time": "2024-10-22T21:04:21.663Z"
   },
   {
    "duration": 2,
    "start_time": "2024-10-22T21:04:21.677Z"
   },
   {
    "duration": 8,
    "start_time": "2024-10-22T21:04:21.681Z"
   },
   {
    "duration": 6,
    "start_time": "2024-10-22T21:04:21.691Z"
   },
   {
    "duration": 87,
    "start_time": "2024-10-22T21:04:21.698Z"
   },
   {
    "duration": 10,
    "start_time": "2024-10-22T21:04:21.788Z"
   },
   {
    "duration": 35,
    "start_time": "2024-10-22T21:04:21.800Z"
   },
   {
    "duration": 5,
    "start_time": "2024-10-22T21:04:21.836Z"
   },
   {
    "duration": 4,
    "start_time": "2024-10-22T21:04:21.842Z"
   },
   {
    "duration": 4,
    "start_time": "2024-10-22T21:04:21.848Z"
   },
   {
    "duration": 3,
    "start_time": "2024-10-22T21:04:21.854Z"
   },
   {
    "duration": 215,
    "start_time": "2024-10-22T21:04:21.859Z"
   },
   {
    "duration": 119,
    "start_time": "2024-10-22T21:04:22.078Z"
   },
   {
    "duration": 214,
    "start_time": "2024-10-22T21:04:22.199Z"
   },
   {
    "duration": 16,
    "start_time": "2024-10-22T21:04:22.415Z"
   },
   {
    "duration": 5,
    "start_time": "2024-10-22T21:04:22.433Z"
   },
   {
    "duration": 3,
    "start_time": "2024-10-22T21:04:22.439Z"
   },
   {
    "duration": 243,
    "start_time": "2024-10-22T21:04:22.444Z"
   },
   {
    "duration": 42,
    "start_time": "2024-10-22T21:04:22.689Z"
   },
   {
    "duration": 3,
    "start_time": "2024-10-22T21:04:22.733Z"
   },
   {
    "duration": 183,
    "start_time": "2024-10-22T21:04:22.738Z"
   },
   {
    "duration": 678,
    "start_time": "2024-10-22T21:04:22.923Z"
   },
   {
    "duration": 454,
    "start_time": "2024-10-22T21:04:23.603Z"
   },
   {
    "duration": 2,
    "start_time": "2024-10-22T21:04:24.059Z"
   },
   {
    "duration": 233,
    "start_time": "2024-10-22T21:04:24.063Z"
   },
   {
    "duration": 267,
    "start_time": "2024-10-22T21:04:24.298Z"
   },
   {
    "duration": 141,
    "start_time": "2024-10-22T21:04:24.567Z"
   },
   {
    "duration": 421,
    "start_time": "2024-10-22T21:04:24.710Z"
   },
   {
    "duration": 3,
    "start_time": "2024-10-22T21:04:25.133Z"
   },
   {
    "duration": 257,
    "start_time": "2024-10-22T21:04:25.138Z"
   },
   {
    "duration": 474,
    "start_time": "2024-10-22T21:04:25.396Z"
   },
   {
    "duration": 1506,
    "start_time": "2024-10-22T21:04:25.873Z"
   },
   {
    "duration": 15,
    "start_time": "2024-10-22T21:04:27.380Z"
   },
   {
    "duration": 1723,
    "start_time": "2024-10-22T21:04:27.398Z"
   },
   {
    "duration": 416,
    "start_time": "2024-10-22T21:04:29.122Z"
   },
   {
    "duration": 433,
    "start_time": "2024-10-22T21:05:29.094Z"
   },
   {
    "duration": 12154,
    "start_time": "2024-10-22T21:05:50.691Z"
   },
   {
    "duration": 11,
    "start_time": "2024-10-22T21:07:39.147Z"
   },
   {
    "duration": 423,
    "start_time": "2024-10-22T21:07:44.985Z"
   },
   {
    "duration": 174,
    "start_time": "2024-10-22T21:07:45.410Z"
   },
   {
    "duration": 56,
    "start_time": "2024-10-22T21:07:45.586Z"
   },
   {
    "duration": 8,
    "start_time": "2024-10-22T21:07:45.644Z"
   },
   {
    "duration": 8,
    "start_time": "2024-10-22T21:07:45.654Z"
   },
   {
    "duration": 799,
    "start_time": "2024-10-22T21:07:45.663Z"
   },
   {
    "duration": 7,
    "start_time": "2024-10-22T21:07:46.464Z"
   },
   {
    "duration": 5,
    "start_time": "2024-10-22T21:07:46.472Z"
   },
   {
    "duration": 5,
    "start_time": "2024-10-22T21:07:46.478Z"
   },
   {
    "duration": 6,
    "start_time": "2024-10-22T21:07:46.484Z"
   },
   {
    "duration": 5,
    "start_time": "2024-10-22T21:07:46.491Z"
   },
   {
    "duration": 124,
    "start_time": "2024-10-22T21:07:46.498Z"
   },
   {
    "duration": 104,
    "start_time": "2024-10-22T21:07:46.623Z"
   },
   {
    "duration": 11,
    "start_time": "2024-10-22T21:07:46.730Z"
   },
   {
    "duration": 122,
    "start_time": "2024-10-22T21:07:46.742Z"
   },
   {
    "duration": 90,
    "start_time": "2024-10-22T21:07:46.866Z"
   },
   {
    "duration": 50,
    "start_time": "2024-10-22T21:07:46.958Z"
   },
   {
    "duration": 25,
    "start_time": "2024-10-22T21:07:47.010Z"
   },
   {
    "duration": 5,
    "start_time": "2024-10-22T21:07:47.037Z"
   },
   {
    "duration": 13,
    "start_time": "2024-10-22T21:07:47.044Z"
   },
   {
    "duration": 10,
    "start_time": "2024-10-22T21:07:47.058Z"
   },
   {
    "duration": 13,
    "start_time": "2024-10-22T21:07:47.069Z"
   },
   {
    "duration": 4,
    "start_time": "2024-10-22T21:07:47.083Z"
   },
   {
    "duration": 4,
    "start_time": "2024-10-22T21:07:47.089Z"
   },
   {
    "duration": 39,
    "start_time": "2024-10-22T21:07:47.095Z"
   },
   {
    "duration": 5,
    "start_time": "2024-10-22T21:07:47.135Z"
   },
   {
    "duration": 776,
    "start_time": "2024-10-22T21:07:47.142Z"
   },
   {
    "duration": 221,
    "start_time": "2024-10-22T21:07:47.920Z"
   },
   {
    "duration": 164,
    "start_time": "2024-10-22T21:07:48.143Z"
   },
   {
    "duration": 11,
    "start_time": "2024-10-22T21:07:48.308Z"
   },
   {
    "duration": 17,
    "start_time": "2024-10-22T21:07:48.321Z"
   },
   {
    "duration": 7,
    "start_time": "2024-10-22T21:07:48.339Z"
   },
   {
    "duration": 6,
    "start_time": "2024-10-22T21:07:48.349Z"
   },
   {
    "duration": 6,
    "start_time": "2024-10-22T21:07:48.357Z"
   },
   {
    "duration": 6,
    "start_time": "2024-10-22T21:07:48.364Z"
   },
   {
    "duration": 7,
    "start_time": "2024-10-22T21:07:48.371Z"
   },
   {
    "duration": 8,
    "start_time": "2024-10-22T21:07:48.380Z"
   },
   {
    "duration": 42,
    "start_time": "2024-10-22T21:07:48.389Z"
   },
   {
    "duration": 17,
    "start_time": "2024-10-22T21:07:48.432Z"
   },
   {
    "duration": 31,
    "start_time": "2024-10-22T21:07:48.450Z"
   },
   {
    "duration": 11,
    "start_time": "2024-10-22T21:07:48.487Z"
   },
   {
    "duration": 3,
    "start_time": "2024-10-22T21:07:48.500Z"
   },
   {
    "duration": 36,
    "start_time": "2024-10-22T21:07:48.504Z"
   },
   {
    "duration": 5,
    "start_time": "2024-10-22T21:07:48.542Z"
   },
   {
    "duration": 64,
    "start_time": "2024-10-22T21:07:48.549Z"
   },
   {
    "duration": 23,
    "start_time": "2024-10-22T21:07:48.615Z"
   },
   {
    "duration": 19,
    "start_time": "2024-10-22T21:07:48.639Z"
   },
   {
    "duration": 4,
    "start_time": "2024-10-22T21:07:48.663Z"
   },
   {
    "duration": 4,
    "start_time": "2024-10-22T21:07:48.668Z"
   },
   {
    "duration": 5,
    "start_time": "2024-10-22T21:07:48.674Z"
   },
   {
    "duration": 5,
    "start_time": "2024-10-22T21:07:48.681Z"
   },
   {
    "duration": 218,
    "start_time": "2024-10-22T21:07:48.687Z"
   },
   {
    "duration": 119,
    "start_time": "2024-10-22T21:07:48.907Z"
   },
   {
    "duration": 202,
    "start_time": "2024-10-22T21:07:49.030Z"
   },
   {
    "duration": 9,
    "start_time": "2024-10-22T21:07:49.234Z"
   },
   {
    "duration": 4,
    "start_time": "2024-10-22T21:07:49.245Z"
   },
   {
    "duration": 2,
    "start_time": "2024-10-22T21:07:49.251Z"
   },
   {
    "duration": 255,
    "start_time": "2024-10-22T21:07:49.255Z"
   },
   {
    "duration": 46,
    "start_time": "2024-10-22T21:07:49.512Z"
   },
   {
    "duration": 3,
    "start_time": "2024-10-22T21:07:49.560Z"
   },
   {
    "duration": 185,
    "start_time": "2024-10-22T21:07:49.565Z"
   },
   {
    "duration": 711,
    "start_time": "2024-10-22T21:07:49.752Z"
   },
   {
    "duration": 460,
    "start_time": "2024-10-22T21:07:50.464Z"
   },
   {
    "duration": 3,
    "start_time": "2024-10-22T21:07:50.925Z"
   },
   {
    "duration": 230,
    "start_time": "2024-10-22T21:07:50.930Z"
   },
   {
    "duration": 265,
    "start_time": "2024-10-22T21:07:51.162Z"
   },
   {
    "duration": 139,
    "start_time": "2024-10-22T21:07:51.431Z"
   },
   {
    "duration": 440,
    "start_time": "2024-10-22T21:07:51.572Z"
   },
   {
    "duration": 3,
    "start_time": "2024-10-22T21:07:52.014Z"
   },
   {
    "duration": 266,
    "start_time": "2024-10-22T21:07:52.019Z"
   },
   {
    "duration": 477,
    "start_time": "2024-10-22T21:07:52.287Z"
   },
   {
    "duration": 1483,
    "start_time": "2024-10-22T21:07:52.766Z"
   },
   {
    "duration": 14,
    "start_time": "2024-10-22T21:07:54.251Z"
   },
   {
    "duration": 1630,
    "start_time": "2024-10-22T21:07:54.267Z"
   },
   {
    "duration": 407,
    "start_time": "2024-10-22T21:07:55.899Z"
   },
   {
    "duration": 2159,
    "start_time": "2024-10-23T01:57:59.466Z"
   },
   {
    "duration": 148,
    "start_time": "2024-10-23T01:58:01.627Z"
   },
   {
    "duration": 59,
    "start_time": "2024-10-23T01:58:01.777Z"
   },
   {
    "duration": 6,
    "start_time": "2024-10-23T01:58:01.840Z"
   },
   {
    "duration": 6,
    "start_time": "2024-10-23T01:58:01.849Z"
   },
   {
    "duration": 929,
    "start_time": "2024-10-23T01:58:01.857Z"
   },
   {
    "duration": 6,
    "start_time": "2024-10-23T01:58:02.795Z"
   },
   {
    "duration": 4,
    "start_time": "2024-10-23T01:58:02.803Z"
   },
   {
    "duration": 4,
    "start_time": "2024-10-23T01:58:02.809Z"
   },
   {
    "duration": 4,
    "start_time": "2024-10-23T01:58:02.815Z"
   },
   {
    "duration": 4,
    "start_time": "2024-10-23T01:58:02.821Z"
   },
   {
    "duration": 141,
    "start_time": "2024-10-23T01:58:02.826Z"
   },
   {
    "duration": 146,
    "start_time": "2024-10-23T01:58:02.969Z"
   },
   {
    "duration": 11,
    "start_time": "2024-10-23T01:58:03.118Z"
   },
   {
    "duration": 129,
    "start_time": "2024-10-23T01:58:03.130Z"
   },
   {
    "duration": 107,
    "start_time": "2024-10-23T01:58:03.261Z"
   },
   {
    "duration": 66,
    "start_time": "2024-10-23T01:58:03.370Z"
   },
   {
    "duration": 13,
    "start_time": "2024-10-23T01:58:03.438Z"
   },
   {
    "duration": 5,
    "start_time": "2024-10-23T01:58:03.453Z"
   },
   {
    "duration": 30,
    "start_time": "2024-10-23T01:58:03.460Z"
   },
   {
    "duration": 12,
    "start_time": "2024-10-23T01:58:03.492Z"
   },
   {
    "duration": 24,
    "start_time": "2024-10-23T01:58:03.506Z"
   },
   {
    "duration": 8,
    "start_time": "2024-10-23T01:58:03.532Z"
   },
   {
    "duration": 6,
    "start_time": "2024-10-23T01:58:03.542Z"
   },
   {
    "duration": 21,
    "start_time": "2024-10-23T01:58:03.550Z"
   },
   {
    "duration": 5,
    "start_time": "2024-10-23T01:58:03.573Z"
   },
   {
    "duration": 814,
    "start_time": "2024-10-23T01:58:03.580Z"
   },
   {
    "duration": 238,
    "start_time": "2024-10-23T01:58:04.396Z"
   },
   {
    "duration": 168,
    "start_time": "2024-10-23T01:58:04.636Z"
   },
   {
    "duration": 17,
    "start_time": "2024-10-23T01:58:04.805Z"
   },
   {
    "duration": 11,
    "start_time": "2024-10-23T01:58:04.823Z"
   },
   {
    "duration": 7,
    "start_time": "2024-10-23T01:58:04.836Z"
   },
   {
    "duration": 26,
    "start_time": "2024-10-23T01:58:04.844Z"
   },
   {
    "duration": 6,
    "start_time": "2024-10-23T01:58:04.871Z"
   },
   {
    "duration": 5,
    "start_time": "2024-10-23T01:58:04.879Z"
   },
   {
    "duration": 6,
    "start_time": "2024-10-23T01:58:04.886Z"
   },
   {
    "duration": 7,
    "start_time": "2024-10-23T01:58:04.894Z"
   },
   {
    "duration": 6,
    "start_time": "2024-10-23T01:58:04.903Z"
   },
   {
    "duration": 16,
    "start_time": "2024-10-23T01:58:04.911Z"
   },
   {
    "duration": 68,
    "start_time": "2024-10-23T01:58:04.929Z"
   },
   {
    "duration": 12,
    "start_time": "2024-10-23T01:58:05.002Z"
   },
   {
    "duration": 3,
    "start_time": "2024-10-23T01:58:05.015Z"
   },
   {
    "duration": 9,
    "start_time": "2024-10-23T01:58:05.019Z"
   },
   {
    "duration": 6,
    "start_time": "2024-10-23T01:58:05.029Z"
   },
   {
    "duration": 92,
    "start_time": "2024-10-23T01:58:05.037Z"
   },
   {
    "duration": 12,
    "start_time": "2024-10-23T01:58:05.131Z"
   },
   {
    "duration": 41,
    "start_time": "2024-10-23T01:58:05.145Z"
   },
   {
    "duration": 6,
    "start_time": "2024-10-23T01:58:05.188Z"
   },
   {
    "duration": 4,
    "start_time": "2024-10-23T01:58:05.195Z"
   },
   {
    "duration": 4,
    "start_time": "2024-10-23T01:58:05.200Z"
   },
   {
    "duration": 3,
    "start_time": "2024-10-23T01:58:05.206Z"
   },
   {
    "duration": 203,
    "start_time": "2024-10-23T01:58:05.211Z"
   },
   {
    "duration": 124,
    "start_time": "2024-10-23T01:58:05.416Z"
   },
   {
    "duration": 243,
    "start_time": "2024-10-23T01:58:05.542Z"
   },
   {
    "duration": 9,
    "start_time": "2024-10-23T01:58:05.786Z"
   },
   {
    "duration": 4,
    "start_time": "2024-10-23T01:58:05.797Z"
   },
   {
    "duration": 3,
    "start_time": "2024-10-23T01:58:05.803Z"
   },
   {
    "duration": 249,
    "start_time": "2024-10-23T01:58:05.807Z"
   },
   {
    "duration": 46,
    "start_time": "2024-10-23T01:58:06.058Z"
   },
   {
    "duration": 4,
    "start_time": "2024-10-23T01:58:06.106Z"
   },
   {
    "duration": 195,
    "start_time": "2024-10-23T01:58:06.112Z"
   },
   {
    "duration": 712,
    "start_time": "2024-10-23T01:58:06.309Z"
   },
   {
    "duration": 479,
    "start_time": "2024-10-23T01:58:07.023Z"
   },
   {
    "duration": 3,
    "start_time": "2024-10-23T01:58:07.503Z"
   },
   {
    "duration": 230,
    "start_time": "2024-10-23T01:58:07.508Z"
   },
   {
    "duration": 270,
    "start_time": "2024-10-23T01:58:07.740Z"
   },
   {
    "duration": 141,
    "start_time": "2024-10-23T01:58:08.012Z"
   },
   {
    "duration": 438,
    "start_time": "2024-10-23T01:58:08.155Z"
   },
   {
    "duration": 2,
    "start_time": "2024-10-23T01:58:08.595Z"
   },
   {
    "duration": 207,
    "start_time": "2024-10-23T01:58:08.600Z"
   },
   {
    "duration": 468,
    "start_time": "2024-10-23T01:58:08.809Z"
   },
   {
    "duration": 1575,
    "start_time": "2024-10-23T01:58:09.279Z"
   },
   {
    "duration": 1793,
    "start_time": "2024-10-23T01:58:10.855Z"
   },
   {
    "duration": 458,
    "start_time": "2024-10-23T01:58:12.650Z"
   },
   {
    "duration": 98,
    "start_time": "2024-10-23T02:07:43.457Z"
   },
   {
    "duration": 101,
    "start_time": "2024-10-23T02:08:56.926Z"
   },
   {
    "duration": 97,
    "start_time": "2024-10-23T02:09:09.226Z"
   },
   {
    "duration": 107,
    "start_time": "2024-10-23T02:19:12.175Z"
   },
   {
    "duration": 95,
    "start_time": "2024-10-23T02:22:26.909Z"
   },
   {
    "duration": 112,
    "start_time": "2024-10-23T02:25:16.287Z"
   },
   {
    "duration": 2262,
    "start_time": "2024-10-23T03:08:44.738Z"
   },
   {
    "duration": 166,
    "start_time": "2024-10-23T03:08:47.002Z"
   },
   {
    "duration": 55,
    "start_time": "2024-10-23T03:08:47.169Z"
   },
   {
    "duration": 6,
    "start_time": "2024-10-23T03:08:47.227Z"
   },
   {
    "duration": 8,
    "start_time": "2024-10-23T03:08:47.235Z"
   },
   {
    "duration": 829,
    "start_time": "2024-10-23T03:08:47.244Z"
   },
   {
    "duration": 6,
    "start_time": "2024-10-23T03:08:48.074Z"
   },
   {
    "duration": 5,
    "start_time": "2024-10-23T03:08:48.081Z"
   },
   {
    "duration": 4,
    "start_time": "2024-10-23T03:08:48.088Z"
   },
   {
    "duration": 6,
    "start_time": "2024-10-23T03:08:48.111Z"
   },
   {
    "duration": 4,
    "start_time": "2024-10-23T03:08:48.118Z"
   },
   {
    "duration": 124,
    "start_time": "2024-10-23T03:08:48.124Z"
   },
   {
    "duration": 109,
    "start_time": "2024-10-23T03:08:48.250Z"
   },
   {
    "duration": 10,
    "start_time": "2024-10-23T03:08:48.361Z"
   },
   {
    "duration": 119,
    "start_time": "2024-10-23T03:08:48.373Z"
   },
   {
    "duration": 93,
    "start_time": "2024-10-23T03:08:48.494Z"
   },
   {
    "duration": 56,
    "start_time": "2024-10-23T03:08:48.589Z"
   },
   {
    "duration": 13,
    "start_time": "2024-10-23T03:08:48.647Z"
   },
   {
    "duration": 6,
    "start_time": "2024-10-23T03:08:48.662Z"
   },
   {
    "duration": 13,
    "start_time": "2024-10-23T03:08:48.669Z"
   },
   {
    "duration": 28,
    "start_time": "2024-10-23T03:08:48.684Z"
   },
   {
    "duration": 13,
    "start_time": "2024-10-23T03:08:48.714Z"
   },
   {
    "duration": 4,
    "start_time": "2024-10-23T03:08:48.728Z"
   },
   {
    "duration": 4,
    "start_time": "2024-10-23T03:08:48.733Z"
   },
   {
    "duration": 4,
    "start_time": "2024-10-23T03:08:48.739Z"
   },
   {
    "duration": 6,
    "start_time": "2024-10-23T03:08:48.744Z"
   },
   {
    "duration": 784,
    "start_time": "2024-10-23T03:08:48.751Z"
   },
   {
    "duration": 215,
    "start_time": "2024-10-23T03:08:49.540Z"
   },
   {
    "duration": 166,
    "start_time": "2024-10-23T03:08:49.757Z"
   },
   {
    "duration": 10,
    "start_time": "2024-10-23T03:08:49.925Z"
   },
   {
    "duration": 8,
    "start_time": "2024-10-23T03:08:49.936Z"
   },
   {
    "duration": 9,
    "start_time": "2024-10-23T03:08:49.946Z"
   },
   {
    "duration": 8,
    "start_time": "2024-10-23T03:08:49.957Z"
   },
   {
    "duration": 9,
    "start_time": "2024-10-23T03:08:49.967Z"
   },
   {
    "duration": 5,
    "start_time": "2024-10-23T03:08:49.977Z"
   },
   {
    "duration": 6,
    "start_time": "2024-10-23T03:08:50.012Z"
   },
   {
    "duration": 7,
    "start_time": "2024-10-23T03:08:50.020Z"
   },
   {
    "duration": 6,
    "start_time": "2024-10-23T03:08:50.028Z"
   },
   {
    "duration": 16,
    "start_time": "2024-10-23T03:08:50.036Z"
   },
   {
    "duration": 59,
    "start_time": "2024-10-23T03:08:50.053Z"
   },
   {
    "duration": 12,
    "start_time": "2024-10-23T03:08:50.113Z"
   },
   {
    "duration": 3,
    "start_time": "2024-10-23T03:08:50.126Z"
   },
   {
    "duration": 8,
    "start_time": "2024-10-23T03:08:50.131Z"
   },
   {
    "duration": 5,
    "start_time": "2024-10-23T03:08:50.141Z"
   },
   {
    "duration": 87,
    "start_time": "2024-10-23T03:08:50.147Z"
   },
   {
    "duration": 10,
    "start_time": "2024-10-23T03:08:50.236Z"
   },
   {
    "duration": 19,
    "start_time": "2024-10-23T03:08:50.247Z"
   },
   {
    "duration": 5,
    "start_time": "2024-10-23T03:08:50.268Z"
   },
   {
    "duration": 4,
    "start_time": "2024-10-23T03:08:50.274Z"
   },
   {
    "duration": 33,
    "start_time": "2024-10-23T03:08:50.281Z"
   },
   {
    "duration": 5,
    "start_time": "2024-10-23T03:08:50.315Z"
   },
   {
    "duration": 230,
    "start_time": "2024-10-23T03:08:50.322Z"
   },
   {
    "duration": 123,
    "start_time": "2024-10-23T03:08:50.554Z"
   },
   {
    "duration": 205,
    "start_time": "2024-10-23T03:08:50.679Z"
   },
   {
    "duration": 9,
    "start_time": "2024-10-23T03:08:50.886Z"
   },
   {
    "duration": 16,
    "start_time": "2024-10-23T03:08:50.897Z"
   },
   {
    "duration": 3,
    "start_time": "2024-10-23T03:08:50.914Z"
   },
   {
    "duration": 243,
    "start_time": "2024-10-23T03:08:50.919Z"
   },
   {
    "duration": 38,
    "start_time": "2024-10-23T03:08:51.164Z"
   },
   {
    "duration": 4,
    "start_time": "2024-10-23T03:08:51.211Z"
   },
   {
    "duration": 117,
    "start_time": "2024-10-23T03:08:51.217Z"
   },
   {
    "duration": 692,
    "start_time": "2024-10-23T03:08:51.335Z"
   },
   {
    "duration": 460,
    "start_time": "2024-10-23T03:08:52.029Z"
   },
   {
    "duration": 3,
    "start_time": "2024-10-23T03:08:52.491Z"
   },
   {
    "duration": 229,
    "start_time": "2024-10-23T03:08:52.495Z"
   },
   {
    "duration": 256,
    "start_time": "2024-10-23T03:08:52.726Z"
   },
   {
    "duration": 137,
    "start_time": "2024-10-23T03:08:52.984Z"
   },
   {
    "duration": 443,
    "start_time": "2024-10-23T03:08:53.123Z"
   },
   {
    "duration": 3,
    "start_time": "2024-10-23T03:08:53.568Z"
   },
   {
    "duration": 212,
    "start_time": "2024-10-23T03:08:53.573Z"
   },
   {
    "duration": 475,
    "start_time": "2024-10-23T03:08:53.787Z"
   },
   {
    "duration": 1515,
    "start_time": "2024-10-23T03:08:54.266Z"
   },
   {
    "duration": 109,
    "start_time": "2024-10-23T03:08:55.783Z"
   },
   {
    "duration": 106,
    "start_time": "2024-10-23T03:08:55.894Z"
   },
   {
    "duration": 160,
    "start_time": "2024-10-23T03:25:05.115Z"
   },
   {
    "duration": 2143,
    "start_time": "2024-10-23T03:25:21.635Z"
   },
   {
    "duration": 148,
    "start_time": "2024-10-23T03:25:23.781Z"
   },
   {
    "duration": 56,
    "start_time": "2024-10-23T03:25:23.931Z"
   },
   {
    "duration": 7,
    "start_time": "2024-10-23T03:25:23.990Z"
   },
   {
    "duration": 7,
    "start_time": "2024-10-23T03:25:23.998Z"
   },
   {
    "duration": 802,
    "start_time": "2024-10-23T03:25:24.007Z"
   },
   {
    "duration": 6,
    "start_time": "2024-10-23T03:25:24.811Z"
   },
   {
    "duration": 5,
    "start_time": "2024-10-23T03:25:24.819Z"
   },
   {
    "duration": 4,
    "start_time": "2024-10-23T03:25:24.826Z"
   },
   {
    "duration": 4,
    "start_time": "2024-10-23T03:25:24.833Z"
   },
   {
    "duration": 4,
    "start_time": "2024-10-23T03:25:24.839Z"
   },
   {
    "duration": 140,
    "start_time": "2024-10-23T03:25:24.845Z"
   },
   {
    "duration": 110,
    "start_time": "2024-10-23T03:25:24.987Z"
   },
   {
    "duration": 18,
    "start_time": "2024-10-23T03:25:25.099Z"
   },
   {
    "duration": 116,
    "start_time": "2024-10-23T03:25:25.119Z"
   },
   {
    "duration": 99,
    "start_time": "2024-10-23T03:25:25.237Z"
   },
   {
    "duration": 49,
    "start_time": "2024-10-23T03:25:25.338Z"
   },
   {
    "duration": 29,
    "start_time": "2024-10-23T03:25:25.389Z"
   },
   {
    "duration": 6,
    "start_time": "2024-10-23T03:25:25.420Z"
   },
   {
    "duration": 15,
    "start_time": "2024-10-23T03:25:25.428Z"
   },
   {
    "duration": 13,
    "start_time": "2024-10-23T03:25:25.445Z"
   },
   {
    "duration": 13,
    "start_time": "2024-10-23T03:25:25.459Z"
   },
   {
    "duration": 4,
    "start_time": "2024-10-23T03:25:25.474Z"
   },
   {
    "duration": 4,
    "start_time": "2024-10-23T03:25:25.509Z"
   },
   {
    "duration": 4,
    "start_time": "2024-10-23T03:25:25.515Z"
   },
   {
    "duration": 4,
    "start_time": "2024-10-23T03:25:25.521Z"
   },
   {
    "duration": 807,
    "start_time": "2024-10-23T03:25:25.527Z"
   },
   {
    "duration": 230,
    "start_time": "2024-10-23T03:25:26.339Z"
   },
   {
    "duration": 161,
    "start_time": "2024-10-23T03:25:26.570Z"
   },
   {
    "duration": 11,
    "start_time": "2024-10-23T03:25:26.733Z"
   },
   {
    "duration": 8,
    "start_time": "2024-10-23T03:25:26.745Z"
   },
   {
    "duration": 7,
    "start_time": "2024-10-23T03:25:26.755Z"
   },
   {
    "duration": 8,
    "start_time": "2024-10-23T03:25:26.763Z"
   },
   {
    "duration": 40,
    "start_time": "2024-10-23T03:25:26.773Z"
   },
   {
    "duration": 6,
    "start_time": "2024-10-23T03:25:26.815Z"
   },
   {
    "duration": 9,
    "start_time": "2024-10-23T03:25:26.823Z"
   },
   {
    "duration": 10,
    "start_time": "2024-10-23T03:25:26.835Z"
   },
   {
    "duration": 6,
    "start_time": "2024-10-23T03:25:26.847Z"
   },
   {
    "duration": 19,
    "start_time": "2024-10-23T03:25:26.855Z"
   },
   {
    "duration": 59,
    "start_time": "2024-10-23T03:25:26.875Z"
   },
   {
    "duration": 11,
    "start_time": "2024-10-23T03:25:26.935Z"
   },
   {
    "duration": 2,
    "start_time": "2024-10-23T03:25:26.948Z"
   },
   {
    "duration": 11,
    "start_time": "2024-10-23T03:25:26.952Z"
   },
   {
    "duration": 7,
    "start_time": "2024-10-23T03:25:26.964Z"
   },
   {
    "duration": 91,
    "start_time": "2024-10-23T03:25:26.972Z"
   },
   {
    "duration": 11,
    "start_time": "2024-10-23T03:25:27.065Z"
   },
   {
    "duration": 35,
    "start_time": "2024-10-23T03:25:27.078Z"
   },
   {
    "duration": 5,
    "start_time": "2024-10-23T03:25:27.115Z"
   },
   {
    "duration": 4,
    "start_time": "2024-10-23T03:25:27.122Z"
   },
   {
    "duration": 4,
    "start_time": "2024-10-23T03:25:27.127Z"
   },
   {
    "duration": 3,
    "start_time": "2024-10-23T03:25:27.133Z"
   },
   {
    "duration": 231,
    "start_time": "2024-10-23T03:25:27.138Z"
   },
   {
    "duration": 119,
    "start_time": "2024-10-23T03:25:27.370Z"
   },
   {
    "duration": 209,
    "start_time": "2024-10-23T03:25:27.490Z"
   },
   {
    "duration": 16,
    "start_time": "2024-10-23T03:25:27.701Z"
   },
   {
    "duration": 5,
    "start_time": "2024-10-23T03:25:27.719Z"
   },
   {
    "duration": 3,
    "start_time": "2024-10-23T03:25:27.725Z"
   },
   {
    "duration": 310,
    "start_time": "2024-10-23T03:25:27.733Z"
   },
   {
    "duration": 42,
    "start_time": "2024-10-23T03:25:28.045Z"
   },
   {
    "duration": 3,
    "start_time": "2024-10-23T03:25:28.089Z"
   },
   {
    "duration": 133,
    "start_time": "2024-10-23T03:25:28.094Z"
   },
   {
    "duration": 669,
    "start_time": "2024-10-23T03:25:28.230Z"
   },
   {
    "duration": 456,
    "start_time": "2024-10-23T03:25:28.900Z"
   },
   {
    "duration": 3,
    "start_time": "2024-10-23T03:25:29.358Z"
   },
   {
    "duration": 227,
    "start_time": "2024-10-23T03:25:29.363Z"
   },
   {
    "duration": 254,
    "start_time": "2024-10-23T03:25:29.592Z"
   },
   {
    "duration": 137,
    "start_time": "2024-10-23T03:25:29.848Z"
   },
   {
    "duration": 443,
    "start_time": "2024-10-23T03:25:29.986Z"
   },
   {
    "duration": 3,
    "start_time": "2024-10-23T03:25:30.430Z"
   },
   {
    "duration": 211,
    "start_time": "2024-10-23T03:25:30.434Z"
   },
   {
    "duration": 474,
    "start_time": "2024-10-23T03:25:30.647Z"
   },
   {
    "duration": 1534,
    "start_time": "2024-10-23T03:25:31.123Z"
   },
   {
    "duration": 114,
    "start_time": "2024-10-23T03:25:32.660Z"
   },
   {
    "duration": 116,
    "start_time": "2024-10-23T03:25:32.776Z"
   },
   {
    "duration": 115,
    "start_time": "2024-10-23T03:25:35.038Z"
   },
   {
    "duration": 127,
    "start_time": "2024-10-23T03:25:40.743Z"
   },
   {
    "duration": 107,
    "start_time": "2024-10-23T03:25:52.774Z"
   },
   {
    "duration": 156,
    "start_time": "2024-10-23T03:26:26.762Z"
   },
   {
    "duration": 141,
    "start_time": "2024-10-23T03:26:37.701Z"
   }
  ],
  "colab": {
   "provenance": []
  },
  "kernelspec": {
   "display_name": "Python 3 (ipykernel)",
   "language": "python",
   "name": "python3"
  },
  "language_info": {
   "codemirror_mode": {
    "name": "ipython",
    "version": 3
   },
   "file_extension": ".py",
   "mimetype": "text/x-python",
   "name": "python",
   "nbconvert_exporter": "python",
   "pygments_lexer": "ipython3",
   "version": "3.9.19"
  },
  "toc": {
   "base_numbering": 1,
   "nav_menu": {},
   "number_sections": true,
   "sideBar": true,
   "skip_h1_title": true,
   "title_cell": "Table of Contents",
   "title_sidebar": "Contents",
   "toc_cell": false,
   "toc_position": {},
   "toc_section_display": true,
   "toc_window_display": false
  },
  "vscode": {
   "interpreter": {
    "hash": "01a7be9ec63e704a62cefc5fe7a4756944464ee731be31632bdf42a4cb4688cf"
   }
  }
 },
 "nbformat": 4,
 "nbformat_minor": 5
}
